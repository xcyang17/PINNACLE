{
 "cells": [
  {
   "cell_type": "code",
   "execution_count": 1,
   "id": "10476dd8",
   "metadata": {},
   "outputs": [
    {
     "name": "stdout",
     "output_type": "stream",
     "text": [
      "/home/yang1641/PINNACLE/finetune_pinnacle\n"
     ]
    }
   ],
   "source": [
    "cd /home/yang1641/PINNACLE/finetune_pinnacle"
   ]
  },
  {
   "cell_type": "code",
   "execution_count": 2,
   "id": "c48fef9d",
   "metadata": {},
   "outputs": [
    {
     "name": "stderr",
     "output_type": "stream",
     "text": [
      "/home/yang1641/.conda/envs/pinnacle/lib/python3.8/site-packages/tqdm/auto.py:22: TqdmWarning: IProgress not found. Please update jupyter and ipywidgets. See https://ipywidgets.readthedocs.io/en/stable/user_install.html\n",
      "  from .autonotebook import tqdm as notebook_tqdm\n"
     ]
    }
   ],
   "source": [
    "import pandas as pd\n",
    "import numpy as np\n",
    "import os, wandb, random\n",
    "\n",
    "from setup import create_parser, get_hparams, setup_paths\n",
    "from read_data import load_data\n",
    "from train_utils import training_and_validation\n",
    "from metrics_utils import get_metrics, save_torch_train_val_preds, save_results\n",
    "from data_prep import process_and_split_data\n",
    "\n",
    "import torch\n",
    "from sklearn.model_selection import StratifiedGroupKFold\n",
    "from sklearn.utils import shuffle\n",
    "os.environ['OPENBLAS_NUM_THREADS'] = '1'\n"
   ]
  },
  {
   "cell_type": "code",
   "execution_count": null,
   "id": "36725275",
   "metadata": {},
   "outputs": [],
   "source": [
    "# python train.py \\\n",
    "#     --task_name EFO_0000685 \\\n",
    "#     --embeddings_dir ../data/pinnacle_embeds/ \\\n",
    "#     --embed pinnacle \\\n",
    "#     --positive_proteins_prefix ../data/therapeutic_target_task/positive_proteins_EFO_0000685 \\\n",
    "#     --negative_proteins_prefix ../data/therapeutic_target_task/negative_proteins_EFO_0000685 \\\n",
    "#     --data_split_path ../data/therapeutic_target_task/data_split_EFO_0000685"
   ]
  },
  {
   "cell_type": "code",
   "execution_count": null,
   "id": "c77dcbd5",
   "metadata": {},
   "outputs": [],
   "source": [
    "# see https://github.com/mims-harvard/PINNACLE/blob/main/pinnacle/run_pinnacle.sh\n",
    "# and https://github.com/mims-harvard/PINNACLE/blob/main/pinnacle/parse_args.py\n",
    "\n",
    "args_manual = {\n",
    "    'pc_att_channels': 16,\n",
    "    'feat_mat': 1024, \n",
    "    'output': 16,\n",
    "    'hidden': 64,\n",
    "    'lr': 0.01,\n",
    "    'wd': 5e-4,\n",
    "    'dropout': 0.6,\n",
    "    'gradclip': 1.0,\n",
    "    'n_heads': 8,\n",
    "    'lmbda': 0.1,\n",
    "    'theta': 0.3,\n",
    "    'lr_cent': 0.1,\n",
    "    'loss_type': \"BCE\",\n",
    "    'plot': False,\n",
    "    'G_f': '/scratch/gilbreth/yang1641/exome/data/PINNACLE/networks/global_ppi_edgelist.txt', \n",
    "    'ppi_dir': '/scratch/gilbreth/yang1641/exome/data/PINNACLE/networks/ppi_edgelists/', \n",
    "    'mg_f': '/scratch/gilbreth/yang1641/exome/data/PINNACLE/networks/mg_edgelist.txt', \n",
    "    'epochs': 10, \n",
    "    'resume_run': '', \n",
    "    'loader': 'graphsaint', \n",
    "    'batch_size': 8, \n",
    "    'norm': None,\n",
    "    'save_prefix': '/scratch/gilbreth/yang1641/exome/results/pinnacle/reproduce/epoch10/try1'\n",
    "              }"
   ]
  },
  {
   "cell_type": "code",
   "execution_count": null,
   "id": "fb1845ef",
   "metadata": {},
   "outputs": [],
   "source": []
  },
  {
   "cell_type": "code",
   "execution_count": null,
   "id": "38a53078",
   "metadata": {},
   "outputs": [],
   "source": []
  },
  {
   "cell_type": "code",
   "execution_count": null,
   "id": "83eceb53",
   "metadata": {},
   "outputs": [],
   "source": []
  },
  {
   "cell_type": "code",
   "execution_count": null,
   "id": "5e12805b",
   "metadata": {},
   "outputs": [],
   "source": []
  }
 ],
 "metadata": {
  "kernelspec": {
   "display_name": "Python (pinnacle)",
   "language": "python",
   "name": "pinnacle"
  },
  "language_info": {
   "codemirror_mode": {
    "name": "ipython",
    "version": 3
   },
   "file_extension": ".py",
   "mimetype": "text/x-python",
   "name": "python",
   "nbconvert_exporter": "python",
   "pygments_lexer": "ipython3",
   "version": "3.8.13"
  }
 },
 "nbformat": 4,
 "nbformat_minor": 5
}
