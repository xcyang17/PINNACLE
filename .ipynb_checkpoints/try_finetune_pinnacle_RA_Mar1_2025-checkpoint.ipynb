{
 "cells": [
  {
   "cell_type": "markdown",
   "id": "2e98b8aa",
   "metadata": {},
   "source": [
    "# finetune\n",
    "\n",
    "https://github.com/mims-harvard/PINNACLE/blob/e3d2fced3bb812141e76a947351e25fbafb7ce6b/finetune_pinnacle/README.md"
   ]
  },
  {
   "cell_type": "code",
   "execution_count": 1,
   "id": "10476dd8",
   "metadata": {
    "scrolled": true
   },
   "outputs": [
    {
     "name": "stdout",
     "output_type": "stream",
     "text": [
      "/home/yang1641/PINNACLE/finetune_pinnacle\n"
     ]
    }
   ],
   "source": [
    "cd /home/yang1641/PINNACLE/finetune_pinnacle"
   ]
  },
  {
   "cell_type": "code",
   "execution_count": 2,
   "id": "c48fef9d",
   "metadata": {},
   "outputs": [
    {
     "name": "stderr",
     "output_type": "stream",
     "text": [
      "/home/yang1641/.conda/envs/pinnacle/lib/python3.8/site-packages/tqdm/auto.py:22: TqdmWarning: IProgress not found. Please update jupyter and ipywidgets. See https://ipywidgets.readthedocs.io/en/stable/user_install.html\n",
      "  from .autonotebook import tqdm as notebook_tqdm\n"
     ]
    }
   ],
   "source": [
    "import pandas as pd\n",
    "import numpy as np\n",
    "import os, wandb, random\n",
    "\n",
    "from setup import create_parser, get_hparams, setup_paths\n",
    "from read_data import load_data\n",
    "from train_utils import training_and_validation\n",
    "from metrics_utils import get_metrics, save_torch_train_val_preds, save_results\n",
    "from data_prep import process_and_split_data\n",
    "\n",
    "import torch\n",
    "from sklearn.model_selection import StratifiedGroupKFold\n",
    "from sklearn.utils import shuffle\n",
    "os.environ['OPENBLAS_NUM_THREADS'] = '1'\n"
   ]
  },
  {
   "cell_type": "code",
   "execution_count": 3,
   "id": "36725275",
   "metadata": {},
   "outputs": [],
   "source": [
    "# python train.py \\\n",
    "#     --task_name EFO_0000685 \\\n",
    "#     --embeddings_dir ../data/pinnacle_embeds/ \\\n",
    "#     --embed pinnacle \\\n",
    "#     --positive_proteins_prefix ../data/therapeutic_target_task/positive_proteins_EFO_0000685 \\\n",
    "#     --negative_proteins_prefix ../data/therapeutic_target_task/negative_proteins_EFO_0000685 \\\n",
    "#     --data_split_path ../data/therapeutic_target_task/data_split_EFO_0000685"
   ]
  },
  {
   "cell_type": "markdown",
   "id": "092c0064",
   "metadata": {},
   "source": [
    "print(args)"
   ]
  },
  {
   "cell_type": "code",
   "execution_count": 4,
   "id": "08db4f38",
   "metadata": {},
   "outputs": [
    {
     "ename": "IndentationError",
     "evalue": "expected an indented block (1182509468.py, line 2)",
     "output_type": "error",
     "traceback": [
      "\u001b[0;36m  Cell \u001b[0;32mIn[4], line 2\u001b[0;36m\u001b[0m\n\u001b[0;31m    Namespace(\u001b[0m\n\u001b[0m    ^\u001b[0m\n\u001b[0;31mIndentationError\u001b[0m\u001b[0;31m:\u001b[0m expected an indented block\n"
     ]
    }
   ],
   "source": [
    "if False:\n",
    "Namespace(\n",
    "    actn='relu', batch_size=None, \n",
    "    data_split_path='/scratch/gilbreth/yang1641/exome/data/PINNACLE/therapeutic_target_task/data_split_EFO_0000685', \n",
    "    dropout=0, embed='pinnacle', \n",
    "    embeddings_dir='/scratch/gilbreth/yang1641/exome/data/PINNACLE/pinnacle_embeds/', \n",
    "    hidden_dim_1=64, hidden_dim_2=32, hidden_dim_3=0, lr=0.0001, \n",
    "    metrics_output_dir='./tmp_evaluation_results/', \n",
    "    models_output_dir='./tmp_model_outputs/', \n",
    "    negative_proteins_prefix='/scratch/gilbreth/yang1641/exome/data/PINNACLE/therapeutic_target_task/negative_proteins_EFO_0000685', \n",
    "    norm=None, num_epoch=1, order='nd', overwrite=False, \n",
    "    positive_proteins_prefix='/scratch/gilbreth/yang1641/exome/data/PINNACLE/therapeutic_target_task/positive_proteins_EFO_0000685', \n",
    "    random=False, random_state=1, task_name='EFO_0000685', \n",
    "    train_size=0.6, val_size=0.2, wd=0.0001, weigh_loss=False, weigh_sample=False)"
   ]
  },
  {
   "cell_type": "code",
   "execution_count": 5,
   "id": "f9a07780",
   "metadata": {},
   "outputs": [],
   "source": [
    "# see https://github.com/mims-harvard/PINNACLE/blob/main/pinnacle/run_pinnacle.sh\n",
    "# and https://github.com/mims-harvard/PINNACLE/blob/main/pinnacle/parse_args.py\n",
    "\n",
    "args_manual = {\n",
    "    'actn':'relu', 'batch_size':None, \n",
    "    'data_split_path':'/scratch/gilbreth/yang1641/exome/data/PINNACLE/therapeutic_target_task/data_split_EFO_0000685', \n",
    "    'dropout':0, \n",
    "#     'embed':'pinnacle', \n",
    "#     'embeddings_dir':'/scratch/gilbreth/yang1641/exome/data/PINNACLE/pinnacle_embeds/', \n",
    "    'embed': 'try1', \n",
    "    'embeddings_dir': '/scratch/gilbreth/yang1641/exome/results/pinnacle/reproduce/epoch250/', \n",
    "    'hidden_dim_1':64, 'hidden_dim_2':32, 'hidden_dim_3':0, 'lr':0.0001, \n",
    "#     'metrics_output_dir':'./tmp_evaluation_results/', \n",
    "#     'models_output_dir':'./tmp_model_outputs/', \n",
    "    'metrics_output_dir': '/scratch/gilbreth/yang1641/exome/results/pinnacle/reproduce/epoch250/tmp_evaluation_results', \n",
    "    'models_output_dir': '/scratch/gilbreth/yang1641/exome/results/pinnacle/reproduce/epoch250/tmp_model_outputs', \n",
    "    'negative_proteins_prefix':'/scratch/gilbreth/yang1641/exome/data/PINNACLE/therapeutic_target_task/negative_proteins_EFO_0000685', \n",
    "    'norm':None, 'num_epoch':1, 'order':'nd', 'overwrite':False, \n",
    "    'positive_proteins_prefix':'/scratch/gilbreth/yang1641/exome/data/PINNACLE/therapeutic_target_task/positive_proteins_EFO_0000685', \n",
    "    'random':False, 'random_state':1, 'task_name':'EFO_0000685', \n",
    "    'train_size':0.6, 'val_size':0.2, 'wd':0.0001, 'weigh_loss':False, 'weigh_sample':False\n",
    "              }"
   ]
  },
  {
   "cell_type": "markdown",
   "id": "979ee8b2",
   "metadata": {},
   "source": [
    "## second try: try changing the args according to pinnacle github\n",
    "\n",
    "https://github.com/mims-harvard/PINNACLE/blob/main/finetune_pinnacle/run_model.sh"
   ]
  },
  {
   "cell_type": "code",
   "execution_count": 7,
   "id": "653d31e9",
   "metadata": {},
   "outputs": [],
   "source": [
    "# see https://github.com/mims-harvard/PINNACLE/blob/main/pinnacle/run_pinnacle.sh\n",
    "# and https://github.com/mims-harvard/PINNACLE/blob/main/pinnacle/parse_args.py\n",
    "\n",
    "args_manual = {\n",
    "    'actn':'relu', \n",
    "    'batch_size': None, \n",
    "    'data_split_path': '/scratch/gilbreth/yang1641/exome/data/PINNACLE/therapeutic_target_task/data_split_EFO_0000685', \n",
    "    'dropout': 0.2,  \n",
    "    'embed': 'try1', \n",
    "    'embeddings_dir': '/scratch/gilbreth/yang1641/exome/results/pinnacle/reproduce/epoch250/', \n",
    "    'hidden_dim_1': 32, \n",
    "    'hidden_dim_2': 8, \n",
    "    'hidden_dim_3': 0, \n",
    "    'lr': 0.01, \n",
    "    'metrics_output_dir': '/scratch/gilbreth/yang1641/exome/results/pinnacle/reproduce/epoch250/tmp_evaluation_results', \n",
    "    'models_output_dir': '/scratch/gilbreth/yang1641/exome/results/pinnacle/reproduce/epoch250/tmp_model_outputs', \n",
    "    'negative_proteins_prefix':'/scratch/gilbreth/yang1641/exome/data/PINNACLE/therapeutic_target_task/negative_proteins_EFO_0000685', \n",
    "    'norm':'bn', \n",
    "    'num_epoch':2000, \n",
    "    'order':'dn', \n",
    "    'overwrite':False, \n",
    "    'positive_proteins_prefix':'/scratch/gilbreth/yang1641/exome/data/PINNACLE/therapeutic_target_task/positive_proteins_EFO_0000685', \n",
    "    'random':False, \n",
    "    'random_state':1, 'task_name':'EFO_0000685', \n",
    "    'train_size':0.6, 'val_size':0.2, \n",
    "    'wd':0.001, 'weigh_loss':False, 'weigh_sample':False\n",
    "              }"
   ]
  },
  {
   "cell_type": "code",
   "execution_count": 8,
   "id": "199f7e9f",
   "metadata": {},
   "outputs": [
    {
     "name": "stdout",
     "output_type": "stream",
     "text": [
      "Namespace(actn='relu', batch_size=None, data_split_path='/scratch/gilbreth/yang1641/exome/data/PINNACLE/therapeutic_target_task/data_split_EFO_0000685', dropout=0.2, embed='try1', embeddings_dir='/scratch/gilbreth/yang1641/exome/results/pinnacle/reproduce/epoch250/', hidden_dim_1=32, hidden_dim_2=8, hidden_dim_3=0, lr=0.01, metrics_output_dir='/scratch/gilbreth/yang1641/exome/results/pinnacle/reproduce/epoch250/tmp_evaluation_results', models_output_dir='/scratch/gilbreth/yang1641/exome/results/pinnacle/reproduce/epoch250/tmp_model_outputs', negative_proteins_prefix='/scratch/gilbreth/yang1641/exome/data/PINNACLE/therapeutic_target_task/negative_proteins_EFO_0000685', norm='bn', num_epoch=2000, order='dn', overwrite=False, positive_proteins_prefix='/scratch/gilbreth/yang1641/exome/data/PINNACLE/therapeutic_target_task/positive_proteins_EFO_0000685', random=False, random_state=1, task_name='EFO_0000685', train_size=0.6, val_size=0.2, wd=0.001, weigh_loss=False, weigh_sample=False)\n"
     ]
    }
   ],
   "source": [
    "import argparse\n",
    "\n",
    "# Convert dictionary to argparse Namespace\n",
    "args = argparse.Namespace(**args_manual)\n",
    "\n",
    "type(args)\n",
    "print(args)"
   ]
  },
  {
   "cell_type": "code",
   "execution_count": 9,
   "id": "c322abb4",
   "metadata": {},
   "outputs": [
    {
     "data": {
      "text/plain": [
       "False"
      ]
     },
     "execution_count": 9,
     "metadata": {},
     "output_type": "execute_result"
    }
   ],
   "source": [
    "args.random"
   ]
  },
  {
   "cell_type": "code",
   "execution_count": 10,
   "id": "b0d8f799",
   "metadata": {},
   "outputs": [],
   "source": [
    "if not args.random:\n",
    "    np.random.seed(args.random_state)\n",
    "    random.seed(args.random_state)\n",
    "    torch.manual_seed(args.random_state)\n",
    "    torch.cuda.manual_seed(args.random_state)\n",
    "    torch.backends.cudnn.deterministic = True"
   ]
  },
  {
   "cell_type": "code",
   "execution_count": 11,
   "id": "475e5167",
   "metadata": {},
   "outputs": [
    {
     "name": "stdout",
     "output_type": "stream",
     "text": [
      "{'lr': 0.01, 'wd': 0.001, 'hidden_dim_1': 32, 'hidden_dim_2': 8, 'hidden_dim_3': 0, 'dropout': 0.2, 'actn': 'relu', 'order': 'dn', 'norm': 'bn', 'task_name': 'EFO_0000685'}\n"
     ]
    }
   ],
   "source": [
    "hparams = get_hparams(args)\n",
    "print(hparams)"
   ]
  },
  {
   "cell_type": "code",
   "execution_count": 12,
   "id": "fd81e5d0",
   "metadata": {},
   "outputs": [
    {
     "name": "stderr",
     "output_type": "stream",
     "text": [
      "Failed to detect the name of this notebook, you can set it manually with the WANDB_NOTEBOOK_NAME environment variable to enable code saving.\n",
      "\u001b[34m\u001b[1mwandb\u001b[0m: Currently logged in as: \u001b[33myang1641\u001b[0m (\u001b[33myang1641-purdue-university\u001b[0m). Use \u001b[1m`wandb login --relogin`\u001b[0m to force relogin\n",
      "\u001b[34m\u001b[1mwandb\u001b[0m: \u001b[33mWARNING\u001b[0m If you're specifying your api key in code, ensure this code is not shared publicly.\n",
      "\u001b[34m\u001b[1mwandb\u001b[0m: \u001b[33mWARNING\u001b[0m Consider setting the WANDB_API_KEY environment variable, or running `wandb login` from the command line.\n",
      "\u001b[34m\u001b[1mwandb\u001b[0m: Appending key for api.wandb.ai to your netrc file: /home/yang1641/.netrc\n"
     ]
    },
    {
     "data": {
      "text/html": [
       "wandb version 0.19.7 is available!  To upgrade, please run:\n",
       " $ pip install wandb --upgrade"
      ],
      "text/plain": [
       "<IPython.core.display.HTML object>"
      ]
     },
     "metadata": {},
     "output_type": "display_data"
    },
    {
     "data": {
      "text/html": [
       "Tracking run with wandb version 0.13.4"
      ],
      "text/plain": [
       "<IPython.core.display.HTML object>"
      ]
     },
     "metadata": {},
     "output_type": "display_data"
    },
    {
     "data": {
      "text/html": [
       "Run data is saved locally in <code>/home/yang1641/PINNACLE/finetune_pinnacle/wandb/run-20250302_175713-332rb4hf</code>"
      ],
      "text/plain": [
       "<IPython.core.display.HTML object>"
      ]
     },
     "metadata": {},
     "output_type": "display_data"
    },
    {
     "data": {
      "text/html": [
       "Syncing run <strong><a href=\"https://wandb.ai/yang1641-purdue-university/pinnacle_finetune/runs/332rb4hf\" target=\"_blank\">lilac-butterfly-16</a></strong> to <a href=\"https://wandb.ai/yang1641-purdue-university/pinnacle_finetune\" target=\"_blank\">Weights & Biases</a> (<a href=\"https://wandb.me/run\" target=\"_blank\">docs</a>)<br/>"
      ],
      "text/plain": [
       "<IPython.core.display.HTML object>"
      ]
     },
     "metadata": {},
     "output_type": "display_data"
    }
   ],
   "source": [
    "wandb.login(key=\"f362484a2783a681fd551a00093aad3ce3139d4a\")\n",
    "wandb.init(config=hparams, project=\"pinnacle_finetune\", allow_val_change=True)\n",
    "hparams = wandb.config"
   ]
  },
  {
   "cell_type": "markdown",
   "id": "b0939113",
   "metadata": {},
   "source": [
    "inside main() function"
   ]
  },
  {
   "cell_type": "code",
   "execution_count": 13,
   "id": "d029e2cd",
   "metadata": {},
   "outputs": [],
   "source": [
    "# Set up model environment and data/model paths\n",
    "models_output_dir, metrics_output_dir, random_state, embed_path, labels_path = setup_paths(args)"
   ]
  },
  {
   "cell_type": "code",
   "execution_count": 14,
   "id": "58227c3c",
   "metadata": {},
   "outputs": [
    {
     "data": {
      "text/plain": [
       "'/scratch/gilbreth/yang1641/exome/results/pinnacle/reproduce/epoch250/tmp_model_outputstry1_seed=1/'"
      ]
     },
     "execution_count": 14,
     "metadata": {},
     "output_type": "execute_result"
    }
   ],
   "source": [
    "models_output_dir"
   ]
  },
  {
   "cell_type": "code",
   "execution_count": 15,
   "id": "7226fb09",
   "metadata": {},
   "outputs": [
    {
     "data": {
      "text/plain": [
       "'/scratch/gilbreth/yang1641/exome/results/pinnacle/reproduce/epoch250/tmp_evaluation_resultstry1_seed=1/'"
      ]
     },
     "execution_count": 15,
     "metadata": {},
     "output_type": "execute_result"
    }
   ],
   "source": [
    "metrics_output_dir"
   ]
  },
  {
   "cell_type": "code",
   "execution_count": 16,
   "id": "e0e462a6",
   "metadata": {},
   "outputs": [
    {
     "data": {
      "text/plain": [
       "'/scratch/gilbreth/yang1641/exome/results/pinnacle/reproduce/epoch250/EFO_0000685/tmp_model_outputstry1_seed=1'"
      ]
     },
     "execution_count": 16,
     "metadata": {},
     "output_type": "execute_result"
    }
   ],
   "source": [
    "models_output_dir = '/'.join(models_output_dir.split('/')[:-2] + [args.task_name] + [models_output_dir.split('/')[-2]])\n",
    "models_output_dir"
   ]
  },
  {
   "cell_type": "code",
   "execution_count": 17,
   "id": "e26d19a1",
   "metadata": {},
   "outputs": [
    {
     "data": {
      "text/plain": [
       "'/scratch/gilbreth/yang1641/exome/results/pinnacle/reproduce/epoch250/EFO_0000685/tmp_evaluation_resultstry1_seed=1'"
      ]
     },
     "execution_count": 17,
     "metadata": {},
     "output_type": "execute_result"
    }
   ],
   "source": [
    "metrics_output_dir = '/'.join(metrics_output_dir.split('/')[:-2] + [args.task_name] + [metrics_output_dir.split('/')[-2]])\n",
    "metrics_output_dir"
   ]
  },
  {
   "cell_type": "code",
   "execution_count": 63,
   "id": "0c2177ef",
   "metadata": {},
   "outputs": [
    {
     "name": "stdout",
     "output_type": "stream",
     "text": [
      "Finished reading data, evaluating...\n",
      "\n"
     ]
    }
   ],
   "source": [
    "# Load data\n",
    "embed, celltype_dict, celltype_protein_dict, positive_proteins, negative_proteins, _ = load_data(embed_path, labels_path, args.positive_proteins_prefix, args.negative_proteins_prefix, None, args.task_name)\n",
    "print(\"Finished reading data, evaluating...\\n\")"
   ]
  },
  {
   "cell_type": "code",
   "execution_count": 64,
   "id": "fc50c9a6",
   "metadata": {},
   "outputs": [],
   "source": [
    "from train import run_finetune"
   ]
  },
  {
   "cell_type": "code",
   "execution_count": null,
   "id": "38a53078",
   "metadata": {},
   "outputs": [
    {
     "name": "stdout",
     "output_type": "stream",
     "text": [
      "torch.Size([2386, 128])\n",
      "torch.Size([3099, 128])\n",
      "torch.Size([2763, 128])\n",
      "torch.Size([1201, 128])\n",
      "torch.Size([3171, 128])\n",
      "torch.Size([1180, 128])\n",
      "torch.Size([3182, 128])\n",
      "torch.Size([3036, 128])\n",
      "torch.Size([3198, 128])\n",
      "torch.Size([1412, 128])\n",
      "torch.Size([3312, 128])\n",
      "torch.Size([1394, 128])\n",
      "torch.Size([2066, 128])\n",
      "torch.Size([3247, 128])\n",
      "torch.Size([3296, 128])\n",
      "torch.Size([3049, 128])\n",
      "torch.Size([1837, 128])\n",
      "torch.Size([1272, 128])\n",
      "torch.Size([1067, 128])\n",
      "torch.Size([1772, 128])\n",
      "torch.Size([1854, 128])\n",
      "torch.Size([2891, 128])\n",
      "torch.Size([3151, 128])\n",
      "torch.Size([2576, 128])\n",
      "torch.Size([3078, 128])\n",
      "torch.Size([3039, 128])\n",
      "torch.Size([2140, 128])\n",
      "torch.Size([2748, 128])\n",
      "torch.Size([3112, 128])\n",
      "torch.Size([2164, 128])\n",
      "torch.Size([3290, 128])\n",
      "torch.Size([2952, 128])\n",
      "torch.Size([2048, 128])\n",
      "torch.Size([1597, 128])\n",
      "torch.Size([1296, 128])\n",
      "torch.Size([3443, 128])\n",
      "torch.Size([2628, 128])\n",
      "torch.Size([2821, 128])\n",
      "torch.Size([2850, 128])\n",
      "torch.Size([3176, 128])\n",
      "torch.Size([2907, 128])\n",
      "torch.Size([2142, 128])\n",
      "torch.Size([3038, 128])\n",
      "torch.Size([2163, 128])\n",
      "torch.Size([1320, 128])\n",
      "torch.Size([1943, 128])\n",
      "torch.Size([2818, 128])\n",
      "torch.Size([1531, 128])\n",
      "torch.Size([3168, 128])\n",
      "torch.Size([3312, 128])\n",
      "torch.Size([2140, 128])\n",
      "torch.Size([1297, 128])\n",
      "torch.Size([3197, 128])\n",
      "torch.Size([2472, 128])\n",
      "torch.Size([1826, 128])\n",
      "torch.Size([1990, 128])\n",
      "torch.Size([3300, 128])\n",
      "torch.Size([1781, 128])\n",
      "torch.Size([2919, 128])\n",
      "torch.Size([3024, 128])\n",
      "torch.Size([2748, 128])\n",
      "torch.Size([2952, 128])\n",
      "torch.Size([3101, 128])\n",
      "torch.Size([1578, 128])\n",
      "torch.Size([1435, 128])\n",
      "torch.Size([2585, 128])\n",
      "torch.Size([3072, 128])\n",
      "torch.Size([1153, 128])\n",
      "torch.Size([3239, 128])\n",
      "torch.Size([2848, 128])\n",
      "torch.Size([1557, 128])\n",
      "torch.Size([2844, 128])\n",
      "torch.Size([2866, 128])\n",
      "torch.Size([3217, 128])\n",
      "torch.Size([2909, 128])\n",
      "torch.Size([2323, 128])\n",
      "torch.Size([3065, 128])\n",
      "torch.Size([1215, 128])\n",
      "torch.Size([3203, 128])\n",
      "torch.Size([2747, 128])\n",
      "torch.Size([2472, 128])\n",
      "torch.Size([2738, 128])\n",
      "torch.Size([3094, 128])\n",
      "torch.Size([2627, 128])\n",
      "torch.Size([1908, 128])\n",
      "torch.Size([3023, 128])\n",
      "torch.Size([3113, 128])\n",
      "torch.Size([2988, 128])\n",
      "torch.Size([1103, 128])\n",
      "torch.Size([1450, 128])\n",
      "torch.Size([3299, 128])\n",
      "torch.Size([2746, 128])\n",
      "torch.Size([1920, 128])\n",
      "torch.Size([2834, 128])\n",
      "torch.Size([3211, 128])\n",
      "torch.Size([2606, 128])\n",
      "torch.Size([2866, 128])\n",
      "torch.Size([2833, 128])\n",
      "torch.Size([2356, 128])\n",
      "torch.Size([2206, 128])\n",
      "torch.Size([3196, 128])\n",
      "torch.Size([3258, 128])\n",
      "torch.Size([3337, 128])\n",
      "torch.Size([2026, 128])\n",
      "torch.Size([2807, 128])\n",
      "torch.Size([2478, 128])\n",
      "torch.Size([2429, 128])\n",
      "torch.Size([1080, 128])\n",
      "torch.Size([1291, 128])\n",
      "torch.Size([1457, 128])\n",
      "torch.Size([1393, 128])\n",
      "torch.Size([2986, 128])\n",
      "torch.Size([2629, 128])\n",
      "torch.Size([2247, 128])\n",
      "torch.Size([2742, 128])\n",
      "torch.Size([2869, 128])\n",
      "torch.Size([3054, 128])\n",
      "torch.Size([1397, 128])\n",
      "torch.Size([3110, 128])\n",
      "torch.Size([1965, 128])\n",
      "torch.Size([2695, 128])\n",
      "torch.Size([2986, 128])\n",
      "torch.Size([3178, 128])\n",
      "torch.Size([3041, 128])\n",
      "torch.Size([2545, 128])\n",
      "torch.Size([2784, 128])\n",
      "torch.Size([3384, 128])\n",
      "torch.Size([2246, 128])\n",
      "torch.Size([3092, 128])\n",
      "torch.Size([2939, 128])\n",
      "torch.Size([2361, 128])\n",
      "torch.Size([2832, 128])\n",
      "torch.Size([3176, 128])\n",
      "torch.Size([1461, 128])\n",
      "torch.Size([2225, 128])\n",
      "torch.Size([3424, 128])\n",
      "torch.Size([3015, 128])\n",
      "torch.Size([3134, 128])\n",
      "torch.Size([2954, 128])\n",
      "torch.Size([2741, 128])\n",
      "torch.Size([1862, 128])\n",
      "torch.Size([1804, 128])\n",
      "torch.Size([3186, 128])\n",
      "torch.Size([2635, 128])\n",
      "torch.Size([3091, 128])\n",
      "torch.Size([2028, 128])\n",
      "torch.Size([2747, 128])\n",
      "torch.Size([1382, 128])\n",
      "torch.Size([2965, 128])\n",
      "torch.Size([3158, 128])\n",
      "torch.Size([3031, 128])\n",
      "torch.Size([1007, 128])\n",
      "torch.Size([2975, 128])\n",
      "torch.Size([3228, 128])\n",
      "torch.Size([2495, 128])\n",
      "torch.Size([3070, 128])\n",
      "Checking for... /scratch/gilbreth/yang1641/exome/data/PINNACLE/therapeutic_target_task/data_split_EFO_0003767.json\n",
      "Data split file found. Loading data splits...\n",
      "Finished loading data splits.\n",
      "Cell type has only negative examples: acinar cell of salivary gland\n",
      "Cell type has only negative examples: fast muscle cell\n",
      "Cell type has only negative examples: myoepithelial cell\n",
      "Cell type has only negative examples: tongue muscle cell\n",
      "/scratch/gilbreth/yang1641/exome/data/PINNACLE/therapeutic_target_task/data_split_EFO_0003767_name.json\n"
     ]
    },
    {
     "name": "stderr",
     "output_type": "stream",
     "text": [
      "/home/yang1641/.conda/envs/pinnacle/lib/python3.8/site-packages/torch/cuda/__init__.py:146: UserWarning: \n",
      "NVIDIA A30 with CUDA capability sm_80 is not compatible with the current PyTorch installation.\n",
      "The current PyTorch install supports CUDA capabilities sm_37 sm_50 sm_60 sm_61 sm_70 sm_75 compute_37.\n",
      "If you want to use the NVIDIA A30 GPU with PyTorch, please check the instructions at https://pytorch.org/get-started/locally/\n",
      "\n",
      "  warnings.warn(incompatible_device_warn.format(device_name, capability, \" \".join(arch_list), device_name))\n"
     ]
    },
    {
     "name": "stdout",
     "output_type": "stream",
     "text": [
      "Epoch 1\n",
      "---------------\n",
      "Batch 0\n",
      "train loss: 0.7472 [0/27652]\n",
      "Finished with batches...\n",
      "Finished with one full epoch...\n"
     ]
    },
    {
     "name": "stderr",
     "output_type": "stream",
     "text": [
      "/home/yang1641/.local/lib/python3.8/site-packages/sklearn/metrics/_ranking.py:980: UserWarning: No positive class found in y_true, recall is set to one for all thresholds.\n",
      "  warnings.warn(\n"
     ]
    },
    {
     "name": "stdout",
     "output_type": "stream",
     "text": [
      "Finished all batches in validation...\n",
      "Finished with calculating metrics...\n",
      "Epoch 2\n",
      "---------------\n"
     ]
    },
    {
     "name": "stderr",
     "output_type": "stream",
     "text": [
      "/home/yang1641/.local/lib/python3.8/site-packages/sklearn/metrics/_ranking.py:980: UserWarning: No positive class found in y_true, recall is set to one for all thresholds.\n",
      "  warnings.warn(\n"
     ]
    },
    {
     "name": "stdout",
     "output_type": "stream",
     "text": [
      "Batch 0\n",
      "train loss: 0.6774 [0/27652]\n",
      "Finished with batches...\n",
      "Finished with one full epoch...\n"
     ]
    },
    {
     "name": "stderr",
     "output_type": "stream",
     "text": [
      "/home/yang1641/.local/lib/python3.8/site-packages/sklearn/metrics/_ranking.py:980: UserWarning: No positive class found in y_true, recall is set to one for all thresholds.\n",
      "  warnings.warn(\n",
      "/home/yang1641/.local/lib/python3.8/site-packages/sklearn/metrics/_ranking.py:980: UserWarning: No positive class found in y_true, recall is set to one for all thresholds.\n",
      "  warnings.warn(\n"
     ]
    },
    {
     "name": "stdout",
     "output_type": "stream",
     "text": [
      "Finished all batches in validation...\n",
      "Finished with calculating metrics...\n",
      "Epoch 3\n",
      "---------------\n"
     ]
    },
    {
     "name": "stderr",
     "output_type": "stream",
     "text": [
      "/home/yang1641/.local/lib/python3.8/site-packages/sklearn/metrics/_ranking.py:980: UserWarning: No positive class found in y_true, recall is set to one for all thresholds.\n",
      "  warnings.warn(\n",
      "/home/yang1641/.local/lib/python3.8/site-packages/sklearn/metrics/_ranking.py:980: UserWarning: No positive class found in y_true, recall is set to one for all thresholds.\n",
      "  warnings.warn(\n"
     ]
    },
    {
     "name": "stdout",
     "output_type": "stream",
     "text": [
      "Batch 0\n",
      "train loss: 0.6195 [0/27652]\n",
      "Finished with batches...\n",
      "Finished with one full epoch...\n"
     ]
    },
    {
     "name": "stderr",
     "output_type": "stream",
     "text": [
      "/home/yang1641/.local/lib/python3.8/site-packages/sklearn/metrics/_ranking.py:980: UserWarning: No positive class found in y_true, recall is set to one for all thresholds.\n",
      "  warnings.warn(\n"
     ]
    },
    {
     "name": "stdout",
     "output_type": "stream",
     "text": [
      "Finished all batches in validation...\n",
      "Finished with calculating metrics...\n",
      "Epoch 4\n",
      "---------------\n"
     ]
    },
    {
     "name": "stderr",
     "output_type": "stream",
     "text": [
      "/home/yang1641/.local/lib/python3.8/site-packages/sklearn/metrics/_ranking.py:980: UserWarning: No positive class found in y_true, recall is set to one for all thresholds.\n",
      "  warnings.warn(\n",
      "/home/yang1641/.local/lib/python3.8/site-packages/sklearn/metrics/_ranking.py:980: UserWarning: No positive class found in y_true, recall is set to one for all thresholds.\n",
      "  warnings.warn(\n"
     ]
    },
    {
     "name": "stdout",
     "output_type": "stream",
     "text": [
      "Batch 0\n",
      "train loss: 0.5685 [0/27652]\n",
      "Finished with batches...\n",
      "Finished with one full epoch...\n",
      "Finished all batches in validation...\n",
      "Finished with calculating metrics...\n",
      "Epoch 5\n",
      "---------------\n"
     ]
    },
    {
     "name": "stderr",
     "output_type": "stream",
     "text": [
      "/home/yang1641/.local/lib/python3.8/site-packages/sklearn/metrics/_ranking.py:980: UserWarning: No positive class found in y_true, recall is set to one for all thresholds.\n",
      "  warnings.warn(\n",
      "/home/yang1641/.local/lib/python3.8/site-packages/sklearn/metrics/_ranking.py:980: UserWarning: No positive class found in y_true, recall is set to one for all thresholds.\n",
      "  warnings.warn(\n"
     ]
    },
    {
     "name": "stdout",
     "output_type": "stream",
     "text": [
      "Batch 0\n",
      "train loss: 0.5198 [0/27652]\n",
      "Finished with batches...\n",
      "Finished with one full epoch...\n"
     ]
    },
    {
     "name": "stderr",
     "output_type": "stream",
     "text": [
      "/home/yang1641/.local/lib/python3.8/site-packages/sklearn/metrics/_ranking.py:980: UserWarning: No positive class found in y_true, recall is set to one for all thresholds.\n",
      "  warnings.warn(\n",
      "/home/yang1641/.local/lib/python3.8/site-packages/sklearn/metrics/_ranking.py:980: UserWarning: No positive class found in y_true, recall is set to one for all thresholds.\n",
      "  warnings.warn(\n"
     ]
    },
    {
     "name": "stdout",
     "output_type": "stream",
     "text": [
      "Finished all batches in validation...\n",
      "Finished with calculating metrics...\n",
      "Epoch 6\n",
      "---------------\n"
     ]
    },
    {
     "name": "stderr",
     "output_type": "stream",
     "text": [
      "/home/yang1641/.local/lib/python3.8/site-packages/sklearn/metrics/_ranking.py:980: UserWarning: No positive class found in y_true, recall is set to one for all thresholds.\n",
      "  warnings.warn(\n"
     ]
    },
    {
     "name": "stdout",
     "output_type": "stream",
     "text": [
      "Batch 0\n",
      "train loss: 0.4757 [0/27652]\n",
      "Finished with batches...\n",
      "Finished with one full epoch...\n",
      "Finished all batches in validation...\n",
      "Finished with calculating metrics...\n",
      "Epoch 7\n",
      "---------------\n"
     ]
    },
    {
     "name": "stderr",
     "output_type": "stream",
     "text": [
      "/home/yang1641/.local/lib/python3.8/site-packages/sklearn/metrics/_ranking.py:980: UserWarning: No positive class found in y_true, recall is set to one for all thresholds.\n",
      "  warnings.warn(\n"
     ]
    },
    {
     "name": "stdout",
     "output_type": "stream",
     "text": [
      "Batch 0\n",
      "train loss: 0.4343 [0/27652]\n",
      "Finished with batches...\n",
      "Finished with one full epoch...\n"
     ]
    },
    {
     "name": "stderr",
     "output_type": "stream",
     "text": [
      "/home/yang1641/.local/lib/python3.8/site-packages/sklearn/metrics/_ranking.py:980: UserWarning: No positive class found in y_true, recall is set to one for all thresholds.\n",
      "  warnings.warn(\n",
      "/home/yang1641/.local/lib/python3.8/site-packages/sklearn/metrics/_ranking.py:980: UserWarning: No positive class found in y_true, recall is set to one for all thresholds.\n",
      "  warnings.warn(\n"
     ]
    },
    {
     "name": "stdout",
     "output_type": "stream",
     "text": [
      "Finished all batches in validation...\n",
      "Finished with calculating metrics...\n",
      "Epoch 8\n",
      "---------------\n",
      "Batch 0\n",
      "train loss: 0.3956 [0/27652]\n",
      "Finished with batches...\n",
      "Finished with one full epoch...\n"
     ]
    },
    {
     "name": "stderr",
     "output_type": "stream",
     "text": [
      "/home/yang1641/.local/lib/python3.8/site-packages/sklearn/metrics/_ranking.py:980: UserWarning: No positive class found in y_true, recall is set to one for all thresholds.\n",
      "  warnings.warn(\n",
      "/home/yang1641/.local/lib/python3.8/site-packages/sklearn/metrics/_ranking.py:980: UserWarning: No positive class found in y_true, recall is set to one for all thresholds.\n",
      "  warnings.warn(\n"
     ]
    },
    {
     "name": "stdout",
     "output_type": "stream",
     "text": [
      "Finished all batches in validation...\n",
      "Finished with calculating metrics...\n",
      "Epoch 9\n",
      "---------------\n",
      "Batch 0\n",
      "train loss: 0.3597 [0/27652]\n",
      "Finished with batches...\n",
      "Finished with one full epoch...\n"
     ]
    },
    {
     "name": "stderr",
     "output_type": "stream",
     "text": [
      "/home/yang1641/.local/lib/python3.8/site-packages/sklearn/metrics/_ranking.py:980: UserWarning: No positive class found in y_true, recall is set to one for all thresholds.\n",
      "  warnings.warn(\n",
      "/home/yang1641/.local/lib/python3.8/site-packages/sklearn/metrics/_ranking.py:980: UserWarning: No positive class found in y_true, recall is set to one for all thresholds.\n",
      "  warnings.warn(\n"
     ]
    },
    {
     "name": "stdout",
     "output_type": "stream",
     "text": [
      "Finished all batches in validation...\n",
      "Finished with calculating metrics...\n",
      "Epoch 10\n",
      "---------------\n",
      "Batch 0\n",
      "train loss: 0.3257 [0/27652]\n",
      "Finished with batches...\n",
      "Finished with one full epoch...\n"
     ]
    },
    {
     "name": "stderr",
     "output_type": "stream",
     "text": [
      "/home/yang1641/.local/lib/python3.8/site-packages/sklearn/metrics/_ranking.py:980: UserWarning: No positive class found in y_true, recall is set to one for all thresholds.\n",
      "  warnings.warn(\n",
      "/home/yang1641/.local/lib/python3.8/site-packages/sklearn/metrics/_ranking.py:980: UserWarning: No positive class found in y_true, recall is set to one for all thresholds.\n",
      "  warnings.warn(\n"
     ]
    },
    {
     "name": "stdout",
     "output_type": "stream",
     "text": [
      "Finished all batches in validation...\n",
      "Finished with calculating metrics...\n",
      "Epoch 11\n",
      "---------------\n",
      "Batch 0\n",
      "train loss: 0.2972 [0/27652]\n",
      "Finished with batches...\n",
      "Finished with one full epoch...\n",
      "Finished all batches in validation...\n",
      "Finished with calculating metrics...\n",
      "Epoch 12\n",
      "---------------\n",
      "Batch 0\n",
      "train loss: 0.2710 [0/27652]\n",
      "Finished with batches...\n",
      "Finished with one full epoch...\n"
     ]
    },
    {
     "name": "stderr",
     "output_type": "stream",
     "text": [
      "/home/yang1641/.local/lib/python3.8/site-packages/sklearn/metrics/_ranking.py:980: UserWarning: No positive class found in y_true, recall is set to one for all thresholds.\n",
      "  warnings.warn(\n"
     ]
    },
    {
     "name": "stdout",
     "output_type": "stream",
     "text": [
      "Finished all batches in validation...\n",
      "Finished with calculating metrics...\n",
      "Epoch 13\n",
      "---------------\n",
      "Batch 0\n",
      "train loss: 0.2493 [0/27652]\n",
      "Finished with batches...\n",
      "Finished with one full epoch...\n"
     ]
    },
    {
     "name": "stderr",
     "output_type": "stream",
     "text": [
      "/home/yang1641/.local/lib/python3.8/site-packages/sklearn/metrics/_ranking.py:980: UserWarning: No positive class found in y_true, recall is set to one for all thresholds.\n",
      "  warnings.warn(\n",
      "/home/yang1641/.local/lib/python3.8/site-packages/sklearn/metrics/_ranking.py:980: UserWarning: No positive class found in y_true, recall is set to one for all thresholds.\n",
      "  warnings.warn(\n"
     ]
    },
    {
     "name": "stdout",
     "output_type": "stream",
     "text": [
      "Finished all batches in validation...\n",
      "Finished with calculating metrics...\n",
      "Epoch 14\n",
      "---------------\n",
      "Batch 0\n",
      "train loss: 0.2316 [0/27652]\n",
      "Finished with batches...\n",
      "Finished with one full epoch...\n"
     ]
    },
    {
     "name": "stderr",
     "output_type": "stream",
     "text": [
      "/home/yang1641/.local/lib/python3.8/site-packages/sklearn/metrics/_ranking.py:980: UserWarning: No positive class found in y_true, recall is set to one for all thresholds.\n",
      "  warnings.warn(\n"
     ]
    },
    {
     "name": "stdout",
     "output_type": "stream",
     "text": [
      "Finished all batches in validation...\n",
      "Finished with calculating metrics...\n",
      "Epoch 15\n",
      "---------------\n",
      "Batch 0\n",
      "train loss: 0.2166 [0/27652]\n",
      "Finished with batches...\n",
      "Finished with one full epoch...\n"
     ]
    },
    {
     "name": "stderr",
     "output_type": "stream",
     "text": [
      "/home/yang1641/.local/lib/python3.8/site-packages/sklearn/metrics/_ranking.py:980: UserWarning: No positive class found in y_true, recall is set to one for all thresholds.\n",
      "  warnings.warn(\n"
     ]
    },
    {
     "name": "stdout",
     "output_type": "stream",
     "text": [
      "Finished all batches in validation...\n",
      "Finished with calculating metrics...\n",
      "Epoch 16\n",
      "---------------\n",
      "Batch 0\n",
      "train loss: 0.2054 [0/27652]\n",
      "Finished with batches...\n",
      "Finished with one full epoch...\n",
      "Finished all batches in validation...\n",
      "Finished with calculating metrics...\n",
      "Epoch 17\n",
      "---------------\n",
      "Batch 0\n",
      "train loss: 0.1976 [0/27652]\n",
      "Finished with batches...\n",
      "Finished with one full epoch...\n",
      "Finished all batches in validation...\n",
      "Finished with calculating metrics...\n",
      "Epoch 18\n",
      "---------------\n",
      "Batch 0\n",
      "train loss: 0.1907 [0/27652]\n",
      "Finished with batches...\n",
      "Finished with one full epoch...\n",
      "Finished all batches in validation...\n",
      "Finished with calculating metrics...\n",
      "Epoch 19\n",
      "---------------\n",
      "Batch 0\n",
      "train loss: 0.1868 [0/27652]\n",
      "Finished with batches...\n",
      "Finished with one full epoch...\n",
      "Finished all batches in validation...\n",
      "Finished with calculating metrics...\n",
      "Epoch 20\n",
      "---------------\n",
      "Batch 0\n",
      "train loss: 0.1847 [0/27652]\n",
      "Finished with batches...\n",
      "Finished with one full epoch...\n"
     ]
    },
    {
     "name": "stderr",
     "output_type": "stream",
     "text": [
      "/home/yang1641/.local/lib/python3.8/site-packages/sklearn/metrics/_ranking.py:980: UserWarning: No positive class found in y_true, recall is set to one for all thresholds.\n",
      "  warnings.warn(\n",
      "/home/yang1641/.local/lib/python3.8/site-packages/sklearn/metrics/_ranking.py:980: UserWarning: No positive class found in y_true, recall is set to one for all thresholds.\n",
      "  warnings.warn(\n"
     ]
    },
    {
     "name": "stdout",
     "output_type": "stream",
     "text": [
      "Finished all batches in validation...\n",
      "Finished with calculating metrics...\n",
      "Epoch 21\n",
      "---------------\n",
      "Batch 0\n",
      "train loss: 0.1843 [0/27652]\n",
      "Finished with batches...\n",
      "Finished with one full epoch...\n"
     ]
    },
    {
     "name": "stderr",
     "output_type": "stream",
     "text": [
      "/home/yang1641/.local/lib/python3.8/site-packages/sklearn/metrics/_ranking.py:980: UserWarning: No positive class found in y_true, recall is set to one for all thresholds.\n",
      "  warnings.warn(\n",
      "/home/yang1641/.local/lib/python3.8/site-packages/sklearn/metrics/_ranking.py:980: UserWarning: No positive class found in y_true, recall is set to one for all thresholds.\n",
      "  warnings.warn(\n"
     ]
    },
    {
     "name": "stdout",
     "output_type": "stream",
     "text": [
      "Finished all batches in validation...\n",
      "Finished with calculating metrics...\n",
      "Epoch 22\n",
      "---------------\n"
     ]
    },
    {
     "name": "stderr",
     "output_type": "stream",
     "text": [
      "/home/yang1641/.local/lib/python3.8/site-packages/sklearn/metrics/_ranking.py:980: UserWarning: No positive class found in y_true, recall is set to one for all thresholds.\n",
      "  warnings.warn(\n"
     ]
    },
    {
     "name": "stdout",
     "output_type": "stream",
     "text": [
      "Batch 0\n",
      "train loss: 0.1840 [0/27652]\n",
      "Finished with batches...\n",
      "Finished with one full epoch...\n",
      "Finished all batches in validation...\n",
      "Finished with calculating metrics...\n",
      "Epoch 23\n",
      "---------------\n",
      "Batch 0\n",
      "train loss: 0.1836 [0/27652]\n",
      "Finished with batches...\n",
      "Finished with one full epoch...\n",
      "Finished all batches in validation...\n",
      "Finished with calculating metrics...\n",
      "Epoch 24\n",
      "---------------\n",
      "Batch 0\n",
      "train loss: 0.1836 [0/27652]\n",
      "Finished with batches...\n",
      "Finished with one full epoch...\n"
     ]
    },
    {
     "name": "stderr",
     "output_type": "stream",
     "text": [
      "/home/yang1641/.local/lib/python3.8/site-packages/sklearn/metrics/_ranking.py:980: UserWarning: No positive class found in y_true, recall is set to one for all thresholds.\n",
      "  warnings.warn(\n",
      "/home/yang1641/.local/lib/python3.8/site-packages/sklearn/metrics/_ranking.py:980: UserWarning: No positive class found in y_true, recall is set to one for all thresholds.\n",
      "  warnings.warn(\n"
     ]
    },
    {
     "name": "stdout",
     "output_type": "stream",
     "text": [
      "Finished all batches in validation...\n",
      "Finished with calculating metrics...\n",
      "Epoch 25\n",
      "---------------\n",
      "Batch 0\n",
      "train loss: 0.1824 [0/27652]\n",
      "Finished with batches...\n",
      "Finished with one full epoch...\n"
     ]
    },
    {
     "name": "stderr",
     "output_type": "stream",
     "text": [
      "/home/yang1641/.local/lib/python3.8/site-packages/sklearn/metrics/_ranking.py:980: UserWarning: No positive class found in y_true, recall is set to one for all thresholds.\n",
      "  warnings.warn(\n"
     ]
    },
    {
     "name": "stdout",
     "output_type": "stream",
     "text": [
      "Finished all batches in validation...\n",
      "Finished with calculating metrics...\n",
      "Epoch 26\n",
      "---------------\n",
      "Batch 0\n",
      "train loss: 0.1821 [0/27652]\n",
      "Finished with batches...\n",
      "Finished with one full epoch...\n",
      "Finished all batches in validation...\n",
      "Finished with calculating metrics...\n",
      "Epoch 27\n",
      "---------------\n",
      "Batch 0\n",
      "train loss: 0.1821 [0/27652]\n",
      "Finished with batches...\n",
      "Finished with one full epoch...\n"
     ]
    },
    {
     "name": "stderr",
     "output_type": "stream",
     "text": [
      "/home/yang1641/.local/lib/python3.8/site-packages/sklearn/metrics/_ranking.py:980: UserWarning: No positive class found in y_true, recall is set to one for all thresholds.\n",
      "  warnings.warn(\n"
     ]
    },
    {
     "name": "stdout",
     "output_type": "stream",
     "text": [
      "Finished all batches in validation...\n",
      "Finished with calculating metrics...\n",
      "Epoch 28\n",
      "---------------\n",
      "Batch 0\n",
      "train loss: 0.1811 [0/27652]\n",
      "Finished with batches...\n",
      "Finished with one full epoch...\n"
     ]
    },
    {
     "name": "stderr",
     "output_type": "stream",
     "text": [
      "/home/yang1641/.local/lib/python3.8/site-packages/sklearn/metrics/_ranking.py:980: UserWarning: No positive class found in y_true, recall is set to one for all thresholds.\n",
      "  warnings.warn(\n"
     ]
    },
    {
     "name": "stdout",
     "output_type": "stream",
     "text": [
      "Finished all batches in validation...\n",
      "Finished with calculating metrics...\n",
      "Epoch 29\n",
      "---------------\n"
     ]
    },
    {
     "name": "stderr",
     "output_type": "stream",
     "text": [
      "/home/yang1641/.local/lib/python3.8/site-packages/sklearn/metrics/_ranking.py:980: UserWarning: No positive class found in y_true, recall is set to one for all thresholds.\n",
      "  warnings.warn(\n",
      "/home/yang1641/.local/lib/python3.8/site-packages/sklearn/metrics/_ranking.py:980: UserWarning: No positive class found in y_true, recall is set to one for all thresholds.\n",
      "  warnings.warn(\n"
     ]
    },
    {
     "name": "stdout",
     "output_type": "stream",
     "text": [
      "Batch 0\n",
      "train loss: 0.1815 [0/27652]\n",
      "Finished with batches...\n",
      "Finished with one full epoch...\n",
      "Finished all batches in validation...\n",
      "Finished with calculating metrics...\n",
      "Epoch 30\n",
      "---------------\n"
     ]
    },
    {
     "name": "stderr",
     "output_type": "stream",
     "text": [
      "/home/yang1641/.local/lib/python3.8/site-packages/sklearn/metrics/_ranking.py:980: UserWarning: No positive class found in y_true, recall is set to one for all thresholds.\n",
      "  warnings.warn(\n"
     ]
    },
    {
     "name": "stdout",
     "output_type": "stream",
     "text": [
      "Batch 0\n",
      "train loss: 0.1806 [0/27652]\n",
      "Finished with batches...\n",
      "Finished with one full epoch...\n",
      "Finished all batches in validation...\n",
      "Finished with calculating metrics...\n",
      "Epoch 31\n",
      "---------------\n"
     ]
    },
    {
     "name": "stderr",
     "output_type": "stream",
     "text": [
      "/home/yang1641/.local/lib/python3.8/site-packages/sklearn/metrics/_ranking.py:980: UserWarning: No positive class found in y_true, recall is set to one for all thresholds.\n",
      "  warnings.warn(\n"
     ]
    },
    {
     "name": "stdout",
     "output_type": "stream",
     "text": [
      "Batch 0\n",
      "train loss: 0.1797 [0/27652]\n",
      "Finished with batches...\n",
      "Finished with one full epoch...\n",
      "Finished all batches in validation...\n",
      "Finished with calculating metrics...\n",
      "Epoch 32\n",
      "---------------\n",
      "Batch 0\n",
      "train loss: 0.1800 [0/27652]\n",
      "Finished with batches...\n",
      "Finished with one full epoch...\n",
      "Finished all batches in validation...\n",
      "Finished with calculating metrics...\n",
      "Epoch 33\n",
      "---------------\n",
      "Batch 0\n",
      "train loss: 0.1784 [0/27652]\n",
      "Finished with batches...\n",
      "Finished with one full epoch...\n",
      "Finished all batches in validation...\n",
      "Finished with calculating metrics...\n",
      "Epoch 34\n",
      "---------------\n",
      "Batch 0\n",
      "train loss: 0.1773 [0/27652]\n",
      "Finished with batches...\n",
      "Finished with one full epoch...\n",
      "Finished all batches in validation...\n",
      "Finished with calculating metrics...\n",
      "Epoch 35\n",
      "---------------\n",
      "Batch 0\n",
      "train loss: 0.1775 [0/27652]\n",
      "Finished with batches...\n",
      "Finished with one full epoch...\n",
      "Finished all batches in validation...\n",
      "Finished with calculating metrics...\n",
      "Epoch 36\n",
      "---------------\n",
      "Batch 0\n",
      "train loss: 0.1758 [0/27652]\n",
      "Finished with batches...\n",
      "Finished with one full epoch...\n",
      "Finished all batches in validation...\n",
      "Finished with calculating metrics...\n",
      "Epoch 37\n",
      "---------------\n",
      "Batch 0\n",
      "train loss: 0.1755 [0/27652]\n",
      "Finished with batches...\n",
      "Finished with one full epoch...\n",
      "Finished all batches in validation...\n",
      "Finished with calculating metrics...\n",
      "Epoch 38\n",
      "---------------\n",
      "Batch 0\n",
      "train loss: 0.1752 [0/27652]\n",
      "Finished with batches...\n",
      "Finished with one full epoch...\n"
     ]
    },
    {
     "name": "stderr",
     "output_type": "stream",
     "text": [
      "/home/yang1641/.local/lib/python3.8/site-packages/sklearn/metrics/_ranking.py:980: UserWarning: No positive class found in y_true, recall is set to one for all thresholds.\n",
      "  warnings.warn(\n"
     ]
    },
    {
     "name": "stdout",
     "output_type": "stream",
     "text": [
      "Finished all batches in validation...\n",
      "Finished with calculating metrics...\n",
      "Epoch 39\n",
      "---------------\n",
      "Batch 0\n",
      "train loss: 0.1755 [0/27652]\n",
      "Finished with batches...\n",
      "Finished with one full epoch...\n",
      "Finished all batches in validation...\n",
      "Finished with calculating metrics...\n",
      "Epoch 40\n",
      "---------------\n",
      "Batch 0\n",
      "train loss: 0.1748 [0/27652]\n",
      "Finished with batches...\n",
      "Finished with one full epoch...\n",
      "Finished all batches in validation...\n",
      "Finished with calculating metrics...\n",
      "Epoch 41\n",
      "---------------\n",
      "Batch 0\n",
      "train loss: 0.1738 [0/27652]\n",
      "Finished with batches...\n",
      "Finished with one full epoch...\n",
      "Finished all batches in validation...\n",
      "Finished with calculating metrics...\n",
      "Epoch 42\n",
      "---------------\n",
      "Batch 0\n",
      "train loss: 0.1734 [0/27652]\n",
      "Finished with batches...\n",
      "Finished with one full epoch...\n",
      "Finished all batches in validation...\n",
      "Finished with calculating metrics...\n",
      "Epoch 43\n",
      "---------------\n",
      "Batch 0\n",
      "train loss: 0.1735 [0/27652]\n",
      "Finished with batches...\n",
      "Finished with one full epoch...\n",
      "Finished all batches in validation...\n",
      "Finished with calculating metrics...\n",
      "Epoch 44\n",
      "---------------\n",
      "Batch 0\n",
      "train loss: 0.1737 [0/27652]\n",
      "Finished with batches...\n",
      "Finished with one full epoch...\n",
      "Finished all batches in validation...\n",
      "Finished with calculating metrics...\n",
      "Epoch 45\n",
      "---------------\n",
      "Batch 0\n",
      "train loss: 0.1736 [0/27652]\n",
      "Finished with batches...\n",
      "Finished with one full epoch...\n",
      "Finished all batches in validation...\n",
      "Finished with calculating metrics...\n",
      "Epoch 46\n",
      "---------------\n",
      "Batch 0\n",
      "train loss: 0.1732 [0/27652]\n",
      "Finished with batches...\n",
      "Finished with one full epoch...\n",
      "Finished all batches in validation...\n",
      "Finished with calculating metrics...\n",
      "Epoch 47\n",
      "---------------\n",
      "Batch 0\n",
      "train loss: 0.1730 [0/27652]\n",
      "Finished with batches...\n",
      "Finished with one full epoch...\n"
     ]
    },
    {
     "name": "stderr",
     "output_type": "stream",
     "text": [
      "/home/yang1641/.local/lib/python3.8/site-packages/sklearn/metrics/_ranking.py:980: UserWarning: No positive class found in y_true, recall is set to one for all thresholds.\n",
      "  warnings.warn(\n"
     ]
    },
    {
     "name": "stdout",
     "output_type": "stream",
     "text": [
      "Finished all batches in validation...\n",
      "Finished with calculating metrics...\n",
      "Epoch 48\n",
      "---------------\n",
      "Batch 0\n",
      "train loss: 0.1727 [0/27652]\n",
      "Finished with batches...\n",
      "Finished with one full epoch...\n",
      "Finished all batches in validation...\n",
      "Finished with calculating metrics...\n",
      "Epoch 49\n",
      "---------------\n",
      "Batch 0\n",
      "train loss: 0.1725 [0/27652]\n",
      "Finished with batches...\n",
      "Finished with one full epoch...\n",
      "Finished all batches in validation...\n",
      "Finished with calculating metrics...\n",
      "Epoch 50\n",
      "---------------\n",
      "Batch 0\n",
      "train loss: 0.1717 [0/27652]\n",
      "Finished with batches...\n",
      "Finished with one full epoch...\n",
      "Finished all batches in validation...\n",
      "Finished with calculating metrics...\n",
      "Epoch 51\n",
      "---------------\n",
      "Batch 0\n",
      "train loss: 0.1712 [0/27652]\n",
      "Finished with batches...\n",
      "Finished with one full epoch...\n",
      "Finished all batches in validation...\n",
      "Finished with calculating metrics...\n",
      "Epoch 52\n",
      "---------------\n",
      "Batch 0\n",
      "train loss: 0.1709 [0/27652]\n",
      "Finished with batches...\n",
      "Finished with one full epoch...\n",
      "Finished all batches in validation...\n",
      "Finished with calculating metrics...\n",
      "Epoch 53\n",
      "---------------\n",
      "Batch 0\n",
      "train loss: 0.1717 [0/27652]\n",
      "Finished with batches...\n",
      "Finished with one full epoch...\n",
      "Finished all batches in validation...\n",
      "Finished with calculating metrics...\n",
      "Epoch 54\n",
      "---------------\n",
      "Batch 0\n",
      "train loss: 0.1705 [0/27652]\n",
      "Finished with batches...\n",
      "Finished with one full epoch...\n",
      "Finished all batches in validation...\n",
      "Finished with calculating metrics...\n",
      "Epoch 55\n",
      "---------------\n",
      "Batch 0\n",
      "train loss: 0.1705 [0/27652]\n",
      "Finished with batches...\n",
      "Finished with one full epoch...\n",
      "Finished all batches in validation...\n",
      "Finished with calculating metrics...\n",
      "Epoch 56\n",
      "---------------\n",
      "Batch 0\n",
      "train loss: 0.1703 [0/27652]\n",
      "Finished with batches...\n",
      "Finished with one full epoch...\n",
      "Finished all batches in validation...\n",
      "Finished with calculating metrics...\n",
      "Epoch 57\n",
      "---------------\n",
      "Batch 0\n",
      "train loss: 0.1708 [0/27652]\n",
      "Finished with batches...\n",
      "Finished with one full epoch...\n",
      "Finished all batches in validation...\n",
      "Finished with calculating metrics...\n",
      "Epoch 58\n",
      "---------------\n",
      "Batch 0\n",
      "train loss: 0.1699 [0/27652]\n",
      "Finished with batches...\n",
      "Finished with one full epoch...\n",
      "Finished all batches in validation...\n",
      "Finished with calculating metrics...\n",
      "Epoch 59\n",
      "---------------\n",
      "Batch 0\n",
      "train loss: 0.1701 [0/27652]\n",
      "Finished with batches...\n",
      "Finished with one full epoch...\n",
      "Finished all batches in validation...\n",
      "Finished with calculating metrics...\n",
      "Epoch 60\n",
      "---------------\n",
      "Batch 0\n",
      "train loss: 0.1692 [0/27652]\n",
      "Finished with batches...\n",
      "Finished with one full epoch...\n",
      "Finished all batches in validation...\n",
      "Finished with calculating metrics...\n",
      "Epoch 61\n",
      "---------------\n",
      "Batch 0\n",
      "train loss: 0.1694 [0/27652]\n",
      "Finished with batches...\n",
      "Finished with one full epoch...\n",
      "Finished all batches in validation...\n",
      "Finished with calculating metrics...\n",
      "Epoch 62\n",
      "---------------\n",
      "Batch 0\n",
      "train loss: 0.1695 [0/27652]\n",
      "Finished with batches...\n",
      "Finished with one full epoch...\n",
      "Finished all batches in validation...\n",
      "Finished with calculating metrics...\n",
      "Epoch 63\n",
      "---------------\n",
      "Batch 0\n",
      "train loss: 0.1688 [0/27652]\n",
      "Finished with batches...\n",
      "Finished with one full epoch...\n",
      "Finished all batches in validation...\n",
      "Finished with calculating metrics...\n",
      "Epoch 64\n",
      "---------------\n",
      "Batch 0\n",
      "train loss: 0.1684 [0/27652]\n",
      "Finished with batches...\n",
      "Finished with one full epoch...\n",
      "Finished all batches in validation...\n",
      "Finished with calculating metrics...\n",
      "Epoch 65\n",
      "---------------\n",
      "Batch 0\n",
      "train loss: 0.1684 [0/27652]\n",
      "Finished with batches...\n",
      "Finished with one full epoch...\n",
      "Finished all batches in validation...\n",
      "Finished with calculating metrics...\n",
      "Epoch 66\n",
      "---------------\n",
      "Batch 0\n",
      "train loss: 0.1675 [0/27652]\n",
      "Finished with batches...\n",
      "Finished with one full epoch...\n",
      "Finished all batches in validation...\n",
      "Finished with calculating metrics...\n",
      "Epoch 67\n",
      "---------------\n",
      "Batch 0\n",
      "train loss: 0.1683 [0/27652]\n",
      "Finished with batches...\n",
      "Finished with one full epoch...\n",
      "Finished all batches in validation...\n",
      "Finished with calculating metrics...\n",
      "Epoch 68\n",
      "---------------\n",
      "Batch 0\n",
      "train loss: 0.1680 [0/27652]\n",
      "Finished with batches...\n",
      "Finished with one full epoch...\n",
      "Finished all batches in validation...\n",
      "Finished with calculating metrics...\n",
      "Epoch 69\n",
      "---------------\n",
      "Batch 0\n",
      "train loss: 0.1671 [0/27652]\n",
      "Finished with batches...\n",
      "Finished with one full epoch...\n",
      "Finished all batches in validation...\n",
      "Finished with calculating metrics...\n",
      "Epoch 70\n",
      "---------------\n",
      "Batch 0\n",
      "train loss: 0.1679 [0/27652]\n",
      "Finished with batches...\n",
      "Finished with one full epoch...\n",
      "Finished all batches in validation...\n",
      "Finished with calculating metrics...\n",
      "Epoch 71\n",
      "---------------\n",
      "Batch 0\n",
      "train loss: 0.1671 [0/27652]\n",
      "Finished with batches...\n",
      "Finished with one full epoch...\n",
      "Finished all batches in validation...\n",
      "Finished with calculating metrics...\n",
      "Epoch 72\n",
      "---------------\n",
      "Batch 0\n",
      "train loss: 0.1677 [0/27652]\n",
      "Finished with batches...\n",
      "Finished with one full epoch...\n",
      "Finished all batches in validation...\n",
      "Finished with calculating metrics...\n",
      "Epoch 73\n",
      "---------------\n",
      "Batch 0\n",
      "train loss: 0.1677 [0/27652]\n",
      "Finished with batches...\n",
      "Finished with one full epoch...\n",
      "Finished all batches in validation...\n",
      "Finished with calculating metrics...\n",
      "Epoch 74\n",
      "---------------\n",
      "Batch 0\n",
      "train loss: 0.1673 [0/27652]\n",
      "Finished with batches...\n",
      "Finished with one full epoch...\n",
      "Finished all batches in validation...\n",
      "Finished with calculating metrics...\n",
      "Epoch 75\n",
      "---------------\n",
      "Batch 0\n",
      "train loss: 0.1677 [0/27652]\n",
      "Finished with batches...\n",
      "Finished with one full epoch...\n",
      "Finished all batches in validation...\n",
      "Finished with calculating metrics...\n",
      "Epoch 76\n",
      "---------------\n",
      "Batch 0\n",
      "train loss: 0.1671 [0/27652]\n",
      "Finished with batches...\n",
      "Finished with one full epoch...\n",
      "Finished all batches in validation...\n",
      "Finished with calculating metrics...\n",
      "Epoch 77\n",
      "---------------\n",
      "Batch 0\n",
      "train loss: 0.1673 [0/27652]\n",
      "Finished with batches...\n",
      "Finished with one full epoch...\n",
      "Finished all batches in validation...\n",
      "Finished with calculating metrics...\n",
      "Epoch 78\n",
      "---------------\n",
      "Batch 0\n",
      "train loss: 0.1659 [0/27652]\n",
      "Finished with batches...\n",
      "Finished with one full epoch...\n",
      "Finished all batches in validation...\n",
      "Finished with calculating metrics...\n",
      "Epoch 79\n",
      "---------------\n",
      "Batch 0\n",
      "train loss: 0.1661 [0/27652]\n",
      "Finished with batches...\n",
      "Finished with one full epoch...\n",
      "Finished all batches in validation...\n",
      "Finished with calculating metrics...\n",
      "Epoch 80\n",
      "---------------\n",
      "Batch 0\n",
      "train loss: 0.1650 [0/27652]\n",
      "Finished with batches...\n",
      "Finished with one full epoch...\n",
      "Finished all batches in validation...\n",
      "Finished with calculating metrics...\n",
      "Epoch 81\n",
      "---------------\n",
      "Batch 0\n",
      "train loss: 0.1659 [0/27652]\n",
      "Finished with batches...\n",
      "Finished with one full epoch...\n",
      "Finished all batches in validation...\n",
      "Finished with calculating metrics...\n",
      "Epoch 82\n",
      "---------------\n",
      "Batch 0\n",
      "train loss: 0.1656 [0/27652]\n",
      "Finished with batches...\n",
      "Finished with one full epoch...\n",
      "Finished all batches in validation...\n",
      "Finished with calculating metrics...\n",
      "Epoch 83\n",
      "---------------\n",
      "Batch 0\n",
      "train loss: 0.1660 [0/27652]\n",
      "Finished with batches...\n",
      "Finished with one full epoch...\n",
      "Finished all batches in validation...\n",
      "Finished with calculating metrics...\n",
      "Epoch 84\n",
      "---------------\n",
      "Batch 0\n",
      "train loss: 0.1655 [0/27652]\n",
      "Finished with batches...\n",
      "Finished with one full epoch...\n",
      "Finished all batches in validation...\n",
      "Finished with calculating metrics...\n",
      "Epoch 85\n",
      "---------------\n",
      "Batch 0\n",
      "train loss: 0.1649 [0/27652]\n",
      "Finished with batches...\n",
      "Finished with one full epoch...\n",
      "Finished all batches in validation...\n",
      "Finished with calculating metrics...\n",
      "Epoch 86\n",
      "---------------\n",
      "Batch 0\n",
      "train loss: 0.1648 [0/27652]\n",
      "Finished with batches...\n",
      "Finished with one full epoch...\n",
      "Finished all batches in validation...\n",
      "Finished with calculating metrics...\n",
      "Epoch 87\n",
      "---------------\n",
      "Batch 0\n",
      "train loss: 0.1648 [0/27652]\n",
      "Finished with batches...\n",
      "Finished with one full epoch...\n",
      "Finished all batches in validation...\n",
      "Finished with calculating metrics...\n",
      "Epoch 88\n",
      "---------------\n",
      "Batch 0\n",
      "train loss: 0.1637 [0/27652]\n",
      "Finished with batches...\n",
      "Finished with one full epoch...\n",
      "Finished all batches in validation...\n",
      "Finished with calculating metrics...\n",
      "Epoch 89\n",
      "---------------\n",
      "Batch 0\n",
      "train loss: 0.1651 [0/27652]\n",
      "Finished with batches...\n",
      "Finished with one full epoch...\n",
      "Finished all batches in validation...\n",
      "Finished with calculating metrics...\n",
      "Epoch 90\n",
      "---------------\n"
     ]
    },
    {
     "name": "stdout",
     "output_type": "stream",
     "text": [
      "Batch 0\n",
      "train loss: 0.1642 [0/27652]\n",
      "Finished with batches...\n",
      "Finished with one full epoch...\n",
      "Finished all batches in validation...\n",
      "Finished with calculating metrics...\n",
      "Epoch 91\n",
      "---------------\n",
      "Batch 0\n",
      "train loss: 0.1645 [0/27652]\n",
      "Finished with batches...\n",
      "Finished with one full epoch...\n",
      "Finished all batches in validation...\n",
      "Finished with calculating metrics...\n",
      "Epoch 92\n",
      "---------------\n",
      "Batch 0\n",
      "train loss: 0.1641 [0/27652]\n",
      "Finished with batches...\n",
      "Finished with one full epoch...\n",
      "Finished all batches in validation...\n",
      "Finished with calculating metrics...\n",
      "Epoch 93\n",
      "---------------\n",
      "Batch 0\n",
      "train loss: 0.1645 [0/27652]\n",
      "Finished with batches...\n",
      "Finished with one full epoch...\n",
      "Finished all batches in validation...\n",
      "Finished with calculating metrics...\n",
      "Epoch 94\n",
      "---------------\n",
      "Batch 0\n",
      "train loss: 0.1640 [0/27652]\n",
      "Finished with batches...\n",
      "Finished with one full epoch...\n",
      "Finished all batches in validation...\n",
      "Finished with calculating metrics...\n",
      "Epoch 95\n",
      "---------------\n",
      "Batch 0\n",
      "train loss: 0.1645 [0/27652]\n",
      "Finished with batches...\n",
      "Finished with one full epoch...\n",
      "Finished all batches in validation...\n",
      "Finished with calculating metrics...\n",
      "Epoch 96\n",
      "---------------\n",
      "Batch 0\n",
      "train loss: 0.1632 [0/27652]\n",
      "Finished with batches...\n",
      "Finished with one full epoch...\n",
      "Finished all batches in validation...\n",
      "Finished with calculating metrics...\n",
      "Epoch 97\n",
      "---------------\n",
      "Batch 0\n",
      "train loss: 0.1636 [0/27652]\n",
      "Finished with batches...\n",
      "Finished with one full epoch...\n",
      "Finished all batches in validation...\n",
      "Finished with calculating metrics...\n",
      "Epoch 98\n",
      "---------------\n",
      "Batch 0\n",
      "train loss: 0.1626 [0/27652]\n",
      "Finished with batches...\n",
      "Finished with one full epoch...\n",
      "Finished all batches in validation...\n",
      "Finished with calculating metrics...\n",
      "Epoch 99\n",
      "---------------\n",
      "Batch 0\n",
      "train loss: 0.1623 [0/27652]\n",
      "Finished with batches...\n",
      "Finished with one full epoch...\n",
      "Finished all batches in validation...\n",
      "Finished with calculating metrics...\n",
      "Epoch 100\n",
      "---------------\n",
      "Batch 0\n",
      "train loss: 0.1622 [0/27652]\n",
      "Finished with batches...\n",
      "Finished with one full epoch...\n",
      "Finished all batches in validation...\n",
      "Finished with calculating metrics...\n",
      "Epoch 101\n",
      "---------------\n",
      "Batch 0\n",
      "train loss: 0.1625 [0/27652]\n",
      "Finished with batches...\n",
      "Finished with one full epoch...\n",
      "Finished all batches in validation...\n",
      "Finished with calculating metrics...\n",
      "Epoch 102\n",
      "---------------\n",
      "Batch 0\n",
      "train loss: 0.1632 [0/27652]\n",
      "Finished with batches...\n",
      "Finished with one full epoch...\n",
      "Finished all batches in validation...\n",
      "Finished with calculating metrics...\n",
      "Epoch 103\n",
      "---------------\n",
      "Batch 0\n",
      "train loss: 0.1620 [0/27652]\n",
      "Finished with batches...\n",
      "Finished with one full epoch...\n",
      "Finished all batches in validation...\n",
      "Finished with calculating metrics...\n",
      "Epoch 104\n",
      "---------------\n",
      "Batch 0\n",
      "train loss: 0.1622 [0/27652]\n",
      "Finished with batches...\n",
      "Finished with one full epoch...\n",
      "Finished all batches in validation...\n",
      "Finished with calculating metrics...\n",
      "Epoch 105\n",
      "---------------\n",
      "Batch 0\n",
      "train loss: 0.1617 [0/27652]\n",
      "Finished with batches...\n",
      "Finished with one full epoch...\n",
      "Finished all batches in validation...\n",
      "Finished with calculating metrics...\n",
      "Epoch 106\n",
      "---------------\n",
      "Batch 0\n",
      "train loss: 0.1625 [0/27652]\n",
      "Finished with batches...\n",
      "Finished with one full epoch...\n",
      "Finished all batches in validation...\n",
      "Finished with calculating metrics...\n",
      "Epoch 107\n",
      "---------------\n",
      "Batch 0\n",
      "train loss: 0.1619 [0/27652]\n",
      "Finished with batches...\n",
      "Finished with one full epoch...\n",
      "Finished all batches in validation...\n",
      "Finished with calculating metrics...\n",
      "Epoch 108\n",
      "---------------\n",
      "Batch 0\n",
      "train loss: 0.1617 [0/27652]\n",
      "Finished with batches...\n",
      "Finished with one full epoch...\n",
      "Finished all batches in validation...\n",
      "Finished with calculating metrics...\n",
      "Epoch 109\n",
      "---------------\n",
      "Batch 0\n",
      "train loss: 0.1613 [0/27652]\n",
      "Finished with batches...\n",
      "Finished with one full epoch...\n",
      "Finished all batches in validation...\n",
      "Finished with calculating metrics...\n",
      "Epoch 110\n",
      "---------------\n",
      "Batch 0\n",
      "train loss: 0.1613 [0/27652]\n",
      "Finished with batches...\n",
      "Finished with one full epoch...\n",
      "Finished all batches in validation...\n",
      "Finished with calculating metrics...\n",
      "Epoch 111\n",
      "---------------\n",
      "Batch 0\n",
      "train loss: 0.1609 [0/27652]\n",
      "Finished with batches...\n",
      "Finished with one full epoch...\n",
      "Finished all batches in validation...\n",
      "Finished with calculating metrics...\n",
      "Epoch 112\n",
      "---------------\n",
      "Batch 0\n",
      "train loss: 0.1598 [0/27652]\n",
      "Finished with batches...\n",
      "Finished with one full epoch...\n",
      "Finished all batches in validation...\n",
      "Finished with calculating metrics...\n",
      "Epoch 113\n",
      "---------------\n",
      "Batch 0\n",
      "train loss: 0.1611 [0/27652]\n",
      "Finished with batches...\n",
      "Finished with one full epoch...\n",
      "Finished all batches in validation...\n",
      "Finished with calculating metrics...\n",
      "Epoch 114\n",
      "---------------\n",
      "Batch 0\n",
      "train loss: 0.1600 [0/27652]\n",
      "Finished with batches...\n",
      "Finished with one full epoch...\n",
      "Finished all batches in validation...\n",
      "Finished with calculating metrics...\n",
      "Epoch 115\n",
      "---------------\n",
      "Batch 0\n",
      "train loss: 0.1596 [0/27652]\n",
      "Finished with batches...\n",
      "Finished with one full epoch...\n",
      "Finished all batches in validation...\n",
      "Finished with calculating metrics...\n",
      "Epoch 116\n",
      "---------------\n",
      "Batch 0\n",
      "train loss: 0.1593 [0/27652]\n",
      "Finished with batches...\n",
      "Finished with one full epoch...\n",
      "Finished all batches in validation...\n",
      "Finished with calculating metrics...\n",
      "Epoch 117\n",
      "---------------\n",
      "Batch 0\n",
      "train loss: 0.1603 [0/27652]\n",
      "Finished with batches...\n",
      "Finished with one full epoch...\n",
      "Finished all batches in validation...\n",
      "Finished with calculating metrics...\n",
      "Epoch 118\n",
      "---------------\n",
      "Batch 0\n",
      "train loss: 0.1593 [0/27652]\n",
      "Finished with batches...\n",
      "Finished with one full epoch...\n",
      "Finished all batches in validation...\n",
      "Finished with calculating metrics...\n",
      "Epoch 119\n",
      "---------------\n",
      "Batch 0\n",
      "train loss: 0.1592 [0/27652]\n",
      "Finished with batches...\n",
      "Finished with one full epoch...\n",
      "Finished all batches in validation...\n",
      "Finished with calculating metrics...\n",
      "Epoch 120\n",
      "---------------\n",
      "Batch 0\n",
      "train loss: 0.1595 [0/27652]\n",
      "Finished with batches...\n",
      "Finished with one full epoch...\n",
      "Finished all batches in validation...\n",
      "Finished with calculating metrics...\n",
      "Epoch 121\n",
      "---------------\n",
      "Batch 0\n",
      "train loss: 0.1581 [0/27652]\n",
      "Finished with batches...\n",
      "Finished with one full epoch...\n",
      "Finished all batches in validation...\n",
      "Finished with calculating metrics...\n",
      "Epoch 122\n",
      "---------------\n",
      "Batch 0\n",
      "train loss: 0.1587 [0/27652]\n",
      "Finished with batches...\n",
      "Finished with one full epoch...\n",
      "Finished all batches in validation...\n",
      "Finished with calculating metrics...\n",
      "Epoch 123\n",
      "---------------\n",
      "Batch 0\n",
      "train loss: 0.1588 [0/27652]\n",
      "Finished with batches...\n",
      "Finished with one full epoch...\n",
      "Finished all batches in validation...\n",
      "Finished with calculating metrics...\n",
      "Epoch 124\n",
      "---------------\n",
      "Batch 0\n",
      "train loss: 0.1583 [0/27652]\n",
      "Finished with batches...\n",
      "Finished with one full epoch...\n",
      "Finished all batches in validation...\n",
      "Finished with calculating metrics...\n",
      "Epoch 125\n",
      "---------------\n",
      "Batch 0\n",
      "train loss: 0.1589 [0/27652]\n",
      "Finished with batches...\n",
      "Finished with one full epoch...\n",
      "Finished all batches in validation...\n",
      "Finished with calculating metrics...\n",
      "Epoch 126\n",
      "---------------\n",
      "Batch 0\n",
      "train loss: 0.1584 [0/27652]\n",
      "Finished with batches...\n",
      "Finished with one full epoch...\n",
      "Finished all batches in validation...\n",
      "Finished with calculating metrics...\n",
      "Epoch 127\n",
      "---------------\n",
      "Batch 0\n",
      "train loss: 0.1579 [0/27652]\n",
      "Finished with batches...\n",
      "Finished with one full epoch...\n",
      "Finished all batches in validation...\n",
      "Finished with calculating metrics...\n",
      "Epoch 128\n",
      "---------------\n",
      "Batch 0\n",
      "train loss: 0.1578 [0/27652]\n",
      "Finished with batches...\n",
      "Finished with one full epoch...\n",
      "Finished all batches in validation...\n",
      "Finished with calculating metrics...\n",
      "Epoch 129\n",
      "---------------\n",
      "Batch 0\n",
      "train loss: 0.1581 [0/27652]\n",
      "Finished with batches...\n",
      "Finished with one full epoch...\n",
      "Finished all batches in validation...\n",
      "Finished with calculating metrics...\n",
      "Epoch 130\n",
      "---------------\n",
      "Batch 0\n",
      "train loss: 0.1576 [0/27652]\n",
      "Finished with batches...\n",
      "Finished with one full epoch...\n",
      "Finished all batches in validation...\n",
      "Finished with calculating metrics...\n",
      "Epoch 131\n",
      "---------------\n",
      "Batch 0\n",
      "train loss: 0.1575 [0/27652]\n",
      "Finished with batches...\n",
      "Finished with one full epoch...\n",
      "Finished all batches in validation...\n",
      "Finished with calculating metrics...\n",
      "Epoch 132\n",
      "---------------\n",
      "Batch 0\n",
      "train loss: 0.1578 [0/27652]\n",
      "Finished with batches...\n",
      "Finished with one full epoch...\n"
     ]
    },
    {
     "name": "stdout",
     "output_type": "stream",
     "text": [
      "Finished all batches in validation...\n",
      "Finished with calculating metrics...\n",
      "Epoch 133\n",
      "---------------\n",
      "Batch 0\n",
      "train loss: 0.1573 [0/27652]\n",
      "Finished with batches...\n",
      "Finished with one full epoch...\n",
      "Finished all batches in validation...\n",
      "Finished with calculating metrics...\n",
      "Epoch 134\n",
      "---------------\n",
      "Batch 0\n",
      "train loss: 0.1569 [0/27652]\n",
      "Finished with batches...\n",
      "Finished with one full epoch...\n",
      "Finished all batches in validation...\n",
      "Finished with calculating metrics...\n",
      "Epoch 135\n",
      "---------------\n",
      "Batch 0\n",
      "train loss: 0.1562 [0/27652]\n",
      "Finished with batches...\n",
      "Finished with one full epoch...\n",
      "Finished all batches in validation...\n",
      "Finished with calculating metrics...\n",
      "Epoch 136\n",
      "---------------\n",
      "Batch 0\n",
      "train loss: 0.1564 [0/27652]\n",
      "Finished with batches...\n",
      "Finished with one full epoch...\n",
      "Finished all batches in validation...\n",
      "Finished with calculating metrics...\n",
      "Epoch 137\n",
      "---------------\n",
      "Batch 0\n",
      "train loss: 0.1556 [0/27652]\n",
      "Finished with batches...\n",
      "Finished with one full epoch...\n",
      "Finished all batches in validation...\n",
      "Finished with calculating metrics...\n",
      "Epoch 138\n",
      "---------------\n",
      "Batch 0\n",
      "train loss: 0.1559 [0/27652]\n",
      "Finished with batches...\n",
      "Finished with one full epoch...\n",
      "Finished all batches in validation...\n",
      "Finished with calculating metrics...\n",
      "Epoch 139\n",
      "---------------\n",
      "Batch 0\n",
      "train loss: 0.1554 [0/27652]\n",
      "Finished with batches...\n",
      "Finished with one full epoch...\n",
      "Finished all batches in validation...\n",
      "Finished with calculating metrics...\n",
      "Epoch 140\n",
      "---------------\n",
      "Batch 0\n",
      "train loss: 0.1549 [0/27652]\n",
      "Finished with batches...\n",
      "Finished with one full epoch...\n",
      "Finished all batches in validation...\n",
      "Finished with calculating metrics...\n",
      "Epoch 141\n",
      "---------------\n",
      "Batch 0\n",
      "train loss: 0.1551 [0/27652]\n",
      "Finished with batches...\n",
      "Finished with one full epoch...\n",
      "Finished all batches in validation...\n",
      "Finished with calculating metrics...\n",
      "Epoch 142\n",
      "---------------\n",
      "Batch 0\n",
      "train loss: 0.1552 [0/27652]\n",
      "Finished with batches...\n",
      "Finished with one full epoch...\n",
      "Finished all batches in validation...\n",
      "Finished with calculating metrics...\n",
      "Epoch 143\n",
      "---------------\n",
      "Batch 0\n",
      "train loss: 0.1554 [0/27652]\n",
      "Finished with batches...\n",
      "Finished with one full epoch...\n",
      "Finished all batches in validation...\n",
      "Finished with calculating metrics...\n",
      "Epoch 144\n",
      "---------------\n",
      "Batch 0\n",
      "train loss: 0.1547 [0/27652]\n",
      "Finished with batches...\n",
      "Finished with one full epoch...\n",
      "Finished all batches in validation...\n",
      "Finished with calculating metrics...\n",
      "Epoch 145\n",
      "---------------\n",
      "Batch 0\n",
      "train loss: 0.1549 [0/27652]\n",
      "Finished with batches...\n",
      "Finished with one full epoch...\n",
      "Finished all batches in validation...\n",
      "Finished with calculating metrics...\n",
      "Epoch 146\n",
      "---------------\n",
      "Batch 0\n",
      "train loss: 0.1549 [0/27652]\n",
      "Finished with batches...\n",
      "Finished with one full epoch...\n",
      "Finished all batches in validation...\n",
      "Finished with calculating metrics...\n",
      "Epoch 147\n",
      "---------------\n",
      "Batch 0\n",
      "train loss: 0.1556 [0/27652]\n",
      "Finished with batches...\n",
      "Finished with one full epoch...\n",
      "Finished all batches in validation...\n",
      "Finished with calculating metrics...\n",
      "Epoch 148\n",
      "---------------\n",
      "Batch 0\n",
      "train loss: 0.1552 [0/27652]\n",
      "Finished with batches...\n",
      "Finished with one full epoch...\n",
      "Finished all batches in validation...\n",
      "Finished with calculating metrics...\n",
      "Epoch 149\n",
      "---------------\n",
      "Batch 0\n",
      "train loss: 0.1553 [0/27652]\n",
      "Finished with batches...\n",
      "Finished with one full epoch...\n",
      "Finished all batches in validation...\n",
      "Finished with calculating metrics...\n",
      "Epoch 150\n",
      "---------------\n",
      "Batch 0\n",
      "train loss: 0.1547 [0/27652]\n",
      "Finished with batches...\n",
      "Finished with one full epoch...\n",
      "Finished all batches in validation...\n",
      "Finished with calculating metrics...\n",
      "Epoch 151\n",
      "---------------\n",
      "Batch 0\n",
      "train loss: 0.1543 [0/27652]\n",
      "Finished with batches...\n",
      "Finished with one full epoch...\n",
      "Finished all batches in validation...\n",
      "Finished with calculating metrics...\n",
      "Epoch 152\n",
      "---------------\n",
      "Batch 0\n",
      "train loss: 0.1550 [0/27652]\n",
      "Finished with batches...\n",
      "Finished with one full epoch...\n"
     ]
    },
    {
     "name": "stderr",
     "output_type": "stream",
     "text": [
      "/home/yang1641/.local/lib/python3.8/site-packages/sklearn/metrics/_ranking.py:980: UserWarning: No positive class found in y_true, recall is set to one for all thresholds.\n",
      "  warnings.warn(\n"
     ]
    },
    {
     "name": "stdout",
     "output_type": "stream",
     "text": [
      "Finished all batches in validation...\n",
      "Finished with calculating metrics...\n",
      "Epoch 153\n",
      "---------------\n",
      "Batch 0\n",
      "train loss: 0.1546 [0/27652]\n",
      "Finished with batches...\n",
      "Finished with one full epoch...\n",
      "Finished all batches in validation...\n",
      "Finished with calculating metrics...\n",
      "Epoch 154\n",
      "---------------\n",
      "Batch 0\n",
      "train loss: 0.1535 [0/27652]\n",
      "Finished with batches...\n",
      "Finished with one full epoch...\n",
      "Finished all batches in validation...\n",
      "Finished with calculating metrics...\n",
      "Epoch 155\n",
      "---------------\n",
      "Batch 0\n",
      "train loss: 0.1546 [0/27652]\n",
      "Finished with batches...\n",
      "Finished with one full epoch...\n",
      "Finished all batches in validation...\n",
      "Finished with calculating metrics...\n",
      "Epoch 156\n",
      "---------------\n",
      "Batch 0\n",
      "train loss: 0.1538 [0/27652]\n",
      "Finished with batches...\n",
      "Finished with one full epoch...\n",
      "Finished all batches in validation...\n",
      "Finished with calculating metrics...\n",
      "Epoch 157\n",
      "---------------\n",
      "Batch 0\n",
      "train loss: 0.1541 [0/27652]\n",
      "Finished with batches...\n",
      "Finished with one full epoch...\n",
      "Finished all batches in validation...\n",
      "Finished with calculating metrics...\n",
      "Epoch 158\n",
      "---------------\n",
      "Batch 0\n",
      "train loss: 0.1543 [0/27652]\n",
      "Finished with batches...\n",
      "Finished with one full epoch...\n",
      "Finished all batches in validation...\n",
      "Finished with calculating metrics...\n",
      "Epoch 159\n",
      "---------------\n",
      "Batch 0\n",
      "train loss: 0.1538 [0/27652]\n",
      "Finished with batches...\n",
      "Finished with one full epoch...\n",
      "Finished all batches in validation...\n",
      "Finished with calculating metrics...\n",
      "Epoch 160\n",
      "---------------\n",
      "Batch 0\n",
      "train loss: 0.1527 [0/27652]\n",
      "Finished with batches...\n",
      "Finished with one full epoch...\n",
      "Finished all batches in validation...\n",
      "Finished with calculating metrics...\n",
      "Epoch 161\n",
      "---------------\n",
      "Batch 0\n",
      "train loss: 0.1532 [0/27652]\n",
      "Finished with batches...\n",
      "Finished with one full epoch...\n",
      "Finished all batches in validation...\n",
      "Finished with calculating metrics...\n",
      "Epoch 162\n",
      "---------------\n",
      "Batch 0\n",
      "train loss: 0.1534 [0/27652]\n",
      "Finished with batches...\n",
      "Finished with one full epoch...\n",
      "Finished all batches in validation...\n",
      "Finished with calculating metrics...\n",
      "Epoch 163\n",
      "---------------\n",
      "Batch 0\n",
      "train loss: 0.1534 [0/27652]\n",
      "Finished with batches...\n",
      "Finished with one full epoch...\n",
      "Finished all batches in validation...\n",
      "Finished with calculating metrics...\n",
      "Epoch 164\n",
      "---------------\n",
      "Batch 0\n",
      "train loss: 0.1527 [0/27652]\n",
      "Finished with batches...\n",
      "Finished with one full epoch...\n",
      "Finished all batches in validation...\n",
      "Finished with calculating metrics...\n",
      "Epoch 165\n",
      "---------------\n",
      "Batch 0\n",
      "train loss: 0.1527 [0/27652]\n",
      "Finished with batches...\n",
      "Finished with one full epoch...\n",
      "Finished all batches in validation...\n",
      "Finished with calculating metrics...\n",
      "Epoch 166\n",
      "---------------\n",
      "Batch 0\n",
      "train loss: 0.1521 [0/27652]\n",
      "Finished with batches...\n",
      "Finished with one full epoch...\n",
      "Finished all batches in validation...\n",
      "Finished with calculating metrics...\n",
      "Epoch 167\n",
      "---------------\n",
      "Batch 0\n",
      "train loss: 0.1529 [0/27652]\n",
      "Finished with batches...\n",
      "Finished with one full epoch...\n",
      "Finished all batches in validation...\n",
      "Finished with calculating metrics...\n",
      "Epoch 168\n",
      "---------------\n",
      "Batch 0\n",
      "train loss: 0.1529 [0/27652]\n",
      "Finished with batches...\n",
      "Finished with one full epoch...\n",
      "Finished all batches in validation...\n",
      "Finished with calculating metrics...\n",
      "Epoch 169\n",
      "---------------\n",
      "Batch 0\n",
      "train loss: 0.1530 [0/27652]\n",
      "Finished with batches...\n",
      "Finished with one full epoch...\n",
      "Finished all batches in validation...\n",
      "Finished with calculating metrics...\n",
      "Epoch 170\n",
      "---------------\n",
      "Batch 0\n",
      "train loss: 0.1531 [0/27652]\n",
      "Finished with batches...\n",
      "Finished with one full epoch...\n",
      "Finished all batches in validation...\n",
      "Finished with calculating metrics...\n",
      "Epoch 171\n",
      "---------------\n",
      "Batch 0\n",
      "train loss: 0.1523 [0/27652]\n",
      "Finished with batches...\n",
      "Finished with one full epoch...\n",
      "Finished all batches in validation...\n",
      "Finished with calculating metrics...\n",
      "Epoch 172\n",
      "---------------\n",
      "Batch 0\n",
      "train loss: 0.1529 [0/27652]\n",
      "Finished with batches...\n",
      "Finished with one full epoch...\n",
      "Finished all batches in validation...\n",
      "Finished with calculating metrics...\n",
      "Epoch 173\n",
      "---------------\n",
      "Batch 0\n",
      "train loss: 0.1520 [0/27652]\n",
      "Finished with batches...\n",
      "Finished with one full epoch...\n",
      "Finished all batches in validation...\n",
      "Finished with calculating metrics...\n",
      "Epoch 174\n",
      "---------------\n",
      "Batch 0\n",
      "train loss: 0.1515 [0/27652]\n",
      "Finished with batches...\n",
      "Finished with one full epoch...\n",
      "Finished all batches in validation...\n",
      "Finished with calculating metrics...\n",
      "Epoch 175\n",
      "---------------\n",
      "Batch 0\n",
      "train loss: 0.1523 [0/27652]\n",
      "Finished with batches...\n",
      "Finished with one full epoch...\n",
      "Finished all batches in validation...\n",
      "Finished with calculating metrics...\n",
      "Epoch 176\n",
      "---------------\n",
      "Batch 0\n",
      "train loss: 0.1520 [0/27652]\n",
      "Finished with batches...\n",
      "Finished with one full epoch...\n",
      "Finished all batches in validation...\n",
      "Finished with calculating metrics...\n",
      "Epoch 177\n",
      "---------------\n",
      "Batch 0\n",
      "train loss: 0.1525 [0/27652]\n",
      "Finished with batches...\n",
      "Finished with one full epoch...\n",
      "Finished all batches in validation...\n",
      "Finished with calculating metrics...\n",
      "Epoch 178\n",
      "---------------\n",
      "Batch 0\n",
      "train loss: 0.1512 [0/27652]\n",
      "Finished with batches...\n",
      "Finished with one full epoch...\n",
      "Finished all batches in validation...\n",
      "Finished with calculating metrics...\n",
      "Epoch 179\n",
      "---------------\n",
      "Batch 0\n",
      "train loss: 0.1511 [0/27652]\n",
      "Finished with batches...\n",
      "Finished with one full epoch...\n",
      "Finished all batches in validation...\n",
      "Finished with calculating metrics...\n",
      "Epoch 180\n",
      "---------------\n",
      "Batch 0\n",
      "train loss: 0.1523 [0/27652]\n",
      "Finished with batches...\n",
      "Finished with one full epoch...\n",
      "Finished all batches in validation...\n",
      "Finished with calculating metrics...\n",
      "Epoch 181\n",
      "---------------\n",
      "Batch 0\n",
      "train loss: 0.1522 [0/27652]\n",
      "Finished with batches...\n",
      "Finished with one full epoch...\n",
      "Finished all batches in validation...\n",
      "Finished with calculating metrics...\n",
      "Epoch 182\n",
      "---------------\n",
      "Batch 0\n",
      "train loss: 0.1517 [0/27652]\n",
      "Finished with batches...\n",
      "Finished with one full epoch...\n",
      "Finished all batches in validation...\n",
      "Finished with calculating metrics...\n",
      "Epoch 183\n",
      "---------------\n",
      "Batch 0\n",
      "train loss: 0.1513 [0/27652]\n",
      "Finished with batches...\n",
      "Finished with one full epoch...\n",
      "Finished all batches in validation...\n",
      "Finished with calculating metrics...\n",
      "Epoch 184\n",
      "---------------\n",
      "Batch 0\n",
      "train loss: 0.1514 [0/27652]\n",
      "Finished with batches...\n",
      "Finished with one full epoch...\n",
      "Finished all batches in validation...\n",
      "Finished with calculating metrics...\n",
      "Epoch 185\n",
      "---------------\n",
      "Batch 0\n",
      "train loss: 0.1509 [0/27652]\n",
      "Finished with batches...\n",
      "Finished with one full epoch...\n",
      "Finished all batches in validation...\n",
      "Finished with calculating metrics...\n",
      "Epoch 186\n",
      "---------------\n",
      "Batch 0\n",
      "train loss: 0.1511 [0/27652]\n",
      "Finished with batches...\n",
      "Finished with one full epoch...\n",
      "Finished all batches in validation...\n",
      "Finished with calculating metrics...\n",
      "Epoch 187\n",
      "---------------\n",
      "Batch 0\n",
      "train loss: 0.1503 [0/27652]\n",
      "Finished with batches...\n",
      "Finished with one full epoch...\n",
      "Finished all batches in validation...\n",
      "Finished with calculating metrics...\n",
      "Epoch 188\n",
      "---------------\n",
      "Batch 0\n",
      "train loss: 0.1516 [0/27652]\n",
      "Finished with batches...\n",
      "Finished with one full epoch...\n",
      "Finished all batches in validation...\n",
      "Finished with calculating metrics...\n",
      "Epoch 189\n",
      "---------------\n",
      "Batch 0\n",
      "train loss: 0.1507 [0/27652]\n",
      "Finished with batches...\n",
      "Finished with one full epoch...\n",
      "Finished all batches in validation...\n",
      "Finished with calculating metrics...\n",
      "Epoch 190\n",
      "---------------\n",
      "Batch 0\n",
      "train loss: 0.1510 [0/27652]\n",
      "Finished with batches...\n",
      "Finished with one full epoch...\n",
      "Finished all batches in validation...\n",
      "Finished with calculating metrics...\n",
      "Epoch 191\n",
      "---------------\n",
      "Batch 0\n",
      "train loss: 0.1507 [0/27652]\n",
      "Finished with batches...\n",
      "Finished with one full epoch...\n",
      "Finished all batches in validation...\n",
      "Finished with calculating metrics...\n",
      "Epoch 192\n",
      "---------------\n",
      "Batch 0\n",
      "train loss: 0.1500 [0/27652]\n",
      "Finished with batches...\n",
      "Finished with one full epoch...\n",
      "Finished all batches in validation...\n",
      "Finished with calculating metrics...\n",
      "Epoch 193\n",
      "---------------\n",
      "Batch 0\n",
      "train loss: 0.1509 [0/27652]\n",
      "Finished with batches...\n",
      "Finished with one full epoch...\n",
      "Finished all batches in validation...\n",
      "Finished with calculating metrics...\n",
      "Epoch 194\n",
      "---------------\n",
      "Batch 0\n",
      "train loss: 0.1498 [0/27652]\n",
      "Finished with batches...\n",
      "Finished with one full epoch...\n",
      "Finished all batches in validation...\n",
      "Finished with calculating metrics...\n",
      "Epoch 195\n",
      "---------------\n"
     ]
    },
    {
     "name": "stdout",
     "output_type": "stream",
     "text": [
      "Batch 0\n",
      "train loss: 0.1495 [0/27652]\n",
      "Finished with batches...\n",
      "Finished with one full epoch...\n",
      "Finished all batches in validation...\n",
      "Finished with calculating metrics...\n",
      "Epoch 196\n",
      "---------------\n",
      "Batch 0\n",
      "train loss: 0.1494 [0/27652]\n",
      "Finished with batches...\n",
      "Finished with one full epoch...\n",
      "Finished all batches in validation...\n",
      "Finished with calculating metrics...\n",
      "Epoch 197\n",
      "---------------\n",
      "Batch 0\n",
      "train loss: 0.1502 [0/27652]\n",
      "Finished with batches...\n",
      "Finished with one full epoch...\n",
      "Finished all batches in validation...\n",
      "Finished with calculating metrics...\n",
      "Epoch 198\n",
      "---------------\n",
      "Batch 0\n",
      "train loss: 0.1492 [0/27652]\n",
      "Finished with batches...\n",
      "Finished with one full epoch...\n",
      "Finished all batches in validation...\n",
      "Finished with calculating metrics...\n",
      "Epoch 199\n",
      "---------------\n",
      "Batch 0\n",
      "train loss: 0.1496 [0/27652]\n",
      "Finished with batches...\n",
      "Finished with one full epoch...\n",
      "Finished all batches in validation...\n",
      "Finished with calculating metrics...\n",
      "Epoch 200\n",
      "---------------\n",
      "Batch 0\n",
      "train loss: 0.1499 [0/27652]\n",
      "Finished with batches...\n",
      "Finished with one full epoch...\n",
      "Finished all batches in validation...\n",
      "Finished with calculating metrics...\n",
      "Epoch 201\n",
      "---------------\n",
      "Batch 0\n",
      "train loss: 0.1492 [0/27652]\n",
      "Finished with batches...\n",
      "Finished with one full epoch...\n",
      "Finished all batches in validation...\n",
      "Finished with calculating metrics...\n",
      "Epoch 202\n",
      "---------------\n",
      "Batch 0\n",
      "train loss: 0.1501 [0/27652]\n",
      "Finished with batches...\n",
      "Finished with one full epoch...\n",
      "Finished all batches in validation...\n",
      "Finished with calculating metrics...\n",
      "Epoch 203\n",
      "---------------\n",
      "Batch 0\n",
      "train loss: 0.1503 [0/27652]\n",
      "Finished with batches...\n",
      "Finished with one full epoch...\n",
      "Finished all batches in validation...\n",
      "Finished with calculating metrics...\n",
      "Epoch 204\n",
      "---------------\n",
      "Batch 0\n",
      "train loss: 0.1501 [0/27652]\n",
      "Finished with batches...\n",
      "Finished with one full epoch...\n",
      "Finished all batches in validation...\n",
      "Finished with calculating metrics...\n",
      "Epoch 205\n",
      "---------------\n",
      "Batch 0\n",
      "train loss: 0.1498 [0/27652]\n",
      "Finished with batches...\n",
      "Finished with one full epoch...\n",
      "Finished all batches in validation...\n",
      "Finished with calculating metrics...\n",
      "Epoch 206\n",
      "---------------\n",
      "Batch 0\n",
      "train loss: 0.1500 [0/27652]\n",
      "Finished with batches...\n",
      "Finished with one full epoch...\n",
      "Finished all batches in validation...\n",
      "Finished with calculating metrics...\n",
      "Epoch 207\n",
      "---------------\n",
      "Batch 0\n",
      "train loss: 0.1496 [0/27652]\n",
      "Finished with batches...\n",
      "Finished with one full epoch...\n",
      "Finished all batches in validation...\n",
      "Finished with calculating metrics...\n",
      "Epoch 208\n",
      "---------------\n",
      "Batch 0\n",
      "train loss: 0.1496 [0/27652]\n",
      "Finished with batches...\n",
      "Finished with one full epoch...\n",
      "Finished all batches in validation...\n",
      "Finished with calculating metrics...\n",
      "Epoch 209\n",
      "---------------\n",
      "Batch 0\n",
      "train loss: 0.1493 [0/27652]\n",
      "Finished with batches...\n",
      "Finished with one full epoch...\n",
      "Finished all batches in validation...\n",
      "Finished with calculating metrics...\n",
      "Epoch 210\n",
      "---------------\n",
      "Batch 0\n",
      "train loss: 0.1495 [0/27652]\n",
      "Finished with batches...\n",
      "Finished with one full epoch...\n",
      "Finished all batches in validation...\n",
      "Finished with calculating metrics...\n",
      "Epoch 211\n",
      "---------------\n",
      "Batch 0\n",
      "train loss: 0.1485 [0/27652]\n",
      "Finished with batches...\n",
      "Finished with one full epoch...\n",
      "Finished all batches in validation...\n",
      "Finished with calculating metrics...\n",
      "Epoch 212\n",
      "---------------\n",
      "Batch 0\n",
      "train loss: 0.1487 [0/27652]\n",
      "Finished with batches...\n",
      "Finished with one full epoch...\n",
      "Finished all batches in validation...\n",
      "Finished with calculating metrics...\n",
      "Epoch 213\n",
      "---------------\n",
      "Batch 0\n",
      "train loss: 0.1484 [0/27652]\n",
      "Finished with batches...\n",
      "Finished with one full epoch...\n",
      "Finished all batches in validation...\n",
      "Finished with calculating metrics...\n",
      "Epoch 214\n",
      "---------------\n",
      "Batch 0\n",
      "train loss: 0.1486 [0/27652]\n",
      "Finished with batches...\n",
      "Finished with one full epoch...\n",
      "Finished all batches in validation...\n",
      "Finished with calculating metrics...\n",
      "Epoch 215\n",
      "---------------\n",
      "Batch 0\n",
      "train loss: 0.1495 [0/27652]\n",
      "Finished with batches...\n",
      "Finished with one full epoch...\n",
      "Finished all batches in validation...\n",
      "Finished with calculating metrics...\n",
      "Epoch 216\n",
      "---------------\n",
      "Batch 0\n",
      "train loss: 0.1478 [0/27652]\n",
      "Finished with batches...\n",
      "Finished with one full epoch...\n",
      "Finished all batches in validation...\n",
      "Finished with calculating metrics...\n",
      "Epoch 217\n",
      "---------------\n",
      "Batch 0\n",
      "train loss: 0.1484 [0/27652]\n",
      "Finished with batches...\n",
      "Finished with one full epoch...\n",
      "Finished all batches in validation...\n",
      "Finished with calculating metrics...\n",
      "Epoch 218\n",
      "---------------\n",
      "Batch 0\n",
      "train loss: 0.1482 [0/27652]\n",
      "Finished with batches...\n",
      "Finished with one full epoch...\n",
      "Finished all batches in validation...\n",
      "Finished with calculating metrics...\n",
      "Epoch 219\n",
      "---------------\n",
      "Batch 0\n",
      "train loss: 0.1492 [0/27652]\n",
      "Finished with batches...\n",
      "Finished with one full epoch...\n",
      "Finished all batches in validation...\n",
      "Finished with calculating metrics...\n",
      "Epoch 220\n",
      "---------------\n",
      "Batch 0\n",
      "train loss: 0.1495 [0/27652]\n",
      "Finished with batches...\n",
      "Finished with one full epoch...\n",
      "Finished all batches in validation...\n",
      "Finished with calculating metrics...\n",
      "Epoch 221\n",
      "---------------\n",
      "Batch 0\n",
      "train loss: 0.1478 [0/27652]\n",
      "Finished with batches...\n",
      "Finished with one full epoch...\n",
      "Finished all batches in validation...\n",
      "Finished with calculating metrics...\n",
      "Epoch 222\n",
      "---------------\n",
      "Batch 0\n",
      "train loss: 0.1488 [0/27652]\n",
      "Finished with batches...\n",
      "Finished with one full epoch...\n",
      "Finished all batches in validation...\n",
      "Finished with calculating metrics...\n",
      "Epoch 223\n",
      "---------------\n",
      "Batch 0\n",
      "train loss: 0.1478 [0/27652]\n",
      "Finished with batches...\n",
      "Finished with one full epoch...\n",
      "Finished all batches in validation...\n",
      "Finished with calculating metrics...\n",
      "Epoch 224\n",
      "---------------\n",
      "Batch 0\n",
      "train loss: 0.1478 [0/27652]\n",
      "Finished with batches...\n",
      "Finished with one full epoch...\n",
      "Finished all batches in validation...\n",
      "Finished with calculating metrics...\n",
      "Epoch 225\n",
      "---------------\n",
      "Batch 0\n",
      "train loss: 0.1482 [0/27652]\n",
      "Finished with batches...\n",
      "Finished with one full epoch...\n",
      "Finished all batches in validation...\n",
      "Finished with calculating metrics...\n",
      "Epoch 226\n",
      "---------------\n"
     ]
    },
    {
     "name": "stderr",
     "output_type": "stream",
     "text": [
      "/home/yang1641/.local/lib/python3.8/site-packages/sklearn/metrics/_ranking.py:980: UserWarning: No positive class found in y_true, recall is set to one for all thresholds.\n",
      "  warnings.warn(\n"
     ]
    },
    {
     "name": "stdout",
     "output_type": "stream",
     "text": [
      "Batch 0\n",
      "train loss: 0.1474 [0/27652]\n",
      "Finished with batches...\n",
      "Finished with one full epoch...\n",
      "Finished all batches in validation...\n",
      "Finished with calculating metrics...\n",
      "Epoch 227\n",
      "---------------\n",
      "Batch 0\n",
      "train loss: 0.1479 [0/27652]\n",
      "Finished with batches...\n",
      "Finished with one full epoch...\n",
      "Finished all batches in validation...\n",
      "Finished with calculating metrics...\n",
      "Epoch 228\n",
      "---------------\n",
      "Batch 0\n",
      "train loss: 0.1471 [0/27652]\n",
      "Finished with batches...\n",
      "Finished with one full epoch...\n",
      "Finished all batches in validation...\n",
      "Finished with calculating metrics...\n",
      "Epoch 229\n",
      "---------------\n",
      "Batch 0\n",
      "train loss: 0.1486 [0/27652]\n",
      "Finished with batches...\n",
      "Finished with one full epoch...\n",
      "Finished all batches in validation...\n",
      "Finished with calculating metrics...\n",
      "Epoch 230\n",
      "---------------\n",
      "Batch 0\n",
      "train loss: 0.1473 [0/27652]\n",
      "Finished with batches...\n",
      "Finished with one full epoch...\n",
      "Finished all batches in validation...\n",
      "Finished with calculating metrics...\n",
      "Epoch 231\n",
      "---------------\n",
      "Batch 0\n",
      "train loss: 0.1477 [0/27652]\n",
      "Finished with batches...\n",
      "Finished with one full epoch...\n",
      "Finished all batches in validation...\n",
      "Finished with calculating metrics...\n",
      "Epoch 232\n",
      "---------------\n",
      "Batch 0\n",
      "train loss: 0.1490 [0/27652]\n",
      "Finished with batches...\n",
      "Finished with one full epoch...\n",
      "Finished all batches in validation...\n",
      "Finished with calculating metrics...\n",
      "Epoch 233\n",
      "---------------\n",
      "Batch 0\n",
      "train loss: 0.1487 [0/27652]\n",
      "Finished with batches...\n",
      "Finished with one full epoch...\n",
      "Finished all batches in validation...\n",
      "Finished with calculating metrics...\n",
      "Epoch 234\n",
      "---------------\n",
      "Batch 0\n",
      "train loss: 0.1468 [0/27652]\n",
      "Finished with batches...\n",
      "Finished with one full epoch...\n",
      "Finished all batches in validation...\n",
      "Finished with calculating metrics...\n",
      "Epoch 235\n",
      "---------------\n",
      "Batch 0\n",
      "train loss: 0.1485 [0/27652]\n",
      "Finished with batches...\n",
      "Finished with one full epoch...\n",
      "Finished all batches in validation...\n",
      "Finished with calculating metrics...\n",
      "Epoch 236\n",
      "---------------\n",
      "Batch 0\n",
      "train loss: 0.1473 [0/27652]\n",
      "Finished with batches...\n",
      "Finished with one full epoch...\n",
      "Finished all batches in validation...\n",
      "Finished with calculating metrics...\n",
      "Epoch 237\n",
      "---------------\n",
      "Batch 0\n",
      "train loss: 0.1483 [0/27652]\n",
      "Finished with batches...\n",
      "Finished with one full epoch...\n",
      "Finished all batches in validation...\n",
      "Finished with calculating metrics...\n",
      "Epoch 238\n",
      "---------------\n",
      "Batch 0\n",
      "train loss: 0.1471 [0/27652]\n",
      "Finished with batches...\n",
      "Finished with one full epoch...\n",
      "Finished all batches in validation...\n",
      "Finished with calculating metrics...\n",
      "Epoch 239\n",
      "---------------\n",
      "Batch 0\n",
      "train loss: 0.1476 [0/27652]\n",
      "Finished with batches...\n",
      "Finished with one full epoch...\n",
      "Finished all batches in validation...\n",
      "Finished with calculating metrics...\n",
      "Epoch 240\n",
      "---------------\n",
      "Batch 0\n",
      "train loss: 0.1468 [0/27652]\n",
      "Finished with batches...\n",
      "Finished with one full epoch...\n",
      "Finished all batches in validation...\n",
      "Finished with calculating metrics...\n",
      "Epoch 241\n",
      "---------------\n",
      "Batch 0\n",
      "train loss: 0.1470 [0/27652]\n",
      "Finished with batches...\n",
      "Finished with one full epoch...\n",
      "Finished all batches in validation...\n",
      "Finished with calculating metrics...\n",
      "Epoch 242\n",
      "---------------\n",
      "Batch 0\n",
      "train loss: 0.1475 [0/27652]\n",
      "Finished with batches...\n",
      "Finished with one full epoch...\n",
      "Finished all batches in validation...\n",
      "Finished with calculating metrics...\n",
      "Epoch 243\n",
      "---------------\n",
      "Batch 0\n",
      "train loss: 0.1468 [0/27652]\n",
      "Finished with batches...\n",
      "Finished with one full epoch...\n",
      "Finished all batches in validation...\n",
      "Finished with calculating metrics...\n",
      "Epoch 244\n",
      "---------------\n",
      "Batch 0\n",
      "train loss: 0.1467 [0/27652]\n",
      "Finished with batches...\n",
      "Finished with one full epoch...\n",
      "Finished all batches in validation...\n",
      "Finished with calculating metrics...\n",
      "Epoch 245\n",
      "---------------\n",
      "Batch 0\n",
      "train loss: 0.1459 [0/27652]\n",
      "Finished with batches...\n",
      "Finished with one full epoch...\n",
      "Finished all batches in validation...\n",
      "Finished with calculating metrics...\n",
      "Epoch 246\n",
      "---------------\n",
      "Batch 0\n",
      "train loss: 0.1476 [0/27652]\n",
      "Finished with batches...\n",
      "Finished with one full epoch...\n",
      "Finished all batches in validation...\n",
      "Finished with calculating metrics...\n",
      "Epoch 247\n",
      "---------------\n",
      "Batch 0\n",
      "train loss: 0.1472 [0/27652]\n",
      "Finished with batches...\n",
      "Finished with one full epoch...\n",
      "Finished all batches in validation...\n",
      "Finished with calculating metrics...\n",
      "Epoch 248\n",
      "---------------\n",
      "Batch 0\n",
      "train loss: 0.1467 [0/27652]\n",
      "Finished with batches...\n",
      "Finished with one full epoch...\n",
      "Finished all batches in validation...\n",
      "Finished with calculating metrics...\n",
      "Epoch 249\n",
      "---------------\n",
      "Batch 0\n",
      "train loss: 0.1470 [0/27652]\n",
      "Finished with batches...\n",
      "Finished with one full epoch...\n",
      "Finished all batches in validation...\n",
      "Finished with calculating metrics...\n",
      "Epoch 250\n",
      "---------------\n",
      "Batch 0\n",
      "train loss: 0.1458 [0/27652]\n",
      "Finished with batches...\n",
      "Finished with one full epoch...\n",
      "Finished all batches in validation...\n",
      "Finished with calculating metrics...\n",
      "Epoch 251\n",
      "---------------\n",
      "Batch 0\n",
      "train loss: 0.1466 [0/27652]\n",
      "Finished with batches...\n",
      "Finished with one full epoch...\n",
      "Finished all batches in validation...\n",
      "Finished with calculating metrics...\n",
      "Epoch 252\n",
      "---------------\n",
      "Batch 0\n",
      "train loss: 0.1470 [0/27652]\n",
      "Finished with batches...\n",
      "Finished with one full epoch...\n",
      "Finished all batches in validation...\n",
      "Finished with calculating metrics...\n",
      "Epoch 253\n",
      "---------------\n",
      "Batch 0\n",
      "train loss: 0.1465 [0/27652]\n",
      "Finished with batches...\n",
      "Finished with one full epoch...\n",
      "Finished all batches in validation...\n",
      "Finished with calculating metrics...\n",
      "Epoch 254\n",
      "---------------\n",
      "Batch 0\n",
      "train loss: 0.1465 [0/27652]\n",
      "Finished with batches...\n",
      "Finished with one full epoch...\n",
      "Finished all batches in validation...\n",
      "Finished with calculating metrics...\n",
      "Epoch 255\n",
      "---------------\n",
      "Batch 0\n",
      "train loss: 0.1467 [0/27652]\n",
      "Finished with batches...\n",
      "Finished with one full epoch...\n",
      "Finished all batches in validation...\n",
      "Finished with calculating metrics...\n",
      "Epoch 256\n",
      "---------------\n",
      "Batch 0\n",
      "train loss: 0.1461 [0/27652]\n",
      "Finished with batches...\n",
      "Finished with one full epoch...\n",
      "Finished all batches in validation...\n",
      "Finished with calculating metrics...\n",
      "Epoch 257\n",
      "---------------\n",
      "Batch 0\n",
      "train loss: 0.1458 [0/27652]\n",
      "Finished with batches...\n",
      "Finished with one full epoch...\n",
      "Finished all batches in validation...\n",
      "Finished with calculating metrics...\n",
      "Epoch 258\n",
      "---------------\n",
      "Batch 0\n",
      "train loss: 0.1464 [0/27652]\n",
      "Finished with batches...\n",
      "Finished with one full epoch...\n",
      "Finished all batches in validation...\n",
      "Finished with calculating metrics...\n",
      "Epoch 259\n",
      "---------------\n",
      "Batch 0\n",
      "train loss: 0.1452 [0/27652]\n",
      "Finished with batches...\n",
      "Finished with one full epoch...\n",
      "Finished all batches in validation...\n",
      "Finished with calculating metrics...\n",
      "Epoch 260\n",
      "---------------\n",
      "Batch 0\n",
      "train loss: 0.1456 [0/27652]\n",
      "Finished with batches...\n",
      "Finished with one full epoch...\n",
      "Finished all batches in validation...\n",
      "Finished with calculating metrics...\n",
      "Epoch 261\n",
      "---------------\n",
      "Batch 0\n",
      "train loss: 0.1448 [0/27652]\n",
      "Finished with batches...\n",
      "Finished with one full epoch...\n",
      "Finished all batches in validation...\n",
      "Finished with calculating metrics...\n",
      "Epoch 262\n",
      "---------------\n",
      "Batch 0\n",
      "train loss: 0.1454 [0/27652]\n",
      "Finished with batches...\n",
      "Finished with one full epoch...\n",
      "Finished all batches in validation...\n",
      "Finished with calculating metrics...\n",
      "Epoch 263\n",
      "---------------\n",
      "Batch 0\n",
      "train loss: 0.1450 [0/27652]\n",
      "Finished with batches...\n",
      "Finished with one full epoch...\n",
      "Finished all batches in validation...\n",
      "Finished with calculating metrics...\n",
      "Epoch 264\n",
      "---------------\n",
      "Batch 0\n",
      "train loss: 0.1465 [0/27652]\n",
      "Finished with batches...\n",
      "Finished with one full epoch...\n",
      "Finished all batches in validation...\n",
      "Finished with calculating metrics...\n",
      "Epoch 265\n",
      "---------------\n",
      "Batch 0\n",
      "train loss: 0.1453 [0/27652]\n",
      "Finished with batches...\n",
      "Finished with one full epoch...\n",
      "Finished all batches in validation...\n",
      "Finished with calculating metrics...\n",
      "Epoch 266\n",
      "---------------\n",
      "Batch 0\n",
      "train loss: 0.1457 [0/27652]\n",
      "Finished with batches...\n",
      "Finished with one full epoch...\n",
      "Finished all batches in validation...\n",
      "Finished with calculating metrics...\n",
      "Epoch 267\n",
      "---------------\n",
      "Batch 0\n",
      "train loss: 0.1449 [0/27652]\n",
      "Finished with batches...\n",
      "Finished with one full epoch...\n",
      "Finished all batches in validation...\n",
      "Finished with calculating metrics...\n",
      "Epoch 268\n",
      "---------------\n",
      "Batch 0\n",
      "train loss: 0.1457 [0/27652]\n",
      "Finished with batches...\n",
      "Finished with one full epoch...\n"
     ]
    },
    {
     "name": "stdout",
     "output_type": "stream",
     "text": [
      "Finished all batches in validation...\n",
      "Finished with calculating metrics...\n",
      "Epoch 269\n",
      "---------------\n",
      "Batch 0\n",
      "train loss: 0.1453 [0/27652]\n",
      "Finished with batches...\n",
      "Finished with one full epoch...\n",
      "Finished all batches in validation...\n",
      "Finished with calculating metrics...\n",
      "Epoch 270\n",
      "---------------\n",
      "Batch 0\n",
      "train loss: 0.1454 [0/27652]\n",
      "Finished with batches...\n",
      "Finished with one full epoch...\n",
      "Finished all batches in validation...\n",
      "Finished with calculating metrics...\n",
      "Epoch 271\n",
      "---------------\n",
      "Batch 0\n",
      "train loss: 0.1466 [0/27652]\n",
      "Finished with batches...\n",
      "Finished with one full epoch...\n",
      "Finished all batches in validation...\n",
      "Finished with calculating metrics...\n",
      "Epoch 272\n",
      "---------------\n",
      "Batch 0\n",
      "train loss: 0.1469 [0/27652]\n",
      "Finished with batches...\n",
      "Finished with one full epoch...\n",
      "Finished all batches in validation...\n",
      "Finished with calculating metrics...\n",
      "Epoch 273\n",
      "---------------\n",
      "Batch 0\n",
      "train loss: 0.1448 [0/27652]\n",
      "Finished with batches...\n",
      "Finished with one full epoch...\n",
      "Finished all batches in validation...\n",
      "Finished with calculating metrics...\n",
      "Epoch 274\n",
      "---------------\n",
      "Batch 0\n",
      "train loss: 0.1459 [0/27652]\n",
      "Finished with batches...\n",
      "Finished with one full epoch...\n",
      "Finished all batches in validation...\n",
      "Finished with calculating metrics...\n",
      "Epoch 275\n",
      "---------------\n",
      "Batch 0\n",
      "train loss: 0.1464 [0/27652]\n",
      "Finished with batches...\n",
      "Finished with one full epoch...\n",
      "Finished all batches in validation...\n",
      "Finished with calculating metrics...\n",
      "Epoch 276\n",
      "---------------\n",
      "Batch 0\n",
      "train loss: 0.1451 [0/27652]\n",
      "Finished with batches...\n",
      "Finished with one full epoch...\n",
      "Finished all batches in validation...\n",
      "Finished with calculating metrics...\n",
      "Epoch 277\n",
      "---------------\n",
      "Batch 0\n",
      "train loss: 0.1453 [0/27652]\n",
      "Finished with batches...\n",
      "Finished with one full epoch...\n",
      "Finished all batches in validation...\n",
      "Finished with calculating metrics...\n",
      "Epoch 278\n",
      "---------------\n",
      "Batch 0\n",
      "train loss: 0.1468 [0/27652]\n",
      "Finished with batches...\n",
      "Finished with one full epoch...\n",
      "Finished all batches in validation...\n",
      "Finished with calculating metrics...\n",
      "Epoch 279\n",
      "---------------\n",
      "Batch 0\n",
      "train loss: 0.1459 [0/27652]\n",
      "Finished with batches...\n",
      "Finished with one full epoch...\n",
      "Finished all batches in validation...\n",
      "Finished with calculating metrics...\n",
      "Epoch 280\n",
      "---------------\n",
      "Batch 0\n",
      "train loss: 0.1451 [0/27652]\n",
      "Finished with batches...\n",
      "Finished with one full epoch...\n",
      "Finished all batches in validation...\n",
      "Finished with calculating metrics...\n",
      "Epoch 281\n",
      "---------------\n",
      "Batch 0\n",
      "train loss: 0.1450 [0/27652]\n",
      "Finished with batches...\n",
      "Finished with one full epoch...\n",
      "Finished all batches in validation...\n",
      "Finished with calculating metrics...\n",
      "Epoch 282\n",
      "---------------\n",
      "Batch 0\n",
      "train loss: 0.1453 [0/27652]\n",
      "Finished with batches...\n",
      "Finished with one full epoch...\n",
      "Finished all batches in validation...\n",
      "Finished with calculating metrics...\n",
      "Epoch 283\n",
      "---------------\n",
      "Batch 0\n",
      "train loss: 0.1454 [0/27652]\n",
      "Finished with batches...\n",
      "Finished with one full epoch...\n",
      "Finished all batches in validation...\n",
      "Finished with calculating metrics...\n",
      "Epoch 284\n",
      "---------------\n",
      "Batch 0\n",
      "train loss: 0.1444 [0/27652]\n",
      "Finished with batches...\n",
      "Finished with one full epoch...\n",
      "Finished all batches in validation...\n",
      "Finished with calculating metrics...\n",
      "Epoch 285\n",
      "---------------\n",
      "Batch 0\n",
      "train loss: 0.1461 [0/27652]\n",
      "Finished with batches...\n",
      "Finished with one full epoch...\n",
      "Finished all batches in validation...\n",
      "Finished with calculating metrics...\n",
      "Epoch 286\n",
      "---------------\n",
      "Batch 0\n",
      "train loss: 0.1448 [0/27652]\n",
      "Finished with batches...\n",
      "Finished with one full epoch...\n",
      "Finished all batches in validation...\n",
      "Finished with calculating metrics...\n",
      "Epoch 287\n",
      "---------------\n",
      "Batch 0\n",
      "train loss: 0.1453 [0/27652]\n",
      "Finished with batches...\n",
      "Finished with one full epoch...\n",
      "Finished all batches in validation...\n",
      "Finished with calculating metrics...\n",
      "Epoch 288\n",
      "---------------\n",
      "Batch 0\n",
      "train loss: 0.1454 [0/27652]\n",
      "Finished with batches...\n",
      "Finished with one full epoch...\n",
      "Finished all batches in validation...\n",
      "Finished with calculating metrics...\n",
      "Epoch 289\n",
      "---------------\n",
      "Batch 0\n",
      "train loss: 0.1440 [0/27652]\n",
      "Finished with batches...\n",
      "Finished with one full epoch...\n",
      "Finished all batches in validation...\n",
      "Finished with calculating metrics...\n",
      "Epoch 290\n",
      "---------------\n",
      "Batch 0\n",
      "train loss: 0.1463 [0/27652]\n",
      "Finished with batches...\n",
      "Finished with one full epoch...\n",
      "Finished all batches in validation...\n",
      "Finished with calculating metrics...\n",
      "Epoch 291\n",
      "---------------\n",
      "Batch 0\n",
      "train loss: 0.1439 [0/27652]\n",
      "Finished with batches...\n",
      "Finished with one full epoch...\n",
      "Finished all batches in validation...\n",
      "Finished with calculating metrics...\n",
      "Epoch 292\n",
      "---------------\n",
      "Batch 0\n",
      "train loss: 0.1445 [0/27652]\n",
      "Finished with batches...\n",
      "Finished with one full epoch...\n",
      "Finished all batches in validation...\n",
      "Finished with calculating metrics...\n",
      "Epoch 293\n",
      "---------------\n",
      "Batch 0\n",
      "train loss: 0.1449 [0/27652]\n",
      "Finished with batches...\n",
      "Finished with one full epoch...\n",
      "Finished all batches in validation...\n",
      "Finished with calculating metrics...\n",
      "Epoch 294\n",
      "---------------\n",
      "Batch 0\n",
      "train loss: 0.1456 [0/27652]\n",
      "Finished with batches...\n",
      "Finished with one full epoch...\n",
      "Finished all batches in validation...\n",
      "Finished with calculating metrics...\n",
      "Epoch 295\n",
      "---------------\n",
      "Batch 0\n",
      "train loss: 0.1446 [0/27652]\n",
      "Finished with batches...\n",
      "Finished with one full epoch...\n",
      "Finished all batches in validation...\n",
      "Finished with calculating metrics...\n",
      "Epoch 296\n",
      "---------------\n",
      "Batch 0\n",
      "train loss: 0.1457 [0/27652]\n",
      "Finished with batches...\n",
      "Finished with one full epoch...\n",
      "Finished all batches in validation...\n",
      "Finished with calculating metrics...\n",
      "Epoch 297\n",
      "---------------\n",
      "Batch 0\n",
      "train loss: 0.1445 [0/27652]\n",
      "Finished with batches...\n",
      "Finished with one full epoch...\n",
      "Finished all batches in validation...\n",
      "Finished with calculating metrics...\n",
      "Epoch 298\n",
      "---------------\n",
      "Batch 0\n",
      "train loss: 0.1445 [0/27652]\n",
      "Finished with batches...\n",
      "Finished with one full epoch...\n",
      "Finished all batches in validation...\n",
      "Finished with calculating metrics...\n",
      "Epoch 299\n",
      "---------------\n",
      "Batch 0\n",
      "train loss: 0.1446 [0/27652]\n",
      "Finished with batches...\n",
      "Finished with one full epoch...\n",
      "Finished all batches in validation...\n",
      "Finished with calculating metrics...\n",
      "Epoch 300\n",
      "---------------\n",
      "Batch 0\n",
      "train loss: 0.1448 [0/27652]\n",
      "Finished with batches...\n",
      "Finished with one full epoch...\n",
      "Finished all batches in validation...\n",
      "Finished with calculating metrics...\n",
      "Epoch 301\n",
      "---------------\n",
      "Batch 0\n",
      "train loss: 0.1431 [0/27652]\n",
      "Finished with batches...\n",
      "Finished with one full epoch...\n",
      "Finished all batches in validation...\n",
      "Finished with calculating metrics...\n",
      "Epoch 302\n",
      "---------------\n",
      "Batch 0\n",
      "train loss: 0.1446 [0/27652]\n",
      "Finished with batches...\n",
      "Finished with one full epoch...\n",
      "Finished all batches in validation...\n",
      "Finished with calculating metrics...\n",
      "Epoch 303\n",
      "---------------\n",
      "Batch 0\n",
      "train loss: 0.1440 [0/27652]\n",
      "Finished with batches...\n",
      "Finished with one full epoch...\n",
      "Finished all batches in validation...\n",
      "Finished with calculating metrics...\n",
      "Epoch 304\n",
      "---------------\n",
      "Batch 0\n",
      "train loss: 0.1445 [0/27652]\n",
      "Finished with batches...\n",
      "Finished with one full epoch...\n",
      "Finished all batches in validation...\n",
      "Finished with calculating metrics...\n",
      "Epoch 305\n",
      "---------------\n",
      "Batch 0\n",
      "train loss: 0.1447 [0/27652]\n",
      "Finished with batches...\n",
      "Finished with one full epoch...\n",
      "Finished all batches in validation...\n",
      "Finished with calculating metrics...\n",
      "Epoch 306\n",
      "---------------\n",
      "Batch 0\n",
      "train loss: 0.1442 [0/27652]\n",
      "Finished with batches...\n",
      "Finished with one full epoch...\n",
      "Finished all batches in validation...\n",
      "Finished with calculating metrics...\n",
      "Epoch 307\n",
      "---------------\n",
      "Batch 0\n",
      "train loss: 0.1441 [0/27652]\n",
      "Finished with batches...\n",
      "Finished with one full epoch...\n",
      "Finished all batches in validation...\n",
      "Finished with calculating metrics...\n",
      "Epoch 308\n",
      "---------------\n",
      "Batch 0\n",
      "train loss: 0.1446 [0/27652]\n",
      "Finished with batches...\n",
      "Finished with one full epoch...\n",
      "Finished all batches in validation...\n",
      "Finished with calculating metrics...\n",
      "Epoch 309\n",
      "---------------\n",
      "Batch 0\n",
      "train loss: 0.1452 [0/27652]\n",
      "Finished with batches...\n",
      "Finished with one full epoch...\n",
      "Finished all batches in validation...\n",
      "Finished with calculating metrics...\n",
      "Epoch 310\n",
      "---------------\n",
      "Batch 0\n",
      "train loss: 0.1446 [0/27652]\n",
      "Finished with batches...\n",
      "Finished with one full epoch...\n",
      "Finished all batches in validation...\n",
      "Finished with calculating metrics...\n",
      "Epoch 311\n",
      "---------------\n"
     ]
    },
    {
     "name": "stdout",
     "output_type": "stream",
     "text": [
      "Batch 0\n",
      "train loss: 0.1438 [0/27652]\n",
      "Finished with batches...\n",
      "Finished with one full epoch...\n",
      "Finished all batches in validation...\n",
      "Finished with calculating metrics...\n",
      "Epoch 312\n",
      "---------------\n",
      "Batch 0\n",
      "train loss: 0.1435 [0/27652]\n",
      "Finished with batches...\n",
      "Finished with one full epoch...\n",
      "Finished all batches in validation...\n",
      "Finished with calculating metrics...\n",
      "Epoch 313\n",
      "---------------\n",
      "Batch 0\n",
      "train loss: 0.1443 [0/27652]\n",
      "Finished with batches...\n",
      "Finished with one full epoch...\n",
      "Finished all batches in validation...\n",
      "Finished with calculating metrics...\n",
      "Epoch 314\n",
      "---------------\n",
      "Batch 0\n",
      "train loss: 0.1445 [0/27652]\n",
      "Finished with batches...\n",
      "Finished with one full epoch...\n",
      "Finished all batches in validation...\n",
      "Finished with calculating metrics...\n",
      "Epoch 315\n",
      "---------------\n",
      "Batch 0\n",
      "train loss: 0.1438 [0/27652]\n",
      "Finished with batches...\n",
      "Finished with one full epoch...\n",
      "Finished all batches in validation...\n",
      "Finished with calculating metrics...\n",
      "Epoch 316\n",
      "---------------\n",
      "Batch 0\n",
      "train loss: 0.1439 [0/27652]\n",
      "Finished with batches...\n",
      "Finished with one full epoch...\n",
      "Finished all batches in validation...\n",
      "Finished with calculating metrics...\n",
      "Epoch 317\n",
      "---------------\n",
      "Batch 0\n",
      "train loss: 0.1435 [0/27652]\n",
      "Finished with batches...\n",
      "Finished with one full epoch...\n",
      "Finished all batches in validation...\n",
      "Finished with calculating metrics...\n",
      "Epoch 318\n",
      "---------------\n",
      "Batch 0\n",
      "train loss: 0.1449 [0/27652]\n",
      "Finished with batches...\n",
      "Finished with one full epoch...\n",
      "Finished all batches in validation...\n",
      "Finished with calculating metrics...\n",
      "Epoch 319\n",
      "---------------\n",
      "Batch 0\n",
      "train loss: 0.1445 [0/27652]\n",
      "Finished with batches...\n",
      "Finished with one full epoch...\n",
      "Finished all batches in validation...\n",
      "Finished with calculating metrics...\n",
      "Epoch 320\n",
      "---------------\n",
      "Batch 0\n",
      "train loss: 0.1442 [0/27652]\n",
      "Finished with batches...\n",
      "Finished with one full epoch...\n",
      "Finished all batches in validation...\n",
      "Finished with calculating metrics...\n",
      "Epoch 321\n",
      "---------------\n",
      "Batch 0\n",
      "train loss: 0.1450 [0/27652]\n",
      "Finished with batches...\n",
      "Finished with one full epoch...\n",
      "Finished all batches in validation...\n",
      "Finished with calculating metrics...\n",
      "Epoch 322\n",
      "---------------\n",
      "Batch 0\n",
      "train loss: 0.1430 [0/27652]\n",
      "Finished with batches...\n",
      "Finished with one full epoch...\n",
      "Finished all batches in validation...\n",
      "Finished with calculating metrics...\n",
      "Epoch 323\n",
      "---------------\n",
      "Batch 0\n",
      "train loss: 0.1439 [0/27652]\n",
      "Finished with batches...\n",
      "Finished with one full epoch...\n",
      "Finished all batches in validation...\n",
      "Finished with calculating metrics...\n",
      "Epoch 324\n",
      "---------------\n",
      "Batch 0\n",
      "train loss: 0.1439 [0/27652]\n",
      "Finished with batches...\n",
      "Finished with one full epoch...\n",
      "Finished all batches in validation...\n",
      "Finished with calculating metrics...\n",
      "Epoch 325\n",
      "---------------\n",
      "Batch 0\n",
      "train loss: 0.1448 [0/27652]\n",
      "Finished with batches...\n",
      "Finished with one full epoch...\n",
      "Finished all batches in validation...\n",
      "Finished with calculating metrics...\n",
      "Epoch 326\n",
      "---------------\n",
      "Batch 0\n",
      "train loss: 0.1435 [0/27652]\n",
      "Finished with batches...\n",
      "Finished with one full epoch...\n",
      "Finished all batches in validation...\n",
      "Finished with calculating metrics...\n",
      "Epoch 327\n",
      "---------------\n",
      "Batch 0\n",
      "train loss: 0.1441 [0/27652]\n",
      "Finished with batches...\n",
      "Finished with one full epoch...\n",
      "Finished all batches in validation...\n",
      "Finished with calculating metrics...\n",
      "Epoch 328\n",
      "---------------\n",
      "Batch 0\n",
      "train loss: 0.1441 [0/27652]\n",
      "Finished with batches...\n",
      "Finished with one full epoch...\n",
      "Finished all batches in validation...\n",
      "Finished with calculating metrics...\n",
      "Epoch 329\n",
      "---------------\n",
      "Batch 0\n",
      "train loss: 0.1437 [0/27652]\n",
      "Finished with batches...\n",
      "Finished with one full epoch...\n",
      "Finished all batches in validation...\n",
      "Finished with calculating metrics...\n",
      "Epoch 330\n",
      "---------------\n",
      "Batch 0\n",
      "train loss: 0.1452 [0/27652]\n",
      "Finished with batches...\n",
      "Finished with one full epoch...\n",
      "Finished all batches in validation...\n",
      "Finished with calculating metrics...\n",
      "Epoch 331\n",
      "---------------\n",
      "Batch 0\n",
      "train loss: 0.1436 [0/27652]\n",
      "Finished with batches...\n",
      "Finished with one full epoch...\n",
      "Finished all batches in validation...\n",
      "Finished with calculating metrics...\n",
      "Epoch 332\n",
      "---------------\n",
      "Batch 0\n",
      "train loss: 0.1450 [0/27652]\n",
      "Finished with batches...\n",
      "Finished with one full epoch...\n",
      "Finished all batches in validation...\n",
      "Finished with calculating metrics...\n",
      "Epoch 333\n",
      "---------------\n",
      "Batch 0\n",
      "train loss: 0.1443 [0/27652]\n",
      "Finished with batches...\n",
      "Finished with one full epoch...\n",
      "Finished all batches in validation...\n",
      "Finished with calculating metrics...\n",
      "Epoch 334\n",
      "---------------\n",
      "Batch 0\n",
      "train loss: 0.1443 [0/27652]\n",
      "Finished with batches...\n",
      "Finished with one full epoch...\n",
      "Finished all batches in validation...\n",
      "Finished with calculating metrics...\n",
      "Epoch 335\n",
      "---------------\n",
      "Batch 0\n",
      "train loss: 0.1454 [0/27652]\n",
      "Finished with batches...\n",
      "Finished with one full epoch...\n",
      "Finished all batches in validation...\n",
      "Finished with calculating metrics...\n",
      "Epoch 336\n",
      "---------------\n",
      "Batch 0\n",
      "train loss: 0.1438 [0/27652]\n",
      "Finished with batches...\n",
      "Finished with one full epoch...\n",
      "Finished all batches in validation...\n",
      "Finished with calculating metrics...\n",
      "Epoch 337\n",
      "---------------\n",
      "Batch 0\n",
      "train loss: 0.1432 [0/27652]\n",
      "Finished with batches...\n",
      "Finished with one full epoch...\n",
      "Finished all batches in validation...\n",
      "Finished with calculating metrics...\n",
      "Epoch 338\n",
      "---------------\n",
      "Batch 0\n",
      "train loss: 0.1436 [0/27652]\n",
      "Finished with batches...\n",
      "Finished with one full epoch...\n",
      "Finished all batches in validation...\n",
      "Finished with calculating metrics...\n",
      "Epoch 339\n",
      "---------------\n",
      "Batch 0\n",
      "train loss: 0.1440 [0/27652]\n",
      "Finished with batches...\n",
      "Finished with one full epoch...\n",
      "Finished all batches in validation...\n",
      "Finished with calculating metrics...\n",
      "Epoch 340\n",
      "---------------\n",
      "Batch 0\n",
      "train loss: 0.1438 [0/27652]\n",
      "Finished with batches...\n",
      "Finished with one full epoch...\n",
      "Finished all batches in validation...\n",
      "Finished with calculating metrics...\n",
      "Epoch 341\n",
      "---------------\n",
      "Batch 0\n",
      "train loss: 0.1432 [0/27652]\n",
      "Finished with batches...\n",
      "Finished with one full epoch...\n",
      "Finished all batches in validation...\n",
      "Finished with calculating metrics...\n",
      "Epoch 342\n",
      "---------------\n",
      "Batch 0\n",
      "train loss: 0.1432 [0/27652]\n",
      "Finished with batches...\n",
      "Finished with one full epoch...\n",
      "Finished all batches in validation...\n",
      "Finished with calculating metrics...\n",
      "Epoch 343\n",
      "---------------\n",
      "Batch 0\n",
      "train loss: 0.1442 [0/27652]\n",
      "Finished with batches...\n",
      "Finished with one full epoch...\n",
      "Finished all batches in validation...\n",
      "Finished with calculating metrics...\n",
      "Epoch 344\n",
      "---------------\n",
      "Batch 0\n",
      "train loss: 0.1432 [0/27652]\n",
      "Finished with batches...\n",
      "Finished with one full epoch...\n",
      "Finished all batches in validation...\n",
      "Finished with calculating metrics...\n",
      "Epoch 345\n",
      "---------------\n",
      "Batch 0\n",
      "train loss: 0.1451 [0/27652]\n",
      "Finished with batches...\n",
      "Finished with one full epoch...\n",
      "Finished all batches in validation...\n",
      "Finished with calculating metrics...\n",
      "Epoch 346\n",
      "---------------\n",
      "Batch 0\n",
      "train loss: 0.1433 [0/27652]\n",
      "Finished with batches...\n",
      "Finished with one full epoch...\n",
      "Finished all batches in validation...\n",
      "Finished with calculating metrics...\n",
      "Epoch 347\n",
      "---------------\n",
      "Batch 0\n",
      "train loss: 0.1439 [0/27652]\n",
      "Finished with batches...\n",
      "Finished with one full epoch...\n",
      "Finished all batches in validation...\n",
      "Finished with calculating metrics...\n",
      "Epoch 348\n",
      "---------------\n",
      "Batch 0\n",
      "train loss: 0.1435 [0/27652]\n",
      "Finished with batches...\n",
      "Finished with one full epoch...\n",
      "Finished all batches in validation...\n",
      "Finished with calculating metrics...\n",
      "Epoch 349\n",
      "---------------\n",
      "Batch 0\n",
      "train loss: 0.1431 [0/27652]\n",
      "Finished with batches...\n",
      "Finished with one full epoch...\n",
      "Finished all batches in validation...\n",
      "Finished with calculating metrics...\n",
      "Epoch 350\n",
      "---------------\n",
      "Batch 0\n",
      "train loss: 0.1436 [0/27652]\n",
      "Finished with batches...\n",
      "Finished with one full epoch...\n",
      "Finished all batches in validation...\n",
      "Finished with calculating metrics...\n",
      "Epoch 351\n",
      "---------------\n",
      "Batch 0\n",
      "train loss: 0.1441 [0/27652]\n",
      "Finished with batches...\n",
      "Finished with one full epoch...\n",
      "Finished all batches in validation...\n",
      "Finished with calculating metrics...\n",
      "Epoch 352\n",
      "---------------\n",
      "Batch 0\n",
      "train loss: 0.1439 [0/27652]\n",
      "Finished with batches...\n",
      "Finished with one full epoch...\n",
      "Finished all batches in validation...\n",
      "Finished with calculating metrics...\n",
      "Epoch 353\n",
      "---------------\n",
      "Batch 0\n",
      "train loss: 0.1441 [0/27652]\n",
      "Finished with batches...\n",
      "Finished with one full epoch...\n"
     ]
    },
    {
     "name": "stdout",
     "output_type": "stream",
     "text": [
      "Finished all batches in validation...\n",
      "Finished with calculating metrics...\n",
      "Epoch 354\n",
      "---------------\n",
      "Batch 0\n",
      "train loss: 0.1445 [0/27652]\n",
      "Finished with batches...\n",
      "Finished with one full epoch...\n",
      "Finished all batches in validation...\n",
      "Finished with calculating metrics...\n",
      "Epoch 355\n",
      "---------------\n",
      "Batch 0\n",
      "train loss: 0.1440 [0/27652]\n",
      "Finished with batches...\n",
      "Finished with one full epoch...\n",
      "Finished all batches in validation...\n",
      "Finished with calculating metrics...\n",
      "Epoch 356\n",
      "---------------\n",
      "Batch 0\n",
      "train loss: 0.1435 [0/27652]\n",
      "Finished with batches...\n",
      "Finished with one full epoch...\n",
      "Finished all batches in validation...\n",
      "Finished with calculating metrics...\n",
      "Epoch 357\n",
      "---------------\n",
      "Batch 0\n",
      "train loss: 0.1443 [0/27652]\n",
      "Finished with batches...\n",
      "Finished with one full epoch...\n",
      "Finished all batches in validation...\n",
      "Finished with calculating metrics...\n",
      "Epoch 358\n",
      "---------------\n",
      "Batch 0\n",
      "train loss: 0.1443 [0/27652]\n",
      "Finished with batches...\n",
      "Finished with one full epoch...\n",
      "Finished all batches in validation...\n",
      "Finished with calculating metrics...\n",
      "Epoch 359\n",
      "---------------\n",
      "Batch 0\n",
      "train loss: 0.1440 [0/27652]\n",
      "Finished with batches...\n",
      "Finished with one full epoch...\n",
      "Finished all batches in validation...\n",
      "Finished with calculating metrics...\n",
      "Epoch 360\n",
      "---------------\n",
      "Batch 0\n",
      "train loss: 0.1435 [0/27652]\n",
      "Finished with batches...\n",
      "Finished with one full epoch...\n",
      "Finished all batches in validation...\n",
      "Finished with calculating metrics...\n",
      "Epoch 361\n",
      "---------------\n",
      "Batch 0\n",
      "train loss: 0.1431 [0/27652]\n",
      "Finished with batches...\n",
      "Finished with one full epoch...\n",
      "Finished all batches in validation...\n",
      "Finished with calculating metrics...\n",
      "Epoch 362\n",
      "---------------\n",
      "Batch 0\n",
      "train loss: 0.1437 [0/27652]\n",
      "Finished with batches...\n",
      "Finished with one full epoch...\n",
      "Finished all batches in validation...\n",
      "Finished with calculating metrics...\n",
      "Epoch 363\n",
      "---------------\n",
      "Batch 0\n",
      "train loss: 0.1433 [0/27652]\n",
      "Finished with batches...\n",
      "Finished with one full epoch...\n",
      "Finished all batches in validation...\n",
      "Finished with calculating metrics...\n",
      "Epoch 364\n",
      "---------------\n",
      "Batch 0\n",
      "train loss: 0.1422 [0/27652]\n",
      "Finished with batches...\n",
      "Finished with one full epoch...\n",
      "Finished all batches in validation...\n",
      "Finished with calculating metrics...\n",
      "Epoch 365\n",
      "---------------\n",
      "Batch 0\n",
      "train loss: 0.1427 [0/27652]\n",
      "Finished with batches...\n",
      "Finished with one full epoch...\n",
      "Finished all batches in validation...\n",
      "Finished with calculating metrics...\n",
      "Epoch 366\n",
      "---------------\n",
      "Batch 0\n",
      "train loss: 0.1433 [0/27652]\n",
      "Finished with batches...\n",
      "Finished with one full epoch...\n",
      "Finished all batches in validation...\n",
      "Finished with calculating metrics...\n",
      "Epoch 367\n",
      "---------------\n",
      "Batch 0\n",
      "train loss: 0.1422 [0/27652]\n",
      "Finished with batches...\n",
      "Finished with one full epoch...\n",
      "Finished all batches in validation...\n",
      "Finished with calculating metrics...\n",
      "Epoch 368\n",
      "---------------\n",
      "Batch 0\n",
      "train loss: 0.1427 [0/27652]\n",
      "Finished with batches...\n",
      "Finished with one full epoch...\n",
      "Finished all batches in validation...\n",
      "Finished with calculating metrics...\n",
      "Epoch 369\n",
      "---------------\n",
      "Batch 0\n",
      "train loss: 0.1424 [0/27652]\n",
      "Finished with batches...\n",
      "Finished with one full epoch...\n",
      "Finished all batches in validation...\n",
      "Finished with calculating metrics...\n",
      "Epoch 370\n",
      "---------------\n",
      "Batch 0\n",
      "train loss: 0.1431 [0/27652]\n",
      "Finished with batches...\n",
      "Finished with one full epoch...\n",
      "Finished all batches in validation...\n",
      "Finished with calculating metrics...\n",
      "Epoch 371\n",
      "---------------\n",
      "Batch 0\n",
      "train loss: 0.1416 [0/27652]\n",
      "Finished with batches...\n",
      "Finished with one full epoch...\n",
      "Finished all batches in validation...\n",
      "Finished with calculating metrics...\n",
      "Epoch 372\n",
      "---------------\n",
      "Batch 0\n",
      "train loss: 0.1436 [0/27652]\n",
      "Finished with batches...\n",
      "Finished with one full epoch...\n",
      "Finished all batches in validation...\n",
      "Finished with calculating metrics...\n",
      "Epoch 373\n",
      "---------------\n",
      "Batch 0\n",
      "train loss: 0.1446 [0/27652]\n",
      "Finished with batches...\n",
      "Finished with one full epoch...\n",
      "Finished all batches in validation...\n",
      "Finished with calculating metrics...\n",
      "Epoch 374\n",
      "---------------\n",
      "Batch 0\n",
      "train loss: 0.1425 [0/27652]\n",
      "Finished with batches...\n",
      "Finished with one full epoch...\n",
      "Finished all batches in validation...\n",
      "Finished with calculating metrics...\n",
      "Epoch 375\n",
      "---------------\n",
      "Batch 0\n",
      "train loss: 0.1428 [0/27652]\n",
      "Finished with batches...\n",
      "Finished with one full epoch...\n",
      "Finished all batches in validation...\n",
      "Finished with calculating metrics...\n",
      "Epoch 376\n",
      "---------------\n",
      "Batch 0\n",
      "train loss: 0.1421 [0/27652]\n",
      "Finished with batches...\n",
      "Finished with one full epoch...\n",
      "Finished all batches in validation...\n",
      "Finished with calculating metrics...\n",
      "Epoch 377\n",
      "---------------\n",
      "Batch 0\n",
      "train loss: 0.1424 [0/27652]\n",
      "Finished with batches...\n",
      "Finished with one full epoch...\n",
      "Finished all batches in validation...\n",
      "Finished with calculating metrics...\n",
      "Epoch 378\n",
      "---------------\n",
      "Batch 0\n",
      "train loss: 0.1422 [0/27652]\n",
      "Finished with batches...\n",
      "Finished with one full epoch...\n",
      "Finished all batches in validation...\n",
      "Finished with calculating metrics...\n",
      "Epoch 379\n",
      "---------------\n",
      "Batch 0\n",
      "train loss: 0.1428 [0/27652]\n",
      "Finished with batches...\n",
      "Finished with one full epoch...\n",
      "Finished all batches in validation...\n",
      "Finished with calculating metrics...\n",
      "Epoch 380\n",
      "---------------\n",
      "Batch 0\n",
      "train loss: 0.1422 [0/27652]\n",
      "Finished with batches...\n",
      "Finished with one full epoch...\n",
      "Finished all batches in validation...\n",
      "Finished with calculating metrics...\n",
      "Epoch 381\n",
      "---------------\n",
      "Batch 0\n",
      "train loss: 0.1421 [0/27652]\n",
      "Finished with batches...\n",
      "Finished with one full epoch...\n",
      "Finished all batches in validation...\n",
      "Finished with calculating metrics...\n",
      "Epoch 382\n",
      "---------------\n",
      "Batch 0\n",
      "train loss: 0.1426 [0/27652]\n",
      "Finished with batches...\n",
      "Finished with one full epoch...\n",
      "Finished all batches in validation...\n",
      "Finished with calculating metrics...\n",
      "Epoch 383\n",
      "---------------\n",
      "Batch 0\n",
      "train loss: 0.1433 [0/27652]\n",
      "Finished with batches...\n",
      "Finished with one full epoch...\n",
      "Finished all batches in validation...\n",
      "Finished with calculating metrics...\n",
      "Epoch 384\n",
      "---------------\n",
      "Batch 0\n",
      "train loss: 0.1430 [0/27652]\n",
      "Finished with batches...\n",
      "Finished with one full epoch...\n",
      "Finished all batches in validation...\n",
      "Finished with calculating metrics...\n",
      "Epoch 385\n",
      "---------------\n",
      "Batch 0\n",
      "train loss: 0.1433 [0/27652]\n",
      "Finished with batches...\n",
      "Finished with one full epoch...\n",
      "Finished all batches in validation...\n",
      "Finished with calculating metrics...\n",
      "Epoch 386\n",
      "---------------\n",
      "Batch 0\n",
      "train loss: 0.1422 [0/27652]\n",
      "Finished with batches...\n",
      "Finished with one full epoch...\n",
      "Finished all batches in validation...\n",
      "Finished with calculating metrics...\n",
      "Epoch 387\n",
      "---------------\n",
      "Batch 0\n",
      "train loss: 0.1426 [0/27652]\n",
      "Finished with batches...\n",
      "Finished with one full epoch...\n",
      "Finished all batches in validation...\n",
      "Finished with calculating metrics...\n",
      "Epoch 388\n",
      "---------------\n",
      "Batch 0\n",
      "train loss: 0.1429 [0/27652]\n",
      "Finished with batches...\n",
      "Finished with one full epoch...\n",
      "Finished all batches in validation...\n",
      "Finished with calculating metrics...\n",
      "Epoch 389\n",
      "---------------\n"
     ]
    },
    {
     "name": "stderr",
     "output_type": "stream",
     "text": [
      "/home/yang1641/.local/lib/python3.8/site-packages/sklearn/metrics/_ranking.py:980: UserWarning: No positive class found in y_true, recall is set to one for all thresholds.\n",
      "  warnings.warn(\n"
     ]
    },
    {
     "name": "stdout",
     "output_type": "stream",
     "text": [
      "Batch 0\n",
      "train loss: 0.1414 [0/27652]\n",
      "Finished with batches...\n",
      "Finished with one full epoch...\n",
      "Finished all batches in validation...\n",
      "Finished with calculating metrics...\n",
      "Epoch 390\n",
      "---------------\n",
      "Batch 0\n",
      "train loss: 0.1427 [0/27652]\n",
      "Finished with batches...\n",
      "Finished with one full epoch...\n",
      "Finished all batches in validation...\n",
      "Finished with calculating metrics...\n",
      "Epoch 391\n",
      "---------------\n",
      "Batch 0\n",
      "train loss: 0.1433 [0/27652]\n",
      "Finished with batches...\n",
      "Finished with one full epoch...\n",
      "Finished all batches in validation...\n",
      "Finished with calculating metrics...\n",
      "Epoch 392\n",
      "---------------\n",
      "Batch 0\n",
      "train loss: 0.1421 [0/27652]\n",
      "Finished with batches...\n",
      "Finished with one full epoch...\n",
      "Finished all batches in validation...\n",
      "Finished with calculating metrics...\n",
      "Epoch 393\n",
      "---------------\n",
      "Batch 0\n",
      "train loss: 0.1418 [0/27652]\n",
      "Finished with batches...\n",
      "Finished with one full epoch...\n",
      "Finished all batches in validation...\n",
      "Finished with calculating metrics...\n",
      "Epoch 394\n",
      "---------------\n",
      "Batch 0\n",
      "train loss: 0.1412 [0/27652]\n",
      "Finished with batches...\n",
      "Finished with one full epoch...\n",
      "Finished all batches in validation...\n",
      "Finished with calculating metrics...\n",
      "Epoch 395\n",
      "---------------\n",
      "Batch 0\n",
      "train loss: 0.1405 [0/27652]\n",
      "Finished with batches...\n",
      "Finished with one full epoch...\n",
      "Finished all batches in validation...\n",
      "Finished with calculating metrics...\n",
      "Epoch 396\n",
      "---------------\n"
     ]
    },
    {
     "name": "stderr",
     "output_type": "stream",
     "text": [
      "/home/yang1641/.local/lib/python3.8/site-packages/sklearn/metrics/_ranking.py:980: UserWarning: No positive class found in y_true, recall is set to one for all thresholds.\n",
      "  warnings.warn(\n"
     ]
    },
    {
     "name": "stdout",
     "output_type": "stream",
     "text": [
      "Batch 0\n",
      "train loss: 0.1424 [0/27652]\n",
      "Finished with batches...\n",
      "Finished with one full epoch...\n",
      "Finished all batches in validation...\n",
      "Finished with calculating metrics...\n",
      "Epoch 397\n",
      "---------------\n",
      "Batch 0\n",
      "train loss: 0.1412 [0/27652]\n",
      "Finished with batches...\n",
      "Finished with one full epoch...\n",
      "Finished all batches in validation...\n",
      "Finished with calculating metrics...\n",
      "Epoch 398\n",
      "---------------\n",
      "Batch 0\n",
      "train loss: 0.1427 [0/27652]\n",
      "Finished with batches...\n",
      "Finished with one full epoch...\n",
      "Finished all batches in validation...\n",
      "Finished with calculating metrics...\n",
      "Epoch 399\n",
      "---------------\n"
     ]
    },
    {
     "name": "stderr",
     "output_type": "stream",
     "text": [
      "/home/yang1641/.local/lib/python3.8/site-packages/sklearn/metrics/_ranking.py:980: UserWarning: No positive class found in y_true, recall is set to one for all thresholds.\n",
      "  warnings.warn(\n"
     ]
    },
    {
     "name": "stdout",
     "output_type": "stream",
     "text": [
      "Batch 0\n",
      "train loss: 0.1424 [0/27652]\n",
      "Finished with batches...\n",
      "Finished with one full epoch...\n",
      "Finished all batches in validation...\n",
      "Finished with calculating metrics...\n",
      "Epoch 400\n",
      "---------------\n"
     ]
    },
    {
     "name": "stderr",
     "output_type": "stream",
     "text": [
      "/home/yang1641/.local/lib/python3.8/site-packages/sklearn/metrics/_ranking.py:980: UserWarning: No positive class found in y_true, recall is set to one for all thresholds.\n",
      "  warnings.warn(\n"
     ]
    },
    {
     "name": "stdout",
     "output_type": "stream",
     "text": [
      "Batch 0\n",
      "train loss: 0.1418 [0/27652]\n",
      "Finished with batches...\n",
      "Finished with one full epoch...\n",
      "Finished all batches in validation...\n",
      "Finished with calculating metrics...\n",
      "Epoch 401\n",
      "---------------\n"
     ]
    },
    {
     "name": "stderr",
     "output_type": "stream",
     "text": [
      "/home/yang1641/.local/lib/python3.8/site-packages/sklearn/metrics/_ranking.py:980: UserWarning: No positive class found in y_true, recall is set to one for all thresholds.\n",
      "  warnings.warn(\n"
     ]
    },
    {
     "name": "stdout",
     "output_type": "stream",
     "text": [
      "Batch 0\n",
      "train loss: 0.1420 [0/27652]\n",
      "Finished with batches...\n",
      "Finished with one full epoch...\n",
      "Finished all batches in validation...\n",
      "Finished with calculating metrics...\n",
      "Epoch 402\n",
      "---------------\n"
     ]
    },
    {
     "name": "stderr",
     "output_type": "stream",
     "text": [
      "/home/yang1641/.local/lib/python3.8/site-packages/sklearn/metrics/_ranking.py:980: UserWarning: No positive class found in y_true, recall is set to one for all thresholds.\n",
      "  warnings.warn(\n"
     ]
    },
    {
     "name": "stdout",
     "output_type": "stream",
     "text": [
      "Batch 0\n",
      "train loss: 0.1416 [0/27652]\n",
      "Finished with batches...\n",
      "Finished with one full epoch...\n",
      "Finished all batches in validation...\n",
      "Finished with calculating metrics...\n",
      "Epoch 403\n",
      "---------------\n"
     ]
    },
    {
     "name": "stderr",
     "output_type": "stream",
     "text": [
      "/home/yang1641/.local/lib/python3.8/site-packages/sklearn/metrics/_ranking.py:980: UserWarning: No positive class found in y_true, recall is set to one for all thresholds.\n",
      "  warnings.warn(\n"
     ]
    },
    {
     "name": "stdout",
     "output_type": "stream",
     "text": [
      "Batch 0\n",
      "train loss: 0.1416 [0/27652]\n",
      "Finished with batches...\n",
      "Finished with one full epoch...\n",
      "Finished all batches in validation...\n",
      "Finished with calculating metrics...\n",
      "Epoch 404\n",
      "---------------\n",
      "Batch 0\n",
      "train loss: 0.1416 [0/27652]\n",
      "Finished with batches...\n",
      "Finished with one full epoch...\n",
      "Finished all batches in validation...\n",
      "Finished with calculating metrics...\n",
      "Epoch 405\n",
      "---------------\n",
      "Batch 0\n",
      "train loss: 0.1422 [0/27652]\n",
      "Finished with batches...\n",
      "Finished with one full epoch...\n",
      "Finished all batches in validation...\n",
      "Finished with calculating metrics...\n",
      "Epoch 406\n",
      "---------------\n",
      "Batch 0\n",
      "train loss: 0.1420 [0/27652]\n",
      "Finished with batches...\n",
      "Finished with one full epoch...\n",
      "Finished all batches in validation...\n",
      "Finished with calculating metrics...\n",
      "Epoch 407\n",
      "---------------\n"
     ]
    },
    {
     "name": "stderr",
     "output_type": "stream",
     "text": [
      "/home/yang1641/.local/lib/python3.8/site-packages/sklearn/metrics/_ranking.py:980: UserWarning: No positive class found in y_true, recall is set to one for all thresholds.\n",
      "  warnings.warn(\n"
     ]
    },
    {
     "name": "stdout",
     "output_type": "stream",
     "text": [
      "Batch 0\n",
      "train loss: 0.1413 [0/27652]\n",
      "Finished with batches...\n",
      "Finished with one full epoch...\n",
      "Finished all batches in validation...\n",
      "Finished with calculating metrics...\n",
      "Epoch 408\n",
      "---------------\n",
      "Batch 0\n",
      "train loss: 0.1407 [0/27652]\n",
      "Finished with batches...\n",
      "Finished with one full epoch...\n",
      "Finished all batches in validation...\n",
      "Finished with calculating metrics...\n",
      "Epoch 409\n",
      "---------------\n",
      "Batch 0\n",
      "train loss: 0.1415 [0/27652]\n",
      "Finished with batches...\n",
      "Finished with one full epoch...\n",
      "Finished all batches in validation...\n",
      "Finished with calculating metrics...\n",
      "Epoch 410\n",
      "---------------\n",
      "Batch 0\n",
      "train loss: 0.1410 [0/27652]\n",
      "Finished with batches...\n",
      "Finished with one full epoch...\n",
      "Finished all batches in validation...\n",
      "Finished with calculating metrics...\n",
      "Epoch 411\n",
      "---------------\n",
      "Batch 0\n",
      "train loss: 0.1410 [0/27652]\n",
      "Finished with batches...\n",
      "Finished with one full epoch...\n",
      "Finished all batches in validation...\n",
      "Finished with calculating metrics...\n",
      "Epoch 412\n",
      "---------------\n",
      "Batch 0\n",
      "train loss: 0.1413 [0/27652]\n",
      "Finished with batches...\n",
      "Finished with one full epoch...\n",
      "Finished all batches in validation...\n",
      "Finished with calculating metrics...\n",
      "Epoch 413\n",
      "---------------\n",
      "Batch 0\n",
      "train loss: 0.1420 [0/27652]\n",
      "Finished with batches...\n",
      "Finished with one full epoch...\n",
      "Finished all batches in validation...\n",
      "Finished with calculating metrics...\n",
      "Epoch 414\n",
      "---------------\n",
      "Batch 0\n",
      "train loss: 0.1419 [0/27652]\n",
      "Finished with batches...\n",
      "Finished with one full epoch...\n",
      "Finished all batches in validation...\n",
      "Finished with calculating metrics...\n",
      "Epoch 415\n",
      "---------------\n",
      "Batch 0\n",
      "train loss: 0.1413 [0/27652]\n",
      "Finished with batches...\n",
      "Finished with one full epoch...\n",
      "Finished all batches in validation...\n",
      "Finished with calculating metrics...\n",
      "Epoch 416\n",
      "---------------\n",
      "Batch 0\n",
      "train loss: 0.1408 [0/27652]\n",
      "Finished with batches...\n",
      "Finished with one full epoch...\n",
      "Finished all batches in validation...\n",
      "Finished with calculating metrics...\n",
      "Epoch 417\n",
      "---------------\n",
      "Batch 0\n",
      "train loss: 0.1414 [0/27652]\n",
      "Finished with batches...\n",
      "Finished with one full epoch...\n",
      "Finished all batches in validation...\n",
      "Finished with calculating metrics...\n",
      "Epoch 418\n",
      "---------------\n"
     ]
    },
    {
     "name": "stderr",
     "output_type": "stream",
     "text": [
      "/home/yang1641/.local/lib/python3.8/site-packages/sklearn/metrics/_ranking.py:980: UserWarning: No positive class found in y_true, recall is set to one for all thresholds.\n",
      "  warnings.warn(\n"
     ]
    },
    {
     "name": "stdout",
     "output_type": "stream",
     "text": [
      "Batch 0\n",
      "train loss: 0.1406 [0/27652]\n",
      "Finished with batches...\n",
      "Finished with one full epoch...\n",
      "Finished all batches in validation...\n",
      "Finished with calculating metrics...\n",
      "Epoch 419\n",
      "---------------\n"
     ]
    },
    {
     "name": "stderr",
     "output_type": "stream",
     "text": [
      "/home/yang1641/.local/lib/python3.8/site-packages/sklearn/metrics/_ranking.py:980: UserWarning: No positive class found in y_true, recall is set to one for all thresholds.\n",
      "  warnings.warn(\n"
     ]
    },
    {
     "name": "stdout",
     "output_type": "stream",
     "text": [
      "Batch 0\n",
      "train loss: 0.1412 [0/27652]\n",
      "Finished with batches...\n",
      "Finished with one full epoch...\n",
      "Finished all batches in validation...\n",
      "Finished with calculating metrics...\n",
      "Epoch 420\n",
      "---------------\n"
     ]
    },
    {
     "name": "stderr",
     "output_type": "stream",
     "text": [
      "/home/yang1641/.local/lib/python3.8/site-packages/sklearn/metrics/_ranking.py:980: UserWarning: No positive class found in y_true, recall is set to one for all thresholds.\n",
      "  warnings.warn(\n",
      "/home/yang1641/.local/lib/python3.8/site-packages/sklearn/metrics/_ranking.py:980: UserWarning: No positive class found in y_true, recall is set to one for all thresholds.\n",
      "  warnings.warn(\n"
     ]
    },
    {
     "name": "stdout",
     "output_type": "stream",
     "text": [
      "Batch 0\n",
      "train loss: 0.1424 [0/27652]\n",
      "Finished with batches...\n",
      "Finished with one full epoch...\n",
      "Finished all batches in validation...\n",
      "Finished with calculating metrics...\n",
      "Epoch 421\n",
      "---------------\n"
     ]
    },
    {
     "name": "stderr",
     "output_type": "stream",
     "text": [
      "/home/yang1641/.local/lib/python3.8/site-packages/sklearn/metrics/_ranking.py:980: UserWarning: No positive class found in y_true, recall is set to one for all thresholds.\n",
      "  warnings.warn(\n",
      "/home/yang1641/.local/lib/python3.8/site-packages/sklearn/metrics/_ranking.py:980: UserWarning: No positive class found in y_true, recall is set to one for all thresholds.\n",
      "  warnings.warn(\n"
     ]
    },
    {
     "name": "stdout",
     "output_type": "stream",
     "text": [
      "Batch 0\n",
      "train loss: 0.1416 [0/27652]\n",
      "Finished with batches...\n",
      "Finished with one full epoch...\n",
      "Finished all batches in validation...\n",
      "Finished with calculating metrics...\n",
      "Epoch 422\n",
      "---------------\n"
     ]
    },
    {
     "name": "stderr",
     "output_type": "stream",
     "text": [
      "/home/yang1641/.local/lib/python3.8/site-packages/sklearn/metrics/_ranking.py:980: UserWarning: No positive class found in y_true, recall is set to one for all thresholds.\n",
      "  warnings.warn(\n",
      "/home/yang1641/.local/lib/python3.8/site-packages/sklearn/metrics/_ranking.py:980: UserWarning: No positive class found in y_true, recall is set to one for all thresholds.\n",
      "  warnings.warn(\n"
     ]
    },
    {
     "name": "stdout",
     "output_type": "stream",
     "text": [
      "Batch 0\n",
      "train loss: 0.1412 [0/27652]\n",
      "Finished with batches...\n",
      "Finished with one full epoch...\n",
      "Finished all batches in validation...\n",
      "Finished with calculating metrics...\n",
      "Epoch 423\n",
      "---------------\n"
     ]
    },
    {
     "name": "stderr",
     "output_type": "stream",
     "text": [
      "/home/yang1641/.local/lib/python3.8/site-packages/sklearn/metrics/_ranking.py:980: UserWarning: No positive class found in y_true, recall is set to one for all thresholds.\n",
      "  warnings.warn(\n"
     ]
    },
    {
     "name": "stdout",
     "output_type": "stream",
     "text": [
      "Batch 0\n",
      "train loss: 0.1412 [0/27652]\n",
      "Finished with batches...\n",
      "Finished with one full epoch...\n",
      "Finished all batches in validation...\n",
      "Finished with calculating metrics...\n",
      "Epoch 424\n",
      "---------------\n"
     ]
    },
    {
     "name": "stderr",
     "output_type": "stream",
     "text": [
      "/home/yang1641/.local/lib/python3.8/site-packages/sklearn/metrics/_ranking.py:980: UserWarning: No positive class found in y_true, recall is set to one for all thresholds.\n",
      "  warnings.warn(\n"
     ]
    },
    {
     "name": "stdout",
     "output_type": "stream",
     "text": [
      "Batch 0\n",
      "train loss: 0.1411 [0/27652]\n",
      "Finished with batches...\n",
      "Finished with one full epoch...\n",
      "Finished all batches in validation...\n",
      "Finished with calculating metrics...\n",
      "Epoch 425\n",
      "---------------\n"
     ]
    },
    {
     "name": "stderr",
     "output_type": "stream",
     "text": [
      "/home/yang1641/.local/lib/python3.8/site-packages/sklearn/metrics/_ranking.py:980: UserWarning: No positive class found in y_true, recall is set to one for all thresholds.\n",
      "  warnings.warn(\n",
      "/home/yang1641/.local/lib/python3.8/site-packages/sklearn/metrics/_ranking.py:980: UserWarning: No positive class found in y_true, recall is set to one for all thresholds.\n",
      "  warnings.warn(\n"
     ]
    },
    {
     "name": "stdout",
     "output_type": "stream",
     "text": [
      "Batch 0\n",
      "train loss: 0.1416 [0/27652]\n",
      "Finished with batches...\n",
      "Finished with one full epoch...\n",
      "Finished all batches in validation...\n",
      "Finished with calculating metrics...\n",
      "Epoch 426\n",
      "---------------\n"
     ]
    },
    {
     "name": "stderr",
     "output_type": "stream",
     "text": [
      "/home/yang1641/.local/lib/python3.8/site-packages/sklearn/metrics/_ranking.py:980: UserWarning: No positive class found in y_true, recall is set to one for all thresholds.\n",
      "  warnings.warn(\n",
      "/home/yang1641/.local/lib/python3.8/site-packages/sklearn/metrics/_ranking.py:980: UserWarning: No positive class found in y_true, recall is set to one for all thresholds.\n",
      "  warnings.warn(\n"
     ]
    },
    {
     "name": "stdout",
     "output_type": "stream",
     "text": [
      "Batch 0\n",
      "train loss: 0.1400 [0/27652]\n",
      "Finished with batches...\n",
      "Finished with one full epoch...\n",
      "Finished all batches in validation...\n",
      "Finished with calculating metrics...\n",
      "Epoch 427\n",
      "---------------\n"
     ]
    },
    {
     "name": "stderr",
     "output_type": "stream",
     "text": [
      "/home/yang1641/.local/lib/python3.8/site-packages/sklearn/metrics/_ranking.py:980: UserWarning: No positive class found in y_true, recall is set to one for all thresholds.\n",
      "  warnings.warn(\n",
      "/home/yang1641/.local/lib/python3.8/site-packages/sklearn/metrics/_ranking.py:980: UserWarning: No positive class found in y_true, recall is set to one for all thresholds.\n",
      "  warnings.warn(\n"
     ]
    },
    {
     "name": "stdout",
     "output_type": "stream",
     "text": [
      "Batch 0\n",
      "train loss: 0.1423 [0/27652]\n",
      "Finished with batches...\n",
      "Finished with one full epoch...\n",
      "Finished all batches in validation...\n",
      "Finished with calculating metrics...\n",
      "Epoch 428\n",
      "---------------\n",
      "Batch 0\n",
      "train loss: 0.1413 [0/27652]\n",
      "Finished with batches...\n",
      "Finished with one full epoch...\n",
      "Finished all batches in validation...\n",
      "Finished with calculating metrics...\n",
      "Epoch 429\n",
      "---------------\n",
      "Batch 0\n",
      "train loss: 0.1421 [0/27652]\n",
      "Finished with batches...\n",
      "Finished with one full epoch...\n",
      "Finished all batches in validation...\n",
      "Finished with calculating metrics...\n",
      "Epoch 430\n",
      "---------------\n",
      "Batch 0\n",
      "train loss: 0.1418 [0/27652]\n",
      "Finished with batches...\n",
      "Finished with one full epoch...\n",
      "Finished all batches in validation...\n",
      "Finished with calculating metrics...\n",
      "Epoch 431\n",
      "---------------\n",
      "Batch 0\n",
      "train loss: 0.1417 [0/27652]\n",
      "Finished with batches...\n",
      "Finished with one full epoch...\n",
      "Finished all batches in validation...\n",
      "Finished with calculating metrics...\n",
      "Epoch 432\n",
      "---------------\n"
     ]
    },
    {
     "name": "stderr",
     "output_type": "stream",
     "text": [
      "/home/yang1641/.local/lib/python3.8/site-packages/sklearn/metrics/_ranking.py:980: UserWarning: No positive class found in y_true, recall is set to one for all thresholds.\n",
      "  warnings.warn(\n"
     ]
    },
    {
     "name": "stdout",
     "output_type": "stream",
     "text": [
      "Batch 0\n",
      "train loss: 0.1419 [0/27652]\n",
      "Finished with batches...\n",
      "Finished with one full epoch...\n",
      "Finished all batches in validation...\n",
      "Finished with calculating metrics...\n",
      "Epoch 433\n",
      "---------------\n"
     ]
    },
    {
     "name": "stderr",
     "output_type": "stream",
     "text": [
      "/home/yang1641/.local/lib/python3.8/site-packages/sklearn/metrics/_ranking.py:980: UserWarning: No positive class found in y_true, recall is set to one for all thresholds.\n",
      "  warnings.warn(\n",
      "/home/yang1641/.local/lib/python3.8/site-packages/sklearn/metrics/_ranking.py:980: UserWarning: No positive class found in y_true, recall is set to one for all thresholds.\n",
      "  warnings.warn(\n"
     ]
    },
    {
     "name": "stdout",
     "output_type": "stream",
     "text": [
      "Batch 0\n",
      "train loss: 0.1409 [0/27652]\n",
      "Finished with batches...\n",
      "Finished with one full epoch...\n",
      "Finished all batches in validation...\n",
      "Finished with calculating metrics...\n",
      "Epoch 434\n",
      "---------------\n"
     ]
    },
    {
     "name": "stderr",
     "output_type": "stream",
     "text": [
      "/home/yang1641/.local/lib/python3.8/site-packages/sklearn/metrics/_ranking.py:980: UserWarning: No positive class found in y_true, recall is set to one for all thresholds.\n",
      "  warnings.warn(\n"
     ]
    },
    {
     "name": "stdout",
     "output_type": "stream",
     "text": [
      "Batch 0\n",
      "train loss: 0.1433 [0/27652]\n",
      "Finished with batches...\n",
      "Finished with one full epoch...\n",
      "Finished all batches in validation...\n",
      "Finished with calculating metrics...\n",
      "Epoch 435\n",
      "---------------\n"
     ]
    },
    {
     "name": "stderr",
     "output_type": "stream",
     "text": [
      "/home/yang1641/.local/lib/python3.8/site-packages/sklearn/metrics/_ranking.py:980: UserWarning: No positive class found in y_true, recall is set to one for all thresholds.\n",
      "  warnings.warn(\n"
     ]
    },
    {
     "name": "stdout",
     "output_type": "stream",
     "text": [
      "Batch 0\n",
      "train loss: 0.1412 [0/27652]\n",
      "Finished with batches...\n",
      "Finished with one full epoch...\n",
      "Finished all batches in validation...\n",
      "Finished with calculating metrics...\n",
      "Epoch 436\n",
      "---------------\n"
     ]
    },
    {
     "name": "stderr",
     "output_type": "stream",
     "text": [
      "/home/yang1641/.local/lib/python3.8/site-packages/sklearn/metrics/_ranking.py:980: UserWarning: No positive class found in y_true, recall is set to one for all thresholds.\n",
      "  warnings.warn(\n"
     ]
    },
    {
     "name": "stdout",
     "output_type": "stream",
     "text": [
      "Batch 0\n",
      "train loss: 0.1417 [0/27652]\n",
      "Finished with batches...\n",
      "Finished with one full epoch...\n",
      "Finished all batches in validation...\n",
      "Finished with calculating metrics...\n",
      "Epoch 437\n",
      "---------------\n"
     ]
    },
    {
     "name": "stderr",
     "output_type": "stream",
     "text": [
      "/home/yang1641/.local/lib/python3.8/site-packages/sklearn/metrics/_ranking.py:980: UserWarning: No positive class found in y_true, recall is set to one for all thresholds.\n",
      "  warnings.warn(\n",
      "/home/yang1641/.local/lib/python3.8/site-packages/sklearn/metrics/_ranking.py:980: UserWarning: No positive class found in y_true, recall is set to one for all thresholds.\n",
      "  warnings.warn(\n"
     ]
    },
    {
     "name": "stdout",
     "output_type": "stream",
     "text": [
      "Batch 0\n",
      "train loss: 0.1419 [0/27652]\n",
      "Finished with batches...\n",
      "Finished with one full epoch...\n",
      "Finished all batches in validation...\n",
      "Finished with calculating metrics...\n",
      "Epoch 438\n",
      "---------------\n"
     ]
    },
    {
     "name": "stderr",
     "output_type": "stream",
     "text": [
      "/home/yang1641/.local/lib/python3.8/site-packages/sklearn/metrics/_ranking.py:980: UserWarning: No positive class found in y_true, recall is set to one for all thresholds.\n",
      "  warnings.warn(\n",
      "/home/yang1641/.local/lib/python3.8/site-packages/sklearn/metrics/_ranking.py:980: UserWarning: No positive class found in y_true, recall is set to one for all thresholds.\n",
      "  warnings.warn(\n"
     ]
    },
    {
     "name": "stdout",
     "output_type": "stream",
     "text": [
      "Batch 0\n",
      "train loss: 0.1419 [0/27652]\n",
      "Finished with batches...\n",
      "Finished with one full epoch...\n",
      "Finished all batches in validation...\n",
      "Finished with calculating metrics...\n",
      "Epoch 439\n",
      "---------------\n"
     ]
    },
    {
     "name": "stderr",
     "output_type": "stream",
     "text": [
      "/home/yang1641/.local/lib/python3.8/site-packages/sklearn/metrics/_ranking.py:980: UserWarning: No positive class found in y_true, recall is set to one for all thresholds.\n",
      "  warnings.warn(\n"
     ]
    },
    {
     "name": "stdout",
     "output_type": "stream",
     "text": [
      "Batch 0\n",
      "train loss: 0.1419 [0/27652]\n",
      "Finished with batches...\n",
      "Finished with one full epoch...\n",
      "Finished all batches in validation...\n",
      "Finished with calculating metrics...\n",
      "Epoch 440\n",
      "---------------\n"
     ]
    },
    {
     "name": "stderr",
     "output_type": "stream",
     "text": [
      "/home/yang1641/.local/lib/python3.8/site-packages/sklearn/metrics/_ranking.py:980: UserWarning: No positive class found in y_true, recall is set to one for all thresholds.\n",
      "  warnings.warn(\n"
     ]
    },
    {
     "name": "stdout",
     "output_type": "stream",
     "text": [
      "Batch 0\n",
      "train loss: 0.1420 [0/27652]\n",
      "Finished with batches...\n",
      "Finished with one full epoch...\n",
      "Finished all batches in validation...\n",
      "Finished with calculating metrics...\n",
      "Epoch 441\n",
      "---------------\n"
     ]
    },
    {
     "name": "stderr",
     "output_type": "stream",
     "text": [
      "/home/yang1641/.local/lib/python3.8/site-packages/sklearn/metrics/_ranking.py:980: UserWarning: No positive class found in y_true, recall is set to one for all thresholds.\n",
      "  warnings.warn(\n"
     ]
    },
    {
     "name": "stdout",
     "output_type": "stream",
     "text": [
      "Batch 0\n",
      "train loss: 0.1423 [0/27652]\n",
      "Finished with batches...\n",
      "Finished with one full epoch...\n",
      "Finished all batches in validation...\n",
      "Finished with calculating metrics...\n",
      "Epoch 442\n",
      "---------------\n",
      "Batch 0\n",
      "train loss: 0.1425 [0/27652]\n",
      "Finished with batches...\n",
      "Finished with one full epoch...\n",
      "Finished all batches in validation...\n",
      "Finished with calculating metrics...\n",
      "Epoch 443\n",
      "---------------\n",
      "Batch 0\n",
      "train loss: 0.1417 [0/27652]\n",
      "Finished with batches...\n",
      "Finished with one full epoch...\n",
      "Finished all batches in validation...\n",
      "Finished with calculating metrics...\n",
      "Epoch 444\n",
      "---------------\n",
      "Batch 0\n",
      "train loss: 0.1423 [0/27652]\n",
      "Finished with batches...\n",
      "Finished with one full epoch...\n",
      "Finished all batches in validation...\n",
      "Finished with calculating metrics...\n",
      "Epoch 445\n",
      "---------------\n",
      "Batch 0\n",
      "train loss: 0.1419 [0/27652]\n",
      "Finished with batches...\n",
      "Finished with one full epoch...\n",
      "Finished all batches in validation...\n",
      "Finished with calculating metrics...\n",
      "Epoch 446\n",
      "---------------\n"
     ]
    },
    {
     "name": "stderr",
     "output_type": "stream",
     "text": [
      "/home/yang1641/.local/lib/python3.8/site-packages/sklearn/metrics/_ranking.py:980: UserWarning: No positive class found in y_true, recall is set to one for all thresholds.\n",
      "  warnings.warn(\n"
     ]
    },
    {
     "name": "stdout",
     "output_type": "stream",
     "text": [
      "Batch 0\n",
      "train loss: 0.1417 [0/27652]\n",
      "Finished with batches...\n",
      "Finished with one full epoch...\n",
      "Finished all batches in validation...\n",
      "Finished with calculating metrics...\n",
      "Epoch 447\n",
      "---------------\n"
     ]
    },
    {
     "name": "stderr",
     "output_type": "stream",
     "text": [
      "/home/yang1641/.local/lib/python3.8/site-packages/sklearn/metrics/_ranking.py:980: UserWarning: No positive class found in y_true, recall is set to one for all thresholds.\n",
      "  warnings.warn(\n"
     ]
    },
    {
     "name": "stdout",
     "output_type": "stream",
     "text": [
      "Batch 0\n",
      "train loss: 0.1427 [0/27652]\n",
      "Finished with batches...\n",
      "Finished with one full epoch...\n",
      "Finished all batches in validation...\n",
      "Finished with calculating metrics...\n",
      "Epoch 448\n",
      "---------------\n"
     ]
    },
    {
     "name": "stderr",
     "output_type": "stream",
     "text": [
      "/home/yang1641/.local/lib/python3.8/site-packages/sklearn/metrics/_ranking.py:980: UserWarning: No positive class found in y_true, recall is set to one for all thresholds.\n",
      "  warnings.warn(\n"
     ]
    },
    {
     "name": "stdout",
     "output_type": "stream",
     "text": [
      "Batch 0\n",
      "train loss: 0.1411 [0/27652]\n",
      "Finished with batches...\n",
      "Finished with one full epoch...\n",
      "Finished all batches in validation...\n",
      "Finished with calculating metrics...\n",
      "Epoch 449\n",
      "---------------\n"
     ]
    },
    {
     "name": "stderr",
     "output_type": "stream",
     "text": [
      "/home/yang1641/.local/lib/python3.8/site-packages/sklearn/metrics/_ranking.py:980: UserWarning: No positive class found in y_true, recall is set to one for all thresholds.\n",
      "  warnings.warn(\n"
     ]
    },
    {
     "name": "stdout",
     "output_type": "stream",
     "text": [
      "Batch 0\n",
      "train loss: 0.1421 [0/27652]\n",
      "Finished with batches...\n",
      "Finished with one full epoch...\n",
      "Finished all batches in validation...\n",
      "Finished with calculating metrics...\n",
      "Epoch 450\n",
      "---------------\n"
     ]
    },
    {
     "name": "stderr",
     "output_type": "stream",
     "text": [
      "/home/yang1641/.local/lib/python3.8/site-packages/sklearn/metrics/_ranking.py:980: UserWarning: No positive class found in y_true, recall is set to one for all thresholds.\n",
      "  warnings.warn(\n"
     ]
    },
    {
     "name": "stdout",
     "output_type": "stream",
     "text": [
      "Batch 0\n",
      "train loss: 0.1427 [0/27652]\n",
      "Finished with batches...\n",
      "Finished with one full epoch...\n",
      "Finished all batches in validation...\n",
      "Finished with calculating metrics...\n",
      "Epoch 451\n",
      "---------------\n"
     ]
    },
    {
     "name": "stderr",
     "output_type": "stream",
     "text": [
      "/home/yang1641/.local/lib/python3.8/site-packages/sklearn/metrics/_ranking.py:980: UserWarning: No positive class found in y_true, recall is set to one for all thresholds.\n",
      "  warnings.warn(\n"
     ]
    },
    {
     "name": "stdout",
     "output_type": "stream",
     "text": [
      "Batch 0\n",
      "train loss: 0.1427 [0/27652]\n",
      "Finished with batches...\n",
      "Finished with one full epoch...\n",
      "Finished all batches in validation...\n",
      "Finished with calculating metrics...\n",
      "Epoch 452\n",
      "---------------\n"
     ]
    },
    {
     "name": "stderr",
     "output_type": "stream",
     "text": [
      "/home/yang1641/.local/lib/python3.8/site-packages/sklearn/metrics/_ranking.py:980: UserWarning: No positive class found in y_true, recall is set to one for all thresholds.\n",
      "  warnings.warn(\n",
      "/home/yang1641/.local/lib/python3.8/site-packages/sklearn/metrics/_ranking.py:980: UserWarning: No positive class found in y_true, recall is set to one for all thresholds.\n",
      "  warnings.warn(\n"
     ]
    },
    {
     "name": "stdout",
     "output_type": "stream",
     "text": [
      "Batch 0\n",
      "train loss: 0.1429 [0/27652]\n",
      "Finished with batches...\n",
      "Finished with one full epoch...\n",
      "Finished all batches in validation...\n",
      "Finished with calculating metrics...\n",
      "Epoch 453\n",
      "---------------\n"
     ]
    },
    {
     "name": "stderr",
     "output_type": "stream",
     "text": [
      "/home/yang1641/.local/lib/python3.8/site-packages/sklearn/metrics/_ranking.py:980: UserWarning: No positive class found in y_true, recall is set to one for all thresholds.\n",
      "  warnings.warn(\n",
      "/home/yang1641/.local/lib/python3.8/site-packages/sklearn/metrics/_ranking.py:980: UserWarning: No positive class found in y_true, recall is set to one for all thresholds.\n",
      "  warnings.warn(\n"
     ]
    },
    {
     "name": "stdout",
     "output_type": "stream",
     "text": [
      "Batch 0\n",
      "train loss: 0.1430 [0/27652]\n",
      "Finished with batches...\n",
      "Finished with one full epoch...\n",
      "Finished all batches in validation...\n",
      "Finished with calculating metrics...\n",
      "Epoch 454\n",
      "---------------\n"
     ]
    },
    {
     "name": "stderr",
     "output_type": "stream",
     "text": [
      "/home/yang1641/.local/lib/python3.8/site-packages/sklearn/metrics/_ranking.py:980: UserWarning: No positive class found in y_true, recall is set to one for all thresholds.\n",
      "  warnings.warn(\n"
     ]
    },
    {
     "name": "stdout",
     "output_type": "stream",
     "text": [
      "Batch 0\n",
      "train loss: 0.1426 [0/27652]\n",
      "Finished with batches...\n",
      "Finished with one full epoch...\n",
      "Finished all batches in validation...\n",
      "Finished with calculating metrics...\n",
      "Epoch 455\n",
      "---------------\n"
     ]
    },
    {
     "name": "stderr",
     "output_type": "stream",
     "text": [
      "/home/yang1641/.local/lib/python3.8/site-packages/sklearn/metrics/_ranking.py:980: UserWarning: No positive class found in y_true, recall is set to one for all thresholds.\n",
      "  warnings.warn(\n"
     ]
    },
    {
     "name": "stdout",
     "output_type": "stream",
     "text": [
      "Batch 0\n",
      "train loss: 0.1420 [0/27652]\n",
      "Finished with batches...\n",
      "Finished with one full epoch...\n",
      "Finished all batches in validation...\n",
      "Finished with calculating metrics...\n",
      "Epoch 456\n",
      "---------------\n"
     ]
    },
    {
     "name": "stderr",
     "output_type": "stream",
     "text": [
      "/home/yang1641/.local/lib/python3.8/site-packages/sklearn/metrics/_ranking.py:980: UserWarning: No positive class found in y_true, recall is set to one for all thresholds.\n",
      "  warnings.warn(\n"
     ]
    },
    {
     "name": "stdout",
     "output_type": "stream",
     "text": [
      "Batch 0\n",
      "train loss: 0.1431 [0/27652]\n",
      "Finished with batches...\n",
      "Finished with one full epoch...\n",
      "Finished all batches in validation...\n",
      "Finished with calculating metrics...\n",
      "Epoch 457\n",
      "---------------\n"
     ]
    },
    {
     "name": "stderr",
     "output_type": "stream",
     "text": [
      "/home/yang1641/.local/lib/python3.8/site-packages/sklearn/metrics/_ranking.py:980: UserWarning: No positive class found in y_true, recall is set to one for all thresholds.\n",
      "  warnings.warn(\n"
     ]
    },
    {
     "name": "stdout",
     "output_type": "stream",
     "text": [
      "Batch 0\n",
      "train loss: 0.1406 [0/27652]\n",
      "Finished with batches...\n",
      "Finished with one full epoch...\n",
      "Finished all batches in validation...\n",
      "Finished with calculating metrics...\n",
      "Epoch 458\n",
      "---------------\n"
     ]
    },
    {
     "name": "stderr",
     "output_type": "stream",
     "text": [
      "/home/yang1641/.local/lib/python3.8/site-packages/sklearn/metrics/_ranking.py:980: UserWarning: No positive class found in y_true, recall is set to one for all thresholds.\n",
      "  warnings.warn(\n",
      "/home/yang1641/.local/lib/python3.8/site-packages/sklearn/metrics/_ranking.py:980: UserWarning: No positive class found in y_true, recall is set to one for all thresholds.\n",
      "  warnings.warn(\n"
     ]
    },
    {
     "name": "stdout",
     "output_type": "stream",
     "text": [
      "Batch 0\n",
      "train loss: 0.1419 [0/27652]\n",
      "Finished with batches...\n",
      "Finished with one full epoch...\n",
      "Finished all batches in validation...\n",
      "Finished with calculating metrics...\n",
      "Epoch 459\n",
      "---------------\n"
     ]
    },
    {
     "name": "stderr",
     "output_type": "stream",
     "text": [
      "/home/yang1641/.local/lib/python3.8/site-packages/sklearn/metrics/_ranking.py:980: UserWarning: No positive class found in y_true, recall is set to one for all thresholds.\n",
      "  warnings.warn(\n"
     ]
    },
    {
     "name": "stdout",
     "output_type": "stream",
     "text": [
      "Batch 0\n",
      "train loss: 0.1428 [0/27652]\n",
      "Finished with batches...\n",
      "Finished with one full epoch...\n",
      "Finished all batches in validation...\n",
      "Finished with calculating metrics...\n",
      "Epoch 460\n",
      "---------------\n"
     ]
    },
    {
     "name": "stderr",
     "output_type": "stream",
     "text": [
      "/home/yang1641/.local/lib/python3.8/site-packages/sklearn/metrics/_ranking.py:980: UserWarning: No positive class found in y_true, recall is set to one for all thresholds.\n",
      "  warnings.warn(\n"
     ]
    },
    {
     "name": "stdout",
     "output_type": "stream",
     "text": [
      "Batch 0\n",
      "train loss: 0.1412 [0/27652]\n",
      "Finished with batches...\n",
      "Finished with one full epoch...\n",
      "Finished all batches in validation...\n",
      "Finished with calculating metrics...\n",
      "Epoch 461\n",
      "---------------\n"
     ]
    },
    {
     "name": "stderr",
     "output_type": "stream",
     "text": [
      "/home/yang1641/.local/lib/python3.8/site-packages/sklearn/metrics/_ranking.py:980: UserWarning: No positive class found in y_true, recall is set to one for all thresholds.\n",
      "  warnings.warn(\n"
     ]
    },
    {
     "name": "stdout",
     "output_type": "stream",
     "text": [
      "Batch 0\n",
      "train loss: 0.1414 [0/27652]\n",
      "Finished with batches...\n",
      "Finished with one full epoch...\n",
      "Finished all batches in validation...\n",
      "Finished with calculating metrics...\n",
      "Epoch 462\n",
      "---------------\n",
      "Batch 0\n",
      "train loss: 0.1428 [0/27652]\n",
      "Finished with batches...\n",
      "Finished with one full epoch...\n",
      "Finished all batches in validation...\n",
      "Finished with calculating metrics...\n",
      "Epoch 463\n",
      "---------------\n",
      "Batch 0\n",
      "train loss: 0.1413 [0/27652]\n",
      "Finished with batches...\n",
      "Finished with one full epoch...\n",
      "Finished all batches in validation...\n",
      "Finished with calculating metrics...\n",
      "Epoch 464\n",
      "---------------\n",
      "Batch 0\n",
      "train loss: 0.1414 [0/27652]\n",
      "Finished with batches...\n",
      "Finished with one full epoch...\n",
      "Finished all batches in validation...\n",
      "Finished with calculating metrics...\n",
      "Epoch 465\n",
      "---------------\n",
      "Batch 0\n",
      "train loss: 0.1419 [0/27652]\n",
      "Finished with batches...\n",
      "Finished with one full epoch...\n",
      "Finished all batches in validation...\n",
      "Finished with calculating metrics...\n",
      "Epoch 466\n",
      "---------------\n",
      "Batch 0\n",
      "train loss: 0.1424 [0/27652]\n",
      "Finished with batches...\n",
      "Finished with one full epoch...\n",
      "Finished all batches in validation...\n",
      "Finished with calculating metrics...\n",
      "Epoch 467\n",
      "---------------\n",
      "Batch 0\n",
      "train loss: 0.1419 [0/27652]\n",
      "Finished with batches...\n",
      "Finished with one full epoch...\n",
      "Finished all batches in validation...\n",
      "Finished with calculating metrics...\n",
      "Epoch 468\n",
      "---------------\n",
      "Batch 0\n",
      "train loss: 0.1424 [0/27652]\n",
      "Finished with batches...\n",
      "Finished with one full epoch...\n",
      "Finished all batches in validation...\n",
      "Finished with calculating metrics...\n",
      "Epoch 469\n",
      "---------------\n",
      "Batch 0\n",
      "train loss: 0.1421 [0/27652]\n",
      "Finished with batches...\n",
      "Finished with one full epoch...\n",
      "Finished all batches in validation...\n",
      "Finished with calculating metrics...\n",
      "Epoch 470\n",
      "---------------\n",
      "Batch 0\n",
      "train loss: 0.1421 [0/27652]\n",
      "Finished with batches...\n",
      "Finished with one full epoch...\n",
      "Finished all batches in validation...\n",
      "Finished with calculating metrics...\n",
      "Epoch 471\n",
      "---------------\n",
      "Batch 0\n",
      "train loss: 0.1417 [0/27652]\n",
      "Finished with batches...\n",
      "Finished with one full epoch...\n",
      "Finished all batches in validation...\n",
      "Finished with calculating metrics...\n",
      "Epoch 472\n",
      "---------------\n",
      "Batch 0\n",
      "train loss: 0.1414 [0/27652]\n",
      "Finished with batches...\n",
      "Finished with one full epoch...\n",
      "Finished all batches in validation...\n",
      "Finished with calculating metrics...\n",
      "Epoch 473\n",
      "---------------\n",
      "Batch 0\n",
      "train loss: 0.1428 [0/27652]\n",
      "Finished with batches...\n",
      "Finished with one full epoch...\n",
      "Finished all batches in validation...\n",
      "Finished with calculating metrics...\n",
      "Epoch 474\n",
      "---------------\n",
      "Batch 0\n",
      "train loss: 0.1418 [0/27652]\n",
      "Finished with batches...\n",
      "Finished with one full epoch...\n",
      "Finished all batches in validation...\n",
      "Finished with calculating metrics...\n",
      "Epoch 475\n",
      "---------------\n",
      "Batch 0\n",
      "train loss: 0.1417 [0/27652]\n",
      "Finished with batches...\n",
      "Finished with one full epoch...\n",
      "Finished all batches in validation...\n",
      "Finished with calculating metrics...\n",
      "Epoch 476\n",
      "---------------\n"
     ]
    },
    {
     "name": "stderr",
     "output_type": "stream",
     "text": [
      "/home/yang1641/.local/lib/python3.8/site-packages/sklearn/metrics/_ranking.py:980: UserWarning: No positive class found in y_true, recall is set to one for all thresholds.\n",
      "  warnings.warn(\n"
     ]
    },
    {
     "name": "stdout",
     "output_type": "stream",
     "text": [
      "Batch 0\n",
      "train loss: 0.1413 [0/27652]\n",
      "Finished with batches...\n",
      "Finished with one full epoch...\n",
      "Finished all batches in validation...\n",
      "Finished with calculating metrics...\n",
      "Epoch 477\n",
      "---------------\n"
     ]
    },
    {
     "name": "stderr",
     "output_type": "stream",
     "text": [
      "/home/yang1641/.local/lib/python3.8/site-packages/sklearn/metrics/_ranking.py:980: UserWarning: No positive class found in y_true, recall is set to one for all thresholds.\n",
      "  warnings.warn(\n"
     ]
    },
    {
     "name": "stdout",
     "output_type": "stream",
     "text": [
      "Batch 0\n",
      "train loss: 0.1428 [0/27652]\n",
      "Finished with batches...\n",
      "Finished with one full epoch...\n",
      "Finished all batches in validation...\n",
      "Finished with calculating metrics...\n",
      "Epoch 478\n",
      "---------------\n"
     ]
    },
    {
     "name": "stderr",
     "output_type": "stream",
     "text": [
      "/home/yang1641/.local/lib/python3.8/site-packages/sklearn/metrics/_ranking.py:980: UserWarning: No positive class found in y_true, recall is set to one for all thresholds.\n",
      "  warnings.warn(\n"
     ]
    },
    {
     "name": "stdout",
     "output_type": "stream",
     "text": [
      "Batch 0\n",
      "train loss: 0.1421 [0/27652]\n",
      "Finished with batches...\n",
      "Finished with one full epoch...\n",
      "Finished all batches in validation...\n",
      "Finished with calculating metrics...\n",
      "Epoch 479\n",
      "---------------\n"
     ]
    },
    {
     "name": "stderr",
     "output_type": "stream",
     "text": [
      "/home/yang1641/.local/lib/python3.8/site-packages/sklearn/metrics/_ranking.py:980: UserWarning: No positive class found in y_true, recall is set to one for all thresholds.\n",
      "  warnings.warn(\n"
     ]
    },
    {
     "name": "stdout",
     "output_type": "stream",
     "text": [
      "Batch 0\n",
      "train loss: 0.1428 [0/27652]\n",
      "Finished with batches...\n",
      "Finished with one full epoch...\n",
      "Finished all batches in validation...\n",
      "Finished with calculating metrics...\n",
      "Epoch 480\n",
      "---------------\n"
     ]
    },
    {
     "name": "stderr",
     "output_type": "stream",
     "text": [
      "/home/yang1641/.local/lib/python3.8/site-packages/sklearn/metrics/_ranking.py:980: UserWarning: No positive class found in y_true, recall is set to one for all thresholds.\n",
      "  warnings.warn(\n"
     ]
    },
    {
     "name": "stdout",
     "output_type": "stream",
     "text": [
      "Batch 0\n",
      "train loss: 0.1421 [0/27652]\n",
      "Finished with batches...\n",
      "Finished with one full epoch...\n",
      "Finished all batches in validation...\n",
      "Finished with calculating metrics...\n",
      "Epoch 481\n",
      "---------------\n",
      "Batch 0\n",
      "train loss: 0.1419 [0/27652]\n",
      "Finished with batches...\n",
      "Finished with one full epoch...\n",
      "Finished all batches in validation...\n",
      "Finished with calculating metrics...\n",
      "Epoch 482\n",
      "---------------\n"
     ]
    },
    {
     "name": "stderr",
     "output_type": "stream",
     "text": [
      "/home/yang1641/.local/lib/python3.8/site-packages/sklearn/metrics/_ranking.py:980: UserWarning: No positive class found in y_true, recall is set to one for all thresholds.\n",
      "  warnings.warn(\n"
     ]
    },
    {
     "name": "stdout",
     "output_type": "stream",
     "text": [
      "Batch 0\n",
      "train loss: 0.1420 [0/27652]\n",
      "Finished with batches...\n",
      "Finished with one full epoch...\n",
      "Finished all batches in validation...\n",
      "Finished with calculating metrics...\n",
      "Epoch 483\n",
      "---------------\n"
     ]
    },
    {
     "name": "stderr",
     "output_type": "stream",
     "text": [
      "/home/yang1641/.local/lib/python3.8/site-packages/sklearn/metrics/_ranking.py:980: UserWarning: No positive class found in y_true, recall is set to one for all thresholds.\n",
      "  warnings.warn(\n"
     ]
    },
    {
     "name": "stdout",
     "output_type": "stream",
     "text": [
      "Batch 0\n",
      "train loss: 0.1417 [0/27652]\n",
      "Finished with batches...\n",
      "Finished with one full epoch...\n",
      "Finished all batches in validation...\n",
      "Finished with calculating metrics...\n",
      "Epoch 484\n",
      "---------------\n"
     ]
    },
    {
     "name": "stderr",
     "output_type": "stream",
     "text": [
      "/home/yang1641/.local/lib/python3.8/site-packages/sklearn/metrics/_ranking.py:980: UserWarning: No positive class found in y_true, recall is set to one for all thresholds.\n",
      "  warnings.warn(\n"
     ]
    },
    {
     "name": "stdout",
     "output_type": "stream",
     "text": [
      "Batch 0\n",
      "train loss: 0.1423 [0/27652]\n",
      "Finished with batches...\n",
      "Finished with one full epoch...\n",
      "Finished all batches in validation...\n",
      "Finished with calculating metrics...\n",
      "Epoch 485\n",
      "---------------\n"
     ]
    },
    {
     "name": "stderr",
     "output_type": "stream",
     "text": [
      "/home/yang1641/.local/lib/python3.8/site-packages/sklearn/metrics/_ranking.py:980: UserWarning: No positive class found in y_true, recall is set to one for all thresholds.\n",
      "  warnings.warn(\n"
     ]
    },
    {
     "name": "stdout",
     "output_type": "stream",
     "text": [
      "Batch 0\n",
      "train loss: 0.1427 [0/27652]\n",
      "Finished with batches...\n",
      "Finished with one full epoch...\n",
      "Finished all batches in validation...\n",
      "Finished with calculating metrics...\n",
      "Epoch 486\n",
      "---------------\n"
     ]
    },
    {
     "name": "stderr",
     "output_type": "stream",
     "text": [
      "/home/yang1641/.local/lib/python3.8/site-packages/sklearn/metrics/_ranking.py:980: UserWarning: No positive class found in y_true, recall is set to one for all thresholds.\n",
      "  warnings.warn(\n"
     ]
    },
    {
     "name": "stdout",
     "output_type": "stream",
     "text": [
      "Batch 0\n",
      "train loss: 0.1415 [0/27652]\n",
      "Finished with batches...\n",
      "Finished with one full epoch...\n",
      "Finished all batches in validation...\n",
      "Finished with calculating metrics...\n",
      "Epoch 487\n",
      "---------------\n",
      "Batch 0\n",
      "train loss: 0.1422 [0/27652]\n",
      "Finished with batches...\n",
      "Finished with one full epoch...\n",
      "Finished all batches in validation...\n",
      "Finished with calculating metrics...\n",
      "Epoch 488\n",
      "---------------\n",
      "Batch 0\n",
      "train loss: 0.1415 [0/27652]\n",
      "Finished with batches...\n",
      "Finished with one full epoch...\n",
      "Finished all batches in validation...\n",
      "Finished with calculating metrics...\n",
      "Epoch 489\n",
      "---------------\n",
      "Batch 0\n",
      "train loss: 0.1417 [0/27652]\n",
      "Finished with batches...\n",
      "Finished with one full epoch...\n",
      "Finished all batches in validation...\n",
      "Finished with calculating metrics...\n",
      "Epoch 490\n",
      "---------------\n",
      "Batch 0\n",
      "train loss: 0.1414 [0/27652]\n",
      "Finished with batches...\n",
      "Finished with one full epoch...\n",
      "Finished all batches in validation...\n",
      "Finished with calculating metrics...\n",
      "Epoch 491\n",
      "---------------\n",
      "Batch 0\n",
      "train loss: 0.1393 [0/27652]\n",
      "Finished with batches...\n",
      "Finished with one full epoch...\n",
      "Finished all batches in validation...\n",
      "Finished with calculating metrics...\n",
      "Epoch 492\n",
      "---------------\n",
      "Batch 0\n",
      "train loss: 0.1436 [0/27652]\n",
      "Finished with batches...\n",
      "Finished with one full epoch...\n",
      "Finished all batches in validation...\n",
      "Finished with calculating metrics...\n",
      "Epoch 493\n",
      "---------------\n",
      "Batch 0\n",
      "train loss: 0.1418 [0/27652]\n",
      "Finished with batches...\n",
      "Finished with one full epoch...\n",
      "Finished all batches in validation...\n",
      "Finished with calculating metrics...\n",
      "Epoch 494\n",
      "---------------\n",
      "Batch 0\n",
      "train loss: 0.1413 [0/27652]\n",
      "Finished with batches...\n",
      "Finished with one full epoch...\n",
      "Finished all batches in validation...\n",
      "Finished with calculating metrics...\n",
      "Epoch 495\n",
      "---------------\n",
      "Batch 0\n",
      "train loss: 0.1421 [0/27652]\n",
      "Finished with batches...\n",
      "Finished with one full epoch...\n",
      "Finished all batches in validation...\n",
      "Finished with calculating metrics...\n",
      "Epoch 496\n",
      "---------------\n",
      "Batch 0\n",
      "train loss: 0.1417 [0/27652]\n",
      "Finished with batches...\n",
      "Finished with one full epoch...\n",
      "Finished all batches in validation...\n",
      "Finished with calculating metrics...\n",
      "Epoch 497\n",
      "---------------\n"
     ]
    },
    {
     "name": "stderr",
     "output_type": "stream",
     "text": [
      "/home/yang1641/.local/lib/python3.8/site-packages/sklearn/metrics/_ranking.py:980: UserWarning: No positive class found in y_true, recall is set to one for all thresholds.\n",
      "  warnings.warn(\n",
      "/home/yang1641/.local/lib/python3.8/site-packages/sklearn/metrics/_ranking.py:980: UserWarning: No positive class found in y_true, recall is set to one for all thresholds.\n",
      "  warnings.warn(\n"
     ]
    },
    {
     "name": "stdout",
     "output_type": "stream",
     "text": [
      "Batch 0\n",
      "train loss: 0.1424 [0/27652]\n",
      "Finished with batches...\n",
      "Finished with one full epoch...\n",
      "Finished all batches in validation...\n",
      "Finished with calculating metrics...\n",
      "Epoch 498\n",
      "---------------\n"
     ]
    },
    {
     "name": "stderr",
     "output_type": "stream",
     "text": [
      "/home/yang1641/.local/lib/python3.8/site-packages/sklearn/metrics/_ranking.py:980: UserWarning: No positive class found in y_true, recall is set to one for all thresholds.\n",
      "  warnings.warn(\n",
      "/home/yang1641/.local/lib/python3.8/site-packages/sklearn/metrics/_ranking.py:980: UserWarning: No positive class found in y_true, recall is set to one for all thresholds.\n",
      "  warnings.warn(\n"
     ]
    },
    {
     "name": "stdout",
     "output_type": "stream",
     "text": [
      "Batch 0\n",
      "train loss: 0.1423 [0/27652]\n",
      "Finished with batches...\n",
      "Finished with one full epoch...\n",
      "Finished all batches in validation...\n",
      "Finished with calculating metrics...\n",
      "Epoch 499\n",
      "---------------\n"
     ]
    },
    {
     "name": "stderr",
     "output_type": "stream",
     "text": [
      "/home/yang1641/.local/lib/python3.8/site-packages/sklearn/metrics/_ranking.py:980: UserWarning: No positive class found in y_true, recall is set to one for all thresholds.\n",
      "  warnings.warn(\n",
      "/home/yang1641/.local/lib/python3.8/site-packages/sklearn/metrics/_ranking.py:980: UserWarning: No positive class found in y_true, recall is set to one for all thresholds.\n",
      "  warnings.warn(\n"
     ]
    },
    {
     "name": "stdout",
     "output_type": "stream",
     "text": [
      "Batch 0\n",
      "train loss: 0.1410 [0/27652]\n",
      "Finished with batches...\n",
      "Finished with one full epoch...\n",
      "Finished all batches in validation...\n",
      "Finished with calculating metrics...\n",
      "Epoch 500\n",
      "---------------\n"
     ]
    },
    {
     "name": "stderr",
     "output_type": "stream",
     "text": [
      "/home/yang1641/.local/lib/python3.8/site-packages/sklearn/metrics/_ranking.py:980: UserWarning: No positive class found in y_true, recall is set to one for all thresholds.\n",
      "  warnings.warn(\n",
      "/home/yang1641/.local/lib/python3.8/site-packages/sklearn/metrics/_ranking.py:980: UserWarning: No positive class found in y_true, recall is set to one for all thresholds.\n",
      "  warnings.warn(\n"
     ]
    },
    {
     "name": "stdout",
     "output_type": "stream",
     "text": [
      "Batch 0\n",
      "train loss: 0.1411 [0/27652]\n",
      "Finished with batches...\n",
      "Finished with one full epoch...\n",
      "Finished all batches in validation...\n",
      "Finished with calculating metrics...\n",
      "Epoch 501\n",
      "---------------\n"
     ]
    },
    {
     "name": "stderr",
     "output_type": "stream",
     "text": [
      "/home/yang1641/.local/lib/python3.8/site-packages/sklearn/metrics/_ranking.py:980: UserWarning: No positive class found in y_true, recall is set to one for all thresholds.\n",
      "  warnings.warn(\n"
     ]
    },
    {
     "name": "stdout",
     "output_type": "stream",
     "text": [
      "Batch 0\n",
      "train loss: 0.1417 [0/27652]\n",
      "Finished with batches...\n",
      "Finished with one full epoch...\n",
      "Finished all batches in validation...\n",
      "Finished with calculating metrics...\n",
      "Epoch 502\n",
      "---------------\n"
     ]
    },
    {
     "name": "stderr",
     "output_type": "stream",
     "text": [
      "/home/yang1641/.local/lib/python3.8/site-packages/sklearn/metrics/_ranking.py:980: UserWarning: No positive class found in y_true, recall is set to one for all thresholds.\n",
      "  warnings.warn(\n"
     ]
    },
    {
     "name": "stdout",
     "output_type": "stream",
     "text": [
      "Batch 0\n",
      "train loss: 0.1417 [0/27652]\n",
      "Finished with batches...\n",
      "Finished with one full epoch...\n",
      "Finished all batches in validation...\n",
      "Finished with calculating metrics...\n",
      "Epoch 503\n",
      "---------------\n"
     ]
    },
    {
     "name": "stderr",
     "output_type": "stream",
     "text": [
      "/home/yang1641/.local/lib/python3.8/site-packages/sklearn/metrics/_ranking.py:980: UserWarning: No positive class found in y_true, recall is set to one for all thresholds.\n",
      "  warnings.warn(\n"
     ]
    },
    {
     "name": "stdout",
     "output_type": "stream",
     "text": [
      "Batch 0\n",
      "train loss: 0.1402 [0/27652]\n",
      "Finished with batches...\n",
      "Finished with one full epoch...\n",
      "Finished all batches in validation...\n",
      "Finished with calculating metrics...\n",
      "Epoch 504\n",
      "---------------\n"
     ]
    },
    {
     "name": "stderr",
     "output_type": "stream",
     "text": [
      "/home/yang1641/.local/lib/python3.8/site-packages/sklearn/metrics/_ranking.py:980: UserWarning: No positive class found in y_true, recall is set to one for all thresholds.\n",
      "  warnings.warn(\n"
     ]
    },
    {
     "name": "stdout",
     "output_type": "stream",
     "text": [
      "Batch 0\n",
      "train loss: 0.1413 [0/27652]\n",
      "Finished with batches...\n",
      "Finished with one full epoch...\n",
      "Finished all batches in validation...\n",
      "Finished with calculating metrics...\n",
      "Epoch 505\n",
      "---------------\n"
     ]
    },
    {
     "name": "stderr",
     "output_type": "stream",
     "text": [
      "/home/yang1641/.local/lib/python3.8/site-packages/sklearn/metrics/_ranking.py:980: UserWarning: No positive class found in y_true, recall is set to one for all thresholds.\n",
      "  warnings.warn(\n"
     ]
    },
    {
     "name": "stdout",
     "output_type": "stream",
     "text": [
      "Batch 0\n",
      "train loss: 0.1423 [0/27652]\n",
      "Finished with batches...\n",
      "Finished with one full epoch...\n",
      "Finished all batches in validation...\n",
      "Finished with calculating metrics...\n",
      "Epoch 506\n",
      "---------------\n"
     ]
    },
    {
     "name": "stderr",
     "output_type": "stream",
     "text": [
      "/home/yang1641/.local/lib/python3.8/site-packages/sklearn/metrics/_ranking.py:980: UserWarning: No positive class found in y_true, recall is set to one for all thresholds.\n",
      "  warnings.warn(\n"
     ]
    },
    {
     "name": "stdout",
     "output_type": "stream",
     "text": [
      "Batch 0\n",
      "train loss: 0.1421 [0/27652]\n",
      "Finished with batches...\n",
      "Finished with one full epoch...\n",
      "Finished all batches in validation...\n",
      "Finished with calculating metrics...\n",
      "Epoch 507\n",
      "---------------\n"
     ]
    },
    {
     "name": "stderr",
     "output_type": "stream",
     "text": [
      "/home/yang1641/.local/lib/python3.8/site-packages/sklearn/metrics/_ranking.py:980: UserWarning: No positive class found in y_true, recall is set to one for all thresholds.\n",
      "  warnings.warn(\n"
     ]
    },
    {
     "name": "stdout",
     "output_type": "stream",
     "text": [
      "Batch 0\n",
      "train loss: 0.1409 [0/27652]\n",
      "Finished with batches...\n",
      "Finished with one full epoch...\n",
      "Finished all batches in validation...\n",
      "Finished with calculating metrics...\n",
      "Epoch 508\n",
      "---------------\n"
     ]
    },
    {
     "name": "stderr",
     "output_type": "stream",
     "text": [
      "/home/yang1641/.local/lib/python3.8/site-packages/sklearn/metrics/_ranking.py:980: UserWarning: No positive class found in y_true, recall is set to one for all thresholds.\n",
      "  warnings.warn(\n"
     ]
    },
    {
     "name": "stdout",
     "output_type": "stream",
     "text": [
      "Batch 0\n",
      "train loss: 0.1404 [0/27652]\n",
      "Finished with batches...\n",
      "Finished with one full epoch...\n",
      "Finished all batches in validation...\n",
      "Finished with calculating metrics...\n",
      "Epoch 509\n",
      "---------------\n"
     ]
    },
    {
     "name": "stderr",
     "output_type": "stream",
     "text": [
      "/home/yang1641/.local/lib/python3.8/site-packages/sklearn/metrics/_ranking.py:980: UserWarning: No positive class found in y_true, recall is set to one for all thresholds.\n",
      "  warnings.warn(\n"
     ]
    },
    {
     "name": "stdout",
     "output_type": "stream",
     "text": [
      "Batch 0\n",
      "train loss: 0.1403 [0/27652]\n",
      "Finished with batches...\n",
      "Finished with one full epoch...\n",
      "Finished all batches in validation...\n",
      "Finished with calculating metrics...\n",
      "Epoch 510\n",
      "---------------\n"
     ]
    },
    {
     "name": "stderr",
     "output_type": "stream",
     "text": [
      "/home/yang1641/.local/lib/python3.8/site-packages/sklearn/metrics/_ranking.py:980: UserWarning: No positive class found in y_true, recall is set to one for all thresholds.\n",
      "  warnings.warn(\n"
     ]
    },
    {
     "name": "stdout",
     "output_type": "stream",
     "text": [
      "Batch 0\n",
      "train loss: 0.1401 [0/27652]\n",
      "Finished with batches...\n",
      "Finished with one full epoch...\n",
      "Finished all batches in validation...\n",
      "Finished with calculating metrics...\n",
      "Epoch 511\n",
      "---------------\n",
      "Batch 0\n",
      "train loss: 0.1408 [0/27652]\n",
      "Finished with batches...\n",
      "Finished with one full epoch...\n",
      "Finished all batches in validation...\n",
      "Finished with calculating metrics...\n",
      "Epoch 512\n",
      "---------------\n",
      "Batch 0\n",
      "train loss: 0.1402 [0/27652]\n",
      "Finished with batches...\n",
      "Finished with one full epoch...\n",
      "Finished all batches in validation...\n",
      "Finished with calculating metrics...\n",
      "Epoch 513\n",
      "---------------\n",
      "Batch 0\n",
      "train loss: 0.1410 [0/27652]\n",
      "Finished with batches...\n",
      "Finished with one full epoch...\n",
      "Finished all batches in validation...\n",
      "Finished with calculating metrics...\n",
      "Epoch 514\n",
      "---------------\n",
      "Batch 0\n",
      "train loss: 0.1404 [0/27652]\n",
      "Finished with batches...\n",
      "Finished with one full epoch...\n",
      "Finished all batches in validation...\n",
      "Finished with calculating metrics...\n",
      "Epoch 515\n",
      "---------------\n"
     ]
    },
    {
     "name": "stderr",
     "output_type": "stream",
     "text": [
      "/home/yang1641/.local/lib/python3.8/site-packages/sklearn/metrics/_ranking.py:980: UserWarning: No positive class found in y_true, recall is set to one for all thresholds.\n",
      "  warnings.warn(\n"
     ]
    },
    {
     "name": "stdout",
     "output_type": "stream",
     "text": [
      "Batch 0\n",
      "train loss: 0.1396 [0/27652]\n",
      "Finished with batches...\n",
      "Finished with one full epoch...\n",
      "Finished all batches in validation...\n",
      "Finished with calculating metrics...\n",
      "Epoch 516\n",
      "---------------\n"
     ]
    },
    {
     "name": "stderr",
     "output_type": "stream",
     "text": [
      "/home/yang1641/.local/lib/python3.8/site-packages/sklearn/metrics/_ranking.py:980: UserWarning: No positive class found in y_true, recall is set to one for all thresholds.\n",
      "  warnings.warn(\n"
     ]
    },
    {
     "name": "stdout",
     "output_type": "stream",
     "text": [
      "Batch 0\n",
      "train loss: 0.1402 [0/27652]\n",
      "Finished with batches...\n",
      "Finished with one full epoch...\n",
      "Finished all batches in validation...\n",
      "Finished with calculating metrics...\n",
      "Epoch 517\n",
      "---------------\n"
     ]
    },
    {
     "name": "stderr",
     "output_type": "stream",
     "text": [
      "/home/yang1641/.local/lib/python3.8/site-packages/sklearn/metrics/_ranking.py:980: UserWarning: No positive class found in y_true, recall is set to one for all thresholds.\n",
      "  warnings.warn(\n"
     ]
    },
    {
     "name": "stdout",
     "output_type": "stream",
     "text": [
      "Batch 0\n",
      "train loss: 0.1406 [0/27652]\n",
      "Finished with batches...\n",
      "Finished with one full epoch...\n",
      "Finished all batches in validation...\n",
      "Finished with calculating metrics...\n",
      "Epoch 518\n",
      "---------------\n"
     ]
    },
    {
     "name": "stderr",
     "output_type": "stream",
     "text": [
      "/home/yang1641/.local/lib/python3.8/site-packages/sklearn/metrics/_ranking.py:980: UserWarning: No positive class found in y_true, recall is set to one for all thresholds.\n",
      "  warnings.warn(\n"
     ]
    },
    {
     "name": "stdout",
     "output_type": "stream",
     "text": [
      "Batch 0\n",
      "train loss: 0.1401 [0/27652]\n",
      "Finished with batches...\n",
      "Finished with one full epoch...\n",
      "Finished all batches in validation...\n",
      "Finished with calculating metrics...\n",
      "Epoch 519\n",
      "---------------\n"
     ]
    },
    {
     "name": "stderr",
     "output_type": "stream",
     "text": [
      "/home/yang1641/.local/lib/python3.8/site-packages/sklearn/metrics/_ranking.py:980: UserWarning: No positive class found in y_true, recall is set to one for all thresholds.\n",
      "  warnings.warn(\n"
     ]
    },
    {
     "name": "stdout",
     "output_type": "stream",
     "text": [
      "Batch 0\n",
      "train loss: 0.1407 [0/27652]\n",
      "Finished with batches...\n",
      "Finished with one full epoch...\n",
      "Finished all batches in validation...\n",
      "Finished with calculating metrics...\n",
      "Epoch 520\n",
      "---------------\n"
     ]
    },
    {
     "name": "stderr",
     "output_type": "stream",
     "text": [
      "/home/yang1641/.local/lib/python3.8/site-packages/sklearn/metrics/_ranking.py:980: UserWarning: No positive class found in y_true, recall is set to one for all thresholds.\n",
      "  warnings.warn(\n"
     ]
    },
    {
     "name": "stdout",
     "output_type": "stream",
     "text": [
      "Batch 0\n",
      "train loss: 0.1399 [0/27652]\n",
      "Finished with batches...\n",
      "Finished with one full epoch...\n",
      "Finished all batches in validation...\n",
      "Finished with calculating metrics...\n",
      "Epoch 521\n",
      "---------------\n"
     ]
    },
    {
     "name": "stderr",
     "output_type": "stream",
     "text": [
      "/home/yang1641/.local/lib/python3.8/site-packages/sklearn/metrics/_ranking.py:980: UserWarning: No positive class found in y_true, recall is set to one for all thresholds.\n",
      "  warnings.warn(\n"
     ]
    },
    {
     "name": "stdout",
     "output_type": "stream",
     "text": [
      "Batch 0\n",
      "train loss: 0.1410 [0/27652]\n",
      "Finished with batches...\n",
      "Finished with one full epoch...\n",
      "Finished all batches in validation...\n",
      "Finished with calculating metrics...\n",
      "Epoch 522\n",
      "---------------\n",
      "Batch 0\n",
      "train loss: 0.1406 [0/27652]\n",
      "Finished with batches...\n",
      "Finished with one full epoch...\n",
      "Finished all batches in validation...\n",
      "Finished with calculating metrics...\n",
      "Epoch 523\n",
      "---------------\n",
      "Batch 0\n",
      "train loss: 0.1404 [0/27652]\n",
      "Finished with batches...\n",
      "Finished with one full epoch...\n",
      "Finished all batches in validation...\n",
      "Finished with calculating metrics...\n",
      "Epoch 524\n",
      "---------------\n",
      "Batch 0\n",
      "train loss: 0.1396 [0/27652]\n",
      "Finished with batches...\n",
      "Finished with one full epoch...\n",
      "Finished all batches in validation...\n",
      "Finished with calculating metrics...\n",
      "Epoch 525\n",
      "---------------\n"
     ]
    },
    {
     "name": "stderr",
     "output_type": "stream",
     "text": [
      "/home/yang1641/.local/lib/python3.8/site-packages/sklearn/metrics/_ranking.py:980: UserWarning: No positive class found in y_true, recall is set to one for all thresholds.\n",
      "  warnings.warn(\n"
     ]
    },
    {
     "name": "stdout",
     "output_type": "stream",
     "text": [
      "Batch 0\n",
      "train loss: 0.1408 [0/27652]\n",
      "Finished with batches...\n",
      "Finished with one full epoch...\n",
      "Finished all batches in validation...\n",
      "Finished with calculating metrics...\n",
      "Epoch 526\n",
      "---------------\n"
     ]
    },
    {
     "name": "stderr",
     "output_type": "stream",
     "text": [
      "/home/yang1641/.local/lib/python3.8/site-packages/sklearn/metrics/_ranking.py:980: UserWarning: No positive class found in y_true, recall is set to one for all thresholds.\n",
      "  warnings.warn(\n"
     ]
    },
    {
     "name": "stdout",
     "output_type": "stream",
     "text": [
      "Batch 0\n",
      "train loss: 0.1401 [0/27652]\n",
      "Finished with batches...\n",
      "Finished with one full epoch...\n",
      "Finished all batches in validation...\n",
      "Finished with calculating metrics...\n",
      "Epoch 527\n",
      "---------------\n"
     ]
    },
    {
     "name": "stderr",
     "output_type": "stream",
     "text": [
      "/home/yang1641/.local/lib/python3.8/site-packages/sklearn/metrics/_ranking.py:980: UserWarning: No positive class found in y_true, recall is set to one for all thresholds.\n",
      "  warnings.warn(\n"
     ]
    },
    {
     "name": "stdout",
     "output_type": "stream",
     "text": [
      "Batch 0\n",
      "train loss: 0.1388 [0/27652]\n",
      "Finished with batches...\n",
      "Finished with one full epoch...\n",
      "Finished all batches in validation...\n",
      "Finished with calculating metrics...\n",
      "Epoch 528\n",
      "---------------\n",
      "Batch 0\n",
      "train loss: 0.1406 [0/27652]\n",
      "Finished with batches...\n",
      "Finished with one full epoch...\n",
      "Finished all batches in validation...\n",
      "Finished with calculating metrics...\n",
      "Epoch 529\n",
      "---------------\n",
      "Batch 0\n",
      "train loss: 0.1402 [0/27652]\n",
      "Finished with batches...\n",
      "Finished with one full epoch...\n",
      "Finished all batches in validation...\n",
      "Finished with calculating metrics...\n",
      "Epoch 530\n",
      "---------------\n",
      "Batch 0\n",
      "train loss: 0.1398 [0/27652]\n",
      "Finished with batches...\n",
      "Finished with one full epoch...\n",
      "Finished all batches in validation...\n",
      "Finished with calculating metrics...\n",
      "Epoch 531\n",
      "---------------\n",
      "Batch 0\n",
      "train loss: 0.1407 [0/27652]\n",
      "Finished with batches...\n",
      "Finished with one full epoch...\n",
      "Finished all batches in validation...\n",
      "Finished with calculating metrics...\n",
      "Epoch 532\n",
      "---------------\n",
      "Batch 0\n",
      "train loss: 0.1404 [0/27652]\n",
      "Finished with batches...\n",
      "Finished with one full epoch...\n",
      "Finished all batches in validation...\n",
      "Finished with calculating metrics...\n",
      "Epoch 533\n",
      "---------------\n"
     ]
    },
    {
     "name": "stderr",
     "output_type": "stream",
     "text": [
      "/home/yang1641/.local/lib/python3.8/site-packages/sklearn/metrics/_ranking.py:980: UserWarning: No positive class found in y_true, recall is set to one for all thresholds.\n",
      "  warnings.warn(\n",
      "/home/yang1641/.local/lib/python3.8/site-packages/sklearn/metrics/_ranking.py:980: UserWarning: No positive class found in y_true, recall is set to one for all thresholds.\n",
      "  warnings.warn(\n"
     ]
    },
    {
     "name": "stdout",
     "output_type": "stream",
     "text": [
      "Batch 0\n",
      "train loss: 0.1400 [0/27652]\n",
      "Finished with batches...\n",
      "Finished with one full epoch...\n",
      "Finished all batches in validation...\n",
      "Finished with calculating metrics...\n",
      "Epoch 534\n",
      "---------------\n"
     ]
    },
    {
     "name": "stderr",
     "output_type": "stream",
     "text": [
      "/home/yang1641/.local/lib/python3.8/site-packages/sklearn/metrics/_ranking.py:980: UserWarning: No positive class found in y_true, recall is set to one for all thresholds.\n",
      "  warnings.warn(\n"
     ]
    },
    {
     "name": "stdout",
     "output_type": "stream",
     "text": [
      "Batch 0\n",
      "train loss: 0.1396 [0/27652]\n",
      "Finished with batches...\n",
      "Finished with one full epoch...\n",
      "Finished all batches in validation...\n",
      "Finished with calculating metrics...\n",
      "Epoch 535\n",
      "---------------\n"
     ]
    },
    {
     "name": "stderr",
     "output_type": "stream",
     "text": [
      "/home/yang1641/.local/lib/python3.8/site-packages/sklearn/metrics/_ranking.py:980: UserWarning: No positive class found in y_true, recall is set to one for all thresholds.\n",
      "  warnings.warn(\n"
     ]
    },
    {
     "name": "stdout",
     "output_type": "stream",
     "text": [
      "Batch 0\n",
      "train loss: 0.1406 [0/27652]\n",
      "Finished with batches...\n",
      "Finished with one full epoch...\n",
      "Finished all batches in validation...\n",
      "Finished with calculating metrics...\n",
      "Epoch 536\n",
      "---------------\n"
     ]
    },
    {
     "name": "stderr",
     "output_type": "stream",
     "text": [
      "/home/yang1641/.local/lib/python3.8/site-packages/sklearn/metrics/_ranking.py:980: UserWarning: No positive class found in y_true, recall is set to one for all thresholds.\n",
      "  warnings.warn(\n"
     ]
    },
    {
     "name": "stdout",
     "output_type": "stream",
     "text": [
      "Batch 0\n",
      "train loss: 0.1406 [0/27652]\n",
      "Finished with batches...\n",
      "Finished with one full epoch...\n",
      "Finished all batches in validation...\n",
      "Finished with calculating metrics...\n",
      "Epoch 537\n",
      "---------------\n"
     ]
    },
    {
     "name": "stderr",
     "output_type": "stream",
     "text": [
      "/home/yang1641/.local/lib/python3.8/site-packages/sklearn/metrics/_ranking.py:980: UserWarning: No positive class found in y_true, recall is set to one for all thresholds.\n",
      "  warnings.warn(\n"
     ]
    },
    {
     "name": "stdout",
     "output_type": "stream",
     "text": [
      "Batch 0\n",
      "train loss: 0.1398 [0/27652]\n",
      "Finished with batches...\n",
      "Finished with one full epoch...\n",
      "Finished all batches in validation...\n",
      "Finished with calculating metrics...\n",
      "Epoch 538\n",
      "---------------\n"
     ]
    },
    {
     "name": "stderr",
     "output_type": "stream",
     "text": [
      "/home/yang1641/.local/lib/python3.8/site-packages/sklearn/metrics/_ranking.py:980: UserWarning: No positive class found in y_true, recall is set to one for all thresholds.\n",
      "  warnings.warn(\n",
      "/home/yang1641/.local/lib/python3.8/site-packages/sklearn/metrics/_ranking.py:980: UserWarning: No positive class found in y_true, recall is set to one for all thresholds.\n",
      "  warnings.warn(\n"
     ]
    },
    {
     "name": "stdout",
     "output_type": "stream",
     "text": [
      "Batch 0\n",
      "train loss: 0.1412 [0/27652]\n",
      "Finished with batches...\n",
      "Finished with one full epoch...\n",
      "Finished all batches in validation...\n",
      "Finished with calculating metrics...\n",
      "Epoch 539\n",
      "---------------\n"
     ]
    },
    {
     "name": "stderr",
     "output_type": "stream",
     "text": [
      "/home/yang1641/.local/lib/python3.8/site-packages/sklearn/metrics/_ranking.py:980: UserWarning: No positive class found in y_true, recall is set to one for all thresholds.\n",
      "  warnings.warn(\n",
      "/home/yang1641/.local/lib/python3.8/site-packages/sklearn/metrics/_ranking.py:980: UserWarning: No positive class found in y_true, recall is set to one for all thresholds.\n",
      "  warnings.warn(\n"
     ]
    },
    {
     "name": "stdout",
     "output_type": "stream",
     "text": [
      "Batch 0\n",
      "train loss: 0.1404 [0/27652]\n",
      "Finished with batches...\n",
      "Finished with one full epoch...\n",
      "Finished all batches in validation...\n",
      "Finished with calculating metrics...\n",
      "Epoch 540\n",
      "---------------\n"
     ]
    },
    {
     "name": "stderr",
     "output_type": "stream",
     "text": [
      "/home/yang1641/.local/lib/python3.8/site-packages/sklearn/metrics/_ranking.py:980: UserWarning: No positive class found in y_true, recall is set to one for all thresholds.\n",
      "  warnings.warn(\n",
      "/home/yang1641/.local/lib/python3.8/site-packages/sklearn/metrics/_ranking.py:980: UserWarning: No positive class found in y_true, recall is set to one for all thresholds.\n",
      "  warnings.warn(\n"
     ]
    },
    {
     "name": "stdout",
     "output_type": "stream",
     "text": [
      "Batch 0\n",
      "train loss: 0.1411 [0/27652]\n",
      "Finished with batches...\n",
      "Finished with one full epoch...\n",
      "Finished all batches in validation...\n",
      "Finished with calculating metrics...\n",
      "Epoch 541\n",
      "---------------\n"
     ]
    },
    {
     "name": "stderr",
     "output_type": "stream",
     "text": [
      "/home/yang1641/.local/lib/python3.8/site-packages/sklearn/metrics/_ranking.py:980: UserWarning: No positive class found in y_true, recall is set to one for all thresholds.\n",
      "  warnings.warn(\n"
     ]
    },
    {
     "name": "stdout",
     "output_type": "stream",
     "text": [
      "Batch 0\n",
      "train loss: 0.1396 [0/27652]\n",
      "Finished with batches...\n",
      "Finished with one full epoch...\n",
      "Finished all batches in validation...\n",
      "Finished with calculating metrics...\n",
      "Epoch 542\n",
      "---------------\n",
      "Batch 0\n",
      "train loss: 0.1405 [0/27652]\n",
      "Finished with batches...\n",
      "Finished with one full epoch...\n",
      "Finished all batches in validation...\n",
      "Finished with calculating metrics...\n",
      "Epoch 543\n",
      "---------------\n",
      "Batch 0\n",
      "train loss: 0.1390 [0/27652]\n",
      "Finished with batches...\n",
      "Finished with one full epoch...\n",
      "Finished all batches in validation...\n",
      "Finished with calculating metrics...\n",
      "Epoch 544\n",
      "---------------\n",
      "Batch 0\n",
      "train loss: 0.1410 [0/27652]\n",
      "Finished with batches...\n",
      "Finished with one full epoch...\n",
      "Finished all batches in validation...\n",
      "Finished with calculating metrics...\n",
      "Epoch 545\n",
      "---------------\n"
     ]
    },
    {
     "name": "stderr",
     "output_type": "stream",
     "text": [
      "/home/yang1641/.local/lib/python3.8/site-packages/sklearn/metrics/_ranking.py:980: UserWarning: No positive class found in y_true, recall is set to one for all thresholds.\n",
      "  warnings.warn(\n"
     ]
    },
    {
     "name": "stdout",
     "output_type": "stream",
     "text": [
      "Batch 0\n",
      "train loss: 0.1415 [0/27652]\n",
      "Finished with batches...\n",
      "Finished with one full epoch...\n",
      "Finished all batches in validation...\n",
      "Finished with calculating metrics...\n",
      "Epoch 546\n",
      "---------------\n"
     ]
    },
    {
     "name": "stderr",
     "output_type": "stream",
     "text": [
      "/home/yang1641/.local/lib/python3.8/site-packages/sklearn/metrics/_ranking.py:980: UserWarning: No positive class found in y_true, recall is set to one for all thresholds.\n",
      "  warnings.warn(\n"
     ]
    },
    {
     "name": "stdout",
     "output_type": "stream",
     "text": [
      "Batch 0\n",
      "train loss: 0.1413 [0/27652]\n",
      "Finished with batches...\n",
      "Finished with one full epoch...\n",
      "Finished all batches in validation...\n",
      "Finished with calculating metrics...\n",
      "Epoch 547\n",
      "---------------\n"
     ]
    },
    {
     "name": "stderr",
     "output_type": "stream",
     "text": [
      "/home/yang1641/.local/lib/python3.8/site-packages/sklearn/metrics/_ranking.py:980: UserWarning: No positive class found in y_true, recall is set to one for all thresholds.\n",
      "  warnings.warn(\n"
     ]
    },
    {
     "name": "stdout",
     "output_type": "stream",
     "text": [
      "Batch 0\n",
      "train loss: 0.1411 [0/27652]\n",
      "Finished with batches...\n",
      "Finished with one full epoch...\n",
      "Finished all batches in validation...\n",
      "Finished with calculating metrics...\n",
      "Epoch 548\n",
      "---------------\n"
     ]
    },
    {
     "name": "stderr",
     "output_type": "stream",
     "text": [
      "/home/yang1641/.local/lib/python3.8/site-packages/sklearn/metrics/_ranking.py:980: UserWarning: No positive class found in y_true, recall is set to one for all thresholds.\n",
      "  warnings.warn(\n"
     ]
    },
    {
     "name": "stdout",
     "output_type": "stream",
     "text": [
      "Batch 0\n",
      "train loss: 0.1400 [0/27652]\n",
      "Finished with batches...\n",
      "Finished with one full epoch...\n",
      "Finished all batches in validation...\n",
      "Finished with calculating metrics...\n",
      "Epoch 549\n",
      "---------------\n"
     ]
    },
    {
     "name": "stderr",
     "output_type": "stream",
     "text": [
      "/home/yang1641/.local/lib/python3.8/site-packages/sklearn/metrics/_ranking.py:980: UserWarning: No positive class found in y_true, recall is set to one for all thresholds.\n",
      "  warnings.warn(\n"
     ]
    },
    {
     "name": "stdout",
     "output_type": "stream",
     "text": [
      "Batch 0\n",
      "train loss: 0.1410 [0/27652]\n",
      "Finished with batches...\n",
      "Finished with one full epoch...\n",
      "Finished all batches in validation...\n",
      "Finished with calculating metrics...\n",
      "Epoch 550\n",
      "---------------\n"
     ]
    },
    {
     "name": "stderr",
     "output_type": "stream",
     "text": [
      "/home/yang1641/.local/lib/python3.8/site-packages/sklearn/metrics/_ranking.py:980: UserWarning: No positive class found in y_true, recall is set to one for all thresholds.\n",
      "  warnings.warn(\n"
     ]
    },
    {
     "name": "stdout",
     "output_type": "stream",
     "text": [
      "Batch 0\n",
      "train loss: 0.1402 [0/27652]\n",
      "Finished with batches...\n",
      "Finished with one full epoch...\n",
      "Finished all batches in validation...\n",
      "Finished with calculating metrics...\n",
      "Epoch 551\n",
      "---------------\n"
     ]
    },
    {
     "name": "stderr",
     "output_type": "stream",
     "text": [
      "/home/yang1641/.local/lib/python3.8/site-packages/sklearn/metrics/_ranking.py:980: UserWarning: No positive class found in y_true, recall is set to one for all thresholds.\n",
      "  warnings.warn(\n"
     ]
    },
    {
     "name": "stdout",
     "output_type": "stream",
     "text": [
      "Batch 0\n",
      "train loss: 0.1395 [0/27652]\n",
      "Finished with batches...\n",
      "Finished with one full epoch...\n",
      "Finished all batches in validation...\n",
      "Finished with calculating metrics...\n",
      "Epoch 552\n",
      "---------------\n"
     ]
    },
    {
     "name": "stderr",
     "output_type": "stream",
     "text": [
      "/home/yang1641/.local/lib/python3.8/site-packages/sklearn/metrics/_ranking.py:980: UserWarning: No positive class found in y_true, recall is set to one for all thresholds.\n",
      "  warnings.warn(\n",
      "/home/yang1641/.local/lib/python3.8/site-packages/sklearn/metrics/_ranking.py:980: UserWarning: No positive class found in y_true, recall is set to one for all thresholds.\n",
      "  warnings.warn(\n"
     ]
    },
    {
     "name": "stdout",
     "output_type": "stream",
     "text": [
      "Batch 0\n",
      "train loss: 0.1401 [0/27652]\n",
      "Finished with batches...\n",
      "Finished with one full epoch...\n",
      "Finished all batches in validation...\n",
      "Finished with calculating metrics...\n",
      "Epoch 553\n",
      "---------------\n"
     ]
    },
    {
     "name": "stderr",
     "output_type": "stream",
     "text": [
      "/home/yang1641/.local/lib/python3.8/site-packages/sklearn/metrics/_ranking.py:980: UserWarning: No positive class found in y_true, recall is set to one for all thresholds.\n",
      "  warnings.warn(\n",
      "/home/yang1641/.local/lib/python3.8/site-packages/sklearn/metrics/_ranking.py:980: UserWarning: No positive class found in y_true, recall is set to one for all thresholds.\n",
      "  warnings.warn(\n"
     ]
    },
    {
     "name": "stdout",
     "output_type": "stream",
     "text": [
      "Batch 0\n",
      "train loss: 0.1401 [0/27652]\n",
      "Finished with batches...\n",
      "Finished with one full epoch...\n",
      "Finished all batches in validation...\n",
      "Finished with calculating metrics...\n",
      "Epoch 554\n",
      "---------------\n"
     ]
    },
    {
     "name": "stderr",
     "output_type": "stream",
     "text": [
      "/home/yang1641/.local/lib/python3.8/site-packages/sklearn/metrics/_ranking.py:980: UserWarning: No positive class found in y_true, recall is set to one for all thresholds.\n",
      "  warnings.warn(\n",
      "/home/yang1641/.local/lib/python3.8/site-packages/sklearn/metrics/_ranking.py:980: UserWarning: No positive class found in y_true, recall is set to one for all thresholds.\n",
      "  warnings.warn(\n"
     ]
    },
    {
     "name": "stdout",
     "output_type": "stream",
     "text": [
      "Batch 0\n",
      "train loss: 0.1409 [0/27652]\n",
      "Finished with batches...\n",
      "Finished with one full epoch...\n",
      "Finished all batches in validation...\n",
      "Finished with calculating metrics...\n",
      "Epoch 555\n",
      "---------------\n"
     ]
    },
    {
     "name": "stderr",
     "output_type": "stream",
     "text": [
      "/home/yang1641/.local/lib/python3.8/site-packages/sklearn/metrics/_ranking.py:980: UserWarning: No positive class found in y_true, recall is set to one for all thresholds.\n",
      "  warnings.warn(\n",
      "/home/yang1641/.local/lib/python3.8/site-packages/sklearn/metrics/_ranking.py:980: UserWarning: No positive class found in y_true, recall is set to one for all thresholds.\n",
      "  warnings.warn(\n"
     ]
    },
    {
     "name": "stdout",
     "output_type": "stream",
     "text": [
      "Batch 0\n",
      "train loss: 0.1401 [0/27652]\n",
      "Finished with batches...\n",
      "Finished with one full epoch...\n",
      "Finished all batches in validation...\n",
      "Finished with calculating metrics...\n",
      "Epoch 556\n",
      "---------------\n"
     ]
    },
    {
     "name": "stderr",
     "output_type": "stream",
     "text": [
      "/home/yang1641/.local/lib/python3.8/site-packages/sklearn/metrics/_ranking.py:980: UserWarning: No positive class found in y_true, recall is set to one for all thresholds.\n",
      "  warnings.warn(\n",
      "/home/yang1641/.local/lib/python3.8/site-packages/sklearn/metrics/_ranking.py:980: UserWarning: No positive class found in y_true, recall is set to one for all thresholds.\n",
      "  warnings.warn(\n"
     ]
    },
    {
     "name": "stdout",
     "output_type": "stream",
     "text": [
      "Batch 0\n",
      "train loss: 0.1413 [0/27652]\n",
      "Finished with batches...\n",
      "Finished with one full epoch...\n",
      "Finished all batches in validation...\n",
      "Finished with calculating metrics...\n",
      "Epoch 557\n",
      "---------------\n"
     ]
    },
    {
     "name": "stderr",
     "output_type": "stream",
     "text": [
      "/home/yang1641/.local/lib/python3.8/site-packages/sklearn/metrics/_ranking.py:980: UserWarning: No positive class found in y_true, recall is set to one for all thresholds.\n",
      "  warnings.warn(\n",
      "/home/yang1641/.local/lib/python3.8/site-packages/sklearn/metrics/_ranking.py:980: UserWarning: No positive class found in y_true, recall is set to one for all thresholds.\n",
      "  warnings.warn(\n"
     ]
    },
    {
     "name": "stdout",
     "output_type": "stream",
     "text": [
      "Batch 0\n",
      "train loss: 0.1401 [0/27652]\n",
      "Finished with batches...\n",
      "Finished with one full epoch...\n",
      "Finished all batches in validation...\n",
      "Finished with calculating metrics...\n",
      "Epoch 558\n",
      "---------------\n"
     ]
    },
    {
     "name": "stderr",
     "output_type": "stream",
     "text": [
      "/home/yang1641/.local/lib/python3.8/site-packages/sklearn/metrics/_ranking.py:980: UserWarning: No positive class found in y_true, recall is set to one for all thresholds.\n",
      "  warnings.warn(\n",
      "/home/yang1641/.local/lib/python3.8/site-packages/sklearn/metrics/_ranking.py:980: UserWarning: No positive class found in y_true, recall is set to one for all thresholds.\n",
      "  warnings.warn(\n"
     ]
    },
    {
     "name": "stdout",
     "output_type": "stream",
     "text": [
      "Batch 0\n",
      "train loss: 0.1410 [0/27652]\n",
      "Finished with batches...\n",
      "Finished with one full epoch...\n",
      "Finished all batches in validation...\n",
      "Finished with calculating metrics...\n",
      "Epoch 559\n",
      "---------------\n"
     ]
    },
    {
     "name": "stderr",
     "output_type": "stream",
     "text": [
      "/home/yang1641/.local/lib/python3.8/site-packages/sklearn/metrics/_ranking.py:980: UserWarning: No positive class found in y_true, recall is set to one for all thresholds.\n",
      "  warnings.warn(\n",
      "/home/yang1641/.local/lib/python3.8/site-packages/sklearn/metrics/_ranking.py:980: UserWarning: No positive class found in y_true, recall is set to one for all thresholds.\n",
      "  warnings.warn(\n"
     ]
    },
    {
     "name": "stdout",
     "output_type": "stream",
     "text": [
      "Batch 0\n",
      "train loss: 0.1411 [0/27652]\n",
      "Finished with batches...\n",
      "Finished with one full epoch...\n",
      "Finished all batches in validation...\n",
      "Finished with calculating metrics...\n",
      "Epoch 560\n",
      "---------------\n"
     ]
    },
    {
     "name": "stderr",
     "output_type": "stream",
     "text": [
      "/home/yang1641/.local/lib/python3.8/site-packages/sklearn/metrics/_ranking.py:980: UserWarning: No positive class found in y_true, recall is set to one for all thresholds.\n",
      "  warnings.warn(\n"
     ]
    },
    {
     "name": "stdout",
     "output_type": "stream",
     "text": [
      "Batch 0\n",
      "train loss: 0.1409 [0/27652]\n",
      "Finished with batches...\n",
      "Finished with one full epoch...\n",
      "Finished all batches in validation...\n",
      "Finished with calculating metrics...\n",
      "Epoch 561\n",
      "---------------\n",
      "Batch 0\n",
      "train loss: 0.1398 [0/27652]\n",
      "Finished with batches...\n",
      "Finished with one full epoch...\n",
      "Finished all batches in validation...\n",
      "Finished with calculating metrics...\n",
      "Epoch 562\n",
      "---------------\n"
     ]
    },
    {
     "name": "stderr",
     "output_type": "stream",
     "text": [
      "/home/yang1641/.local/lib/python3.8/site-packages/sklearn/metrics/_ranking.py:980: UserWarning: No positive class found in y_true, recall is set to one for all thresholds.\n",
      "  warnings.warn(\n"
     ]
    },
    {
     "name": "stdout",
     "output_type": "stream",
     "text": [
      "Batch 0\n",
      "train loss: 0.1405 [0/27652]\n",
      "Finished with batches...\n",
      "Finished with one full epoch...\n",
      "Finished all batches in validation...\n",
      "Finished with calculating metrics...\n",
      "Epoch 563\n",
      "---------------\n",
      "Batch 0\n",
      "train loss: 0.1409 [0/27652]\n",
      "Finished with batches...\n",
      "Finished with one full epoch...\n",
      "Finished all batches in validation...\n",
      "Finished with calculating metrics...\n",
      "Epoch 564\n",
      "---------------\n"
     ]
    },
    {
     "name": "stderr",
     "output_type": "stream",
     "text": [
      "/home/yang1641/.local/lib/python3.8/site-packages/sklearn/metrics/_ranking.py:980: UserWarning: No positive class found in y_true, recall is set to one for all thresholds.\n",
      "  warnings.warn(\n",
      "/home/yang1641/.local/lib/python3.8/site-packages/sklearn/metrics/_ranking.py:980: UserWarning: No positive class found in y_true, recall is set to one for all thresholds.\n",
      "  warnings.warn(\n"
     ]
    },
    {
     "name": "stdout",
     "output_type": "stream",
     "text": [
      "Batch 0\n",
      "train loss: 0.1402 [0/27652]\n",
      "Finished with batches...\n",
      "Finished with one full epoch...\n",
      "Finished all batches in validation...\n",
      "Finished with calculating metrics...\n",
      "Epoch 565\n",
      "---------------\n"
     ]
    },
    {
     "name": "stderr",
     "output_type": "stream",
     "text": [
      "/home/yang1641/.local/lib/python3.8/site-packages/sklearn/metrics/_ranking.py:980: UserWarning: No positive class found in y_true, recall is set to one for all thresholds.\n",
      "  warnings.warn(\n",
      "/home/yang1641/.local/lib/python3.8/site-packages/sklearn/metrics/_ranking.py:980: UserWarning: No positive class found in y_true, recall is set to one for all thresholds.\n",
      "  warnings.warn(\n"
     ]
    },
    {
     "name": "stdout",
     "output_type": "stream",
     "text": [
      "Batch 0\n",
      "train loss: 0.1402 [0/27652]\n",
      "Finished with batches...\n",
      "Finished with one full epoch...\n",
      "Finished all batches in validation...\n",
      "Finished with calculating metrics...\n",
      "Epoch 566\n",
      "---------------\n"
     ]
    },
    {
     "name": "stderr",
     "output_type": "stream",
     "text": [
      "/home/yang1641/.local/lib/python3.8/site-packages/sklearn/metrics/_ranking.py:980: UserWarning: No positive class found in y_true, recall is set to one for all thresholds.\n",
      "  warnings.warn(\n"
     ]
    },
    {
     "name": "stdout",
     "output_type": "stream",
     "text": [
      "Batch 0\n",
      "train loss: 0.1396 [0/27652]\n",
      "Finished with batches...\n",
      "Finished with one full epoch...\n",
      "Finished all batches in validation...\n",
      "Finished with calculating metrics...\n",
      "Epoch 567\n",
      "---------------\n"
     ]
    },
    {
     "name": "stderr",
     "output_type": "stream",
     "text": [
      "/home/yang1641/.local/lib/python3.8/site-packages/sklearn/metrics/_ranking.py:980: UserWarning: No positive class found in y_true, recall is set to one for all thresholds.\n",
      "  warnings.warn(\n",
      "/home/yang1641/.local/lib/python3.8/site-packages/sklearn/metrics/_ranking.py:980: UserWarning: No positive class found in y_true, recall is set to one for all thresholds.\n",
      "  warnings.warn(\n"
     ]
    },
    {
     "name": "stdout",
     "output_type": "stream",
     "text": [
      "Batch 0\n",
      "train loss: 0.1406 [0/27652]\n",
      "Finished with batches...\n",
      "Finished with one full epoch...\n",
      "Finished all batches in validation...\n",
      "Finished with calculating metrics...\n",
      "Epoch 568\n",
      "---------------\n"
     ]
    },
    {
     "name": "stderr",
     "output_type": "stream",
     "text": [
      "/home/yang1641/.local/lib/python3.8/site-packages/sklearn/metrics/_ranking.py:980: UserWarning: No positive class found in y_true, recall is set to one for all thresholds.\n",
      "  warnings.warn(\n",
      "/home/yang1641/.local/lib/python3.8/site-packages/sklearn/metrics/_ranking.py:980: UserWarning: No positive class found in y_true, recall is set to one for all thresholds.\n",
      "  warnings.warn(\n"
     ]
    },
    {
     "name": "stdout",
     "output_type": "stream",
     "text": [
      "Batch 0\n",
      "train loss: 0.1400 [0/27652]\n",
      "Finished with batches...\n",
      "Finished with one full epoch...\n",
      "Finished all batches in validation...\n",
      "Finished with calculating metrics...\n",
      "Epoch 569\n",
      "---------------\n"
     ]
    },
    {
     "name": "stderr",
     "output_type": "stream",
     "text": [
      "/home/yang1641/.local/lib/python3.8/site-packages/sklearn/metrics/_ranking.py:980: UserWarning: No positive class found in y_true, recall is set to one for all thresholds.\n",
      "  warnings.warn(\n"
     ]
    },
    {
     "name": "stdout",
     "output_type": "stream",
     "text": [
      "Batch 0\n",
      "train loss: 0.1409 [0/27652]\n",
      "Finished with batches...\n",
      "Finished with one full epoch...\n",
      "Finished all batches in validation...\n",
      "Finished with calculating metrics...\n",
      "Epoch 570\n",
      "---------------\n"
     ]
    },
    {
     "name": "stderr",
     "output_type": "stream",
     "text": [
      "/home/yang1641/.local/lib/python3.8/site-packages/sklearn/metrics/_ranking.py:980: UserWarning: No positive class found in y_true, recall is set to one for all thresholds.\n",
      "  warnings.warn(\n"
     ]
    },
    {
     "name": "stdout",
     "output_type": "stream",
     "text": [
      "Batch 0\n",
      "train loss: 0.1392 [0/27652]\n",
      "Finished with batches...\n",
      "Finished with one full epoch...\n",
      "Finished all batches in validation...\n",
      "Finished with calculating metrics...\n",
      "Epoch 571\n",
      "---------------\n"
     ]
    },
    {
     "name": "stderr",
     "output_type": "stream",
     "text": [
      "/home/yang1641/.local/lib/python3.8/site-packages/sklearn/metrics/_ranking.py:980: UserWarning: No positive class found in y_true, recall is set to one for all thresholds.\n",
      "  warnings.warn(\n"
     ]
    },
    {
     "name": "stdout",
     "output_type": "stream",
     "text": [
      "Batch 0\n",
      "train loss: 0.1405 [0/27652]\n",
      "Finished with batches...\n",
      "Finished with one full epoch...\n",
      "Finished all batches in validation...\n",
      "Finished with calculating metrics...\n",
      "Epoch 572\n",
      "---------------\n"
     ]
    },
    {
     "name": "stderr",
     "output_type": "stream",
     "text": [
      "/home/yang1641/.local/lib/python3.8/site-packages/sklearn/metrics/_ranking.py:980: UserWarning: No positive class found in y_true, recall is set to one for all thresholds.\n",
      "  warnings.warn(\n"
     ]
    },
    {
     "name": "stdout",
     "output_type": "stream",
     "text": [
      "Batch 0\n",
      "train loss: 0.1402 [0/27652]\n",
      "Finished with batches...\n",
      "Finished with one full epoch...\n",
      "Finished all batches in validation...\n",
      "Finished with calculating metrics...\n",
      "Epoch 573\n",
      "---------------\n",
      "Batch 0\n",
      "train loss: 0.1402 [0/27652]\n",
      "Finished with batches...\n",
      "Finished with one full epoch...\n",
      "Finished all batches in validation...\n",
      "Finished with calculating metrics...\n",
      "Epoch 574\n",
      "---------------\n",
      "Batch 0\n",
      "train loss: 0.1393 [0/27652]\n",
      "Finished with batches...\n",
      "Finished with one full epoch...\n",
      "Finished all batches in validation...\n",
      "Finished with calculating metrics...\n",
      "Epoch 575\n",
      "---------------\n"
     ]
    },
    {
     "name": "stderr",
     "output_type": "stream",
     "text": [
      "/home/yang1641/.local/lib/python3.8/site-packages/sklearn/metrics/_ranking.py:980: UserWarning: No positive class found in y_true, recall is set to one for all thresholds.\n",
      "  warnings.warn(\n",
      "/home/yang1641/.local/lib/python3.8/site-packages/sklearn/metrics/_ranking.py:980: UserWarning: No positive class found in y_true, recall is set to one for all thresholds.\n",
      "  warnings.warn(\n"
     ]
    },
    {
     "name": "stdout",
     "output_type": "stream",
     "text": [
      "Batch 0\n",
      "train loss: 0.1399 [0/27652]\n",
      "Finished with batches...\n",
      "Finished with one full epoch...\n",
      "Finished all batches in validation...\n",
      "Finished with calculating metrics...\n",
      "Epoch 576\n",
      "---------------\n"
     ]
    },
    {
     "name": "stderr",
     "output_type": "stream",
     "text": [
      "/home/yang1641/.local/lib/python3.8/site-packages/sklearn/metrics/_ranking.py:980: UserWarning: No positive class found in y_true, recall is set to one for all thresholds.\n",
      "  warnings.warn(\n"
     ]
    },
    {
     "name": "stdout",
     "output_type": "stream",
     "text": [
      "Batch 0\n",
      "train loss: 0.1404 [0/27652]\n",
      "Finished with batches...\n",
      "Finished with one full epoch...\n",
      "Finished all batches in validation...\n",
      "Finished with calculating metrics...\n",
      "Epoch 577\n",
      "---------------\n"
     ]
    },
    {
     "name": "stderr",
     "output_type": "stream",
     "text": [
      "/home/yang1641/.local/lib/python3.8/site-packages/sklearn/metrics/_ranking.py:980: UserWarning: No positive class found in y_true, recall is set to one for all thresholds.\n",
      "  warnings.warn(\n"
     ]
    },
    {
     "name": "stdout",
     "output_type": "stream",
     "text": [
      "Batch 0\n",
      "train loss: 0.1410 [0/27652]\n",
      "Finished with batches...\n",
      "Finished with one full epoch...\n",
      "Finished all batches in validation...\n",
      "Finished with calculating metrics...\n",
      "Epoch 578\n",
      "---------------\n",
      "Batch 0\n",
      "train loss: 0.1401 [0/27652]\n",
      "Finished with batches...\n",
      "Finished with one full epoch...\n",
      "Finished all batches in validation...\n",
      "Finished with calculating metrics...\n",
      "Epoch 579\n",
      "---------------\n",
      "Batch 0\n",
      "train loss: 0.1410 [0/27652]\n",
      "Finished with batches...\n",
      "Finished with one full epoch...\n",
      "Finished all batches in validation...\n",
      "Finished with calculating metrics...\n",
      "Epoch 580\n",
      "---------------\n"
     ]
    },
    {
     "name": "stderr",
     "output_type": "stream",
     "text": [
      "/home/yang1641/.local/lib/python3.8/site-packages/sklearn/metrics/_ranking.py:980: UserWarning: No positive class found in y_true, recall is set to one for all thresholds.\n",
      "  warnings.warn(\n"
     ]
    },
    {
     "name": "stdout",
     "output_type": "stream",
     "text": [
      "Batch 0\n",
      "train loss: 0.1406 [0/27652]\n",
      "Finished with batches...\n",
      "Finished with one full epoch...\n",
      "Finished all batches in validation...\n",
      "Finished with calculating metrics...\n",
      "Epoch 581\n",
      "---------------\n"
     ]
    },
    {
     "name": "stderr",
     "output_type": "stream",
     "text": [
      "/home/yang1641/.local/lib/python3.8/site-packages/sklearn/metrics/_ranking.py:980: UserWarning: No positive class found in y_true, recall is set to one for all thresholds.\n",
      "  warnings.warn(\n",
      "/home/yang1641/.local/lib/python3.8/site-packages/sklearn/metrics/_ranking.py:980: UserWarning: No positive class found in y_true, recall is set to one for all thresholds.\n",
      "  warnings.warn(\n"
     ]
    },
    {
     "name": "stdout",
     "output_type": "stream",
     "text": [
      "Batch 0\n",
      "train loss: 0.1399 [0/27652]\n",
      "Finished with batches...\n",
      "Finished with one full epoch...\n",
      "Finished all batches in validation...\n",
      "Finished with calculating metrics...\n",
      "Epoch 582\n",
      "---------------\n"
     ]
    },
    {
     "name": "stderr",
     "output_type": "stream",
     "text": [
      "/home/yang1641/.local/lib/python3.8/site-packages/sklearn/metrics/_ranking.py:980: UserWarning: No positive class found in y_true, recall is set to one for all thresholds.\n",
      "  warnings.warn(\n",
      "/home/yang1641/.local/lib/python3.8/site-packages/sklearn/metrics/_ranking.py:980: UserWarning: No positive class found in y_true, recall is set to one for all thresholds.\n",
      "  warnings.warn(\n"
     ]
    },
    {
     "name": "stdout",
     "output_type": "stream",
     "text": [
      "Batch 0\n",
      "train loss: 0.1405 [0/27652]\n",
      "Finished with batches...\n",
      "Finished with one full epoch...\n",
      "Finished all batches in validation...\n",
      "Finished with calculating metrics...\n",
      "Epoch 583\n",
      "---------------\n"
     ]
    },
    {
     "name": "stderr",
     "output_type": "stream",
     "text": [
      "/home/yang1641/.local/lib/python3.8/site-packages/sklearn/metrics/_ranking.py:980: UserWarning: No positive class found in y_true, recall is set to one for all thresholds.\n",
      "  warnings.warn(\n"
     ]
    },
    {
     "name": "stdout",
     "output_type": "stream",
     "text": [
      "Batch 0\n",
      "train loss: 0.1402 [0/27652]\n",
      "Finished with batches...\n",
      "Finished with one full epoch...\n",
      "Finished all batches in validation...\n",
      "Finished with calculating metrics...\n",
      "Epoch 584\n",
      "---------------\n"
     ]
    },
    {
     "name": "stderr",
     "output_type": "stream",
     "text": [
      "/home/yang1641/.local/lib/python3.8/site-packages/sklearn/metrics/_ranking.py:980: UserWarning: No positive class found in y_true, recall is set to one for all thresholds.\n",
      "  warnings.warn(\n"
     ]
    },
    {
     "name": "stdout",
     "output_type": "stream",
     "text": [
      "Batch 0\n",
      "train loss: 0.1401 [0/27652]\n",
      "Finished with batches...\n",
      "Finished with one full epoch...\n",
      "Finished all batches in validation...\n",
      "Finished with calculating metrics...\n",
      "Epoch 585\n",
      "---------------\n"
     ]
    },
    {
     "name": "stderr",
     "output_type": "stream",
     "text": [
      "/home/yang1641/.local/lib/python3.8/site-packages/sklearn/metrics/_ranking.py:980: UserWarning: No positive class found in y_true, recall is set to one for all thresholds.\n",
      "  warnings.warn(\n",
      "/home/yang1641/.local/lib/python3.8/site-packages/sklearn/metrics/_ranking.py:980: UserWarning: No positive class found in y_true, recall is set to one for all thresholds.\n",
      "  warnings.warn(\n"
     ]
    },
    {
     "name": "stdout",
     "output_type": "stream",
     "text": [
      "Batch 0\n",
      "train loss: 0.1400 [0/27652]\n",
      "Finished with batches...\n",
      "Finished with one full epoch...\n",
      "Finished all batches in validation...\n",
      "Finished with calculating metrics...\n",
      "Epoch 586\n",
      "---------------\n"
     ]
    },
    {
     "name": "stderr",
     "output_type": "stream",
     "text": [
      "/home/yang1641/.local/lib/python3.8/site-packages/sklearn/metrics/_ranking.py:980: UserWarning: No positive class found in y_true, recall is set to one for all thresholds.\n",
      "  warnings.warn(\n",
      "/home/yang1641/.local/lib/python3.8/site-packages/sklearn/metrics/_ranking.py:980: UserWarning: No positive class found in y_true, recall is set to one for all thresholds.\n",
      "  warnings.warn(\n"
     ]
    },
    {
     "name": "stdout",
     "output_type": "stream",
     "text": [
      "Batch 0\n",
      "train loss: 0.1389 [0/27652]\n",
      "Finished with batches...\n",
      "Finished with one full epoch...\n",
      "Finished all batches in validation...\n",
      "Finished with calculating metrics...\n",
      "Epoch 587\n",
      "---------------\n"
     ]
    },
    {
     "name": "stderr",
     "output_type": "stream",
     "text": [
      "/home/yang1641/.local/lib/python3.8/site-packages/sklearn/metrics/_ranking.py:980: UserWarning: No positive class found in y_true, recall is set to one for all thresholds.\n",
      "  warnings.warn(\n"
     ]
    },
    {
     "name": "stdout",
     "output_type": "stream",
     "text": [
      "Batch 0\n",
      "train loss: 0.1390 [0/27652]\n",
      "Finished with batches...\n",
      "Finished with one full epoch...\n",
      "Finished all batches in validation...\n",
      "Finished with calculating metrics...\n",
      "Epoch 588\n",
      "---------------\n"
     ]
    },
    {
     "name": "stderr",
     "output_type": "stream",
     "text": [
      "/home/yang1641/.local/lib/python3.8/site-packages/sklearn/metrics/_ranking.py:980: UserWarning: No positive class found in y_true, recall is set to one for all thresholds.\n",
      "  warnings.warn(\n",
      "/home/yang1641/.local/lib/python3.8/site-packages/sklearn/metrics/_ranking.py:980: UserWarning: No positive class found in y_true, recall is set to one for all thresholds.\n",
      "  warnings.warn(\n"
     ]
    },
    {
     "name": "stdout",
     "output_type": "stream",
     "text": [
      "Batch 0\n",
      "train loss: 0.1404 [0/27652]\n",
      "Finished with batches...\n",
      "Finished with one full epoch...\n",
      "Finished all batches in validation...\n",
      "Finished with calculating metrics...\n",
      "Epoch 589\n",
      "---------------\n"
     ]
    },
    {
     "name": "stderr",
     "output_type": "stream",
     "text": [
      "/home/yang1641/.local/lib/python3.8/site-packages/sklearn/metrics/_ranking.py:980: UserWarning: No positive class found in y_true, recall is set to one for all thresholds.\n",
      "  warnings.warn(\n",
      "/home/yang1641/.local/lib/python3.8/site-packages/sklearn/metrics/_ranking.py:980: UserWarning: No positive class found in y_true, recall is set to one for all thresholds.\n",
      "  warnings.warn(\n"
     ]
    },
    {
     "name": "stdout",
     "output_type": "stream",
     "text": [
      "Batch 0\n",
      "train loss: 0.1398 [0/27652]\n",
      "Finished with batches...\n",
      "Finished with one full epoch...\n",
      "Finished all batches in validation...\n",
      "Finished with calculating metrics...\n",
      "Epoch 590\n",
      "---------------\n"
     ]
    },
    {
     "name": "stderr",
     "output_type": "stream",
     "text": [
      "/home/yang1641/.local/lib/python3.8/site-packages/sklearn/metrics/_ranking.py:980: UserWarning: No positive class found in y_true, recall is set to one for all thresholds.\n",
      "  warnings.warn(\n"
     ]
    },
    {
     "name": "stdout",
     "output_type": "stream",
     "text": [
      "Batch 0\n",
      "train loss: 0.1400 [0/27652]\n",
      "Finished with batches...\n",
      "Finished with one full epoch...\n",
      "Finished all batches in validation...\n",
      "Finished with calculating metrics...\n",
      "Epoch 591\n",
      "---------------\n"
     ]
    },
    {
     "name": "stderr",
     "output_type": "stream",
     "text": [
      "/home/yang1641/.local/lib/python3.8/site-packages/sklearn/metrics/_ranking.py:980: UserWarning: No positive class found in y_true, recall is set to one for all thresholds.\n",
      "  warnings.warn(\n"
     ]
    },
    {
     "name": "stdout",
     "output_type": "stream",
     "text": [
      "Batch 0\n",
      "train loss: 0.1409 [0/27652]\n",
      "Finished with batches...\n",
      "Finished with one full epoch...\n",
      "Finished all batches in validation...\n",
      "Finished with calculating metrics...\n",
      "Epoch 592\n",
      "---------------\n"
     ]
    },
    {
     "name": "stderr",
     "output_type": "stream",
     "text": [
      "/home/yang1641/.local/lib/python3.8/site-packages/sklearn/metrics/_ranking.py:980: UserWarning: No positive class found in y_true, recall is set to one for all thresholds.\n",
      "  warnings.warn(\n"
     ]
    },
    {
     "name": "stdout",
     "output_type": "stream",
     "text": [
      "Batch 0\n",
      "train loss: 0.1398 [0/27652]\n",
      "Finished with batches...\n",
      "Finished with one full epoch...\n",
      "Finished all batches in validation...\n",
      "Finished with calculating metrics...\n",
      "Epoch 593\n",
      "---------------\n"
     ]
    },
    {
     "name": "stderr",
     "output_type": "stream",
     "text": [
      "/home/yang1641/.local/lib/python3.8/site-packages/sklearn/metrics/_ranking.py:980: UserWarning: No positive class found in y_true, recall is set to one for all thresholds.\n",
      "  warnings.warn(\n"
     ]
    },
    {
     "name": "stdout",
     "output_type": "stream",
     "text": [
      "Batch 0\n",
      "train loss: 0.1408 [0/27652]\n",
      "Finished with batches...\n",
      "Finished with one full epoch...\n",
      "Finished all batches in validation...\n",
      "Finished with calculating metrics...\n",
      "Epoch 594\n",
      "---------------\n"
     ]
    },
    {
     "name": "stderr",
     "output_type": "stream",
     "text": [
      "/home/yang1641/.local/lib/python3.8/site-packages/sklearn/metrics/_ranking.py:980: UserWarning: No positive class found in y_true, recall is set to one for all thresholds.\n",
      "  warnings.warn(\n",
      "/home/yang1641/.local/lib/python3.8/site-packages/sklearn/metrics/_ranking.py:980: UserWarning: No positive class found in y_true, recall is set to one for all thresholds.\n",
      "  warnings.warn(\n"
     ]
    },
    {
     "name": "stdout",
     "output_type": "stream",
     "text": [
      "Batch 0\n",
      "train loss: 0.1401 [0/27652]\n",
      "Finished with batches...\n",
      "Finished with one full epoch...\n",
      "Finished all batches in validation...\n",
      "Finished with calculating metrics...\n",
      "Epoch 595\n",
      "---------------\n"
     ]
    },
    {
     "name": "stderr",
     "output_type": "stream",
     "text": [
      "/home/yang1641/.local/lib/python3.8/site-packages/sklearn/metrics/_ranking.py:980: UserWarning: No positive class found in y_true, recall is set to one for all thresholds.\n",
      "  warnings.warn(\n"
     ]
    },
    {
     "name": "stdout",
     "output_type": "stream",
     "text": [
      "Batch 0\n",
      "train loss: 0.1389 [0/27652]\n",
      "Finished with batches...\n",
      "Finished with one full epoch...\n",
      "Finished all batches in validation...\n",
      "Finished with calculating metrics...\n",
      "Epoch 596\n",
      "---------------\n"
     ]
    },
    {
     "name": "stderr",
     "output_type": "stream",
     "text": [
      "/home/yang1641/.local/lib/python3.8/site-packages/sklearn/metrics/_ranking.py:980: UserWarning: No positive class found in y_true, recall is set to one for all thresholds.\n",
      "  warnings.warn(\n"
     ]
    },
    {
     "name": "stdout",
     "output_type": "stream",
     "text": [
      "Batch 0\n",
      "train loss: 0.1399 [0/27652]\n",
      "Finished with batches...\n",
      "Finished with one full epoch...\n",
      "Finished all batches in validation...\n",
      "Finished with calculating metrics...\n",
      "Epoch 597\n",
      "---------------\n"
     ]
    },
    {
     "name": "stderr",
     "output_type": "stream",
     "text": [
      "/home/yang1641/.local/lib/python3.8/site-packages/sklearn/metrics/_ranking.py:980: UserWarning: No positive class found in y_true, recall is set to one for all thresholds.\n",
      "  warnings.warn(\n"
     ]
    },
    {
     "name": "stdout",
     "output_type": "stream",
     "text": [
      "Batch 0\n",
      "train loss: 0.1398 [0/27652]\n",
      "Finished with batches...\n",
      "Finished with one full epoch...\n",
      "Finished all batches in validation...\n",
      "Finished with calculating metrics...\n",
      "Epoch 598\n",
      "---------------\n"
     ]
    },
    {
     "name": "stderr",
     "output_type": "stream",
     "text": [
      "/home/yang1641/.local/lib/python3.8/site-packages/sklearn/metrics/_ranking.py:980: UserWarning: No positive class found in y_true, recall is set to one for all thresholds.\n",
      "  warnings.warn(\n"
     ]
    },
    {
     "name": "stdout",
     "output_type": "stream",
     "text": [
      "Batch 0\n",
      "train loss: 0.1412 [0/27652]\n",
      "Finished with batches...\n",
      "Finished with one full epoch...\n",
      "Finished all batches in validation...\n",
      "Finished with calculating metrics...\n",
      "Epoch 599\n",
      "---------------\n"
     ]
    },
    {
     "name": "stderr",
     "output_type": "stream",
     "text": [
      "/home/yang1641/.local/lib/python3.8/site-packages/sklearn/metrics/_ranking.py:980: UserWarning: No positive class found in y_true, recall is set to one for all thresholds.\n",
      "  warnings.warn(\n"
     ]
    },
    {
     "name": "stdout",
     "output_type": "stream",
     "text": [
      "Batch 0\n",
      "train loss: 0.1407 [0/27652]\n",
      "Finished with batches...\n",
      "Finished with one full epoch...\n",
      "Finished all batches in validation...\n",
      "Finished with calculating metrics...\n",
      "Epoch 600\n",
      "---------------\n"
     ]
    },
    {
     "name": "stderr",
     "output_type": "stream",
     "text": [
      "/home/yang1641/.local/lib/python3.8/site-packages/sklearn/metrics/_ranking.py:980: UserWarning: No positive class found in y_true, recall is set to one for all thresholds.\n",
      "  warnings.warn(\n"
     ]
    },
    {
     "name": "stdout",
     "output_type": "stream",
     "text": [
      "Batch 0\n",
      "train loss: 0.1402 [0/27652]\n",
      "Finished with batches...\n",
      "Finished with one full epoch...\n",
      "Finished all batches in validation...\n",
      "Finished with calculating metrics...\n",
      "Epoch 601\n",
      "---------------\n"
     ]
    },
    {
     "name": "stderr",
     "output_type": "stream",
     "text": [
      "/home/yang1641/.local/lib/python3.8/site-packages/sklearn/metrics/_ranking.py:980: UserWarning: No positive class found in y_true, recall is set to one for all thresholds.\n",
      "  warnings.warn(\n"
     ]
    },
    {
     "name": "stdout",
     "output_type": "stream",
     "text": [
      "Batch 0\n",
      "train loss: 0.1396 [0/27652]\n",
      "Finished with batches...\n",
      "Finished with one full epoch...\n",
      "Finished all batches in validation...\n",
      "Finished with calculating metrics...\n",
      "Epoch 602\n",
      "---------------\n"
     ]
    },
    {
     "name": "stderr",
     "output_type": "stream",
     "text": [
      "/home/yang1641/.local/lib/python3.8/site-packages/sklearn/metrics/_ranking.py:980: UserWarning: No positive class found in y_true, recall is set to one for all thresholds.\n",
      "  warnings.warn(\n",
      "/home/yang1641/.local/lib/python3.8/site-packages/sklearn/metrics/_ranking.py:980: UserWarning: No positive class found in y_true, recall is set to one for all thresholds.\n",
      "  warnings.warn(\n"
     ]
    },
    {
     "name": "stdout",
     "output_type": "stream",
     "text": [
      "Batch 0\n",
      "train loss: 0.1405 [0/27652]\n",
      "Finished with batches...\n",
      "Finished with one full epoch...\n",
      "Finished all batches in validation...\n",
      "Finished with calculating metrics...\n",
      "Epoch 603\n",
      "---------------\n"
     ]
    },
    {
     "name": "stderr",
     "output_type": "stream",
     "text": [
      "/home/yang1641/.local/lib/python3.8/site-packages/sklearn/metrics/_ranking.py:980: UserWarning: No positive class found in y_true, recall is set to one for all thresholds.\n",
      "  warnings.warn(\n"
     ]
    },
    {
     "name": "stdout",
     "output_type": "stream",
     "text": [
      "Batch 0\n",
      "train loss: 0.1412 [0/27652]\n",
      "Finished with batches...\n",
      "Finished with one full epoch...\n",
      "Finished all batches in validation...\n",
      "Finished with calculating metrics...\n",
      "Epoch 604\n",
      "---------------\n"
     ]
    },
    {
     "name": "stderr",
     "output_type": "stream",
     "text": [
      "/home/yang1641/.local/lib/python3.8/site-packages/sklearn/metrics/_ranking.py:980: UserWarning: No positive class found in y_true, recall is set to one for all thresholds.\n",
      "  warnings.warn(\n"
     ]
    },
    {
     "name": "stdout",
     "output_type": "stream",
     "text": [
      "Batch 0\n",
      "train loss: 0.1405 [0/27652]\n",
      "Finished with batches...\n",
      "Finished with one full epoch...\n",
      "Finished all batches in validation...\n",
      "Finished with calculating metrics...\n",
      "Epoch 605\n",
      "---------------\n"
     ]
    },
    {
     "name": "stderr",
     "output_type": "stream",
     "text": [
      "/home/yang1641/.local/lib/python3.8/site-packages/sklearn/metrics/_ranking.py:980: UserWarning: No positive class found in y_true, recall is set to one for all thresholds.\n",
      "  warnings.warn(\n"
     ]
    },
    {
     "name": "stdout",
     "output_type": "stream",
     "text": [
      "Batch 0\n",
      "train loss: 0.1409 [0/27652]\n",
      "Finished with batches...\n",
      "Finished with one full epoch...\n",
      "Finished all batches in validation...\n",
      "Finished with calculating metrics...\n",
      "Epoch 606\n",
      "---------------\n"
     ]
    },
    {
     "name": "stderr",
     "output_type": "stream",
     "text": [
      "/home/yang1641/.local/lib/python3.8/site-packages/sklearn/metrics/_ranking.py:980: UserWarning: No positive class found in y_true, recall is set to one for all thresholds.\n",
      "  warnings.warn(\n"
     ]
    },
    {
     "name": "stdout",
     "output_type": "stream",
     "text": [
      "Batch 0\n",
      "train loss: 0.1408 [0/27652]\n",
      "Finished with batches...\n",
      "Finished with one full epoch...\n",
      "Finished all batches in validation...\n",
      "Finished with calculating metrics...\n",
      "Epoch 607\n",
      "---------------\n"
     ]
    },
    {
     "name": "stderr",
     "output_type": "stream",
     "text": [
      "/home/yang1641/.local/lib/python3.8/site-packages/sklearn/metrics/_ranking.py:980: UserWarning: No positive class found in y_true, recall is set to one for all thresholds.\n",
      "  warnings.warn(\n"
     ]
    },
    {
     "name": "stdout",
     "output_type": "stream",
     "text": [
      "Batch 0\n",
      "train loss: 0.1418 [0/27652]\n",
      "Finished with batches...\n",
      "Finished with one full epoch...\n",
      "Finished all batches in validation...\n",
      "Finished with calculating metrics...\n",
      "Epoch 608\n",
      "---------------\n"
     ]
    },
    {
     "name": "stderr",
     "output_type": "stream",
     "text": [
      "/home/yang1641/.local/lib/python3.8/site-packages/sklearn/metrics/_ranking.py:980: UserWarning: No positive class found in y_true, recall is set to one for all thresholds.\n",
      "  warnings.warn(\n"
     ]
    },
    {
     "name": "stdout",
     "output_type": "stream",
     "text": [
      "Batch 0\n",
      "train loss: 0.1424 [0/27652]\n",
      "Finished with batches...\n",
      "Finished with one full epoch...\n",
      "Finished all batches in validation...\n",
      "Finished with calculating metrics...\n",
      "Epoch 609\n",
      "---------------\n"
     ]
    },
    {
     "name": "stderr",
     "output_type": "stream",
     "text": [
      "/home/yang1641/.local/lib/python3.8/site-packages/sklearn/metrics/_ranking.py:980: UserWarning: No positive class found in y_true, recall is set to one for all thresholds.\n",
      "  warnings.warn(\n"
     ]
    },
    {
     "name": "stdout",
     "output_type": "stream",
     "text": [
      "Batch 0\n",
      "train loss: 0.1411 [0/27652]\n",
      "Finished with batches...\n",
      "Finished with one full epoch...\n",
      "Finished all batches in validation...\n",
      "Finished with calculating metrics...\n",
      "Epoch 610\n",
      "---------------\n"
     ]
    },
    {
     "name": "stderr",
     "output_type": "stream",
     "text": [
      "/home/yang1641/.local/lib/python3.8/site-packages/sklearn/metrics/_ranking.py:980: UserWarning: No positive class found in y_true, recall is set to one for all thresholds.\n",
      "  warnings.warn(\n",
      "/home/yang1641/.local/lib/python3.8/site-packages/sklearn/metrics/_ranking.py:980: UserWarning: No positive class found in y_true, recall is set to one for all thresholds.\n",
      "  warnings.warn(\n"
     ]
    },
    {
     "name": "stdout",
     "output_type": "stream",
     "text": [
      "Batch 0\n",
      "train loss: 0.1418 [0/27652]\n",
      "Finished with batches...\n",
      "Finished with one full epoch...\n",
      "Finished all batches in validation...\n",
      "Finished with calculating metrics...\n",
      "Epoch 611\n",
      "---------------\n"
     ]
    },
    {
     "name": "stderr",
     "output_type": "stream",
     "text": [
      "/home/yang1641/.local/lib/python3.8/site-packages/sklearn/metrics/_ranking.py:980: UserWarning: No positive class found in y_true, recall is set to one for all thresholds.\n",
      "  warnings.warn(\n",
      "/home/yang1641/.local/lib/python3.8/site-packages/sklearn/metrics/_ranking.py:980: UserWarning: No positive class found in y_true, recall is set to one for all thresholds.\n",
      "  warnings.warn(\n"
     ]
    },
    {
     "name": "stdout",
     "output_type": "stream",
     "text": [
      "Batch 0\n",
      "train loss: 0.1413 [0/27652]\n",
      "Finished with batches...\n",
      "Finished with one full epoch...\n",
      "Finished all batches in validation...\n",
      "Finished with calculating metrics...\n",
      "Epoch 612\n",
      "---------------\n"
     ]
    },
    {
     "name": "stderr",
     "output_type": "stream",
     "text": [
      "/home/yang1641/.local/lib/python3.8/site-packages/sklearn/metrics/_ranking.py:980: UserWarning: No positive class found in y_true, recall is set to one for all thresholds.\n",
      "  warnings.warn(\n"
     ]
    },
    {
     "name": "stdout",
     "output_type": "stream",
     "text": [
      "Batch 0\n",
      "train loss: 0.1404 [0/27652]\n",
      "Finished with batches...\n",
      "Finished with one full epoch...\n",
      "Finished all batches in validation...\n",
      "Finished with calculating metrics...\n",
      "Epoch 613\n",
      "---------------\n"
     ]
    },
    {
     "name": "stderr",
     "output_type": "stream",
     "text": [
      "/home/yang1641/.local/lib/python3.8/site-packages/sklearn/metrics/_ranking.py:980: UserWarning: No positive class found in y_true, recall is set to one for all thresholds.\n",
      "  warnings.warn(\n"
     ]
    },
    {
     "name": "stdout",
     "output_type": "stream",
     "text": [
      "Batch 0\n",
      "train loss: 0.1416 [0/27652]\n",
      "Finished with batches...\n",
      "Finished with one full epoch...\n",
      "Finished all batches in validation...\n",
      "Finished with calculating metrics...\n",
      "Epoch 614\n",
      "---------------\n"
     ]
    },
    {
     "name": "stderr",
     "output_type": "stream",
     "text": [
      "/home/yang1641/.local/lib/python3.8/site-packages/sklearn/metrics/_ranking.py:980: UserWarning: No positive class found in y_true, recall is set to one for all thresholds.\n",
      "  warnings.warn(\n"
     ]
    },
    {
     "name": "stdout",
     "output_type": "stream",
     "text": [
      "Batch 0\n",
      "train loss: 0.1415 [0/27652]\n",
      "Finished with batches...\n",
      "Finished with one full epoch...\n",
      "Finished all batches in validation...\n",
      "Finished with calculating metrics...\n",
      "Epoch 615\n",
      "---------------\n"
     ]
    },
    {
     "name": "stderr",
     "output_type": "stream",
     "text": [
      "/home/yang1641/.local/lib/python3.8/site-packages/sklearn/metrics/_ranking.py:980: UserWarning: No positive class found in y_true, recall is set to one for all thresholds.\n",
      "  warnings.warn(\n"
     ]
    },
    {
     "name": "stdout",
     "output_type": "stream",
     "text": [
      "Batch 0\n",
      "train loss: 0.1411 [0/27652]\n",
      "Finished with batches...\n",
      "Finished with one full epoch...\n",
      "Finished all batches in validation...\n",
      "Finished with calculating metrics...\n",
      "Epoch 616\n",
      "---------------\n"
     ]
    },
    {
     "name": "stderr",
     "output_type": "stream",
     "text": [
      "/home/yang1641/.local/lib/python3.8/site-packages/sklearn/metrics/_ranking.py:980: UserWarning: No positive class found in y_true, recall is set to one for all thresholds.\n",
      "  warnings.warn(\n",
      "/home/yang1641/.local/lib/python3.8/site-packages/sklearn/metrics/_ranking.py:980: UserWarning: No positive class found in y_true, recall is set to one for all thresholds.\n",
      "  warnings.warn(\n"
     ]
    },
    {
     "name": "stdout",
     "output_type": "stream",
     "text": [
      "Batch 0\n",
      "train loss: 0.1403 [0/27652]\n",
      "Finished with batches...\n",
      "Finished with one full epoch...\n",
      "Finished all batches in validation...\n",
      "Finished with calculating metrics...\n",
      "Epoch 617\n",
      "---------------\n"
     ]
    },
    {
     "name": "stderr",
     "output_type": "stream",
     "text": [
      "/home/yang1641/.local/lib/python3.8/site-packages/sklearn/metrics/_ranking.py:980: UserWarning: No positive class found in y_true, recall is set to one for all thresholds.\n",
      "  warnings.warn(\n",
      "/home/yang1641/.local/lib/python3.8/site-packages/sklearn/metrics/_ranking.py:980: UserWarning: No positive class found in y_true, recall is set to one for all thresholds.\n",
      "  warnings.warn(\n"
     ]
    },
    {
     "name": "stdout",
     "output_type": "stream",
     "text": [
      "Batch 0\n",
      "train loss: 0.1409 [0/27652]\n",
      "Finished with batches...\n",
      "Finished with one full epoch...\n",
      "Finished all batches in validation...\n",
      "Finished with calculating metrics...\n",
      "Epoch 618\n",
      "---------------\n"
     ]
    },
    {
     "name": "stderr",
     "output_type": "stream",
     "text": [
      "/home/yang1641/.local/lib/python3.8/site-packages/sklearn/metrics/_ranking.py:980: UserWarning: No positive class found in y_true, recall is set to one for all thresholds.\n",
      "  warnings.warn(\n"
     ]
    },
    {
     "name": "stdout",
     "output_type": "stream",
     "text": [
      "Batch 0\n",
      "train loss: 0.1397 [0/27652]\n",
      "Finished with batches...\n",
      "Finished with one full epoch...\n",
      "Finished all batches in validation...\n",
      "Finished with calculating metrics...\n",
      "Epoch 619\n",
      "---------------\n"
     ]
    },
    {
     "name": "stderr",
     "output_type": "stream",
     "text": [
      "/home/yang1641/.local/lib/python3.8/site-packages/sklearn/metrics/_ranking.py:980: UserWarning: No positive class found in y_true, recall is set to one for all thresholds.\n",
      "  warnings.warn(\n",
      "/home/yang1641/.local/lib/python3.8/site-packages/sklearn/metrics/_ranking.py:980: UserWarning: No positive class found in y_true, recall is set to one for all thresholds.\n",
      "  warnings.warn(\n"
     ]
    },
    {
     "name": "stdout",
     "output_type": "stream",
     "text": [
      "Batch 0\n",
      "train loss: 0.1409 [0/27652]\n",
      "Finished with batches...\n",
      "Finished with one full epoch...\n",
      "Finished all batches in validation...\n",
      "Finished with calculating metrics...\n",
      "Epoch 620\n",
      "---------------\n"
     ]
    },
    {
     "name": "stderr",
     "output_type": "stream",
     "text": [
      "/home/yang1641/.local/lib/python3.8/site-packages/sklearn/metrics/_ranking.py:980: UserWarning: No positive class found in y_true, recall is set to one for all thresholds.\n",
      "  warnings.warn(\n",
      "/home/yang1641/.local/lib/python3.8/site-packages/sklearn/metrics/_ranking.py:980: UserWarning: No positive class found in y_true, recall is set to one for all thresholds.\n",
      "  warnings.warn(\n"
     ]
    },
    {
     "name": "stdout",
     "output_type": "stream",
     "text": [
      "Batch 0\n",
      "train loss: 0.1406 [0/27652]\n",
      "Finished with batches...\n",
      "Finished with one full epoch...\n",
      "Finished all batches in validation...\n",
      "Finished with calculating metrics...\n",
      "Epoch 621\n",
      "---------------\n"
     ]
    },
    {
     "name": "stderr",
     "output_type": "stream",
     "text": [
      "/home/yang1641/.local/lib/python3.8/site-packages/sklearn/metrics/_ranking.py:980: UserWarning: No positive class found in y_true, recall is set to one for all thresholds.\n",
      "  warnings.warn(\n",
      "/home/yang1641/.local/lib/python3.8/site-packages/sklearn/metrics/_ranking.py:980: UserWarning: No positive class found in y_true, recall is set to one for all thresholds.\n",
      "  warnings.warn(\n"
     ]
    },
    {
     "name": "stdout",
     "output_type": "stream",
     "text": [
      "Batch 0\n",
      "train loss: 0.1414 [0/27652]\n",
      "Finished with batches...\n",
      "Finished with one full epoch...\n",
      "Finished all batches in validation...\n",
      "Finished with calculating metrics...\n",
      "Epoch 622\n",
      "---------------\n"
     ]
    },
    {
     "name": "stderr",
     "output_type": "stream",
     "text": [
      "/home/yang1641/.local/lib/python3.8/site-packages/sklearn/metrics/_ranking.py:980: UserWarning: No positive class found in y_true, recall is set to one for all thresholds.\n",
      "  warnings.warn(\n",
      "/home/yang1641/.local/lib/python3.8/site-packages/sklearn/metrics/_ranking.py:980: UserWarning: No positive class found in y_true, recall is set to one for all thresholds.\n",
      "  warnings.warn(\n"
     ]
    },
    {
     "name": "stdout",
     "output_type": "stream",
     "text": [
      "Batch 0\n",
      "train loss: 0.1411 [0/27652]\n",
      "Finished with batches...\n",
      "Finished with one full epoch...\n",
      "Finished all batches in validation...\n",
      "Finished with calculating metrics...\n",
      "Epoch 623\n",
      "---------------\n"
     ]
    },
    {
     "name": "stderr",
     "output_type": "stream",
     "text": [
      "/home/yang1641/.local/lib/python3.8/site-packages/sklearn/metrics/_ranking.py:980: UserWarning: No positive class found in y_true, recall is set to one for all thresholds.\n",
      "  warnings.warn(\n"
     ]
    },
    {
     "name": "stdout",
     "output_type": "stream",
     "text": [
      "Batch 0\n",
      "train loss: 0.1396 [0/27652]\n",
      "Finished with batches...\n",
      "Finished with one full epoch...\n",
      "Finished all batches in validation...\n",
      "Finished with calculating metrics...\n",
      "Epoch 624\n",
      "---------------\n"
     ]
    },
    {
     "name": "stderr",
     "output_type": "stream",
     "text": [
      "/home/yang1641/.local/lib/python3.8/site-packages/sklearn/metrics/_ranking.py:980: UserWarning: No positive class found in y_true, recall is set to one for all thresholds.\n",
      "  warnings.warn(\n"
     ]
    },
    {
     "name": "stdout",
     "output_type": "stream",
     "text": [
      "Batch 0\n",
      "train loss: 0.1407 [0/27652]\n",
      "Finished with batches...\n",
      "Finished with one full epoch...\n",
      "Finished all batches in validation...\n",
      "Finished with calculating metrics...\n",
      "Epoch 625\n",
      "---------------\n"
     ]
    },
    {
     "name": "stderr",
     "output_type": "stream",
     "text": [
      "/home/yang1641/.local/lib/python3.8/site-packages/sklearn/metrics/_ranking.py:980: UserWarning: No positive class found in y_true, recall is set to one for all thresholds.\n",
      "  warnings.warn(\n"
     ]
    },
    {
     "name": "stdout",
     "output_type": "stream",
     "text": [
      "Batch 0\n",
      "train loss: 0.1398 [0/27652]\n",
      "Finished with batches...\n",
      "Finished with one full epoch...\n",
      "Finished all batches in validation...\n",
      "Finished with calculating metrics...\n",
      "Epoch 626\n",
      "---------------\n"
     ]
    },
    {
     "name": "stderr",
     "output_type": "stream",
     "text": [
      "/home/yang1641/.local/lib/python3.8/site-packages/sklearn/metrics/_ranking.py:980: UserWarning: No positive class found in y_true, recall is set to one for all thresholds.\n",
      "  warnings.warn(\n"
     ]
    },
    {
     "name": "stdout",
     "output_type": "stream",
     "text": [
      "Batch 0\n",
      "train loss: 0.1396 [0/27652]\n",
      "Finished with batches...\n",
      "Finished with one full epoch...\n",
      "Finished all batches in validation...\n",
      "Finished with calculating metrics...\n",
      "Epoch 627\n",
      "---------------\n"
     ]
    },
    {
     "name": "stderr",
     "output_type": "stream",
     "text": [
      "/home/yang1641/.local/lib/python3.8/site-packages/sklearn/metrics/_ranking.py:980: UserWarning: No positive class found in y_true, recall is set to one for all thresholds.\n",
      "  warnings.warn(\n"
     ]
    },
    {
     "name": "stdout",
     "output_type": "stream",
     "text": [
      "Batch 0\n",
      "train loss: 0.1405 [0/27652]\n",
      "Finished with batches...\n",
      "Finished with one full epoch...\n",
      "Finished all batches in validation...\n",
      "Finished with calculating metrics...\n",
      "Epoch 628\n",
      "---------------\n"
     ]
    },
    {
     "name": "stderr",
     "output_type": "stream",
     "text": [
      "/home/yang1641/.local/lib/python3.8/site-packages/sklearn/metrics/_ranking.py:980: UserWarning: No positive class found in y_true, recall is set to one for all thresholds.\n",
      "  warnings.warn(\n",
      "/home/yang1641/.local/lib/python3.8/site-packages/sklearn/metrics/_ranking.py:980: UserWarning: No positive class found in y_true, recall is set to one for all thresholds.\n",
      "  warnings.warn(\n"
     ]
    },
    {
     "name": "stdout",
     "output_type": "stream",
     "text": [
      "Batch 0\n",
      "train loss: 0.1397 [0/27652]\n",
      "Finished with batches...\n",
      "Finished with one full epoch...\n",
      "Finished all batches in validation...\n",
      "Finished with calculating metrics...\n",
      "Epoch 629\n",
      "---------------\n"
     ]
    },
    {
     "name": "stderr",
     "output_type": "stream",
     "text": [
      "/home/yang1641/.local/lib/python3.8/site-packages/sklearn/metrics/_ranking.py:980: UserWarning: No positive class found in y_true, recall is set to one for all thresholds.\n",
      "  warnings.warn(\n",
      "/home/yang1641/.local/lib/python3.8/site-packages/sklearn/metrics/_ranking.py:980: UserWarning: No positive class found in y_true, recall is set to one for all thresholds.\n",
      "  warnings.warn(\n"
     ]
    },
    {
     "name": "stdout",
     "output_type": "stream",
     "text": [
      "Batch 0\n",
      "train loss: 0.1399 [0/27652]\n",
      "Finished with batches...\n",
      "Finished with one full epoch...\n",
      "Finished all batches in validation...\n",
      "Finished with calculating metrics...\n",
      "Epoch 630\n",
      "---------------\n"
     ]
    },
    {
     "name": "stderr",
     "output_type": "stream",
     "text": [
      "/home/yang1641/.local/lib/python3.8/site-packages/sklearn/metrics/_ranking.py:980: UserWarning: No positive class found in y_true, recall is set to one for all thresholds.\n",
      "  warnings.warn(\n"
     ]
    },
    {
     "name": "stdout",
     "output_type": "stream",
     "text": [
      "Batch 0\n",
      "train loss: 0.1405 [0/27652]\n",
      "Finished with batches...\n",
      "Finished with one full epoch...\n",
      "Finished all batches in validation...\n",
      "Finished with calculating metrics...\n",
      "Epoch 631\n",
      "---------------\n"
     ]
    },
    {
     "name": "stderr",
     "output_type": "stream",
     "text": [
      "/home/yang1641/.local/lib/python3.8/site-packages/sklearn/metrics/_ranking.py:980: UserWarning: No positive class found in y_true, recall is set to one for all thresholds.\n",
      "  warnings.warn(\n"
     ]
    },
    {
     "name": "stdout",
     "output_type": "stream",
     "text": [
      "Batch 0\n",
      "train loss: 0.1393 [0/27652]\n",
      "Finished with batches...\n",
      "Finished with one full epoch...\n",
      "Finished all batches in validation...\n",
      "Finished with calculating metrics...\n",
      "Epoch 632\n",
      "---------------\n"
     ]
    },
    {
     "name": "stderr",
     "output_type": "stream",
     "text": [
      "/home/yang1641/.local/lib/python3.8/site-packages/sklearn/metrics/_ranking.py:980: UserWarning: No positive class found in y_true, recall is set to one for all thresholds.\n",
      "  warnings.warn(\n"
     ]
    },
    {
     "name": "stdout",
     "output_type": "stream",
     "text": [
      "Batch 0\n",
      "train loss: 0.1399 [0/27652]\n",
      "Finished with batches...\n",
      "Finished with one full epoch...\n",
      "Finished all batches in validation...\n",
      "Finished with calculating metrics...\n",
      "Epoch 633\n",
      "---------------\n"
     ]
    },
    {
     "name": "stderr",
     "output_type": "stream",
     "text": [
      "/home/yang1641/.local/lib/python3.8/site-packages/sklearn/metrics/_ranking.py:980: UserWarning: No positive class found in y_true, recall is set to one for all thresholds.\n",
      "  warnings.warn(\n"
     ]
    },
    {
     "name": "stdout",
     "output_type": "stream",
     "text": [
      "Batch 0\n",
      "train loss: 0.1398 [0/27652]\n",
      "Finished with batches...\n",
      "Finished with one full epoch...\n",
      "Finished all batches in validation...\n",
      "Finished with calculating metrics...\n",
      "Epoch 634\n",
      "---------------\n"
     ]
    },
    {
     "name": "stderr",
     "output_type": "stream",
     "text": [
      "/home/yang1641/.local/lib/python3.8/site-packages/sklearn/metrics/_ranking.py:980: UserWarning: No positive class found in y_true, recall is set to one for all thresholds.\n",
      "  warnings.warn(\n"
     ]
    },
    {
     "name": "stdout",
     "output_type": "stream",
     "text": [
      "Batch 0\n",
      "train loss: 0.1394 [0/27652]\n",
      "Finished with batches...\n",
      "Finished with one full epoch...\n",
      "Finished all batches in validation...\n",
      "Finished with calculating metrics...\n",
      "Epoch 635\n",
      "---------------\n"
     ]
    },
    {
     "name": "stderr",
     "output_type": "stream",
     "text": [
      "/home/yang1641/.local/lib/python3.8/site-packages/sklearn/metrics/_ranking.py:980: UserWarning: No positive class found in y_true, recall is set to one for all thresholds.\n",
      "  warnings.warn(\n"
     ]
    },
    {
     "name": "stdout",
     "output_type": "stream",
     "text": [
      "Batch 0\n",
      "train loss: 0.1402 [0/27652]\n",
      "Finished with batches...\n",
      "Finished with one full epoch...\n",
      "Finished all batches in validation...\n",
      "Finished with calculating metrics...\n",
      "Epoch 636\n",
      "---------------\n"
     ]
    },
    {
     "name": "stderr",
     "output_type": "stream",
     "text": [
      "/home/yang1641/.local/lib/python3.8/site-packages/sklearn/metrics/_ranking.py:980: UserWarning: No positive class found in y_true, recall is set to one for all thresholds.\n",
      "  warnings.warn(\n"
     ]
    },
    {
     "name": "stdout",
     "output_type": "stream",
     "text": [
      "Batch 0\n",
      "train loss: 0.1382 [0/27652]\n",
      "Finished with batches...\n",
      "Finished with one full epoch...\n",
      "Finished all batches in validation...\n",
      "Finished with calculating metrics...\n",
      "Epoch 637\n",
      "---------------\n"
     ]
    },
    {
     "name": "stderr",
     "output_type": "stream",
     "text": [
      "/home/yang1641/.local/lib/python3.8/site-packages/sklearn/metrics/_ranking.py:980: UserWarning: No positive class found in y_true, recall is set to one for all thresholds.\n",
      "  warnings.warn(\n"
     ]
    },
    {
     "name": "stdout",
     "output_type": "stream",
     "text": [
      "Batch 0\n",
      "train loss: 0.1406 [0/27652]\n",
      "Finished with batches...\n",
      "Finished with one full epoch...\n",
      "Finished all batches in validation...\n",
      "Finished with calculating metrics...\n",
      "Epoch 638\n",
      "---------------\n",
      "Batch 0\n",
      "train loss: 0.1398 [0/27652]\n",
      "Finished with batches...\n",
      "Finished with one full epoch...\n",
      "Finished all batches in validation...\n",
      "Finished with calculating metrics...\n",
      "Epoch 639\n",
      "---------------\n"
     ]
    },
    {
     "name": "stderr",
     "output_type": "stream",
     "text": [
      "/home/yang1641/.local/lib/python3.8/site-packages/sklearn/metrics/_ranking.py:980: UserWarning: No positive class found in y_true, recall is set to one for all thresholds.\n",
      "  warnings.warn(\n"
     ]
    },
    {
     "name": "stdout",
     "output_type": "stream",
     "text": [
      "Batch 0\n",
      "train loss: 0.1399 [0/27652]\n",
      "Finished with batches...\n",
      "Finished with one full epoch...\n",
      "Finished all batches in validation...\n",
      "Finished with calculating metrics...\n",
      "Epoch 640\n",
      "---------------\n"
     ]
    },
    {
     "name": "stderr",
     "output_type": "stream",
     "text": [
      "/home/yang1641/.local/lib/python3.8/site-packages/sklearn/metrics/_ranking.py:980: UserWarning: No positive class found in y_true, recall is set to one for all thresholds.\n",
      "  warnings.warn(\n"
     ]
    },
    {
     "name": "stdout",
     "output_type": "stream",
     "text": [
      "Batch 0\n",
      "train loss: 0.1401 [0/27652]\n",
      "Finished with batches...\n",
      "Finished with one full epoch...\n",
      "Finished all batches in validation...\n",
      "Finished with calculating metrics...\n",
      "Epoch 641\n",
      "---------------\n",
      "Batch 0\n",
      "train loss: 0.1404 [0/27652]\n",
      "Finished with batches...\n",
      "Finished with one full epoch...\n",
      "Finished all batches in validation...\n",
      "Finished with calculating metrics...\n",
      "Epoch 642\n",
      "---------------\n",
      "Batch 0\n",
      "train loss: 0.1390 [0/27652]\n",
      "Finished with batches...\n",
      "Finished with one full epoch...\n",
      "Finished all batches in validation...\n",
      "Finished with calculating metrics...\n",
      "Epoch 643\n",
      "---------------\n",
      "Batch 0\n",
      "train loss: 0.1392 [0/27652]\n",
      "Finished with batches...\n",
      "Finished with one full epoch...\n",
      "Finished all batches in validation...\n",
      "Finished with calculating metrics...\n",
      "Epoch 644\n",
      "---------------\n",
      "Batch 0\n",
      "train loss: 0.1394 [0/27652]\n",
      "Finished with batches...\n",
      "Finished with one full epoch...\n",
      "Finished all batches in validation...\n",
      "Finished with calculating metrics...\n",
      "Epoch 645\n",
      "---------------\n",
      "Batch 0\n",
      "train loss: 0.1395 [0/27652]\n",
      "Finished with batches...\n",
      "Finished with one full epoch...\n",
      "Finished all batches in validation...\n",
      "Finished with calculating metrics...\n",
      "Epoch 646\n",
      "---------------\n"
     ]
    },
    {
     "name": "stderr",
     "output_type": "stream",
     "text": [
      "/home/yang1641/.local/lib/python3.8/site-packages/sklearn/metrics/_ranking.py:980: UserWarning: No positive class found in y_true, recall is set to one for all thresholds.\n",
      "  warnings.warn(\n"
     ]
    },
    {
     "name": "stdout",
     "output_type": "stream",
     "text": [
      "Batch 0\n",
      "train loss: 0.1393 [0/27652]\n",
      "Finished with batches...\n",
      "Finished with one full epoch...\n",
      "Finished all batches in validation...\n",
      "Finished with calculating metrics...\n",
      "Epoch 647\n",
      "---------------\n"
     ]
    },
    {
     "name": "stderr",
     "output_type": "stream",
     "text": [
      "/home/yang1641/.local/lib/python3.8/site-packages/sklearn/metrics/_ranking.py:980: UserWarning: No positive class found in y_true, recall is set to one for all thresholds.\n",
      "  warnings.warn(\n"
     ]
    },
    {
     "name": "stdout",
     "output_type": "stream",
     "text": [
      "Batch 0\n",
      "train loss: 0.1396 [0/27652]\n",
      "Finished with batches...\n",
      "Finished with one full epoch...\n",
      "Finished all batches in validation...\n",
      "Finished with calculating metrics...\n",
      "Epoch 648\n",
      "---------------\n",
      "Batch 0\n",
      "train loss: 0.1386 [0/27652]\n",
      "Finished with batches...\n",
      "Finished with one full epoch...\n",
      "Finished all batches in validation...\n",
      "Finished with calculating metrics...\n",
      "Epoch 649\n",
      "---------------\n",
      "Batch 0\n",
      "train loss: 0.1393 [0/27652]\n",
      "Finished with batches...\n",
      "Finished with one full epoch...\n",
      "Finished all batches in validation...\n",
      "Finished with calculating metrics...\n",
      "Epoch 650\n",
      "---------------\n",
      "Batch 0\n",
      "train loss: 0.1395 [0/27652]\n",
      "Finished with batches...\n",
      "Finished with one full epoch...\n",
      "Finished all batches in validation...\n",
      "Finished with calculating metrics...\n",
      "Epoch 651\n",
      "---------------\n",
      "Batch 0\n",
      "train loss: 0.1390 [0/27652]\n",
      "Finished with batches...\n",
      "Finished with one full epoch...\n",
      "Finished all batches in validation...\n",
      "Finished with calculating metrics...\n",
      "Epoch 652\n",
      "---------------\n",
      "Batch 0\n",
      "train loss: 0.1411 [0/27652]\n",
      "Finished with batches...\n",
      "Finished with one full epoch...\n",
      "Finished all batches in validation...\n",
      "Finished with calculating metrics...\n",
      "Epoch 653\n",
      "---------------\n",
      "Batch 0\n",
      "train loss: 0.1403 [0/27652]\n",
      "Finished with batches...\n",
      "Finished with one full epoch...\n",
      "Finished all batches in validation...\n",
      "Finished with calculating metrics...\n",
      "Epoch 654\n",
      "---------------\n"
     ]
    },
    {
     "name": "stderr",
     "output_type": "stream",
     "text": [
      "/home/yang1641/.local/lib/python3.8/site-packages/sklearn/metrics/_ranking.py:980: UserWarning: No positive class found in y_true, recall is set to one for all thresholds.\n",
      "  warnings.warn(\n"
     ]
    },
    {
     "name": "stdout",
     "output_type": "stream",
     "text": [
      "Batch 0\n",
      "train loss: 0.1392 [0/27652]\n",
      "Finished with batches...\n",
      "Finished with one full epoch...\n",
      "Finished all batches in validation...\n",
      "Finished with calculating metrics...\n",
      "Epoch 655\n",
      "---------------\n"
     ]
    },
    {
     "name": "stderr",
     "output_type": "stream",
     "text": [
      "/home/yang1641/.local/lib/python3.8/site-packages/sklearn/metrics/_ranking.py:980: UserWarning: No positive class found in y_true, recall is set to one for all thresholds.\n",
      "  warnings.warn(\n"
     ]
    },
    {
     "name": "stdout",
     "output_type": "stream",
     "text": [
      "Batch 0\n",
      "train loss: 0.1395 [0/27652]\n",
      "Finished with batches...\n",
      "Finished with one full epoch...\n",
      "Finished all batches in validation...\n",
      "Finished with calculating metrics...\n",
      "Epoch 656\n",
      "---------------\n"
     ]
    },
    {
     "name": "stderr",
     "output_type": "stream",
     "text": [
      "/home/yang1641/.local/lib/python3.8/site-packages/sklearn/metrics/_ranking.py:980: UserWarning: No positive class found in y_true, recall is set to one for all thresholds.\n",
      "  warnings.warn(\n"
     ]
    },
    {
     "name": "stdout",
     "output_type": "stream",
     "text": [
      "Batch 0\n",
      "train loss: 0.1406 [0/27652]\n",
      "Finished with batches...\n",
      "Finished with one full epoch...\n",
      "Finished all batches in validation...\n",
      "Finished with calculating metrics...\n",
      "Epoch 657\n",
      "---------------\n"
     ]
    },
    {
     "name": "stderr",
     "output_type": "stream",
     "text": [
      "/home/yang1641/.local/lib/python3.8/site-packages/sklearn/metrics/_ranking.py:980: UserWarning: No positive class found in y_true, recall is set to one for all thresholds.\n",
      "  warnings.warn(\n",
      "/home/yang1641/.local/lib/python3.8/site-packages/sklearn/metrics/_ranking.py:980: UserWarning: No positive class found in y_true, recall is set to one for all thresholds.\n",
      "  warnings.warn(\n"
     ]
    },
    {
     "name": "stdout",
     "output_type": "stream",
     "text": [
      "Batch 0\n",
      "train loss: 0.1384 [0/27652]\n",
      "Finished with batches...\n",
      "Finished with one full epoch...\n",
      "Finished all batches in validation...\n",
      "Finished with calculating metrics...\n",
      "Epoch 658\n",
      "---------------\n"
     ]
    },
    {
     "name": "stderr",
     "output_type": "stream",
     "text": [
      "/home/yang1641/.local/lib/python3.8/site-packages/sklearn/metrics/_ranking.py:980: UserWarning: No positive class found in y_true, recall is set to one for all thresholds.\n",
      "  warnings.warn(\n",
      "/home/yang1641/.local/lib/python3.8/site-packages/sklearn/metrics/_ranking.py:980: UserWarning: No positive class found in y_true, recall is set to one for all thresholds.\n",
      "  warnings.warn(\n"
     ]
    },
    {
     "name": "stdout",
     "output_type": "stream",
     "text": [
      "Batch 0\n",
      "train loss: 0.1400 [0/27652]\n",
      "Finished with batches...\n",
      "Finished with one full epoch...\n",
      "Finished all batches in validation...\n",
      "Finished with calculating metrics...\n",
      "Epoch 659\n",
      "---------------\n",
      "Batch 0\n",
      "train loss: 0.1398 [0/27652]\n",
      "Finished with batches...\n",
      "Finished with one full epoch...\n",
      "Finished all batches in validation...\n",
      "Finished with calculating metrics...\n",
      "Epoch 660\n",
      "---------------\n"
     ]
    },
    {
     "name": "stderr",
     "output_type": "stream",
     "text": [
      "/home/yang1641/.local/lib/python3.8/site-packages/sklearn/metrics/_ranking.py:980: UserWarning: No positive class found in y_true, recall is set to one for all thresholds.\n",
      "  warnings.warn(\n"
     ]
    },
    {
     "name": "stdout",
     "output_type": "stream",
     "text": [
      "Batch 0\n",
      "train loss: 0.1401 [0/27652]\n",
      "Finished with batches...\n",
      "Finished with one full epoch...\n",
      "Finished all batches in validation...\n",
      "Finished with calculating metrics...\n",
      "Epoch 661\n",
      "---------------\n"
     ]
    },
    {
     "name": "stderr",
     "output_type": "stream",
     "text": [
      "/home/yang1641/.local/lib/python3.8/site-packages/sklearn/metrics/_ranking.py:980: UserWarning: No positive class found in y_true, recall is set to one for all thresholds.\n",
      "  warnings.warn(\n"
     ]
    },
    {
     "name": "stdout",
     "output_type": "stream",
     "text": [
      "Batch 0\n",
      "train loss: 0.1393 [0/27652]\n",
      "Finished with batches...\n",
      "Finished with one full epoch...\n",
      "Finished all batches in validation...\n",
      "Finished with calculating metrics...\n",
      "Epoch 662\n",
      "---------------\n"
     ]
    },
    {
     "name": "stderr",
     "output_type": "stream",
     "text": [
      "/home/yang1641/.local/lib/python3.8/site-packages/sklearn/metrics/_ranking.py:980: UserWarning: No positive class found in y_true, recall is set to one for all thresholds.\n",
      "  warnings.warn(\n"
     ]
    },
    {
     "name": "stdout",
     "output_type": "stream",
     "text": [
      "Batch 0\n",
      "train loss: 0.1392 [0/27652]\n",
      "Finished with batches...\n",
      "Finished with one full epoch...\n",
      "Finished all batches in validation...\n",
      "Finished with calculating metrics...\n",
      "Epoch 663\n",
      "---------------\n"
     ]
    },
    {
     "name": "stderr",
     "output_type": "stream",
     "text": [
      "/home/yang1641/.local/lib/python3.8/site-packages/sklearn/metrics/_ranking.py:980: UserWarning: No positive class found in y_true, recall is set to one for all thresholds.\n",
      "  warnings.warn(\n"
     ]
    },
    {
     "name": "stdout",
     "output_type": "stream",
     "text": [
      "Batch 0\n",
      "train loss: 0.1401 [0/27652]\n",
      "Finished with batches...\n",
      "Finished with one full epoch...\n",
      "Finished all batches in validation...\n",
      "Finished with calculating metrics...\n",
      "Epoch 664\n",
      "---------------\n"
     ]
    },
    {
     "name": "stderr",
     "output_type": "stream",
     "text": [
      "/home/yang1641/.local/lib/python3.8/site-packages/sklearn/metrics/_ranking.py:980: UserWarning: No positive class found in y_true, recall is set to one for all thresholds.\n",
      "  warnings.warn(\n",
      "/home/yang1641/.local/lib/python3.8/site-packages/sklearn/metrics/_ranking.py:980: UserWarning: No positive class found in y_true, recall is set to one for all thresholds.\n",
      "  warnings.warn(\n"
     ]
    },
    {
     "name": "stdout",
     "output_type": "stream",
     "text": [
      "Batch 0\n",
      "train loss: 0.1405 [0/27652]\n",
      "Finished with batches...\n",
      "Finished with one full epoch...\n",
      "Finished all batches in validation...\n",
      "Finished with calculating metrics...\n",
      "Epoch 665\n",
      "---------------\n"
     ]
    },
    {
     "name": "stderr",
     "output_type": "stream",
     "text": [
      "/home/yang1641/.local/lib/python3.8/site-packages/sklearn/metrics/_ranking.py:980: UserWarning: No positive class found in y_true, recall is set to one for all thresholds.\n",
      "  warnings.warn(\n"
     ]
    },
    {
     "name": "stdout",
     "output_type": "stream",
     "text": [
      "Batch 0\n",
      "train loss: 0.1393 [0/27652]\n",
      "Finished with batches...\n",
      "Finished with one full epoch...\n",
      "Finished all batches in validation...\n",
      "Finished with calculating metrics...\n",
      "Epoch 666\n",
      "---------------\n"
     ]
    },
    {
     "name": "stderr",
     "output_type": "stream",
     "text": [
      "/home/yang1641/.local/lib/python3.8/site-packages/sklearn/metrics/_ranking.py:980: UserWarning: No positive class found in y_true, recall is set to one for all thresholds.\n",
      "  warnings.warn(\n"
     ]
    },
    {
     "name": "stdout",
     "output_type": "stream",
     "text": [
      "Batch 0\n",
      "train loss: 0.1410 [0/27652]\n",
      "Finished with batches...\n",
      "Finished with one full epoch...\n",
      "Finished all batches in validation...\n",
      "Finished with calculating metrics...\n",
      "Epoch 667\n",
      "---------------\n"
     ]
    },
    {
     "name": "stderr",
     "output_type": "stream",
     "text": [
      "/home/yang1641/.local/lib/python3.8/site-packages/sklearn/metrics/_ranking.py:980: UserWarning: No positive class found in y_true, recall is set to one for all thresholds.\n",
      "  warnings.warn(\n"
     ]
    },
    {
     "name": "stdout",
     "output_type": "stream",
     "text": [
      "Batch 0\n",
      "train loss: 0.1408 [0/27652]\n",
      "Finished with batches...\n",
      "Finished with one full epoch...\n",
      "Finished all batches in validation...\n",
      "Finished with calculating metrics...\n",
      "Epoch 668\n",
      "---------------\n"
     ]
    },
    {
     "name": "stderr",
     "output_type": "stream",
     "text": [
      "/home/yang1641/.local/lib/python3.8/site-packages/sklearn/metrics/_ranking.py:980: UserWarning: No positive class found in y_true, recall is set to one for all thresholds.\n",
      "  warnings.warn(\n"
     ]
    },
    {
     "name": "stdout",
     "output_type": "stream",
     "text": [
      "Batch 0\n",
      "train loss: 0.1408 [0/27652]\n",
      "Finished with batches...\n",
      "Finished with one full epoch...\n",
      "Finished all batches in validation...\n",
      "Finished with calculating metrics...\n",
      "Epoch 669\n",
      "---------------\n"
     ]
    },
    {
     "name": "stderr",
     "output_type": "stream",
     "text": [
      "/home/yang1641/.local/lib/python3.8/site-packages/sklearn/metrics/_ranking.py:980: UserWarning: No positive class found in y_true, recall is set to one for all thresholds.\n",
      "  warnings.warn(\n"
     ]
    },
    {
     "name": "stdout",
     "output_type": "stream",
     "text": [
      "Batch 0\n",
      "train loss: 0.1392 [0/27652]\n",
      "Finished with batches...\n",
      "Finished with one full epoch...\n",
      "Finished all batches in validation...\n",
      "Finished with calculating metrics...\n",
      "Epoch 670\n",
      "---------------\n"
     ]
    },
    {
     "name": "stderr",
     "output_type": "stream",
     "text": [
      "/home/yang1641/.local/lib/python3.8/site-packages/sklearn/metrics/_ranking.py:980: UserWarning: No positive class found in y_true, recall is set to one for all thresholds.\n",
      "  warnings.warn(\n"
     ]
    },
    {
     "name": "stdout",
     "output_type": "stream",
     "text": [
      "Batch 0\n",
      "train loss: 0.1394 [0/27652]\n",
      "Finished with batches...\n",
      "Finished with one full epoch...\n",
      "Finished all batches in validation...\n",
      "Finished with calculating metrics...\n",
      "Epoch 671\n",
      "---------------\n"
     ]
    },
    {
     "name": "stderr",
     "output_type": "stream",
     "text": [
      "/home/yang1641/.local/lib/python3.8/site-packages/sklearn/metrics/_ranking.py:980: UserWarning: No positive class found in y_true, recall is set to one for all thresholds.\n",
      "  warnings.warn(\n"
     ]
    },
    {
     "name": "stdout",
     "output_type": "stream",
     "text": [
      "Batch 0\n",
      "train loss: 0.1408 [0/27652]\n",
      "Finished with batches...\n",
      "Finished with one full epoch...\n",
      "Finished all batches in validation...\n",
      "Finished with calculating metrics...\n",
      "Epoch 672\n",
      "---------------\n"
     ]
    },
    {
     "name": "stderr",
     "output_type": "stream",
     "text": [
      "/home/yang1641/.local/lib/python3.8/site-packages/sklearn/metrics/_ranking.py:980: UserWarning: No positive class found in y_true, recall is set to one for all thresholds.\n",
      "  warnings.warn(\n"
     ]
    },
    {
     "name": "stdout",
     "output_type": "stream",
     "text": [
      "Batch 0\n",
      "train loss: 0.1394 [0/27652]\n",
      "Finished with batches...\n",
      "Finished with one full epoch...\n",
      "Finished all batches in validation...\n",
      "Finished with calculating metrics...\n",
      "Epoch 673\n",
      "---------------\n"
     ]
    },
    {
     "name": "stderr",
     "output_type": "stream",
     "text": [
      "/home/yang1641/.local/lib/python3.8/site-packages/sklearn/metrics/_ranking.py:980: UserWarning: No positive class found in y_true, recall is set to one for all thresholds.\n",
      "  warnings.warn(\n",
      "/home/yang1641/.local/lib/python3.8/site-packages/sklearn/metrics/_ranking.py:980: UserWarning: No positive class found in y_true, recall is set to one for all thresholds.\n",
      "  warnings.warn(\n"
     ]
    },
    {
     "name": "stdout",
     "output_type": "stream",
     "text": [
      "Batch 0\n",
      "train loss: 0.1406 [0/27652]\n",
      "Finished with batches...\n",
      "Finished with one full epoch...\n",
      "Finished all batches in validation...\n",
      "Finished with calculating metrics...\n",
      "Epoch 674\n",
      "---------------\n"
     ]
    },
    {
     "name": "stderr",
     "output_type": "stream",
     "text": [
      "/home/yang1641/.local/lib/python3.8/site-packages/sklearn/metrics/_ranking.py:980: UserWarning: No positive class found in y_true, recall is set to one for all thresholds.\n",
      "  warnings.warn(\n",
      "/home/yang1641/.local/lib/python3.8/site-packages/sklearn/metrics/_ranking.py:980: UserWarning: No positive class found in y_true, recall is set to one for all thresholds.\n",
      "  warnings.warn(\n"
     ]
    },
    {
     "name": "stdout",
     "output_type": "stream",
     "text": [
      "Batch 0\n",
      "train loss: 0.1399 [0/27652]\n",
      "Finished with batches...\n",
      "Finished with one full epoch...\n",
      "Finished all batches in validation...\n",
      "Finished with calculating metrics...\n",
      "Epoch 675\n",
      "---------------\n"
     ]
    },
    {
     "name": "stderr",
     "output_type": "stream",
     "text": [
      "/home/yang1641/.local/lib/python3.8/site-packages/sklearn/metrics/_ranking.py:980: UserWarning: No positive class found in y_true, recall is set to one for all thresholds.\n",
      "  warnings.warn(\n",
      "/home/yang1641/.local/lib/python3.8/site-packages/sklearn/metrics/_ranking.py:980: UserWarning: No positive class found in y_true, recall is set to one for all thresholds.\n",
      "  warnings.warn(\n"
     ]
    },
    {
     "name": "stdout",
     "output_type": "stream",
     "text": [
      "Batch 0\n",
      "train loss: 0.1398 [0/27652]\n",
      "Finished with batches...\n",
      "Finished with one full epoch...\n",
      "Finished all batches in validation...\n",
      "Finished with calculating metrics...\n",
      "Epoch 676\n",
      "---------------\n"
     ]
    },
    {
     "name": "stderr",
     "output_type": "stream",
     "text": [
      "/home/yang1641/.local/lib/python3.8/site-packages/sklearn/metrics/_ranking.py:980: UserWarning: No positive class found in y_true, recall is set to one for all thresholds.\n",
      "  warnings.warn(\n"
     ]
    },
    {
     "name": "stdout",
     "output_type": "stream",
     "text": [
      "Batch 0\n",
      "train loss: 0.1408 [0/27652]\n",
      "Finished with batches...\n",
      "Finished with one full epoch...\n",
      "Finished all batches in validation...\n",
      "Finished with calculating metrics...\n",
      "Epoch 677\n",
      "---------------\n"
     ]
    },
    {
     "name": "stderr",
     "output_type": "stream",
     "text": [
      "/home/yang1641/.local/lib/python3.8/site-packages/sklearn/metrics/_ranking.py:980: UserWarning: No positive class found in y_true, recall is set to one for all thresholds.\n",
      "  warnings.warn(\n"
     ]
    },
    {
     "name": "stdout",
     "output_type": "stream",
     "text": [
      "Batch 0\n",
      "train loss: 0.1407 [0/27652]\n",
      "Finished with batches...\n",
      "Finished with one full epoch...\n",
      "Finished all batches in validation...\n",
      "Finished with calculating metrics...\n",
      "Epoch 678\n",
      "---------------\n"
     ]
    },
    {
     "name": "stderr",
     "output_type": "stream",
     "text": [
      "/home/yang1641/.local/lib/python3.8/site-packages/sklearn/metrics/_ranking.py:980: UserWarning: No positive class found in y_true, recall is set to one for all thresholds.\n",
      "  warnings.warn(\n"
     ]
    },
    {
     "name": "stdout",
     "output_type": "stream",
     "text": [
      "Batch 0\n",
      "train loss: 0.1397 [0/27652]\n",
      "Finished with batches...\n",
      "Finished with one full epoch...\n",
      "Finished all batches in validation...\n",
      "Finished with calculating metrics...\n",
      "Epoch 679\n",
      "---------------\n"
     ]
    },
    {
     "name": "stderr",
     "output_type": "stream",
     "text": [
      "/home/yang1641/.local/lib/python3.8/site-packages/sklearn/metrics/_ranking.py:980: UserWarning: No positive class found in y_true, recall is set to one for all thresholds.\n",
      "  warnings.warn(\n"
     ]
    },
    {
     "name": "stdout",
     "output_type": "stream",
     "text": [
      "Batch 0\n",
      "train loss: 0.1398 [0/27652]\n",
      "Finished with batches...\n",
      "Finished with one full epoch...\n",
      "Finished all batches in validation...\n",
      "Finished with calculating metrics...\n",
      "Epoch 680\n",
      "---------------\n"
     ]
    },
    {
     "name": "stderr",
     "output_type": "stream",
     "text": [
      "/home/yang1641/.local/lib/python3.8/site-packages/sklearn/metrics/_ranking.py:980: UserWarning: No positive class found in y_true, recall is set to one for all thresholds.\n",
      "  warnings.warn(\n"
     ]
    },
    {
     "name": "stdout",
     "output_type": "stream",
     "text": [
      "Batch 0\n",
      "train loss: 0.1403 [0/27652]\n",
      "Finished with batches...\n",
      "Finished with one full epoch...\n",
      "Finished all batches in validation...\n",
      "Finished with calculating metrics...\n",
      "Epoch 681\n",
      "---------------\n"
     ]
    },
    {
     "name": "stderr",
     "output_type": "stream",
     "text": [
      "/home/yang1641/.local/lib/python3.8/site-packages/sklearn/metrics/_ranking.py:980: UserWarning: No positive class found in y_true, recall is set to one for all thresholds.\n",
      "  warnings.warn(\n"
     ]
    },
    {
     "name": "stdout",
     "output_type": "stream",
     "text": [
      "Batch 0\n",
      "train loss: 0.1403 [0/27652]\n",
      "Finished with batches...\n",
      "Finished with one full epoch...\n",
      "Finished all batches in validation...\n",
      "Finished with calculating metrics...\n",
      "Epoch 682\n",
      "---------------\n"
     ]
    },
    {
     "name": "stderr",
     "output_type": "stream",
     "text": [
      "/home/yang1641/.local/lib/python3.8/site-packages/sklearn/metrics/_ranking.py:980: UserWarning: No positive class found in y_true, recall is set to one for all thresholds.\n",
      "  warnings.warn(\n"
     ]
    },
    {
     "name": "stdout",
     "output_type": "stream",
     "text": [
      "Batch 0\n",
      "train loss: 0.1411 [0/27652]\n",
      "Finished with batches...\n",
      "Finished with one full epoch...\n",
      "Finished all batches in validation...\n",
      "Finished with calculating metrics...\n",
      "Epoch 683\n",
      "---------------\n"
     ]
    },
    {
     "name": "stderr",
     "output_type": "stream",
     "text": [
      "/home/yang1641/.local/lib/python3.8/site-packages/sklearn/metrics/_ranking.py:980: UserWarning: No positive class found in y_true, recall is set to one for all thresholds.\n",
      "  warnings.warn(\n",
      "/home/yang1641/.local/lib/python3.8/site-packages/sklearn/metrics/_ranking.py:980: UserWarning: No positive class found in y_true, recall is set to one for all thresholds.\n",
      "  warnings.warn(\n"
     ]
    },
    {
     "name": "stdout",
     "output_type": "stream",
     "text": [
      "Batch 0\n",
      "train loss: 0.1403 [0/27652]\n",
      "Finished with batches...\n",
      "Finished with one full epoch...\n",
      "Finished all batches in validation...\n",
      "Finished with calculating metrics...\n",
      "Epoch 684\n",
      "---------------\n"
     ]
    },
    {
     "name": "stderr",
     "output_type": "stream",
     "text": [
      "/home/yang1641/.local/lib/python3.8/site-packages/sklearn/metrics/_ranking.py:980: UserWarning: No positive class found in y_true, recall is set to one for all thresholds.\n",
      "  warnings.warn(\n"
     ]
    },
    {
     "name": "stdout",
     "output_type": "stream",
     "text": [
      "Batch 0\n",
      "train loss: 0.1401 [0/27652]\n",
      "Finished with batches...\n",
      "Finished with one full epoch...\n",
      "Finished all batches in validation...\n",
      "Finished with calculating metrics...\n",
      "Epoch 685\n",
      "---------------\n"
     ]
    },
    {
     "name": "stderr",
     "output_type": "stream",
     "text": [
      "/home/yang1641/.local/lib/python3.8/site-packages/sklearn/metrics/_ranking.py:980: UserWarning: No positive class found in y_true, recall is set to one for all thresholds.\n",
      "  warnings.warn(\n"
     ]
    },
    {
     "name": "stdout",
     "output_type": "stream",
     "text": [
      "Batch 0\n",
      "train loss: 0.1389 [0/27652]\n",
      "Finished with batches...\n",
      "Finished with one full epoch...\n",
      "Finished all batches in validation...\n",
      "Finished with calculating metrics...\n",
      "Epoch 686\n",
      "---------------\n"
     ]
    },
    {
     "name": "stderr",
     "output_type": "stream",
     "text": [
      "/home/yang1641/.local/lib/python3.8/site-packages/sklearn/metrics/_ranking.py:980: UserWarning: No positive class found in y_true, recall is set to one for all thresholds.\n",
      "  warnings.warn(\n"
     ]
    },
    {
     "name": "stdout",
     "output_type": "stream",
     "text": [
      "Batch 0\n",
      "train loss: 0.1407 [0/27652]\n",
      "Finished with batches...\n",
      "Finished with one full epoch...\n",
      "Finished all batches in validation...\n",
      "Finished with calculating metrics...\n",
      "Epoch 687\n",
      "---------------\n"
     ]
    },
    {
     "name": "stderr",
     "output_type": "stream",
     "text": [
      "/home/yang1641/.local/lib/python3.8/site-packages/sklearn/metrics/_ranking.py:980: UserWarning: No positive class found in y_true, recall is set to one for all thresholds.\n",
      "  warnings.warn(\n"
     ]
    },
    {
     "name": "stdout",
     "output_type": "stream",
     "text": [
      "Batch 0\n",
      "train loss: 0.1404 [0/27652]\n",
      "Finished with batches...\n",
      "Finished with one full epoch...\n",
      "Finished all batches in validation...\n",
      "Finished with calculating metrics...\n",
      "Epoch 688\n",
      "---------------\n"
     ]
    },
    {
     "name": "stderr",
     "output_type": "stream",
     "text": [
      "/home/yang1641/.local/lib/python3.8/site-packages/sklearn/metrics/_ranking.py:980: UserWarning: No positive class found in y_true, recall is set to one for all thresholds.\n",
      "  warnings.warn(\n"
     ]
    },
    {
     "name": "stdout",
     "output_type": "stream",
     "text": [
      "Batch 0\n",
      "train loss: 0.1401 [0/27652]\n",
      "Finished with batches...\n",
      "Finished with one full epoch...\n",
      "Finished all batches in validation...\n",
      "Finished with calculating metrics...\n",
      "Epoch 689\n",
      "---------------\n"
     ]
    },
    {
     "name": "stderr",
     "output_type": "stream",
     "text": [
      "/home/yang1641/.local/lib/python3.8/site-packages/sklearn/metrics/_ranking.py:980: UserWarning: No positive class found in y_true, recall is set to one for all thresholds.\n",
      "  warnings.warn(\n"
     ]
    },
    {
     "name": "stdout",
     "output_type": "stream",
     "text": [
      "Batch 0\n",
      "train loss: 0.1399 [0/27652]\n",
      "Finished with batches...\n",
      "Finished with one full epoch...\n",
      "Finished all batches in validation...\n",
      "Finished with calculating metrics...\n",
      "Epoch 690\n",
      "---------------\n"
     ]
    },
    {
     "name": "stderr",
     "output_type": "stream",
     "text": [
      "/home/yang1641/.local/lib/python3.8/site-packages/sklearn/metrics/_ranking.py:980: UserWarning: No positive class found in y_true, recall is set to one for all thresholds.\n",
      "  warnings.warn(\n"
     ]
    },
    {
     "name": "stdout",
     "output_type": "stream",
     "text": [
      "Batch 0\n",
      "train loss: 0.1397 [0/27652]\n",
      "Finished with batches...\n",
      "Finished with one full epoch...\n",
      "Finished all batches in validation...\n",
      "Finished with calculating metrics...\n",
      "Epoch 691\n",
      "---------------\n"
     ]
    },
    {
     "name": "stderr",
     "output_type": "stream",
     "text": [
      "/home/yang1641/.local/lib/python3.8/site-packages/sklearn/metrics/_ranking.py:980: UserWarning: No positive class found in y_true, recall is set to one for all thresholds.\n",
      "  warnings.warn(\n"
     ]
    },
    {
     "name": "stdout",
     "output_type": "stream",
     "text": [
      "Batch 0\n",
      "train loss: 0.1399 [0/27652]\n",
      "Finished with batches...\n",
      "Finished with one full epoch...\n",
      "Finished all batches in validation...\n",
      "Finished with calculating metrics...\n",
      "Epoch 692\n",
      "---------------\n"
     ]
    },
    {
     "name": "stderr",
     "output_type": "stream",
     "text": [
      "/home/yang1641/.local/lib/python3.8/site-packages/sklearn/metrics/_ranking.py:980: UserWarning: No positive class found in y_true, recall is set to one for all thresholds.\n",
      "  warnings.warn(\n"
     ]
    },
    {
     "name": "stdout",
     "output_type": "stream",
     "text": [
      "Batch 0\n",
      "train loss: 0.1400 [0/27652]\n",
      "Finished with batches...\n",
      "Finished with one full epoch...\n",
      "Finished all batches in validation...\n",
      "Finished with calculating metrics...\n",
      "Epoch 693\n",
      "---------------\n"
     ]
    },
    {
     "name": "stderr",
     "output_type": "stream",
     "text": [
      "/home/yang1641/.local/lib/python3.8/site-packages/sklearn/metrics/_ranking.py:980: UserWarning: No positive class found in y_true, recall is set to one for all thresholds.\n",
      "  warnings.warn(\n"
     ]
    },
    {
     "name": "stdout",
     "output_type": "stream",
     "text": [
      "Batch 0\n",
      "train loss: 0.1395 [0/27652]\n",
      "Finished with batches...\n",
      "Finished with one full epoch...\n",
      "Finished all batches in validation...\n",
      "Finished with calculating metrics...\n",
      "Epoch 694\n",
      "---------------\n"
     ]
    },
    {
     "name": "stderr",
     "output_type": "stream",
     "text": [
      "/home/yang1641/.local/lib/python3.8/site-packages/sklearn/metrics/_ranking.py:980: UserWarning: No positive class found in y_true, recall is set to one for all thresholds.\n",
      "  warnings.warn(\n"
     ]
    },
    {
     "name": "stdout",
     "output_type": "stream",
     "text": [
      "Batch 0\n",
      "train loss: 0.1388 [0/27652]\n",
      "Finished with batches...\n",
      "Finished with one full epoch...\n",
      "Finished all batches in validation...\n",
      "Finished with calculating metrics...\n",
      "Epoch 695\n",
      "---------------\n"
     ]
    },
    {
     "name": "stderr",
     "output_type": "stream",
     "text": [
      "/home/yang1641/.local/lib/python3.8/site-packages/sklearn/metrics/_ranking.py:980: UserWarning: No positive class found in y_true, recall is set to one for all thresholds.\n",
      "  warnings.warn(\n"
     ]
    },
    {
     "name": "stdout",
     "output_type": "stream",
     "text": [
      "Batch 0\n",
      "train loss: 0.1383 [0/27652]\n",
      "Finished with batches...\n",
      "Finished with one full epoch...\n",
      "Finished all batches in validation...\n",
      "Finished with calculating metrics...\n",
      "Epoch 696\n",
      "---------------\n"
     ]
    },
    {
     "name": "stderr",
     "output_type": "stream",
     "text": [
      "/home/yang1641/.local/lib/python3.8/site-packages/sklearn/metrics/_ranking.py:980: UserWarning: No positive class found in y_true, recall is set to one for all thresholds.\n",
      "  warnings.warn(\n"
     ]
    },
    {
     "name": "stdout",
     "output_type": "stream",
     "text": [
      "Batch 0\n",
      "train loss: 0.1403 [0/27652]\n",
      "Finished with batches...\n",
      "Finished with one full epoch...\n",
      "Finished all batches in validation...\n",
      "Finished with calculating metrics...\n",
      "Epoch 697\n",
      "---------------\n",
      "Batch 0\n",
      "train loss: 0.1407 [0/27652]\n",
      "Finished with batches...\n",
      "Finished with one full epoch...\n",
      "Finished all batches in validation...\n",
      "Finished with calculating metrics...\n",
      "Epoch 698\n",
      "---------------\n",
      "Batch 0\n",
      "train loss: 0.1403 [0/27652]\n",
      "Finished with batches...\n",
      "Finished with one full epoch...\n",
      "Finished all batches in validation...\n",
      "Finished with calculating metrics...\n",
      "Epoch 699\n",
      "---------------\n",
      "Batch 0\n",
      "train loss: 0.1392 [0/27652]\n",
      "Finished with batches...\n",
      "Finished with one full epoch...\n",
      "Finished all batches in validation...\n",
      "Finished with calculating metrics...\n",
      "Epoch 700\n",
      "---------------\n",
      "Batch 0\n",
      "train loss: 0.1408 [0/27652]\n",
      "Finished with batches...\n",
      "Finished with one full epoch...\n",
      "Finished all batches in validation...\n",
      "Finished with calculating metrics...\n",
      "Epoch 701\n",
      "---------------\n",
      "Batch 0\n",
      "train loss: 0.1395 [0/27652]\n",
      "Finished with batches...\n",
      "Finished with one full epoch...\n",
      "Finished all batches in validation...\n",
      "Finished with calculating metrics...\n",
      "Epoch 702\n",
      "---------------\n"
     ]
    },
    {
     "name": "stderr",
     "output_type": "stream",
     "text": [
      "/home/yang1641/.local/lib/python3.8/site-packages/sklearn/metrics/_ranking.py:980: UserWarning: No positive class found in y_true, recall is set to one for all thresholds.\n",
      "  warnings.warn(\n"
     ]
    },
    {
     "name": "stdout",
     "output_type": "stream",
     "text": [
      "Batch 0\n",
      "train loss: 0.1394 [0/27652]\n",
      "Finished with batches...\n",
      "Finished with one full epoch...\n",
      "Finished all batches in validation...\n",
      "Finished with calculating metrics...\n",
      "Epoch 703\n",
      "---------------\n"
     ]
    },
    {
     "name": "stderr",
     "output_type": "stream",
     "text": [
      "/home/yang1641/.local/lib/python3.8/site-packages/sklearn/metrics/_ranking.py:980: UserWarning: No positive class found in y_true, recall is set to one for all thresholds.\n",
      "  warnings.warn(\n",
      "/home/yang1641/.local/lib/python3.8/site-packages/sklearn/metrics/_ranking.py:980: UserWarning: No positive class found in y_true, recall is set to one for all thresholds.\n",
      "  warnings.warn(\n"
     ]
    },
    {
     "name": "stdout",
     "output_type": "stream",
     "text": [
      "Batch 0\n",
      "train loss: 0.1396 [0/27652]\n",
      "Finished with batches...\n",
      "Finished with one full epoch...\n",
      "Finished all batches in validation...\n",
      "Finished with calculating metrics...\n",
      "Epoch 704\n",
      "---------------\n"
     ]
    },
    {
     "name": "stderr",
     "output_type": "stream",
     "text": [
      "/home/yang1641/.local/lib/python3.8/site-packages/sklearn/metrics/_ranking.py:980: UserWarning: No positive class found in y_true, recall is set to one for all thresholds.\n",
      "  warnings.warn(\n"
     ]
    },
    {
     "name": "stdout",
     "output_type": "stream",
     "text": [
      "Batch 0\n",
      "train loss: 0.1392 [0/27652]\n",
      "Finished with batches...\n",
      "Finished with one full epoch...\n",
      "Finished all batches in validation...\n",
      "Finished with calculating metrics...\n",
      "Epoch 705\n",
      "---------------\n",
      "Batch 0\n",
      "train loss: 0.1394 [0/27652]\n",
      "Finished with batches...\n",
      "Finished with one full epoch...\n",
      "Finished all batches in validation...\n",
      "Finished with calculating metrics...\n",
      "Epoch 706\n",
      "---------------\n",
      "Batch 0\n",
      "train loss: 0.1406 [0/27652]\n",
      "Finished with batches...\n",
      "Finished with one full epoch...\n",
      "Finished all batches in validation...\n",
      "Finished with calculating metrics...\n",
      "Epoch 707\n",
      "---------------\n",
      "Batch 0\n",
      "train loss: 0.1413 [0/27652]\n",
      "Finished with batches...\n",
      "Finished with one full epoch...\n",
      "Finished all batches in validation...\n",
      "Finished with calculating metrics...\n",
      "Epoch 708\n",
      "---------------\n"
     ]
    },
    {
     "name": "stderr",
     "output_type": "stream",
     "text": [
      "/home/yang1641/.local/lib/python3.8/site-packages/sklearn/metrics/_ranking.py:980: UserWarning: No positive class found in y_true, recall is set to one for all thresholds.\n",
      "  warnings.warn(\n"
     ]
    },
    {
     "name": "stdout",
     "output_type": "stream",
     "text": [
      "Batch 0\n",
      "train loss: 0.1386 [0/27652]\n",
      "Finished with batches...\n",
      "Finished with one full epoch...\n",
      "Finished all batches in validation...\n",
      "Finished with calculating metrics...\n",
      "Epoch 709\n",
      "---------------\n",
      "Batch 0\n",
      "train loss: 0.1392 [0/27652]\n",
      "Finished with batches...\n",
      "Finished with one full epoch...\n",
      "Finished all batches in validation...\n",
      "Finished with calculating metrics...\n",
      "Epoch 710\n",
      "---------------\n"
     ]
    },
    {
     "name": "stderr",
     "output_type": "stream",
     "text": [
      "/home/yang1641/.local/lib/python3.8/site-packages/sklearn/metrics/_ranking.py:980: UserWarning: No positive class found in y_true, recall is set to one for all thresholds.\n",
      "  warnings.warn(\n"
     ]
    },
    {
     "name": "stdout",
     "output_type": "stream",
     "text": [
      "Batch 0\n",
      "train loss: 0.1392 [0/27652]\n",
      "Finished with batches...\n",
      "Finished with one full epoch...\n",
      "Finished all batches in validation...\n",
      "Finished with calculating metrics...\n",
      "Epoch 711\n",
      "---------------\n",
      "Batch 0\n",
      "train loss: 0.1383 [0/27652]\n",
      "Finished with batches...\n",
      "Finished with one full epoch...\n",
      "Finished all batches in validation...\n",
      "Finished with calculating metrics...\n",
      "Epoch 712\n",
      "---------------\n",
      "Batch 0\n",
      "train loss: 0.1393 [0/27652]\n",
      "Finished with batches...\n",
      "Finished with one full epoch...\n",
      "Finished all batches in validation...\n",
      "Finished with calculating metrics...\n",
      "Epoch 713\n",
      "---------------\n",
      "Batch 0\n",
      "train loss: 0.1398 [0/27652]\n",
      "Finished with batches...\n",
      "Finished with one full epoch...\n",
      "Finished all batches in validation...\n",
      "Finished with calculating metrics...\n",
      "Epoch 714\n",
      "---------------\n",
      "Batch 0\n",
      "train loss: 0.1393 [0/27652]\n",
      "Finished with batches...\n",
      "Finished with one full epoch...\n",
      "Finished all batches in validation...\n",
      "Finished with calculating metrics...\n",
      "Epoch 715\n",
      "---------------\n",
      "Batch 0\n",
      "train loss: 0.1400 [0/27652]\n",
      "Finished with batches...\n",
      "Finished with one full epoch...\n",
      "Finished all batches in validation...\n",
      "Finished with calculating metrics...\n",
      "Epoch 716\n",
      "---------------\n",
      "Batch 0\n",
      "train loss: 0.1390 [0/27652]\n",
      "Finished with batches...\n",
      "Finished with one full epoch...\n",
      "Finished all batches in validation...\n",
      "Finished with calculating metrics...\n",
      "Epoch 717\n",
      "---------------\n",
      "Batch 0\n",
      "train loss: 0.1391 [0/27652]\n",
      "Finished with batches...\n",
      "Finished with one full epoch...\n",
      "Finished all batches in validation...\n",
      "Finished with calculating metrics...\n",
      "Epoch 718\n",
      "---------------\n",
      "Batch 0\n",
      "train loss: 0.1399 [0/27652]\n",
      "Finished with batches...\n",
      "Finished with one full epoch...\n",
      "Finished all batches in validation...\n",
      "Finished with calculating metrics...\n",
      "Epoch 719\n",
      "---------------\n"
     ]
    },
    {
     "name": "stderr",
     "output_type": "stream",
     "text": [
      "/home/yang1641/.local/lib/python3.8/site-packages/sklearn/metrics/_ranking.py:980: UserWarning: No positive class found in y_true, recall is set to one for all thresholds.\n",
      "  warnings.warn(\n"
     ]
    },
    {
     "name": "stdout",
     "output_type": "stream",
     "text": [
      "Batch 0\n",
      "train loss: 0.1396 [0/27652]\n",
      "Finished with batches...\n",
      "Finished with one full epoch...\n",
      "Finished all batches in validation...\n",
      "Finished with calculating metrics...\n",
      "Epoch 720\n",
      "---------------\n"
     ]
    },
    {
     "name": "stderr",
     "output_type": "stream",
     "text": [
      "/home/yang1641/.local/lib/python3.8/site-packages/sklearn/metrics/_ranking.py:980: UserWarning: No positive class found in y_true, recall is set to one for all thresholds.\n",
      "  warnings.warn(\n"
     ]
    },
    {
     "name": "stdout",
     "output_type": "stream",
     "text": [
      "Batch 0\n",
      "train loss: 0.1395 [0/27652]\n",
      "Finished with batches...\n",
      "Finished with one full epoch...\n",
      "Finished all batches in validation...\n",
      "Finished with calculating metrics...\n",
      "Epoch 721\n",
      "---------------\n"
     ]
    },
    {
     "name": "stderr",
     "output_type": "stream",
     "text": [
      "/home/yang1641/.local/lib/python3.8/site-packages/sklearn/metrics/_ranking.py:980: UserWarning: No positive class found in y_true, recall is set to one for all thresholds.\n",
      "  warnings.warn(\n",
      "/home/yang1641/.local/lib/python3.8/site-packages/sklearn/metrics/_ranking.py:980: UserWarning: No positive class found in y_true, recall is set to one for all thresholds.\n",
      "  warnings.warn(\n"
     ]
    },
    {
     "name": "stdout",
     "output_type": "stream",
     "text": [
      "Batch 0\n",
      "train loss: 0.1400 [0/27652]\n",
      "Finished with batches...\n",
      "Finished with one full epoch...\n",
      "Finished all batches in validation...\n",
      "Finished with calculating metrics...\n",
      "Epoch 722\n",
      "---------------\n"
     ]
    },
    {
     "name": "stderr",
     "output_type": "stream",
     "text": [
      "/home/yang1641/.local/lib/python3.8/site-packages/sklearn/metrics/_ranking.py:980: UserWarning: No positive class found in y_true, recall is set to one for all thresholds.\n",
      "  warnings.warn(\n",
      "/home/yang1641/.local/lib/python3.8/site-packages/sklearn/metrics/_ranking.py:980: UserWarning: No positive class found in y_true, recall is set to one for all thresholds.\n",
      "  warnings.warn(\n"
     ]
    },
    {
     "name": "stdout",
     "output_type": "stream",
     "text": [
      "Batch 0\n",
      "train loss: 0.1407 [0/27652]\n",
      "Finished with batches...\n",
      "Finished with one full epoch...\n",
      "Finished all batches in validation...\n",
      "Finished with calculating metrics...\n",
      "Epoch 723\n",
      "---------------\n"
     ]
    },
    {
     "name": "stderr",
     "output_type": "stream",
     "text": [
      "/home/yang1641/.local/lib/python3.8/site-packages/sklearn/metrics/_ranking.py:980: UserWarning: No positive class found in y_true, recall is set to one for all thresholds.\n",
      "  warnings.warn(\n",
      "/home/yang1641/.local/lib/python3.8/site-packages/sklearn/metrics/_ranking.py:980: UserWarning: No positive class found in y_true, recall is set to one for all thresholds.\n",
      "  warnings.warn(\n"
     ]
    },
    {
     "name": "stdout",
     "output_type": "stream",
     "text": [
      "Batch 0\n",
      "train loss: 0.1390 [0/27652]\n",
      "Finished with batches...\n",
      "Finished with one full epoch...\n",
      "Finished all batches in validation...\n",
      "Finished with calculating metrics...\n",
      "Epoch 724\n",
      "---------------\n"
     ]
    },
    {
     "name": "stderr",
     "output_type": "stream",
     "text": [
      "/home/yang1641/.local/lib/python3.8/site-packages/sklearn/metrics/_ranking.py:980: UserWarning: No positive class found in y_true, recall is set to one for all thresholds.\n",
      "  warnings.warn(\n"
     ]
    },
    {
     "name": "stdout",
     "output_type": "stream",
     "text": [
      "Batch 0\n",
      "train loss: 0.1406 [0/27652]\n",
      "Finished with batches...\n",
      "Finished with one full epoch...\n",
      "Finished all batches in validation...\n",
      "Finished with calculating metrics...\n",
      "Epoch 725\n",
      "---------------\n"
     ]
    },
    {
     "name": "stderr",
     "output_type": "stream",
     "text": [
      "/home/yang1641/.local/lib/python3.8/site-packages/sklearn/metrics/_ranking.py:980: UserWarning: No positive class found in y_true, recall is set to one for all thresholds.\n",
      "  warnings.warn(\n"
     ]
    },
    {
     "name": "stdout",
     "output_type": "stream",
     "text": [
      "Batch 0\n",
      "train loss: 0.1412 [0/27652]\n",
      "Finished with batches...\n",
      "Finished with one full epoch...\n",
      "Finished all batches in validation...\n",
      "Finished with calculating metrics...\n",
      "Epoch 726\n",
      "---------------\n"
     ]
    },
    {
     "name": "stderr",
     "output_type": "stream",
     "text": [
      "/home/yang1641/.local/lib/python3.8/site-packages/sklearn/metrics/_ranking.py:980: UserWarning: No positive class found in y_true, recall is set to one for all thresholds.\n",
      "  warnings.warn(\n"
     ]
    },
    {
     "name": "stdout",
     "output_type": "stream",
     "text": [
      "Batch 0\n",
      "train loss: 0.1404 [0/27652]\n",
      "Finished with batches...\n",
      "Finished with one full epoch...\n",
      "Finished all batches in validation...\n",
      "Finished with calculating metrics...\n",
      "Epoch 727\n",
      "---------------\n"
     ]
    },
    {
     "name": "stderr",
     "output_type": "stream",
     "text": [
      "/home/yang1641/.local/lib/python3.8/site-packages/sklearn/metrics/_ranking.py:980: UserWarning: No positive class found in y_true, recall is set to one for all thresholds.\n",
      "  warnings.warn(\n"
     ]
    },
    {
     "name": "stdout",
     "output_type": "stream",
     "text": [
      "Batch 0\n",
      "train loss: 0.1407 [0/27652]\n",
      "Finished with batches...\n",
      "Finished with one full epoch...\n",
      "Finished all batches in validation...\n",
      "Finished with calculating metrics...\n",
      "Epoch 728\n",
      "---------------\n"
     ]
    },
    {
     "name": "stderr",
     "output_type": "stream",
     "text": [
      "/home/yang1641/.local/lib/python3.8/site-packages/sklearn/metrics/_ranking.py:980: UserWarning: No positive class found in y_true, recall is set to one for all thresholds.\n",
      "  warnings.warn(\n",
      "/home/yang1641/.local/lib/python3.8/site-packages/sklearn/metrics/_ranking.py:980: UserWarning: No positive class found in y_true, recall is set to one for all thresholds.\n",
      "  warnings.warn(\n"
     ]
    },
    {
     "name": "stdout",
     "output_type": "stream",
     "text": [
      "Batch 0\n",
      "train loss: 0.1397 [0/27652]\n",
      "Finished with batches...\n",
      "Finished with one full epoch...\n",
      "Finished all batches in validation...\n",
      "Finished with calculating metrics...\n",
      "Epoch 729\n",
      "---------------\n"
     ]
    },
    {
     "name": "stderr",
     "output_type": "stream",
     "text": [
      "/home/yang1641/.local/lib/python3.8/site-packages/sklearn/metrics/_ranking.py:980: UserWarning: No positive class found in y_true, recall is set to one for all thresholds.\n",
      "  warnings.warn(\n",
      "/home/yang1641/.local/lib/python3.8/site-packages/sklearn/metrics/_ranking.py:980: UserWarning: No positive class found in y_true, recall is set to one for all thresholds.\n",
      "  warnings.warn(\n"
     ]
    },
    {
     "name": "stdout",
     "output_type": "stream",
     "text": [
      "Batch 0\n",
      "train loss: 0.1412 [0/27652]\n",
      "Finished with batches...\n",
      "Finished with one full epoch...\n",
      "Finished all batches in validation...\n",
      "Finished with calculating metrics...\n",
      "Epoch 730\n",
      "---------------\n"
     ]
    },
    {
     "name": "stderr",
     "output_type": "stream",
     "text": [
      "/home/yang1641/.local/lib/python3.8/site-packages/sklearn/metrics/_ranking.py:980: UserWarning: No positive class found in y_true, recall is set to one for all thresholds.\n",
      "  warnings.warn(\n",
      "/home/yang1641/.local/lib/python3.8/site-packages/sklearn/metrics/_ranking.py:980: UserWarning: No positive class found in y_true, recall is set to one for all thresholds.\n",
      "  warnings.warn(\n"
     ]
    },
    {
     "name": "stdout",
     "output_type": "stream",
     "text": [
      "Batch 0\n",
      "train loss: 0.1396 [0/27652]\n",
      "Finished with batches...\n",
      "Finished with one full epoch...\n",
      "Finished all batches in validation...\n",
      "Finished with calculating metrics...\n",
      "Epoch 731\n",
      "---------------\n"
     ]
    },
    {
     "name": "stderr",
     "output_type": "stream",
     "text": [
      "/home/yang1641/.local/lib/python3.8/site-packages/sklearn/metrics/_ranking.py:980: UserWarning: No positive class found in y_true, recall is set to one for all thresholds.\n",
      "  warnings.warn(\n"
     ]
    },
    {
     "name": "stdout",
     "output_type": "stream",
     "text": [
      "Batch 0\n",
      "train loss: 0.1397 [0/27652]\n",
      "Finished with batches...\n",
      "Finished with one full epoch...\n",
      "Finished all batches in validation...\n",
      "Finished with calculating metrics...\n",
      "Epoch 732\n",
      "---------------\n"
     ]
    },
    {
     "name": "stderr",
     "output_type": "stream",
     "text": [
      "/home/yang1641/.local/lib/python3.8/site-packages/sklearn/metrics/_ranking.py:980: UserWarning: No positive class found in y_true, recall is set to one for all thresholds.\n",
      "  warnings.warn(\n"
     ]
    },
    {
     "name": "stdout",
     "output_type": "stream",
     "text": [
      "Batch 0\n",
      "train loss: 0.1403 [0/27652]\n",
      "Finished with batches...\n",
      "Finished with one full epoch...\n",
      "Finished all batches in validation...\n",
      "Finished with calculating metrics...\n",
      "Epoch 733\n",
      "---------------\n"
     ]
    },
    {
     "name": "stderr",
     "output_type": "stream",
     "text": [
      "/home/yang1641/.local/lib/python3.8/site-packages/sklearn/metrics/_ranking.py:980: UserWarning: No positive class found in y_true, recall is set to one for all thresholds.\n",
      "  warnings.warn(\n"
     ]
    },
    {
     "name": "stdout",
     "output_type": "stream",
     "text": [
      "Batch 0\n",
      "train loss: 0.1398 [0/27652]\n",
      "Finished with batches...\n",
      "Finished with one full epoch...\n",
      "Finished all batches in validation...\n",
      "Finished with calculating metrics...\n",
      "Epoch 734\n",
      "---------------\n"
     ]
    },
    {
     "name": "stderr",
     "output_type": "stream",
     "text": [
      "/home/yang1641/.local/lib/python3.8/site-packages/sklearn/metrics/_ranking.py:980: UserWarning: No positive class found in y_true, recall is set to one for all thresholds.\n",
      "  warnings.warn(\n"
     ]
    },
    {
     "name": "stdout",
     "output_type": "stream",
     "text": [
      "Batch 0\n",
      "train loss: 0.1402 [0/27652]\n",
      "Finished with batches...\n",
      "Finished with one full epoch...\n",
      "Finished all batches in validation...\n",
      "Finished with calculating metrics...\n",
      "Epoch 735\n",
      "---------------\n"
     ]
    },
    {
     "name": "stderr",
     "output_type": "stream",
     "text": [
      "/home/yang1641/.local/lib/python3.8/site-packages/sklearn/metrics/_ranking.py:980: UserWarning: No positive class found in y_true, recall is set to one for all thresholds.\n",
      "  warnings.warn(\n",
      "/home/yang1641/.local/lib/python3.8/site-packages/sklearn/metrics/_ranking.py:980: UserWarning: No positive class found in y_true, recall is set to one for all thresholds.\n",
      "  warnings.warn(\n"
     ]
    },
    {
     "name": "stdout",
     "output_type": "stream",
     "text": [
      "Batch 0\n",
      "train loss: 0.1408 [0/27652]\n",
      "Finished with batches...\n",
      "Finished with one full epoch...\n",
      "Finished all batches in validation...\n",
      "Finished with calculating metrics...\n",
      "Epoch 736\n",
      "---------------\n"
     ]
    },
    {
     "name": "stderr",
     "output_type": "stream",
     "text": [
      "/home/yang1641/.local/lib/python3.8/site-packages/sklearn/metrics/_ranking.py:980: UserWarning: No positive class found in y_true, recall is set to one for all thresholds.\n",
      "  warnings.warn(\n"
     ]
    },
    {
     "name": "stdout",
     "output_type": "stream",
     "text": [
      "Batch 0\n",
      "train loss: 0.1401 [0/27652]\n",
      "Finished with batches...\n",
      "Finished with one full epoch...\n",
      "Finished all batches in validation...\n",
      "Finished with calculating metrics...\n",
      "Epoch 737\n",
      "---------------\n"
     ]
    },
    {
     "name": "stderr",
     "output_type": "stream",
     "text": [
      "/home/yang1641/.local/lib/python3.8/site-packages/sklearn/metrics/_ranking.py:980: UserWarning: No positive class found in y_true, recall is set to one for all thresholds.\n",
      "  warnings.warn(\n"
     ]
    },
    {
     "name": "stdout",
     "output_type": "stream",
     "text": [
      "Batch 0\n",
      "train loss: 0.1387 [0/27652]\n",
      "Finished with batches...\n",
      "Finished with one full epoch...\n",
      "Finished all batches in validation...\n",
      "Finished with calculating metrics...\n",
      "Epoch 738\n",
      "---------------\n"
     ]
    },
    {
     "name": "stderr",
     "output_type": "stream",
     "text": [
      "/home/yang1641/.local/lib/python3.8/site-packages/sklearn/metrics/_ranking.py:980: UserWarning: No positive class found in y_true, recall is set to one for all thresholds.\n",
      "  warnings.warn(\n"
     ]
    },
    {
     "name": "stdout",
     "output_type": "stream",
     "text": [
      "Batch 0\n",
      "train loss: 0.1401 [0/27652]\n",
      "Finished with batches...\n",
      "Finished with one full epoch...\n",
      "Finished all batches in validation...\n",
      "Finished with calculating metrics...\n",
      "Epoch 739\n",
      "---------------\n"
     ]
    },
    {
     "name": "stderr",
     "output_type": "stream",
     "text": [
      "/home/yang1641/.local/lib/python3.8/site-packages/sklearn/metrics/_ranking.py:980: UserWarning: No positive class found in y_true, recall is set to one for all thresholds.\n",
      "  warnings.warn(\n"
     ]
    },
    {
     "name": "stdout",
     "output_type": "stream",
     "text": [
      "Batch 0\n",
      "train loss: 0.1412 [0/27652]\n",
      "Finished with batches...\n",
      "Finished with one full epoch...\n",
      "Finished all batches in validation...\n",
      "Finished with calculating metrics...\n",
      "Epoch 740\n",
      "---------------\n"
     ]
    },
    {
     "name": "stderr",
     "output_type": "stream",
     "text": [
      "/home/yang1641/.local/lib/python3.8/site-packages/sklearn/metrics/_ranking.py:980: UserWarning: No positive class found in y_true, recall is set to one for all thresholds.\n",
      "  warnings.warn(\n"
     ]
    },
    {
     "name": "stdout",
     "output_type": "stream",
     "text": [
      "Batch 0\n",
      "train loss: 0.1402 [0/27652]\n",
      "Finished with batches...\n",
      "Finished with one full epoch...\n",
      "Finished all batches in validation...\n",
      "Finished with calculating metrics...\n",
      "Epoch 741\n",
      "---------------\n"
     ]
    },
    {
     "name": "stderr",
     "output_type": "stream",
     "text": [
      "/home/yang1641/.local/lib/python3.8/site-packages/sklearn/metrics/_ranking.py:980: UserWarning: No positive class found in y_true, recall is set to one for all thresholds.\n",
      "  warnings.warn(\n",
      "/home/yang1641/.local/lib/python3.8/site-packages/sklearn/metrics/_ranking.py:980: UserWarning: No positive class found in y_true, recall is set to one for all thresholds.\n",
      "  warnings.warn(\n"
     ]
    },
    {
     "name": "stdout",
     "output_type": "stream",
     "text": [
      "Batch 0\n",
      "train loss: 0.1406 [0/27652]\n",
      "Finished with batches...\n",
      "Finished with one full epoch...\n",
      "Finished all batches in validation...\n",
      "Finished with calculating metrics...\n",
      "Epoch 742\n",
      "---------------\n"
     ]
    },
    {
     "name": "stderr",
     "output_type": "stream",
     "text": [
      "/home/yang1641/.local/lib/python3.8/site-packages/sklearn/metrics/_ranking.py:980: UserWarning: No positive class found in y_true, recall is set to one for all thresholds.\n",
      "  warnings.warn(\n"
     ]
    },
    {
     "name": "stdout",
     "output_type": "stream",
     "text": [
      "Batch 0\n",
      "train loss: 0.1403 [0/27652]\n",
      "Finished with batches...\n",
      "Finished with one full epoch...\n",
      "Finished all batches in validation...\n",
      "Finished with calculating metrics...\n",
      "Epoch 743\n",
      "---------------\n"
     ]
    },
    {
     "name": "stderr",
     "output_type": "stream",
     "text": [
      "/home/yang1641/.local/lib/python3.8/site-packages/sklearn/metrics/_ranking.py:980: UserWarning: No positive class found in y_true, recall is set to one for all thresholds.\n",
      "  warnings.warn(\n"
     ]
    },
    {
     "name": "stdout",
     "output_type": "stream",
     "text": [
      "Batch 0\n",
      "train loss: 0.1401 [0/27652]\n",
      "Finished with batches...\n",
      "Finished with one full epoch...\n",
      "Finished all batches in validation...\n",
      "Finished with calculating metrics...\n",
      "Epoch 744\n",
      "---------------\n",
      "Batch 0\n",
      "train loss: 0.1404 [0/27652]\n",
      "Finished with batches...\n",
      "Finished with one full epoch...\n",
      "Finished all batches in validation...\n",
      "Finished with calculating metrics...\n",
      "Epoch 745\n",
      "---------------\n",
      "Batch 0\n",
      "train loss: 0.1390 [0/27652]\n",
      "Finished with batches...\n",
      "Finished with one full epoch...\n",
      "Finished all batches in validation...\n",
      "Finished with calculating metrics...\n",
      "Epoch 746\n",
      "---------------\n",
      "Batch 0\n",
      "train loss: 0.1388 [0/27652]\n",
      "Finished with batches...\n",
      "Finished with one full epoch...\n",
      "Finished all batches in validation...\n",
      "Finished with calculating metrics...\n",
      "Epoch 747\n",
      "---------------\n",
      "Batch 0\n",
      "train loss: 0.1388 [0/27652]\n",
      "Finished with batches...\n",
      "Finished with one full epoch...\n",
      "Finished all batches in validation...\n",
      "Finished with calculating metrics...\n",
      "Epoch 748\n",
      "---------------\n",
      "Batch 0\n",
      "train loss: 0.1383 [0/27652]\n",
      "Finished with batches...\n",
      "Finished with one full epoch...\n",
      "Finished all batches in validation...\n",
      "Finished with calculating metrics...\n",
      "Epoch 749\n",
      "---------------\n",
      "Batch 0\n",
      "train loss: 0.1390 [0/27652]\n",
      "Finished with batches...\n",
      "Finished with one full epoch...\n",
      "Finished all batches in validation...\n",
      "Finished with calculating metrics...\n",
      "Epoch 750\n",
      "---------------\n"
     ]
    },
    {
     "name": "stderr",
     "output_type": "stream",
     "text": [
      "/home/yang1641/.local/lib/python3.8/site-packages/sklearn/metrics/_ranking.py:980: UserWarning: No positive class found in y_true, recall is set to one for all thresholds.\n",
      "  warnings.warn(\n"
     ]
    },
    {
     "name": "stdout",
     "output_type": "stream",
     "text": [
      "Batch 0\n",
      "train loss: 0.1404 [0/27652]\n",
      "Finished with batches...\n",
      "Finished with one full epoch...\n",
      "Finished all batches in validation...\n",
      "Finished with calculating metrics...\n",
      "Epoch 751\n",
      "---------------\n"
     ]
    },
    {
     "name": "stderr",
     "output_type": "stream",
     "text": [
      "/home/yang1641/.local/lib/python3.8/site-packages/sklearn/metrics/_ranking.py:980: UserWarning: No positive class found in y_true, recall is set to one for all thresholds.\n",
      "  warnings.warn(\n"
     ]
    },
    {
     "name": "stdout",
     "output_type": "stream",
     "text": [
      "Batch 0\n",
      "train loss: 0.1400 [0/27652]\n",
      "Finished with batches...\n",
      "Finished with one full epoch...\n",
      "Finished all batches in validation...\n",
      "Finished with calculating metrics...\n",
      "Epoch 752\n",
      "---------------\n"
     ]
    },
    {
     "name": "stderr",
     "output_type": "stream",
     "text": [
      "/home/yang1641/.local/lib/python3.8/site-packages/sklearn/metrics/_ranking.py:980: UserWarning: No positive class found in y_true, recall is set to one for all thresholds.\n",
      "  warnings.warn(\n"
     ]
    },
    {
     "name": "stdout",
     "output_type": "stream",
     "text": [
      "Batch 0\n",
      "train loss: 0.1397 [0/27652]\n",
      "Finished with batches...\n",
      "Finished with one full epoch...\n",
      "Finished all batches in validation...\n",
      "Finished with calculating metrics...\n",
      "Epoch 753\n",
      "---------------\n"
     ]
    },
    {
     "name": "stderr",
     "output_type": "stream",
     "text": [
      "/home/yang1641/.local/lib/python3.8/site-packages/sklearn/metrics/_ranking.py:980: UserWarning: No positive class found in y_true, recall is set to one for all thresholds.\n",
      "  warnings.warn(\n"
     ]
    },
    {
     "name": "stdout",
     "output_type": "stream",
     "text": [
      "Batch 0\n",
      "train loss: 0.1395 [0/27652]\n",
      "Finished with batches...\n",
      "Finished with one full epoch...\n",
      "Finished all batches in validation...\n",
      "Finished with calculating metrics...\n",
      "Epoch 754\n",
      "---------------\n"
     ]
    },
    {
     "name": "stderr",
     "output_type": "stream",
     "text": [
      "/home/yang1641/.local/lib/python3.8/site-packages/sklearn/metrics/_ranking.py:980: UserWarning: No positive class found in y_true, recall is set to one for all thresholds.\n",
      "  warnings.warn(\n"
     ]
    },
    {
     "name": "stdout",
     "output_type": "stream",
     "text": [
      "Batch 0\n",
      "train loss: 0.1384 [0/27652]\n",
      "Finished with batches...\n",
      "Finished with one full epoch...\n",
      "Finished all batches in validation...\n",
      "Finished with calculating metrics...\n",
      "Epoch 755\n",
      "---------------\n"
     ]
    },
    {
     "name": "stderr",
     "output_type": "stream",
     "text": [
      "/home/yang1641/.local/lib/python3.8/site-packages/sklearn/metrics/_ranking.py:980: UserWarning: No positive class found in y_true, recall is set to one for all thresholds.\n",
      "  warnings.warn(\n"
     ]
    },
    {
     "name": "stdout",
     "output_type": "stream",
     "text": [
      "Batch 0\n",
      "train loss: 0.1393 [0/27652]\n",
      "Finished with batches...\n",
      "Finished with one full epoch...\n",
      "Finished all batches in validation...\n",
      "Finished with calculating metrics...\n",
      "Epoch 756\n",
      "---------------\n"
     ]
    },
    {
     "name": "stderr",
     "output_type": "stream",
     "text": [
      "/home/yang1641/.local/lib/python3.8/site-packages/sklearn/metrics/_ranking.py:980: UserWarning: No positive class found in y_true, recall is set to one for all thresholds.\n",
      "  warnings.warn(\n"
     ]
    },
    {
     "name": "stdout",
     "output_type": "stream",
     "text": [
      "Batch 0\n",
      "train loss: 0.1397 [0/27652]\n",
      "Finished with batches...\n",
      "Finished with one full epoch...\n",
      "Finished all batches in validation...\n",
      "Finished with calculating metrics...\n",
      "Epoch 757\n",
      "---------------\n"
     ]
    },
    {
     "name": "stderr",
     "output_type": "stream",
     "text": [
      "/home/yang1641/.local/lib/python3.8/site-packages/sklearn/metrics/_ranking.py:980: UserWarning: No positive class found in y_true, recall is set to one for all thresholds.\n",
      "  warnings.warn(\n"
     ]
    },
    {
     "name": "stdout",
     "output_type": "stream",
     "text": [
      "Batch 0\n",
      "train loss: 0.1396 [0/27652]\n",
      "Finished with batches...\n",
      "Finished with one full epoch...\n",
      "Finished all batches in validation...\n",
      "Finished with calculating metrics...\n",
      "Epoch 758\n",
      "---------------\n"
     ]
    },
    {
     "name": "stderr",
     "output_type": "stream",
     "text": [
      "/home/yang1641/.local/lib/python3.8/site-packages/sklearn/metrics/_ranking.py:980: UserWarning: No positive class found in y_true, recall is set to one for all thresholds.\n",
      "  warnings.warn(\n"
     ]
    },
    {
     "name": "stdout",
     "output_type": "stream",
     "text": [
      "Batch 0\n",
      "train loss: 0.1395 [0/27652]\n",
      "Finished with batches...\n",
      "Finished with one full epoch...\n",
      "Finished all batches in validation...\n",
      "Finished with calculating metrics...\n",
      "Epoch 759\n",
      "---------------\n"
     ]
    },
    {
     "name": "stderr",
     "output_type": "stream",
     "text": [
      "/home/yang1641/.local/lib/python3.8/site-packages/sklearn/metrics/_ranking.py:980: UserWarning: No positive class found in y_true, recall is set to one for all thresholds.\n",
      "  warnings.warn(\n"
     ]
    },
    {
     "name": "stdout",
     "output_type": "stream",
     "text": [
      "Batch 0\n",
      "train loss: 0.1391 [0/27652]\n",
      "Finished with batches...\n",
      "Finished with one full epoch...\n",
      "Finished all batches in validation...\n",
      "Finished with calculating metrics...\n",
      "Epoch 760\n",
      "---------------\n"
     ]
    },
    {
     "name": "stderr",
     "output_type": "stream",
     "text": [
      "/home/yang1641/.local/lib/python3.8/site-packages/sklearn/metrics/_ranking.py:980: UserWarning: No positive class found in y_true, recall is set to one for all thresholds.\n",
      "  warnings.warn(\n"
     ]
    },
    {
     "name": "stdout",
     "output_type": "stream",
     "text": [
      "Batch 0\n",
      "train loss: 0.1395 [0/27652]\n",
      "Finished with batches...\n",
      "Finished with one full epoch...\n",
      "Finished all batches in validation...\n",
      "Finished with calculating metrics...\n",
      "Epoch 761\n",
      "---------------\n"
     ]
    },
    {
     "name": "stderr",
     "output_type": "stream",
     "text": [
      "/home/yang1641/.local/lib/python3.8/site-packages/sklearn/metrics/_ranking.py:980: UserWarning: No positive class found in y_true, recall is set to one for all thresholds.\n",
      "  warnings.warn(\n"
     ]
    },
    {
     "name": "stdout",
     "output_type": "stream",
     "text": [
      "Batch 0\n",
      "train loss: 0.1389 [0/27652]\n",
      "Finished with batches...\n",
      "Finished with one full epoch...\n",
      "Finished all batches in validation...\n",
      "Finished with calculating metrics...\n",
      "Epoch 762\n",
      "---------------\n"
     ]
    },
    {
     "name": "stderr",
     "output_type": "stream",
     "text": [
      "/home/yang1641/.local/lib/python3.8/site-packages/sklearn/metrics/_ranking.py:980: UserWarning: No positive class found in y_true, recall is set to one for all thresholds.\n",
      "  warnings.warn(\n"
     ]
    },
    {
     "name": "stdout",
     "output_type": "stream",
     "text": [
      "Batch 0\n",
      "train loss: 0.1393 [0/27652]\n",
      "Finished with batches...\n",
      "Finished with one full epoch...\n",
      "Finished all batches in validation...\n",
      "Finished with calculating metrics...\n",
      "Epoch 763\n",
      "---------------\n",
      "Batch 0\n",
      "train loss: 0.1405 [0/27652]\n",
      "Finished with batches...\n",
      "Finished with one full epoch...\n",
      "Finished all batches in validation...\n",
      "Finished with calculating metrics...\n",
      "Epoch 764\n",
      "---------------\n",
      "Batch 0\n",
      "train loss: 0.1391 [0/27652]\n",
      "Finished with batches...\n",
      "Finished with one full epoch...\n",
      "Finished all batches in validation...\n",
      "Finished with calculating metrics...\n",
      "Epoch 765\n",
      "---------------\n"
     ]
    },
    {
     "name": "stderr",
     "output_type": "stream",
     "text": [
      "/home/yang1641/.local/lib/python3.8/site-packages/sklearn/metrics/_ranking.py:980: UserWarning: No positive class found in y_true, recall is set to one for all thresholds.\n",
      "  warnings.warn(\n"
     ]
    },
    {
     "name": "stdout",
     "output_type": "stream",
     "text": [
      "Batch 0\n",
      "train loss: 0.1397 [0/27652]\n",
      "Finished with batches...\n",
      "Finished with one full epoch...\n",
      "Finished all batches in validation...\n",
      "Finished with calculating metrics...\n",
      "Epoch 766\n",
      "---------------\n",
      "Batch 0\n",
      "train loss: 0.1396 [0/27652]\n",
      "Finished with batches...\n",
      "Finished with one full epoch...\n",
      "Finished all batches in validation...\n",
      "Finished with calculating metrics...\n",
      "Epoch 767\n",
      "---------------\n"
     ]
    },
    {
     "name": "stderr",
     "output_type": "stream",
     "text": [
      "/home/yang1641/.local/lib/python3.8/site-packages/sklearn/metrics/_ranking.py:980: UserWarning: No positive class found in y_true, recall is set to one for all thresholds.\n",
      "  warnings.warn(\n"
     ]
    },
    {
     "name": "stdout",
     "output_type": "stream",
     "text": [
      "Batch 0\n",
      "train loss: 0.1398 [0/27652]\n",
      "Finished with batches...\n",
      "Finished with one full epoch...\n",
      "Finished all batches in validation...\n",
      "Finished with calculating metrics...\n",
      "Epoch 768\n",
      "---------------\n"
     ]
    },
    {
     "name": "stderr",
     "output_type": "stream",
     "text": [
      "/home/yang1641/.local/lib/python3.8/site-packages/sklearn/metrics/_ranking.py:980: UserWarning: No positive class found in y_true, recall is set to one for all thresholds.\n",
      "  warnings.warn(\n",
      "/home/yang1641/.local/lib/python3.8/site-packages/sklearn/metrics/_ranking.py:980: UserWarning: No positive class found in y_true, recall is set to one for all thresholds.\n",
      "  warnings.warn(\n"
     ]
    },
    {
     "name": "stdout",
     "output_type": "stream",
     "text": [
      "Batch 0\n",
      "train loss: 0.1403 [0/27652]\n",
      "Finished with batches...\n",
      "Finished with one full epoch...\n",
      "Finished all batches in validation...\n",
      "Finished with calculating metrics...\n",
      "Epoch 769\n",
      "---------------\n"
     ]
    },
    {
     "name": "stderr",
     "output_type": "stream",
     "text": [
      "/home/yang1641/.local/lib/python3.8/site-packages/sklearn/metrics/_ranking.py:980: UserWarning: No positive class found in y_true, recall is set to one for all thresholds.\n",
      "  warnings.warn(\n",
      "/home/yang1641/.local/lib/python3.8/site-packages/sklearn/metrics/_ranking.py:980: UserWarning: No positive class found in y_true, recall is set to one for all thresholds.\n",
      "  warnings.warn(\n"
     ]
    },
    {
     "name": "stdout",
     "output_type": "stream",
     "text": [
      "Batch 0\n",
      "train loss: 0.1400 [0/27652]\n",
      "Finished with batches...\n",
      "Finished with one full epoch...\n",
      "Finished all batches in validation...\n",
      "Finished with calculating metrics...\n",
      "Epoch 770\n",
      "---------------\n"
     ]
    },
    {
     "name": "stderr",
     "output_type": "stream",
     "text": [
      "/home/yang1641/.local/lib/python3.8/site-packages/sklearn/metrics/_ranking.py:980: UserWarning: No positive class found in y_true, recall is set to one for all thresholds.\n",
      "  warnings.warn(\n"
     ]
    },
    {
     "name": "stdout",
     "output_type": "stream",
     "text": [
      "Batch 0\n",
      "train loss: 0.1395 [0/27652]\n",
      "Finished with batches...\n",
      "Finished with one full epoch...\n",
      "Finished all batches in validation...\n",
      "Finished with calculating metrics...\n",
      "Epoch 771\n",
      "---------------\n"
     ]
    },
    {
     "name": "stderr",
     "output_type": "stream",
     "text": [
      "/home/yang1641/.local/lib/python3.8/site-packages/sklearn/metrics/_ranking.py:980: UserWarning: No positive class found in y_true, recall is set to one for all thresholds.\n",
      "  warnings.warn(\n"
     ]
    },
    {
     "name": "stdout",
     "output_type": "stream",
     "text": [
      "Batch 0\n",
      "train loss: 0.1389 [0/27652]\n",
      "Finished with batches...\n",
      "Finished with one full epoch...\n",
      "Finished all batches in validation...\n",
      "Finished with calculating metrics...\n",
      "Epoch 772\n",
      "---------------\n"
     ]
    },
    {
     "name": "stderr",
     "output_type": "stream",
     "text": [
      "/home/yang1641/.local/lib/python3.8/site-packages/sklearn/metrics/_ranking.py:980: UserWarning: No positive class found in y_true, recall is set to one for all thresholds.\n",
      "  warnings.warn(\n"
     ]
    },
    {
     "name": "stdout",
     "output_type": "stream",
     "text": [
      "Batch 0\n",
      "train loss: 0.1396 [0/27652]\n",
      "Finished with batches...\n",
      "Finished with one full epoch...\n",
      "Finished all batches in validation...\n",
      "Finished with calculating metrics...\n",
      "Epoch 773\n",
      "---------------\n"
     ]
    },
    {
     "name": "stderr",
     "output_type": "stream",
     "text": [
      "/home/yang1641/.local/lib/python3.8/site-packages/sklearn/metrics/_ranking.py:980: UserWarning: No positive class found in y_true, recall is set to one for all thresholds.\n",
      "  warnings.warn(\n"
     ]
    },
    {
     "name": "stdout",
     "output_type": "stream",
     "text": [
      "Batch 0\n",
      "train loss: 0.1400 [0/27652]\n",
      "Finished with batches...\n",
      "Finished with one full epoch...\n",
      "Finished all batches in validation...\n",
      "Finished with calculating metrics...\n",
      "Epoch 774\n",
      "---------------\n"
     ]
    },
    {
     "name": "stderr",
     "output_type": "stream",
     "text": [
      "/home/yang1641/.local/lib/python3.8/site-packages/sklearn/metrics/_ranking.py:980: UserWarning: No positive class found in y_true, recall is set to one for all thresholds.\n",
      "  warnings.warn(\n"
     ]
    },
    {
     "name": "stdout",
     "output_type": "stream",
     "text": [
      "Batch 0\n",
      "train loss: 0.1390 [0/27652]\n",
      "Finished with batches...\n",
      "Finished with one full epoch...\n",
      "Finished all batches in validation...\n",
      "Finished with calculating metrics...\n",
      "Epoch 775\n",
      "---------------\n"
     ]
    },
    {
     "name": "stderr",
     "output_type": "stream",
     "text": [
      "/home/yang1641/.local/lib/python3.8/site-packages/sklearn/metrics/_ranking.py:980: UserWarning: No positive class found in y_true, recall is set to one for all thresholds.\n",
      "  warnings.warn(\n"
     ]
    },
    {
     "name": "stdout",
     "output_type": "stream",
     "text": [
      "Batch 0\n",
      "train loss: 0.1400 [0/27652]\n",
      "Finished with batches...\n",
      "Finished with one full epoch...\n",
      "Finished all batches in validation...\n",
      "Finished with calculating metrics...\n",
      "Epoch 776\n",
      "---------------\n"
     ]
    },
    {
     "name": "stderr",
     "output_type": "stream",
     "text": [
      "/home/yang1641/.local/lib/python3.8/site-packages/sklearn/metrics/_ranking.py:980: UserWarning: No positive class found in y_true, recall is set to one for all thresholds.\n",
      "  warnings.warn(\n"
     ]
    },
    {
     "name": "stdout",
     "output_type": "stream",
     "text": [
      "Batch 0\n",
      "train loss: 0.1400 [0/27652]\n",
      "Finished with batches...\n",
      "Finished with one full epoch...\n",
      "Finished all batches in validation...\n",
      "Finished with calculating metrics...\n",
      "Epoch 777\n",
      "---------------\n"
     ]
    },
    {
     "name": "stderr",
     "output_type": "stream",
     "text": [
      "/home/yang1641/.local/lib/python3.8/site-packages/sklearn/metrics/_ranking.py:980: UserWarning: No positive class found in y_true, recall is set to one for all thresholds.\n",
      "  warnings.warn(\n"
     ]
    },
    {
     "name": "stdout",
     "output_type": "stream",
     "text": [
      "Batch 0\n",
      "train loss: 0.1390 [0/27652]\n",
      "Finished with batches...\n",
      "Finished with one full epoch...\n",
      "Finished all batches in validation...\n",
      "Finished with calculating metrics...\n",
      "Epoch 778\n",
      "---------------\n"
     ]
    },
    {
     "name": "stderr",
     "output_type": "stream",
     "text": [
      "/home/yang1641/.local/lib/python3.8/site-packages/sklearn/metrics/_ranking.py:980: UserWarning: No positive class found in y_true, recall is set to one for all thresholds.\n",
      "  warnings.warn(\n"
     ]
    },
    {
     "name": "stdout",
     "output_type": "stream",
     "text": [
      "Batch 0\n",
      "train loss: 0.1400 [0/27652]\n",
      "Finished with batches...\n",
      "Finished with one full epoch...\n",
      "Finished all batches in validation...\n",
      "Finished with calculating metrics...\n",
      "Epoch 779\n",
      "---------------\n"
     ]
    },
    {
     "name": "stderr",
     "output_type": "stream",
     "text": [
      "/home/yang1641/.local/lib/python3.8/site-packages/sklearn/metrics/_ranking.py:980: UserWarning: No positive class found in y_true, recall is set to one for all thresholds.\n",
      "  warnings.warn(\n"
     ]
    },
    {
     "name": "stdout",
     "output_type": "stream",
     "text": [
      "Batch 0\n",
      "train loss: 0.1400 [0/27652]\n",
      "Finished with batches...\n",
      "Finished with one full epoch...\n",
      "Finished all batches in validation...\n",
      "Finished with calculating metrics...\n",
      "Epoch 780\n",
      "---------------\n"
     ]
    },
    {
     "name": "stderr",
     "output_type": "stream",
     "text": [
      "/home/yang1641/.local/lib/python3.8/site-packages/sklearn/metrics/_ranking.py:980: UserWarning: No positive class found in y_true, recall is set to one for all thresholds.\n",
      "  warnings.warn(\n"
     ]
    },
    {
     "name": "stdout",
     "output_type": "stream",
     "text": [
      "Batch 0\n",
      "train loss: 0.1404 [0/27652]\n",
      "Finished with batches...\n",
      "Finished with one full epoch...\n",
      "Finished all batches in validation...\n",
      "Finished with calculating metrics...\n",
      "Epoch 781\n",
      "---------------\n"
     ]
    },
    {
     "name": "stderr",
     "output_type": "stream",
     "text": [
      "/home/yang1641/.local/lib/python3.8/site-packages/sklearn/metrics/_ranking.py:980: UserWarning: No positive class found in y_true, recall is set to one for all thresholds.\n",
      "  warnings.warn(\n"
     ]
    },
    {
     "name": "stdout",
     "output_type": "stream",
     "text": [
      "Batch 0\n",
      "train loss: 0.1392 [0/27652]\n",
      "Finished with batches...\n",
      "Finished with one full epoch...\n",
      "Finished all batches in validation...\n",
      "Finished with calculating metrics...\n",
      "Epoch 782\n",
      "---------------\n"
     ]
    },
    {
     "name": "stderr",
     "output_type": "stream",
     "text": [
      "/home/yang1641/.local/lib/python3.8/site-packages/sklearn/metrics/_ranking.py:980: UserWarning: No positive class found in y_true, recall is set to one for all thresholds.\n",
      "  warnings.warn(\n"
     ]
    },
    {
     "name": "stdout",
     "output_type": "stream",
     "text": [
      "Batch 0\n",
      "train loss: 0.1406 [0/27652]\n",
      "Finished with batches...\n",
      "Finished with one full epoch...\n",
      "Finished all batches in validation...\n",
      "Finished with calculating metrics...\n",
      "Epoch 783\n",
      "---------------\n"
     ]
    },
    {
     "name": "stderr",
     "output_type": "stream",
     "text": [
      "/home/yang1641/.local/lib/python3.8/site-packages/sklearn/metrics/_ranking.py:980: UserWarning: No positive class found in y_true, recall is set to one for all thresholds.\n",
      "  warnings.warn(\n"
     ]
    },
    {
     "name": "stdout",
     "output_type": "stream",
     "text": [
      "Batch 0\n",
      "train loss: 0.1397 [0/27652]\n",
      "Finished with batches...\n",
      "Finished with one full epoch...\n",
      "Finished all batches in validation...\n",
      "Finished with calculating metrics...\n",
      "Epoch 784\n",
      "---------------\n"
     ]
    },
    {
     "name": "stderr",
     "output_type": "stream",
     "text": [
      "/home/yang1641/.local/lib/python3.8/site-packages/sklearn/metrics/_ranking.py:980: UserWarning: No positive class found in y_true, recall is set to one for all thresholds.\n",
      "  warnings.warn(\n"
     ]
    },
    {
     "name": "stdout",
     "output_type": "stream",
     "text": [
      "Batch 0\n",
      "train loss: 0.1395 [0/27652]\n",
      "Finished with batches...\n",
      "Finished with one full epoch...\n",
      "Finished all batches in validation...\n",
      "Finished with calculating metrics...\n",
      "Epoch 785\n",
      "---------------\n",
      "Batch 0\n",
      "train loss: 0.1390 [0/27652]\n",
      "Finished with batches...\n",
      "Finished with one full epoch...\n",
      "Finished all batches in validation...\n",
      "Finished with calculating metrics...\n",
      "Epoch 786\n",
      "---------------\n",
      "Batch 0\n",
      "train loss: 0.1399 [0/27652]\n",
      "Finished with batches...\n",
      "Finished with one full epoch...\n",
      "Finished all batches in validation...\n",
      "Finished with calculating metrics...\n",
      "Epoch 787\n",
      "---------------\n",
      "Batch 0\n",
      "train loss: 0.1388 [0/27652]\n",
      "Finished with batches...\n",
      "Finished with one full epoch...\n",
      "Finished all batches in validation...\n",
      "Finished with calculating metrics...\n",
      "Epoch 788\n",
      "---------------\n",
      "Batch 0\n",
      "train loss: 0.1406 [0/27652]\n",
      "Finished with batches...\n",
      "Finished with one full epoch...\n",
      "Finished all batches in validation...\n",
      "Finished with calculating metrics...\n",
      "Epoch 789\n",
      "---------------\n"
     ]
    },
    {
     "name": "stderr",
     "output_type": "stream",
     "text": [
      "/home/yang1641/.local/lib/python3.8/site-packages/sklearn/metrics/_ranking.py:980: UserWarning: No positive class found in y_true, recall is set to one for all thresholds.\n",
      "  warnings.warn(\n"
     ]
    },
    {
     "name": "stdout",
     "output_type": "stream",
     "text": [
      "Batch 0\n",
      "train loss: 0.1385 [0/27652]\n",
      "Finished with batches...\n",
      "Finished with one full epoch...\n",
      "Finished all batches in validation...\n",
      "Finished with calculating metrics...\n",
      "Epoch 790\n",
      "---------------\n",
      "Batch 0\n",
      "train loss: 0.1391 [0/27652]\n",
      "Finished with batches...\n",
      "Finished with one full epoch...\n",
      "Finished all batches in validation...\n",
      "Finished with calculating metrics...\n",
      "Epoch 791\n",
      "---------------\n"
     ]
    },
    {
     "name": "stderr",
     "output_type": "stream",
     "text": [
      "/home/yang1641/.local/lib/python3.8/site-packages/sklearn/metrics/_ranking.py:980: UserWarning: No positive class found in y_true, recall is set to one for all thresholds.\n",
      "  warnings.warn(\n"
     ]
    },
    {
     "name": "stdout",
     "output_type": "stream",
     "text": [
      "Batch 0\n",
      "train loss: 0.1393 [0/27652]\n",
      "Finished with batches...\n",
      "Finished with one full epoch...\n",
      "Finished all batches in validation...\n",
      "Finished with calculating metrics...\n",
      "Epoch 792\n",
      "---------------\n"
     ]
    },
    {
     "name": "stderr",
     "output_type": "stream",
     "text": [
      "/home/yang1641/.local/lib/python3.8/site-packages/sklearn/metrics/_ranking.py:980: UserWarning: No positive class found in y_true, recall is set to one for all thresholds.\n",
      "  warnings.warn(\n"
     ]
    },
    {
     "name": "stdout",
     "output_type": "stream",
     "text": [
      "Batch 0\n",
      "train loss: 0.1398 [0/27652]\n",
      "Finished with batches...\n",
      "Finished with one full epoch...\n",
      "Finished all batches in validation...\n",
      "Finished with calculating metrics...\n",
      "Epoch 793\n",
      "---------------\n"
     ]
    },
    {
     "name": "stderr",
     "output_type": "stream",
     "text": [
      "/home/yang1641/.local/lib/python3.8/site-packages/sklearn/metrics/_ranking.py:980: UserWarning: No positive class found in y_true, recall is set to one for all thresholds.\n",
      "  warnings.warn(\n"
     ]
    },
    {
     "name": "stdout",
     "output_type": "stream",
     "text": [
      "Batch 0\n",
      "train loss: 0.1405 [0/27652]\n",
      "Finished with batches...\n",
      "Finished with one full epoch...\n",
      "Finished all batches in validation...\n",
      "Finished with calculating metrics...\n",
      "Epoch 794\n",
      "---------------\n",
      "Batch 0\n",
      "train loss: 0.1397 [0/27652]\n",
      "Finished with batches...\n",
      "Finished with one full epoch...\n",
      "Finished all batches in validation...\n",
      "Finished with calculating metrics...\n",
      "Epoch 795\n",
      "---------------\n",
      "Batch 0\n",
      "train loss: 0.1400 [0/27652]\n",
      "Finished with batches...\n",
      "Finished with one full epoch...\n",
      "Finished all batches in validation...\n",
      "Finished with calculating metrics...\n",
      "Epoch 796\n",
      "---------------\n",
      "Batch 0\n",
      "train loss: 0.1394 [0/27652]\n",
      "Finished with batches...\n",
      "Finished with one full epoch...\n",
      "Finished all batches in validation...\n",
      "Finished with calculating metrics...\n",
      "Epoch 797\n",
      "---------------\n",
      "Batch 0\n",
      "train loss: 0.1392 [0/27652]\n",
      "Finished with batches...\n",
      "Finished with one full epoch...\n",
      "Finished all batches in validation...\n",
      "Finished with calculating metrics...\n",
      "Epoch 798\n",
      "---------------\n"
     ]
    },
    {
     "name": "stderr",
     "output_type": "stream",
     "text": [
      "/home/yang1641/.local/lib/python3.8/site-packages/sklearn/metrics/_ranking.py:980: UserWarning: No positive class found in y_true, recall is set to one for all thresholds.\n",
      "  warnings.warn(\n"
     ]
    },
    {
     "name": "stdout",
     "output_type": "stream",
     "text": [
      "Batch 0\n",
      "train loss: 0.1398 [0/27652]\n",
      "Finished with batches...\n",
      "Finished with one full epoch...\n",
      "Finished all batches in validation...\n",
      "Finished with calculating metrics...\n",
      "Epoch 799\n",
      "---------------\n",
      "Batch 0\n",
      "train loss: 0.1395 [0/27652]\n",
      "Finished with batches...\n",
      "Finished with one full epoch...\n",
      "Finished all batches in validation...\n",
      "Finished with calculating metrics...\n",
      "Epoch 800\n",
      "---------------\n"
     ]
    },
    {
     "name": "stderr",
     "output_type": "stream",
     "text": [
      "/home/yang1641/.local/lib/python3.8/site-packages/sklearn/metrics/_ranking.py:980: UserWarning: No positive class found in y_true, recall is set to one for all thresholds.\n",
      "  warnings.warn(\n"
     ]
    },
    {
     "name": "stdout",
     "output_type": "stream",
     "text": [
      "Batch 0\n",
      "train loss: 0.1381 [0/27652]\n",
      "Finished with batches...\n",
      "Finished with one full epoch...\n",
      "Finished all batches in validation...\n",
      "Finished with calculating metrics...\n",
      "Epoch 801\n",
      "---------------\n"
     ]
    },
    {
     "name": "stderr",
     "output_type": "stream",
     "text": [
      "/home/yang1641/.local/lib/python3.8/site-packages/sklearn/metrics/_ranking.py:980: UserWarning: No positive class found in y_true, recall is set to one for all thresholds.\n",
      "  warnings.warn(\n"
     ]
    },
    {
     "name": "stdout",
     "output_type": "stream",
     "text": [
      "Batch 0\n",
      "train loss: 0.1395 [0/27652]\n",
      "Finished with batches...\n",
      "Finished with one full epoch...\n",
      "Finished all batches in validation...\n",
      "Finished with calculating metrics...\n",
      "Epoch 802\n",
      "---------------\n"
     ]
    },
    {
     "name": "stderr",
     "output_type": "stream",
     "text": [
      "/home/yang1641/.local/lib/python3.8/site-packages/sklearn/metrics/_ranking.py:980: UserWarning: No positive class found in y_true, recall is set to one for all thresholds.\n",
      "  warnings.warn(\n"
     ]
    },
    {
     "name": "stdout",
     "output_type": "stream",
     "text": [
      "Batch 0\n",
      "train loss: 0.1390 [0/27652]\n",
      "Finished with batches...\n",
      "Finished with one full epoch...\n",
      "Finished all batches in validation...\n",
      "Finished with calculating metrics...\n",
      "Epoch 803\n",
      "---------------\n"
     ]
    },
    {
     "name": "stderr",
     "output_type": "stream",
     "text": [
      "/home/yang1641/.local/lib/python3.8/site-packages/sklearn/metrics/_ranking.py:980: UserWarning: No positive class found in y_true, recall is set to one for all thresholds.\n",
      "  warnings.warn(\n"
     ]
    },
    {
     "name": "stdout",
     "output_type": "stream",
     "text": [
      "Batch 0\n",
      "train loss: 0.1391 [0/27652]\n",
      "Finished with batches...\n",
      "Finished with one full epoch...\n",
      "Finished all batches in validation...\n",
      "Finished with calculating metrics...\n",
      "Epoch 804\n",
      "---------------\n",
      "Batch 0\n",
      "train loss: 0.1392 [0/27652]\n",
      "Finished with batches...\n",
      "Finished with one full epoch...\n",
      "Finished all batches in validation...\n",
      "Finished with calculating metrics...\n",
      "Epoch 805\n",
      "---------------\n",
      "Batch 0\n",
      "train loss: 0.1391 [0/27652]\n",
      "Finished with batches...\n",
      "Finished with one full epoch...\n",
      "Finished all batches in validation...\n",
      "Finished with calculating metrics...\n",
      "Epoch 806\n",
      "---------------\n"
     ]
    },
    {
     "name": "stderr",
     "output_type": "stream",
     "text": [
      "/home/yang1641/.local/lib/python3.8/site-packages/sklearn/metrics/_ranking.py:980: UserWarning: No positive class found in y_true, recall is set to one for all thresholds.\n",
      "  warnings.warn(\n"
     ]
    },
    {
     "name": "stdout",
     "output_type": "stream",
     "text": [
      "Batch 0\n",
      "train loss: 0.1385 [0/27652]\n",
      "Finished with batches...\n",
      "Finished with one full epoch...\n",
      "Finished all batches in validation...\n",
      "Finished with calculating metrics...\n",
      "Epoch 807\n",
      "---------------\n"
     ]
    },
    {
     "name": "stderr",
     "output_type": "stream",
     "text": [
      "/home/yang1641/.local/lib/python3.8/site-packages/sklearn/metrics/_ranking.py:980: UserWarning: No positive class found in y_true, recall is set to one for all thresholds.\n",
      "  warnings.warn(\n"
     ]
    },
    {
     "name": "stdout",
     "output_type": "stream",
     "text": [
      "Batch 0\n",
      "train loss: 0.1385 [0/27652]\n",
      "Finished with batches...\n",
      "Finished with one full epoch...\n",
      "Finished all batches in validation...\n",
      "Finished with calculating metrics...\n",
      "Epoch 808\n",
      "---------------\n"
     ]
    },
    {
     "name": "stderr",
     "output_type": "stream",
     "text": [
      "/home/yang1641/.local/lib/python3.8/site-packages/sklearn/metrics/_ranking.py:980: UserWarning: No positive class found in y_true, recall is set to one for all thresholds.\n",
      "  warnings.warn(\n",
      "/home/yang1641/.local/lib/python3.8/site-packages/sklearn/metrics/_ranking.py:980: UserWarning: No positive class found in y_true, recall is set to one for all thresholds.\n",
      "  warnings.warn(\n"
     ]
    },
    {
     "name": "stdout",
     "output_type": "stream",
     "text": [
      "Batch 0\n",
      "train loss: 0.1388 [0/27652]\n",
      "Finished with batches...\n",
      "Finished with one full epoch...\n",
      "Finished all batches in validation...\n",
      "Finished with calculating metrics...\n",
      "Epoch 809\n",
      "---------------\n"
     ]
    },
    {
     "name": "stderr",
     "output_type": "stream",
     "text": [
      "/home/yang1641/.local/lib/python3.8/site-packages/sklearn/metrics/_ranking.py:980: UserWarning: No positive class found in y_true, recall is set to one for all thresholds.\n",
      "  warnings.warn(\n"
     ]
    },
    {
     "name": "stdout",
     "output_type": "stream",
     "text": [
      "Batch 0\n",
      "train loss: 0.1382 [0/27652]\n",
      "Finished with batches...\n",
      "Finished with one full epoch...\n",
      "Finished all batches in validation...\n",
      "Finished with calculating metrics...\n",
      "Epoch 810\n",
      "---------------\n"
     ]
    },
    {
     "name": "stderr",
     "output_type": "stream",
     "text": [
      "/home/yang1641/.local/lib/python3.8/site-packages/sklearn/metrics/_ranking.py:980: UserWarning: No positive class found in y_true, recall is set to one for all thresholds.\n",
      "  warnings.warn(\n"
     ]
    },
    {
     "name": "stdout",
     "output_type": "stream",
     "text": [
      "Batch 0\n",
      "train loss: 0.1382 [0/27652]\n",
      "Finished with batches...\n",
      "Finished with one full epoch...\n",
      "Finished all batches in validation...\n",
      "Finished with calculating metrics...\n",
      "Epoch 811\n",
      "---------------\n"
     ]
    },
    {
     "name": "stderr",
     "output_type": "stream",
     "text": [
      "/home/yang1641/.local/lib/python3.8/site-packages/sklearn/metrics/_ranking.py:980: UserWarning: No positive class found in y_true, recall is set to one for all thresholds.\n",
      "  warnings.warn(\n"
     ]
    },
    {
     "name": "stdout",
     "output_type": "stream",
     "text": [
      "Batch 0\n",
      "train loss: 0.1390 [0/27652]\n",
      "Finished with batches...\n",
      "Finished with one full epoch...\n",
      "Finished all batches in validation...\n",
      "Finished with calculating metrics...\n",
      "Epoch 812\n",
      "---------------\n"
     ]
    },
    {
     "name": "stderr",
     "output_type": "stream",
     "text": [
      "/home/yang1641/.local/lib/python3.8/site-packages/sklearn/metrics/_ranking.py:980: UserWarning: No positive class found in y_true, recall is set to one for all thresholds.\n",
      "  warnings.warn(\n",
      "/home/yang1641/.local/lib/python3.8/site-packages/sklearn/metrics/_ranking.py:980: UserWarning: No positive class found in y_true, recall is set to one for all thresholds.\n",
      "  warnings.warn(\n"
     ]
    },
    {
     "name": "stdout",
     "output_type": "stream",
     "text": [
      "Batch 0\n",
      "train loss: 0.1400 [0/27652]\n",
      "Finished with batches...\n",
      "Finished with one full epoch...\n",
      "Finished all batches in validation...\n",
      "Finished with calculating metrics...\n",
      "Epoch 813\n",
      "---------------\n"
     ]
    },
    {
     "name": "stderr",
     "output_type": "stream",
     "text": [
      "/home/yang1641/.local/lib/python3.8/site-packages/sklearn/metrics/_ranking.py:980: UserWarning: No positive class found in y_true, recall is set to one for all thresholds.\n",
      "  warnings.warn(\n",
      "/home/yang1641/.local/lib/python3.8/site-packages/sklearn/metrics/_ranking.py:980: UserWarning: No positive class found in y_true, recall is set to one for all thresholds.\n",
      "  warnings.warn(\n"
     ]
    },
    {
     "name": "stdout",
     "output_type": "stream",
     "text": [
      "Batch 0\n",
      "train loss: 0.1404 [0/27652]\n",
      "Finished with batches...\n",
      "Finished with one full epoch...\n",
      "Finished all batches in validation...\n",
      "Finished with calculating metrics...\n",
      "Epoch 814\n",
      "---------------\n"
     ]
    },
    {
     "name": "stderr",
     "output_type": "stream",
     "text": [
      "/home/yang1641/.local/lib/python3.8/site-packages/sklearn/metrics/_ranking.py:980: UserWarning: No positive class found in y_true, recall is set to one for all thresholds.\n",
      "  warnings.warn(\n"
     ]
    },
    {
     "name": "stdout",
     "output_type": "stream",
     "text": [
      "Batch 0\n",
      "train loss: 0.1391 [0/27652]\n",
      "Finished with batches...\n",
      "Finished with one full epoch...\n",
      "Finished all batches in validation...\n",
      "Finished with calculating metrics...\n",
      "Epoch 815\n",
      "---------------\n"
     ]
    },
    {
     "name": "stderr",
     "output_type": "stream",
     "text": [
      "/home/yang1641/.local/lib/python3.8/site-packages/sklearn/metrics/_ranking.py:980: UserWarning: No positive class found in y_true, recall is set to one for all thresholds.\n",
      "  warnings.warn(\n"
     ]
    },
    {
     "name": "stdout",
     "output_type": "stream",
     "text": [
      "Batch 0\n",
      "train loss: 0.1393 [0/27652]\n",
      "Finished with batches...\n",
      "Finished with one full epoch...\n",
      "Finished all batches in validation...\n",
      "Finished with calculating metrics...\n",
      "Epoch 816\n",
      "---------------\n"
     ]
    },
    {
     "name": "stderr",
     "output_type": "stream",
     "text": [
      "/home/yang1641/.local/lib/python3.8/site-packages/sklearn/metrics/_ranking.py:980: UserWarning: No positive class found in y_true, recall is set to one for all thresholds.\n",
      "  warnings.warn(\n"
     ]
    },
    {
     "name": "stdout",
     "output_type": "stream",
     "text": [
      "Batch 0\n",
      "train loss: 0.1399 [0/27652]\n",
      "Finished with batches...\n",
      "Finished with one full epoch...\n",
      "Finished all batches in validation...\n",
      "Finished with calculating metrics...\n",
      "Epoch 817\n",
      "---------------\n"
     ]
    },
    {
     "name": "stderr",
     "output_type": "stream",
     "text": [
      "/home/yang1641/.local/lib/python3.8/site-packages/sklearn/metrics/_ranking.py:980: UserWarning: No positive class found in y_true, recall is set to one for all thresholds.\n",
      "  warnings.warn(\n"
     ]
    },
    {
     "name": "stdout",
     "output_type": "stream",
     "text": [
      "Batch 0\n",
      "train loss: 0.1393 [0/27652]\n",
      "Finished with batches...\n",
      "Finished with one full epoch...\n",
      "Finished all batches in validation...\n",
      "Finished with calculating metrics...\n",
      "Epoch 818\n",
      "---------------\n"
     ]
    },
    {
     "name": "stderr",
     "output_type": "stream",
     "text": [
      "/home/yang1641/.local/lib/python3.8/site-packages/sklearn/metrics/_ranking.py:980: UserWarning: No positive class found in y_true, recall is set to one for all thresholds.\n",
      "  warnings.warn(\n"
     ]
    },
    {
     "name": "stdout",
     "output_type": "stream",
     "text": [
      "Batch 0\n",
      "train loss: 0.1388 [0/27652]\n",
      "Finished with batches...\n",
      "Finished with one full epoch...\n",
      "Finished all batches in validation...\n",
      "Finished with calculating metrics...\n",
      "Epoch 819\n",
      "---------------\n",
      "Batch 0\n",
      "train loss: 0.1390 [0/27652]\n",
      "Finished with batches...\n",
      "Finished with one full epoch...\n",
      "Finished all batches in validation...\n",
      "Finished with calculating metrics...\n",
      "Epoch 820\n",
      "---------------\n",
      "Batch 0\n",
      "train loss: 0.1380 [0/27652]\n",
      "Finished with batches...\n",
      "Finished with one full epoch...\n",
      "Finished all batches in validation...\n",
      "Finished with calculating metrics...\n",
      "Epoch 821\n",
      "---------------\n"
     ]
    },
    {
     "name": "stderr",
     "output_type": "stream",
     "text": [
      "/home/yang1641/.local/lib/python3.8/site-packages/sklearn/metrics/_ranking.py:980: UserWarning: No positive class found in y_true, recall is set to one for all thresholds.\n",
      "  warnings.warn(\n"
     ]
    },
    {
     "name": "stdout",
     "output_type": "stream",
     "text": [
      "Batch 0\n",
      "train loss: 0.1387 [0/27652]\n",
      "Finished with batches...\n",
      "Finished with one full epoch...\n",
      "Finished all batches in validation...\n",
      "Finished with calculating metrics...\n",
      "Epoch 822\n",
      "---------------\n"
     ]
    },
    {
     "name": "stderr",
     "output_type": "stream",
     "text": [
      "/home/yang1641/.local/lib/python3.8/site-packages/sklearn/metrics/_ranking.py:980: UserWarning: No positive class found in y_true, recall is set to one for all thresholds.\n",
      "  warnings.warn(\n"
     ]
    },
    {
     "name": "stdout",
     "output_type": "stream",
     "text": [
      "Batch 0\n",
      "train loss: 0.1399 [0/27652]\n",
      "Finished with batches...\n",
      "Finished with one full epoch...\n",
      "Finished all batches in validation...\n",
      "Finished with calculating metrics...\n",
      "Epoch 823\n",
      "---------------\n"
     ]
    },
    {
     "name": "stderr",
     "output_type": "stream",
     "text": [
      "/home/yang1641/.local/lib/python3.8/site-packages/sklearn/metrics/_ranking.py:980: UserWarning: No positive class found in y_true, recall is set to one for all thresholds.\n",
      "  warnings.warn(\n"
     ]
    },
    {
     "name": "stdout",
     "output_type": "stream",
     "text": [
      "Batch 0\n",
      "train loss: 0.1388 [0/27652]\n",
      "Finished with batches...\n",
      "Finished with one full epoch...\n",
      "Finished all batches in validation...\n",
      "Finished with calculating metrics...\n",
      "Epoch 824\n",
      "---------------\n"
     ]
    },
    {
     "name": "stderr",
     "output_type": "stream",
     "text": [
      "/home/yang1641/.local/lib/python3.8/site-packages/sklearn/metrics/_ranking.py:980: UserWarning: No positive class found in y_true, recall is set to one for all thresholds.\n",
      "  warnings.warn(\n"
     ]
    },
    {
     "name": "stdout",
     "output_type": "stream",
     "text": [
      "Batch 0\n",
      "train loss: 0.1402 [0/27652]\n",
      "Finished with batches...\n",
      "Finished with one full epoch...\n",
      "Finished all batches in validation...\n",
      "Finished with calculating metrics...\n",
      "Epoch 825\n",
      "---------------\n"
     ]
    },
    {
     "name": "stderr",
     "output_type": "stream",
     "text": [
      "/home/yang1641/.local/lib/python3.8/site-packages/sklearn/metrics/_ranking.py:980: UserWarning: No positive class found in y_true, recall is set to one for all thresholds.\n",
      "  warnings.warn(\n"
     ]
    },
    {
     "name": "stdout",
     "output_type": "stream",
     "text": [
      "Batch 0\n",
      "train loss: 0.1408 [0/27652]\n",
      "Finished with batches...\n",
      "Finished with one full epoch...\n",
      "Finished all batches in validation...\n",
      "Finished with calculating metrics...\n",
      "Epoch 826\n",
      "---------------\n"
     ]
    },
    {
     "name": "stderr",
     "output_type": "stream",
     "text": [
      "/home/yang1641/.local/lib/python3.8/site-packages/sklearn/metrics/_ranking.py:980: UserWarning: No positive class found in y_true, recall is set to one for all thresholds.\n",
      "  warnings.warn(\n"
     ]
    },
    {
     "name": "stdout",
     "output_type": "stream",
     "text": [
      "Batch 0\n",
      "train loss: 0.1396 [0/27652]\n",
      "Finished with batches...\n",
      "Finished with one full epoch...\n",
      "Finished all batches in validation...\n",
      "Finished with calculating metrics...\n",
      "Epoch 827\n",
      "---------------\n"
     ]
    },
    {
     "name": "stderr",
     "output_type": "stream",
     "text": [
      "/home/yang1641/.local/lib/python3.8/site-packages/sklearn/metrics/_ranking.py:980: UserWarning: No positive class found in y_true, recall is set to one for all thresholds.\n",
      "  warnings.warn(\n"
     ]
    },
    {
     "name": "stdout",
     "output_type": "stream",
     "text": [
      "Batch 0\n",
      "train loss: 0.1408 [0/27652]\n",
      "Finished with batches...\n",
      "Finished with one full epoch...\n",
      "Finished all batches in validation...\n",
      "Finished with calculating metrics...\n",
      "Epoch 828\n",
      "---------------\n"
     ]
    },
    {
     "name": "stderr",
     "output_type": "stream",
     "text": [
      "/home/yang1641/.local/lib/python3.8/site-packages/sklearn/metrics/_ranking.py:980: UserWarning: No positive class found in y_true, recall is set to one for all thresholds.\n",
      "  warnings.warn(\n",
      "/home/yang1641/.local/lib/python3.8/site-packages/sklearn/metrics/_ranking.py:980: UserWarning: No positive class found in y_true, recall is set to one for all thresholds.\n",
      "  warnings.warn(\n"
     ]
    },
    {
     "name": "stdout",
     "output_type": "stream",
     "text": [
      "Batch 0\n",
      "train loss: 0.1388 [0/27652]\n",
      "Finished with batches...\n",
      "Finished with one full epoch...\n",
      "Finished all batches in validation...\n",
      "Finished with calculating metrics...\n",
      "Epoch 829\n",
      "---------------\n"
     ]
    },
    {
     "name": "stderr",
     "output_type": "stream",
     "text": [
      "/home/yang1641/.local/lib/python3.8/site-packages/sklearn/metrics/_ranking.py:980: UserWarning: No positive class found in y_true, recall is set to one for all thresholds.\n",
      "  warnings.warn(\n",
      "/home/yang1641/.local/lib/python3.8/site-packages/sklearn/metrics/_ranking.py:980: UserWarning: No positive class found in y_true, recall is set to one for all thresholds.\n",
      "  warnings.warn(\n"
     ]
    },
    {
     "name": "stdout",
     "output_type": "stream",
     "text": [
      "Batch 0\n",
      "train loss: 0.1393 [0/27652]\n",
      "Finished with batches...\n",
      "Finished with one full epoch...\n",
      "Finished all batches in validation...\n",
      "Finished with calculating metrics...\n",
      "Epoch 830\n",
      "---------------\n"
     ]
    },
    {
     "name": "stderr",
     "output_type": "stream",
     "text": [
      "/home/yang1641/.local/lib/python3.8/site-packages/sklearn/metrics/_ranking.py:980: UserWarning: No positive class found in y_true, recall is set to one for all thresholds.\n",
      "  warnings.warn(\n",
      "/home/yang1641/.local/lib/python3.8/site-packages/sklearn/metrics/_ranking.py:980: UserWarning: No positive class found in y_true, recall is set to one for all thresholds.\n",
      "  warnings.warn(\n"
     ]
    },
    {
     "name": "stdout",
     "output_type": "stream",
     "text": [
      "Batch 0\n",
      "train loss: 0.1401 [0/27652]\n",
      "Finished with batches...\n",
      "Finished with one full epoch...\n",
      "Finished all batches in validation...\n",
      "Finished with calculating metrics...\n",
      "Epoch 831\n",
      "---------------\n"
     ]
    },
    {
     "name": "stderr",
     "output_type": "stream",
     "text": [
      "/home/yang1641/.local/lib/python3.8/site-packages/sklearn/metrics/_ranking.py:980: UserWarning: No positive class found in y_true, recall is set to one for all thresholds.\n",
      "  warnings.warn(\n"
     ]
    },
    {
     "name": "stdout",
     "output_type": "stream",
     "text": [
      "Batch 0\n",
      "train loss: 0.1394 [0/27652]\n",
      "Finished with batches...\n",
      "Finished with one full epoch...\n",
      "Finished all batches in validation...\n",
      "Finished with calculating metrics...\n",
      "Epoch 832\n",
      "---------------\n"
     ]
    },
    {
     "name": "stderr",
     "output_type": "stream",
     "text": [
      "/home/yang1641/.local/lib/python3.8/site-packages/sklearn/metrics/_ranking.py:980: UserWarning: No positive class found in y_true, recall is set to one for all thresholds.\n",
      "  warnings.warn(\n"
     ]
    },
    {
     "name": "stdout",
     "output_type": "stream",
     "text": [
      "Batch 0\n",
      "train loss: 0.1398 [0/27652]\n",
      "Finished with batches...\n",
      "Finished with one full epoch...\n",
      "Finished all batches in validation...\n",
      "Finished with calculating metrics...\n",
      "Epoch 833\n",
      "---------------\n",
      "Batch 0\n",
      "train loss: 0.1402 [0/27652]\n",
      "Finished with batches...\n",
      "Finished with one full epoch...\n",
      "Finished all batches in validation...\n",
      "Finished with calculating metrics...\n",
      "Epoch 834\n",
      "---------------\n"
     ]
    },
    {
     "name": "stderr",
     "output_type": "stream",
     "text": [
      "/home/yang1641/.local/lib/python3.8/site-packages/sklearn/metrics/_ranking.py:980: UserWarning: No positive class found in y_true, recall is set to one for all thresholds.\n",
      "  warnings.warn(\n"
     ]
    },
    {
     "name": "stdout",
     "output_type": "stream",
     "text": [
      "Batch 0\n",
      "train loss: 0.1387 [0/27652]\n",
      "Finished with batches...\n",
      "Finished with one full epoch...\n",
      "Finished all batches in validation...\n",
      "Finished with calculating metrics...\n",
      "Epoch 835\n",
      "---------------\n"
     ]
    },
    {
     "name": "stderr",
     "output_type": "stream",
     "text": [
      "/home/yang1641/.local/lib/python3.8/site-packages/sklearn/metrics/_ranking.py:980: UserWarning: No positive class found in y_true, recall is set to one for all thresholds.\n",
      "  warnings.warn(\n"
     ]
    },
    {
     "name": "stdout",
     "output_type": "stream",
     "text": [
      "Batch 0\n",
      "train loss: 0.1393 [0/27652]\n",
      "Finished with batches...\n",
      "Finished with one full epoch...\n",
      "Finished all batches in validation...\n",
      "Finished with calculating metrics...\n",
      "Epoch 836\n",
      "---------------\n"
     ]
    },
    {
     "name": "stderr",
     "output_type": "stream",
     "text": [
      "/home/yang1641/.local/lib/python3.8/site-packages/sklearn/metrics/_ranking.py:980: UserWarning: No positive class found in y_true, recall is set to one for all thresholds.\n",
      "  warnings.warn(\n"
     ]
    },
    {
     "name": "stdout",
     "output_type": "stream",
     "text": [
      "Batch 0\n",
      "train loss: 0.1385 [0/27652]\n",
      "Finished with batches...\n",
      "Finished with one full epoch...\n",
      "Finished all batches in validation...\n",
      "Finished with calculating metrics...\n",
      "Epoch 837\n",
      "---------------\n"
     ]
    },
    {
     "name": "stderr",
     "output_type": "stream",
     "text": [
      "/home/yang1641/.local/lib/python3.8/site-packages/sklearn/metrics/_ranking.py:980: UserWarning: No positive class found in y_true, recall is set to one for all thresholds.\n",
      "  warnings.warn(\n"
     ]
    },
    {
     "name": "stdout",
     "output_type": "stream",
     "text": [
      "Batch 0\n",
      "train loss: 0.1385 [0/27652]\n",
      "Finished with batches...\n",
      "Finished with one full epoch...\n",
      "Finished all batches in validation...\n",
      "Finished with calculating metrics...\n",
      "Epoch 838\n",
      "---------------\n",
      "Batch 0\n",
      "train loss: 0.1407 [0/27652]\n",
      "Finished with batches...\n",
      "Finished with one full epoch...\n",
      "Finished all batches in validation...\n",
      "Finished with calculating metrics...\n",
      "Epoch 839\n",
      "---------------\n",
      "Batch 0\n",
      "train loss: 0.1394 [0/27652]\n",
      "Finished with batches...\n",
      "Finished with one full epoch...\n",
      "Finished all batches in validation...\n",
      "Finished with calculating metrics...\n",
      "Epoch 840\n",
      "---------------\n",
      "Batch 0\n",
      "train loss: 0.1379 [0/27652]\n",
      "Finished with batches...\n",
      "Finished with one full epoch...\n",
      "Finished all batches in validation...\n",
      "Finished with calculating metrics...\n",
      "Epoch 841\n",
      "---------------\n",
      "Batch 0\n",
      "train loss: 0.1389 [0/27652]\n",
      "Finished with batches...\n",
      "Finished with one full epoch...\n",
      "Finished all batches in validation...\n",
      "Finished with calculating metrics...\n",
      "Epoch 842\n",
      "---------------\n",
      "Batch 0\n",
      "train loss: 0.1397 [0/27652]\n",
      "Finished with batches...\n",
      "Finished with one full epoch...\n",
      "Finished all batches in validation...\n",
      "Finished with calculating metrics...\n",
      "Epoch 843\n",
      "---------------\n",
      "Batch 0\n",
      "train loss: 0.1395 [0/27652]\n",
      "Finished with batches...\n",
      "Finished with one full epoch...\n",
      "Finished all batches in validation...\n",
      "Finished with calculating metrics...\n",
      "Epoch 844\n",
      "---------------\n",
      "Batch 0\n",
      "train loss: 0.1391 [0/27652]\n",
      "Finished with batches...\n",
      "Finished with one full epoch...\n",
      "Finished all batches in validation...\n",
      "Finished with calculating metrics...\n",
      "Epoch 845\n",
      "---------------\n",
      "Batch 0\n",
      "train loss: 0.1396 [0/27652]\n",
      "Finished with batches...\n",
      "Finished with one full epoch...\n",
      "Finished all batches in validation...\n",
      "Finished with calculating metrics...\n",
      "Epoch 846\n",
      "---------------\n",
      "Batch 0\n",
      "train loss: 0.1399 [0/27652]\n",
      "Finished with batches...\n",
      "Finished with one full epoch...\n",
      "Finished all batches in validation...\n",
      "Finished with calculating metrics...\n",
      "Epoch 847\n",
      "---------------\n",
      "Batch 0\n",
      "train loss: 0.1379 [0/27652]\n",
      "Finished with batches...\n",
      "Finished with one full epoch...\n",
      "Finished all batches in validation...\n",
      "Finished with calculating metrics...\n",
      "Epoch 848\n",
      "---------------\n",
      "Batch 0\n",
      "train loss: 0.1393 [0/27652]\n",
      "Finished with batches...\n",
      "Finished with one full epoch...\n",
      "Finished all batches in validation...\n",
      "Finished with calculating metrics...\n",
      "Epoch 849\n",
      "---------------\n",
      "Batch 0\n",
      "train loss: 0.1383 [0/27652]\n",
      "Finished with batches...\n",
      "Finished with one full epoch...\n",
      "Finished all batches in validation...\n",
      "Finished with calculating metrics...\n",
      "Epoch 850\n",
      "---------------\n",
      "Batch 0\n",
      "train loss: 0.1377 [0/27652]\n",
      "Finished with batches...\n",
      "Finished with one full epoch...\n",
      "Finished all batches in validation...\n",
      "Finished with calculating metrics...\n",
      "Epoch 851\n",
      "---------------\n",
      "Batch 0\n",
      "train loss: 0.1397 [0/27652]\n",
      "Finished with batches...\n",
      "Finished with one full epoch...\n",
      "Finished all batches in validation...\n",
      "Finished with calculating metrics...\n",
      "Epoch 852\n",
      "---------------\n",
      "Batch 0\n",
      "train loss: 0.1383 [0/27652]\n",
      "Finished with batches...\n",
      "Finished with one full epoch...\n",
      "Finished all batches in validation...\n",
      "Finished with calculating metrics...\n",
      "Epoch 853\n",
      "---------------\n",
      "Batch 0\n",
      "train loss: 0.1381 [0/27652]\n",
      "Finished with batches...\n",
      "Finished with one full epoch...\n",
      "Finished all batches in validation...\n",
      "Finished with calculating metrics...\n",
      "Epoch 854\n",
      "---------------\n",
      "Batch 0\n",
      "train loss: 0.1389 [0/27652]\n",
      "Finished with batches...\n",
      "Finished with one full epoch...\n",
      "Finished all batches in validation...\n",
      "Finished with calculating metrics...\n",
      "Epoch 855\n",
      "---------------\n",
      "Batch 0\n",
      "train loss: 0.1391 [0/27652]\n",
      "Finished with batches...\n",
      "Finished with one full epoch...\n",
      "Finished all batches in validation...\n",
      "Finished with calculating metrics...\n",
      "Epoch 856\n",
      "---------------\n"
     ]
    },
    {
     "name": "stderr",
     "output_type": "stream",
     "text": [
      "/home/yang1641/.local/lib/python3.8/site-packages/sklearn/metrics/_ranking.py:980: UserWarning: No positive class found in y_true, recall is set to one for all thresholds.\n",
      "  warnings.warn(\n"
     ]
    },
    {
     "name": "stdout",
     "output_type": "stream",
     "text": [
      "Batch 0\n",
      "train loss: 0.1381 [0/27652]\n",
      "Finished with batches...\n",
      "Finished with one full epoch...\n",
      "Finished all batches in validation...\n",
      "Finished with calculating metrics...\n",
      "Epoch 857\n",
      "---------------\n"
     ]
    },
    {
     "name": "stderr",
     "output_type": "stream",
     "text": [
      "/home/yang1641/.local/lib/python3.8/site-packages/sklearn/metrics/_ranking.py:980: UserWarning: No positive class found in y_true, recall is set to one for all thresholds.\n",
      "  warnings.warn(\n"
     ]
    },
    {
     "name": "stdout",
     "output_type": "stream",
     "text": [
      "Batch 0\n",
      "train loss: 0.1394 [0/27652]\n",
      "Finished with batches...\n",
      "Finished with one full epoch...\n",
      "Finished all batches in validation...\n",
      "Finished with calculating metrics...\n",
      "Epoch 858\n",
      "---------------\n"
     ]
    },
    {
     "name": "stderr",
     "output_type": "stream",
     "text": [
      "/home/yang1641/.local/lib/python3.8/site-packages/sklearn/metrics/_ranking.py:980: UserWarning: No positive class found in y_true, recall is set to one for all thresholds.\n",
      "  warnings.warn(\n"
     ]
    },
    {
     "name": "stdout",
     "output_type": "stream",
     "text": [
      "Batch 0\n",
      "train loss: 0.1369 [0/27652]\n",
      "Finished with batches...\n",
      "Finished with one full epoch...\n",
      "Finished all batches in validation...\n",
      "Finished with calculating metrics...\n",
      "Epoch 859\n",
      "---------------\n"
     ]
    },
    {
     "name": "stderr",
     "output_type": "stream",
     "text": [
      "/home/yang1641/.local/lib/python3.8/site-packages/sklearn/metrics/_ranking.py:980: UserWarning: No positive class found in y_true, recall is set to one for all thresholds.\n",
      "  warnings.warn(\n"
     ]
    },
    {
     "name": "stdout",
     "output_type": "stream",
     "text": [
      "Batch 0\n",
      "train loss: 0.1394 [0/27652]\n",
      "Finished with batches...\n",
      "Finished with one full epoch...\n",
      "Finished all batches in validation...\n",
      "Finished with calculating metrics...\n",
      "Epoch 860\n",
      "---------------\n"
     ]
    },
    {
     "name": "stderr",
     "output_type": "stream",
     "text": [
      "/home/yang1641/.local/lib/python3.8/site-packages/sklearn/metrics/_ranking.py:980: UserWarning: No positive class found in y_true, recall is set to one for all thresholds.\n",
      "  warnings.warn(\n"
     ]
    },
    {
     "name": "stdout",
     "output_type": "stream",
     "text": [
      "Batch 0\n",
      "train loss: 0.1391 [0/27652]\n",
      "Finished with batches...\n",
      "Finished with one full epoch...\n",
      "Finished all batches in validation...\n",
      "Finished with calculating metrics...\n",
      "Epoch 861\n",
      "---------------\n"
     ]
    },
    {
     "name": "stderr",
     "output_type": "stream",
     "text": [
      "/home/yang1641/.local/lib/python3.8/site-packages/sklearn/metrics/_ranking.py:980: UserWarning: No positive class found in y_true, recall is set to one for all thresholds.\n",
      "  warnings.warn(\n"
     ]
    },
    {
     "name": "stdout",
     "output_type": "stream",
     "text": [
      "Batch 0\n",
      "train loss: 0.1406 [0/27652]\n",
      "Finished with batches...\n",
      "Finished with one full epoch...\n",
      "Finished all batches in validation...\n",
      "Finished with calculating metrics...\n",
      "Epoch 862\n",
      "---------------\n"
     ]
    },
    {
     "name": "stderr",
     "output_type": "stream",
     "text": [
      "/home/yang1641/.local/lib/python3.8/site-packages/sklearn/metrics/_ranking.py:980: UserWarning: No positive class found in y_true, recall is set to one for all thresholds.\n",
      "  warnings.warn(\n"
     ]
    },
    {
     "name": "stdout",
     "output_type": "stream",
     "text": [
      "Batch 0\n",
      "train loss: 0.1392 [0/27652]\n",
      "Finished with batches...\n",
      "Finished with one full epoch...\n",
      "Finished all batches in validation...\n",
      "Finished with calculating metrics...\n",
      "Epoch 863\n",
      "---------------\n"
     ]
    },
    {
     "name": "stderr",
     "output_type": "stream",
     "text": [
      "/home/yang1641/.local/lib/python3.8/site-packages/sklearn/metrics/_ranking.py:980: UserWarning: No positive class found in y_true, recall is set to one for all thresholds.\n",
      "  warnings.warn(\n"
     ]
    },
    {
     "name": "stdout",
     "output_type": "stream",
     "text": [
      "Batch 0\n",
      "train loss: 0.1390 [0/27652]\n",
      "Finished with batches...\n",
      "Finished with one full epoch...\n",
      "Finished all batches in validation...\n",
      "Finished with calculating metrics...\n",
      "Epoch 864\n",
      "---------------\n"
     ]
    },
    {
     "name": "stderr",
     "output_type": "stream",
     "text": [
      "/home/yang1641/.local/lib/python3.8/site-packages/sklearn/metrics/_ranking.py:980: UserWarning: No positive class found in y_true, recall is set to one for all thresholds.\n",
      "  warnings.warn(\n"
     ]
    },
    {
     "name": "stdout",
     "output_type": "stream",
     "text": [
      "Batch 0\n",
      "train loss: 0.1408 [0/27652]\n",
      "Finished with batches...\n",
      "Finished with one full epoch...\n",
      "Finished all batches in validation...\n",
      "Finished with calculating metrics...\n",
      "Epoch 865\n",
      "---------------\n"
     ]
    },
    {
     "name": "stderr",
     "output_type": "stream",
     "text": [
      "/home/yang1641/.local/lib/python3.8/site-packages/sklearn/metrics/_ranking.py:980: UserWarning: No positive class found in y_true, recall is set to one for all thresholds.\n",
      "  warnings.warn(\n"
     ]
    },
    {
     "name": "stdout",
     "output_type": "stream",
     "text": [
      "Batch 0\n",
      "train loss: 0.1398 [0/27652]\n",
      "Finished with batches...\n",
      "Finished with one full epoch...\n",
      "Finished all batches in validation...\n",
      "Finished with calculating metrics...\n",
      "Epoch 866\n",
      "---------------\n"
     ]
    },
    {
     "name": "stderr",
     "output_type": "stream",
     "text": [
      "/home/yang1641/.local/lib/python3.8/site-packages/sklearn/metrics/_ranking.py:980: UserWarning: No positive class found in y_true, recall is set to one for all thresholds.\n",
      "  warnings.warn(\n"
     ]
    },
    {
     "name": "stdout",
     "output_type": "stream",
     "text": [
      "Batch 0\n",
      "train loss: 0.1392 [0/27652]\n",
      "Finished with batches...\n",
      "Finished with one full epoch...\n",
      "Finished all batches in validation...\n",
      "Finished with calculating metrics...\n",
      "Epoch 867\n",
      "---------------\n"
     ]
    },
    {
     "name": "stderr",
     "output_type": "stream",
     "text": [
      "/home/yang1641/.local/lib/python3.8/site-packages/sklearn/metrics/_ranking.py:980: UserWarning: No positive class found in y_true, recall is set to one for all thresholds.\n",
      "  warnings.warn(\n",
      "/home/yang1641/.local/lib/python3.8/site-packages/sklearn/metrics/_ranking.py:980: UserWarning: No positive class found in y_true, recall is set to one for all thresholds.\n",
      "  warnings.warn(\n"
     ]
    },
    {
     "name": "stdout",
     "output_type": "stream",
     "text": [
      "Batch 0\n",
      "train loss: 0.1381 [0/27652]\n",
      "Finished with batches...\n",
      "Finished with one full epoch...\n",
      "Finished all batches in validation...\n",
      "Finished with calculating metrics...\n",
      "Epoch 868\n",
      "---------------\n"
     ]
    },
    {
     "name": "stderr",
     "output_type": "stream",
     "text": [
      "/home/yang1641/.local/lib/python3.8/site-packages/sklearn/metrics/_ranking.py:980: UserWarning: No positive class found in y_true, recall is set to one for all thresholds.\n",
      "  warnings.warn(\n"
     ]
    },
    {
     "name": "stdout",
     "output_type": "stream",
     "text": [
      "Batch 0\n",
      "train loss: 0.1390 [0/27652]\n",
      "Finished with batches...\n",
      "Finished with one full epoch...\n",
      "Finished all batches in validation...\n",
      "Finished with calculating metrics...\n",
      "Epoch 869\n",
      "---------------\n"
     ]
    },
    {
     "name": "stderr",
     "output_type": "stream",
     "text": [
      "/home/yang1641/.local/lib/python3.8/site-packages/sklearn/metrics/_ranking.py:980: UserWarning: No positive class found in y_true, recall is set to one for all thresholds.\n",
      "  warnings.warn(\n"
     ]
    },
    {
     "name": "stdout",
     "output_type": "stream",
     "text": [
      "Batch 0\n",
      "train loss: 0.1402 [0/27652]\n",
      "Finished with batches...\n",
      "Finished with one full epoch...\n",
      "Finished all batches in validation...\n",
      "Finished with calculating metrics...\n",
      "Epoch 870\n",
      "---------------\n"
     ]
    },
    {
     "name": "stderr",
     "output_type": "stream",
     "text": [
      "/home/yang1641/.local/lib/python3.8/site-packages/sklearn/metrics/_ranking.py:980: UserWarning: No positive class found in y_true, recall is set to one for all thresholds.\n",
      "  warnings.warn(\n"
     ]
    },
    {
     "name": "stdout",
     "output_type": "stream",
     "text": [
      "Batch 0\n",
      "train loss: 0.1399 [0/27652]\n",
      "Finished with batches...\n",
      "Finished with one full epoch...\n",
      "Finished all batches in validation...\n",
      "Finished with calculating metrics...\n",
      "Epoch 871\n",
      "---------------\n"
     ]
    },
    {
     "name": "stderr",
     "output_type": "stream",
     "text": [
      "/home/yang1641/.local/lib/python3.8/site-packages/sklearn/metrics/_ranking.py:980: UserWarning: No positive class found in y_true, recall is set to one for all thresholds.\n",
      "  warnings.warn(\n"
     ]
    },
    {
     "name": "stdout",
     "output_type": "stream",
     "text": [
      "Batch 0\n",
      "train loss: 0.1396 [0/27652]\n",
      "Finished with batches...\n",
      "Finished with one full epoch...\n",
      "Finished all batches in validation...\n",
      "Finished with calculating metrics...\n",
      "Epoch 872\n",
      "---------------\n"
     ]
    },
    {
     "name": "stderr",
     "output_type": "stream",
     "text": [
      "/home/yang1641/.local/lib/python3.8/site-packages/sklearn/metrics/_ranking.py:980: UserWarning: No positive class found in y_true, recall is set to one for all thresholds.\n",
      "  warnings.warn(\n"
     ]
    },
    {
     "name": "stdout",
     "output_type": "stream",
     "text": [
      "Batch 0\n",
      "train loss: 0.1406 [0/27652]\n",
      "Finished with batches...\n",
      "Finished with one full epoch...\n",
      "Finished all batches in validation...\n",
      "Finished with calculating metrics...\n",
      "Epoch 873\n",
      "---------------\n",
      "Batch 0\n",
      "train loss: 0.1394 [0/27652]\n",
      "Finished with batches...\n",
      "Finished with one full epoch...\n",
      "Finished all batches in validation...\n",
      "Finished with calculating metrics...\n",
      "Epoch 874\n",
      "---------------\n",
      "Batch 0\n",
      "train loss: 0.1399 [0/27652]\n",
      "Finished with batches...\n",
      "Finished with one full epoch...\n",
      "Finished all batches in validation...\n",
      "Finished with calculating metrics...\n",
      "Epoch 875\n",
      "---------------\n",
      "Batch 0\n",
      "train loss: 0.1395 [0/27652]\n",
      "Finished with batches...\n",
      "Finished with one full epoch...\n",
      "Finished all batches in validation...\n",
      "Finished with calculating metrics...\n",
      "Epoch 876\n",
      "---------------\n",
      "Batch 0\n",
      "train loss: 0.1399 [0/27652]\n",
      "Finished with batches...\n",
      "Finished with one full epoch...\n",
      "Finished all batches in validation...\n",
      "Finished with calculating metrics...\n",
      "Epoch 877\n",
      "---------------\n"
     ]
    },
    {
     "name": "stderr",
     "output_type": "stream",
     "text": [
      "/home/yang1641/.local/lib/python3.8/site-packages/sklearn/metrics/_ranking.py:980: UserWarning: No positive class found in y_true, recall is set to one for all thresholds.\n",
      "  warnings.warn(\n"
     ]
    },
    {
     "name": "stdout",
     "output_type": "stream",
     "text": [
      "Batch 0\n",
      "train loss: 0.1394 [0/27652]\n",
      "Finished with batches...\n",
      "Finished with one full epoch...\n",
      "Finished all batches in validation...\n",
      "Finished with calculating metrics...\n",
      "Epoch 878\n",
      "---------------\n",
      "Batch 0\n",
      "train loss: 0.1409 [0/27652]\n",
      "Finished with batches...\n",
      "Finished with one full epoch...\n",
      "Finished all batches in validation...\n",
      "Finished with calculating metrics...\n",
      "Epoch 879\n",
      "---------------\n",
      "Batch 0\n",
      "train loss: 0.1399 [0/27652]\n",
      "Finished with batches...\n",
      "Finished with one full epoch...\n",
      "Finished all batches in validation...\n",
      "Finished with calculating metrics...\n",
      "Epoch 880\n",
      "---------------\n",
      "Batch 0\n",
      "train loss: 0.1395 [0/27652]\n",
      "Finished with batches...\n",
      "Finished with one full epoch...\n",
      "Finished all batches in validation...\n",
      "Finished with calculating metrics...\n",
      "Epoch 881\n",
      "---------------\n",
      "Batch 0\n",
      "train loss: 0.1392 [0/27652]\n",
      "Finished with batches...\n",
      "Finished with one full epoch...\n",
      "Finished all batches in validation...\n",
      "Finished with calculating metrics...\n",
      "Epoch 882\n",
      "---------------\n",
      "Batch 0\n",
      "train loss: 0.1378 [0/27652]\n",
      "Finished with batches...\n",
      "Finished with one full epoch...\n",
      "Finished all batches in validation...\n",
      "Finished with calculating metrics...\n",
      "Epoch 883\n",
      "---------------\n",
      "Batch 0\n",
      "train loss: 0.1383 [0/27652]\n",
      "Finished with batches...\n",
      "Finished with one full epoch...\n",
      "Finished all batches in validation...\n",
      "Finished with calculating metrics...\n",
      "Epoch 884\n",
      "---------------\n",
      "Batch 0\n",
      "train loss: 0.1399 [0/27652]\n",
      "Finished with batches...\n",
      "Finished with one full epoch...\n",
      "Finished all batches in validation...\n",
      "Finished with calculating metrics...\n",
      "Epoch 885\n",
      "---------------\n",
      "Batch 0\n",
      "train loss: 0.1394 [0/27652]\n",
      "Finished with batches...\n",
      "Finished with one full epoch...\n",
      "Finished all batches in validation...\n",
      "Finished with calculating metrics...\n",
      "Epoch 886\n",
      "---------------\n"
     ]
    },
    {
     "name": "stderr",
     "output_type": "stream",
     "text": [
      "/home/yang1641/.local/lib/python3.8/site-packages/sklearn/metrics/_ranking.py:980: UserWarning: No positive class found in y_true, recall is set to one for all thresholds.\n",
      "  warnings.warn(\n"
     ]
    },
    {
     "name": "stdout",
     "output_type": "stream",
     "text": [
      "Batch 0\n",
      "train loss: 0.1399 [0/27652]\n",
      "Finished with batches...\n",
      "Finished with one full epoch...\n",
      "Finished all batches in validation...\n",
      "Finished with calculating metrics...\n",
      "Epoch 887\n",
      "---------------\n"
     ]
    },
    {
     "name": "stderr",
     "output_type": "stream",
     "text": [
      "/home/yang1641/.local/lib/python3.8/site-packages/sklearn/metrics/_ranking.py:980: UserWarning: No positive class found in y_true, recall is set to one for all thresholds.\n",
      "  warnings.warn(\n"
     ]
    },
    {
     "name": "stdout",
     "output_type": "stream",
     "text": [
      "Batch 0\n",
      "train loss: 0.1398 [0/27652]\n",
      "Finished with batches...\n",
      "Finished with one full epoch...\n",
      "Finished all batches in validation...\n",
      "Finished with calculating metrics...\n",
      "Epoch 888\n",
      "---------------\n"
     ]
    },
    {
     "name": "stderr",
     "output_type": "stream",
     "text": [
      "/home/yang1641/.local/lib/python3.8/site-packages/sklearn/metrics/_ranking.py:980: UserWarning: No positive class found in y_true, recall is set to one for all thresholds.\n",
      "  warnings.warn(\n"
     ]
    },
    {
     "name": "stdout",
     "output_type": "stream",
     "text": [
      "Batch 0\n",
      "train loss: 0.1399 [0/27652]\n",
      "Finished with batches...\n",
      "Finished with one full epoch...\n",
      "Finished all batches in validation...\n",
      "Finished with calculating metrics...\n",
      "Epoch 889\n",
      "---------------\n",
      "Batch 0\n",
      "train loss: 0.1391 [0/27652]\n",
      "Finished with batches...\n",
      "Finished with one full epoch...\n",
      "Finished all batches in validation...\n",
      "Finished with calculating metrics...\n",
      "Epoch 890\n",
      "---------------\n",
      "Batch 0\n",
      "train loss: 0.1399 [0/27652]\n",
      "Finished with batches...\n",
      "Finished with one full epoch...\n",
      "Finished all batches in validation...\n",
      "Finished with calculating metrics...\n",
      "Epoch 891\n",
      "---------------\n",
      "Batch 0\n",
      "train loss: 0.1401 [0/27652]\n",
      "Finished with batches...\n",
      "Finished with one full epoch...\n",
      "Finished all batches in validation...\n",
      "Finished with calculating metrics...\n",
      "Epoch 892\n",
      "---------------\n",
      "Batch 0\n",
      "train loss: 0.1404 [0/27652]\n",
      "Finished with batches...\n",
      "Finished with one full epoch...\n",
      "Finished all batches in validation...\n",
      "Finished with calculating metrics...\n",
      "Epoch 893\n",
      "---------------\n",
      "Batch 0\n",
      "train loss: 0.1388 [0/27652]\n",
      "Finished with batches...\n",
      "Finished with one full epoch...\n",
      "Finished all batches in validation...\n",
      "Finished with calculating metrics...\n",
      "Epoch 894\n",
      "---------------\n",
      "Batch 0\n",
      "train loss: 0.1394 [0/27652]\n",
      "Finished with batches...\n",
      "Finished with one full epoch...\n",
      "Finished all batches in validation...\n",
      "Finished with calculating metrics...\n",
      "Epoch 895\n",
      "---------------\n",
      "Batch 0\n",
      "train loss: 0.1398 [0/27652]\n",
      "Finished with batches...\n",
      "Finished with one full epoch...\n",
      "Finished all batches in validation...\n",
      "Finished with calculating metrics...\n",
      "Epoch 896\n",
      "---------------\n",
      "Batch 0\n",
      "train loss: 0.1393 [0/27652]\n",
      "Finished with batches...\n",
      "Finished with one full epoch...\n",
      "Finished all batches in validation...\n",
      "Finished with calculating metrics...\n",
      "Epoch 897\n",
      "---------------\n",
      "Batch 0\n",
      "train loss: 0.1398 [0/27652]\n",
      "Finished with batches...\n",
      "Finished with one full epoch...\n",
      "Finished all batches in validation...\n",
      "Finished with calculating metrics...\n",
      "Epoch 898\n",
      "---------------\n",
      "Batch 0\n",
      "train loss: 0.1390 [0/27652]\n",
      "Finished with batches...\n",
      "Finished with one full epoch...\n",
      "Finished all batches in validation...\n",
      "Finished with calculating metrics...\n",
      "Epoch 899\n",
      "---------------\n",
      "Batch 0\n",
      "train loss: 0.1390 [0/27652]\n",
      "Finished with batches...\n",
      "Finished with one full epoch...\n",
      "Finished all batches in validation...\n",
      "Finished with calculating metrics...\n",
      "Epoch 900\n",
      "---------------\n",
      "Batch 0\n",
      "train loss: 0.1401 [0/27652]\n",
      "Finished with batches...\n",
      "Finished with one full epoch...\n",
      "Finished all batches in validation...\n",
      "Finished with calculating metrics...\n",
      "Epoch 901\n",
      "---------------\n",
      "Batch 0\n",
      "train loss: 0.1394 [0/27652]\n",
      "Finished with batches...\n",
      "Finished with one full epoch...\n",
      "Finished all batches in validation...\n",
      "Finished with calculating metrics...\n",
      "Epoch 902\n",
      "---------------\n",
      "Batch 0\n",
      "train loss: 0.1401 [0/27652]\n",
      "Finished with batches...\n",
      "Finished with one full epoch...\n",
      "Finished all batches in validation...\n",
      "Finished with calculating metrics...\n",
      "Epoch 903\n",
      "---------------\n",
      "Batch 0\n",
      "train loss: 0.1382 [0/27652]\n",
      "Finished with batches...\n",
      "Finished with one full epoch...\n",
      "Finished all batches in validation...\n",
      "Finished with calculating metrics...\n",
      "Epoch 904\n",
      "---------------\n",
      "Batch 0\n",
      "train loss: 0.1391 [0/27652]\n",
      "Finished with batches...\n",
      "Finished with one full epoch...\n",
      "Finished all batches in validation...\n",
      "Finished with calculating metrics...\n",
      "Epoch 905\n",
      "---------------\n",
      "Batch 0\n",
      "train loss: 0.1389 [0/27652]\n",
      "Finished with batches...\n",
      "Finished with one full epoch...\n",
      "Finished all batches in validation...\n",
      "Finished with calculating metrics...\n",
      "Epoch 906\n",
      "---------------\n",
      "Batch 0\n",
      "train loss: 0.1384 [0/27652]\n",
      "Finished with batches...\n",
      "Finished with one full epoch...\n",
      "Finished all batches in validation...\n",
      "Finished with calculating metrics...\n",
      "Epoch 907\n",
      "---------------\n"
     ]
    },
    {
     "name": "stderr",
     "output_type": "stream",
     "text": [
      "/home/yang1641/.local/lib/python3.8/site-packages/sklearn/metrics/_ranking.py:980: UserWarning: No positive class found in y_true, recall is set to one for all thresholds.\n",
      "  warnings.warn(\n"
     ]
    },
    {
     "name": "stdout",
     "output_type": "stream",
     "text": [
      "Batch 0\n",
      "train loss: 0.1379 [0/27652]\n",
      "Finished with batches...\n",
      "Finished with one full epoch...\n",
      "Finished all batches in validation...\n",
      "Finished with calculating metrics...\n",
      "Epoch 908\n",
      "---------------\n",
      "Batch 0\n",
      "train loss: 0.1394 [0/27652]\n",
      "Finished with batches...\n",
      "Finished with one full epoch...\n",
      "Finished all batches in validation...\n",
      "Finished with calculating metrics...\n",
      "Epoch 909\n",
      "---------------\n",
      "Batch 0\n",
      "train loss: 0.1385 [0/27652]\n",
      "Finished with batches...\n",
      "Finished with one full epoch...\n",
      "Finished all batches in validation...\n",
      "Finished with calculating metrics...\n",
      "Epoch 910\n",
      "---------------\n"
     ]
    },
    {
     "name": "stderr",
     "output_type": "stream",
     "text": [
      "/home/yang1641/.local/lib/python3.8/site-packages/sklearn/metrics/_ranking.py:980: UserWarning: No positive class found in y_true, recall is set to one for all thresholds.\n",
      "  warnings.warn(\n"
     ]
    },
    {
     "name": "stdout",
     "output_type": "stream",
     "text": [
      "Batch 0\n",
      "train loss: 0.1396 [0/27652]\n",
      "Finished with batches...\n",
      "Finished with one full epoch...\n",
      "Finished all batches in validation...\n",
      "Finished with calculating metrics...\n",
      "Epoch 911\n",
      "---------------\n",
      "Batch 0\n",
      "train loss: 0.1382 [0/27652]\n",
      "Finished with batches...\n",
      "Finished with one full epoch...\n",
      "Finished all batches in validation...\n",
      "Finished with calculating metrics...\n",
      "Epoch 912\n",
      "---------------\n",
      "Batch 0\n",
      "train loss: 0.1401 [0/27652]\n",
      "Finished with batches...\n",
      "Finished with one full epoch...\n",
      "Finished all batches in validation...\n",
      "Finished with calculating metrics...\n",
      "Epoch 913\n",
      "---------------\n",
      "Batch 0\n",
      "train loss: 0.1395 [0/27652]\n",
      "Finished with batches...\n",
      "Finished with one full epoch...\n",
      "Finished all batches in validation...\n",
      "Finished with calculating metrics...\n",
      "Epoch 914\n",
      "---------------\n",
      "Batch 0\n",
      "train loss: 0.1394 [0/27652]\n",
      "Finished with batches...\n",
      "Finished with one full epoch...\n",
      "Finished all batches in validation...\n",
      "Finished with calculating metrics...\n",
      "Epoch 915\n",
      "---------------\n",
      "Batch 0\n",
      "train loss: 0.1390 [0/27652]\n",
      "Finished with batches...\n",
      "Finished with one full epoch...\n",
      "Finished all batches in validation...\n",
      "Finished with calculating metrics...\n",
      "Epoch 916\n",
      "---------------\n",
      "Batch 0\n",
      "train loss: 0.1384 [0/27652]\n",
      "Finished with batches...\n",
      "Finished with one full epoch...\n",
      "Finished all batches in validation...\n",
      "Finished with calculating metrics...\n",
      "Epoch 917\n",
      "---------------\n",
      "Batch 0\n",
      "train loss: 0.1387 [0/27652]\n",
      "Finished with batches...\n",
      "Finished with one full epoch...\n",
      "Finished all batches in validation...\n",
      "Finished with calculating metrics...\n",
      "Epoch 918\n",
      "---------------\n",
      "Batch 0\n",
      "train loss: 0.1401 [0/27652]\n",
      "Finished with batches...\n",
      "Finished with one full epoch...\n",
      "Finished all batches in validation...\n",
      "Finished with calculating metrics...\n",
      "Epoch 919\n",
      "---------------\n",
      "Batch 0\n",
      "train loss: 0.1397 [0/27652]\n",
      "Finished with batches...\n",
      "Finished with one full epoch...\n",
      "Finished all batches in validation...\n",
      "Finished with calculating metrics...\n",
      "Epoch 920\n",
      "---------------\n",
      "Batch 0\n",
      "train loss: 0.1384 [0/27652]\n",
      "Finished with batches...\n",
      "Finished with one full epoch...\n",
      "Finished all batches in validation...\n",
      "Finished with calculating metrics...\n",
      "Epoch 921\n",
      "---------------\n",
      "Batch 0\n",
      "train loss: 0.1393 [0/27652]\n",
      "Finished with batches...\n",
      "Finished with one full epoch...\n",
      "Finished all batches in validation...\n",
      "Finished with calculating metrics...\n",
      "Epoch 922\n",
      "---------------\n",
      "Batch 0\n",
      "train loss: 0.1389 [0/27652]\n",
      "Finished with batches...\n",
      "Finished with one full epoch...\n",
      "Finished all batches in validation...\n",
      "Finished with calculating metrics...\n",
      "Epoch 923\n",
      "---------------\n",
      "Batch 0\n",
      "train loss: 0.1386 [0/27652]\n",
      "Finished with batches...\n",
      "Finished with one full epoch...\n",
      "Finished all batches in validation...\n",
      "Finished with calculating metrics...\n",
      "Epoch 924\n",
      "---------------\n",
      "Batch 0\n",
      "train loss: 0.1390 [0/27652]\n",
      "Finished with batches...\n",
      "Finished with one full epoch...\n",
      "Finished all batches in validation...\n",
      "Finished with calculating metrics...\n",
      "Epoch 925\n",
      "---------------\n",
      "Batch 0\n",
      "train loss: 0.1391 [0/27652]\n",
      "Finished with batches...\n",
      "Finished with one full epoch...\n",
      "Finished all batches in validation...\n",
      "Finished with calculating metrics...\n",
      "Epoch 926\n",
      "---------------\n",
      "Batch 0\n",
      "train loss: 0.1388 [0/27652]\n",
      "Finished with batches...\n",
      "Finished with one full epoch...\n",
      "Finished all batches in validation...\n",
      "Finished with calculating metrics...\n",
      "Epoch 927\n",
      "---------------\n",
      "Batch 0\n",
      "train loss: 0.1380 [0/27652]\n",
      "Finished with batches...\n",
      "Finished with one full epoch...\n",
      "Finished all batches in validation...\n",
      "Finished with calculating metrics...\n",
      "Epoch 928\n",
      "---------------\n",
      "Batch 0\n",
      "train loss: 0.1387 [0/27652]\n",
      "Finished with batches...\n",
      "Finished with one full epoch...\n",
      "Finished all batches in validation...\n",
      "Finished with calculating metrics...\n",
      "Epoch 929\n",
      "---------------\n",
      "Batch 0\n",
      "train loss: 0.1400 [0/27652]\n",
      "Finished with batches...\n",
      "Finished with one full epoch...\n",
      "Finished all batches in validation...\n",
      "Finished with calculating metrics...\n",
      "Epoch 930\n",
      "---------------\n",
      "Batch 0\n",
      "train loss: 0.1390 [0/27652]\n",
      "Finished with batches...\n",
      "Finished with one full epoch...\n",
      "Finished all batches in validation...\n",
      "Finished with calculating metrics...\n",
      "Epoch 931\n",
      "---------------\n",
      "Batch 0\n",
      "train loss: 0.1406 [0/27652]\n",
      "Finished with batches...\n",
      "Finished with one full epoch...\n"
     ]
    },
    {
     "name": "stderr",
     "output_type": "stream",
     "text": [
      "/home/yang1641/.local/lib/python3.8/site-packages/sklearn/metrics/_ranking.py:980: UserWarning: No positive class found in y_true, recall is set to one for all thresholds.\n",
      "  warnings.warn(\n"
     ]
    },
    {
     "name": "stdout",
     "output_type": "stream",
     "text": [
      "Finished all batches in validation...\n",
      "Finished with calculating metrics...\n",
      "Epoch 932\n",
      "---------------\n",
      "Batch 0\n",
      "train loss: 0.1407 [0/27652]\n",
      "Finished with batches...\n",
      "Finished with one full epoch...\n",
      "Finished all batches in validation...\n",
      "Finished with calculating metrics...\n",
      "Epoch 933\n",
      "---------------\n",
      "Batch 0\n",
      "train loss: 0.1413 [0/27652]\n",
      "Finished with batches...\n",
      "Finished with one full epoch...\n",
      "Finished all batches in validation...\n",
      "Finished with calculating metrics...\n",
      "Epoch 934\n",
      "---------------\n",
      "Batch 0\n",
      "train loss: 0.1402 [0/27652]\n",
      "Finished with batches...\n",
      "Finished with one full epoch...\n",
      "Finished all batches in validation...\n",
      "Finished with calculating metrics...\n",
      "Epoch 935\n",
      "---------------\n",
      "Batch 0\n",
      "train loss: 0.1395 [0/27652]\n",
      "Finished with batches...\n",
      "Finished with one full epoch...\n",
      "Finished all batches in validation...\n",
      "Finished with calculating metrics...\n",
      "Epoch 936\n",
      "---------------\n",
      "Batch 0\n",
      "train loss: 0.1408 [0/27652]\n",
      "Finished with batches...\n",
      "Finished with one full epoch...\n",
      "Finished all batches in validation...\n",
      "Finished with calculating metrics...\n",
      "Epoch 937\n",
      "---------------\n"
     ]
    },
    {
     "name": "stderr",
     "output_type": "stream",
     "text": [
      "/home/yang1641/.local/lib/python3.8/site-packages/sklearn/metrics/_ranking.py:980: UserWarning: No positive class found in y_true, recall is set to one for all thresholds.\n",
      "  warnings.warn(\n"
     ]
    },
    {
     "name": "stdout",
     "output_type": "stream",
     "text": [
      "Batch 0\n",
      "train loss: 0.1391 [0/27652]\n",
      "Finished with batches...\n",
      "Finished with one full epoch...\n",
      "Finished all batches in validation...\n",
      "Finished with calculating metrics...\n",
      "Epoch 938\n",
      "---------------\n"
     ]
    },
    {
     "name": "stderr",
     "output_type": "stream",
     "text": [
      "/home/yang1641/.local/lib/python3.8/site-packages/sklearn/metrics/_ranking.py:980: UserWarning: No positive class found in y_true, recall is set to one for all thresholds.\n",
      "  warnings.warn(\n"
     ]
    },
    {
     "name": "stdout",
     "output_type": "stream",
     "text": [
      "Batch 0\n",
      "train loss: 0.1398 [0/27652]\n",
      "Finished with batches...\n",
      "Finished with one full epoch...\n",
      "Finished all batches in validation...\n",
      "Finished with calculating metrics...\n",
      "Epoch 939\n",
      "---------------\n",
      "Batch 0\n",
      "train loss: 0.1394 [0/27652]\n",
      "Finished with batches...\n",
      "Finished with one full epoch...\n",
      "Finished all batches in validation...\n",
      "Finished with calculating metrics...\n",
      "Epoch 940\n",
      "---------------\n",
      "Batch 0\n",
      "train loss: 0.1385 [0/27652]\n",
      "Finished with batches...\n",
      "Finished with one full epoch...\n",
      "Finished all batches in validation...\n",
      "Finished with calculating metrics...\n",
      "Epoch 941\n",
      "---------------\n",
      "Batch 0\n",
      "train loss: 0.1393 [0/27652]\n",
      "Finished with batches...\n",
      "Finished with one full epoch...\n",
      "Finished all batches in validation...\n",
      "Finished with calculating metrics...\n",
      "Epoch 942\n",
      "---------------\n",
      "Batch 0\n",
      "train loss: 0.1383 [0/27652]\n",
      "Finished with batches...\n",
      "Finished with one full epoch...\n",
      "Finished all batches in validation...\n",
      "Finished with calculating metrics...\n",
      "Epoch 943\n",
      "---------------\n",
      "Batch 0\n",
      "train loss: 0.1416 [0/27652]\n",
      "Finished with batches...\n",
      "Finished with one full epoch...\n",
      "Finished all batches in validation...\n",
      "Finished with calculating metrics...\n",
      "Epoch 944\n",
      "---------------\n",
      "Batch 0\n",
      "train loss: 0.1381 [0/27652]\n",
      "Finished with batches...\n",
      "Finished with one full epoch...\n",
      "Finished all batches in validation...\n",
      "Finished with calculating metrics...\n",
      "Epoch 945\n",
      "---------------\n",
      "Batch 0\n",
      "train loss: 0.1391 [0/27652]\n",
      "Finished with batches...\n",
      "Finished with one full epoch...\n",
      "Finished all batches in validation...\n",
      "Finished with calculating metrics...\n",
      "Epoch 946\n",
      "---------------\n",
      "Batch 0\n",
      "train loss: 0.1394 [0/27652]\n",
      "Finished with batches...\n",
      "Finished with one full epoch...\n",
      "Finished all batches in validation...\n",
      "Finished with calculating metrics...\n",
      "Epoch 947\n",
      "---------------\n",
      "Batch 0\n",
      "train loss: 0.1389 [0/27652]\n",
      "Finished with batches...\n",
      "Finished with one full epoch...\n",
      "Finished all batches in validation...\n",
      "Finished with calculating metrics...\n",
      "Epoch 948\n",
      "---------------\n",
      "Batch 0\n",
      "train loss: 0.1398 [0/27652]\n",
      "Finished with batches...\n",
      "Finished with one full epoch...\n",
      "Finished all batches in validation...\n",
      "Finished with calculating metrics...\n",
      "Epoch 949\n",
      "---------------\n",
      "Batch 0\n",
      "train loss: 0.1390 [0/27652]\n",
      "Finished with batches...\n",
      "Finished with one full epoch...\n",
      "Finished all batches in validation...\n",
      "Finished with calculating metrics...\n",
      "Epoch 950\n",
      "---------------\n",
      "Batch 0\n",
      "train loss: 0.1385 [0/27652]\n",
      "Finished with batches...\n",
      "Finished with one full epoch...\n",
      "Finished all batches in validation...\n",
      "Finished with calculating metrics...\n",
      "Epoch 951\n",
      "---------------\n"
     ]
    },
    {
     "name": "stderr",
     "output_type": "stream",
     "text": [
      "/home/yang1641/.local/lib/python3.8/site-packages/sklearn/metrics/_ranking.py:980: UserWarning: No positive class found in y_true, recall is set to one for all thresholds.\n",
      "  warnings.warn(\n"
     ]
    },
    {
     "name": "stdout",
     "output_type": "stream",
     "text": [
      "Batch 0\n",
      "train loss: 0.1396 [0/27652]\n",
      "Finished with batches...\n",
      "Finished with one full epoch...\n",
      "Finished all batches in validation...\n",
      "Finished with calculating metrics...\n",
      "Epoch 952\n",
      "---------------\n",
      "Batch 0\n",
      "train loss: 0.1387 [0/27652]\n",
      "Finished with batches...\n",
      "Finished with one full epoch...\n",
      "Finished all batches in validation...\n",
      "Finished with calculating metrics...\n",
      "Epoch 953\n",
      "---------------\n",
      "Batch 0\n",
      "train loss: 0.1396 [0/27652]\n",
      "Finished with batches...\n",
      "Finished with one full epoch...\n",
      "Finished all batches in validation...\n",
      "Finished with calculating metrics...\n",
      "Epoch 954\n",
      "---------------\n",
      "Batch 0\n",
      "train loss: 0.1397 [0/27652]\n",
      "Finished with batches...\n",
      "Finished with one full epoch...\n",
      "Finished all batches in validation...\n",
      "Finished with calculating metrics...\n",
      "Epoch 955\n",
      "---------------\n"
     ]
    },
    {
     "name": "stderr",
     "output_type": "stream",
     "text": [
      "/home/yang1641/.local/lib/python3.8/site-packages/sklearn/metrics/_ranking.py:980: UserWarning: No positive class found in y_true, recall is set to one for all thresholds.\n",
      "  warnings.warn(\n",
      "/home/yang1641/.local/lib/python3.8/site-packages/sklearn/metrics/_ranking.py:980: UserWarning: No positive class found in y_true, recall is set to one for all thresholds.\n",
      "  warnings.warn(\n"
     ]
    },
    {
     "name": "stdout",
     "output_type": "stream",
     "text": [
      "Batch 0\n",
      "train loss: 0.1390 [0/27652]\n",
      "Finished with batches...\n",
      "Finished with one full epoch...\n",
      "Finished all batches in validation...\n",
      "Finished with calculating metrics...\n",
      "Epoch 956\n",
      "---------------\n"
     ]
    },
    {
     "name": "stderr",
     "output_type": "stream",
     "text": [
      "/home/yang1641/.local/lib/python3.8/site-packages/sklearn/metrics/_ranking.py:980: UserWarning: No positive class found in y_true, recall is set to one for all thresholds.\n",
      "  warnings.warn(\n",
      "/home/yang1641/.local/lib/python3.8/site-packages/sklearn/metrics/_ranking.py:980: UserWarning: No positive class found in y_true, recall is set to one for all thresholds.\n",
      "  warnings.warn(\n"
     ]
    },
    {
     "name": "stdout",
     "output_type": "stream",
     "text": [
      "Batch 0\n",
      "train loss: 0.1394 [0/27652]\n",
      "Finished with batches...\n",
      "Finished with one full epoch...\n",
      "Finished all batches in validation...\n",
      "Finished with calculating metrics...\n",
      "Epoch 957\n",
      "---------------\n"
     ]
    },
    {
     "name": "stderr",
     "output_type": "stream",
     "text": [
      "/home/yang1641/.local/lib/python3.8/site-packages/sklearn/metrics/_ranking.py:980: UserWarning: No positive class found in y_true, recall is set to one for all thresholds.\n",
      "  warnings.warn(\n",
      "/home/yang1641/.local/lib/python3.8/site-packages/sklearn/metrics/_ranking.py:980: UserWarning: No positive class found in y_true, recall is set to one for all thresholds.\n",
      "  warnings.warn(\n"
     ]
    },
    {
     "name": "stdout",
     "output_type": "stream",
     "text": [
      "Batch 0\n",
      "train loss: 0.1395 [0/27652]\n",
      "Finished with batches...\n",
      "Finished with one full epoch...\n",
      "Finished all batches in validation...\n",
      "Finished with calculating metrics...\n",
      "Epoch 958\n",
      "---------------\n"
     ]
    },
    {
     "name": "stderr",
     "output_type": "stream",
     "text": [
      "/home/yang1641/.local/lib/python3.8/site-packages/sklearn/metrics/_ranking.py:980: UserWarning: No positive class found in y_true, recall is set to one for all thresholds.\n",
      "  warnings.warn(\n",
      "/home/yang1641/.local/lib/python3.8/site-packages/sklearn/metrics/_ranking.py:980: UserWarning: No positive class found in y_true, recall is set to one for all thresholds.\n",
      "  warnings.warn(\n"
     ]
    },
    {
     "name": "stdout",
     "output_type": "stream",
     "text": [
      "Batch 0\n",
      "train loss: 0.1390 [0/27652]\n",
      "Finished with batches...\n",
      "Finished with one full epoch...\n",
      "Finished all batches in validation...\n",
      "Finished with calculating metrics...\n",
      "Epoch 959\n",
      "---------------\n"
     ]
    },
    {
     "name": "stderr",
     "output_type": "stream",
     "text": [
      "/home/yang1641/.local/lib/python3.8/site-packages/sklearn/metrics/_ranking.py:980: UserWarning: No positive class found in y_true, recall is set to one for all thresholds.\n",
      "  warnings.warn(\n"
     ]
    },
    {
     "name": "stdout",
     "output_type": "stream",
     "text": [
      "Batch 0\n",
      "train loss: 0.1402 [0/27652]\n",
      "Finished with batches...\n",
      "Finished with one full epoch...\n",
      "Finished all batches in validation...\n",
      "Finished with calculating metrics...\n",
      "Epoch 960\n",
      "---------------\n",
      "Batch 0\n",
      "train loss: 0.1392 [0/27652]\n",
      "Finished with batches...\n",
      "Finished with one full epoch...\n",
      "Finished all batches in validation...\n",
      "Finished with calculating metrics...\n",
      "Epoch 961\n",
      "---------------\n"
     ]
    },
    {
     "name": "stderr",
     "output_type": "stream",
     "text": [
      "/home/yang1641/.local/lib/python3.8/site-packages/sklearn/metrics/_ranking.py:980: UserWarning: No positive class found in y_true, recall is set to one for all thresholds.\n",
      "  warnings.warn(\n"
     ]
    },
    {
     "name": "stdout",
     "output_type": "stream",
     "text": [
      "Batch 0\n",
      "train loss: 0.1393 [0/27652]\n",
      "Finished with batches...\n",
      "Finished with one full epoch...\n",
      "Finished all batches in validation...\n",
      "Finished with calculating metrics...\n",
      "Epoch 962\n",
      "---------------\n",
      "Batch 0\n",
      "train loss: 0.1386 [0/27652]\n",
      "Finished with batches...\n",
      "Finished with one full epoch...\n",
      "Finished all batches in validation...\n",
      "Finished with calculating metrics...\n",
      "Epoch 963\n",
      "---------------\n",
      "Batch 0\n",
      "train loss: 0.1396 [0/27652]\n",
      "Finished with batches...\n",
      "Finished with one full epoch...\n",
      "Finished all batches in validation...\n",
      "Finished with calculating metrics...\n",
      "Epoch 964\n",
      "---------------\n",
      "Batch 0\n",
      "train loss: 0.1390 [0/27652]\n",
      "Finished with batches...\n",
      "Finished with one full epoch...\n",
      "Finished all batches in validation...\n",
      "Finished with calculating metrics...\n",
      "Epoch 965\n",
      "---------------\n",
      "Batch 0\n",
      "train loss: 0.1389 [0/27652]\n",
      "Finished with batches...\n",
      "Finished with one full epoch...\n",
      "Finished all batches in validation...\n",
      "Finished with calculating metrics...\n",
      "Epoch 966\n",
      "---------------\n",
      "Batch 0\n",
      "train loss: 0.1394 [0/27652]\n",
      "Finished with batches...\n",
      "Finished with one full epoch...\n",
      "Finished all batches in validation...\n",
      "Finished with calculating metrics...\n",
      "Epoch 967\n",
      "---------------\n",
      "Batch 0\n",
      "train loss: 0.1401 [0/27652]\n",
      "Finished with batches...\n",
      "Finished with one full epoch...\n",
      "Finished all batches in validation...\n",
      "Finished with calculating metrics...\n",
      "Epoch 968\n",
      "---------------\n",
      "Batch 0\n",
      "train loss: 0.1393 [0/27652]\n",
      "Finished with batches...\n",
      "Finished with one full epoch...\n",
      "Finished all batches in validation...\n",
      "Finished with calculating metrics...\n",
      "Epoch 969\n",
      "---------------\n",
      "Batch 0\n",
      "train loss: 0.1395 [0/27652]\n",
      "Finished with batches...\n",
      "Finished with one full epoch...\n",
      "Finished all batches in validation...\n",
      "Finished with calculating metrics...\n",
      "Epoch 970\n",
      "---------------\n",
      "Batch 0\n",
      "train loss: 0.1392 [0/27652]\n",
      "Finished with batches...\n",
      "Finished with one full epoch...\n",
      "Finished all batches in validation...\n",
      "Finished with calculating metrics...\n",
      "Epoch 971\n",
      "---------------\n",
      "Batch 0\n",
      "train loss: 0.1391 [0/27652]\n",
      "Finished with batches...\n",
      "Finished with one full epoch...\n",
      "Finished all batches in validation...\n",
      "Finished with calculating metrics...\n",
      "Epoch 972\n",
      "---------------\n",
      "Batch 0\n",
      "train loss: 0.1384 [0/27652]\n",
      "Finished with batches...\n",
      "Finished with one full epoch...\n",
      "Finished all batches in validation...\n",
      "Finished with calculating metrics...\n",
      "Epoch 973\n",
      "---------------\n",
      "Batch 0\n",
      "train loss: 0.1397 [0/27652]\n",
      "Finished with batches...\n",
      "Finished with one full epoch...\n",
      "Finished all batches in validation...\n",
      "Finished with calculating metrics...\n",
      "Epoch 974\n",
      "---------------\n",
      "Batch 0\n",
      "train loss: 0.1391 [0/27652]\n",
      "Finished with batches...\n",
      "Finished with one full epoch...\n",
      "Finished all batches in validation...\n",
      "Finished with calculating metrics...\n",
      "Epoch 975\n",
      "---------------\n",
      "Batch 0\n",
      "train loss: 0.1393 [0/27652]\n",
      "Finished with batches...\n",
      "Finished with one full epoch...\n",
      "Finished all batches in validation...\n",
      "Finished with calculating metrics...\n",
      "Epoch 976\n",
      "---------------\n",
      "Batch 0\n",
      "train loss: 0.1396 [0/27652]\n",
      "Finished with batches...\n",
      "Finished with one full epoch...\n",
      "Finished all batches in validation...\n",
      "Finished with calculating metrics...\n",
      "Epoch 977\n",
      "---------------\n",
      "Batch 0\n",
      "train loss: 0.1391 [0/27652]\n",
      "Finished with batches...\n",
      "Finished with one full epoch...\n",
      "Finished all batches in validation...\n",
      "Finished with calculating metrics...\n",
      "Epoch 978\n",
      "---------------\n",
      "Batch 0\n",
      "train loss: 0.1391 [0/27652]\n",
      "Finished with batches...\n",
      "Finished with one full epoch...\n",
      "Finished all batches in validation...\n",
      "Finished with calculating metrics...\n",
      "Epoch 979\n",
      "---------------\n",
      "Batch 0\n",
      "train loss: 0.1401 [0/27652]\n",
      "Finished with batches...\n",
      "Finished with one full epoch...\n",
      "Finished all batches in validation...\n",
      "Finished with calculating metrics...\n",
      "Epoch 980\n",
      "---------------\n",
      "Batch 0\n",
      "train loss: 0.1392 [0/27652]\n",
      "Finished with batches...\n",
      "Finished with one full epoch...\n",
      "Finished all batches in validation...\n",
      "Finished with calculating metrics...\n",
      "Epoch 981\n",
      "---------------\n",
      "Batch 0\n",
      "train loss: 0.1382 [0/27652]\n",
      "Finished with batches...\n",
      "Finished with one full epoch...\n",
      "Finished all batches in validation...\n",
      "Finished with calculating metrics...\n",
      "Epoch 982\n",
      "---------------\n",
      "Batch 0\n",
      "train loss: 0.1393 [0/27652]\n",
      "Finished with batches...\n",
      "Finished with one full epoch...\n",
      "Finished all batches in validation...\n",
      "Finished with calculating metrics...\n",
      "Epoch 983\n",
      "---------------\n",
      "Batch 0\n",
      "train loss: 0.1381 [0/27652]\n",
      "Finished with batches...\n",
      "Finished with one full epoch...\n",
      "Finished all batches in validation...\n",
      "Finished with calculating metrics...\n",
      "Epoch 984\n",
      "---------------\n",
      "Batch 0\n",
      "train loss: 0.1387 [0/27652]\n",
      "Finished with batches...\n",
      "Finished with one full epoch...\n",
      "Finished all batches in validation...\n",
      "Finished with calculating metrics...\n",
      "Epoch 985\n",
      "---------------\n",
      "Batch 0\n",
      "train loss: 0.1396 [0/27652]\n",
      "Finished with batches...\n",
      "Finished with one full epoch...\n",
      "Finished all batches in validation...\n",
      "Finished with calculating metrics...\n",
      "Epoch 986\n",
      "---------------\n"
     ]
    },
    {
     "name": "stderr",
     "output_type": "stream",
     "text": [
      "/home/yang1641/.local/lib/python3.8/site-packages/sklearn/metrics/_ranking.py:980: UserWarning: No positive class found in y_true, recall is set to one for all thresholds.\n",
      "  warnings.warn(\n"
     ]
    },
    {
     "name": "stdout",
     "output_type": "stream",
     "text": [
      "Batch 0\n",
      "train loss: 0.1386 [0/27652]\n",
      "Finished with batches...\n",
      "Finished with one full epoch...\n",
      "Finished all batches in validation...\n",
      "Finished with calculating metrics...\n",
      "Epoch 987\n",
      "---------------\n"
     ]
    },
    {
     "name": "stderr",
     "output_type": "stream",
     "text": [
      "/home/yang1641/.local/lib/python3.8/site-packages/sklearn/metrics/_ranking.py:980: UserWarning: No positive class found in y_true, recall is set to one for all thresholds.\n",
      "  warnings.warn(\n"
     ]
    },
    {
     "name": "stdout",
     "output_type": "stream",
     "text": [
      "Batch 0\n",
      "train loss: 0.1386 [0/27652]\n",
      "Finished with batches...\n",
      "Finished with one full epoch...\n",
      "Finished all batches in validation...\n",
      "Finished with calculating metrics...\n",
      "Epoch 988\n",
      "---------------\n",
      "Batch 0\n",
      "train loss: 0.1382 [0/27652]\n",
      "Finished with batches...\n",
      "Finished with one full epoch...\n",
      "Finished all batches in validation...\n",
      "Finished with calculating metrics...\n",
      "Epoch 989\n",
      "---------------\n"
     ]
    },
    {
     "name": "stderr",
     "output_type": "stream",
     "text": [
      "/home/yang1641/.local/lib/python3.8/site-packages/sklearn/metrics/_ranking.py:980: UserWarning: No positive class found in y_true, recall is set to one for all thresholds.\n",
      "  warnings.warn(\n"
     ]
    },
    {
     "name": "stdout",
     "output_type": "stream",
     "text": [
      "Batch 0\n",
      "train loss: 0.1375 [0/27652]\n",
      "Finished with batches...\n",
      "Finished with one full epoch...\n",
      "Finished all batches in validation...\n",
      "Finished with calculating metrics...\n",
      "Epoch 990\n",
      "---------------\n"
     ]
    },
    {
     "name": "stderr",
     "output_type": "stream",
     "text": [
      "/home/yang1641/.local/lib/python3.8/site-packages/sklearn/metrics/_ranking.py:980: UserWarning: No positive class found in y_true, recall is set to one for all thresholds.\n",
      "  warnings.warn(\n"
     ]
    },
    {
     "name": "stdout",
     "output_type": "stream",
     "text": [
      "Batch 0\n",
      "train loss: 0.1383 [0/27652]\n",
      "Finished with batches...\n",
      "Finished with one full epoch...\n",
      "Finished all batches in validation...\n",
      "Finished with calculating metrics...\n",
      "Epoch 991\n",
      "---------------\n"
     ]
    },
    {
     "name": "stderr",
     "output_type": "stream",
     "text": [
      "/home/yang1641/.local/lib/python3.8/site-packages/sklearn/metrics/_ranking.py:980: UserWarning: No positive class found in y_true, recall is set to one for all thresholds.\n",
      "  warnings.warn(\n"
     ]
    },
    {
     "name": "stdout",
     "output_type": "stream",
     "text": [
      "Batch 0\n",
      "train loss: 0.1377 [0/27652]\n",
      "Finished with batches...\n",
      "Finished with one full epoch...\n",
      "Finished all batches in validation...\n",
      "Finished with calculating metrics...\n",
      "Epoch 992\n",
      "---------------\n",
      "Batch 0\n",
      "train loss: 0.1392 [0/27652]\n",
      "Finished with batches...\n",
      "Finished with one full epoch...\n",
      "Finished all batches in validation...\n",
      "Finished with calculating metrics...\n",
      "Epoch 993\n",
      "---------------\n"
     ]
    },
    {
     "name": "stderr",
     "output_type": "stream",
     "text": [
      "/home/yang1641/.local/lib/python3.8/site-packages/sklearn/metrics/_ranking.py:980: UserWarning: No positive class found in y_true, recall is set to one for all thresholds.\n",
      "  warnings.warn(\n"
     ]
    },
    {
     "name": "stdout",
     "output_type": "stream",
     "text": [
      "Batch 0\n",
      "train loss: 0.1384 [0/27652]\n",
      "Finished with batches...\n",
      "Finished with one full epoch...\n",
      "Finished all batches in validation...\n",
      "Finished with calculating metrics...\n",
      "Epoch 994\n",
      "---------------\n"
     ]
    },
    {
     "name": "stderr",
     "output_type": "stream",
     "text": [
      "/home/yang1641/.local/lib/python3.8/site-packages/sklearn/metrics/_ranking.py:980: UserWarning: No positive class found in y_true, recall is set to one for all thresholds.\n",
      "  warnings.warn(\n"
     ]
    },
    {
     "name": "stdout",
     "output_type": "stream",
     "text": [
      "Batch 0\n",
      "train loss: 0.1388 [0/27652]\n",
      "Finished with batches...\n",
      "Finished with one full epoch...\n",
      "Finished all batches in validation...\n",
      "Finished with calculating metrics...\n",
      "Epoch 995\n",
      "---------------\n"
     ]
    },
    {
     "name": "stderr",
     "output_type": "stream",
     "text": [
      "/home/yang1641/.local/lib/python3.8/site-packages/sklearn/metrics/_ranking.py:980: UserWarning: No positive class found in y_true, recall is set to one for all thresholds.\n",
      "  warnings.warn(\n"
     ]
    },
    {
     "name": "stdout",
     "output_type": "stream",
     "text": [
      "Batch 0\n",
      "train loss: 0.1381 [0/27652]\n",
      "Finished with batches...\n",
      "Finished with one full epoch...\n",
      "Finished all batches in validation...\n",
      "Finished with calculating metrics...\n",
      "Epoch 996\n",
      "---------------\n"
     ]
    },
    {
     "name": "stderr",
     "output_type": "stream",
     "text": [
      "/home/yang1641/.local/lib/python3.8/site-packages/sklearn/metrics/_ranking.py:980: UserWarning: No positive class found in y_true, recall is set to one for all thresholds.\n",
      "  warnings.warn(\n"
     ]
    },
    {
     "name": "stdout",
     "output_type": "stream",
     "text": [
      "Batch 0\n",
      "train loss: 0.1376 [0/27652]\n",
      "Finished with batches...\n",
      "Finished with one full epoch...\n",
      "Finished all batches in validation...\n",
      "Finished with calculating metrics...\n",
      "Epoch 997\n",
      "---------------\n"
     ]
    },
    {
     "name": "stderr",
     "output_type": "stream",
     "text": [
      "/home/yang1641/.local/lib/python3.8/site-packages/sklearn/metrics/_ranking.py:980: UserWarning: No positive class found in y_true, recall is set to one for all thresholds.\n",
      "  warnings.warn(\n"
     ]
    },
    {
     "name": "stdout",
     "output_type": "stream",
     "text": [
      "Batch 0\n",
      "train loss: 0.1390 [0/27652]\n",
      "Finished with batches...\n",
      "Finished with one full epoch...\n",
      "Finished all batches in validation...\n",
      "Finished with calculating metrics...\n",
      "Epoch 998\n",
      "---------------\n"
     ]
    },
    {
     "name": "stderr",
     "output_type": "stream",
     "text": [
      "/home/yang1641/.local/lib/python3.8/site-packages/sklearn/metrics/_ranking.py:980: UserWarning: No positive class found in y_true, recall is set to one for all thresholds.\n",
      "  warnings.warn(\n"
     ]
    },
    {
     "name": "stdout",
     "output_type": "stream",
     "text": [
      "Batch 0\n",
      "train loss: 0.1390 [0/27652]\n",
      "Finished with batches...\n",
      "Finished with one full epoch...\n",
      "Finished all batches in validation...\n",
      "Finished with calculating metrics...\n",
      "Epoch 999\n",
      "---------------\n"
     ]
    },
    {
     "name": "stderr",
     "output_type": "stream",
     "text": [
      "/home/yang1641/.local/lib/python3.8/site-packages/sklearn/metrics/_ranking.py:980: UserWarning: No positive class found in y_true, recall is set to one for all thresholds.\n",
      "  warnings.warn(\n"
     ]
    },
    {
     "name": "stdout",
     "output_type": "stream",
     "text": [
      "Batch 0\n",
      "train loss: 0.1388 [0/27652]\n",
      "Finished with batches...\n",
      "Finished with one full epoch...\n",
      "Finished all batches in validation...\n",
      "Finished with calculating metrics...\n",
      "Epoch 1000\n",
      "---------------\n"
     ]
    },
    {
     "name": "stderr",
     "output_type": "stream",
     "text": [
      "/home/yang1641/.local/lib/python3.8/site-packages/sklearn/metrics/_ranking.py:980: UserWarning: No positive class found in y_true, recall is set to one for all thresholds.\n",
      "  warnings.warn(\n"
     ]
    },
    {
     "name": "stdout",
     "output_type": "stream",
     "text": [
      "Batch 0\n",
      "train loss: 0.1396 [0/27652]\n",
      "Finished with batches...\n",
      "Finished with one full epoch...\n",
      "Finished all batches in validation...\n",
      "Finished with calculating metrics...\n",
      "Epoch 1001\n",
      "---------------\n"
     ]
    },
    {
     "name": "stderr",
     "output_type": "stream",
     "text": [
      "/home/yang1641/.local/lib/python3.8/site-packages/sklearn/metrics/_ranking.py:980: UserWarning: No positive class found in y_true, recall is set to one for all thresholds.\n",
      "  warnings.warn(\n",
      "/home/yang1641/.local/lib/python3.8/site-packages/sklearn/metrics/_ranking.py:980: UserWarning: No positive class found in y_true, recall is set to one for all thresholds.\n",
      "  warnings.warn(\n"
     ]
    },
    {
     "name": "stdout",
     "output_type": "stream",
     "text": [
      "Batch 0\n",
      "train loss: 0.1388 [0/27652]\n",
      "Finished with batches...\n",
      "Finished with one full epoch...\n",
      "Finished all batches in validation...\n",
      "Finished with calculating metrics...\n",
      "Epoch 1002\n",
      "---------------\n"
     ]
    },
    {
     "name": "stderr",
     "output_type": "stream",
     "text": [
      "/home/yang1641/.local/lib/python3.8/site-packages/sklearn/metrics/_ranking.py:980: UserWarning: No positive class found in y_true, recall is set to one for all thresholds.\n",
      "  warnings.warn(\n"
     ]
    },
    {
     "name": "stdout",
     "output_type": "stream",
     "text": [
      "Batch 0\n",
      "train loss: 0.1404 [0/27652]\n",
      "Finished with batches...\n",
      "Finished with one full epoch...\n",
      "Finished all batches in validation...\n",
      "Finished with calculating metrics...\n",
      "Epoch 1003\n",
      "---------------\n"
     ]
    },
    {
     "name": "stderr",
     "output_type": "stream",
     "text": [
      "/home/yang1641/.local/lib/python3.8/site-packages/sklearn/metrics/_ranking.py:980: UserWarning: No positive class found in y_true, recall is set to one for all thresholds.\n",
      "  warnings.warn(\n"
     ]
    },
    {
     "name": "stdout",
     "output_type": "stream",
     "text": [
      "Batch 0\n",
      "train loss: 0.1392 [0/27652]\n",
      "Finished with batches...\n",
      "Finished with one full epoch...\n",
      "Finished all batches in validation...\n",
      "Finished with calculating metrics...\n",
      "Epoch 1004\n",
      "---------------\n"
     ]
    },
    {
     "name": "stderr",
     "output_type": "stream",
     "text": [
      "/home/yang1641/.local/lib/python3.8/site-packages/sklearn/metrics/_ranking.py:980: UserWarning: No positive class found in y_true, recall is set to one for all thresholds.\n",
      "  warnings.warn(\n"
     ]
    },
    {
     "name": "stdout",
     "output_type": "stream",
     "text": [
      "Batch 0\n",
      "train loss: 0.1389 [0/27652]\n",
      "Finished with batches...\n",
      "Finished with one full epoch...\n",
      "Finished all batches in validation...\n",
      "Finished with calculating metrics...\n",
      "Epoch 1005\n",
      "---------------\n"
     ]
    },
    {
     "name": "stderr",
     "output_type": "stream",
     "text": [
      "/home/yang1641/.local/lib/python3.8/site-packages/sklearn/metrics/_ranking.py:980: UserWarning: No positive class found in y_true, recall is set to one for all thresholds.\n",
      "  warnings.warn(\n"
     ]
    },
    {
     "name": "stdout",
     "output_type": "stream",
     "text": [
      "Batch 0\n",
      "train loss: 0.1408 [0/27652]\n",
      "Finished with batches...\n",
      "Finished with one full epoch...\n",
      "Finished all batches in validation...\n",
      "Finished with calculating metrics...\n",
      "Epoch 1006\n",
      "---------------\n"
     ]
    },
    {
     "name": "stderr",
     "output_type": "stream",
     "text": [
      "/home/yang1641/.local/lib/python3.8/site-packages/sklearn/metrics/_ranking.py:980: UserWarning: No positive class found in y_true, recall is set to one for all thresholds.\n",
      "  warnings.warn(\n",
      "/home/yang1641/.local/lib/python3.8/site-packages/sklearn/metrics/_ranking.py:980: UserWarning: No positive class found in y_true, recall is set to one for all thresholds.\n",
      "  warnings.warn(\n"
     ]
    },
    {
     "name": "stdout",
     "output_type": "stream",
     "text": [
      "Batch 0\n",
      "train loss: 0.1385 [0/27652]\n",
      "Finished with batches...\n",
      "Finished with one full epoch...\n",
      "Finished all batches in validation...\n",
      "Finished with calculating metrics...\n",
      "Epoch 1007\n",
      "---------------\n"
     ]
    },
    {
     "name": "stderr",
     "output_type": "stream",
     "text": [
      "/home/yang1641/.local/lib/python3.8/site-packages/sklearn/metrics/_ranking.py:980: UserWarning: No positive class found in y_true, recall is set to one for all thresholds.\n",
      "  warnings.warn(\n"
     ]
    },
    {
     "name": "stdout",
     "output_type": "stream",
     "text": [
      "Batch 0\n",
      "train loss: 0.1397 [0/27652]\n",
      "Finished with batches...\n",
      "Finished with one full epoch...\n",
      "Finished all batches in validation...\n",
      "Finished with calculating metrics...\n",
      "Epoch 1008\n",
      "---------------\n"
     ]
    },
    {
     "name": "stderr",
     "output_type": "stream",
     "text": [
      "/home/yang1641/.local/lib/python3.8/site-packages/sklearn/metrics/_ranking.py:980: UserWarning: No positive class found in y_true, recall is set to one for all thresholds.\n",
      "  warnings.warn(\n"
     ]
    },
    {
     "name": "stdout",
     "output_type": "stream",
     "text": [
      "Batch 0\n",
      "train loss: 0.1393 [0/27652]\n",
      "Finished with batches...\n",
      "Finished with one full epoch...\n",
      "Finished all batches in validation...\n",
      "Finished with calculating metrics...\n",
      "Epoch 1009\n",
      "---------------\n"
     ]
    },
    {
     "name": "stderr",
     "output_type": "stream",
     "text": [
      "/home/yang1641/.local/lib/python3.8/site-packages/sklearn/metrics/_ranking.py:980: UserWarning: No positive class found in y_true, recall is set to one for all thresholds.\n",
      "  warnings.warn(\n"
     ]
    },
    {
     "name": "stdout",
     "output_type": "stream",
     "text": [
      "Batch 0\n",
      "train loss: 0.1388 [0/27652]\n",
      "Finished with batches...\n",
      "Finished with one full epoch...\n",
      "Finished all batches in validation...\n",
      "Finished with calculating metrics...\n",
      "Epoch 1010\n",
      "---------------\n"
     ]
    },
    {
     "name": "stderr",
     "output_type": "stream",
     "text": [
      "/home/yang1641/.local/lib/python3.8/site-packages/sklearn/metrics/_ranking.py:980: UserWarning: No positive class found in y_true, recall is set to one for all thresholds.\n",
      "  warnings.warn(\n"
     ]
    },
    {
     "name": "stdout",
     "output_type": "stream",
     "text": [
      "Batch 0\n",
      "train loss: 0.1385 [0/27652]\n",
      "Finished with batches...\n",
      "Finished with one full epoch...\n",
      "Finished all batches in validation...\n",
      "Finished with calculating metrics...\n",
      "Epoch 1011\n",
      "---------------\n"
     ]
    },
    {
     "name": "stderr",
     "output_type": "stream",
     "text": [
      "/home/yang1641/.local/lib/python3.8/site-packages/sklearn/metrics/_ranking.py:980: UserWarning: No positive class found in y_true, recall is set to one for all thresholds.\n",
      "  warnings.warn(\n"
     ]
    },
    {
     "name": "stdout",
     "output_type": "stream",
     "text": [
      "Batch 0\n",
      "train loss: 0.1390 [0/27652]\n",
      "Finished with batches...\n",
      "Finished with one full epoch...\n",
      "Finished all batches in validation...\n",
      "Finished with calculating metrics...\n",
      "Epoch 1012\n",
      "---------------\n"
     ]
    },
    {
     "name": "stderr",
     "output_type": "stream",
     "text": [
      "/home/yang1641/.local/lib/python3.8/site-packages/sklearn/metrics/_ranking.py:980: UserWarning: No positive class found in y_true, recall is set to one for all thresholds.\n",
      "  warnings.warn(\n"
     ]
    },
    {
     "name": "stdout",
     "output_type": "stream",
     "text": [
      "Batch 0\n",
      "train loss: 0.1384 [0/27652]\n",
      "Finished with batches...\n",
      "Finished with one full epoch...\n",
      "Finished all batches in validation...\n",
      "Finished with calculating metrics...\n",
      "Epoch 1013\n",
      "---------------\n",
      "Batch 0\n",
      "train loss: 0.1376 [0/27652]\n",
      "Finished with batches...\n",
      "Finished with one full epoch...\n",
      "Finished all batches in validation...\n",
      "Finished with calculating metrics...\n",
      "Epoch 1014\n",
      "---------------\n"
     ]
    },
    {
     "name": "stderr",
     "output_type": "stream",
     "text": [
      "/home/yang1641/.local/lib/python3.8/site-packages/sklearn/metrics/_ranking.py:980: UserWarning: No positive class found in y_true, recall is set to one for all thresholds.\n",
      "  warnings.warn(\n"
     ]
    },
    {
     "name": "stdout",
     "output_type": "stream",
     "text": [
      "Batch 0\n",
      "train loss: 0.1392 [0/27652]\n",
      "Finished with batches...\n",
      "Finished with one full epoch...\n",
      "Finished all batches in validation...\n",
      "Finished with calculating metrics...\n",
      "Epoch 1015\n",
      "---------------\n",
      "Batch 0\n",
      "train loss: 0.1388 [0/27652]\n",
      "Finished with batches...\n",
      "Finished with one full epoch...\n",
      "Finished all batches in validation...\n",
      "Finished with calculating metrics...\n",
      "Epoch 1016\n",
      "---------------\n",
      "Batch 0\n",
      "train loss: 0.1392 [0/27652]\n",
      "Finished with batches...\n",
      "Finished with one full epoch...\n",
      "Finished all batches in validation...\n",
      "Finished with calculating metrics...\n",
      "Epoch 1017\n",
      "---------------\n",
      "Batch 0\n",
      "train loss: 0.1379 [0/27652]\n",
      "Finished with batches...\n",
      "Finished with one full epoch...\n",
      "Finished all batches in validation...\n",
      "Finished with calculating metrics...\n",
      "Epoch 1018\n",
      "---------------\n",
      "Batch 0\n",
      "train loss: 0.1388 [0/27652]\n",
      "Finished with batches...\n",
      "Finished with one full epoch...\n",
      "Finished all batches in validation...\n",
      "Finished with calculating metrics...\n",
      "Epoch 1019\n",
      "---------------\n",
      "Batch 0\n",
      "train loss: 0.1387 [0/27652]\n",
      "Finished with batches...\n",
      "Finished with one full epoch...\n",
      "Finished all batches in validation...\n",
      "Finished with calculating metrics...\n",
      "Epoch 1020\n",
      "---------------\n",
      "Batch 0\n",
      "train loss: 0.1385 [0/27652]\n",
      "Finished with batches...\n",
      "Finished with one full epoch...\n",
      "Finished all batches in validation...\n",
      "Finished with calculating metrics...\n",
      "Epoch 1021\n",
      "---------------\n",
      "Batch 0\n",
      "train loss: 0.1387 [0/27652]\n",
      "Finished with batches...\n",
      "Finished with one full epoch...\n",
      "Finished all batches in validation...\n",
      "Finished with calculating metrics...\n",
      "Epoch 1022\n",
      "---------------\n",
      "Batch 0\n",
      "train loss: 0.1383 [0/27652]\n",
      "Finished with batches...\n",
      "Finished with one full epoch...\n",
      "Finished all batches in validation...\n",
      "Finished with calculating metrics...\n",
      "Epoch 1023\n",
      "---------------\n",
      "Batch 0\n",
      "train loss: 0.1386 [0/27652]\n",
      "Finished with batches...\n",
      "Finished with one full epoch...\n",
      "Finished all batches in validation...\n",
      "Finished with calculating metrics...\n",
      "Epoch 1024\n",
      "---------------\n",
      "Batch 0\n",
      "train loss: 0.1396 [0/27652]\n",
      "Finished with batches...\n",
      "Finished with one full epoch...\n",
      "Finished all batches in validation...\n",
      "Finished with calculating metrics...\n",
      "Epoch 1025\n",
      "---------------\n",
      "Batch 0\n",
      "train loss: 0.1390 [0/27652]\n",
      "Finished with batches...\n",
      "Finished with one full epoch...\n",
      "Finished all batches in validation...\n",
      "Finished with calculating metrics...\n",
      "Epoch 1026\n",
      "---------------\n"
     ]
    },
    {
     "name": "stderr",
     "output_type": "stream",
     "text": [
      "/home/yang1641/.local/lib/python3.8/site-packages/sklearn/metrics/_ranking.py:980: UserWarning: No positive class found in y_true, recall is set to one for all thresholds.\n",
      "  warnings.warn(\n"
     ]
    },
    {
     "name": "stdout",
     "output_type": "stream",
     "text": [
      "Batch 0\n",
      "train loss: 0.1386 [0/27652]\n",
      "Finished with batches...\n",
      "Finished with one full epoch...\n",
      "Finished all batches in validation...\n",
      "Finished with calculating metrics...\n",
      "Epoch 1027\n",
      "---------------\n"
     ]
    },
    {
     "name": "stderr",
     "output_type": "stream",
     "text": [
      "/home/yang1641/.local/lib/python3.8/site-packages/sklearn/metrics/_ranking.py:980: UserWarning: No positive class found in y_true, recall is set to one for all thresholds.\n",
      "  warnings.warn(\n"
     ]
    },
    {
     "name": "stdout",
     "output_type": "stream",
     "text": [
      "Batch 0\n",
      "train loss: 0.1400 [0/27652]\n",
      "Finished with batches...\n",
      "Finished with one full epoch...\n",
      "Finished all batches in validation...\n",
      "Finished with calculating metrics...\n",
      "Epoch 1028\n",
      "---------------\n"
     ]
    },
    {
     "name": "stderr",
     "output_type": "stream",
     "text": [
      "/home/yang1641/.local/lib/python3.8/site-packages/sklearn/metrics/_ranking.py:980: UserWarning: No positive class found in y_true, recall is set to one for all thresholds.\n",
      "  warnings.warn(\n"
     ]
    },
    {
     "name": "stdout",
     "output_type": "stream",
     "text": [
      "Batch 0\n",
      "train loss: 0.1377 [0/27652]\n",
      "Finished with batches...\n",
      "Finished with one full epoch...\n",
      "Finished all batches in validation...\n",
      "Finished with calculating metrics...\n",
      "Epoch 1029\n",
      "---------------\n",
      "Batch 0\n",
      "train loss: 0.1392 [0/27652]\n",
      "Finished with batches...\n",
      "Finished with one full epoch...\n",
      "Finished all batches in validation...\n",
      "Finished with calculating metrics...\n",
      "Epoch 1030\n",
      "---------------\n",
      "Batch 0\n",
      "train loss: 0.1400 [0/27652]\n",
      "Finished with batches...\n",
      "Finished with one full epoch...\n",
      "Finished all batches in validation...\n",
      "Finished with calculating metrics...\n",
      "Epoch 1031\n",
      "---------------\n",
      "Batch 0\n",
      "train loss: 0.1389 [0/27652]\n",
      "Finished with batches...\n",
      "Finished with one full epoch...\n",
      "Finished all batches in validation...\n",
      "Finished with calculating metrics...\n",
      "Epoch 1032\n",
      "---------------\n"
     ]
    },
    {
     "name": "stderr",
     "output_type": "stream",
     "text": [
      "/home/yang1641/.local/lib/python3.8/site-packages/sklearn/metrics/_ranking.py:980: UserWarning: No positive class found in y_true, recall is set to one for all thresholds.\n",
      "  warnings.warn(\n"
     ]
    },
    {
     "name": "stdout",
     "output_type": "stream",
     "text": [
      "Batch 0\n",
      "train loss: 0.1391 [0/27652]\n",
      "Finished with batches...\n",
      "Finished with one full epoch...\n",
      "Finished all batches in validation...\n",
      "Finished with calculating metrics...\n",
      "Epoch 1033\n",
      "---------------\n",
      "Batch 0\n",
      "train loss: 0.1378 [0/27652]\n",
      "Finished with batches...\n",
      "Finished with one full epoch...\n",
      "Finished all batches in validation...\n",
      "Finished with calculating metrics...\n",
      "Epoch 1034\n",
      "---------------\n",
      "Batch 0\n",
      "train loss: 0.1408 [0/27652]\n",
      "Finished with batches...\n",
      "Finished with one full epoch...\n",
      "Finished all batches in validation...\n",
      "Finished with calculating metrics...\n",
      "Epoch 1035\n",
      "---------------\n",
      "Batch 0\n",
      "train loss: 0.1400 [0/27652]\n",
      "Finished with batches...\n",
      "Finished with one full epoch...\n",
      "Finished all batches in validation...\n",
      "Finished with calculating metrics...\n",
      "Epoch 1036\n",
      "---------------\n"
     ]
    },
    {
     "name": "stderr",
     "output_type": "stream",
     "text": [
      "/home/yang1641/.local/lib/python3.8/site-packages/sklearn/metrics/_ranking.py:980: UserWarning: No positive class found in y_true, recall is set to one for all thresholds.\n",
      "  warnings.warn(\n"
     ]
    },
    {
     "name": "stdout",
     "output_type": "stream",
     "text": [
      "Batch 0\n",
      "train loss: 0.1376 [0/27652]\n",
      "Finished with batches...\n",
      "Finished with one full epoch...\n",
      "Finished all batches in validation...\n",
      "Finished with calculating metrics...\n",
      "Epoch 1037\n",
      "---------------\n"
     ]
    },
    {
     "name": "stderr",
     "output_type": "stream",
     "text": [
      "/home/yang1641/.local/lib/python3.8/site-packages/sklearn/metrics/_ranking.py:980: UserWarning: No positive class found in y_true, recall is set to one for all thresholds.\n",
      "  warnings.warn(\n"
     ]
    },
    {
     "name": "stdout",
     "output_type": "stream",
     "text": [
      "Batch 0\n",
      "train loss: 0.1403 [0/27652]\n",
      "Finished with batches...\n",
      "Finished with one full epoch...\n",
      "Finished all batches in validation...\n",
      "Finished with calculating metrics...\n",
      "Epoch 1038\n",
      "---------------\n"
     ]
    },
    {
     "name": "stderr",
     "output_type": "stream",
     "text": [
      "/home/yang1641/.local/lib/python3.8/site-packages/sklearn/metrics/_ranking.py:980: UserWarning: No positive class found in y_true, recall is set to one for all thresholds.\n",
      "  warnings.warn(\n"
     ]
    },
    {
     "name": "stdout",
     "output_type": "stream",
     "text": [
      "Batch 0\n",
      "train loss: 0.1393 [0/27652]\n",
      "Finished with batches...\n",
      "Finished with one full epoch...\n",
      "Finished all batches in validation...\n",
      "Finished with calculating metrics...\n",
      "Epoch 1039\n",
      "---------------\n"
     ]
    },
    {
     "name": "stderr",
     "output_type": "stream",
     "text": [
      "/home/yang1641/.local/lib/python3.8/site-packages/sklearn/metrics/_ranking.py:980: UserWarning: No positive class found in y_true, recall is set to one for all thresholds.\n",
      "  warnings.warn(\n"
     ]
    },
    {
     "name": "stdout",
     "output_type": "stream",
     "text": [
      "Batch 0\n",
      "train loss: 0.1397 [0/27652]\n",
      "Finished with batches...\n",
      "Finished with one full epoch...\n",
      "Finished all batches in validation...\n",
      "Finished with calculating metrics...\n",
      "Epoch 1040\n",
      "---------------\n"
     ]
    },
    {
     "name": "stderr",
     "output_type": "stream",
     "text": [
      "/home/yang1641/.local/lib/python3.8/site-packages/sklearn/metrics/_ranking.py:980: UserWarning: No positive class found in y_true, recall is set to one for all thresholds.\n",
      "  warnings.warn(\n"
     ]
    },
    {
     "name": "stdout",
     "output_type": "stream",
     "text": [
      "Batch 0\n",
      "train loss: 0.1388 [0/27652]\n",
      "Finished with batches...\n",
      "Finished with one full epoch...\n",
      "Finished all batches in validation...\n",
      "Finished with calculating metrics...\n",
      "Epoch 1041\n",
      "---------------\n"
     ]
    },
    {
     "name": "stderr",
     "output_type": "stream",
     "text": [
      "/home/yang1641/.local/lib/python3.8/site-packages/sklearn/metrics/_ranking.py:980: UserWarning: No positive class found in y_true, recall is set to one for all thresholds.\n",
      "  warnings.warn(\n"
     ]
    },
    {
     "name": "stdout",
     "output_type": "stream",
     "text": [
      "Batch 0\n",
      "train loss: 0.1392 [0/27652]\n",
      "Finished with batches...\n",
      "Finished with one full epoch...\n",
      "Finished all batches in validation...\n",
      "Finished with calculating metrics...\n",
      "Epoch 1042\n",
      "---------------\n"
     ]
    },
    {
     "name": "stderr",
     "output_type": "stream",
     "text": [
      "/home/yang1641/.local/lib/python3.8/site-packages/sklearn/metrics/_ranking.py:980: UserWarning: No positive class found in y_true, recall is set to one for all thresholds.\n",
      "  warnings.warn(\n"
     ]
    },
    {
     "name": "stdout",
     "output_type": "stream",
     "text": [
      "Batch 0\n",
      "train loss: 0.1397 [0/27652]\n",
      "Finished with batches...\n",
      "Finished with one full epoch...\n",
      "Finished all batches in validation...\n",
      "Finished with calculating metrics...\n",
      "Epoch 1043\n",
      "---------------\n"
     ]
    },
    {
     "name": "stderr",
     "output_type": "stream",
     "text": [
      "/home/yang1641/.local/lib/python3.8/site-packages/sklearn/metrics/_ranking.py:980: UserWarning: No positive class found in y_true, recall is set to one for all thresholds.\n",
      "  warnings.warn(\n"
     ]
    },
    {
     "name": "stdout",
     "output_type": "stream",
     "text": [
      "Batch 0\n",
      "train loss: 0.1393 [0/27652]\n",
      "Finished with batches...\n",
      "Finished with one full epoch...\n",
      "Finished all batches in validation...\n",
      "Finished with calculating metrics...\n",
      "Epoch 1044\n",
      "---------------\n"
     ]
    },
    {
     "name": "stderr",
     "output_type": "stream",
     "text": [
      "/home/yang1641/.local/lib/python3.8/site-packages/sklearn/metrics/_ranking.py:980: UserWarning: No positive class found in y_true, recall is set to one for all thresholds.\n",
      "  warnings.warn(\n"
     ]
    },
    {
     "name": "stdout",
     "output_type": "stream",
     "text": [
      "Batch 0\n",
      "train loss: 0.1391 [0/27652]\n",
      "Finished with batches...\n",
      "Finished with one full epoch...\n",
      "Finished all batches in validation...\n",
      "Finished with calculating metrics...\n",
      "Epoch 1045\n",
      "---------------\n"
     ]
    },
    {
     "name": "stderr",
     "output_type": "stream",
     "text": [
      "/home/yang1641/.local/lib/python3.8/site-packages/sklearn/metrics/_ranking.py:980: UserWarning: No positive class found in y_true, recall is set to one for all thresholds.\n",
      "  warnings.warn(\n"
     ]
    },
    {
     "name": "stdout",
     "output_type": "stream",
     "text": [
      "Batch 0\n",
      "train loss: 0.1389 [0/27652]\n",
      "Finished with batches...\n",
      "Finished with one full epoch...\n",
      "Finished all batches in validation...\n",
      "Finished with calculating metrics...\n",
      "Epoch 1046\n",
      "---------------\n"
     ]
    },
    {
     "name": "stderr",
     "output_type": "stream",
     "text": [
      "/home/yang1641/.local/lib/python3.8/site-packages/sklearn/metrics/_ranking.py:980: UserWarning: No positive class found in y_true, recall is set to one for all thresholds.\n",
      "  warnings.warn(\n"
     ]
    },
    {
     "name": "stdout",
     "output_type": "stream",
     "text": [
      "Batch 0\n",
      "train loss: 0.1403 [0/27652]\n",
      "Finished with batches...\n",
      "Finished with one full epoch...\n",
      "Finished all batches in validation...\n",
      "Finished with calculating metrics...\n",
      "Epoch 1047\n",
      "---------------\n"
     ]
    },
    {
     "name": "stderr",
     "output_type": "stream",
     "text": [
      "/home/yang1641/.local/lib/python3.8/site-packages/sklearn/metrics/_ranking.py:980: UserWarning: No positive class found in y_true, recall is set to one for all thresholds.\n",
      "  warnings.warn(\n"
     ]
    },
    {
     "name": "stdout",
     "output_type": "stream",
     "text": [
      "Batch 0\n",
      "train loss: 0.1395 [0/27652]\n",
      "Finished with batches...\n",
      "Finished with one full epoch...\n",
      "Finished all batches in validation...\n",
      "Finished with calculating metrics...\n",
      "Epoch 1048\n",
      "---------------\n"
     ]
    },
    {
     "name": "stderr",
     "output_type": "stream",
     "text": [
      "/home/yang1641/.local/lib/python3.8/site-packages/sklearn/metrics/_ranking.py:980: UserWarning: No positive class found in y_true, recall is set to one for all thresholds.\n",
      "  warnings.warn(\n"
     ]
    },
    {
     "name": "stdout",
     "output_type": "stream",
     "text": [
      "Batch 0\n",
      "train loss: 0.1378 [0/27652]\n",
      "Finished with batches...\n",
      "Finished with one full epoch...\n",
      "Finished all batches in validation...\n",
      "Finished with calculating metrics...\n",
      "Epoch 1049\n",
      "---------------\n"
     ]
    },
    {
     "name": "stderr",
     "output_type": "stream",
     "text": [
      "/home/yang1641/.local/lib/python3.8/site-packages/sklearn/metrics/_ranking.py:980: UserWarning: No positive class found in y_true, recall is set to one for all thresholds.\n",
      "  warnings.warn(\n"
     ]
    },
    {
     "name": "stdout",
     "output_type": "stream",
     "text": [
      "Batch 0\n",
      "train loss: 0.1387 [0/27652]\n",
      "Finished with batches...\n",
      "Finished with one full epoch...\n",
      "Finished all batches in validation...\n",
      "Finished with calculating metrics...\n",
      "Epoch 1050\n",
      "---------------\n"
     ]
    },
    {
     "name": "stderr",
     "output_type": "stream",
     "text": [
      "/home/yang1641/.local/lib/python3.8/site-packages/sklearn/metrics/_ranking.py:980: UserWarning: No positive class found in y_true, recall is set to one for all thresholds.\n",
      "  warnings.warn(\n"
     ]
    },
    {
     "name": "stdout",
     "output_type": "stream",
     "text": [
      "Batch 0\n",
      "train loss: 0.1397 [0/27652]\n",
      "Finished with batches...\n",
      "Finished with one full epoch...\n",
      "Finished all batches in validation...\n",
      "Finished with calculating metrics...\n",
      "Epoch 1051\n",
      "---------------\n",
      "Batch 0\n",
      "train loss: 0.1389 [0/27652]\n",
      "Finished with batches...\n",
      "Finished with one full epoch...\n",
      "Finished all batches in validation...\n",
      "Finished with calculating metrics...\n",
      "Epoch 1052\n",
      "---------------\n"
     ]
    },
    {
     "name": "stderr",
     "output_type": "stream",
     "text": [
      "/home/yang1641/.local/lib/python3.8/site-packages/sklearn/metrics/_ranking.py:980: UserWarning: No positive class found in y_true, recall is set to one for all thresholds.\n",
      "  warnings.warn(\n"
     ]
    },
    {
     "name": "stdout",
     "output_type": "stream",
     "text": [
      "Batch 0\n",
      "train loss: 0.1391 [0/27652]\n",
      "Finished with batches...\n",
      "Finished with one full epoch...\n",
      "Finished all batches in validation...\n",
      "Finished with calculating metrics...\n",
      "Epoch 1053\n",
      "---------------\n"
     ]
    },
    {
     "name": "stderr",
     "output_type": "stream",
     "text": [
      "/home/yang1641/.local/lib/python3.8/site-packages/sklearn/metrics/_ranking.py:980: UserWarning: No positive class found in y_true, recall is set to one for all thresholds.\n",
      "  warnings.warn(\n"
     ]
    },
    {
     "name": "stdout",
     "output_type": "stream",
     "text": [
      "Batch 0\n",
      "train loss: 0.1384 [0/27652]\n",
      "Finished with batches...\n",
      "Finished with one full epoch...\n",
      "Finished all batches in validation...\n",
      "Finished with calculating metrics...\n",
      "Epoch 1054\n",
      "---------------\n",
      "Batch 0\n",
      "train loss: 0.1385 [0/27652]\n",
      "Finished with batches...\n",
      "Finished with one full epoch...\n",
      "Finished all batches in validation...\n",
      "Finished with calculating metrics...\n",
      "Epoch 1055\n",
      "---------------\n"
     ]
    },
    {
     "name": "stderr",
     "output_type": "stream",
     "text": [
      "/home/yang1641/.local/lib/python3.8/site-packages/sklearn/metrics/_ranking.py:980: UserWarning: No positive class found in y_true, recall is set to one for all thresholds.\n",
      "  warnings.warn(\n"
     ]
    },
    {
     "name": "stdout",
     "output_type": "stream",
     "text": [
      "Batch 0\n",
      "train loss: 0.1393 [0/27652]\n",
      "Finished with batches...\n",
      "Finished with one full epoch...\n",
      "Finished all batches in validation...\n",
      "Finished with calculating metrics...\n",
      "Epoch 1056\n",
      "---------------\n"
     ]
    },
    {
     "name": "stderr",
     "output_type": "stream",
     "text": [
      "/home/yang1641/.local/lib/python3.8/site-packages/sklearn/metrics/_ranking.py:980: UserWarning: No positive class found in y_true, recall is set to one for all thresholds.\n",
      "  warnings.warn(\n"
     ]
    },
    {
     "name": "stdout",
     "output_type": "stream",
     "text": [
      "Batch 0\n",
      "train loss: 0.1398 [0/27652]\n",
      "Finished with batches...\n",
      "Finished with one full epoch...\n",
      "Finished all batches in validation...\n",
      "Finished with calculating metrics...\n",
      "Epoch 1057\n",
      "---------------\n"
     ]
    },
    {
     "name": "stderr",
     "output_type": "stream",
     "text": [
      "/home/yang1641/.local/lib/python3.8/site-packages/sklearn/metrics/_ranking.py:980: UserWarning: No positive class found in y_true, recall is set to one for all thresholds.\n",
      "  warnings.warn(\n"
     ]
    },
    {
     "name": "stdout",
     "output_type": "stream",
     "text": [
      "Batch 0\n",
      "train loss: 0.1397 [0/27652]\n",
      "Finished with batches...\n",
      "Finished with one full epoch...\n",
      "Finished all batches in validation...\n",
      "Finished with calculating metrics...\n",
      "Epoch 1058\n",
      "---------------\n"
     ]
    },
    {
     "name": "stderr",
     "output_type": "stream",
     "text": [
      "/home/yang1641/.local/lib/python3.8/site-packages/sklearn/metrics/_ranking.py:980: UserWarning: No positive class found in y_true, recall is set to one for all thresholds.\n",
      "  warnings.warn(\n"
     ]
    },
    {
     "name": "stdout",
     "output_type": "stream",
     "text": [
      "Batch 0\n",
      "train loss: 0.1407 [0/27652]\n",
      "Finished with batches...\n",
      "Finished with one full epoch...\n",
      "Finished all batches in validation...\n",
      "Finished with calculating metrics...\n",
      "Epoch 1059\n",
      "---------------\n"
     ]
    },
    {
     "name": "stderr",
     "output_type": "stream",
     "text": [
      "/home/yang1641/.local/lib/python3.8/site-packages/sklearn/metrics/_ranking.py:980: UserWarning: No positive class found in y_true, recall is set to one for all thresholds.\n",
      "  warnings.warn(\n"
     ]
    },
    {
     "name": "stdout",
     "output_type": "stream",
     "text": [
      "Batch 0\n",
      "train loss: 0.1402 [0/27652]\n",
      "Finished with batches...\n",
      "Finished with one full epoch...\n",
      "Finished all batches in validation...\n",
      "Finished with calculating metrics...\n",
      "Epoch 1060\n",
      "---------------\n"
     ]
    },
    {
     "name": "stderr",
     "output_type": "stream",
     "text": [
      "/home/yang1641/.local/lib/python3.8/site-packages/sklearn/metrics/_ranking.py:980: UserWarning: No positive class found in y_true, recall is set to one for all thresholds.\n",
      "  warnings.warn(\n"
     ]
    },
    {
     "name": "stdout",
     "output_type": "stream",
     "text": [
      "Batch 0\n",
      "train loss: 0.1394 [0/27652]\n",
      "Finished with batches...\n",
      "Finished with one full epoch...\n",
      "Finished all batches in validation...\n",
      "Finished with calculating metrics...\n",
      "Epoch 1061\n",
      "---------------\n"
     ]
    },
    {
     "name": "stderr",
     "output_type": "stream",
     "text": [
      "/home/yang1641/.local/lib/python3.8/site-packages/sklearn/metrics/_ranking.py:980: UserWarning: No positive class found in y_true, recall is set to one for all thresholds.\n",
      "  warnings.warn(\n"
     ]
    },
    {
     "name": "stdout",
     "output_type": "stream",
     "text": [
      "Batch 0\n",
      "train loss: 0.1393 [0/27652]\n",
      "Finished with batches...\n",
      "Finished with one full epoch...\n",
      "Finished all batches in validation...\n",
      "Finished with calculating metrics...\n",
      "Epoch 1062\n",
      "---------------\n"
     ]
    },
    {
     "name": "stderr",
     "output_type": "stream",
     "text": [
      "/home/yang1641/.local/lib/python3.8/site-packages/sklearn/metrics/_ranking.py:980: UserWarning: No positive class found in y_true, recall is set to one for all thresholds.\n",
      "  warnings.warn(\n"
     ]
    },
    {
     "name": "stdout",
     "output_type": "stream",
     "text": [
      "Batch 0\n",
      "train loss: 0.1408 [0/27652]\n",
      "Finished with batches...\n",
      "Finished with one full epoch...\n",
      "Finished all batches in validation...\n",
      "Finished with calculating metrics...\n",
      "Epoch 1063\n",
      "---------------\n"
     ]
    },
    {
     "name": "stderr",
     "output_type": "stream",
     "text": [
      "/home/yang1641/.local/lib/python3.8/site-packages/sklearn/metrics/_ranking.py:980: UserWarning: No positive class found in y_true, recall is set to one for all thresholds.\n",
      "  warnings.warn(\n"
     ]
    },
    {
     "name": "stdout",
     "output_type": "stream",
     "text": [
      "Batch 0\n",
      "train loss: 0.1388 [0/27652]\n",
      "Finished with batches...\n",
      "Finished with one full epoch...\n",
      "Finished all batches in validation...\n",
      "Finished with calculating metrics...\n",
      "Epoch 1064\n",
      "---------------\n"
     ]
    },
    {
     "name": "stderr",
     "output_type": "stream",
     "text": [
      "/home/yang1641/.local/lib/python3.8/site-packages/sklearn/metrics/_ranking.py:980: UserWarning: No positive class found in y_true, recall is set to one for all thresholds.\n",
      "  warnings.warn(\n"
     ]
    },
    {
     "name": "stdout",
     "output_type": "stream",
     "text": [
      "Batch 0\n",
      "train loss: 0.1392 [0/27652]\n",
      "Finished with batches...\n",
      "Finished with one full epoch...\n",
      "Finished all batches in validation...\n",
      "Finished with calculating metrics...\n",
      "Epoch 1065\n",
      "---------------\n"
     ]
    },
    {
     "name": "stderr",
     "output_type": "stream",
     "text": [
      "/home/yang1641/.local/lib/python3.8/site-packages/sklearn/metrics/_ranking.py:980: UserWarning: No positive class found in y_true, recall is set to one for all thresholds.\n",
      "  warnings.warn(\n"
     ]
    },
    {
     "name": "stdout",
     "output_type": "stream",
     "text": [
      "Batch 0\n",
      "train loss: 0.1369 [0/27652]\n",
      "Finished with batches...\n",
      "Finished with one full epoch...\n",
      "Finished all batches in validation...\n",
      "Finished with calculating metrics...\n",
      "Epoch 1066\n",
      "---------------\n",
      "Batch 0\n",
      "train loss: 0.1393 [0/27652]\n",
      "Finished with batches...\n",
      "Finished with one full epoch...\n",
      "Finished all batches in validation...\n",
      "Finished with calculating metrics...\n",
      "Epoch 1067\n",
      "---------------\n"
     ]
    },
    {
     "name": "stderr",
     "output_type": "stream",
     "text": [
      "/home/yang1641/.local/lib/python3.8/site-packages/sklearn/metrics/_ranking.py:980: UserWarning: No positive class found in y_true, recall is set to one for all thresholds.\n",
      "  warnings.warn(\n"
     ]
    },
    {
     "name": "stdout",
     "output_type": "stream",
     "text": [
      "Batch 0\n",
      "train loss: 0.1385 [0/27652]\n",
      "Finished with batches...\n",
      "Finished with one full epoch...\n",
      "Finished all batches in validation...\n",
      "Finished with calculating metrics...\n",
      "Epoch 1068\n",
      "---------------\n"
     ]
    },
    {
     "name": "stderr",
     "output_type": "stream",
     "text": [
      "/home/yang1641/.local/lib/python3.8/site-packages/sklearn/metrics/_ranking.py:980: UserWarning: No positive class found in y_true, recall is set to one for all thresholds.\n",
      "  warnings.warn(\n"
     ]
    },
    {
     "name": "stdout",
     "output_type": "stream",
     "text": [
      "Batch 0\n",
      "train loss: 0.1410 [0/27652]\n",
      "Finished with batches...\n",
      "Finished with one full epoch...\n",
      "Finished all batches in validation...\n",
      "Finished with calculating metrics...\n",
      "Epoch 1069\n",
      "---------------\n"
     ]
    },
    {
     "name": "stderr",
     "output_type": "stream",
     "text": [
      "/home/yang1641/.local/lib/python3.8/site-packages/sklearn/metrics/_ranking.py:980: UserWarning: No positive class found in y_true, recall is set to one for all thresholds.\n",
      "  warnings.warn(\n"
     ]
    },
    {
     "name": "stdout",
     "output_type": "stream",
     "text": [
      "Batch 0\n",
      "train loss: 0.1389 [0/27652]\n",
      "Finished with batches...\n",
      "Finished with one full epoch...\n",
      "Finished all batches in validation...\n",
      "Finished with calculating metrics...\n",
      "Epoch 1070\n",
      "---------------\n"
     ]
    },
    {
     "name": "stderr",
     "output_type": "stream",
     "text": [
      "/home/yang1641/.local/lib/python3.8/site-packages/sklearn/metrics/_ranking.py:980: UserWarning: No positive class found in y_true, recall is set to one for all thresholds.\n",
      "  warnings.warn(\n"
     ]
    },
    {
     "name": "stdout",
     "output_type": "stream",
     "text": [
      "Batch 0\n",
      "train loss: 0.1403 [0/27652]\n",
      "Finished with batches...\n",
      "Finished with one full epoch...\n",
      "Finished all batches in validation...\n",
      "Finished with calculating metrics...\n",
      "Epoch 1071\n",
      "---------------\n"
     ]
    },
    {
     "name": "stderr",
     "output_type": "stream",
     "text": [
      "/home/yang1641/.local/lib/python3.8/site-packages/sklearn/metrics/_ranking.py:980: UserWarning: No positive class found in y_true, recall is set to one for all thresholds.\n",
      "  warnings.warn(\n"
     ]
    },
    {
     "name": "stdout",
     "output_type": "stream",
     "text": [
      "Batch 0\n",
      "train loss: 0.1393 [0/27652]\n",
      "Finished with batches...\n",
      "Finished with one full epoch...\n",
      "Finished all batches in validation...\n",
      "Finished with calculating metrics...\n",
      "Epoch 1072\n",
      "---------------\n"
     ]
    },
    {
     "name": "stderr",
     "output_type": "stream",
     "text": [
      "/home/yang1641/.local/lib/python3.8/site-packages/sklearn/metrics/_ranking.py:980: UserWarning: No positive class found in y_true, recall is set to one for all thresholds.\n",
      "  warnings.warn(\n"
     ]
    },
    {
     "name": "stdout",
     "output_type": "stream",
     "text": [
      "Batch 0\n",
      "train loss: 0.1399 [0/27652]\n",
      "Finished with batches...\n",
      "Finished with one full epoch...\n",
      "Finished all batches in validation...\n",
      "Finished with calculating metrics...\n",
      "Epoch 1073\n",
      "---------------\n"
     ]
    },
    {
     "name": "stderr",
     "output_type": "stream",
     "text": [
      "/home/yang1641/.local/lib/python3.8/site-packages/sklearn/metrics/_ranking.py:980: UserWarning: No positive class found in y_true, recall is set to one for all thresholds.\n",
      "  warnings.warn(\n"
     ]
    },
    {
     "name": "stdout",
     "output_type": "stream",
     "text": [
      "Batch 0\n",
      "train loss: 0.1401 [0/27652]\n",
      "Finished with batches...\n",
      "Finished with one full epoch...\n",
      "Finished all batches in validation...\n",
      "Finished with calculating metrics...\n",
      "Epoch 1074\n",
      "---------------\n"
     ]
    },
    {
     "name": "stderr",
     "output_type": "stream",
     "text": [
      "/home/yang1641/.local/lib/python3.8/site-packages/sklearn/metrics/_ranking.py:980: UserWarning: No positive class found in y_true, recall is set to one for all thresholds.\n",
      "  warnings.warn(\n"
     ]
    },
    {
     "name": "stdout",
     "output_type": "stream",
     "text": [
      "Batch 0\n",
      "train loss: 0.1393 [0/27652]\n",
      "Finished with batches...\n",
      "Finished with one full epoch...\n",
      "Finished all batches in validation...\n",
      "Finished with calculating metrics...\n",
      "Epoch 1075\n",
      "---------------\n"
     ]
    },
    {
     "name": "stderr",
     "output_type": "stream",
     "text": [
      "/home/yang1641/.local/lib/python3.8/site-packages/sklearn/metrics/_ranking.py:980: UserWarning: No positive class found in y_true, recall is set to one for all thresholds.\n",
      "  warnings.warn(\n"
     ]
    },
    {
     "name": "stdout",
     "output_type": "stream",
     "text": [
      "Batch 0\n",
      "train loss: 0.1407 [0/27652]\n",
      "Finished with batches...\n",
      "Finished with one full epoch...\n",
      "Finished all batches in validation...\n",
      "Finished with calculating metrics...\n",
      "Epoch 1076\n",
      "---------------\n"
     ]
    },
    {
     "name": "stderr",
     "output_type": "stream",
     "text": [
      "/home/yang1641/.local/lib/python3.8/site-packages/sklearn/metrics/_ranking.py:980: UserWarning: No positive class found in y_true, recall is set to one for all thresholds.\n",
      "  warnings.warn(\n"
     ]
    },
    {
     "name": "stdout",
     "output_type": "stream",
     "text": [
      "Batch 0\n",
      "train loss: 0.1384 [0/27652]\n",
      "Finished with batches...\n",
      "Finished with one full epoch...\n",
      "Finished all batches in validation...\n",
      "Finished with calculating metrics...\n",
      "Epoch 1077\n",
      "---------------\n"
     ]
    },
    {
     "name": "stderr",
     "output_type": "stream",
     "text": [
      "/home/yang1641/.local/lib/python3.8/site-packages/sklearn/metrics/_ranking.py:980: UserWarning: No positive class found in y_true, recall is set to one for all thresholds.\n",
      "  warnings.warn(\n"
     ]
    },
    {
     "name": "stdout",
     "output_type": "stream",
     "text": [
      "Batch 0\n",
      "train loss: 0.1391 [0/27652]\n",
      "Finished with batches...\n",
      "Finished with one full epoch...\n",
      "Finished all batches in validation...\n",
      "Finished with calculating metrics...\n",
      "Epoch 1078\n",
      "---------------\n"
     ]
    },
    {
     "name": "stderr",
     "output_type": "stream",
     "text": [
      "/home/yang1641/.local/lib/python3.8/site-packages/sklearn/metrics/_ranking.py:980: UserWarning: No positive class found in y_true, recall is set to one for all thresholds.\n",
      "  warnings.warn(\n"
     ]
    },
    {
     "name": "stdout",
     "output_type": "stream",
     "text": [
      "Batch 0\n",
      "train loss: 0.1383 [0/27652]\n",
      "Finished with batches...\n",
      "Finished with one full epoch...\n",
      "Finished all batches in validation...\n",
      "Finished with calculating metrics...\n",
      "Epoch 1079\n",
      "---------------\n"
     ]
    },
    {
     "name": "stderr",
     "output_type": "stream",
     "text": [
      "/home/yang1641/.local/lib/python3.8/site-packages/sklearn/metrics/_ranking.py:980: UserWarning: No positive class found in y_true, recall is set to one for all thresholds.\n",
      "  warnings.warn(\n"
     ]
    },
    {
     "name": "stdout",
     "output_type": "stream",
     "text": [
      "Batch 0\n",
      "train loss: 0.1395 [0/27652]\n",
      "Finished with batches...\n",
      "Finished with one full epoch...\n",
      "Finished all batches in validation...\n",
      "Finished with calculating metrics...\n",
      "Epoch 1080\n",
      "---------------\n"
     ]
    },
    {
     "name": "stderr",
     "output_type": "stream",
     "text": [
      "/home/yang1641/.local/lib/python3.8/site-packages/sklearn/metrics/_ranking.py:980: UserWarning: No positive class found in y_true, recall is set to one for all thresholds.\n",
      "  warnings.warn(\n"
     ]
    },
    {
     "name": "stdout",
     "output_type": "stream",
     "text": [
      "Batch 0\n",
      "train loss: 0.1401 [0/27652]\n",
      "Finished with batches...\n",
      "Finished with one full epoch...\n",
      "Finished all batches in validation...\n",
      "Finished with calculating metrics...\n",
      "Epoch 1081\n",
      "---------------\n",
      "Batch 0\n",
      "train loss: 0.1389 [0/27652]\n",
      "Finished with batches...\n",
      "Finished with one full epoch...\n",
      "Finished all batches in validation...\n",
      "Finished with calculating metrics...\n",
      "Epoch 1082\n",
      "---------------\n",
      "Batch 0\n",
      "train loss: 0.1392 [0/27652]\n",
      "Finished with batches...\n",
      "Finished with one full epoch...\n",
      "Finished all batches in validation...\n",
      "Finished with calculating metrics...\n",
      "Epoch 1083\n",
      "---------------\n",
      "Batch 0\n",
      "train loss: 0.1382 [0/27652]\n",
      "Finished with batches...\n",
      "Finished with one full epoch...\n",
      "Finished all batches in validation...\n",
      "Finished with calculating metrics...\n",
      "Epoch 1084\n",
      "---------------\n",
      "Batch 0\n",
      "train loss: 0.1392 [0/27652]\n",
      "Finished with batches...\n",
      "Finished with one full epoch...\n",
      "Finished all batches in validation...\n",
      "Finished with calculating metrics...\n",
      "Epoch 1085\n",
      "---------------\n",
      "Batch 0\n",
      "train loss: 0.1402 [0/27652]\n",
      "Finished with batches...\n",
      "Finished with one full epoch...\n",
      "Finished all batches in validation...\n",
      "Finished with calculating metrics...\n",
      "Epoch 1086\n",
      "---------------\n",
      "Batch 0\n",
      "train loss: 0.1394 [0/27652]\n",
      "Finished with batches...\n",
      "Finished with one full epoch...\n",
      "Finished all batches in validation...\n",
      "Finished with calculating metrics...\n",
      "Epoch 1087\n",
      "---------------\n",
      "Batch 0\n",
      "train loss: 0.1399 [0/27652]\n",
      "Finished with batches...\n",
      "Finished with one full epoch...\n",
      "Finished all batches in validation...\n",
      "Finished with calculating metrics...\n",
      "Epoch 1088\n",
      "---------------\n",
      "Batch 0\n",
      "train loss: 0.1391 [0/27652]\n",
      "Finished with batches...\n",
      "Finished with one full epoch...\n",
      "Finished all batches in validation...\n",
      "Finished with calculating metrics...\n",
      "Epoch 1089\n",
      "---------------\n"
     ]
    },
    {
     "name": "stderr",
     "output_type": "stream",
     "text": [
      "/home/yang1641/.local/lib/python3.8/site-packages/sklearn/metrics/_ranking.py:980: UserWarning: No positive class found in y_true, recall is set to one for all thresholds.\n",
      "  warnings.warn(\n"
     ]
    },
    {
     "name": "stdout",
     "output_type": "stream",
     "text": [
      "Batch 0\n",
      "train loss: 0.1386 [0/27652]\n",
      "Finished with batches...\n",
      "Finished with one full epoch...\n",
      "Finished all batches in validation...\n",
      "Finished with calculating metrics...\n",
      "Epoch 1090\n",
      "---------------\n"
     ]
    },
    {
     "name": "stderr",
     "output_type": "stream",
     "text": [
      "/home/yang1641/.local/lib/python3.8/site-packages/sklearn/metrics/_ranking.py:980: UserWarning: No positive class found in y_true, recall is set to one for all thresholds.\n",
      "  warnings.warn(\n"
     ]
    },
    {
     "name": "stdout",
     "output_type": "stream",
     "text": [
      "Batch 0\n",
      "train loss: 0.1398 [0/27652]\n",
      "Finished with batches...\n",
      "Finished with one full epoch...\n",
      "Finished all batches in validation...\n",
      "Finished with calculating metrics...\n",
      "Epoch 1091\n",
      "---------------\n"
     ]
    },
    {
     "name": "stderr",
     "output_type": "stream",
     "text": [
      "/home/yang1641/.local/lib/python3.8/site-packages/sklearn/metrics/_ranking.py:980: UserWarning: No positive class found in y_true, recall is set to one for all thresholds.\n",
      "  warnings.warn(\n"
     ]
    },
    {
     "name": "stdout",
     "output_type": "stream",
     "text": [
      "Batch 0\n",
      "train loss: 0.1378 [0/27652]\n",
      "Finished with batches...\n",
      "Finished with one full epoch...\n",
      "Finished all batches in validation...\n",
      "Finished with calculating metrics...\n",
      "Epoch 1092\n",
      "---------------\n"
     ]
    },
    {
     "name": "stderr",
     "output_type": "stream",
     "text": [
      "/home/yang1641/.local/lib/python3.8/site-packages/sklearn/metrics/_ranking.py:980: UserWarning: No positive class found in y_true, recall is set to one for all thresholds.\n",
      "  warnings.warn(\n"
     ]
    },
    {
     "name": "stdout",
     "output_type": "stream",
     "text": [
      "Batch 0\n",
      "train loss: 0.1393 [0/27652]\n",
      "Finished with batches...\n",
      "Finished with one full epoch...\n",
      "Finished all batches in validation...\n",
      "Finished with calculating metrics...\n",
      "Epoch 1093\n",
      "---------------\n"
     ]
    },
    {
     "name": "stderr",
     "output_type": "stream",
     "text": [
      "/home/yang1641/.local/lib/python3.8/site-packages/sklearn/metrics/_ranking.py:980: UserWarning: No positive class found in y_true, recall is set to one for all thresholds.\n",
      "  warnings.warn(\n"
     ]
    },
    {
     "name": "stdout",
     "output_type": "stream",
     "text": [
      "Batch 0\n",
      "train loss: 0.1392 [0/27652]\n",
      "Finished with batches...\n",
      "Finished with one full epoch...\n",
      "Finished all batches in validation...\n",
      "Finished with calculating metrics...\n",
      "Epoch 1094\n",
      "---------------\n"
     ]
    },
    {
     "name": "stderr",
     "output_type": "stream",
     "text": [
      "/home/yang1641/.local/lib/python3.8/site-packages/sklearn/metrics/_ranking.py:980: UserWarning: No positive class found in y_true, recall is set to one for all thresholds.\n",
      "  warnings.warn(\n"
     ]
    },
    {
     "name": "stdout",
     "output_type": "stream",
     "text": [
      "Batch 0\n",
      "train loss: 0.1369 [0/27652]\n",
      "Finished with batches...\n",
      "Finished with one full epoch...\n",
      "Finished all batches in validation...\n",
      "Finished with calculating metrics...\n",
      "Epoch 1095\n",
      "---------------\n"
     ]
    },
    {
     "name": "stderr",
     "output_type": "stream",
     "text": [
      "/home/yang1641/.local/lib/python3.8/site-packages/sklearn/metrics/_ranking.py:980: UserWarning: No positive class found in y_true, recall is set to one for all thresholds.\n",
      "  warnings.warn(\n"
     ]
    },
    {
     "name": "stdout",
     "output_type": "stream",
     "text": [
      "Batch 0\n",
      "train loss: 0.1398 [0/27652]\n",
      "Finished with batches...\n",
      "Finished with one full epoch...\n",
      "Finished all batches in validation...\n",
      "Finished with calculating metrics...\n",
      "Epoch 1096\n",
      "---------------\n"
     ]
    },
    {
     "name": "stderr",
     "output_type": "stream",
     "text": [
      "/home/yang1641/.local/lib/python3.8/site-packages/sklearn/metrics/_ranking.py:980: UserWarning: No positive class found in y_true, recall is set to one for all thresholds.\n",
      "  warnings.warn(\n"
     ]
    },
    {
     "name": "stdout",
     "output_type": "stream",
     "text": [
      "Batch 0\n",
      "train loss: 0.1403 [0/27652]\n",
      "Finished with batches...\n",
      "Finished with one full epoch...\n",
      "Finished all batches in validation...\n",
      "Finished with calculating metrics...\n",
      "Epoch 1097\n",
      "---------------\n"
     ]
    },
    {
     "name": "stderr",
     "output_type": "stream",
     "text": [
      "/home/yang1641/.local/lib/python3.8/site-packages/sklearn/metrics/_ranking.py:980: UserWarning: No positive class found in y_true, recall is set to one for all thresholds.\n",
      "  warnings.warn(\n"
     ]
    },
    {
     "name": "stdout",
     "output_type": "stream",
     "text": [
      "Batch 0\n",
      "train loss: 0.1398 [0/27652]\n",
      "Finished with batches...\n",
      "Finished with one full epoch...\n",
      "Finished all batches in validation...\n",
      "Finished with calculating metrics...\n",
      "Epoch 1098\n",
      "---------------\n"
     ]
    },
    {
     "name": "stderr",
     "output_type": "stream",
     "text": [
      "/home/yang1641/.local/lib/python3.8/site-packages/sklearn/metrics/_ranking.py:980: UserWarning: No positive class found in y_true, recall is set to one for all thresholds.\n",
      "  warnings.warn(\n"
     ]
    },
    {
     "name": "stdout",
     "output_type": "stream",
     "text": [
      "Batch 0\n",
      "train loss: 0.1393 [0/27652]\n",
      "Finished with batches...\n",
      "Finished with one full epoch...\n",
      "Finished all batches in validation...\n",
      "Finished with calculating metrics...\n",
      "Epoch 1099\n",
      "---------------\n"
     ]
    },
    {
     "name": "stderr",
     "output_type": "stream",
     "text": [
      "/home/yang1641/.local/lib/python3.8/site-packages/sklearn/metrics/_ranking.py:980: UserWarning: No positive class found in y_true, recall is set to one for all thresholds.\n",
      "  warnings.warn(\n"
     ]
    },
    {
     "name": "stdout",
     "output_type": "stream",
     "text": [
      "Batch 0\n",
      "train loss: 0.1385 [0/27652]\n",
      "Finished with batches...\n",
      "Finished with one full epoch...\n",
      "Finished all batches in validation...\n",
      "Finished with calculating metrics...\n",
      "Epoch 1100\n",
      "---------------\n"
     ]
    },
    {
     "name": "stderr",
     "output_type": "stream",
     "text": [
      "/home/yang1641/.local/lib/python3.8/site-packages/sklearn/metrics/_ranking.py:980: UserWarning: No positive class found in y_true, recall is set to one for all thresholds.\n",
      "  warnings.warn(\n"
     ]
    },
    {
     "name": "stdout",
     "output_type": "stream",
     "text": [
      "Batch 0\n",
      "train loss: 0.1394 [0/27652]\n",
      "Finished with batches...\n",
      "Finished with one full epoch...\n",
      "Finished all batches in validation...\n",
      "Finished with calculating metrics...\n",
      "Epoch 1101\n",
      "---------------\n"
     ]
    },
    {
     "name": "stderr",
     "output_type": "stream",
     "text": [
      "/home/yang1641/.local/lib/python3.8/site-packages/sklearn/metrics/_ranking.py:980: UserWarning: No positive class found in y_true, recall is set to one for all thresholds.\n",
      "  warnings.warn(\n"
     ]
    },
    {
     "name": "stdout",
     "output_type": "stream",
     "text": [
      "Batch 0\n",
      "train loss: 0.1393 [0/27652]\n",
      "Finished with batches...\n",
      "Finished with one full epoch...\n",
      "Finished all batches in validation...\n",
      "Finished with calculating metrics...\n",
      "Epoch 1102\n",
      "---------------\n",
      "Batch 0\n",
      "train loss: 0.1391 [0/27652]\n",
      "Finished with batches...\n",
      "Finished with one full epoch...\n",
      "Finished all batches in validation...\n",
      "Finished with calculating metrics...\n",
      "Epoch 1103\n",
      "---------------\n",
      "Batch 0\n",
      "train loss: 0.1383 [0/27652]\n",
      "Finished with batches...\n",
      "Finished with one full epoch...\n",
      "Finished all batches in validation...\n",
      "Finished with calculating metrics...\n",
      "Epoch 1104\n",
      "---------------\n"
     ]
    },
    {
     "name": "stderr",
     "output_type": "stream",
     "text": [
      "/home/yang1641/.local/lib/python3.8/site-packages/sklearn/metrics/_ranking.py:980: UserWarning: No positive class found in y_true, recall is set to one for all thresholds.\n",
      "  warnings.warn(\n"
     ]
    },
    {
     "name": "stdout",
     "output_type": "stream",
     "text": [
      "Batch 0\n",
      "train loss: 0.1389 [0/27652]\n",
      "Finished with batches...\n",
      "Finished with one full epoch...\n",
      "Finished all batches in validation...\n",
      "Finished with calculating metrics...\n",
      "Epoch 1105\n",
      "---------------\n",
      "Batch 0\n",
      "train loss: 0.1393 [0/27652]\n",
      "Finished with batches...\n",
      "Finished with one full epoch...\n",
      "Finished all batches in validation...\n",
      "Finished with calculating metrics...\n",
      "Epoch 1106\n",
      "---------------\n",
      "Batch 0\n",
      "train loss: 0.1386 [0/27652]\n",
      "Finished with batches...\n",
      "Finished with one full epoch...\n",
      "Finished all batches in validation...\n",
      "Finished with calculating metrics...\n",
      "Epoch 1107\n",
      "---------------\n",
      "Batch 0\n",
      "train loss: 0.1392 [0/27652]\n",
      "Finished with batches...\n",
      "Finished with one full epoch...\n",
      "Finished all batches in validation...\n",
      "Finished with calculating metrics...\n",
      "Epoch 1108\n",
      "---------------\n",
      "Batch 0\n",
      "train loss: 0.1390 [0/27652]\n",
      "Finished with batches...\n",
      "Finished with one full epoch...\n",
      "Finished all batches in validation...\n",
      "Finished with calculating metrics...\n",
      "Epoch 1109\n",
      "---------------\n",
      "Batch 0\n",
      "train loss: 0.1387 [0/27652]\n",
      "Finished with batches...\n",
      "Finished with one full epoch...\n",
      "Finished all batches in validation...\n",
      "Finished with calculating metrics...\n",
      "Epoch 1110\n",
      "---------------\n",
      "Batch 0\n",
      "train loss: 0.1385 [0/27652]\n",
      "Finished with batches...\n",
      "Finished with one full epoch...\n",
      "Finished all batches in validation...\n",
      "Finished with calculating metrics...\n",
      "Epoch 1111\n",
      "---------------\n"
     ]
    },
    {
     "name": "stderr",
     "output_type": "stream",
     "text": [
      "/home/yang1641/.local/lib/python3.8/site-packages/sklearn/metrics/_ranking.py:980: UserWarning: No positive class found in y_true, recall is set to one for all thresholds.\n",
      "  warnings.warn(\n"
     ]
    },
    {
     "name": "stdout",
     "output_type": "stream",
     "text": [
      "Batch 0\n",
      "train loss: 0.1396 [0/27652]\n",
      "Finished with batches...\n",
      "Finished with one full epoch...\n",
      "Finished all batches in validation...\n",
      "Finished with calculating metrics...\n",
      "Epoch 1112\n",
      "---------------\n"
     ]
    },
    {
     "name": "stderr",
     "output_type": "stream",
     "text": [
      "/home/yang1641/.local/lib/python3.8/site-packages/sklearn/metrics/_ranking.py:980: UserWarning: No positive class found in y_true, recall is set to one for all thresholds.\n",
      "  warnings.warn(\n"
     ]
    },
    {
     "name": "stdout",
     "output_type": "stream",
     "text": [
      "Batch 0\n",
      "train loss: 0.1389 [0/27652]\n",
      "Finished with batches...\n",
      "Finished with one full epoch...\n",
      "Finished all batches in validation...\n",
      "Finished with calculating metrics...\n",
      "Epoch 1113\n",
      "---------------\n"
     ]
    },
    {
     "name": "stderr",
     "output_type": "stream",
     "text": [
      "/home/yang1641/.local/lib/python3.8/site-packages/sklearn/metrics/_ranking.py:980: UserWarning: No positive class found in y_true, recall is set to one for all thresholds.\n",
      "  warnings.warn(\n"
     ]
    },
    {
     "name": "stdout",
     "output_type": "stream",
     "text": [
      "Batch 0\n",
      "train loss: 0.1397 [0/27652]\n",
      "Finished with batches...\n",
      "Finished with one full epoch...\n",
      "Finished all batches in validation...\n",
      "Finished with calculating metrics...\n",
      "Epoch 1114\n",
      "---------------\n"
     ]
    },
    {
     "name": "stderr",
     "output_type": "stream",
     "text": [
      "/home/yang1641/.local/lib/python3.8/site-packages/sklearn/metrics/_ranking.py:980: UserWarning: No positive class found in y_true, recall is set to one for all thresholds.\n",
      "  warnings.warn(\n"
     ]
    },
    {
     "name": "stdout",
     "output_type": "stream",
     "text": [
      "Batch 0\n",
      "train loss: 0.1393 [0/27652]\n",
      "Finished with batches...\n",
      "Finished with one full epoch...\n",
      "Finished all batches in validation...\n",
      "Finished with calculating metrics...\n",
      "Epoch 1115\n",
      "---------------\n"
     ]
    },
    {
     "name": "stderr",
     "output_type": "stream",
     "text": [
      "/home/yang1641/.local/lib/python3.8/site-packages/sklearn/metrics/_ranking.py:980: UserWarning: No positive class found in y_true, recall is set to one for all thresholds.\n",
      "  warnings.warn(\n"
     ]
    },
    {
     "name": "stdout",
     "output_type": "stream",
     "text": [
      "Batch 0\n",
      "train loss: 0.1401 [0/27652]\n",
      "Finished with batches...\n",
      "Finished with one full epoch...\n",
      "Finished all batches in validation...\n",
      "Finished with calculating metrics...\n",
      "Epoch 1116\n",
      "---------------\n"
     ]
    },
    {
     "name": "stderr",
     "output_type": "stream",
     "text": [
      "/home/yang1641/.local/lib/python3.8/site-packages/sklearn/metrics/_ranking.py:980: UserWarning: No positive class found in y_true, recall is set to one for all thresholds.\n",
      "  warnings.warn(\n"
     ]
    },
    {
     "name": "stdout",
     "output_type": "stream",
     "text": [
      "Batch 0\n",
      "train loss: 0.1397 [0/27652]\n",
      "Finished with batches...\n",
      "Finished with one full epoch...\n",
      "Finished all batches in validation...\n",
      "Finished with calculating metrics...\n",
      "Epoch 1117\n",
      "---------------\n"
     ]
    },
    {
     "name": "stderr",
     "output_type": "stream",
     "text": [
      "/home/yang1641/.local/lib/python3.8/site-packages/sklearn/metrics/_ranking.py:980: UserWarning: No positive class found in y_true, recall is set to one for all thresholds.\n",
      "  warnings.warn(\n"
     ]
    },
    {
     "name": "stdout",
     "output_type": "stream",
     "text": [
      "Batch 0\n",
      "train loss: 0.1394 [0/27652]\n",
      "Finished with batches...\n",
      "Finished with one full epoch...\n",
      "Finished all batches in validation...\n",
      "Finished with calculating metrics...\n",
      "Epoch 1118\n",
      "---------------\n"
     ]
    },
    {
     "name": "stderr",
     "output_type": "stream",
     "text": [
      "/home/yang1641/.local/lib/python3.8/site-packages/sklearn/metrics/_ranking.py:980: UserWarning: No positive class found in y_true, recall is set to one for all thresholds.\n",
      "  warnings.warn(\n"
     ]
    },
    {
     "name": "stdout",
     "output_type": "stream",
     "text": [
      "Batch 0\n",
      "train loss: 0.1389 [0/27652]\n",
      "Finished with batches...\n",
      "Finished with one full epoch...\n",
      "Finished all batches in validation...\n",
      "Finished with calculating metrics...\n",
      "Epoch 1119\n",
      "---------------\n"
     ]
    },
    {
     "name": "stderr",
     "output_type": "stream",
     "text": [
      "/home/yang1641/.local/lib/python3.8/site-packages/sklearn/metrics/_ranking.py:980: UserWarning: No positive class found in y_true, recall is set to one for all thresholds.\n",
      "  warnings.warn(\n"
     ]
    },
    {
     "name": "stdout",
     "output_type": "stream",
     "text": [
      "Batch 0\n",
      "train loss: 0.1392 [0/27652]\n",
      "Finished with batches...\n",
      "Finished with one full epoch...\n",
      "Finished all batches in validation...\n",
      "Finished with calculating metrics...\n",
      "Epoch 1120\n",
      "---------------\n"
     ]
    },
    {
     "name": "stderr",
     "output_type": "stream",
     "text": [
      "/home/yang1641/.local/lib/python3.8/site-packages/sklearn/metrics/_ranking.py:980: UserWarning: No positive class found in y_true, recall is set to one for all thresholds.\n",
      "  warnings.warn(\n"
     ]
    },
    {
     "name": "stdout",
     "output_type": "stream",
     "text": [
      "Batch 0\n",
      "train loss: 0.1397 [0/27652]\n",
      "Finished with batches...\n",
      "Finished with one full epoch...\n",
      "Finished all batches in validation...\n",
      "Finished with calculating metrics...\n",
      "Epoch 1121\n",
      "---------------\n"
     ]
    },
    {
     "name": "stderr",
     "output_type": "stream",
     "text": [
      "/home/yang1641/.local/lib/python3.8/site-packages/sklearn/metrics/_ranking.py:980: UserWarning: No positive class found in y_true, recall is set to one for all thresholds.\n",
      "  warnings.warn(\n"
     ]
    },
    {
     "name": "stdout",
     "output_type": "stream",
     "text": [
      "Batch 0\n",
      "train loss: 0.1387 [0/27652]\n",
      "Finished with batches...\n",
      "Finished with one full epoch...\n",
      "Finished all batches in validation...\n",
      "Finished with calculating metrics...\n",
      "Epoch 1122\n",
      "---------------\n"
     ]
    },
    {
     "name": "stderr",
     "output_type": "stream",
     "text": [
      "/home/yang1641/.local/lib/python3.8/site-packages/sklearn/metrics/_ranking.py:980: UserWarning: No positive class found in y_true, recall is set to one for all thresholds.\n",
      "  warnings.warn(\n"
     ]
    },
    {
     "name": "stdout",
     "output_type": "stream",
     "text": [
      "Batch 0\n",
      "train loss: 0.1390 [0/27652]\n",
      "Finished with batches...\n",
      "Finished with one full epoch...\n",
      "Finished all batches in validation...\n",
      "Finished with calculating metrics...\n",
      "Epoch 1123\n",
      "---------------\n"
     ]
    },
    {
     "name": "stderr",
     "output_type": "stream",
     "text": [
      "/home/yang1641/.local/lib/python3.8/site-packages/sklearn/metrics/_ranking.py:980: UserWarning: No positive class found in y_true, recall is set to one for all thresholds.\n",
      "  warnings.warn(\n"
     ]
    },
    {
     "name": "stdout",
     "output_type": "stream",
     "text": [
      "Batch 0\n",
      "train loss: 0.1393 [0/27652]\n",
      "Finished with batches...\n",
      "Finished with one full epoch...\n",
      "Finished all batches in validation...\n",
      "Finished with calculating metrics...\n",
      "Epoch 1124\n",
      "---------------\n"
     ]
    },
    {
     "name": "stderr",
     "output_type": "stream",
     "text": [
      "/home/yang1641/.local/lib/python3.8/site-packages/sklearn/metrics/_ranking.py:980: UserWarning: No positive class found in y_true, recall is set to one for all thresholds.\n",
      "  warnings.warn(\n"
     ]
    },
    {
     "name": "stdout",
     "output_type": "stream",
     "text": [
      "Batch 0\n",
      "train loss: 0.1405 [0/27652]\n",
      "Finished with batches...\n",
      "Finished with one full epoch...\n",
      "Finished all batches in validation...\n",
      "Finished with calculating metrics...\n",
      "Epoch 1125\n",
      "---------------\n"
     ]
    },
    {
     "name": "stderr",
     "output_type": "stream",
     "text": [
      "/home/yang1641/.local/lib/python3.8/site-packages/sklearn/metrics/_ranking.py:980: UserWarning: No positive class found in y_true, recall is set to one for all thresholds.\n",
      "  warnings.warn(\n"
     ]
    },
    {
     "name": "stdout",
     "output_type": "stream",
     "text": [
      "Batch 0\n",
      "train loss: 0.1386 [0/27652]\n",
      "Finished with batches...\n",
      "Finished with one full epoch...\n",
      "Finished all batches in validation...\n",
      "Finished with calculating metrics...\n",
      "Epoch 1126\n",
      "---------------\n",
      "Batch 0\n",
      "train loss: 0.1387 [0/27652]\n",
      "Finished with batches...\n",
      "Finished with one full epoch...\n",
      "Finished all batches in validation...\n",
      "Finished with calculating metrics...\n",
      "Epoch 1127\n",
      "---------------\n"
     ]
    },
    {
     "name": "stderr",
     "output_type": "stream",
     "text": [
      "/home/yang1641/.local/lib/python3.8/site-packages/sklearn/metrics/_ranking.py:980: UserWarning: No positive class found in y_true, recall is set to one for all thresholds.\n",
      "  warnings.warn(\n"
     ]
    },
    {
     "name": "stdout",
     "output_type": "stream",
     "text": [
      "Batch 0\n",
      "train loss: 0.1399 [0/27652]\n",
      "Finished with batches...\n",
      "Finished with one full epoch...\n",
      "Finished all batches in validation...\n",
      "Finished with calculating metrics...\n",
      "Epoch 1128\n",
      "---------------\n"
     ]
    },
    {
     "name": "stderr",
     "output_type": "stream",
     "text": [
      "/home/yang1641/.local/lib/python3.8/site-packages/sklearn/metrics/_ranking.py:980: UserWarning: No positive class found in y_true, recall is set to one for all thresholds.\n",
      "  warnings.warn(\n"
     ]
    },
    {
     "name": "stdout",
     "output_type": "stream",
     "text": [
      "Batch 0\n",
      "train loss: 0.1400 [0/27652]\n",
      "Finished with batches...\n",
      "Finished with one full epoch...\n",
      "Finished all batches in validation...\n",
      "Finished with calculating metrics...\n",
      "Epoch 1129\n",
      "---------------\n"
     ]
    },
    {
     "name": "stderr",
     "output_type": "stream",
     "text": [
      "/home/yang1641/.local/lib/python3.8/site-packages/sklearn/metrics/_ranking.py:980: UserWarning: No positive class found in y_true, recall is set to one for all thresholds.\n",
      "  warnings.warn(\n"
     ]
    },
    {
     "name": "stdout",
     "output_type": "stream",
     "text": [
      "Batch 0\n",
      "train loss: 0.1406 [0/27652]\n",
      "Finished with batches...\n",
      "Finished with one full epoch...\n",
      "Finished all batches in validation...\n",
      "Finished with calculating metrics...\n",
      "Epoch 1130\n",
      "---------------\n",
      "Batch 0\n",
      "train loss: 0.1397 [0/27652]\n",
      "Finished with batches...\n",
      "Finished with one full epoch...\n",
      "Finished all batches in validation...\n",
      "Finished with calculating metrics...\n",
      "Epoch 1131\n",
      "---------------\n",
      "Batch 0\n",
      "train loss: 0.1401 [0/27652]\n",
      "Finished with batches...\n",
      "Finished with one full epoch...\n",
      "Finished all batches in validation...\n",
      "Finished with calculating metrics...\n",
      "Epoch 1132\n",
      "---------------\n",
      "Batch 0\n",
      "train loss: 0.1399 [0/27652]\n",
      "Finished with batches...\n",
      "Finished with one full epoch...\n",
      "Finished all batches in validation...\n",
      "Finished with calculating metrics...\n",
      "Epoch 1133\n",
      "---------------\n",
      "Batch 0\n",
      "train loss: 0.1400 [0/27652]\n",
      "Finished with batches...\n",
      "Finished with one full epoch...\n",
      "Finished all batches in validation...\n",
      "Finished with calculating metrics...\n",
      "Epoch 1134\n",
      "---------------\n",
      "Batch 0\n",
      "train loss: 0.1388 [0/27652]\n",
      "Finished with batches...\n",
      "Finished with one full epoch...\n",
      "Finished all batches in validation...\n",
      "Finished with calculating metrics...\n",
      "Epoch 1135\n",
      "---------------\n",
      "Batch 0\n",
      "train loss: 0.1402 [0/27652]\n",
      "Finished with batches...\n",
      "Finished with one full epoch...\n",
      "Finished all batches in validation...\n",
      "Finished with calculating metrics...\n",
      "Epoch 1136\n",
      "---------------\n",
      "Batch 0\n",
      "train loss: 0.1389 [0/27652]\n",
      "Finished with batches...\n",
      "Finished with one full epoch...\n",
      "Finished all batches in validation...\n",
      "Finished with calculating metrics...\n",
      "Epoch 1137\n",
      "---------------\n",
      "Batch 0\n",
      "train loss: 0.1396 [0/27652]\n",
      "Finished with batches...\n",
      "Finished with one full epoch...\n",
      "Finished all batches in validation...\n",
      "Finished with calculating metrics...\n",
      "Epoch 1138\n",
      "---------------\n",
      "Batch 0\n",
      "train loss: 0.1390 [0/27652]\n",
      "Finished with batches...\n",
      "Finished with one full epoch...\n",
      "Finished all batches in validation...\n",
      "Finished with calculating metrics...\n",
      "Epoch 1139\n",
      "---------------\n",
      "Batch 0\n",
      "train loss: 0.1390 [0/27652]\n",
      "Finished with batches...\n",
      "Finished with one full epoch...\n",
      "Finished all batches in validation...\n",
      "Finished with calculating metrics...\n",
      "Epoch 1140\n",
      "---------------\n",
      "Batch 0\n",
      "train loss: 0.1395 [0/27652]\n",
      "Finished with batches...\n",
      "Finished with one full epoch...\n",
      "Finished all batches in validation...\n",
      "Finished with calculating metrics...\n",
      "Epoch 1141\n",
      "---------------\n",
      "Batch 0\n",
      "train loss: 0.1387 [0/27652]\n",
      "Finished with batches...\n",
      "Finished with one full epoch...\n",
      "Finished all batches in validation...\n",
      "Finished with calculating metrics...\n",
      "Epoch 1142\n",
      "---------------\n",
      "Batch 0\n",
      "train loss: 0.1382 [0/27652]\n",
      "Finished with batches...\n",
      "Finished with one full epoch...\n",
      "Finished all batches in validation...\n",
      "Finished with calculating metrics...\n",
      "Epoch 1143\n",
      "---------------\n",
      "Batch 0\n",
      "train loss: 0.1396 [0/27652]\n",
      "Finished with batches...\n",
      "Finished with one full epoch...\n",
      "Finished all batches in validation...\n",
      "Finished with calculating metrics...\n",
      "Epoch 1144\n",
      "---------------\n",
      "Batch 0\n",
      "train loss: 0.1383 [0/27652]\n",
      "Finished with batches...\n",
      "Finished with one full epoch...\n",
      "Finished all batches in validation...\n",
      "Finished with calculating metrics...\n",
      "Epoch 1145\n",
      "---------------\n",
      "Batch 0\n",
      "train loss: 0.1384 [0/27652]\n",
      "Finished with batches...\n",
      "Finished with one full epoch...\n",
      "Finished all batches in validation...\n",
      "Finished with calculating metrics...\n",
      "Epoch 1146\n",
      "---------------\n",
      "Batch 0\n",
      "train loss: 0.1387 [0/27652]\n",
      "Finished with batches...\n",
      "Finished with one full epoch...\n",
      "Finished all batches in validation...\n",
      "Finished with calculating metrics...\n",
      "Epoch 1147\n",
      "---------------\n",
      "Batch 0\n",
      "train loss: 0.1398 [0/27652]\n",
      "Finished with batches...\n",
      "Finished with one full epoch...\n",
      "Finished all batches in validation...\n",
      "Finished with calculating metrics...\n",
      "Epoch 1148\n",
      "---------------\n",
      "Batch 0\n",
      "train loss: 0.1392 [0/27652]\n",
      "Finished with batches...\n",
      "Finished with one full epoch...\n",
      "Finished all batches in validation...\n",
      "Finished with calculating metrics...\n",
      "Epoch 1149\n",
      "---------------\n",
      "Batch 0\n",
      "train loss: 0.1394 [0/27652]\n",
      "Finished with batches...\n",
      "Finished with one full epoch...\n",
      "Finished all batches in validation...\n",
      "Finished with calculating metrics...\n",
      "Epoch 1150\n",
      "---------------\n",
      "Batch 0\n",
      "train loss: 0.1382 [0/27652]\n",
      "Finished with batches...\n",
      "Finished with one full epoch...\n",
      "Finished all batches in validation...\n",
      "Finished with calculating metrics...\n",
      "Epoch 1151\n",
      "---------------\n"
     ]
    },
    {
     "name": "stderr",
     "output_type": "stream",
     "text": [
      "/home/yang1641/.local/lib/python3.8/site-packages/sklearn/metrics/_ranking.py:980: UserWarning: No positive class found in y_true, recall is set to one for all thresholds.\n",
      "  warnings.warn(\n"
     ]
    },
    {
     "name": "stdout",
     "output_type": "stream",
     "text": [
      "Batch 0\n",
      "train loss: 0.1391 [0/27652]\n",
      "Finished with batches...\n",
      "Finished with one full epoch...\n",
      "Finished all batches in validation...\n",
      "Finished with calculating metrics...\n",
      "Epoch 1152\n",
      "---------------\n",
      "Batch 0\n",
      "train loss: 0.1384 [0/27652]\n",
      "Finished with batches...\n",
      "Finished with one full epoch...\n",
      "Finished all batches in validation...\n",
      "Finished with calculating metrics...\n",
      "Epoch 1153\n",
      "---------------\n",
      "Batch 0\n",
      "train loss: 0.1402 [0/27652]\n",
      "Finished with batches...\n",
      "Finished with one full epoch...\n",
      "Finished all batches in validation...\n",
      "Finished with calculating metrics...\n",
      "Epoch 1154\n",
      "---------------\n",
      "Batch 0\n",
      "train loss: 0.1389 [0/27652]\n",
      "Finished with batches...\n",
      "Finished with one full epoch...\n",
      "Finished all batches in validation...\n",
      "Finished with calculating metrics...\n",
      "Epoch 1155\n",
      "---------------\n",
      "Batch 0\n",
      "train loss: 0.1394 [0/27652]\n",
      "Finished with batches...\n",
      "Finished with one full epoch...\n",
      "Finished all batches in validation...\n",
      "Finished with calculating metrics...\n",
      "Epoch 1156\n",
      "---------------\n",
      "Batch 0\n",
      "train loss: 0.1385 [0/27652]\n",
      "Finished with batches...\n",
      "Finished with one full epoch...\n",
      "Finished all batches in validation...\n",
      "Finished with calculating metrics...\n",
      "Epoch 1157\n",
      "---------------\n",
      "Batch 0\n",
      "train loss: 0.1390 [0/27652]\n",
      "Finished with batches...\n",
      "Finished with one full epoch...\n",
      "Finished all batches in validation...\n",
      "Finished with calculating metrics...\n",
      "Epoch 1158\n",
      "---------------\n"
     ]
    },
    {
     "name": "stderr",
     "output_type": "stream",
     "text": [
      "/home/yang1641/.local/lib/python3.8/site-packages/sklearn/metrics/_ranking.py:980: UserWarning: No positive class found in y_true, recall is set to one for all thresholds.\n",
      "  warnings.warn(\n"
     ]
    },
    {
     "name": "stdout",
     "output_type": "stream",
     "text": [
      "Batch 0\n",
      "train loss: 0.1399 [0/27652]\n",
      "Finished with batches...\n",
      "Finished with one full epoch...\n",
      "Finished all batches in validation...\n",
      "Finished with calculating metrics...\n",
      "Epoch 1159\n",
      "---------------\n"
     ]
    },
    {
     "name": "stderr",
     "output_type": "stream",
     "text": [
      "/home/yang1641/.local/lib/python3.8/site-packages/sklearn/metrics/_ranking.py:980: UserWarning: No positive class found in y_true, recall is set to one for all thresholds.\n",
      "  warnings.warn(\n"
     ]
    },
    {
     "name": "stdout",
     "output_type": "stream",
     "text": [
      "Batch 0\n",
      "train loss: 0.1391 [0/27652]\n",
      "Finished with batches...\n",
      "Finished with one full epoch...\n",
      "Finished all batches in validation...\n",
      "Finished with calculating metrics...\n",
      "Epoch 1160\n",
      "---------------\n"
     ]
    },
    {
     "name": "stderr",
     "output_type": "stream",
     "text": [
      "/home/yang1641/.local/lib/python3.8/site-packages/sklearn/metrics/_ranking.py:980: UserWarning: No positive class found in y_true, recall is set to one for all thresholds.\n",
      "  warnings.warn(\n"
     ]
    },
    {
     "name": "stdout",
     "output_type": "stream",
     "text": [
      "Batch 0\n",
      "train loss: 0.1395 [0/27652]\n",
      "Finished with batches...\n",
      "Finished with one full epoch...\n",
      "Finished all batches in validation...\n",
      "Finished with calculating metrics...\n",
      "Epoch 1161\n",
      "---------------\n"
     ]
    },
    {
     "name": "stderr",
     "output_type": "stream",
     "text": [
      "/home/yang1641/.local/lib/python3.8/site-packages/sklearn/metrics/_ranking.py:980: UserWarning: No positive class found in y_true, recall is set to one for all thresholds.\n",
      "  warnings.warn(\n"
     ]
    },
    {
     "name": "stdout",
     "output_type": "stream",
     "text": [
      "Batch 0\n",
      "train loss: 0.1396 [0/27652]\n",
      "Finished with batches...\n",
      "Finished with one full epoch...\n",
      "Finished all batches in validation...\n",
      "Finished with calculating metrics...\n",
      "Epoch 1162\n",
      "---------------\n"
     ]
    },
    {
     "name": "stderr",
     "output_type": "stream",
     "text": [
      "/home/yang1641/.local/lib/python3.8/site-packages/sklearn/metrics/_ranking.py:980: UserWarning: No positive class found in y_true, recall is set to one for all thresholds.\n",
      "  warnings.warn(\n"
     ]
    },
    {
     "name": "stdout",
     "output_type": "stream",
     "text": [
      "Batch 0\n",
      "train loss: 0.1400 [0/27652]\n",
      "Finished with batches...\n",
      "Finished with one full epoch...\n",
      "Finished all batches in validation...\n",
      "Finished with calculating metrics...\n",
      "Epoch 1163\n",
      "---------------\n"
     ]
    },
    {
     "name": "stderr",
     "output_type": "stream",
     "text": [
      "/home/yang1641/.local/lib/python3.8/site-packages/sklearn/metrics/_ranking.py:980: UserWarning: No positive class found in y_true, recall is set to one for all thresholds.\n",
      "  warnings.warn(\n"
     ]
    },
    {
     "name": "stdout",
     "output_type": "stream",
     "text": [
      "Batch 0\n",
      "train loss: 0.1391 [0/27652]\n",
      "Finished with batches...\n",
      "Finished with one full epoch...\n",
      "Finished all batches in validation...\n",
      "Finished with calculating metrics...\n",
      "Epoch 1164\n",
      "---------------\n"
     ]
    },
    {
     "name": "stderr",
     "output_type": "stream",
     "text": [
      "/home/yang1641/.local/lib/python3.8/site-packages/sklearn/metrics/_ranking.py:980: UserWarning: No positive class found in y_true, recall is set to one for all thresholds.\n",
      "  warnings.warn(\n"
     ]
    },
    {
     "name": "stdout",
     "output_type": "stream",
     "text": [
      "Batch 0\n",
      "train loss: 0.1387 [0/27652]\n",
      "Finished with batches...\n",
      "Finished with one full epoch...\n",
      "Finished all batches in validation...\n",
      "Finished with calculating metrics...\n",
      "Epoch 1165\n",
      "---------------\n"
     ]
    },
    {
     "name": "stderr",
     "output_type": "stream",
     "text": [
      "/home/yang1641/.local/lib/python3.8/site-packages/sklearn/metrics/_ranking.py:980: UserWarning: No positive class found in y_true, recall is set to one for all thresholds.\n",
      "  warnings.warn(\n"
     ]
    },
    {
     "name": "stdout",
     "output_type": "stream",
     "text": [
      "Batch 0\n",
      "train loss: 0.1387 [0/27652]\n",
      "Finished with batches...\n",
      "Finished with one full epoch...\n",
      "Finished all batches in validation...\n",
      "Finished with calculating metrics...\n",
      "Epoch 1166\n",
      "---------------\n"
     ]
    },
    {
     "name": "stderr",
     "output_type": "stream",
     "text": [
      "/home/yang1641/.local/lib/python3.8/site-packages/sklearn/metrics/_ranking.py:980: UserWarning: No positive class found in y_true, recall is set to one for all thresholds.\n",
      "  warnings.warn(\n"
     ]
    },
    {
     "name": "stdout",
     "output_type": "stream",
     "text": [
      "Batch 0\n",
      "train loss: 0.1385 [0/27652]\n",
      "Finished with batches...\n",
      "Finished with one full epoch...\n",
      "Finished all batches in validation...\n",
      "Finished with calculating metrics...\n",
      "Epoch 1167\n",
      "---------------\n"
     ]
    },
    {
     "name": "stderr",
     "output_type": "stream",
     "text": [
      "/home/yang1641/.local/lib/python3.8/site-packages/sklearn/metrics/_ranking.py:980: UserWarning: No positive class found in y_true, recall is set to one for all thresholds.\n",
      "  warnings.warn(\n"
     ]
    },
    {
     "name": "stdout",
     "output_type": "stream",
     "text": [
      "Batch 0\n",
      "train loss: 0.1386 [0/27652]\n",
      "Finished with batches...\n",
      "Finished with one full epoch...\n",
      "Finished all batches in validation...\n",
      "Finished with calculating metrics...\n",
      "Epoch 1168\n",
      "---------------\n"
     ]
    },
    {
     "name": "stderr",
     "output_type": "stream",
     "text": [
      "/home/yang1641/.local/lib/python3.8/site-packages/sklearn/metrics/_ranking.py:980: UserWarning: No positive class found in y_true, recall is set to one for all thresholds.\n",
      "  warnings.warn(\n"
     ]
    },
    {
     "name": "stdout",
     "output_type": "stream",
     "text": [
      "Batch 0\n",
      "train loss: 0.1393 [0/27652]\n",
      "Finished with batches...\n",
      "Finished with one full epoch...\n",
      "Finished all batches in validation...\n",
      "Finished with calculating metrics...\n",
      "Epoch 1169\n",
      "---------------\n"
     ]
    },
    {
     "name": "stderr",
     "output_type": "stream",
     "text": [
      "/home/yang1641/.local/lib/python3.8/site-packages/sklearn/metrics/_ranking.py:980: UserWarning: No positive class found in y_true, recall is set to one for all thresholds.\n",
      "  warnings.warn(\n"
     ]
    },
    {
     "name": "stdout",
     "output_type": "stream",
     "text": [
      "Batch 0\n",
      "train loss: 0.1395 [0/27652]\n",
      "Finished with batches...\n",
      "Finished with one full epoch...\n",
      "Finished all batches in validation...\n",
      "Finished with calculating metrics...\n",
      "Epoch 1170\n",
      "---------------\n"
     ]
    },
    {
     "name": "stderr",
     "output_type": "stream",
     "text": [
      "/home/yang1641/.local/lib/python3.8/site-packages/sklearn/metrics/_ranking.py:980: UserWarning: No positive class found in y_true, recall is set to one for all thresholds.\n",
      "  warnings.warn(\n"
     ]
    },
    {
     "name": "stdout",
     "output_type": "stream",
     "text": [
      "Batch 0\n",
      "train loss: 0.1389 [0/27652]\n",
      "Finished with batches...\n",
      "Finished with one full epoch...\n",
      "Finished all batches in validation...\n",
      "Finished with calculating metrics...\n",
      "Epoch 1171\n",
      "---------------\n"
     ]
    },
    {
     "name": "stderr",
     "output_type": "stream",
     "text": [
      "/home/yang1641/.local/lib/python3.8/site-packages/sklearn/metrics/_ranking.py:980: UserWarning: No positive class found in y_true, recall is set to one for all thresholds.\n",
      "  warnings.warn(\n"
     ]
    },
    {
     "name": "stdout",
     "output_type": "stream",
     "text": [
      "Batch 0\n",
      "train loss: 0.1389 [0/27652]\n",
      "Finished with batches...\n",
      "Finished with one full epoch...\n",
      "Finished all batches in validation...\n",
      "Finished with calculating metrics...\n",
      "Epoch 1172\n",
      "---------------\n",
      "Batch 0\n",
      "train loss: 0.1394 [0/27652]\n",
      "Finished with batches...\n",
      "Finished with one full epoch...\n",
      "Finished all batches in validation...\n",
      "Finished with calculating metrics...\n",
      "Epoch 1173\n",
      "---------------\n",
      "Batch 0\n",
      "train loss: 0.1392 [0/27652]\n",
      "Finished with batches...\n",
      "Finished with one full epoch...\n",
      "Finished all batches in validation...\n",
      "Finished with calculating metrics...\n",
      "Epoch 1174\n",
      "---------------\n",
      "Batch 0\n",
      "train loss: 0.1385 [0/27652]\n",
      "Finished with batches...\n",
      "Finished with one full epoch...\n",
      "Finished all batches in validation...\n",
      "Finished with calculating metrics...\n",
      "Epoch 1175\n",
      "---------------\n",
      "Batch 0\n",
      "train loss: 0.1391 [0/27652]\n",
      "Finished with batches...\n",
      "Finished with one full epoch...\n",
      "Finished all batches in validation...\n",
      "Finished with calculating metrics...\n",
      "Epoch 1176\n",
      "---------------\n",
      "Batch 0\n",
      "train loss: 0.1399 [0/27652]\n",
      "Finished with batches...\n",
      "Finished with one full epoch...\n",
      "Finished all batches in validation...\n",
      "Finished with calculating metrics...\n",
      "Epoch 1177\n",
      "---------------\n",
      "Batch 0\n",
      "train loss: 0.1385 [0/27652]\n",
      "Finished with batches...\n",
      "Finished with one full epoch...\n",
      "Finished all batches in validation...\n",
      "Finished with calculating metrics...\n",
      "Epoch 1178\n",
      "---------------\n",
      "Batch 0\n",
      "train loss: 0.1392 [0/27652]\n",
      "Finished with batches...\n",
      "Finished with one full epoch...\n",
      "Finished all batches in validation...\n",
      "Finished with calculating metrics...\n",
      "Epoch 1179\n",
      "---------------\n",
      "Batch 0\n",
      "train loss: 0.1381 [0/27652]\n",
      "Finished with batches...\n",
      "Finished with one full epoch...\n",
      "Finished all batches in validation...\n",
      "Finished with calculating metrics...\n",
      "Epoch 1180\n",
      "---------------\n",
      "Batch 0\n",
      "train loss: 0.1393 [0/27652]\n",
      "Finished with batches...\n",
      "Finished with one full epoch...\n",
      "Finished all batches in validation...\n",
      "Finished with calculating metrics...\n",
      "Epoch 1181\n",
      "---------------\n"
     ]
    },
    {
     "name": "stderr",
     "output_type": "stream",
     "text": [
      "/home/yang1641/.local/lib/python3.8/site-packages/sklearn/metrics/_ranking.py:980: UserWarning: No positive class found in y_true, recall is set to one for all thresholds.\n",
      "  warnings.warn(\n"
     ]
    },
    {
     "name": "stdout",
     "output_type": "stream",
     "text": [
      "Batch 0\n",
      "train loss: 0.1383 [0/27652]\n",
      "Finished with batches...\n",
      "Finished with one full epoch...\n",
      "Finished all batches in validation...\n",
      "Finished with calculating metrics...\n",
      "Epoch 1182\n",
      "---------------\n"
     ]
    },
    {
     "name": "stderr",
     "output_type": "stream",
     "text": [
      "/home/yang1641/.local/lib/python3.8/site-packages/sklearn/metrics/_ranking.py:980: UserWarning: No positive class found in y_true, recall is set to one for all thresholds.\n",
      "  warnings.warn(\n"
     ]
    },
    {
     "name": "stdout",
     "output_type": "stream",
     "text": [
      "Batch 0\n",
      "train loss: 0.1410 [0/27652]\n",
      "Finished with batches...\n",
      "Finished with one full epoch...\n",
      "Finished all batches in validation...\n",
      "Finished with calculating metrics...\n",
      "Epoch 1183\n",
      "---------------\n"
     ]
    },
    {
     "name": "stderr",
     "output_type": "stream",
     "text": [
      "/home/yang1641/.local/lib/python3.8/site-packages/sklearn/metrics/_ranking.py:980: UserWarning: No positive class found in y_true, recall is set to one for all thresholds.\n",
      "  warnings.warn(\n"
     ]
    },
    {
     "name": "stdout",
     "output_type": "stream",
     "text": [
      "Batch 0\n",
      "train loss: 0.1393 [0/27652]\n",
      "Finished with batches...\n",
      "Finished with one full epoch...\n",
      "Finished all batches in validation...\n",
      "Finished with calculating metrics...\n",
      "Epoch 1184\n",
      "---------------\n"
     ]
    },
    {
     "name": "stderr",
     "output_type": "stream",
     "text": [
      "/home/yang1641/.local/lib/python3.8/site-packages/sklearn/metrics/_ranking.py:980: UserWarning: No positive class found in y_true, recall is set to one for all thresholds.\n",
      "  warnings.warn(\n"
     ]
    },
    {
     "name": "stdout",
     "output_type": "stream",
     "text": [
      "Batch 0\n",
      "train loss: 0.1396 [0/27652]\n",
      "Finished with batches...\n",
      "Finished with one full epoch...\n",
      "Finished all batches in validation...\n",
      "Finished with calculating metrics...\n",
      "Epoch 1185\n",
      "---------------\n"
     ]
    },
    {
     "name": "stderr",
     "output_type": "stream",
     "text": [
      "/home/yang1641/.local/lib/python3.8/site-packages/sklearn/metrics/_ranking.py:980: UserWarning: No positive class found in y_true, recall is set to one for all thresholds.\n",
      "  warnings.warn(\n"
     ]
    },
    {
     "name": "stdout",
     "output_type": "stream",
     "text": [
      "Batch 0\n",
      "train loss: 0.1388 [0/27652]\n",
      "Finished with batches...\n",
      "Finished with one full epoch...\n",
      "Finished all batches in validation...\n",
      "Finished with calculating metrics...\n",
      "Epoch 1186\n",
      "---------------\n"
     ]
    },
    {
     "name": "stderr",
     "output_type": "stream",
     "text": [
      "/home/yang1641/.local/lib/python3.8/site-packages/sklearn/metrics/_ranking.py:980: UserWarning: No positive class found in y_true, recall is set to one for all thresholds.\n",
      "  warnings.warn(\n"
     ]
    },
    {
     "name": "stdout",
     "output_type": "stream",
     "text": [
      "Batch 0\n",
      "train loss: 0.1384 [0/27652]\n",
      "Finished with batches...\n",
      "Finished with one full epoch...\n",
      "Finished all batches in validation...\n",
      "Finished with calculating metrics...\n",
      "Epoch 1187\n",
      "---------------\n"
     ]
    },
    {
     "name": "stderr",
     "output_type": "stream",
     "text": [
      "/home/yang1641/.local/lib/python3.8/site-packages/sklearn/metrics/_ranking.py:980: UserWarning: No positive class found in y_true, recall is set to one for all thresholds.\n",
      "  warnings.warn(\n"
     ]
    },
    {
     "name": "stdout",
     "output_type": "stream",
     "text": [
      "Batch 0\n",
      "train loss: 0.1386 [0/27652]\n",
      "Finished with batches...\n",
      "Finished with one full epoch...\n",
      "Finished all batches in validation...\n",
      "Finished with calculating metrics...\n",
      "Epoch 1188\n",
      "---------------\n"
     ]
    },
    {
     "name": "stderr",
     "output_type": "stream",
     "text": [
      "/home/yang1641/.local/lib/python3.8/site-packages/sklearn/metrics/_ranking.py:980: UserWarning: No positive class found in y_true, recall is set to one for all thresholds.\n",
      "  warnings.warn(\n"
     ]
    },
    {
     "name": "stdout",
     "output_type": "stream",
     "text": [
      "Batch 0\n",
      "train loss: 0.1383 [0/27652]\n",
      "Finished with batches...\n",
      "Finished with one full epoch...\n",
      "Finished all batches in validation...\n",
      "Finished with calculating metrics...\n",
      "Epoch 1189\n",
      "---------------\n"
     ]
    },
    {
     "name": "stderr",
     "output_type": "stream",
     "text": [
      "/home/yang1641/.local/lib/python3.8/site-packages/sklearn/metrics/_ranking.py:980: UserWarning: No positive class found in y_true, recall is set to one for all thresholds.\n",
      "  warnings.warn(\n"
     ]
    },
    {
     "name": "stdout",
     "output_type": "stream",
     "text": [
      "Batch 0\n",
      "train loss: 0.1386 [0/27652]\n",
      "Finished with batches...\n",
      "Finished with one full epoch...\n",
      "Finished all batches in validation...\n",
      "Finished with calculating metrics...\n",
      "Epoch 1190\n",
      "---------------\n"
     ]
    },
    {
     "name": "stderr",
     "output_type": "stream",
     "text": [
      "/home/yang1641/.local/lib/python3.8/site-packages/sklearn/metrics/_ranking.py:980: UserWarning: No positive class found in y_true, recall is set to one for all thresholds.\n",
      "  warnings.warn(\n"
     ]
    },
    {
     "name": "stdout",
     "output_type": "stream",
     "text": [
      "Batch 0\n",
      "train loss: 0.1400 [0/27652]\n",
      "Finished with batches...\n",
      "Finished with one full epoch...\n",
      "Finished all batches in validation...\n",
      "Finished with calculating metrics...\n",
      "Epoch 1191\n",
      "---------------\n"
     ]
    },
    {
     "name": "stderr",
     "output_type": "stream",
     "text": [
      "/home/yang1641/.local/lib/python3.8/site-packages/sklearn/metrics/_ranking.py:980: UserWarning: No positive class found in y_true, recall is set to one for all thresholds.\n",
      "  warnings.warn(\n"
     ]
    },
    {
     "name": "stdout",
     "output_type": "stream",
     "text": [
      "Batch 0\n",
      "train loss: 0.1393 [0/27652]\n",
      "Finished with batches...\n",
      "Finished with one full epoch...\n",
      "Finished all batches in validation...\n",
      "Finished with calculating metrics...\n",
      "Epoch 1192\n",
      "---------------\n"
     ]
    },
    {
     "name": "stderr",
     "output_type": "stream",
     "text": [
      "/home/yang1641/.local/lib/python3.8/site-packages/sklearn/metrics/_ranking.py:980: UserWarning: No positive class found in y_true, recall is set to one for all thresholds.\n",
      "  warnings.warn(\n"
     ]
    },
    {
     "name": "stdout",
     "output_type": "stream",
     "text": [
      "Batch 0\n",
      "train loss: 0.1400 [0/27652]\n",
      "Finished with batches...\n",
      "Finished with one full epoch...\n",
      "Finished all batches in validation...\n",
      "Finished with calculating metrics...\n",
      "Epoch 1193\n",
      "---------------\n"
     ]
    },
    {
     "name": "stderr",
     "output_type": "stream",
     "text": [
      "/home/yang1641/.local/lib/python3.8/site-packages/sklearn/metrics/_ranking.py:980: UserWarning: No positive class found in y_true, recall is set to one for all thresholds.\n",
      "  warnings.warn(\n"
     ]
    },
    {
     "name": "stdout",
     "output_type": "stream",
     "text": [
      "Batch 0\n",
      "train loss: 0.1393 [0/27652]\n",
      "Finished with batches...\n",
      "Finished with one full epoch...\n",
      "Finished all batches in validation...\n",
      "Finished with calculating metrics...\n",
      "Epoch 1194\n",
      "---------------\n"
     ]
    },
    {
     "name": "stderr",
     "output_type": "stream",
     "text": [
      "/home/yang1641/.local/lib/python3.8/site-packages/sklearn/metrics/_ranking.py:980: UserWarning: No positive class found in y_true, recall is set to one for all thresholds.\n",
      "  warnings.warn(\n"
     ]
    },
    {
     "name": "stdout",
     "output_type": "stream",
     "text": [
      "Batch 0\n",
      "train loss: 0.1388 [0/27652]\n",
      "Finished with batches...\n",
      "Finished with one full epoch...\n",
      "Finished all batches in validation...\n",
      "Finished with calculating metrics...\n",
      "Epoch 1195\n",
      "---------------\n",
      "Batch 0\n",
      "train loss: 0.1387 [0/27652]\n",
      "Finished with batches...\n",
      "Finished with one full epoch...\n",
      "Finished all batches in validation...\n",
      "Finished with calculating metrics...\n",
      "Epoch 1196\n",
      "---------------\n",
      "Batch 0\n",
      "train loss: 0.1387 [0/27652]\n",
      "Finished with batches...\n",
      "Finished with one full epoch...\n",
      "Finished all batches in validation...\n",
      "Finished with calculating metrics...\n",
      "Epoch 1197\n",
      "---------------\n",
      "Batch 0\n",
      "train loss: 0.1380 [0/27652]\n",
      "Finished with batches...\n",
      "Finished with one full epoch...\n",
      "Finished all batches in validation...\n",
      "Finished with calculating metrics...\n",
      "Epoch 1198\n",
      "---------------\n",
      "Batch 0\n",
      "train loss: 0.1381 [0/27652]\n",
      "Finished with batches...\n",
      "Finished with one full epoch...\n",
      "Finished all batches in validation...\n",
      "Finished with calculating metrics...\n",
      "Epoch 1199\n",
      "---------------\n",
      "Batch 0\n",
      "train loss: 0.1383 [0/27652]\n",
      "Finished with batches...\n",
      "Finished with one full epoch...\n",
      "Finished all batches in validation...\n",
      "Finished with calculating metrics...\n",
      "Epoch 1200\n",
      "---------------\n",
      "Batch 0\n",
      "train loss: 0.1386 [0/27652]\n",
      "Finished with batches...\n",
      "Finished with one full epoch...\n",
      "Finished all batches in validation...\n",
      "Finished with calculating metrics...\n",
      "Epoch 1201\n",
      "---------------\n",
      "Batch 0\n",
      "train loss: 0.1384 [0/27652]\n",
      "Finished with batches...\n",
      "Finished with one full epoch...\n",
      "Finished all batches in validation...\n",
      "Finished with calculating metrics...\n",
      "Epoch 1202\n",
      "---------------\n",
      "Batch 0\n",
      "train loss: 0.1386 [0/27652]\n",
      "Finished with batches...\n",
      "Finished with one full epoch...\n",
      "Finished all batches in validation...\n",
      "Finished with calculating metrics...\n",
      "Epoch 1203\n",
      "---------------\n",
      "Batch 0\n",
      "train loss: 0.1396 [0/27652]\n",
      "Finished with batches...\n",
      "Finished with one full epoch...\n",
      "Finished all batches in validation...\n",
      "Finished with calculating metrics...\n",
      "Epoch 1204\n",
      "---------------\n"
     ]
    },
    {
     "name": "stderr",
     "output_type": "stream",
     "text": [
      "/home/yang1641/.local/lib/python3.8/site-packages/sklearn/metrics/_ranking.py:980: UserWarning: No positive class found in y_true, recall is set to one for all thresholds.\n",
      "  warnings.warn(\n"
     ]
    },
    {
     "name": "stdout",
     "output_type": "stream",
     "text": [
      "Batch 0\n",
      "train loss: 0.1400 [0/27652]\n",
      "Finished with batches...\n",
      "Finished with one full epoch...\n",
      "Finished all batches in validation...\n",
      "Finished with calculating metrics...\n",
      "Epoch 1205\n",
      "---------------\n"
     ]
    },
    {
     "name": "stderr",
     "output_type": "stream",
     "text": [
      "/home/yang1641/.local/lib/python3.8/site-packages/sklearn/metrics/_ranking.py:980: UserWarning: No positive class found in y_true, recall is set to one for all thresholds.\n",
      "  warnings.warn(\n"
     ]
    },
    {
     "name": "stdout",
     "output_type": "stream",
     "text": [
      "Batch 0\n",
      "train loss: 0.1392 [0/27652]\n",
      "Finished with batches...\n",
      "Finished with one full epoch...\n",
      "Finished all batches in validation...\n",
      "Finished with calculating metrics...\n",
      "Epoch 1206\n",
      "---------------\n",
      "Batch 0\n",
      "train loss: 0.1392 [0/27652]\n",
      "Finished with batches...\n",
      "Finished with one full epoch...\n",
      "Finished all batches in validation...\n",
      "Finished with calculating metrics...\n",
      "Epoch 1207\n",
      "---------------\n",
      "Batch 0\n",
      "train loss: 0.1383 [0/27652]\n",
      "Finished with batches...\n",
      "Finished with one full epoch...\n",
      "Finished all batches in validation...\n",
      "Finished with calculating metrics...\n",
      "Epoch 1208\n",
      "---------------\n",
      "Batch 0\n",
      "train loss: 0.1388 [0/27652]\n",
      "Finished with batches...\n",
      "Finished with one full epoch...\n",
      "Finished all batches in validation...\n",
      "Finished with calculating metrics...\n",
      "Epoch 1209\n",
      "---------------\n",
      "Batch 0\n",
      "train loss: 0.1401 [0/27652]\n",
      "Finished with batches...\n",
      "Finished with one full epoch...\n",
      "Finished all batches in validation...\n",
      "Finished with calculating metrics...\n",
      "Epoch 1210\n",
      "---------------\n",
      "Batch 0\n",
      "train loss: 0.1389 [0/27652]\n",
      "Finished with batches...\n",
      "Finished with one full epoch...\n",
      "Finished all batches in validation...\n",
      "Finished with calculating metrics...\n",
      "Epoch 1211\n",
      "---------------\n",
      "Batch 0\n",
      "train loss: 0.1395 [0/27652]\n",
      "Finished with batches...\n",
      "Finished with one full epoch...\n",
      "Finished all batches in validation...\n",
      "Finished with calculating metrics...\n",
      "Epoch 1212\n",
      "---------------\n",
      "Batch 0\n",
      "train loss: 0.1403 [0/27652]\n",
      "Finished with batches...\n",
      "Finished with one full epoch...\n",
      "Finished all batches in validation...\n",
      "Finished with calculating metrics...\n",
      "Epoch 1213\n",
      "---------------\n",
      "Batch 0\n",
      "train loss: 0.1403 [0/27652]\n",
      "Finished with batches...\n",
      "Finished with one full epoch...\n",
      "Finished all batches in validation...\n",
      "Finished with calculating metrics...\n",
      "Epoch 1214\n",
      "---------------\n",
      "Batch 0\n",
      "train loss: 0.1396 [0/27652]\n",
      "Finished with batches...\n",
      "Finished with one full epoch...\n",
      "Finished all batches in validation...\n",
      "Finished with calculating metrics...\n",
      "Epoch 1215\n",
      "---------------\n",
      "Batch 0\n",
      "train loss: 0.1399 [0/27652]\n",
      "Finished with batches...\n",
      "Finished with one full epoch...\n",
      "Finished all batches in validation...\n",
      "Finished with calculating metrics...\n",
      "Epoch 1216\n",
      "---------------\n",
      "Batch 0\n",
      "train loss: 0.1381 [0/27652]\n",
      "Finished with batches...\n",
      "Finished with one full epoch...\n",
      "Finished all batches in validation...\n",
      "Finished with calculating metrics...\n",
      "Epoch 1217\n",
      "---------------\n",
      "Batch 0\n",
      "train loss: 0.1385 [0/27652]\n",
      "Finished with batches...\n",
      "Finished with one full epoch...\n",
      "Finished all batches in validation...\n",
      "Finished with calculating metrics...\n",
      "Epoch 1218\n",
      "---------------\n",
      "Batch 0\n",
      "train loss: 0.1407 [0/27652]\n",
      "Finished with batches...\n",
      "Finished with one full epoch...\n",
      "Finished all batches in validation...\n",
      "Finished with calculating metrics...\n",
      "Epoch 1219\n",
      "---------------\n",
      "Batch 0\n",
      "train loss: 0.1398 [0/27652]\n",
      "Finished with batches...\n",
      "Finished with one full epoch...\n",
      "Finished all batches in validation...\n",
      "Finished with calculating metrics...\n",
      "Epoch 1220\n",
      "---------------\n",
      "Batch 0\n",
      "train loss: 0.1387 [0/27652]\n",
      "Finished with batches...\n",
      "Finished with one full epoch...\n",
      "Finished all batches in validation...\n",
      "Finished with calculating metrics...\n",
      "Epoch 1221\n",
      "---------------\n",
      "Batch 0\n",
      "train loss: 0.1398 [0/27652]\n",
      "Finished with batches...\n",
      "Finished with one full epoch...\n",
      "Finished all batches in validation...\n",
      "Finished with calculating metrics...\n",
      "Epoch 1222\n",
      "---------------\n",
      "Batch 0\n",
      "train loss: 0.1392 [0/27652]\n",
      "Finished with batches...\n",
      "Finished with one full epoch...\n",
      "Finished all batches in validation...\n",
      "Finished with calculating metrics...\n",
      "Epoch 1223\n",
      "---------------\n"
     ]
    },
    {
     "name": "stderr",
     "output_type": "stream",
     "text": [
      "/home/yang1641/.local/lib/python3.8/site-packages/sklearn/metrics/_ranking.py:980: UserWarning: No positive class found in y_true, recall is set to one for all thresholds.\n",
      "  warnings.warn(\n"
     ]
    },
    {
     "name": "stdout",
     "output_type": "stream",
     "text": [
      "Batch 0\n",
      "train loss: 0.1377 [0/27652]\n",
      "Finished with batches...\n",
      "Finished with one full epoch...\n",
      "Finished all batches in validation...\n",
      "Finished with calculating metrics...\n",
      "Epoch 1224\n",
      "---------------\n"
     ]
    },
    {
     "name": "stderr",
     "output_type": "stream",
     "text": [
      "/home/yang1641/.local/lib/python3.8/site-packages/sklearn/metrics/_ranking.py:980: UserWarning: No positive class found in y_true, recall is set to one for all thresholds.\n",
      "  warnings.warn(\n"
     ]
    },
    {
     "name": "stdout",
     "output_type": "stream",
     "text": [
      "Batch 0\n",
      "train loss: 0.1388 [0/27652]\n",
      "Finished with batches...\n",
      "Finished with one full epoch...\n",
      "Finished all batches in validation...\n",
      "Finished with calculating metrics...\n",
      "Epoch 1225\n",
      "---------------\n"
     ]
    },
    {
     "name": "stderr",
     "output_type": "stream",
     "text": [
      "/home/yang1641/.local/lib/python3.8/site-packages/sklearn/metrics/_ranking.py:980: UserWarning: No positive class found in y_true, recall is set to one for all thresholds.\n",
      "  warnings.warn(\n"
     ]
    },
    {
     "name": "stdout",
     "output_type": "stream",
     "text": [
      "Batch 0\n",
      "train loss: 0.1393 [0/27652]\n",
      "Finished with batches...\n",
      "Finished with one full epoch...\n",
      "Finished all batches in validation...\n",
      "Finished with calculating metrics...\n",
      "Epoch 1226\n",
      "---------------\n",
      "Batch 0\n",
      "train loss: 0.1380 [0/27652]\n",
      "Finished with batches...\n",
      "Finished with one full epoch...\n",
      "Finished all batches in validation...\n",
      "Finished with calculating metrics...\n",
      "Epoch 1227\n",
      "---------------\n"
     ]
    },
    {
     "name": "stderr",
     "output_type": "stream",
     "text": [
      "/home/yang1641/.local/lib/python3.8/site-packages/sklearn/metrics/_ranking.py:980: UserWarning: No positive class found in y_true, recall is set to one for all thresholds.\n",
      "  warnings.warn(\n"
     ]
    },
    {
     "name": "stdout",
     "output_type": "stream",
     "text": [
      "Batch 0\n",
      "train loss: 0.1395 [0/27652]\n",
      "Finished with batches...\n",
      "Finished with one full epoch...\n",
      "Finished all batches in validation...\n",
      "Finished with calculating metrics...\n",
      "Epoch 1228\n",
      "---------------\n",
      "Batch 0\n",
      "train loss: 0.1400 [0/27652]\n",
      "Finished with batches...\n",
      "Finished with one full epoch...\n",
      "Finished all batches in validation...\n",
      "Finished with calculating metrics...\n",
      "Epoch 1229\n",
      "---------------\n",
      "Batch 0\n",
      "train loss: 0.1390 [0/27652]\n",
      "Finished with batches...\n",
      "Finished with one full epoch...\n",
      "Finished all batches in validation...\n",
      "Finished with calculating metrics...\n",
      "Epoch 1230\n",
      "---------------\n",
      "Batch 0\n",
      "train loss: 0.1393 [0/27652]\n",
      "Finished with batches...\n",
      "Finished with one full epoch...\n",
      "Finished all batches in validation...\n",
      "Finished with calculating metrics...\n",
      "Epoch 1231\n",
      "---------------\n",
      "Batch 0\n",
      "train loss: 0.1380 [0/27652]\n",
      "Finished with batches...\n",
      "Finished with one full epoch...\n",
      "Finished all batches in validation...\n",
      "Finished with calculating metrics...\n",
      "Epoch 1232\n",
      "---------------\n",
      "Batch 0\n",
      "train loss: 0.1394 [0/27652]\n",
      "Finished with batches...\n",
      "Finished with one full epoch...\n",
      "Finished all batches in validation...\n",
      "Finished with calculating metrics...\n",
      "Epoch 1233\n",
      "---------------\n",
      "Batch 0\n",
      "train loss: 0.1384 [0/27652]\n",
      "Finished with batches...\n",
      "Finished with one full epoch...\n",
      "Finished all batches in validation...\n",
      "Finished with calculating metrics...\n",
      "Epoch 1234\n",
      "---------------\n",
      "Batch 0\n",
      "train loss: 0.1389 [0/27652]\n",
      "Finished with batches...\n",
      "Finished with one full epoch...\n",
      "Finished all batches in validation...\n",
      "Finished with calculating metrics...\n",
      "Epoch 1235\n",
      "---------------\n",
      "Batch 0\n",
      "train loss: 0.1390 [0/27652]\n",
      "Finished with batches...\n",
      "Finished with one full epoch...\n",
      "Finished all batches in validation...\n",
      "Finished with calculating metrics...\n",
      "Epoch 1236\n",
      "---------------\n",
      "Batch 0\n",
      "train loss: 0.1396 [0/27652]\n",
      "Finished with batches...\n",
      "Finished with one full epoch...\n",
      "Finished all batches in validation...\n",
      "Finished with calculating metrics...\n",
      "Epoch 1237\n",
      "---------------\n",
      "Batch 0\n",
      "train loss: 0.1392 [0/27652]\n",
      "Finished with batches...\n",
      "Finished with one full epoch...\n",
      "Finished all batches in validation...\n",
      "Finished with calculating metrics...\n",
      "Epoch 1238\n",
      "---------------\n"
     ]
    },
    {
     "name": "stderr",
     "output_type": "stream",
     "text": [
      "/home/yang1641/.local/lib/python3.8/site-packages/sklearn/metrics/_ranking.py:980: UserWarning: No positive class found in y_true, recall is set to one for all thresholds.\n",
      "  warnings.warn(\n"
     ]
    },
    {
     "name": "stdout",
     "output_type": "stream",
     "text": [
      "Batch 0\n",
      "train loss: 0.1393 [0/27652]\n",
      "Finished with batches...\n",
      "Finished with one full epoch...\n",
      "Finished all batches in validation...\n",
      "Finished with calculating metrics...\n",
      "Epoch 1239\n",
      "---------------\n"
     ]
    },
    {
     "name": "stderr",
     "output_type": "stream",
     "text": [
      "/home/yang1641/.local/lib/python3.8/site-packages/sklearn/metrics/_ranking.py:980: UserWarning: No positive class found in y_true, recall is set to one for all thresholds.\n",
      "  warnings.warn(\n"
     ]
    },
    {
     "name": "stdout",
     "output_type": "stream",
     "text": [
      "Batch 0\n",
      "train loss: 0.1395 [0/27652]\n",
      "Finished with batches...\n",
      "Finished with one full epoch...\n",
      "Finished all batches in validation...\n",
      "Finished with calculating metrics...\n",
      "Epoch 1240\n",
      "---------------\n"
     ]
    },
    {
     "name": "stderr",
     "output_type": "stream",
     "text": [
      "/home/yang1641/.local/lib/python3.8/site-packages/sklearn/metrics/_ranking.py:980: UserWarning: No positive class found in y_true, recall is set to one for all thresholds.\n",
      "  warnings.warn(\n"
     ]
    },
    {
     "name": "stdout",
     "output_type": "stream",
     "text": [
      "Batch 0\n",
      "train loss: 0.1378 [0/27652]\n",
      "Finished with batches...\n",
      "Finished with one full epoch...\n",
      "Finished all batches in validation...\n",
      "Finished with calculating metrics...\n",
      "Epoch 1241\n",
      "---------------\n",
      "Batch 0\n",
      "train loss: 0.1395 [0/27652]\n",
      "Finished with batches...\n",
      "Finished with one full epoch...\n",
      "Finished all batches in validation...\n",
      "Finished with calculating metrics...\n",
      "Epoch 1242\n",
      "---------------\n",
      "Batch 0\n",
      "train loss: 0.1392 [0/27652]\n",
      "Finished with batches...\n",
      "Finished with one full epoch...\n",
      "Finished all batches in validation...\n",
      "Finished with calculating metrics...\n",
      "Epoch 1243\n",
      "---------------\n",
      "Batch 0\n",
      "train loss: 0.1396 [0/27652]\n",
      "Finished with batches...\n",
      "Finished with one full epoch...\n",
      "Finished all batches in validation...\n",
      "Finished with calculating metrics...\n",
      "Epoch 1244\n",
      "---------------\n",
      "Batch 0\n",
      "train loss: 0.1394 [0/27652]\n",
      "Finished with batches...\n",
      "Finished with one full epoch...\n",
      "Finished all batches in validation...\n",
      "Finished with calculating metrics...\n",
      "Epoch 1245\n",
      "---------------\n",
      "Batch 0\n",
      "train loss: 0.1401 [0/27652]\n",
      "Finished with batches...\n",
      "Finished with one full epoch...\n",
      "Finished all batches in validation...\n",
      "Finished with calculating metrics...\n",
      "Epoch 1246\n",
      "---------------\n",
      "Batch 0\n",
      "train loss: 0.1398 [0/27652]\n",
      "Finished with batches...\n",
      "Finished with one full epoch...\n",
      "Finished all batches in validation...\n",
      "Finished with calculating metrics...\n",
      "Epoch 1247\n",
      "---------------\n",
      "Batch 0\n",
      "train loss: 0.1393 [0/27652]\n",
      "Finished with batches...\n",
      "Finished with one full epoch...\n",
      "Finished all batches in validation...\n",
      "Finished with calculating metrics...\n",
      "Epoch 1248\n",
      "---------------\n",
      "Batch 0\n",
      "train loss: 0.1373 [0/27652]\n",
      "Finished with batches...\n",
      "Finished with one full epoch...\n",
      "Finished all batches in validation...\n",
      "Finished with calculating metrics...\n",
      "Epoch 1249\n",
      "---------------\n",
      "Batch 0\n",
      "train loss: 0.1373 [0/27652]\n",
      "Finished with batches...\n",
      "Finished with one full epoch...\n",
      "Finished all batches in validation...\n",
      "Finished with calculating metrics...\n",
      "Epoch 1250\n",
      "---------------\n",
      "Batch 0\n",
      "train loss: 0.1396 [0/27652]\n",
      "Finished with batches...\n",
      "Finished with one full epoch...\n",
      "Finished all batches in validation...\n",
      "Finished with calculating metrics...\n",
      "Epoch 1251\n",
      "---------------\n",
      "Batch 0\n",
      "train loss: 0.1385 [0/27652]\n",
      "Finished with batches...\n",
      "Finished with one full epoch...\n",
      "Finished all batches in validation...\n",
      "Finished with calculating metrics...\n",
      "Epoch 1252\n",
      "---------------\n",
      "Batch 0\n",
      "train loss: 0.1400 [0/27652]\n",
      "Finished with batches...\n",
      "Finished with one full epoch...\n",
      "Finished all batches in validation...\n",
      "Finished with calculating metrics...\n",
      "Epoch 1253\n",
      "---------------\n",
      "Batch 0\n",
      "train loss: 0.1398 [0/27652]\n",
      "Finished with batches...\n",
      "Finished with one full epoch...\n",
      "Finished all batches in validation...\n",
      "Finished with calculating metrics...\n",
      "Epoch 1254\n",
      "---------------\n",
      "Batch 0\n",
      "train loss: 0.1389 [0/27652]\n",
      "Finished with batches...\n",
      "Finished with one full epoch...\n",
      "Finished all batches in validation...\n",
      "Finished with calculating metrics...\n",
      "Epoch 1255\n",
      "---------------\n",
      "Batch 0\n",
      "train loss: 0.1389 [0/27652]\n",
      "Finished with batches...\n",
      "Finished with one full epoch...\n",
      "Finished all batches in validation...\n",
      "Finished with calculating metrics...\n",
      "Epoch 1256\n",
      "---------------\n",
      "Batch 0\n",
      "train loss: 0.1392 [0/27652]\n",
      "Finished with batches...\n",
      "Finished with one full epoch...\n",
      "Finished all batches in validation...\n",
      "Finished with calculating metrics...\n",
      "Epoch 1257\n",
      "---------------\n",
      "Batch 0\n",
      "train loss: 0.1398 [0/27652]\n",
      "Finished with batches...\n",
      "Finished with one full epoch...\n",
      "Finished all batches in validation...\n",
      "Finished with calculating metrics...\n",
      "Epoch 1258\n",
      "---------------\n",
      "Batch 0\n",
      "train loss: 0.1393 [0/27652]\n",
      "Finished with batches...\n",
      "Finished with one full epoch...\n",
      "Finished all batches in validation...\n",
      "Finished with calculating metrics...\n",
      "Epoch 1259\n",
      "---------------\n",
      "Batch 0\n",
      "train loss: 0.1391 [0/27652]\n",
      "Finished with batches...\n",
      "Finished with one full epoch...\n",
      "Finished all batches in validation...\n",
      "Finished with calculating metrics...\n",
      "Epoch 1260\n",
      "---------------\n",
      "Batch 0\n",
      "train loss: 0.1389 [0/27652]\n",
      "Finished with batches...\n",
      "Finished with one full epoch...\n",
      "Finished all batches in validation...\n",
      "Finished with calculating metrics...\n",
      "Epoch 1261\n",
      "---------------\n"
     ]
    },
    {
     "name": "stderr",
     "output_type": "stream",
     "text": [
      "/home/yang1641/.local/lib/python3.8/site-packages/sklearn/metrics/_ranking.py:980: UserWarning: No positive class found in y_true, recall is set to one for all thresholds.\n",
      "  warnings.warn(\n"
     ]
    },
    {
     "name": "stdout",
     "output_type": "stream",
     "text": [
      "Batch 0\n",
      "train loss: 0.1395 [0/27652]\n",
      "Finished with batches...\n",
      "Finished with one full epoch...\n",
      "Finished all batches in validation...\n",
      "Finished with calculating metrics...\n",
      "Epoch 1262\n",
      "---------------\n"
     ]
    },
    {
     "name": "stderr",
     "output_type": "stream",
     "text": [
      "/home/yang1641/.local/lib/python3.8/site-packages/sklearn/metrics/_ranking.py:980: UserWarning: No positive class found in y_true, recall is set to one for all thresholds.\n",
      "  warnings.warn(\n"
     ]
    },
    {
     "name": "stdout",
     "output_type": "stream",
     "text": [
      "Batch 0\n",
      "train loss: 0.1377 [0/27652]\n",
      "Finished with batches...\n",
      "Finished with one full epoch...\n",
      "Finished all batches in validation...\n",
      "Finished with calculating metrics...\n",
      "Epoch 1263\n",
      "---------------\n",
      "Batch 0\n",
      "train loss: 0.1390 [0/27652]\n",
      "Finished with batches...\n",
      "Finished with one full epoch...\n",
      "Finished all batches in validation...\n",
      "Finished with calculating metrics...\n",
      "Epoch 1264\n",
      "---------------\n",
      "Batch 0\n",
      "train loss: 0.1384 [0/27652]\n",
      "Finished with batches...\n",
      "Finished with one full epoch...\n",
      "Finished all batches in validation...\n",
      "Finished with calculating metrics...\n",
      "Epoch 1265\n",
      "---------------\n",
      "Batch 0\n",
      "train loss: 0.1386 [0/27652]\n",
      "Finished with batches...\n",
      "Finished with one full epoch...\n",
      "Finished all batches in validation...\n",
      "Finished with calculating metrics...\n",
      "Epoch 1266\n",
      "---------------\n",
      "Batch 0\n",
      "train loss: 0.1395 [0/27652]\n",
      "Finished with batches...\n",
      "Finished with one full epoch...\n",
      "Finished all batches in validation...\n",
      "Finished with calculating metrics...\n",
      "Epoch 1267\n",
      "---------------\n",
      "Batch 0\n",
      "train loss: 0.1400 [0/27652]\n",
      "Finished with batches...\n",
      "Finished with one full epoch...\n",
      "Finished all batches in validation...\n",
      "Finished with calculating metrics...\n",
      "Epoch 1268\n",
      "---------------\n",
      "Batch 0\n",
      "train loss: 0.1407 [0/27652]\n",
      "Finished with batches...\n",
      "Finished with one full epoch...\n",
      "Finished all batches in validation...\n",
      "Finished with calculating metrics...\n",
      "Epoch 1269\n",
      "---------------\n",
      "Batch 0\n",
      "train loss: 0.1403 [0/27652]\n",
      "Finished with batches...\n",
      "Finished with one full epoch...\n",
      "Finished all batches in validation...\n",
      "Finished with calculating metrics...\n",
      "Epoch 1270\n",
      "---------------\n",
      "Batch 0\n",
      "train loss: 0.1394 [0/27652]\n",
      "Finished with batches...\n",
      "Finished with one full epoch...\n",
      "Finished all batches in validation...\n",
      "Finished with calculating metrics...\n",
      "Epoch 1271\n",
      "---------------\n",
      "Batch 0\n",
      "train loss: 0.1388 [0/27652]\n",
      "Finished with batches...\n",
      "Finished with one full epoch...\n",
      "Finished all batches in validation...\n",
      "Finished with calculating metrics...\n",
      "Epoch 1272\n",
      "---------------\n",
      "Batch 0\n",
      "train loss: 0.1393 [0/27652]\n",
      "Finished with batches...\n",
      "Finished with one full epoch...\n",
      "Finished all batches in validation...\n",
      "Finished with calculating metrics...\n",
      "Epoch 1273\n",
      "---------------\n",
      "Batch 0\n",
      "train loss: 0.1387 [0/27652]\n",
      "Finished with batches...\n",
      "Finished with one full epoch...\n",
      "Finished all batches in validation...\n",
      "Finished with calculating metrics...\n",
      "Epoch 1274\n",
      "---------------\n",
      "Batch 0\n",
      "train loss: 0.1391 [0/27652]\n",
      "Finished with batches...\n",
      "Finished with one full epoch...\n",
      "Finished all batches in validation...\n",
      "Finished with calculating metrics...\n",
      "Epoch 1275\n",
      "---------------\n",
      "Batch 0\n",
      "train loss: 0.1389 [0/27652]\n",
      "Finished with batches...\n",
      "Finished with one full epoch...\n",
      "Finished all batches in validation...\n",
      "Finished with calculating metrics...\n",
      "Epoch 1276\n",
      "---------------\n",
      "Batch 0\n",
      "train loss: 0.1386 [0/27652]\n",
      "Finished with batches...\n",
      "Finished with one full epoch...\n",
      "Finished all batches in validation...\n",
      "Finished with calculating metrics...\n",
      "Epoch 1277\n",
      "---------------\n",
      "Batch 0\n",
      "train loss: 0.1393 [0/27652]\n",
      "Finished with batches...\n",
      "Finished with one full epoch...\n",
      "Finished all batches in validation...\n",
      "Finished with calculating metrics...\n",
      "Epoch 1278\n",
      "---------------\n",
      "Batch 0\n",
      "train loss: 0.1378 [0/27652]\n",
      "Finished with batches...\n",
      "Finished with one full epoch...\n",
      "Finished all batches in validation...\n",
      "Finished with calculating metrics...\n",
      "Epoch 1279\n",
      "---------------\n",
      "Batch 0\n",
      "train loss: 0.1399 [0/27652]\n",
      "Finished with batches...\n",
      "Finished with one full epoch...\n",
      "Finished all batches in validation...\n",
      "Finished with calculating metrics...\n",
      "Epoch 1280\n",
      "---------------\n",
      "Batch 0\n",
      "train loss: 0.1389 [0/27652]\n",
      "Finished with batches...\n",
      "Finished with one full epoch...\n",
      "Finished all batches in validation...\n",
      "Finished with calculating metrics...\n",
      "Epoch 1281\n",
      "---------------\n",
      "Batch 0\n",
      "train loss: 0.1385 [0/27652]\n",
      "Finished with batches...\n",
      "Finished with one full epoch...\n",
      "Finished all batches in validation...\n",
      "Finished with calculating metrics...\n",
      "Epoch 1282\n",
      "---------------\n",
      "Batch 0\n",
      "train loss: 0.1386 [0/27652]\n",
      "Finished with batches...\n",
      "Finished with one full epoch...\n",
      "Finished all batches in validation...\n",
      "Finished with calculating metrics...\n",
      "Epoch 1283\n",
      "---------------\n",
      "Batch 0\n",
      "train loss: 0.1391 [0/27652]\n",
      "Finished with batches...\n",
      "Finished with one full epoch...\n",
      "Finished all batches in validation...\n",
      "Finished with calculating metrics...\n",
      "Epoch 1284\n",
      "---------------\n",
      "Batch 0\n",
      "train loss: 0.1390 [0/27652]\n",
      "Finished with batches...\n",
      "Finished with one full epoch...\n",
      "Finished all batches in validation...\n",
      "Finished with calculating metrics...\n",
      "Epoch 1285\n",
      "---------------\n",
      "Batch 0\n",
      "train loss: 0.1392 [0/27652]\n",
      "Finished with batches...\n",
      "Finished with one full epoch...\n",
      "Finished all batches in validation...\n",
      "Finished with calculating metrics...\n",
      "Epoch 1286\n",
      "---------------\n",
      "Batch 0\n",
      "train loss: 0.1387 [0/27652]\n",
      "Finished with batches...\n",
      "Finished with one full epoch...\n",
      "Finished all batches in validation...\n",
      "Finished with calculating metrics...\n",
      "Epoch 1287\n",
      "---------------\n",
      "Batch 0\n",
      "train loss: 0.1396 [0/27652]\n",
      "Finished with batches...\n",
      "Finished with one full epoch...\n",
      "Finished all batches in validation...\n",
      "Finished with calculating metrics...\n",
      "Epoch 1288\n",
      "---------------\n"
     ]
    },
    {
     "name": "stderr",
     "output_type": "stream",
     "text": [
      "/home/yang1641/.local/lib/python3.8/site-packages/sklearn/metrics/_ranking.py:980: UserWarning: No positive class found in y_true, recall is set to one for all thresholds.\n",
      "  warnings.warn(\n"
     ]
    },
    {
     "name": "stdout",
     "output_type": "stream",
     "text": [
      "Batch 0\n",
      "train loss: 0.1397 [0/27652]\n",
      "Finished with batches...\n",
      "Finished with one full epoch...\n",
      "Finished all batches in validation...\n",
      "Finished with calculating metrics...\n",
      "Epoch 1289\n",
      "---------------\n"
     ]
    },
    {
     "name": "stderr",
     "output_type": "stream",
     "text": [
      "/home/yang1641/.local/lib/python3.8/site-packages/sklearn/metrics/_ranking.py:980: UserWarning: No positive class found in y_true, recall is set to one for all thresholds.\n",
      "  warnings.warn(\n"
     ]
    },
    {
     "name": "stdout",
     "output_type": "stream",
     "text": [
      "Batch 0\n",
      "train loss: 0.1373 [0/27652]\n",
      "Finished with batches...\n",
      "Finished with one full epoch...\n",
      "Finished all batches in validation...\n",
      "Finished with calculating metrics...\n",
      "Epoch 1290\n",
      "---------------\n"
     ]
    },
    {
     "name": "stderr",
     "output_type": "stream",
     "text": [
      "/home/yang1641/.local/lib/python3.8/site-packages/sklearn/metrics/_ranking.py:980: UserWarning: No positive class found in y_true, recall is set to one for all thresholds.\n",
      "  warnings.warn(\n"
     ]
    },
    {
     "name": "stdout",
     "output_type": "stream",
     "text": [
      "Batch 0\n",
      "train loss: 0.1380 [0/27652]\n",
      "Finished with batches...\n",
      "Finished with one full epoch...\n",
      "Finished all batches in validation...\n",
      "Finished with calculating metrics...\n",
      "Epoch 1291\n",
      "---------------\n"
     ]
    },
    {
     "name": "stderr",
     "output_type": "stream",
     "text": [
      "/home/yang1641/.local/lib/python3.8/site-packages/sklearn/metrics/_ranking.py:980: UserWarning: No positive class found in y_true, recall is set to one for all thresholds.\n",
      "  warnings.warn(\n"
     ]
    },
    {
     "name": "stdout",
     "output_type": "stream",
     "text": [
      "Batch 0\n",
      "train loss: 0.1383 [0/27652]\n",
      "Finished with batches...\n",
      "Finished with one full epoch...\n",
      "Finished all batches in validation...\n",
      "Finished with calculating metrics...\n",
      "Epoch 1292\n",
      "---------------\n"
     ]
    },
    {
     "name": "stderr",
     "output_type": "stream",
     "text": [
      "/home/yang1641/.local/lib/python3.8/site-packages/sklearn/metrics/_ranking.py:980: UserWarning: No positive class found in y_true, recall is set to one for all thresholds.\n",
      "  warnings.warn(\n"
     ]
    },
    {
     "name": "stdout",
     "output_type": "stream",
     "text": [
      "Batch 0\n",
      "train loss: 0.1378 [0/27652]\n",
      "Finished with batches...\n",
      "Finished with one full epoch...\n",
      "Finished all batches in validation...\n",
      "Finished with calculating metrics...\n",
      "Epoch 1293\n",
      "---------------\n"
     ]
    },
    {
     "name": "stderr",
     "output_type": "stream",
     "text": [
      "/home/yang1641/.local/lib/python3.8/site-packages/sklearn/metrics/_ranking.py:980: UserWarning: No positive class found in y_true, recall is set to one for all thresholds.\n",
      "  warnings.warn(\n"
     ]
    },
    {
     "name": "stdout",
     "output_type": "stream",
     "text": [
      "Batch 0\n",
      "train loss: 0.1379 [0/27652]\n",
      "Finished with batches...\n",
      "Finished with one full epoch...\n",
      "Finished all batches in validation...\n",
      "Finished with calculating metrics...\n",
      "Epoch 1294\n",
      "---------------\n"
     ]
    },
    {
     "name": "stderr",
     "output_type": "stream",
     "text": [
      "/home/yang1641/.local/lib/python3.8/site-packages/sklearn/metrics/_ranking.py:980: UserWarning: No positive class found in y_true, recall is set to one for all thresholds.\n",
      "  warnings.warn(\n"
     ]
    },
    {
     "name": "stdout",
     "output_type": "stream",
     "text": [
      "Batch 0\n",
      "train loss: 0.1386 [0/27652]\n",
      "Finished with batches...\n",
      "Finished with one full epoch...\n",
      "Finished all batches in validation...\n",
      "Finished with calculating metrics...\n",
      "Epoch 1295\n",
      "---------------\n"
     ]
    },
    {
     "name": "stderr",
     "output_type": "stream",
     "text": [
      "/home/yang1641/.local/lib/python3.8/site-packages/sklearn/metrics/_ranking.py:980: UserWarning: No positive class found in y_true, recall is set to one for all thresholds.\n",
      "  warnings.warn(\n"
     ]
    },
    {
     "name": "stdout",
     "output_type": "stream",
     "text": [
      "Batch 0\n",
      "train loss: 0.1388 [0/27652]\n",
      "Finished with batches...\n",
      "Finished with one full epoch...\n",
      "Finished all batches in validation...\n",
      "Finished with calculating metrics...\n",
      "Epoch 1296\n",
      "---------------\n"
     ]
    },
    {
     "name": "stderr",
     "output_type": "stream",
     "text": [
      "/home/yang1641/.local/lib/python3.8/site-packages/sklearn/metrics/_ranking.py:980: UserWarning: No positive class found in y_true, recall is set to one for all thresholds.\n",
      "  warnings.warn(\n"
     ]
    },
    {
     "name": "stdout",
     "output_type": "stream",
     "text": [
      "Batch 0\n",
      "train loss: 0.1383 [0/27652]\n",
      "Finished with batches...\n",
      "Finished with one full epoch...\n",
      "Finished all batches in validation...\n",
      "Finished with calculating metrics...\n",
      "Epoch 1297\n",
      "---------------\n"
     ]
    },
    {
     "name": "stderr",
     "output_type": "stream",
     "text": [
      "/home/yang1641/.local/lib/python3.8/site-packages/sklearn/metrics/_ranking.py:980: UserWarning: No positive class found in y_true, recall is set to one for all thresholds.\n",
      "  warnings.warn(\n"
     ]
    },
    {
     "name": "stdout",
     "output_type": "stream",
     "text": [
      "Batch 0\n",
      "train loss: 0.1398 [0/27652]\n",
      "Finished with batches...\n",
      "Finished with one full epoch...\n",
      "Finished all batches in validation...\n",
      "Finished with calculating metrics...\n",
      "Epoch 1298\n",
      "---------------\n"
     ]
    },
    {
     "name": "stderr",
     "output_type": "stream",
     "text": [
      "/home/yang1641/.local/lib/python3.8/site-packages/sklearn/metrics/_ranking.py:980: UserWarning: No positive class found in y_true, recall is set to one for all thresholds.\n",
      "  warnings.warn(\n"
     ]
    },
    {
     "name": "stdout",
     "output_type": "stream",
     "text": [
      "Batch 0\n",
      "train loss: 0.1388 [0/27652]\n",
      "Finished with batches...\n",
      "Finished with one full epoch...\n",
      "Finished all batches in validation...\n",
      "Finished with calculating metrics...\n",
      "Epoch 1299\n",
      "---------------\n"
     ]
    },
    {
     "name": "stderr",
     "output_type": "stream",
     "text": [
      "/home/yang1641/.local/lib/python3.8/site-packages/sklearn/metrics/_ranking.py:980: UserWarning: No positive class found in y_true, recall is set to one for all thresholds.\n",
      "  warnings.warn(\n"
     ]
    },
    {
     "name": "stdout",
     "output_type": "stream",
     "text": [
      "Batch 0\n",
      "train loss: 0.1392 [0/27652]\n",
      "Finished with batches...\n",
      "Finished with one full epoch...\n",
      "Finished all batches in validation...\n",
      "Finished with calculating metrics...\n",
      "Epoch 1300\n",
      "---------------\n",
      "Batch 0\n",
      "train loss: 0.1383 [0/27652]\n",
      "Finished with batches...\n",
      "Finished with one full epoch...\n",
      "Finished all batches in validation...\n",
      "Finished with calculating metrics...\n",
      "Epoch 1301\n",
      "---------------\n",
      "Batch 0\n",
      "train loss: 0.1385 [0/27652]\n",
      "Finished with batches...\n",
      "Finished with one full epoch...\n",
      "Finished all batches in validation...\n",
      "Finished with calculating metrics...\n",
      "Epoch 1302\n",
      "---------------\n",
      "Batch 0\n",
      "train loss: 0.1389 [0/27652]\n",
      "Finished with batches...\n",
      "Finished with one full epoch...\n",
      "Finished all batches in validation...\n",
      "Finished with calculating metrics...\n",
      "Epoch 1303\n",
      "---------------\n",
      "Batch 0\n",
      "train loss: 0.1393 [0/27652]\n",
      "Finished with batches...\n",
      "Finished with one full epoch...\n",
      "Finished all batches in validation...\n",
      "Finished with calculating metrics...\n",
      "Epoch 1304\n",
      "---------------\n",
      "Batch 0\n",
      "train loss: 0.1388 [0/27652]\n",
      "Finished with batches...\n",
      "Finished with one full epoch...\n",
      "Finished all batches in validation...\n",
      "Finished with calculating metrics...\n",
      "Epoch 1305\n",
      "---------------\n",
      "Batch 0\n",
      "train loss: 0.1387 [0/27652]\n",
      "Finished with batches...\n",
      "Finished with one full epoch...\n",
      "Finished all batches in validation...\n",
      "Finished with calculating metrics...\n",
      "Epoch 1306\n",
      "---------------\n",
      "Batch 0\n",
      "train loss: 0.1384 [0/27652]\n",
      "Finished with batches...\n",
      "Finished with one full epoch...\n",
      "Finished all batches in validation...\n",
      "Finished with calculating metrics...\n",
      "Epoch 1307\n",
      "---------------\n",
      "Batch 0\n",
      "train loss: 0.1402 [0/27652]\n",
      "Finished with batches...\n",
      "Finished with one full epoch...\n",
      "Finished all batches in validation...\n",
      "Finished with calculating metrics...\n",
      "Epoch 1308\n",
      "---------------\n",
      "Batch 0\n",
      "train loss: 0.1388 [0/27652]\n",
      "Finished with batches...\n",
      "Finished with one full epoch...\n",
      "Finished all batches in validation...\n",
      "Finished with calculating metrics...\n",
      "Epoch 1309\n",
      "---------------\n",
      "Batch 0\n",
      "train loss: 0.1383 [0/27652]\n",
      "Finished with batches...\n",
      "Finished with one full epoch...\n",
      "Finished all batches in validation...\n",
      "Finished with calculating metrics...\n",
      "Epoch 1310\n",
      "---------------\n",
      "Batch 0\n",
      "train loss: 0.1382 [0/27652]\n",
      "Finished with batches...\n",
      "Finished with one full epoch...\n",
      "Finished all batches in validation...\n",
      "Finished with calculating metrics...\n",
      "Epoch 1311\n",
      "---------------\n",
      "Batch 0\n",
      "train loss: 0.1378 [0/27652]\n",
      "Finished with batches...\n",
      "Finished with one full epoch...\n",
      "Finished all batches in validation...\n",
      "Finished with calculating metrics...\n",
      "Epoch 1312\n",
      "---------------\n",
      "Batch 0\n",
      "train loss: 0.1384 [0/27652]\n",
      "Finished with batches...\n",
      "Finished with one full epoch...\n",
      "Finished all batches in validation...\n",
      "Finished with calculating metrics...\n",
      "Epoch 1313\n",
      "---------------\n",
      "Batch 0\n",
      "train loss: 0.1395 [0/27652]\n",
      "Finished with batches...\n",
      "Finished with one full epoch...\n",
      "Finished all batches in validation...\n",
      "Finished with calculating metrics...\n",
      "Epoch 1314\n",
      "---------------\n",
      "Batch 0\n",
      "train loss: 0.1395 [0/27652]\n",
      "Finished with batches...\n",
      "Finished with one full epoch...\n",
      "Finished all batches in validation...\n",
      "Finished with calculating metrics...\n",
      "Epoch 1315\n",
      "---------------\n",
      "Batch 0\n",
      "train loss: 0.1386 [0/27652]\n",
      "Finished with batches...\n",
      "Finished with one full epoch...\n",
      "Finished all batches in validation...\n",
      "Finished with calculating metrics...\n",
      "Epoch 1316\n",
      "---------------\n",
      "Batch 0\n",
      "train loss: 0.1390 [0/27652]\n",
      "Finished with batches...\n",
      "Finished with one full epoch...\n",
      "Finished all batches in validation...\n",
      "Finished with calculating metrics...\n",
      "Epoch 1317\n",
      "---------------\n",
      "Batch 0\n",
      "train loss: 0.1378 [0/27652]\n",
      "Finished with batches...\n",
      "Finished with one full epoch...\n",
      "Finished all batches in validation...\n",
      "Finished with calculating metrics...\n",
      "Epoch 1318\n",
      "---------------\n",
      "Batch 0\n",
      "train loss: 0.1378 [0/27652]\n",
      "Finished with batches...\n",
      "Finished with one full epoch...\n",
      "Finished all batches in validation...\n",
      "Finished with calculating metrics...\n",
      "Epoch 1319\n",
      "---------------\n",
      "Batch 0\n",
      "train loss: 0.1381 [0/27652]\n",
      "Finished with batches...\n",
      "Finished with one full epoch...\n",
      "Finished all batches in validation...\n",
      "Finished with calculating metrics...\n",
      "Epoch 1320\n",
      "---------------\n",
      "Batch 0\n",
      "train loss: 0.1395 [0/27652]\n",
      "Finished with batches...\n",
      "Finished with one full epoch...\n",
      "Finished all batches in validation...\n",
      "Finished with calculating metrics...\n",
      "Epoch 1321\n",
      "---------------\n",
      "Batch 0\n",
      "train loss: 0.1390 [0/27652]\n",
      "Finished with batches...\n",
      "Finished with one full epoch...\n",
      "Finished all batches in validation...\n",
      "Finished with calculating metrics...\n",
      "Epoch 1322\n",
      "---------------\n"
     ]
    },
    {
     "name": "stderr",
     "output_type": "stream",
     "text": [
      "/home/yang1641/.local/lib/python3.8/site-packages/sklearn/metrics/_ranking.py:980: UserWarning: No positive class found in y_true, recall is set to one for all thresholds.\n",
      "  warnings.warn(\n"
     ]
    },
    {
     "name": "stdout",
     "output_type": "stream",
     "text": [
      "Batch 0\n",
      "train loss: 0.1405 [0/27652]\n",
      "Finished with batches...\n",
      "Finished with one full epoch...\n",
      "Finished all batches in validation...\n",
      "Finished with calculating metrics...\n",
      "Epoch 1323\n",
      "---------------\n",
      "Batch 0\n",
      "train loss: 0.1392 [0/27652]\n",
      "Finished with batches...\n",
      "Finished with one full epoch...\n",
      "Finished all batches in validation...\n",
      "Finished with calculating metrics...\n",
      "Epoch 1324\n",
      "---------------\n",
      "Batch 0\n",
      "train loss: 0.1398 [0/27652]\n",
      "Finished with batches...\n",
      "Finished with one full epoch...\n",
      "Finished all batches in validation...\n",
      "Finished with calculating metrics...\n",
      "Epoch 1325\n",
      "---------------\n",
      "Batch 0\n",
      "train loss: 0.1391 [0/27652]\n",
      "Finished with batches...\n",
      "Finished with one full epoch...\n",
      "Finished all batches in validation...\n",
      "Finished with calculating metrics...\n",
      "Epoch 1326\n",
      "---------------\n",
      "Batch 0\n",
      "train loss: 0.1386 [0/27652]\n",
      "Finished with batches...\n",
      "Finished with one full epoch...\n",
      "Finished all batches in validation...\n",
      "Finished with calculating metrics...\n",
      "Epoch 1327\n",
      "---------------\n",
      "Batch 0\n",
      "train loss: 0.1393 [0/27652]\n",
      "Finished with batches...\n",
      "Finished with one full epoch...\n",
      "Finished all batches in validation...\n",
      "Finished with calculating metrics...\n",
      "Epoch 1328\n",
      "---------------\n",
      "Batch 0\n",
      "train loss: 0.1392 [0/27652]\n",
      "Finished with batches...\n",
      "Finished with one full epoch...\n",
      "Finished all batches in validation...\n",
      "Finished with calculating metrics...\n",
      "Epoch 1329\n",
      "---------------\n",
      "Batch 0\n",
      "train loss: 0.1408 [0/27652]\n",
      "Finished with batches...\n",
      "Finished with one full epoch...\n",
      "Finished all batches in validation...\n",
      "Finished with calculating metrics...\n",
      "Epoch 1330\n",
      "---------------\n",
      "Batch 0\n",
      "train loss: 0.1390 [0/27652]\n",
      "Finished with batches...\n",
      "Finished with one full epoch...\n",
      "Finished all batches in validation...\n",
      "Finished with calculating metrics...\n",
      "Epoch 1331\n",
      "---------------\n",
      "Batch 0\n",
      "train loss: 0.1391 [0/27652]\n",
      "Finished with batches...\n",
      "Finished with one full epoch...\n",
      "Finished all batches in validation...\n",
      "Finished with calculating metrics...\n",
      "Epoch 1332\n",
      "---------------\n",
      "Batch 0\n",
      "train loss: 0.1391 [0/27652]\n",
      "Finished with batches...\n",
      "Finished with one full epoch...\n",
      "Finished all batches in validation...\n",
      "Finished with calculating metrics...\n",
      "Epoch 1333\n",
      "---------------\n",
      "Batch 0\n",
      "train loss: 0.1376 [0/27652]\n",
      "Finished with batches...\n",
      "Finished with one full epoch...\n",
      "Finished all batches in validation...\n",
      "Finished with calculating metrics...\n",
      "Epoch 1334\n",
      "---------------\n",
      "Batch 0\n",
      "train loss: 0.1390 [0/27652]\n",
      "Finished with batches...\n",
      "Finished with one full epoch...\n",
      "Finished all batches in validation...\n",
      "Finished with calculating metrics...\n",
      "Epoch 1335\n",
      "---------------\n",
      "Batch 0\n",
      "train loss: 0.1387 [0/27652]\n",
      "Finished with batches...\n",
      "Finished with one full epoch...\n",
      "Finished all batches in validation...\n",
      "Finished with calculating metrics...\n",
      "Epoch 1336\n",
      "---------------\n",
      "Batch 0\n",
      "train loss: 0.1384 [0/27652]\n",
      "Finished with batches...\n",
      "Finished with one full epoch...\n",
      "Finished all batches in validation...\n",
      "Finished with calculating metrics...\n",
      "Epoch 1337\n",
      "---------------\n",
      "Batch 0\n",
      "train loss: 0.1388 [0/27652]\n",
      "Finished with batches...\n",
      "Finished with one full epoch...\n",
      "Finished all batches in validation...\n",
      "Finished with calculating metrics...\n",
      "Epoch 1338\n",
      "---------------\n",
      "Batch 0\n",
      "train loss: 0.1384 [0/27652]\n",
      "Finished with batches...\n",
      "Finished with one full epoch...\n",
      "Finished all batches in validation...\n",
      "Finished with calculating metrics...\n",
      "Epoch 1339\n",
      "---------------\n",
      "Batch 0\n",
      "train loss: 0.1392 [0/27652]\n",
      "Finished with batches...\n",
      "Finished with one full epoch...\n",
      "Finished all batches in validation...\n",
      "Finished with calculating metrics...\n",
      "Epoch 1340\n",
      "---------------\n",
      "Batch 0\n",
      "train loss: 0.1392 [0/27652]\n",
      "Finished with batches...\n",
      "Finished with one full epoch...\n",
      "Finished all batches in validation...\n",
      "Finished with calculating metrics...\n",
      "Epoch 1341\n",
      "---------------\n",
      "Batch 0\n",
      "train loss: 0.1390 [0/27652]\n",
      "Finished with batches...\n",
      "Finished with one full epoch...\n",
      "Finished all batches in validation...\n",
      "Finished with calculating metrics...\n",
      "Epoch 1342\n",
      "---------------\n",
      "Batch 0\n",
      "train loss: 0.1383 [0/27652]\n",
      "Finished with batches...\n",
      "Finished with one full epoch...\n",
      "Finished all batches in validation...\n",
      "Finished with calculating metrics...\n",
      "Epoch 1343\n",
      "---------------\n"
     ]
    },
    {
     "name": "stderr",
     "output_type": "stream",
     "text": [
      "/home/yang1641/.local/lib/python3.8/site-packages/sklearn/metrics/_ranking.py:980: UserWarning: No positive class found in y_true, recall is set to one for all thresholds.\n",
      "  warnings.warn(\n"
     ]
    },
    {
     "name": "stdout",
     "output_type": "stream",
     "text": [
      "Batch 0\n",
      "train loss: 0.1389 [0/27652]\n",
      "Finished with batches...\n",
      "Finished with one full epoch...\n",
      "Finished all batches in validation...\n",
      "Finished with calculating metrics...\n",
      "Epoch 1344\n",
      "---------------\n"
     ]
    },
    {
     "name": "stderr",
     "output_type": "stream",
     "text": [
      "/home/yang1641/.local/lib/python3.8/site-packages/sklearn/metrics/_ranking.py:980: UserWarning: No positive class found in y_true, recall is set to one for all thresholds.\n",
      "  warnings.warn(\n"
     ]
    },
    {
     "name": "stdout",
     "output_type": "stream",
     "text": [
      "Batch 0\n",
      "train loss: 0.1385 [0/27652]\n",
      "Finished with batches...\n",
      "Finished with one full epoch...\n",
      "Finished all batches in validation...\n",
      "Finished with calculating metrics...\n",
      "Epoch 1345\n",
      "---------------\n"
     ]
    },
    {
     "name": "stderr",
     "output_type": "stream",
     "text": [
      "/home/yang1641/.local/lib/python3.8/site-packages/sklearn/metrics/_ranking.py:980: UserWarning: No positive class found in y_true, recall is set to one for all thresholds.\n",
      "  warnings.warn(\n"
     ]
    },
    {
     "name": "stdout",
     "output_type": "stream",
     "text": [
      "Batch 0\n",
      "train loss: 0.1388 [0/27652]\n",
      "Finished with batches...\n",
      "Finished with one full epoch...\n",
      "Finished all batches in validation...\n",
      "Finished with calculating metrics...\n",
      "Epoch 1346\n",
      "---------------\n",
      "Batch 0\n",
      "train loss: 0.1391 [0/27652]\n",
      "Finished with batches...\n",
      "Finished with one full epoch...\n",
      "Finished all batches in validation...\n",
      "Finished with calculating metrics...\n",
      "Epoch 1347\n",
      "---------------\n",
      "Batch 0\n",
      "train loss: 0.1388 [0/27652]\n",
      "Finished with batches...\n",
      "Finished with one full epoch...\n",
      "Finished all batches in validation...\n",
      "Finished with calculating metrics...\n",
      "Epoch 1348\n",
      "---------------\n",
      "Batch 0\n",
      "train loss: 0.1379 [0/27652]\n",
      "Finished with batches...\n",
      "Finished with one full epoch...\n",
      "Finished all batches in validation...\n",
      "Finished with calculating metrics...\n",
      "Epoch 1349\n",
      "---------------\n",
      "Batch 0\n",
      "train loss: 0.1374 [0/27652]\n",
      "Finished with batches...\n",
      "Finished with one full epoch...\n",
      "Finished all batches in validation...\n",
      "Finished with calculating metrics...\n",
      "Epoch 1350\n",
      "---------------\n",
      "Batch 0\n",
      "train loss: 0.1385 [0/27652]\n",
      "Finished with batches...\n",
      "Finished with one full epoch...\n",
      "Finished all batches in validation...\n",
      "Finished with calculating metrics...\n",
      "Epoch 1351\n",
      "---------------\n",
      "Batch 0\n",
      "train loss: 0.1385 [0/27652]\n",
      "Finished with batches...\n",
      "Finished with one full epoch...\n",
      "Finished all batches in validation...\n",
      "Finished with calculating metrics...\n",
      "Epoch 1352\n",
      "---------------\n",
      "Batch 0\n",
      "train loss: 0.1391 [0/27652]\n",
      "Finished with batches...\n",
      "Finished with one full epoch...\n",
      "Finished all batches in validation...\n",
      "Finished with calculating metrics...\n",
      "Epoch 1353\n",
      "---------------\n",
      "Batch 0\n",
      "train loss: 0.1386 [0/27652]\n",
      "Finished with batches...\n",
      "Finished with one full epoch...\n",
      "Finished all batches in validation...\n",
      "Finished with calculating metrics...\n",
      "Epoch 1354\n",
      "---------------\n",
      "Batch 0\n",
      "train loss: 0.1381 [0/27652]\n",
      "Finished with batches...\n",
      "Finished with one full epoch...\n",
      "Finished all batches in validation...\n",
      "Finished with calculating metrics...\n",
      "Epoch 1355\n",
      "---------------\n",
      "Batch 0\n",
      "train loss: 0.1383 [0/27652]\n",
      "Finished with batches...\n",
      "Finished with one full epoch...\n",
      "Finished all batches in validation...\n",
      "Finished with calculating metrics...\n",
      "Epoch 1356\n",
      "---------------\n",
      "Batch 0\n",
      "train loss: 0.1386 [0/27652]\n",
      "Finished with batches...\n",
      "Finished with one full epoch...\n",
      "Finished all batches in validation...\n",
      "Finished with calculating metrics...\n",
      "Epoch 1357\n",
      "---------------\n",
      "Batch 0\n",
      "train loss: 0.1386 [0/27652]\n",
      "Finished with batches...\n",
      "Finished with one full epoch...\n",
      "Finished all batches in validation...\n",
      "Finished with calculating metrics...\n",
      "Epoch 1358\n",
      "---------------\n",
      "Batch 0\n",
      "train loss: 0.1382 [0/27652]\n",
      "Finished with batches...\n",
      "Finished with one full epoch...\n",
      "Finished all batches in validation...\n",
      "Finished with calculating metrics...\n",
      "Epoch 1359\n",
      "---------------\n",
      "Batch 0\n",
      "train loss: 0.1381 [0/27652]\n",
      "Finished with batches...\n",
      "Finished with one full epoch...\n",
      "Finished all batches in validation...\n",
      "Finished with calculating metrics...\n",
      "Epoch 1360\n",
      "---------------\n",
      "Batch 0\n",
      "train loss: 0.1390 [0/27652]\n",
      "Finished with batches...\n",
      "Finished with one full epoch...\n",
      "Finished all batches in validation...\n",
      "Finished with calculating metrics...\n",
      "Epoch 1361\n",
      "---------------\n",
      "Batch 0\n",
      "train loss: 0.1385 [0/27652]\n",
      "Finished with batches...\n",
      "Finished with one full epoch...\n",
      "Finished all batches in validation...\n",
      "Finished with calculating metrics...\n",
      "Epoch 1362\n",
      "---------------\n",
      "Batch 0\n",
      "train loss: 0.1390 [0/27652]\n",
      "Finished with batches...\n",
      "Finished with one full epoch...\n",
      "Finished all batches in validation...\n",
      "Finished with calculating metrics...\n",
      "Epoch 1363\n",
      "---------------\n",
      "Batch 0\n",
      "train loss: 0.1388 [0/27652]\n",
      "Finished with batches...\n",
      "Finished with one full epoch...\n",
      "Finished all batches in validation...\n",
      "Finished with calculating metrics...\n",
      "Epoch 1364\n",
      "---------------\n",
      "Batch 0\n",
      "train loss: 0.1386 [0/27652]\n",
      "Finished with batches...\n",
      "Finished with one full epoch...\n",
      "Finished all batches in validation...\n",
      "Finished with calculating metrics...\n",
      "Epoch 1365\n",
      "---------------\n",
      "Batch 0\n",
      "train loss: 0.1395 [0/27652]\n",
      "Finished with batches...\n",
      "Finished with one full epoch...\n",
      "Finished all batches in validation...\n",
      "Finished with calculating metrics...\n",
      "Epoch 1366\n",
      "---------------\n",
      "Batch 0\n",
      "train loss: 0.1382 [0/27652]\n",
      "Finished with batches...\n",
      "Finished with one full epoch...\n",
      "Finished all batches in validation...\n",
      "Finished with calculating metrics...\n",
      "Epoch 1367\n",
      "---------------\n",
      "Batch 0\n",
      "train loss: 0.1380 [0/27652]\n",
      "Finished with batches...\n",
      "Finished with one full epoch...\n",
      "Finished all batches in validation...\n",
      "Finished with calculating metrics...\n",
      "Epoch 1368\n",
      "---------------\n",
      "Batch 0\n",
      "train loss: 0.1398 [0/27652]\n",
      "Finished with batches...\n",
      "Finished with one full epoch...\n",
      "Finished all batches in validation...\n",
      "Finished with calculating metrics...\n",
      "Epoch 1369\n",
      "---------------\n",
      "Batch 0\n",
      "train loss: 0.1381 [0/27652]\n",
      "Finished with batches...\n",
      "Finished with one full epoch...\n",
      "Finished all batches in validation...\n",
      "Finished with calculating metrics...\n",
      "Epoch 1370\n",
      "---------------\n",
      "Batch 0\n",
      "train loss: 0.1396 [0/27652]\n",
      "Finished with batches...\n",
      "Finished with one full epoch...\n",
      "Finished all batches in validation...\n",
      "Finished with calculating metrics...\n",
      "Epoch 1371\n",
      "---------------\n",
      "Batch 0\n",
      "train loss: 0.1382 [0/27652]\n",
      "Finished with batches...\n",
      "Finished with one full epoch...\n",
      "Finished all batches in validation...\n",
      "Finished with calculating metrics...\n",
      "Epoch 1372\n",
      "---------------\n",
      "Batch 0\n",
      "train loss: 0.1379 [0/27652]\n",
      "Finished with batches...\n",
      "Finished with one full epoch...\n",
      "Finished all batches in validation...\n",
      "Finished with calculating metrics...\n",
      "Epoch 1373\n",
      "---------------\n",
      "Batch 0\n",
      "train loss: 0.1391 [0/27652]\n",
      "Finished with batches...\n",
      "Finished with one full epoch...\n",
      "Finished all batches in validation...\n",
      "Finished with calculating metrics...\n",
      "Epoch 1374\n",
      "---------------\n",
      "Batch 0\n",
      "train loss: 0.1388 [0/27652]\n",
      "Finished with batches...\n",
      "Finished with one full epoch...\n",
      "Finished all batches in validation...\n",
      "Finished with calculating metrics...\n",
      "Epoch 1375\n",
      "---------------\n",
      "Batch 0\n",
      "train loss: 0.1390 [0/27652]\n",
      "Finished with batches...\n",
      "Finished with one full epoch...\n",
      "Finished all batches in validation...\n",
      "Finished with calculating metrics...\n",
      "Epoch 1376\n",
      "---------------\n",
      "Batch 0\n",
      "train loss: 0.1399 [0/27652]\n",
      "Finished with batches...\n",
      "Finished with one full epoch...\n",
      "Finished all batches in validation...\n",
      "Finished with calculating metrics...\n",
      "Epoch 1377\n",
      "---------------\n",
      "Batch 0\n",
      "train loss: 0.1384 [0/27652]\n",
      "Finished with batches...\n",
      "Finished with one full epoch...\n",
      "Finished all batches in validation...\n",
      "Finished with calculating metrics...\n",
      "Epoch 1378\n",
      "---------------\n",
      "Batch 0\n",
      "train loss: 0.1381 [0/27652]\n",
      "Finished with batches...\n",
      "Finished with one full epoch...\n",
      "Finished all batches in validation...\n",
      "Finished with calculating metrics...\n",
      "Epoch 1379\n",
      "---------------\n",
      "Batch 0\n",
      "train loss: 0.1386 [0/27652]\n",
      "Finished with batches...\n",
      "Finished with one full epoch...\n",
      "Finished all batches in validation...\n",
      "Finished with calculating metrics...\n",
      "Epoch 1380\n",
      "---------------\n",
      "Batch 0\n",
      "train loss: 0.1381 [0/27652]\n",
      "Finished with batches...\n",
      "Finished with one full epoch...\n",
      "Finished all batches in validation...\n",
      "Finished with calculating metrics...\n",
      "Epoch 1381\n",
      "---------------\n",
      "Batch 0\n",
      "train loss: 0.1387 [0/27652]\n",
      "Finished with batches...\n",
      "Finished with one full epoch...\n",
      "Finished all batches in validation...\n",
      "Finished with calculating metrics...\n",
      "Epoch 1382\n",
      "---------------\n",
      "Batch 0\n",
      "train loss: 0.1380 [0/27652]\n",
      "Finished with batches...\n",
      "Finished with one full epoch...\n",
      "Finished all batches in validation...\n",
      "Finished with calculating metrics...\n",
      "Epoch 1383\n",
      "---------------\n",
      "Batch 0\n",
      "train loss: 0.1384 [0/27652]\n",
      "Finished with batches...\n",
      "Finished with one full epoch...\n",
      "Finished all batches in validation...\n",
      "Finished with calculating metrics...\n",
      "Epoch 1384\n",
      "---------------\n",
      "Batch 0\n",
      "train loss: 0.1379 [0/27652]\n",
      "Finished with batches...\n",
      "Finished with one full epoch...\n",
      "Finished all batches in validation...\n",
      "Finished with calculating metrics...\n",
      "Epoch 1385\n",
      "---------------\n",
      "Batch 0\n",
      "train loss: 0.1390 [0/27652]\n",
      "Finished with batches...\n",
      "Finished with one full epoch...\n",
      "Finished all batches in validation...\n",
      "Finished with calculating metrics...\n",
      "Epoch 1386\n",
      "---------------\n",
      "Batch 0\n",
      "train loss: 0.1382 [0/27652]\n",
      "Finished with batches...\n",
      "Finished with one full epoch...\n",
      "Finished all batches in validation...\n",
      "Finished with calculating metrics...\n",
      "Epoch 1387\n",
      "---------------\n"
     ]
    },
    {
     "name": "stdout",
     "output_type": "stream",
     "text": [
      "Batch 0\n",
      "train loss: 0.1390 [0/27652]\n",
      "Finished with batches...\n",
      "Finished with one full epoch...\n",
      "Finished all batches in validation...\n",
      "Finished with calculating metrics...\n",
      "Epoch 1388\n",
      "---------------\n",
      "Batch 0\n",
      "train loss: 0.1393 [0/27652]\n",
      "Finished with batches...\n",
      "Finished with one full epoch...\n",
      "Finished all batches in validation...\n",
      "Finished with calculating metrics...\n",
      "Epoch 1389\n",
      "---------------\n",
      "Batch 0\n",
      "train loss: 0.1391 [0/27652]\n",
      "Finished with batches...\n",
      "Finished with one full epoch...\n",
      "Finished all batches in validation...\n",
      "Finished with calculating metrics...\n",
      "Epoch 1390\n",
      "---------------\n",
      "Batch 0\n",
      "train loss: 0.1381 [0/27652]\n",
      "Finished with batches...\n",
      "Finished with one full epoch...\n",
      "Finished all batches in validation...\n",
      "Finished with calculating metrics...\n",
      "Epoch 1391\n",
      "---------------\n",
      "Batch 0\n",
      "train loss: 0.1381 [0/27652]\n",
      "Finished with batches...\n",
      "Finished with one full epoch...\n",
      "Finished all batches in validation...\n",
      "Finished with calculating metrics...\n",
      "Epoch 1392\n",
      "---------------\n",
      "Batch 0\n",
      "train loss: 0.1389 [0/27652]\n",
      "Finished with batches...\n",
      "Finished with one full epoch...\n",
      "Finished all batches in validation...\n",
      "Finished with calculating metrics...\n",
      "Epoch 1393\n",
      "---------------\n",
      "Batch 0\n",
      "train loss: 0.1389 [0/27652]\n",
      "Finished with batches...\n",
      "Finished with one full epoch...\n",
      "Finished all batches in validation...\n",
      "Finished with calculating metrics...\n",
      "Epoch 1394\n",
      "---------------\n",
      "Batch 0\n",
      "train loss: 0.1385 [0/27652]\n",
      "Finished with batches...\n",
      "Finished with one full epoch...\n",
      "Finished all batches in validation...\n",
      "Finished with calculating metrics...\n",
      "Epoch 1395\n",
      "---------------\n",
      "Batch 0\n",
      "train loss: 0.1378 [0/27652]\n",
      "Finished with batches...\n",
      "Finished with one full epoch...\n",
      "Finished all batches in validation...\n",
      "Finished with calculating metrics...\n",
      "Epoch 1396\n",
      "---------------\n",
      "Batch 0\n",
      "train loss: 0.1390 [0/27652]\n",
      "Finished with batches...\n",
      "Finished with one full epoch...\n",
      "Finished all batches in validation...\n",
      "Finished with calculating metrics...\n",
      "Epoch 1397\n",
      "---------------\n",
      "Batch 0\n",
      "train loss: 0.1393 [0/27652]\n",
      "Finished with batches...\n",
      "Finished with one full epoch...\n",
      "Finished all batches in validation...\n",
      "Finished with calculating metrics...\n",
      "Epoch 1398\n",
      "---------------\n",
      "Batch 0\n",
      "train loss: 0.1375 [0/27652]\n",
      "Finished with batches...\n",
      "Finished with one full epoch...\n",
      "Finished all batches in validation...\n",
      "Finished with calculating metrics...\n",
      "Epoch 1399\n",
      "---------------\n",
      "Batch 0\n",
      "train loss: 0.1403 [0/27652]\n",
      "Finished with batches...\n",
      "Finished with one full epoch...\n",
      "Finished all batches in validation...\n",
      "Finished with calculating metrics...\n",
      "Epoch 1400\n",
      "---------------\n",
      "Batch 0\n",
      "train loss: 0.1398 [0/27652]\n",
      "Finished with batches...\n",
      "Finished with one full epoch...\n",
      "Finished all batches in validation...\n",
      "Finished with calculating metrics...\n",
      "Epoch 1401\n",
      "---------------\n",
      "Batch 0\n",
      "train loss: 0.1379 [0/27652]\n",
      "Finished with batches...\n",
      "Finished with one full epoch...\n",
      "Finished all batches in validation...\n",
      "Finished with calculating metrics...\n",
      "Epoch 1402\n",
      "---------------\n",
      "Batch 0\n",
      "train loss: 0.1392 [0/27652]\n",
      "Finished with batches...\n",
      "Finished with one full epoch...\n",
      "Finished all batches in validation...\n",
      "Finished with calculating metrics...\n",
      "Epoch 1403\n",
      "---------------\n",
      "Batch 0\n",
      "train loss: 0.1392 [0/27652]\n",
      "Finished with batches...\n",
      "Finished with one full epoch...\n",
      "Finished all batches in validation...\n",
      "Finished with calculating metrics...\n",
      "Epoch 1404\n",
      "---------------\n",
      "Batch 0\n",
      "train loss: 0.1382 [0/27652]\n",
      "Finished with batches...\n",
      "Finished with one full epoch...\n",
      "Finished all batches in validation...\n",
      "Finished with calculating metrics...\n",
      "Epoch 1405\n",
      "---------------\n",
      "Batch 0\n",
      "train loss: 0.1396 [0/27652]\n",
      "Finished with batches...\n",
      "Finished with one full epoch...\n",
      "Finished all batches in validation...\n",
      "Finished with calculating metrics...\n",
      "Epoch 1406\n",
      "---------------\n",
      "Batch 0\n",
      "train loss: 0.1390 [0/27652]\n",
      "Finished with batches...\n",
      "Finished with one full epoch...\n",
      "Finished all batches in validation...\n",
      "Finished with calculating metrics...\n",
      "Epoch 1407\n",
      "---------------\n",
      "Batch 0\n",
      "train loss: 0.1390 [0/27652]\n",
      "Finished with batches...\n",
      "Finished with one full epoch...\n",
      "Finished all batches in validation...\n",
      "Finished with calculating metrics...\n",
      "Epoch 1408\n",
      "---------------\n",
      "Batch 0\n",
      "train loss: 0.1384 [0/27652]\n",
      "Finished with batches...\n",
      "Finished with one full epoch...\n",
      "Finished all batches in validation...\n",
      "Finished with calculating metrics...\n",
      "Epoch 1409\n",
      "---------------\n",
      "Batch 0\n",
      "train loss: 0.1388 [0/27652]\n",
      "Finished with batches...\n",
      "Finished with one full epoch...\n",
      "Finished all batches in validation...\n",
      "Finished with calculating metrics...\n",
      "Epoch 1410\n",
      "---------------\n",
      "Batch 0\n",
      "train loss: 0.1387 [0/27652]\n",
      "Finished with batches...\n",
      "Finished with one full epoch...\n",
      "Finished all batches in validation...\n",
      "Finished with calculating metrics...\n",
      "Epoch 1411\n",
      "---------------\n",
      "Batch 0\n",
      "train loss: 0.1397 [0/27652]\n",
      "Finished with batches...\n",
      "Finished with one full epoch...\n",
      "Finished all batches in validation...\n",
      "Finished with calculating metrics...\n",
      "Epoch 1412\n",
      "---------------\n",
      "Batch 0\n",
      "train loss: 0.1382 [0/27652]\n",
      "Finished with batches...\n",
      "Finished with one full epoch...\n",
      "Finished all batches in validation...\n",
      "Finished with calculating metrics...\n",
      "Epoch 1413\n",
      "---------------\n",
      "Batch 0\n",
      "train loss: 0.1395 [0/27652]\n",
      "Finished with batches...\n",
      "Finished with one full epoch...\n",
      "Finished all batches in validation...\n",
      "Finished with calculating metrics...\n",
      "Epoch 1414\n",
      "---------------\n",
      "Batch 0\n",
      "train loss: 0.1377 [0/27652]\n",
      "Finished with batches...\n",
      "Finished with one full epoch...\n",
      "Finished all batches in validation...\n",
      "Finished with calculating metrics...\n",
      "Epoch 1415\n",
      "---------------\n",
      "Batch 0\n",
      "train loss: 0.1395 [0/27652]\n",
      "Finished with batches...\n",
      "Finished with one full epoch...\n",
      "Finished all batches in validation...\n",
      "Finished with calculating metrics...\n",
      "Epoch 1416\n",
      "---------------\n",
      "Batch 0\n",
      "train loss: 0.1388 [0/27652]\n",
      "Finished with batches...\n",
      "Finished with one full epoch...\n",
      "Finished all batches in validation...\n",
      "Finished with calculating metrics...\n",
      "Epoch 1417\n",
      "---------------\n",
      "Batch 0\n",
      "train loss: 0.1381 [0/27652]\n",
      "Finished with batches...\n",
      "Finished with one full epoch...\n",
      "Finished all batches in validation...\n",
      "Finished with calculating metrics...\n",
      "Epoch 1418\n",
      "---------------\n",
      "Batch 0\n",
      "train loss: 0.1385 [0/27652]\n",
      "Finished with batches...\n",
      "Finished with one full epoch...\n",
      "Finished all batches in validation...\n",
      "Finished with calculating metrics...\n",
      "Epoch 1419\n",
      "---------------\n",
      "Batch 0\n",
      "train loss: 0.1380 [0/27652]\n",
      "Finished with batches...\n",
      "Finished with one full epoch...\n",
      "Finished all batches in validation...\n",
      "Finished with calculating metrics...\n",
      "Epoch 1420\n",
      "---------------\n",
      "Batch 0\n",
      "train loss: 0.1390 [0/27652]\n",
      "Finished with batches...\n",
      "Finished with one full epoch...\n",
      "Finished all batches in validation...\n",
      "Finished with calculating metrics...\n",
      "Epoch 1421\n",
      "---------------\n",
      "Batch 0\n",
      "train loss: 0.1392 [0/27652]\n",
      "Finished with batches...\n",
      "Finished with one full epoch...\n",
      "Finished all batches in validation...\n",
      "Finished with calculating metrics...\n",
      "Epoch 1422\n",
      "---------------\n",
      "Batch 0\n",
      "train loss: 0.1403 [0/27652]\n",
      "Finished with batches...\n",
      "Finished with one full epoch...\n",
      "Finished all batches in validation...\n",
      "Finished with calculating metrics...\n",
      "Epoch 1423\n",
      "---------------\n",
      "Batch 0\n",
      "train loss: 0.1376 [0/27652]\n",
      "Finished with batches...\n",
      "Finished with one full epoch...\n",
      "Finished all batches in validation...\n",
      "Finished with calculating metrics...\n",
      "Epoch 1424\n",
      "---------------\n",
      "Batch 0\n",
      "train loss: 0.1389 [0/27652]\n",
      "Finished with batches...\n",
      "Finished with one full epoch...\n",
      "Finished all batches in validation...\n",
      "Finished with calculating metrics...\n",
      "Epoch 1425\n",
      "---------------\n",
      "Batch 0\n",
      "train loss: 0.1369 [0/27652]\n",
      "Finished with batches...\n",
      "Finished with one full epoch...\n",
      "Finished all batches in validation...\n",
      "Finished with calculating metrics...\n",
      "Epoch 1426\n",
      "---------------\n",
      "Batch 0\n",
      "train loss: 0.1383 [0/27652]\n",
      "Finished with batches...\n",
      "Finished with one full epoch...\n",
      "Finished all batches in validation...\n",
      "Finished with calculating metrics...\n",
      "Epoch 1427\n",
      "---------------\n",
      "Batch 0\n",
      "train loss: 0.1404 [0/27652]\n",
      "Finished with batches...\n",
      "Finished with one full epoch...\n",
      "Finished all batches in validation...\n",
      "Finished with calculating metrics...\n",
      "Epoch 1428\n",
      "---------------\n",
      "Batch 0\n",
      "train loss: 0.1388 [0/27652]\n",
      "Finished with batches...\n",
      "Finished with one full epoch...\n",
      "Finished all batches in validation...\n",
      "Finished with calculating metrics...\n",
      "Epoch 1429\n",
      "---------------\n"
     ]
    },
    {
     "name": "stdout",
     "output_type": "stream",
     "text": [
      "Batch 0\n",
      "train loss: 0.1398 [0/27652]\n",
      "Finished with batches...\n",
      "Finished with one full epoch...\n",
      "Finished all batches in validation...\n",
      "Finished with calculating metrics...\n",
      "Epoch 1430\n",
      "---------------\n",
      "Batch 0\n",
      "train loss: 0.1398 [0/27652]\n",
      "Finished with batches...\n",
      "Finished with one full epoch...\n",
      "Finished all batches in validation...\n",
      "Finished with calculating metrics...\n",
      "Epoch 1431\n",
      "---------------\n",
      "Batch 0\n",
      "train loss: 0.1396 [0/27652]\n",
      "Finished with batches...\n",
      "Finished with one full epoch...\n",
      "Finished all batches in validation...\n",
      "Finished with calculating metrics...\n",
      "Epoch 1432\n",
      "---------------\n",
      "Batch 0\n",
      "train loss: 0.1395 [0/27652]\n",
      "Finished with batches...\n",
      "Finished with one full epoch...\n",
      "Finished all batches in validation...\n",
      "Finished with calculating metrics...\n",
      "Epoch 1433\n",
      "---------------\n",
      "Batch 0\n",
      "train loss: 0.1392 [0/27652]\n",
      "Finished with batches...\n",
      "Finished with one full epoch...\n",
      "Finished all batches in validation...\n",
      "Finished with calculating metrics...\n",
      "Epoch 1434\n",
      "---------------\n",
      "Batch 0\n",
      "train loss: 0.1408 [0/27652]\n",
      "Finished with batches...\n",
      "Finished with one full epoch...\n",
      "Finished all batches in validation...\n",
      "Finished with calculating metrics...\n",
      "Epoch 1435\n",
      "---------------\n",
      "Batch 0\n",
      "train loss: 0.1396 [0/27652]\n",
      "Finished with batches...\n",
      "Finished with one full epoch...\n",
      "Finished all batches in validation...\n",
      "Finished with calculating metrics...\n",
      "Epoch 1436\n",
      "---------------\n",
      "Batch 0\n",
      "train loss: 0.1402 [0/27652]\n",
      "Finished with batches...\n",
      "Finished with one full epoch...\n",
      "Finished all batches in validation...\n",
      "Finished with calculating metrics...\n",
      "Epoch 1437\n",
      "---------------\n",
      "Batch 0\n",
      "train loss: 0.1397 [0/27652]\n",
      "Finished with batches...\n",
      "Finished with one full epoch...\n",
      "Finished all batches in validation...\n",
      "Finished with calculating metrics...\n",
      "Epoch 1438\n",
      "---------------\n",
      "Batch 0\n",
      "train loss: 0.1377 [0/27652]\n",
      "Finished with batches...\n",
      "Finished with one full epoch...\n",
      "Finished all batches in validation...\n",
      "Finished with calculating metrics...\n",
      "Epoch 1439\n",
      "---------------\n",
      "Batch 0\n",
      "train loss: 0.1392 [0/27652]\n",
      "Finished with batches...\n",
      "Finished with one full epoch...\n",
      "Finished all batches in validation...\n",
      "Finished with calculating metrics...\n",
      "Epoch 1440\n",
      "---------------\n",
      "Batch 0\n",
      "train loss: 0.1387 [0/27652]\n",
      "Finished with batches...\n",
      "Finished with one full epoch...\n",
      "Finished all batches in validation...\n",
      "Finished with calculating metrics...\n",
      "Epoch 1441\n",
      "---------------\n",
      "Batch 0\n",
      "train loss: 0.1393 [0/27652]\n",
      "Finished with batches...\n",
      "Finished with one full epoch...\n",
      "Finished all batches in validation...\n",
      "Finished with calculating metrics...\n",
      "Epoch 1442\n",
      "---------------\n",
      "Batch 0\n",
      "train loss: 0.1390 [0/27652]\n",
      "Finished with batches...\n",
      "Finished with one full epoch...\n",
      "Finished all batches in validation...\n",
      "Finished with calculating metrics...\n",
      "Epoch 1443\n",
      "---------------\n"
     ]
    },
    {
     "name": "stderr",
     "output_type": "stream",
     "text": [
      "/home/yang1641/.local/lib/python3.8/site-packages/sklearn/metrics/_ranking.py:980: UserWarning: No positive class found in y_true, recall is set to one for all thresholds.\n",
      "  warnings.warn(\n"
     ]
    },
    {
     "name": "stdout",
     "output_type": "stream",
     "text": [
      "Batch 0\n",
      "train loss: 0.1387 [0/27652]\n",
      "Finished with batches...\n",
      "Finished with one full epoch...\n",
      "Finished all batches in validation...\n",
      "Finished with calculating metrics...\n",
      "Epoch 1444\n",
      "---------------\n"
     ]
    },
    {
     "name": "stderr",
     "output_type": "stream",
     "text": [
      "/home/yang1641/.local/lib/python3.8/site-packages/sklearn/metrics/_ranking.py:980: UserWarning: No positive class found in y_true, recall is set to one for all thresholds.\n",
      "  warnings.warn(\n"
     ]
    },
    {
     "name": "stdout",
     "output_type": "stream",
     "text": [
      "Batch 0\n",
      "train loss: 0.1393 [0/27652]\n",
      "Finished with batches...\n",
      "Finished with one full epoch...\n",
      "Finished all batches in validation...\n",
      "Finished with calculating metrics...\n",
      "Epoch 1445\n",
      "---------------\n",
      "Batch 0\n",
      "train loss: 0.1404 [0/27652]\n",
      "Finished with batches...\n",
      "Finished with one full epoch...\n",
      "Finished all batches in validation...\n",
      "Finished with calculating metrics...\n",
      "Epoch 1446\n",
      "---------------\n"
     ]
    },
    {
     "name": "stderr",
     "output_type": "stream",
     "text": [
      "/home/yang1641/.local/lib/python3.8/site-packages/sklearn/metrics/_ranking.py:980: UserWarning: No positive class found in y_true, recall is set to one for all thresholds.\n",
      "  warnings.warn(\n"
     ]
    },
    {
     "name": "stdout",
     "output_type": "stream",
     "text": [
      "Batch 0\n",
      "train loss: 0.1386 [0/27652]\n",
      "Finished with batches...\n",
      "Finished with one full epoch...\n",
      "Finished all batches in validation...\n",
      "Finished with calculating metrics...\n",
      "Epoch 1447\n",
      "---------------\n",
      "Batch 0\n",
      "train loss: 0.1381 [0/27652]\n",
      "Finished with batches...\n",
      "Finished with one full epoch...\n",
      "Finished all batches in validation...\n",
      "Finished with calculating metrics...\n",
      "Epoch 1448\n",
      "---------------\n",
      "Batch 0\n",
      "train loss: 0.1403 [0/27652]\n",
      "Finished with batches...\n",
      "Finished with one full epoch...\n",
      "Finished all batches in validation...\n",
      "Finished with calculating metrics...\n",
      "Epoch 1449\n",
      "---------------\n",
      "Batch 0\n",
      "train loss: 0.1394 [0/27652]\n",
      "Finished with batches...\n",
      "Finished with one full epoch...\n",
      "Finished all batches in validation...\n",
      "Finished with calculating metrics...\n",
      "Epoch 1450\n",
      "---------------\n",
      "Batch 0\n",
      "train loss: 0.1382 [0/27652]\n",
      "Finished with batches...\n",
      "Finished with one full epoch...\n",
      "Finished all batches in validation...\n",
      "Finished with calculating metrics...\n",
      "Epoch 1451\n",
      "---------------\n"
     ]
    },
    {
     "name": "stderr",
     "output_type": "stream",
     "text": [
      "/home/yang1641/.local/lib/python3.8/site-packages/sklearn/metrics/_ranking.py:980: UserWarning: No positive class found in y_true, recall is set to one for all thresholds.\n",
      "  warnings.warn(\n"
     ]
    },
    {
     "name": "stdout",
     "output_type": "stream",
     "text": [
      "Batch 0\n",
      "train loss: 0.1391 [0/27652]\n",
      "Finished with batches...\n",
      "Finished with one full epoch...\n",
      "Finished all batches in validation...\n",
      "Finished with calculating metrics...\n",
      "Epoch 1452\n",
      "---------------\n"
     ]
    },
    {
     "name": "stderr",
     "output_type": "stream",
     "text": [
      "/home/yang1641/.local/lib/python3.8/site-packages/sklearn/metrics/_ranking.py:980: UserWarning: No positive class found in y_true, recall is set to one for all thresholds.\n",
      "  warnings.warn(\n"
     ]
    },
    {
     "name": "stdout",
     "output_type": "stream",
     "text": [
      "Batch 0\n",
      "train loss: 0.1385 [0/27652]\n",
      "Finished with batches...\n",
      "Finished with one full epoch...\n",
      "Finished all batches in validation...\n",
      "Finished with calculating metrics...\n",
      "Epoch 1453\n",
      "---------------\n"
     ]
    },
    {
     "name": "stderr",
     "output_type": "stream",
     "text": [
      "/home/yang1641/.local/lib/python3.8/site-packages/sklearn/metrics/_ranking.py:980: UserWarning: No positive class found in y_true, recall is set to one for all thresholds.\n",
      "  warnings.warn(\n"
     ]
    },
    {
     "name": "stdout",
     "output_type": "stream",
     "text": [
      "Batch 0\n",
      "train loss: 0.1397 [0/27652]\n",
      "Finished with batches...\n",
      "Finished with one full epoch...\n",
      "Finished all batches in validation...\n",
      "Finished with calculating metrics...\n",
      "Epoch 1454\n",
      "---------------\n"
     ]
    },
    {
     "name": "stderr",
     "output_type": "stream",
     "text": [
      "/home/yang1641/.local/lib/python3.8/site-packages/sklearn/metrics/_ranking.py:980: UserWarning: No positive class found in y_true, recall is set to one for all thresholds.\n",
      "  warnings.warn(\n"
     ]
    },
    {
     "name": "stdout",
     "output_type": "stream",
     "text": [
      "Batch 0\n",
      "train loss: 0.1392 [0/27652]\n",
      "Finished with batches...\n",
      "Finished with one full epoch...\n",
      "Finished all batches in validation...\n",
      "Finished with calculating metrics...\n",
      "Epoch 1455\n",
      "---------------\n"
     ]
    },
    {
     "name": "stderr",
     "output_type": "stream",
     "text": [
      "/home/yang1641/.local/lib/python3.8/site-packages/sklearn/metrics/_ranking.py:980: UserWarning: No positive class found in y_true, recall is set to one for all thresholds.\n",
      "  warnings.warn(\n"
     ]
    },
    {
     "name": "stdout",
     "output_type": "stream",
     "text": [
      "Batch 0\n",
      "train loss: 0.1400 [0/27652]\n",
      "Finished with batches...\n",
      "Finished with one full epoch...\n",
      "Finished all batches in validation...\n",
      "Finished with calculating metrics...\n",
      "Epoch 1456\n",
      "---------------\n"
     ]
    },
    {
     "name": "stderr",
     "output_type": "stream",
     "text": [
      "/home/yang1641/.local/lib/python3.8/site-packages/sklearn/metrics/_ranking.py:980: UserWarning: No positive class found in y_true, recall is set to one for all thresholds.\n",
      "  warnings.warn(\n"
     ]
    },
    {
     "name": "stdout",
     "output_type": "stream",
     "text": [
      "Batch 0\n",
      "train loss: 0.1385 [0/27652]\n",
      "Finished with batches...\n",
      "Finished with one full epoch...\n",
      "Finished all batches in validation...\n",
      "Finished with calculating metrics...\n",
      "Epoch 1457\n",
      "---------------\n"
     ]
    },
    {
     "name": "stderr",
     "output_type": "stream",
     "text": [
      "/home/yang1641/.local/lib/python3.8/site-packages/sklearn/metrics/_ranking.py:980: UserWarning: No positive class found in y_true, recall is set to one for all thresholds.\n",
      "  warnings.warn(\n"
     ]
    },
    {
     "name": "stdout",
     "output_type": "stream",
     "text": [
      "Batch 0\n",
      "train loss: 0.1384 [0/27652]\n",
      "Finished with batches...\n",
      "Finished with one full epoch...\n",
      "Finished all batches in validation...\n",
      "Finished with calculating metrics...\n",
      "Epoch 1458\n",
      "---------------\n"
     ]
    },
    {
     "name": "stderr",
     "output_type": "stream",
     "text": [
      "/home/yang1641/.local/lib/python3.8/site-packages/sklearn/metrics/_ranking.py:980: UserWarning: No positive class found in y_true, recall is set to one for all thresholds.\n",
      "  warnings.warn(\n"
     ]
    },
    {
     "name": "stdout",
     "output_type": "stream",
     "text": [
      "Batch 0\n",
      "train loss: 0.1389 [0/27652]\n",
      "Finished with batches...\n",
      "Finished with one full epoch...\n",
      "Finished all batches in validation...\n",
      "Finished with calculating metrics...\n",
      "Epoch 1459\n",
      "---------------\n"
     ]
    },
    {
     "name": "stderr",
     "output_type": "stream",
     "text": [
      "/home/yang1641/.local/lib/python3.8/site-packages/sklearn/metrics/_ranking.py:980: UserWarning: No positive class found in y_true, recall is set to one for all thresholds.\n",
      "  warnings.warn(\n"
     ]
    },
    {
     "name": "stdout",
     "output_type": "stream",
     "text": [
      "Batch 0\n",
      "train loss: 0.1386 [0/27652]\n",
      "Finished with batches...\n",
      "Finished with one full epoch...\n",
      "Finished all batches in validation...\n",
      "Finished with calculating metrics...\n",
      "Epoch 1460\n",
      "---------------\n"
     ]
    },
    {
     "name": "stderr",
     "output_type": "stream",
     "text": [
      "/home/yang1641/.local/lib/python3.8/site-packages/sklearn/metrics/_ranking.py:980: UserWarning: No positive class found in y_true, recall is set to one for all thresholds.\n",
      "  warnings.warn(\n"
     ]
    },
    {
     "name": "stdout",
     "output_type": "stream",
     "text": [
      "Batch 0\n",
      "train loss: 0.1384 [0/27652]\n",
      "Finished with batches...\n",
      "Finished with one full epoch...\n",
      "Finished all batches in validation...\n",
      "Finished with calculating metrics...\n",
      "Epoch 1461\n",
      "---------------\n",
      "Batch 0\n",
      "train loss: 0.1386 [0/27652]\n",
      "Finished with batches...\n",
      "Finished with one full epoch...\n",
      "Finished all batches in validation...\n",
      "Finished with calculating metrics...\n",
      "Epoch 1462\n",
      "---------------\n",
      "Batch 0\n",
      "train loss: 0.1387 [0/27652]\n",
      "Finished with batches...\n",
      "Finished with one full epoch...\n",
      "Finished all batches in validation...\n",
      "Finished with calculating metrics...\n",
      "Epoch 1463\n",
      "---------------\n",
      "Batch 0\n",
      "train loss: 0.1394 [0/27652]\n",
      "Finished with batches...\n",
      "Finished with one full epoch...\n",
      "Finished all batches in validation...\n",
      "Finished with calculating metrics...\n",
      "Epoch 1464\n",
      "---------------\n",
      "Batch 0\n",
      "train loss: 0.1388 [0/27652]\n",
      "Finished with batches...\n",
      "Finished with one full epoch...\n",
      "Finished all batches in validation...\n",
      "Finished with calculating metrics...\n",
      "Epoch 1465\n",
      "---------------\n"
     ]
    },
    {
     "name": "stderr",
     "output_type": "stream",
     "text": [
      "/home/yang1641/.local/lib/python3.8/site-packages/sklearn/metrics/_ranking.py:980: UserWarning: No positive class found in y_true, recall is set to one for all thresholds.\n",
      "  warnings.warn(\n"
     ]
    },
    {
     "name": "stdout",
     "output_type": "stream",
     "text": [
      "Batch 0\n",
      "train loss: 0.1382 [0/27652]\n",
      "Finished with batches...\n",
      "Finished with one full epoch...\n",
      "Finished all batches in validation...\n",
      "Finished with calculating metrics...\n",
      "Epoch 1466\n",
      "---------------\n"
     ]
    },
    {
     "name": "stderr",
     "output_type": "stream",
     "text": [
      "/home/yang1641/.local/lib/python3.8/site-packages/sklearn/metrics/_ranking.py:980: UserWarning: No positive class found in y_true, recall is set to one for all thresholds.\n",
      "  warnings.warn(\n"
     ]
    },
    {
     "name": "stdout",
     "output_type": "stream",
     "text": [
      "Batch 0\n",
      "train loss: 0.1390 [0/27652]\n",
      "Finished with batches...\n",
      "Finished with one full epoch...\n",
      "Finished all batches in validation...\n",
      "Finished with calculating metrics...\n",
      "Epoch 1467\n",
      "---------------\n"
     ]
    },
    {
     "name": "stderr",
     "output_type": "stream",
     "text": [
      "/home/yang1641/.local/lib/python3.8/site-packages/sklearn/metrics/_ranking.py:980: UserWarning: No positive class found in y_true, recall is set to one for all thresholds.\n",
      "  warnings.warn(\n"
     ]
    },
    {
     "name": "stdout",
     "output_type": "stream",
     "text": [
      "Batch 0\n",
      "train loss: 0.1389 [0/27652]\n",
      "Finished with batches...\n",
      "Finished with one full epoch...\n",
      "Finished all batches in validation...\n",
      "Finished with calculating metrics...\n",
      "Epoch 1468\n",
      "---------------\n"
     ]
    },
    {
     "name": "stderr",
     "output_type": "stream",
     "text": [
      "/home/yang1641/.local/lib/python3.8/site-packages/sklearn/metrics/_ranking.py:980: UserWarning: No positive class found in y_true, recall is set to one for all thresholds.\n",
      "  warnings.warn(\n"
     ]
    },
    {
     "name": "stdout",
     "output_type": "stream",
     "text": [
      "Batch 0\n",
      "train loss: 0.1384 [0/27652]\n",
      "Finished with batches...\n",
      "Finished with one full epoch...\n",
      "Finished all batches in validation...\n",
      "Finished with calculating metrics...\n",
      "Epoch 1469\n",
      "---------------\n"
     ]
    },
    {
     "name": "stderr",
     "output_type": "stream",
     "text": [
      "/home/yang1641/.local/lib/python3.8/site-packages/sklearn/metrics/_ranking.py:980: UserWarning: No positive class found in y_true, recall is set to one for all thresholds.\n",
      "  warnings.warn(\n"
     ]
    },
    {
     "name": "stdout",
     "output_type": "stream",
     "text": [
      "Batch 0\n",
      "train loss: 0.1383 [0/27652]\n",
      "Finished with batches...\n",
      "Finished with one full epoch...\n",
      "Finished all batches in validation...\n",
      "Finished with calculating metrics...\n",
      "Epoch 1470\n",
      "---------------\n",
      "Batch 0\n",
      "train loss: 0.1381 [0/27652]\n",
      "Finished with batches...\n",
      "Finished with one full epoch...\n",
      "Finished all batches in validation...\n",
      "Finished with calculating metrics...\n",
      "Epoch 1471\n",
      "---------------\n",
      "Batch 0\n",
      "train loss: 0.1394 [0/27652]\n",
      "Finished with batches...\n",
      "Finished with one full epoch...\n",
      "Finished all batches in validation...\n",
      "Finished with calculating metrics...\n",
      "Epoch 1472\n",
      "---------------\n",
      "Batch 0\n",
      "train loss: 0.1382 [0/27652]\n",
      "Finished with batches...\n",
      "Finished with one full epoch...\n",
      "Finished all batches in validation...\n",
      "Finished with calculating metrics...\n",
      "Epoch 1473\n",
      "---------------\n",
      "Batch 0\n",
      "train loss: 0.1386 [0/27652]\n",
      "Finished with batches...\n",
      "Finished with one full epoch...\n",
      "Finished all batches in validation...\n",
      "Finished with calculating metrics...\n",
      "Epoch 1474\n",
      "---------------\n",
      "Batch 0\n",
      "train loss: 0.1385 [0/27652]\n",
      "Finished with batches...\n",
      "Finished with one full epoch...\n",
      "Finished all batches in validation...\n",
      "Finished with calculating metrics...\n",
      "Epoch 1475\n",
      "---------------\n",
      "Batch 0\n",
      "train loss: 0.1372 [0/27652]\n",
      "Finished with batches...\n",
      "Finished with one full epoch...\n",
      "Finished all batches in validation...\n",
      "Finished with calculating metrics...\n",
      "Epoch 1476\n",
      "---------------\n",
      "Batch 0\n",
      "train loss: 0.1370 [0/27652]\n",
      "Finished with batches...\n",
      "Finished with one full epoch...\n",
      "Finished all batches in validation...\n",
      "Finished with calculating metrics...\n",
      "Epoch 1477\n",
      "---------------\n",
      "Batch 0\n",
      "train loss: 0.1380 [0/27652]\n",
      "Finished with batches...\n",
      "Finished with one full epoch...\n",
      "Finished all batches in validation...\n",
      "Finished with calculating metrics...\n",
      "Epoch 1478\n",
      "---------------\n",
      "Batch 0\n",
      "train loss: 0.1384 [0/27652]\n",
      "Finished with batches...\n",
      "Finished with one full epoch...\n",
      "Finished all batches in validation...\n",
      "Finished with calculating metrics...\n",
      "Epoch 1479\n",
      "---------------\n",
      "Batch 0\n",
      "train loss: 0.1377 [0/27652]\n",
      "Finished with batches...\n",
      "Finished with one full epoch...\n",
      "Finished all batches in validation...\n",
      "Finished with calculating metrics...\n",
      "Epoch 1480\n",
      "---------------\n",
      "Batch 0\n",
      "train loss: 0.1379 [0/27652]\n",
      "Finished with batches...\n",
      "Finished with one full epoch...\n",
      "Finished all batches in validation...\n",
      "Finished with calculating metrics...\n",
      "Epoch 1481\n",
      "---------------\n",
      "Batch 0\n",
      "train loss: 0.1384 [0/27652]\n",
      "Finished with batches...\n",
      "Finished with one full epoch...\n",
      "Finished all batches in validation...\n",
      "Finished with calculating metrics...\n",
      "Epoch 1482\n",
      "---------------\n",
      "Batch 0\n",
      "train loss: 0.1387 [0/27652]\n",
      "Finished with batches...\n",
      "Finished with one full epoch...\n",
      "Finished all batches in validation...\n",
      "Finished with calculating metrics...\n",
      "Epoch 1483\n",
      "---------------\n",
      "Batch 0\n",
      "train loss: 0.1391 [0/27652]\n",
      "Finished with batches...\n",
      "Finished with one full epoch...\n",
      "Finished all batches in validation...\n",
      "Finished with calculating metrics...\n",
      "Epoch 1484\n",
      "---------------\n",
      "Batch 0\n",
      "train loss: 0.1385 [0/27652]\n",
      "Finished with batches...\n",
      "Finished with one full epoch...\n",
      "Finished all batches in validation...\n",
      "Finished with calculating metrics...\n",
      "Epoch 1485\n",
      "---------------\n",
      "Batch 0\n",
      "train loss: 0.1386 [0/27652]\n",
      "Finished with batches...\n",
      "Finished with one full epoch...\n",
      "Finished all batches in validation...\n",
      "Finished with calculating metrics...\n",
      "Epoch 1486\n",
      "---------------\n",
      "Batch 0\n",
      "train loss: 0.1387 [0/27652]\n",
      "Finished with batches...\n",
      "Finished with one full epoch...\n",
      "Finished all batches in validation...\n",
      "Finished with calculating metrics...\n",
      "Epoch 1487\n",
      "---------------\n",
      "Batch 0\n",
      "train loss: 0.1388 [0/27652]\n",
      "Finished with batches...\n",
      "Finished with one full epoch...\n",
      "Finished all batches in validation...\n",
      "Finished with calculating metrics...\n",
      "Epoch 1488\n",
      "---------------\n",
      "Batch 0\n",
      "train loss: 0.1387 [0/27652]\n",
      "Finished with batches...\n",
      "Finished with one full epoch...\n",
      "Finished all batches in validation...\n",
      "Finished with calculating metrics...\n",
      "Epoch 1489\n",
      "---------------\n",
      "Batch 0\n",
      "train loss: 0.1374 [0/27652]\n",
      "Finished with batches...\n",
      "Finished with one full epoch...\n",
      "Finished all batches in validation...\n",
      "Finished with calculating metrics...\n",
      "Epoch 1490\n",
      "---------------\n",
      "Batch 0\n",
      "train loss: 0.1375 [0/27652]\n",
      "Finished with batches...\n",
      "Finished with one full epoch...\n",
      "Finished all batches in validation...\n",
      "Finished with calculating metrics...\n",
      "Epoch 1491\n",
      "---------------\n",
      "Batch 0\n",
      "train loss: 0.1397 [0/27652]\n",
      "Finished with batches...\n",
      "Finished with one full epoch...\n",
      "Finished all batches in validation...\n",
      "Finished with calculating metrics...\n",
      "Epoch 1492\n",
      "---------------\n",
      "Batch 0\n",
      "train loss: 0.1397 [0/27652]\n",
      "Finished with batches...\n",
      "Finished with one full epoch...\n",
      "Finished all batches in validation...\n",
      "Finished with calculating metrics...\n",
      "Epoch 1493\n",
      "---------------\n",
      "Batch 0\n",
      "train loss: 0.1380 [0/27652]\n",
      "Finished with batches...\n",
      "Finished with one full epoch...\n",
      "Finished all batches in validation...\n",
      "Finished with calculating metrics...\n",
      "Epoch 1494\n",
      "---------------\n",
      "Batch 0\n",
      "train loss: 0.1390 [0/27652]\n",
      "Finished with batches...\n",
      "Finished with one full epoch...\n",
      "Finished all batches in validation...\n",
      "Finished with calculating metrics...\n",
      "Epoch 1495\n",
      "---------------\n",
      "Batch 0\n",
      "train loss: 0.1390 [0/27652]\n",
      "Finished with batches...\n",
      "Finished with one full epoch...\n",
      "Finished all batches in validation...\n",
      "Finished with calculating metrics...\n",
      "Epoch 1496\n",
      "---------------\n",
      "Batch 0\n",
      "train loss: 0.1381 [0/27652]\n",
      "Finished with batches...\n",
      "Finished with one full epoch...\n",
      "Finished all batches in validation...\n",
      "Finished with calculating metrics...\n",
      "Epoch 1497\n",
      "---------------\n",
      "Batch 0\n",
      "train loss: 0.1386 [0/27652]\n",
      "Finished with batches...\n",
      "Finished with one full epoch...\n",
      "Finished all batches in validation...\n",
      "Finished with calculating metrics...\n",
      "Epoch 1498\n",
      "---------------\n",
      "Batch 0\n",
      "train loss: 0.1384 [0/27652]\n",
      "Finished with batches...\n",
      "Finished with one full epoch...\n",
      "Finished all batches in validation...\n",
      "Finished with calculating metrics...\n",
      "Epoch 1499\n",
      "---------------\n",
      "Batch 0\n",
      "train loss: 0.1380 [0/27652]\n",
      "Finished with batches...\n",
      "Finished with one full epoch...\n",
      "Finished all batches in validation...\n",
      "Finished with calculating metrics...\n",
      "Epoch 1500\n",
      "---------------\n",
      "Batch 0\n",
      "train loss: 0.1382 [0/27652]\n",
      "Finished with batches...\n",
      "Finished with one full epoch...\n",
      "Finished all batches in validation...\n",
      "Finished with calculating metrics...\n",
      "Epoch 1501\n",
      "---------------\n",
      "Batch 0\n",
      "train loss: 0.1379 [0/27652]\n",
      "Finished with batches...\n",
      "Finished with one full epoch...\n",
      "Finished all batches in validation...\n",
      "Finished with calculating metrics...\n",
      "Epoch 1502\n",
      "---------------\n",
      "Batch 0\n",
      "train loss: 0.1378 [0/27652]\n",
      "Finished with batches...\n",
      "Finished with one full epoch...\n",
      "Finished all batches in validation...\n",
      "Finished with calculating metrics...\n",
      "Epoch 1503\n",
      "---------------\n",
      "Batch 0\n",
      "train loss: 0.1370 [0/27652]\n",
      "Finished with batches...\n",
      "Finished with one full epoch...\n",
      "Finished all batches in validation...\n",
      "Finished with calculating metrics...\n",
      "Epoch 1504\n",
      "---------------\n",
      "Batch 0\n",
      "train loss: 0.1376 [0/27652]\n",
      "Finished with batches...\n",
      "Finished with one full epoch...\n",
      "Finished all batches in validation...\n",
      "Finished with calculating metrics...\n",
      "Epoch 1505\n",
      "---------------\n",
      "Batch 0\n",
      "train loss: 0.1376 [0/27652]\n",
      "Finished with batches...\n",
      "Finished with one full epoch...\n",
      "Finished all batches in validation...\n",
      "Finished with calculating metrics...\n",
      "Epoch 1506\n",
      "---------------\n",
      "Batch 0\n",
      "train loss: 0.1378 [0/27652]\n",
      "Finished with batches...\n",
      "Finished with one full epoch...\n",
      "Finished all batches in validation...\n",
      "Finished with calculating metrics...\n",
      "Epoch 1507\n",
      "---------------\n",
      "Batch 0\n",
      "train loss: 0.1376 [0/27652]\n",
      "Finished with batches...\n",
      "Finished with one full epoch...\n",
      "Finished all batches in validation...\n",
      "Finished with calculating metrics...\n",
      "Epoch 1508\n",
      "---------------\n",
      "Batch 0\n",
      "train loss: 0.1387 [0/27652]\n",
      "Finished with batches...\n",
      "Finished with one full epoch...\n",
      "Finished all batches in validation...\n",
      "Finished with calculating metrics...\n",
      "Epoch 1509\n",
      "---------------\n",
      "Batch 0\n",
      "train loss: 0.1385 [0/27652]\n",
      "Finished with batches...\n",
      "Finished with one full epoch...\n",
      "Finished all batches in validation...\n",
      "Finished with calculating metrics...\n",
      "Epoch 1510\n",
      "---------------\n",
      "Batch 0\n",
      "train loss: 0.1376 [0/27652]\n",
      "Finished with batches...\n",
      "Finished with one full epoch...\n",
      "Finished all batches in validation...\n",
      "Finished with calculating metrics...\n",
      "Epoch 1511\n",
      "---------------\n"
     ]
    },
    {
     "name": "stdout",
     "output_type": "stream",
     "text": [
      "Batch 0\n",
      "train loss: 0.1374 [0/27652]\n",
      "Finished with batches...\n",
      "Finished with one full epoch...\n",
      "Finished all batches in validation...\n",
      "Finished with calculating metrics...\n",
      "Epoch 1512\n",
      "---------------\n",
      "Batch 0\n",
      "train loss: 0.1374 [0/27652]\n",
      "Finished with batches...\n",
      "Finished with one full epoch...\n",
      "Finished all batches in validation...\n",
      "Finished with calculating metrics...\n",
      "Epoch 1513\n",
      "---------------\n",
      "Batch 0\n",
      "train loss: 0.1369 [0/27652]\n",
      "Finished with batches...\n",
      "Finished with one full epoch...\n",
      "Finished all batches in validation...\n",
      "Finished with calculating metrics...\n",
      "Epoch 1514\n",
      "---------------\n",
      "Batch 0\n",
      "train loss: 0.1373 [0/27652]\n",
      "Finished with batches...\n",
      "Finished with one full epoch...\n",
      "Finished all batches in validation...\n",
      "Finished with calculating metrics...\n",
      "Epoch 1515\n",
      "---------------\n",
      "Batch 0\n",
      "train loss: 0.1377 [0/27652]\n",
      "Finished with batches...\n",
      "Finished with one full epoch...\n",
      "Finished all batches in validation...\n",
      "Finished with calculating metrics...\n",
      "Epoch 1516\n",
      "---------------\n",
      "Batch 0\n",
      "train loss: 0.1372 [0/27652]\n",
      "Finished with batches...\n",
      "Finished with one full epoch...\n",
      "Finished all batches in validation...\n",
      "Finished with calculating metrics...\n",
      "Epoch 1517\n",
      "---------------\n",
      "Batch 0\n",
      "train loss: 0.1378 [0/27652]\n",
      "Finished with batches...\n",
      "Finished with one full epoch...\n",
      "Finished all batches in validation...\n",
      "Finished with calculating metrics...\n",
      "Epoch 1518\n",
      "---------------\n",
      "Batch 0\n",
      "train loss: 0.1358 [0/27652]\n",
      "Finished with batches...\n",
      "Finished with one full epoch...\n",
      "Finished all batches in validation...\n",
      "Finished with calculating metrics...\n",
      "Epoch 1519\n",
      "---------------\n",
      "Batch 0\n",
      "train loss: 0.1388 [0/27652]\n",
      "Finished with batches...\n",
      "Finished with one full epoch...\n",
      "Finished all batches in validation...\n",
      "Finished with calculating metrics...\n",
      "Epoch 1520\n",
      "---------------\n",
      "Batch 0\n",
      "train loss: 0.1384 [0/27652]\n",
      "Finished with batches...\n",
      "Finished with one full epoch...\n",
      "Finished all batches in validation...\n",
      "Finished with calculating metrics...\n",
      "Epoch 1521\n",
      "---------------\n",
      "Batch 0\n",
      "train loss: 0.1384 [0/27652]\n",
      "Finished with batches...\n",
      "Finished with one full epoch...\n",
      "Finished all batches in validation...\n",
      "Finished with calculating metrics...\n",
      "Epoch 1522\n",
      "---------------\n",
      "Batch 0\n",
      "train loss: 0.1386 [0/27652]\n",
      "Finished with batches...\n",
      "Finished with one full epoch...\n",
      "Finished all batches in validation...\n",
      "Finished with calculating metrics...\n",
      "Epoch 1523\n",
      "---------------\n",
      "Batch 0\n",
      "train loss: 0.1389 [0/27652]\n",
      "Finished with batches...\n",
      "Finished with one full epoch...\n",
      "Finished all batches in validation...\n",
      "Finished with calculating metrics...\n",
      "Epoch 1524\n",
      "---------------\n",
      "Batch 0\n",
      "train loss: 0.1377 [0/27652]\n",
      "Finished with batches...\n",
      "Finished with one full epoch...\n",
      "Finished all batches in validation...\n",
      "Finished with calculating metrics...\n",
      "Epoch 1525\n",
      "---------------\n",
      "Batch 0\n",
      "train loss: 0.1385 [0/27652]\n",
      "Finished with batches...\n",
      "Finished with one full epoch...\n",
      "Finished all batches in validation...\n",
      "Finished with calculating metrics...\n",
      "Epoch 1526\n",
      "---------------\n",
      "Batch 0\n",
      "train loss: 0.1387 [0/27652]\n",
      "Finished with batches...\n",
      "Finished with one full epoch...\n",
      "Finished all batches in validation...\n",
      "Finished with calculating metrics...\n",
      "Epoch 1527\n",
      "---------------\n",
      "Batch 0\n",
      "train loss: 0.1383 [0/27652]\n",
      "Finished with batches...\n",
      "Finished with one full epoch...\n",
      "Finished all batches in validation...\n",
      "Finished with calculating metrics...\n",
      "Epoch 1528\n",
      "---------------\n",
      "Batch 0\n",
      "train loss: 0.1384 [0/27652]\n",
      "Finished with batches...\n",
      "Finished with one full epoch...\n",
      "Finished all batches in validation...\n",
      "Finished with calculating metrics...\n",
      "Epoch 1529\n",
      "---------------\n",
      "Batch 0\n",
      "train loss: 0.1369 [0/27652]\n",
      "Finished with batches...\n",
      "Finished with one full epoch...\n",
      "Finished all batches in validation...\n",
      "Finished with calculating metrics...\n",
      "Epoch 1530\n",
      "---------------\n",
      "Batch 0\n",
      "train loss: 0.1381 [0/27652]\n",
      "Finished with batches...\n",
      "Finished with one full epoch...\n",
      "Finished all batches in validation...\n",
      "Finished with calculating metrics...\n",
      "Epoch 1531\n",
      "---------------\n",
      "Batch 0\n",
      "train loss: 0.1377 [0/27652]\n",
      "Finished with batches...\n",
      "Finished with one full epoch...\n",
      "Finished all batches in validation...\n",
      "Finished with calculating metrics...\n",
      "Epoch 1532\n",
      "---------------\n",
      "Batch 0\n",
      "train loss: 0.1384 [0/27652]\n",
      "Finished with batches...\n",
      "Finished with one full epoch...\n",
      "Finished all batches in validation...\n",
      "Finished with calculating metrics...\n",
      "Epoch 1533\n",
      "---------------\n",
      "Batch 0\n",
      "train loss: 0.1384 [0/27652]\n",
      "Finished with batches...\n",
      "Finished with one full epoch...\n",
      "Finished all batches in validation...\n",
      "Finished with calculating metrics...\n",
      "Epoch 1534\n",
      "---------------\n",
      "Batch 0\n",
      "train loss: 0.1386 [0/27652]\n",
      "Finished with batches...\n",
      "Finished with one full epoch...\n",
      "Finished all batches in validation...\n",
      "Finished with calculating metrics...\n",
      "Epoch 1535\n",
      "---------------\n",
      "Batch 0\n",
      "train loss: 0.1391 [0/27652]\n",
      "Finished with batches...\n",
      "Finished with one full epoch...\n",
      "Finished all batches in validation...\n",
      "Finished with calculating metrics...\n",
      "Epoch 1536\n",
      "---------------\n"
     ]
    },
    {
     "name": "stderr",
     "output_type": "stream",
     "text": [
      "/home/yang1641/.local/lib/python3.8/site-packages/sklearn/metrics/_ranking.py:980: UserWarning: No positive class found in y_true, recall is set to one for all thresholds.\n",
      "  warnings.warn(\n"
     ]
    },
    {
     "name": "stdout",
     "output_type": "stream",
     "text": [
      "Batch 0\n",
      "train loss: 0.1381 [0/27652]\n",
      "Finished with batches...\n",
      "Finished with one full epoch...\n",
      "Finished all batches in validation...\n",
      "Finished with calculating metrics...\n",
      "Epoch 1537\n",
      "---------------\n"
     ]
    },
    {
     "name": "stderr",
     "output_type": "stream",
     "text": [
      "/home/yang1641/.local/lib/python3.8/site-packages/sklearn/metrics/_ranking.py:980: UserWarning: No positive class found in y_true, recall is set to one for all thresholds.\n",
      "  warnings.warn(\n"
     ]
    },
    {
     "name": "stdout",
     "output_type": "stream",
     "text": [
      "Batch 0\n",
      "train loss: 0.1398 [0/27652]\n",
      "Finished with batches...\n",
      "Finished with one full epoch...\n",
      "Finished all batches in validation...\n",
      "Finished with calculating metrics...\n",
      "Epoch 1538\n",
      "---------------\n",
      "Batch 0\n",
      "train loss: 0.1388 [0/27652]\n",
      "Finished with batches...\n",
      "Finished with one full epoch...\n",
      "Finished all batches in validation...\n",
      "Finished with calculating metrics...\n",
      "Epoch 1539\n",
      "---------------\n"
     ]
    },
    {
     "name": "stderr",
     "output_type": "stream",
     "text": [
      "/home/yang1641/.local/lib/python3.8/site-packages/sklearn/metrics/_ranking.py:980: UserWarning: No positive class found in y_true, recall is set to one for all thresholds.\n",
      "  warnings.warn(\n"
     ]
    },
    {
     "name": "stdout",
     "output_type": "stream",
     "text": [
      "Batch 0\n",
      "train loss: 0.1384 [0/27652]\n",
      "Finished with batches...\n",
      "Finished with one full epoch...\n",
      "Finished all batches in validation...\n",
      "Finished with calculating metrics...\n",
      "Epoch 1540\n",
      "---------------\n",
      "Batch 0\n",
      "train loss: 0.1386 [0/27652]\n",
      "Finished with batches...\n",
      "Finished with one full epoch...\n",
      "Finished all batches in validation...\n",
      "Finished with calculating metrics...\n",
      "Epoch 1541\n",
      "---------------\n",
      "Batch 0\n",
      "train loss: 0.1388 [0/27652]\n",
      "Finished with batches...\n",
      "Finished with one full epoch...\n",
      "Finished all batches in validation...\n",
      "Finished with calculating metrics...\n",
      "Epoch 1542\n",
      "---------------\n",
      "Batch 0\n",
      "train loss: 0.1386 [0/27652]\n",
      "Finished with batches...\n",
      "Finished with one full epoch...\n",
      "Finished all batches in validation...\n",
      "Finished with calculating metrics...\n",
      "Epoch 1543\n",
      "---------------\n",
      "Batch 0\n",
      "train loss: 0.1386 [0/27652]\n",
      "Finished with batches...\n",
      "Finished with one full epoch...\n",
      "Finished all batches in validation...\n",
      "Finished with calculating metrics...\n",
      "Epoch 1544\n",
      "---------------\n",
      "Batch 0\n",
      "train loss: 0.1382 [0/27652]\n",
      "Finished with batches...\n",
      "Finished with one full epoch...\n",
      "Finished all batches in validation...\n",
      "Finished with calculating metrics...\n",
      "Epoch 1545\n",
      "---------------\n",
      "Batch 0\n",
      "train loss: 0.1390 [0/27652]\n",
      "Finished with batches...\n",
      "Finished with one full epoch...\n",
      "Finished all batches in validation...\n",
      "Finished with calculating metrics...\n",
      "Epoch 1546\n",
      "---------------\n",
      "Batch 0\n",
      "train loss: 0.1392 [0/27652]\n",
      "Finished with batches...\n",
      "Finished with one full epoch...\n",
      "Finished all batches in validation...\n",
      "Finished with calculating metrics...\n",
      "Epoch 1547\n",
      "---------------\n"
     ]
    },
    {
     "name": "stderr",
     "output_type": "stream",
     "text": [
      "/home/yang1641/.local/lib/python3.8/site-packages/sklearn/metrics/_ranking.py:980: UserWarning: No positive class found in y_true, recall is set to one for all thresholds.\n",
      "  warnings.warn(\n"
     ]
    },
    {
     "name": "stdout",
     "output_type": "stream",
     "text": [
      "Batch 0\n",
      "train loss: 0.1377 [0/27652]\n",
      "Finished with batches...\n",
      "Finished with one full epoch...\n",
      "Finished all batches in validation...\n",
      "Finished with calculating metrics...\n",
      "Epoch 1548\n",
      "---------------\n",
      "Batch 0\n",
      "train loss: 0.1384 [0/27652]\n",
      "Finished with batches...\n",
      "Finished with one full epoch...\n",
      "Finished all batches in validation...\n",
      "Finished with calculating metrics...\n",
      "Epoch 1549\n",
      "---------------\n",
      "Batch 0\n",
      "train loss: 0.1381 [0/27652]\n",
      "Finished with batches...\n",
      "Finished with one full epoch...\n",
      "Finished all batches in validation...\n",
      "Finished with calculating metrics...\n",
      "Epoch 1550\n",
      "---------------\n",
      "Batch 0\n",
      "train loss: 0.1392 [0/27652]\n",
      "Finished with batches...\n",
      "Finished with one full epoch...\n",
      "Finished all batches in validation...\n",
      "Finished with calculating metrics...\n",
      "Epoch 1551\n",
      "---------------\n",
      "Batch 0\n",
      "train loss: 0.1380 [0/27652]\n",
      "Finished with batches...\n",
      "Finished with one full epoch...\n",
      "Finished all batches in validation...\n",
      "Finished with calculating metrics...\n",
      "Epoch 1552\n",
      "---------------\n"
     ]
    },
    {
     "name": "stderr",
     "output_type": "stream",
     "text": [
      "/home/yang1641/.local/lib/python3.8/site-packages/sklearn/metrics/_ranking.py:980: UserWarning: No positive class found in y_true, recall is set to one for all thresholds.\n",
      "  warnings.warn(\n"
     ]
    },
    {
     "name": "stdout",
     "output_type": "stream",
     "text": [
      "Batch 0\n",
      "train loss: 0.1391 [0/27652]\n",
      "Finished with batches...\n",
      "Finished with one full epoch...\n",
      "Finished all batches in validation...\n",
      "Finished with calculating metrics...\n",
      "Epoch 1553\n",
      "---------------\n"
     ]
    },
    {
     "name": "stderr",
     "output_type": "stream",
     "text": [
      "/home/yang1641/.local/lib/python3.8/site-packages/sklearn/metrics/_ranking.py:980: UserWarning: No positive class found in y_true, recall is set to one for all thresholds.\n",
      "  warnings.warn(\n"
     ]
    },
    {
     "name": "stdout",
     "output_type": "stream",
     "text": [
      "Batch 0\n",
      "train loss: 0.1391 [0/27652]\n",
      "Finished with batches...\n",
      "Finished with one full epoch...\n",
      "Finished all batches in validation...\n",
      "Finished with calculating metrics...\n",
      "Epoch 1554\n",
      "---------------\n"
     ]
    },
    {
     "name": "stderr",
     "output_type": "stream",
     "text": [
      "/home/yang1641/.local/lib/python3.8/site-packages/sklearn/metrics/_ranking.py:980: UserWarning: No positive class found in y_true, recall is set to one for all thresholds.\n",
      "  warnings.warn(\n"
     ]
    },
    {
     "name": "stdout",
     "output_type": "stream",
     "text": [
      "Batch 0\n",
      "train loss: 0.1378 [0/27652]\n",
      "Finished with batches...\n",
      "Finished with one full epoch...\n",
      "Finished all batches in validation...\n",
      "Finished with calculating metrics...\n",
      "Epoch 1555\n",
      "---------------\n"
     ]
    },
    {
     "name": "stderr",
     "output_type": "stream",
     "text": [
      "/home/yang1641/.local/lib/python3.8/site-packages/sklearn/metrics/_ranking.py:980: UserWarning: No positive class found in y_true, recall is set to one for all thresholds.\n",
      "  warnings.warn(\n"
     ]
    },
    {
     "name": "stdout",
     "output_type": "stream",
     "text": [
      "Batch 0\n",
      "train loss: 0.1396 [0/27652]\n",
      "Finished with batches...\n",
      "Finished with one full epoch...\n",
      "Finished all batches in validation...\n",
      "Finished with calculating metrics...\n",
      "Epoch 1556\n",
      "---------------\n"
     ]
    },
    {
     "name": "stderr",
     "output_type": "stream",
     "text": [
      "/home/yang1641/.local/lib/python3.8/site-packages/sklearn/metrics/_ranking.py:980: UserWarning: No positive class found in y_true, recall is set to one for all thresholds.\n",
      "  warnings.warn(\n"
     ]
    },
    {
     "name": "stdout",
     "output_type": "stream",
     "text": [
      "Batch 0\n",
      "train loss: 0.1396 [0/27652]\n",
      "Finished with batches...\n",
      "Finished with one full epoch...\n",
      "Finished all batches in validation...\n",
      "Finished with calculating metrics...\n",
      "Epoch 1557\n",
      "---------------\n"
     ]
    },
    {
     "name": "stderr",
     "output_type": "stream",
     "text": [
      "/home/yang1641/.local/lib/python3.8/site-packages/sklearn/metrics/_ranking.py:980: UserWarning: No positive class found in y_true, recall is set to one for all thresholds.\n",
      "  warnings.warn(\n"
     ]
    },
    {
     "name": "stdout",
     "output_type": "stream",
     "text": [
      "Batch 0\n",
      "train loss: 0.1382 [0/27652]\n",
      "Finished with batches...\n",
      "Finished with one full epoch...\n",
      "Finished all batches in validation...\n",
      "Finished with calculating metrics...\n",
      "Epoch 1558\n",
      "---------------\n"
     ]
    },
    {
     "name": "stderr",
     "output_type": "stream",
     "text": [
      "/home/yang1641/.local/lib/python3.8/site-packages/sklearn/metrics/_ranking.py:980: UserWarning: No positive class found in y_true, recall is set to one for all thresholds.\n",
      "  warnings.warn(\n"
     ]
    },
    {
     "name": "stdout",
     "output_type": "stream",
     "text": [
      "Batch 0\n",
      "train loss: 0.1382 [0/27652]\n",
      "Finished with batches...\n",
      "Finished with one full epoch...\n",
      "Finished all batches in validation...\n",
      "Finished with calculating metrics...\n",
      "Epoch 1559\n",
      "---------------\n",
      "Batch 0\n",
      "train loss: 0.1387 [0/27652]\n",
      "Finished with batches...\n",
      "Finished with one full epoch...\n",
      "Finished all batches in validation...\n",
      "Finished with calculating metrics...\n",
      "Epoch 1560\n",
      "---------------\n",
      "Batch 0\n",
      "train loss: 0.1387 [0/27652]\n",
      "Finished with batches...\n",
      "Finished with one full epoch...\n",
      "Finished all batches in validation...\n",
      "Finished with calculating metrics...\n",
      "Epoch 1561\n",
      "---------------\n",
      "Batch 0\n",
      "train loss: 0.1376 [0/27652]\n",
      "Finished with batches...\n",
      "Finished with one full epoch...\n",
      "Finished all batches in validation...\n",
      "Finished with calculating metrics...\n",
      "Epoch 1562\n",
      "---------------\n",
      "Batch 0\n",
      "train loss: 0.1380 [0/27652]\n",
      "Finished with batches...\n",
      "Finished with one full epoch...\n",
      "Finished all batches in validation...\n",
      "Finished with calculating metrics...\n",
      "Epoch 1563\n",
      "---------------\n"
     ]
    },
    {
     "name": "stderr",
     "output_type": "stream",
     "text": [
      "/home/yang1641/.local/lib/python3.8/site-packages/sklearn/metrics/_ranking.py:980: UserWarning: No positive class found in y_true, recall is set to one for all thresholds.\n",
      "  warnings.warn(\n"
     ]
    },
    {
     "name": "stdout",
     "output_type": "stream",
     "text": [
      "Batch 0\n",
      "train loss: 0.1385 [0/27652]\n",
      "Finished with batches...\n",
      "Finished with one full epoch...\n",
      "Finished all batches in validation...\n",
      "Finished with calculating metrics...\n",
      "Epoch 1564\n",
      "---------------\n"
     ]
    },
    {
     "name": "stderr",
     "output_type": "stream",
     "text": [
      "/home/yang1641/.local/lib/python3.8/site-packages/sklearn/metrics/_ranking.py:980: UserWarning: No positive class found in y_true, recall is set to one for all thresholds.\n",
      "  warnings.warn(\n"
     ]
    },
    {
     "name": "stdout",
     "output_type": "stream",
     "text": [
      "Batch 0\n",
      "train loss: 0.1391 [0/27652]\n",
      "Finished with batches...\n",
      "Finished with one full epoch...\n",
      "Finished all batches in validation...\n",
      "Finished with calculating metrics...\n",
      "Epoch 1565\n",
      "---------------\n",
      "Batch 0\n",
      "train loss: 0.1385 [0/27652]\n",
      "Finished with batches...\n",
      "Finished with one full epoch...\n",
      "Finished all batches in validation...\n",
      "Finished with calculating metrics...\n",
      "Epoch 1566\n",
      "---------------\n",
      "Batch 0\n",
      "train loss: 0.1391 [0/27652]\n",
      "Finished with batches...\n",
      "Finished with one full epoch...\n",
      "Finished all batches in validation...\n",
      "Finished with calculating metrics...\n",
      "Epoch 1567\n",
      "---------------\n",
      "Batch 0\n",
      "train loss: 0.1385 [0/27652]\n",
      "Finished with batches...\n",
      "Finished with one full epoch...\n",
      "Finished all batches in validation...\n",
      "Finished with calculating metrics...\n",
      "Epoch 1568\n",
      "---------------\n",
      "Batch 0\n",
      "train loss: 0.1389 [0/27652]\n",
      "Finished with batches...\n",
      "Finished with one full epoch...\n",
      "Finished all batches in validation...\n",
      "Finished with calculating metrics...\n",
      "Epoch 1569\n",
      "---------------\n",
      "Batch 0\n",
      "train loss: 0.1378 [0/27652]\n",
      "Finished with batches...\n",
      "Finished with one full epoch...\n",
      "Finished all batches in validation...\n",
      "Finished with calculating metrics...\n",
      "Epoch 1570\n",
      "---------------\n",
      "Batch 0\n",
      "train loss: 0.1377 [0/27652]\n",
      "Finished with batches...\n",
      "Finished with one full epoch...\n",
      "Finished all batches in validation...\n",
      "Finished with calculating metrics...\n",
      "Epoch 1571\n",
      "---------------\n",
      "Batch 0\n",
      "train loss: 0.1383 [0/27652]\n",
      "Finished with batches...\n",
      "Finished with one full epoch...\n",
      "Finished all batches in validation...\n",
      "Finished with calculating metrics...\n",
      "Epoch 1572\n",
      "---------------\n",
      "Batch 0\n",
      "train loss: 0.1397 [0/27652]\n",
      "Finished with batches...\n",
      "Finished with one full epoch...\n",
      "Finished all batches in validation...\n",
      "Finished with calculating metrics...\n",
      "Epoch 1573\n",
      "---------------\n",
      "Batch 0\n",
      "train loss: 0.1380 [0/27652]\n",
      "Finished with batches...\n",
      "Finished with one full epoch...\n",
      "Finished all batches in validation...\n",
      "Finished with calculating metrics...\n",
      "Epoch 1574\n",
      "---------------\n",
      "Batch 0\n",
      "train loss: 0.1379 [0/27652]\n",
      "Finished with batches...\n",
      "Finished with one full epoch...\n",
      "Finished all batches in validation...\n",
      "Finished with calculating metrics...\n",
      "Epoch 1575\n",
      "---------------\n",
      "Batch 0\n",
      "train loss: 0.1370 [0/27652]\n",
      "Finished with batches...\n",
      "Finished with one full epoch...\n",
      "Finished all batches in validation...\n",
      "Finished with calculating metrics...\n",
      "Epoch 1576\n",
      "---------------\n",
      "Batch 0\n",
      "train loss: 0.1383 [0/27652]\n",
      "Finished with batches...\n",
      "Finished with one full epoch...\n",
      "Finished all batches in validation...\n",
      "Finished with calculating metrics...\n",
      "Epoch 1577\n",
      "---------------\n",
      "Batch 0\n",
      "train loss: 0.1376 [0/27652]\n",
      "Finished with batches...\n",
      "Finished with one full epoch...\n",
      "Finished all batches in validation...\n",
      "Finished with calculating metrics...\n",
      "Epoch 1578\n",
      "---------------\n",
      "Batch 0\n",
      "train loss: 0.1383 [0/27652]\n",
      "Finished with batches...\n",
      "Finished with one full epoch...\n",
      "Finished all batches in validation...\n",
      "Finished with calculating metrics...\n",
      "Epoch 1579\n",
      "---------------\n",
      "Batch 0\n",
      "train loss: 0.1389 [0/27652]\n",
      "Finished with batches...\n",
      "Finished with one full epoch...\n",
      "Finished all batches in validation...\n",
      "Finished with calculating metrics...\n",
      "Epoch 1580\n",
      "---------------\n",
      "Batch 0\n",
      "train loss: 0.1386 [0/27652]\n",
      "Finished with batches...\n",
      "Finished with one full epoch...\n",
      "Finished all batches in validation...\n",
      "Finished with calculating metrics...\n",
      "Epoch 1581\n",
      "---------------\n",
      "Batch 0\n",
      "train loss: 0.1395 [0/27652]\n",
      "Finished with batches...\n",
      "Finished with one full epoch...\n",
      "Finished all batches in validation...\n",
      "Finished with calculating metrics...\n",
      "Epoch 1582\n",
      "---------------\n",
      "Batch 0\n",
      "train loss: 0.1393 [0/27652]\n",
      "Finished with batches...\n",
      "Finished with one full epoch...\n",
      "Finished all batches in validation...\n",
      "Finished with calculating metrics...\n",
      "Epoch 1583\n",
      "---------------\n",
      "Batch 0\n",
      "train loss: 0.1389 [0/27652]\n",
      "Finished with batches...\n",
      "Finished with one full epoch...\n",
      "Finished all batches in validation...\n",
      "Finished with calculating metrics...\n",
      "Epoch 1584\n",
      "---------------\n",
      "Batch 0\n",
      "train loss: 0.1383 [0/27652]\n",
      "Finished with batches...\n",
      "Finished with one full epoch...\n",
      "Finished all batches in validation...\n",
      "Finished with calculating metrics...\n",
      "Epoch 1585\n",
      "---------------\n",
      "Batch 0\n",
      "train loss: 0.1386 [0/27652]\n",
      "Finished with batches...\n",
      "Finished with one full epoch...\n",
      "Finished all batches in validation...\n",
      "Finished with calculating metrics...\n",
      "Epoch 1586\n",
      "---------------\n",
      "Batch 0\n",
      "train loss: 0.1387 [0/27652]\n",
      "Finished with batches...\n",
      "Finished with one full epoch...\n",
      "Finished all batches in validation...\n",
      "Finished with calculating metrics...\n",
      "Epoch 1587\n",
      "---------------\n",
      "Batch 0\n",
      "train loss: 0.1376 [0/27652]\n",
      "Finished with batches...\n",
      "Finished with one full epoch...\n",
      "Finished all batches in validation...\n",
      "Finished with calculating metrics...\n",
      "Epoch 1588\n",
      "---------------\n",
      "Batch 0\n",
      "train loss: 0.1383 [0/27652]\n",
      "Finished with batches...\n",
      "Finished with one full epoch...\n",
      "Finished all batches in validation...\n",
      "Finished with calculating metrics...\n",
      "Epoch 1589\n",
      "---------------\n",
      "Batch 0\n",
      "train loss: 0.1376 [0/27652]\n",
      "Finished with batches...\n",
      "Finished with one full epoch...\n",
      "Finished all batches in validation...\n",
      "Finished with calculating metrics...\n",
      "Epoch 1590\n",
      "---------------\n",
      "Batch 0\n",
      "train loss: 0.1385 [0/27652]\n",
      "Finished with batches...\n",
      "Finished with one full epoch...\n",
      "Finished all batches in validation...\n",
      "Finished with calculating metrics...\n",
      "Epoch 1591\n",
      "---------------\n",
      "Batch 0\n",
      "train loss: 0.1388 [0/27652]\n",
      "Finished with batches...\n",
      "Finished with one full epoch...\n",
      "Finished all batches in validation...\n",
      "Finished with calculating metrics...\n",
      "Epoch 1592\n",
      "---------------\n",
      "Batch 0\n",
      "train loss: 0.1392 [0/27652]\n",
      "Finished with batches...\n",
      "Finished with one full epoch...\n",
      "Finished all batches in validation...\n",
      "Finished with calculating metrics...\n",
      "Epoch 1593\n",
      "---------------\n",
      "Batch 0\n",
      "train loss: 0.1376 [0/27652]\n",
      "Finished with batches...\n",
      "Finished with one full epoch...\n",
      "Finished all batches in validation...\n",
      "Finished with calculating metrics...\n",
      "Epoch 1594\n",
      "---------------\n",
      "Batch 0\n",
      "train loss: 0.1390 [0/27652]\n",
      "Finished with batches...\n",
      "Finished with one full epoch...\n",
      "Finished all batches in validation...\n",
      "Finished with calculating metrics...\n",
      "Epoch 1595\n",
      "---------------\n",
      "Batch 0\n",
      "train loss: 0.1395 [0/27652]\n",
      "Finished with batches...\n",
      "Finished with one full epoch...\n",
      "Finished all batches in validation...\n",
      "Finished with calculating metrics...\n",
      "Epoch 1596\n",
      "---------------\n",
      "Batch 0\n",
      "train loss: 0.1393 [0/27652]\n",
      "Finished with batches...\n",
      "Finished with one full epoch...\n",
      "Finished all batches in validation...\n",
      "Finished with calculating metrics...\n",
      "Epoch 1597\n",
      "---------------\n",
      "Batch 0\n",
      "train loss: 0.1383 [0/27652]\n",
      "Finished with batches...\n",
      "Finished with one full epoch...\n",
      "Finished all batches in validation...\n",
      "Finished with calculating metrics...\n",
      "Epoch 1598\n",
      "---------------\n",
      "Batch 0\n",
      "train loss: 0.1397 [0/27652]\n",
      "Finished with batches...\n",
      "Finished with one full epoch...\n",
      "Finished all batches in validation...\n",
      "Finished with calculating metrics...\n",
      "Epoch 1599\n",
      "---------------\n",
      "Batch 0\n",
      "train loss: 0.1379 [0/27652]\n",
      "Finished with batches...\n",
      "Finished with one full epoch...\n",
      "Finished all batches in validation...\n",
      "Finished with calculating metrics...\n",
      "Epoch 1600\n",
      "---------------\n",
      "Batch 0\n",
      "train loss: 0.1387 [0/27652]\n",
      "Finished with batches...\n",
      "Finished with one full epoch...\n",
      "Finished all batches in validation...\n",
      "Finished with calculating metrics...\n",
      "Epoch 1601\n",
      "---------------\n",
      "Batch 0\n",
      "train loss: 0.1393 [0/27652]\n",
      "Finished with batches...\n",
      "Finished with one full epoch...\n",
      "Finished all batches in validation...\n",
      "Finished with calculating metrics...\n",
      "Epoch 1602\n",
      "---------------\n",
      "Batch 0\n",
      "train loss: 0.1388 [0/27652]\n",
      "Finished with batches...\n",
      "Finished with one full epoch...\n",
      "Finished all batches in validation...\n",
      "Finished with calculating metrics...\n",
      "Epoch 1603\n",
      "---------------\n",
      "Batch 0\n",
      "train loss: 0.1403 [0/27652]\n",
      "Finished with batches...\n",
      "Finished with one full epoch...\n",
      "Finished all batches in validation...\n",
      "Finished with calculating metrics...\n",
      "Epoch 1604\n",
      "---------------\n",
      "Batch 0\n",
      "train loss: 0.1377 [0/27652]\n",
      "Finished with batches...\n",
      "Finished with one full epoch...\n",
      "Finished all batches in validation...\n",
      "Finished with calculating metrics...\n",
      "Epoch 1605\n",
      "---------------\n"
     ]
    },
    {
     "name": "stderr",
     "output_type": "stream",
     "text": [
      "/home/yang1641/.local/lib/python3.8/site-packages/sklearn/metrics/_ranking.py:980: UserWarning: No positive class found in y_true, recall is set to one for all thresholds.\n",
      "  warnings.warn(\n"
     ]
    },
    {
     "name": "stdout",
     "output_type": "stream",
     "text": [
      "Batch 0\n",
      "train loss: 0.1394 [0/27652]\n",
      "Finished with batches...\n",
      "Finished with one full epoch...\n",
      "Finished all batches in validation...\n",
      "Finished with calculating metrics...\n",
      "Epoch 1606\n",
      "---------------\n",
      "Batch 0\n",
      "train loss: 0.1387 [0/27652]\n",
      "Finished with batches...\n",
      "Finished with one full epoch...\n",
      "Finished all batches in validation...\n",
      "Finished with calculating metrics...\n",
      "Epoch 1607\n",
      "---------------\n",
      "Batch 0\n",
      "train loss: 0.1401 [0/27652]\n",
      "Finished with batches...\n",
      "Finished with one full epoch...\n",
      "Finished all batches in validation...\n",
      "Finished with calculating metrics...\n",
      "Epoch 1608\n",
      "---------------\n",
      "Batch 0\n",
      "train loss: 0.1369 [0/27652]\n",
      "Finished with batches...\n",
      "Finished with one full epoch...\n",
      "Finished all batches in validation...\n",
      "Finished with calculating metrics...\n",
      "Epoch 1609\n",
      "---------------\n",
      "Batch 0\n",
      "train loss: 0.1384 [0/27652]\n",
      "Finished with batches...\n",
      "Finished with one full epoch...\n",
      "Finished all batches in validation...\n",
      "Finished with calculating metrics...\n",
      "Epoch 1610\n",
      "---------------\n",
      "Batch 0\n",
      "train loss: 0.1380 [0/27652]\n",
      "Finished with batches...\n",
      "Finished with one full epoch...\n",
      "Finished all batches in validation...\n",
      "Finished with calculating metrics...\n",
      "Epoch 1611\n",
      "---------------\n",
      "Batch 0\n",
      "train loss: 0.1386 [0/27652]\n",
      "Finished with batches...\n",
      "Finished with one full epoch...\n",
      "Finished all batches in validation...\n",
      "Finished with calculating metrics...\n",
      "Epoch 1612\n",
      "---------------\n",
      "Batch 0\n",
      "train loss: 0.1391 [0/27652]\n",
      "Finished with batches...\n",
      "Finished with one full epoch...\n",
      "Finished all batches in validation...\n",
      "Finished with calculating metrics...\n",
      "Epoch 1613\n",
      "---------------\n",
      "Batch 0\n",
      "train loss: 0.1382 [0/27652]\n",
      "Finished with batches...\n",
      "Finished with one full epoch...\n",
      "Finished all batches in validation...\n",
      "Finished with calculating metrics...\n",
      "Epoch 1614\n",
      "---------------\n",
      "Batch 0\n",
      "train loss: 0.1382 [0/27652]\n",
      "Finished with batches...\n",
      "Finished with one full epoch...\n",
      "Finished all batches in validation...\n",
      "Finished with calculating metrics...\n",
      "Epoch 1615\n",
      "---------------\n",
      "Batch 0\n",
      "train loss: 0.1373 [0/27652]\n",
      "Finished with batches...\n",
      "Finished with one full epoch...\n",
      "Finished all batches in validation...\n",
      "Finished with calculating metrics...\n",
      "Epoch 1616\n",
      "---------------\n",
      "Batch 0\n",
      "train loss: 0.1394 [0/27652]\n",
      "Finished with batches...\n",
      "Finished with one full epoch...\n",
      "Finished all batches in validation...\n",
      "Finished with calculating metrics...\n",
      "Epoch 1617\n",
      "---------------\n",
      "Batch 0\n",
      "train loss: 0.1367 [0/27652]\n",
      "Finished with batches...\n",
      "Finished with one full epoch...\n",
      "Finished all batches in validation...\n",
      "Finished with calculating metrics...\n",
      "Epoch 1618\n",
      "---------------\n",
      "Batch 0\n",
      "train loss: 0.1382 [0/27652]\n",
      "Finished with batches...\n",
      "Finished with one full epoch...\n",
      "Finished all batches in validation...\n",
      "Finished with calculating metrics...\n",
      "Epoch 1619\n",
      "---------------\n",
      "Batch 0\n",
      "train loss: 0.1385 [0/27652]\n",
      "Finished with batches...\n",
      "Finished with one full epoch...\n",
      "Finished all batches in validation...\n",
      "Finished with calculating metrics...\n",
      "Epoch 1620\n",
      "---------------\n",
      "Batch 0\n",
      "train loss: 0.1386 [0/27652]\n",
      "Finished with batches...\n",
      "Finished with one full epoch...\n",
      "Finished all batches in validation...\n",
      "Finished with calculating metrics...\n",
      "Epoch 1621\n",
      "---------------\n",
      "Batch 0\n",
      "train loss: 0.1380 [0/27652]\n",
      "Finished with batches...\n",
      "Finished with one full epoch...\n",
      "Finished all batches in validation...\n",
      "Finished with calculating metrics...\n",
      "Epoch 1622\n",
      "---------------\n",
      "Batch 0\n",
      "train loss: 0.1374 [0/27652]\n",
      "Finished with batches...\n",
      "Finished with one full epoch...\n",
      "Finished all batches in validation...\n",
      "Finished with calculating metrics...\n",
      "Epoch 1623\n",
      "---------------\n"
     ]
    },
    {
     "name": "stderr",
     "output_type": "stream",
     "text": [
      "/home/yang1641/.local/lib/python3.8/site-packages/sklearn/metrics/_ranking.py:980: UserWarning: No positive class found in y_true, recall is set to one for all thresholds.\n",
      "  warnings.warn(\n"
     ]
    },
    {
     "name": "stdout",
     "output_type": "stream",
     "text": [
      "Batch 0\n",
      "train loss: 0.1379 [0/27652]\n",
      "Finished with batches...\n",
      "Finished with one full epoch...\n",
      "Finished all batches in validation...\n",
      "Finished with calculating metrics...\n",
      "Epoch 1624\n",
      "---------------\n"
     ]
    },
    {
     "name": "stderr",
     "output_type": "stream",
     "text": [
      "/home/yang1641/.local/lib/python3.8/site-packages/sklearn/metrics/_ranking.py:980: UserWarning: No positive class found in y_true, recall is set to one for all thresholds.\n",
      "  warnings.warn(\n"
     ]
    },
    {
     "name": "stdout",
     "output_type": "stream",
     "text": [
      "Batch 0\n",
      "train loss: 0.1384 [0/27652]\n",
      "Finished with batches...\n",
      "Finished with one full epoch...\n",
      "Finished all batches in validation...\n",
      "Finished with calculating metrics...\n",
      "Epoch 1625\n",
      "---------------\n",
      "Batch 0\n",
      "train loss: 0.1384 [0/27652]\n",
      "Finished with batches...\n",
      "Finished with one full epoch...\n",
      "Finished all batches in validation...\n",
      "Finished with calculating metrics...\n",
      "Epoch 1626\n",
      "---------------\n"
     ]
    },
    {
     "name": "stderr",
     "output_type": "stream",
     "text": [
      "/home/yang1641/.local/lib/python3.8/site-packages/sklearn/metrics/_ranking.py:980: UserWarning: No positive class found in y_true, recall is set to one for all thresholds.\n",
      "  warnings.warn(\n"
     ]
    },
    {
     "name": "stdout",
     "output_type": "stream",
     "text": [
      "Batch 0\n",
      "train loss: 0.1380 [0/27652]\n",
      "Finished with batches...\n",
      "Finished with one full epoch...\n",
      "Finished all batches in validation...\n",
      "Finished with calculating metrics...\n",
      "Epoch 1627\n",
      "---------------\n",
      "Batch 0\n",
      "train loss: 0.1377 [0/27652]\n",
      "Finished with batches...\n",
      "Finished with one full epoch...\n",
      "Finished all batches in validation...\n",
      "Finished with calculating metrics...\n",
      "Epoch 1628\n",
      "---------------\n",
      "Batch 0\n",
      "train loss: 0.1385 [0/27652]\n",
      "Finished with batches...\n",
      "Finished with one full epoch...\n",
      "Finished all batches in validation...\n",
      "Finished with calculating metrics...\n",
      "Epoch 1629\n",
      "---------------\n",
      "Batch 0\n",
      "train loss: 0.1376 [0/27652]\n",
      "Finished with batches...\n",
      "Finished with one full epoch...\n",
      "Finished all batches in validation...\n",
      "Finished with calculating metrics...\n",
      "Epoch 1630\n",
      "---------------\n",
      "Batch 0\n",
      "train loss: 0.1387 [0/27652]\n",
      "Finished with batches...\n",
      "Finished with one full epoch...\n",
      "Finished all batches in validation...\n",
      "Finished with calculating metrics...\n",
      "Epoch 1631\n",
      "---------------\n",
      "Batch 0\n",
      "train loss: 0.1381 [0/27652]\n",
      "Finished with batches...\n",
      "Finished with one full epoch...\n",
      "Finished all batches in validation...\n",
      "Finished with calculating metrics...\n",
      "Epoch 1632\n",
      "---------------\n",
      "Batch 0\n",
      "train loss: 0.1373 [0/27652]\n",
      "Finished with batches...\n",
      "Finished with one full epoch...\n",
      "Finished all batches in validation...\n",
      "Finished with calculating metrics...\n",
      "Epoch 1633\n",
      "---------------\n",
      "Batch 0\n",
      "train loss: 0.1395 [0/27652]\n",
      "Finished with batches...\n",
      "Finished with one full epoch...\n",
      "Finished all batches in validation...\n",
      "Finished with calculating metrics...\n",
      "Epoch 1634\n",
      "---------------\n",
      "Batch 0\n",
      "train loss: 0.1385 [0/27652]\n",
      "Finished with batches...\n",
      "Finished with one full epoch...\n",
      "Finished all batches in validation...\n",
      "Finished with calculating metrics...\n",
      "Epoch 1635\n",
      "---------------\n",
      "Batch 0\n",
      "train loss: 0.1367 [0/27652]\n",
      "Finished with batches...\n",
      "Finished with one full epoch...\n",
      "Finished all batches in validation...\n",
      "Finished with calculating metrics...\n",
      "Epoch 1636\n",
      "---------------\n"
     ]
    },
    {
     "name": "stderr",
     "output_type": "stream",
     "text": [
      "/home/yang1641/.local/lib/python3.8/site-packages/sklearn/metrics/_ranking.py:980: UserWarning: No positive class found in y_true, recall is set to one for all thresholds.\n",
      "  warnings.warn(\n"
     ]
    },
    {
     "name": "stdout",
     "output_type": "stream",
     "text": [
      "Batch 0\n",
      "train loss: 0.1374 [0/27652]\n",
      "Finished with batches...\n",
      "Finished with one full epoch...\n",
      "Finished all batches in validation...\n",
      "Finished with calculating metrics...\n",
      "Epoch 1637\n",
      "---------------\n"
     ]
    },
    {
     "name": "stderr",
     "output_type": "stream",
     "text": [
      "/home/yang1641/.local/lib/python3.8/site-packages/sklearn/metrics/_ranking.py:980: UserWarning: No positive class found in y_true, recall is set to one for all thresholds.\n",
      "  warnings.warn(\n"
     ]
    },
    {
     "name": "stdout",
     "output_type": "stream",
     "text": [
      "Batch 0\n",
      "train loss: 0.1375 [0/27652]\n",
      "Finished with batches...\n",
      "Finished with one full epoch...\n",
      "Finished all batches in validation...\n",
      "Finished with calculating metrics...\n",
      "Epoch 1638\n",
      "---------------\n"
     ]
    },
    {
     "name": "stderr",
     "output_type": "stream",
     "text": [
      "/home/yang1641/.local/lib/python3.8/site-packages/sklearn/metrics/_ranking.py:980: UserWarning: No positive class found in y_true, recall is set to one for all thresholds.\n",
      "  warnings.warn(\n"
     ]
    },
    {
     "name": "stdout",
     "output_type": "stream",
     "text": [
      "Batch 0\n",
      "train loss: 0.1388 [0/27652]\n",
      "Finished with batches...\n",
      "Finished with one full epoch...\n",
      "Finished all batches in validation...\n",
      "Finished with calculating metrics...\n",
      "Epoch 1639\n",
      "---------------\n"
     ]
    },
    {
     "name": "stderr",
     "output_type": "stream",
     "text": [
      "/home/yang1641/.local/lib/python3.8/site-packages/sklearn/metrics/_ranking.py:980: UserWarning: No positive class found in y_true, recall is set to one for all thresholds.\n",
      "  warnings.warn(\n"
     ]
    },
    {
     "name": "stdout",
     "output_type": "stream",
     "text": [
      "Batch 0\n",
      "train loss: 0.1394 [0/27652]\n",
      "Finished with batches...\n",
      "Finished with one full epoch...\n",
      "Finished all batches in validation...\n",
      "Finished with calculating metrics...\n",
      "Epoch 1640\n",
      "---------------\n",
      "Batch 0\n",
      "train loss: 0.1378 [0/27652]\n",
      "Finished with batches...\n",
      "Finished with one full epoch...\n",
      "Finished all batches in validation...\n",
      "Finished with calculating metrics...\n",
      "Epoch 1641\n",
      "---------------\n",
      "Batch 0\n",
      "train loss: 0.1380 [0/27652]\n",
      "Finished with batches...\n",
      "Finished with one full epoch...\n",
      "Finished all batches in validation...\n",
      "Finished with calculating metrics...\n",
      "Epoch 1642\n",
      "---------------\n"
     ]
    },
    {
     "name": "stderr",
     "output_type": "stream",
     "text": [
      "/home/yang1641/.local/lib/python3.8/site-packages/sklearn/metrics/_ranking.py:980: UserWarning: No positive class found in y_true, recall is set to one for all thresholds.\n",
      "  warnings.warn(\n"
     ]
    },
    {
     "name": "stdout",
     "output_type": "stream",
     "text": [
      "Batch 0\n",
      "train loss: 0.1392 [0/27652]\n",
      "Finished with batches...\n",
      "Finished with one full epoch...\n",
      "Finished all batches in validation...\n",
      "Finished with calculating metrics...\n",
      "Epoch 1643\n",
      "---------------\n",
      "Batch 0\n",
      "train loss: 0.1384 [0/27652]\n",
      "Finished with batches...\n",
      "Finished with one full epoch...\n",
      "Finished all batches in validation...\n",
      "Finished with calculating metrics...\n",
      "Epoch 1644\n",
      "---------------\n"
     ]
    },
    {
     "name": "stderr",
     "output_type": "stream",
     "text": [
      "/home/yang1641/.local/lib/python3.8/site-packages/sklearn/metrics/_ranking.py:980: UserWarning: No positive class found in y_true, recall is set to one for all thresholds.\n",
      "  warnings.warn(\n"
     ]
    },
    {
     "name": "stdout",
     "output_type": "stream",
     "text": [
      "Batch 0\n",
      "train loss: 0.1381 [0/27652]\n",
      "Finished with batches...\n",
      "Finished with one full epoch...\n",
      "Finished all batches in validation...\n",
      "Finished with calculating metrics...\n",
      "Epoch 1645\n",
      "---------------\n"
     ]
    },
    {
     "name": "stderr",
     "output_type": "stream",
     "text": [
      "/home/yang1641/.local/lib/python3.8/site-packages/sklearn/metrics/_ranking.py:980: UserWarning: No positive class found in y_true, recall is set to one for all thresholds.\n",
      "  warnings.warn(\n"
     ]
    },
    {
     "name": "stdout",
     "output_type": "stream",
     "text": [
      "Batch 0\n",
      "train loss: 0.1378 [0/27652]\n",
      "Finished with batches...\n",
      "Finished with one full epoch...\n",
      "Finished all batches in validation...\n",
      "Finished with calculating metrics...\n",
      "Epoch 1646\n",
      "---------------\n",
      "Batch 0\n",
      "train loss: 0.1391 [0/27652]\n",
      "Finished with batches...\n",
      "Finished with one full epoch...\n",
      "Finished all batches in validation...\n",
      "Finished with calculating metrics...\n",
      "Epoch 1647\n",
      "---------------\n",
      "Batch 0\n",
      "train loss: 0.1388 [0/27652]\n",
      "Finished with batches...\n",
      "Finished with one full epoch...\n",
      "Finished all batches in validation...\n",
      "Finished with calculating metrics...\n",
      "Epoch 1648\n",
      "---------------\n",
      "Batch 0\n",
      "train loss: 0.1381 [0/27652]\n",
      "Finished with batches...\n",
      "Finished with one full epoch...\n",
      "Finished all batches in validation...\n",
      "Finished with calculating metrics...\n",
      "Epoch 1649\n",
      "---------------\n",
      "Batch 0\n",
      "train loss: 0.1392 [0/27652]\n",
      "Finished with batches...\n",
      "Finished with one full epoch...\n",
      "Finished all batches in validation...\n",
      "Finished with calculating metrics...\n",
      "Epoch 1650\n",
      "---------------\n",
      "Batch 0\n",
      "train loss: 0.1394 [0/27652]\n",
      "Finished with batches...\n",
      "Finished with one full epoch...\n",
      "Finished all batches in validation...\n",
      "Finished with calculating metrics...\n",
      "Epoch 1651\n",
      "---------------\n",
      "Batch 0\n",
      "train loss: 0.1391 [0/27652]\n",
      "Finished with batches...\n",
      "Finished with one full epoch...\n",
      "Finished all batches in validation...\n",
      "Finished with calculating metrics...\n",
      "Epoch 1652\n",
      "---------------\n",
      "Batch 0\n",
      "train loss: 0.1387 [0/27652]\n",
      "Finished with batches...\n",
      "Finished with one full epoch...\n",
      "Finished all batches in validation...\n",
      "Finished with calculating metrics...\n",
      "Epoch 1653\n",
      "---------------\n",
      "Batch 0\n",
      "train loss: 0.1382 [0/27652]\n",
      "Finished with batches...\n",
      "Finished with one full epoch...\n",
      "Finished all batches in validation...\n",
      "Finished with calculating metrics...\n",
      "Epoch 1654\n",
      "---------------\n",
      "Batch 0\n",
      "train loss: 0.1385 [0/27652]\n",
      "Finished with batches...\n",
      "Finished with one full epoch...\n",
      "Finished all batches in validation...\n",
      "Finished with calculating metrics...\n",
      "Epoch 1655\n",
      "---------------\n",
      "Batch 0\n",
      "train loss: 0.1376 [0/27652]\n",
      "Finished with batches...\n",
      "Finished with one full epoch...\n",
      "Finished all batches in validation...\n",
      "Finished with calculating metrics...\n",
      "Epoch 1656\n",
      "---------------\n",
      "Batch 0\n",
      "train loss: 0.1382 [0/27652]\n",
      "Finished with batches...\n",
      "Finished with one full epoch...\n",
      "Finished all batches in validation...\n",
      "Finished with calculating metrics...\n",
      "Epoch 1657\n",
      "---------------\n",
      "Batch 0\n",
      "train loss: 0.1379 [0/27652]\n",
      "Finished with batches...\n",
      "Finished with one full epoch...\n",
      "Finished all batches in validation...\n",
      "Finished with calculating metrics...\n",
      "Epoch 1658\n",
      "---------------\n",
      "Batch 0\n",
      "train loss: 0.1392 [0/27652]\n",
      "Finished with batches...\n",
      "Finished with one full epoch...\n",
      "Finished all batches in validation...\n",
      "Finished with calculating metrics...\n",
      "Epoch 1659\n",
      "---------------\n",
      "Batch 0\n",
      "train loss: 0.1379 [0/27652]\n",
      "Finished with batches...\n",
      "Finished with one full epoch...\n",
      "Finished all batches in validation...\n",
      "Finished with calculating metrics...\n",
      "Epoch 1660\n",
      "---------------\n",
      "Batch 0\n",
      "train loss: 0.1390 [0/27652]\n",
      "Finished with batches...\n",
      "Finished with one full epoch...\n",
      "Finished all batches in validation...\n",
      "Finished with calculating metrics...\n",
      "Epoch 1661\n",
      "---------------\n",
      "Batch 0\n",
      "train loss: 0.1384 [0/27652]\n",
      "Finished with batches...\n",
      "Finished with one full epoch...\n",
      "Finished all batches in validation...\n",
      "Finished with calculating metrics...\n",
      "Epoch 1662\n",
      "---------------\n",
      "Batch 0\n",
      "train loss: 0.1380 [0/27652]\n",
      "Finished with batches...\n",
      "Finished with one full epoch...\n",
      "Finished all batches in validation...\n",
      "Finished with calculating metrics...\n",
      "Epoch 1663\n",
      "---------------\n",
      "Batch 0\n",
      "train loss: 0.1369 [0/27652]\n",
      "Finished with batches...\n",
      "Finished with one full epoch...\n",
      "Finished all batches in validation...\n",
      "Finished with calculating metrics...\n",
      "Epoch 1664\n",
      "---------------\n",
      "Batch 0\n",
      "train loss: 0.1396 [0/27652]\n",
      "Finished with batches...\n",
      "Finished with one full epoch...\n",
      "Finished all batches in validation...\n",
      "Finished with calculating metrics...\n",
      "Epoch 1665\n",
      "---------------\n",
      "Batch 0\n",
      "train loss: 0.1386 [0/27652]\n",
      "Finished with batches...\n",
      "Finished with one full epoch...\n",
      "Finished all batches in validation...\n",
      "Finished with calculating metrics...\n",
      "Epoch 1666\n",
      "---------------\n",
      "Batch 0\n",
      "train loss: 0.1383 [0/27652]\n",
      "Finished with batches...\n",
      "Finished with one full epoch...\n",
      "Finished all batches in validation...\n",
      "Finished with calculating metrics...\n",
      "Epoch 1667\n",
      "---------------\n",
      "Batch 0\n",
      "train loss: 0.1393 [0/27652]\n",
      "Finished with batches...\n",
      "Finished with one full epoch...\n",
      "Finished all batches in validation...\n",
      "Finished with calculating metrics...\n",
      "Epoch 1668\n",
      "---------------\n",
      "Batch 0\n",
      "train loss: 0.1391 [0/27652]\n",
      "Finished with batches...\n",
      "Finished with one full epoch...\n",
      "Finished all batches in validation...\n",
      "Finished with calculating metrics...\n",
      "Epoch 1669\n",
      "---------------\n",
      "Batch 0\n",
      "train loss: 0.1404 [0/27652]\n",
      "Finished with batches...\n",
      "Finished with one full epoch...\n",
      "Finished all batches in validation...\n",
      "Finished with calculating metrics...\n",
      "Epoch 1670\n",
      "---------------\n",
      "Batch 0\n",
      "train loss: 0.1375 [0/27652]\n",
      "Finished with batches...\n",
      "Finished with one full epoch...\n",
      "Finished all batches in validation...\n",
      "Finished with calculating metrics...\n",
      "Epoch 1671\n",
      "---------------\n",
      "Batch 0\n",
      "train loss: 0.1362 [0/27652]\n",
      "Finished with batches...\n",
      "Finished with one full epoch...\n",
      "Finished all batches in validation...\n",
      "Finished with calculating metrics...\n",
      "Epoch 1672\n",
      "---------------\n"
     ]
    },
    {
     "name": "stderr",
     "output_type": "stream",
     "text": [
      "/home/yang1641/.local/lib/python3.8/site-packages/sklearn/metrics/_ranking.py:980: UserWarning: No positive class found in y_true, recall is set to one for all thresholds.\n",
      "  warnings.warn(\n"
     ]
    },
    {
     "name": "stdout",
     "output_type": "stream",
     "text": [
      "Batch 0\n",
      "train loss: 0.1387 [0/27652]\n",
      "Finished with batches...\n",
      "Finished with one full epoch...\n",
      "Finished all batches in validation...\n",
      "Finished with calculating metrics...\n",
      "Epoch 1673\n",
      "---------------\n"
     ]
    },
    {
     "name": "stderr",
     "output_type": "stream",
     "text": [
      "/home/yang1641/.local/lib/python3.8/site-packages/sklearn/metrics/_ranking.py:980: UserWarning: No positive class found in y_true, recall is set to one for all thresholds.\n",
      "  warnings.warn(\n"
     ]
    },
    {
     "name": "stdout",
     "output_type": "stream",
     "text": [
      "Batch 0\n",
      "train loss: 0.1384 [0/27652]\n",
      "Finished with batches...\n",
      "Finished with one full epoch...\n",
      "Finished all batches in validation...\n",
      "Finished with calculating metrics...\n",
      "Epoch 1674\n",
      "---------------\n"
     ]
    },
    {
     "name": "stderr",
     "output_type": "stream",
     "text": [
      "/home/yang1641/.local/lib/python3.8/site-packages/sklearn/metrics/_ranking.py:980: UserWarning: No positive class found in y_true, recall is set to one for all thresholds.\n",
      "  warnings.warn(\n"
     ]
    },
    {
     "name": "stdout",
     "output_type": "stream",
     "text": [
      "Batch 0\n",
      "train loss: 0.1386 [0/27652]\n",
      "Finished with batches...\n",
      "Finished with one full epoch...\n",
      "Finished all batches in validation...\n",
      "Finished with calculating metrics...\n",
      "Epoch 1675\n",
      "---------------\n",
      "Batch 0\n",
      "train loss: 0.1388 [0/27652]\n",
      "Finished with batches...\n",
      "Finished with one full epoch...\n",
      "Finished all batches in validation...\n",
      "Finished with calculating metrics...\n",
      "Epoch 1676\n",
      "---------------\n",
      "Batch 0\n",
      "train loss: 0.1381 [0/27652]\n",
      "Finished with batches...\n",
      "Finished with one full epoch...\n",
      "Finished all batches in validation...\n",
      "Finished with calculating metrics...\n",
      "Epoch 1677\n",
      "---------------\n",
      "Batch 0\n",
      "train loss: 0.1383 [0/27652]\n",
      "Finished with batches...\n",
      "Finished with one full epoch...\n",
      "Finished all batches in validation...\n",
      "Finished with calculating metrics...\n",
      "Epoch 1678\n",
      "---------------\n",
      "Batch 0\n",
      "train loss: 0.1391 [0/27652]\n",
      "Finished with batches...\n",
      "Finished with one full epoch...\n",
      "Finished all batches in validation...\n",
      "Finished with calculating metrics...\n",
      "Epoch 1679\n",
      "---------------\n",
      "Batch 0\n",
      "train loss: 0.1390 [0/27652]\n",
      "Finished with batches...\n",
      "Finished with one full epoch...\n",
      "Finished all batches in validation...\n",
      "Finished with calculating metrics...\n",
      "Epoch 1680\n",
      "---------------\n",
      "Batch 0\n",
      "train loss: 0.1386 [0/27652]\n",
      "Finished with batches...\n",
      "Finished with one full epoch...\n",
      "Finished all batches in validation...\n",
      "Finished with calculating metrics...\n",
      "Epoch 1681\n",
      "---------------\n",
      "Batch 0\n",
      "train loss: 0.1376 [0/27652]\n",
      "Finished with batches...\n",
      "Finished with one full epoch...\n",
      "Finished all batches in validation...\n",
      "Finished with calculating metrics...\n",
      "Epoch 1682\n",
      "---------------\n",
      "Batch 0\n",
      "train loss: 0.1391 [0/27652]\n",
      "Finished with batches...\n",
      "Finished with one full epoch...\n",
      "Finished all batches in validation...\n",
      "Finished with calculating metrics...\n",
      "Epoch 1683\n",
      "---------------\n",
      "Batch 0\n",
      "train loss: 0.1384 [0/27652]\n",
      "Finished with batches...\n",
      "Finished with one full epoch...\n",
      "Finished all batches in validation...\n",
      "Finished with calculating metrics...\n",
      "Epoch 1684\n",
      "---------------\n",
      "Batch 0\n",
      "train loss: 0.1376 [0/27652]\n",
      "Finished with batches...\n",
      "Finished with one full epoch...\n",
      "Finished all batches in validation...\n",
      "Finished with calculating metrics...\n",
      "Epoch 1685\n",
      "---------------\n",
      "Batch 0\n",
      "train loss: 0.1390 [0/27652]\n",
      "Finished with batches...\n",
      "Finished with one full epoch...\n",
      "Finished all batches in validation...\n",
      "Finished with calculating metrics...\n",
      "Epoch 1686\n",
      "---------------\n",
      "Batch 0\n",
      "train loss: 0.1382 [0/27652]\n",
      "Finished with batches...\n",
      "Finished with one full epoch...\n",
      "Finished all batches in validation...\n",
      "Finished with calculating metrics...\n",
      "Epoch 1687\n",
      "---------------\n",
      "Batch 0\n",
      "train loss: 0.1386 [0/27652]\n",
      "Finished with batches...\n",
      "Finished with one full epoch...\n",
      "Finished all batches in validation...\n",
      "Finished with calculating metrics...\n",
      "Epoch 1688\n",
      "---------------\n",
      "Batch 0\n",
      "train loss: 0.1389 [0/27652]\n",
      "Finished with batches...\n",
      "Finished with one full epoch...\n",
      "Finished all batches in validation...\n",
      "Finished with calculating metrics...\n",
      "Epoch 1689\n",
      "---------------\n",
      "Batch 0\n",
      "train loss: 0.1392 [0/27652]\n",
      "Finished with batches...\n",
      "Finished with one full epoch...\n",
      "Finished all batches in validation...\n",
      "Finished with calculating metrics...\n",
      "Epoch 1690\n",
      "---------------\n",
      "Batch 0\n",
      "train loss: 0.1391 [0/27652]\n",
      "Finished with batches...\n",
      "Finished with one full epoch...\n",
      "Finished all batches in validation...\n",
      "Finished with calculating metrics...\n",
      "Epoch 1691\n",
      "---------------\n",
      "Batch 0\n",
      "train loss: 0.1392 [0/27652]\n",
      "Finished with batches...\n",
      "Finished with one full epoch...\n",
      "Finished all batches in validation...\n",
      "Finished with calculating metrics...\n",
      "Epoch 1692\n",
      "---------------\n",
      "Batch 0\n",
      "train loss: 0.1382 [0/27652]\n",
      "Finished with batches...\n",
      "Finished with one full epoch...\n",
      "Finished all batches in validation...\n",
      "Finished with calculating metrics...\n",
      "Epoch 1693\n",
      "---------------\n",
      "Batch 0\n",
      "train loss: 0.1401 [0/27652]\n",
      "Finished with batches...\n",
      "Finished with one full epoch...\n",
      "Finished all batches in validation...\n",
      "Finished with calculating metrics...\n",
      "Epoch 1694\n",
      "---------------\n",
      "Batch 0\n",
      "train loss: 0.1378 [0/27652]\n",
      "Finished with batches...\n",
      "Finished with one full epoch...\n",
      "Finished all batches in validation...\n",
      "Finished with calculating metrics...\n",
      "Epoch 1695\n",
      "---------------\n",
      "Batch 0\n",
      "train loss: 0.1375 [0/27652]\n",
      "Finished with batches...\n",
      "Finished with one full epoch...\n",
      "Finished all batches in validation...\n",
      "Finished with calculating metrics...\n",
      "Epoch 1696\n",
      "---------------\n",
      "Batch 0\n",
      "train loss: 0.1390 [0/27652]\n",
      "Finished with batches...\n",
      "Finished with one full epoch...\n",
      "Finished all batches in validation...\n",
      "Finished with calculating metrics...\n",
      "Epoch 1697\n",
      "---------------\n",
      "Batch 0\n",
      "train loss: 0.1381 [0/27652]\n",
      "Finished with batches...\n",
      "Finished with one full epoch...\n",
      "Finished all batches in validation...\n",
      "Finished with calculating metrics...\n",
      "Epoch 1698\n",
      "---------------\n",
      "Batch 0\n",
      "train loss: 0.1389 [0/27652]\n",
      "Finished with batches...\n",
      "Finished with one full epoch...\n",
      "Finished all batches in validation...\n",
      "Finished with calculating metrics...\n",
      "Epoch 1699\n",
      "---------------\n",
      "Batch 0\n",
      "train loss: 0.1395 [0/27652]\n",
      "Finished with batches...\n",
      "Finished with one full epoch...\n",
      "Finished all batches in validation...\n",
      "Finished with calculating metrics...\n",
      "Epoch 1700\n",
      "---------------\n",
      "Batch 0\n",
      "train loss: 0.1379 [0/27652]\n",
      "Finished with batches...\n",
      "Finished with one full epoch...\n",
      "Finished all batches in validation...\n",
      "Finished with calculating metrics...\n",
      "Epoch 1701\n",
      "---------------\n",
      "Batch 0\n",
      "train loss: 0.1380 [0/27652]\n",
      "Finished with batches...\n",
      "Finished with one full epoch...\n",
      "Finished all batches in validation...\n",
      "Finished with calculating metrics...\n",
      "Epoch 1702\n",
      "---------------\n",
      "Batch 0\n",
      "train loss: 0.1381 [0/27652]\n",
      "Finished with batches...\n",
      "Finished with one full epoch...\n",
      "Finished all batches in validation...\n",
      "Finished with calculating metrics...\n",
      "Epoch 1703\n",
      "---------------\n",
      "Batch 0\n",
      "train loss: 0.1377 [0/27652]\n",
      "Finished with batches...\n",
      "Finished with one full epoch...\n",
      "Finished all batches in validation...\n",
      "Finished with calculating metrics...\n",
      "Epoch 1704\n",
      "---------------\n",
      "Batch 0\n",
      "train loss: 0.1385 [0/27652]\n",
      "Finished with batches...\n",
      "Finished with one full epoch...\n",
      "Finished all batches in validation...\n",
      "Finished with calculating metrics...\n",
      "Epoch 1705\n",
      "---------------\n",
      "Batch 0\n",
      "train loss: 0.1378 [0/27652]\n",
      "Finished with batches...\n",
      "Finished with one full epoch...\n",
      "Finished all batches in validation...\n",
      "Finished with calculating metrics...\n",
      "Epoch 1706\n",
      "---------------\n",
      "Batch 0\n",
      "train loss: 0.1366 [0/27652]\n",
      "Finished with batches...\n",
      "Finished with one full epoch...\n",
      "Finished all batches in validation...\n",
      "Finished with calculating metrics...\n",
      "Epoch 1707\n",
      "---------------\n",
      "Batch 0\n",
      "train loss: 0.1375 [0/27652]\n",
      "Finished with batches...\n",
      "Finished with one full epoch...\n",
      "Finished all batches in validation...\n",
      "Finished with calculating metrics...\n",
      "Epoch 1708\n",
      "---------------\n",
      "Batch 0\n",
      "train loss: 0.1395 [0/27652]\n",
      "Finished with batches...\n",
      "Finished with one full epoch...\n",
      "Finished all batches in validation...\n",
      "Finished with calculating metrics...\n",
      "Epoch 1709\n",
      "---------------\n",
      "Batch 0\n",
      "train loss: 0.1389 [0/27652]\n",
      "Finished with batches...\n",
      "Finished with one full epoch...\n",
      "Finished all batches in validation...\n",
      "Finished with calculating metrics...\n",
      "Epoch 1710\n",
      "---------------\n",
      "Batch 0\n",
      "train loss: 0.1398 [0/27652]\n",
      "Finished with batches...\n",
      "Finished with one full epoch...\n",
      "Finished all batches in validation...\n",
      "Finished with calculating metrics...\n",
      "Epoch 1711\n",
      "---------------\n"
     ]
    },
    {
     "name": "stderr",
     "output_type": "stream",
     "text": [
      "/home/yang1641/.local/lib/python3.8/site-packages/sklearn/metrics/_ranking.py:980: UserWarning: No positive class found in y_true, recall is set to one for all thresholds.\n",
      "  warnings.warn(\n"
     ]
    },
    {
     "name": "stdout",
     "output_type": "stream",
     "text": [
      "Batch 0\n",
      "train loss: 0.1386 [0/27652]\n",
      "Finished with batches...\n",
      "Finished with one full epoch...\n",
      "Finished all batches in validation...\n",
      "Finished with calculating metrics...\n",
      "Epoch 1712\n",
      "---------------\n",
      "Batch 0\n",
      "train loss: 0.1378 [0/27652]\n",
      "Finished with batches...\n",
      "Finished with one full epoch...\n",
      "Finished all batches in validation...\n",
      "Finished with calculating metrics...\n",
      "Epoch 1713\n",
      "---------------\n",
      "Batch 0\n",
      "train loss: 0.1388 [0/27652]\n",
      "Finished with batches...\n",
      "Finished with one full epoch...\n",
      "Finished all batches in validation...\n",
      "Finished with calculating metrics...\n",
      "Epoch 1714\n",
      "---------------\n",
      "Batch 0\n",
      "train loss: 0.1394 [0/27652]\n",
      "Finished with batches...\n",
      "Finished with one full epoch...\n",
      "Finished all batches in validation...\n",
      "Finished with calculating metrics...\n",
      "Epoch 1715\n",
      "---------------\n",
      "Batch 0\n",
      "train loss: 0.1393 [0/27652]\n",
      "Finished with batches...\n",
      "Finished with one full epoch...\n",
      "Finished all batches in validation...\n",
      "Finished with calculating metrics...\n",
      "Epoch 1716\n",
      "---------------\n",
      "Batch 0\n",
      "train loss: 0.1377 [0/27652]\n",
      "Finished with batches...\n",
      "Finished with one full epoch...\n",
      "Finished all batches in validation...\n",
      "Finished with calculating metrics...\n",
      "Epoch 1717\n",
      "---------------\n",
      "Batch 0\n",
      "train loss: 0.1383 [0/27652]\n",
      "Finished with batches...\n",
      "Finished with one full epoch...\n",
      "Finished all batches in validation...\n",
      "Finished with calculating metrics...\n",
      "Epoch 1718\n",
      "---------------\n",
      "Batch 0\n",
      "train loss: 0.1383 [0/27652]\n",
      "Finished with batches...\n",
      "Finished with one full epoch...\n",
      "Finished all batches in validation...\n",
      "Finished with calculating metrics...\n",
      "Epoch 1719\n",
      "---------------\n",
      "Batch 0\n",
      "train loss: 0.1382 [0/27652]\n",
      "Finished with batches...\n",
      "Finished with one full epoch...\n",
      "Finished all batches in validation...\n",
      "Finished with calculating metrics...\n",
      "Epoch 1720\n",
      "---------------\n"
     ]
    },
    {
     "name": "stderr",
     "output_type": "stream",
     "text": [
      "/home/yang1641/.local/lib/python3.8/site-packages/sklearn/metrics/_ranking.py:980: UserWarning: No positive class found in y_true, recall is set to one for all thresholds.\n",
      "  warnings.warn(\n"
     ]
    },
    {
     "name": "stdout",
     "output_type": "stream",
     "text": [
      "Batch 0\n",
      "train loss: 0.1388 [0/27652]\n",
      "Finished with batches...\n",
      "Finished with one full epoch...\n",
      "Finished all batches in validation...\n",
      "Finished with calculating metrics...\n",
      "Epoch 1721\n",
      "---------------\n",
      "Batch 0\n",
      "train loss: 0.1388 [0/27652]\n",
      "Finished with batches...\n",
      "Finished with one full epoch...\n",
      "Finished all batches in validation...\n",
      "Finished with calculating metrics...\n",
      "Epoch 1722\n",
      "---------------\n",
      "Batch 0\n",
      "train loss: 0.1387 [0/27652]\n",
      "Finished with batches...\n",
      "Finished with one full epoch...\n",
      "Finished all batches in validation...\n",
      "Finished with calculating metrics...\n",
      "Epoch 1723\n",
      "---------------\n",
      "Batch 0\n",
      "train loss: 0.1385 [0/27652]\n",
      "Finished with batches...\n",
      "Finished with one full epoch...\n",
      "Finished all batches in validation...\n",
      "Finished with calculating metrics...\n",
      "Epoch 1724\n",
      "---------------\n",
      "Batch 0\n",
      "train loss: 0.1372 [0/27652]\n",
      "Finished with batches...\n",
      "Finished with one full epoch...\n",
      "Finished all batches in validation...\n",
      "Finished with calculating metrics...\n",
      "Epoch 1725\n",
      "---------------\n",
      "Batch 0\n",
      "train loss: 0.1383 [0/27652]\n",
      "Finished with batches...\n",
      "Finished with one full epoch...\n",
      "Finished all batches in validation...\n",
      "Finished with calculating metrics...\n",
      "Epoch 1726\n",
      "---------------\n",
      "Batch 0\n",
      "train loss: 0.1382 [0/27652]\n",
      "Finished with batches...\n",
      "Finished with one full epoch...\n",
      "Finished all batches in validation...\n",
      "Finished with calculating metrics...\n",
      "Epoch 1727\n",
      "---------------\n",
      "Batch 0\n",
      "train loss: 0.1381 [0/27652]\n",
      "Finished with batches...\n",
      "Finished with one full epoch...\n",
      "Finished all batches in validation...\n",
      "Finished with calculating metrics...\n",
      "Epoch 1728\n",
      "---------------\n",
      "Batch 0\n",
      "train loss: 0.1380 [0/27652]\n",
      "Finished with batches...\n",
      "Finished with one full epoch...\n",
      "Finished all batches in validation...\n",
      "Finished with calculating metrics...\n",
      "Epoch 1729\n",
      "---------------\n",
      "Batch 0\n",
      "train loss: 0.1385 [0/27652]\n",
      "Finished with batches...\n",
      "Finished with one full epoch...\n",
      "Finished all batches in validation...\n",
      "Finished with calculating metrics...\n",
      "Epoch 1730\n",
      "---------------\n",
      "Batch 0\n",
      "train loss: 0.1381 [0/27652]\n",
      "Finished with batches...\n",
      "Finished with one full epoch...\n",
      "Finished all batches in validation...\n",
      "Finished with calculating metrics...\n",
      "Epoch 1731\n",
      "---------------\n",
      "Batch 0\n",
      "train loss: 0.1381 [0/27652]\n",
      "Finished with batches...\n",
      "Finished with one full epoch...\n",
      "Finished all batches in validation...\n",
      "Finished with calculating metrics...\n",
      "Epoch 1732\n",
      "---------------\n",
      "Batch 0\n",
      "train loss: 0.1370 [0/27652]\n",
      "Finished with batches...\n",
      "Finished with one full epoch...\n",
      "Finished all batches in validation...\n",
      "Finished with calculating metrics...\n",
      "Epoch 1733\n",
      "---------------\n",
      "Batch 0\n",
      "train loss: 0.1367 [0/27652]\n",
      "Finished with batches...\n",
      "Finished with one full epoch...\n",
      "Finished all batches in validation...\n",
      "Finished with calculating metrics...\n",
      "Epoch 1734\n",
      "---------------\n",
      "Batch 0\n",
      "train loss: 0.1376 [0/27652]\n",
      "Finished with batches...\n",
      "Finished with one full epoch...\n",
      "Finished all batches in validation...\n",
      "Finished with calculating metrics...\n",
      "Epoch 1735\n",
      "---------------\n",
      "Batch 0\n",
      "train loss: 0.1374 [0/27652]\n",
      "Finished with batches...\n",
      "Finished with one full epoch...\n",
      "Finished all batches in validation...\n",
      "Finished with calculating metrics...\n",
      "Epoch 1736\n",
      "---------------\n",
      "Batch 0\n",
      "train loss: 0.1372 [0/27652]\n",
      "Finished with batches...\n",
      "Finished with one full epoch...\n",
      "Finished all batches in validation...\n",
      "Finished with calculating metrics...\n",
      "Epoch 1737\n",
      "---------------\n",
      "Batch 0\n",
      "train loss: 0.1377 [0/27652]\n",
      "Finished with batches...\n",
      "Finished with one full epoch...\n",
      "Finished all batches in validation...\n",
      "Finished with calculating metrics...\n",
      "Epoch 1738\n",
      "---------------\n",
      "Batch 0\n",
      "train loss: 0.1364 [0/27652]\n",
      "Finished with batches...\n",
      "Finished with one full epoch...\n",
      "Finished all batches in validation...\n",
      "Finished with calculating metrics...\n",
      "Epoch 1739\n",
      "---------------\n",
      "Batch 0\n",
      "train loss: 0.1372 [0/27652]\n",
      "Finished with batches...\n",
      "Finished with one full epoch...\n",
      "Finished all batches in validation...\n",
      "Finished with calculating metrics...\n",
      "Epoch 1740\n",
      "---------------\n",
      "Batch 0\n",
      "train loss: 0.1383 [0/27652]\n",
      "Finished with batches...\n",
      "Finished with one full epoch...\n",
      "Finished all batches in validation...\n",
      "Finished with calculating metrics...\n",
      "Epoch 1741\n",
      "---------------\n",
      "Batch 0\n",
      "train loss: 0.1380 [0/27652]\n",
      "Finished with batches...\n",
      "Finished with one full epoch...\n",
      "Finished all batches in validation...\n",
      "Finished with calculating metrics...\n",
      "Epoch 1742\n",
      "---------------\n",
      "Batch 0\n",
      "train loss: 0.1376 [0/27652]\n",
      "Finished with batches...\n",
      "Finished with one full epoch...\n",
      "Finished all batches in validation...\n",
      "Finished with calculating metrics...\n",
      "Epoch 1743\n",
      "---------------\n",
      "Batch 0\n",
      "train loss: 0.1376 [0/27652]\n",
      "Finished with batches...\n",
      "Finished with one full epoch...\n",
      "Finished all batches in validation...\n",
      "Finished with calculating metrics...\n",
      "Epoch 1744\n",
      "---------------\n",
      "Batch 0\n",
      "train loss: 0.1372 [0/27652]\n",
      "Finished with batches...\n",
      "Finished with one full epoch...\n",
      "Finished all batches in validation...\n",
      "Finished with calculating metrics...\n",
      "Epoch 1745\n",
      "---------------\n",
      "Batch 0\n",
      "train loss: 0.1377 [0/27652]\n",
      "Finished with batches...\n",
      "Finished with one full epoch...\n",
      "Finished all batches in validation...\n",
      "Finished with calculating metrics...\n",
      "Epoch 1746\n",
      "---------------\n",
      "Batch 0\n",
      "train loss: 0.1374 [0/27652]\n",
      "Finished with batches...\n",
      "Finished with one full epoch...\n",
      "Finished all batches in validation...\n",
      "Finished with calculating metrics...\n",
      "Epoch 1747\n",
      "---------------\n",
      "Batch 0\n",
      "train loss: 0.1395 [0/27652]\n",
      "Finished with batches...\n",
      "Finished with one full epoch...\n",
      "Finished all batches in validation...\n",
      "Finished with calculating metrics...\n",
      "Epoch 1748\n",
      "---------------\n",
      "Batch 0\n",
      "train loss: 0.1373 [0/27652]\n",
      "Finished with batches...\n",
      "Finished with one full epoch...\n",
      "Finished all batches in validation...\n",
      "Finished with calculating metrics...\n",
      "Epoch 1749\n",
      "---------------\n",
      "Batch 0\n",
      "train loss: 0.1371 [0/27652]\n",
      "Finished with batches...\n",
      "Finished with one full epoch...\n",
      "Finished all batches in validation...\n",
      "Finished with calculating metrics...\n",
      "Epoch 1750\n",
      "---------------\n",
      "Batch 0\n",
      "train loss: 0.1376 [0/27652]\n",
      "Finished with batches...\n",
      "Finished with one full epoch...\n",
      "Finished all batches in validation...\n",
      "Finished with calculating metrics...\n",
      "Epoch 1751\n",
      "---------------\n",
      "Batch 0\n",
      "train loss: 0.1384 [0/27652]\n",
      "Finished with batches...\n",
      "Finished with one full epoch...\n",
      "Finished all batches in validation...\n",
      "Finished with calculating metrics...\n",
      "Epoch 1752\n",
      "---------------\n",
      "Batch 0\n",
      "train loss: 0.1383 [0/27652]\n",
      "Finished with batches...\n",
      "Finished with one full epoch...\n",
      "Finished all batches in validation...\n",
      "Finished with calculating metrics...\n",
      "Epoch 1753\n",
      "---------------\n",
      "Batch 0\n",
      "train loss: 0.1374 [0/27652]\n",
      "Finished with batches...\n",
      "Finished with one full epoch...\n",
      "Finished all batches in validation...\n",
      "Finished with calculating metrics...\n",
      "Epoch 1754\n",
      "---------------\n",
      "Batch 0\n",
      "train loss: 0.1388 [0/27652]\n",
      "Finished with batches...\n",
      "Finished with one full epoch...\n",
      "Finished all batches in validation...\n",
      "Finished with calculating metrics...\n",
      "Epoch 1755\n",
      "---------------\n",
      "Batch 0\n",
      "train loss: 0.1376 [0/27652]\n",
      "Finished with batches...\n",
      "Finished with one full epoch...\n",
      "Finished all batches in validation...\n",
      "Finished with calculating metrics...\n",
      "Epoch 1756\n",
      "---------------\n",
      "Batch 0\n",
      "train loss: 0.1380 [0/27652]\n",
      "Finished with batches...\n",
      "Finished with one full epoch...\n",
      "Finished all batches in validation...\n",
      "Finished with calculating metrics...\n",
      "Epoch 1757\n",
      "---------------\n",
      "Batch 0\n",
      "train loss: 0.1381 [0/27652]\n",
      "Finished with batches...\n",
      "Finished with one full epoch...\n",
      "Finished all batches in validation...\n",
      "Finished with calculating metrics...\n",
      "Epoch 1758\n",
      "---------------\n",
      "Batch 0\n",
      "train loss: 0.1390 [0/27652]\n",
      "Finished with batches...\n",
      "Finished with one full epoch...\n",
      "Finished all batches in validation...\n",
      "Finished with calculating metrics...\n",
      "Epoch 1759\n",
      "---------------\n",
      "Batch 0\n",
      "train loss: 0.1392 [0/27652]\n",
      "Finished with batches...\n",
      "Finished with one full epoch...\n",
      "Finished all batches in validation...\n",
      "Finished with calculating metrics...\n",
      "Epoch 1760\n",
      "---------------\n",
      "Batch 0\n",
      "train loss: 0.1396 [0/27652]\n",
      "Finished with batches...\n",
      "Finished with one full epoch...\n",
      "Finished all batches in validation...\n",
      "Finished with calculating metrics...\n",
      "Epoch 1761\n",
      "---------------\n",
      "Batch 0\n",
      "train loss: 0.1382 [0/27652]\n",
      "Finished with batches...\n",
      "Finished with one full epoch...\n",
      "Finished all batches in validation...\n",
      "Finished with calculating metrics...\n",
      "Epoch 1762\n",
      "---------------\n"
     ]
    },
    {
     "name": "stdout",
     "output_type": "stream",
     "text": [
      "Batch 0\n",
      "train loss: 0.1385 [0/27652]\n",
      "Finished with batches...\n",
      "Finished with one full epoch...\n",
      "Finished all batches in validation...\n",
      "Finished with calculating metrics...\n",
      "Epoch 1763\n",
      "---------------\n",
      "Batch 0\n",
      "train loss: 0.1393 [0/27652]\n",
      "Finished with batches...\n",
      "Finished with one full epoch...\n",
      "Finished all batches in validation...\n",
      "Finished with calculating metrics...\n",
      "Epoch 1764\n",
      "---------------\n",
      "Batch 0\n",
      "train loss: 0.1381 [0/27652]\n",
      "Finished with batches...\n",
      "Finished with one full epoch...\n",
      "Finished all batches in validation...\n",
      "Finished with calculating metrics...\n",
      "Epoch 1765\n",
      "---------------\n",
      "Batch 0\n",
      "train loss: 0.1388 [0/27652]\n",
      "Finished with batches...\n",
      "Finished with one full epoch...\n",
      "Finished all batches in validation...\n",
      "Finished with calculating metrics...\n",
      "Epoch 1766\n",
      "---------------\n",
      "Batch 0\n",
      "train loss: 0.1387 [0/27652]\n",
      "Finished with batches...\n",
      "Finished with one full epoch...\n",
      "Finished all batches in validation...\n",
      "Finished with calculating metrics...\n",
      "Epoch 1767\n",
      "---------------\n",
      "Batch 0\n",
      "train loss: 0.1390 [0/27652]\n",
      "Finished with batches...\n",
      "Finished with one full epoch...\n",
      "Finished all batches in validation...\n",
      "Finished with calculating metrics...\n",
      "Epoch 1768\n",
      "---------------\n",
      "Batch 0\n",
      "train loss: 0.1388 [0/27652]\n",
      "Finished with batches...\n",
      "Finished with one full epoch...\n",
      "Finished all batches in validation...\n",
      "Finished with calculating metrics...\n",
      "Epoch 1769\n",
      "---------------\n",
      "Batch 0\n",
      "train loss: 0.1380 [0/27652]\n",
      "Finished with batches...\n",
      "Finished with one full epoch...\n",
      "Finished all batches in validation...\n",
      "Finished with calculating metrics...\n",
      "Epoch 1770\n",
      "---------------\n",
      "Batch 0\n",
      "train loss: 0.1376 [0/27652]\n",
      "Finished with batches...\n",
      "Finished with one full epoch...\n",
      "Finished all batches in validation...\n",
      "Finished with calculating metrics...\n",
      "Epoch 1771\n",
      "---------------\n",
      "Batch 0\n",
      "train loss: 0.1382 [0/27652]\n",
      "Finished with batches...\n",
      "Finished with one full epoch...\n",
      "Finished all batches in validation...\n",
      "Finished with calculating metrics...\n",
      "Epoch 1772\n",
      "---------------\n",
      "Batch 0\n",
      "train loss: 0.1389 [0/27652]\n",
      "Finished with batches...\n",
      "Finished with one full epoch...\n",
      "Finished all batches in validation...\n",
      "Finished with calculating metrics...\n",
      "Epoch 1773\n",
      "---------------\n",
      "Batch 0\n",
      "train loss: 0.1386 [0/27652]\n",
      "Finished with batches...\n",
      "Finished with one full epoch...\n",
      "Finished all batches in validation...\n",
      "Finished with calculating metrics...\n",
      "Epoch 1774\n",
      "---------------\n"
     ]
    },
    {
     "name": "stderr",
     "output_type": "stream",
     "text": [
      "/home/yang1641/.local/lib/python3.8/site-packages/sklearn/metrics/_ranking.py:980: UserWarning: No positive class found in y_true, recall is set to one for all thresholds.\n",
      "  warnings.warn(\n"
     ]
    },
    {
     "name": "stdout",
     "output_type": "stream",
     "text": [
      "Batch 0\n",
      "train loss: 0.1392 [0/27652]\n",
      "Finished with batches...\n",
      "Finished with one full epoch...\n",
      "Finished all batches in validation...\n",
      "Finished with calculating metrics...\n",
      "Epoch 1775\n",
      "---------------\n",
      "Batch 0\n",
      "train loss: 0.1381 [0/27652]\n",
      "Finished with batches...\n",
      "Finished with one full epoch...\n",
      "Finished all batches in validation...\n",
      "Finished with calculating metrics...\n",
      "Epoch 1776\n",
      "---------------\n",
      "Batch 0\n",
      "train loss: 0.1370 [0/27652]\n",
      "Finished with batches...\n",
      "Finished with one full epoch...\n",
      "Finished all batches in validation...\n",
      "Finished with calculating metrics...\n",
      "Epoch 1777\n",
      "---------------\n",
      "Batch 0\n",
      "train loss: 0.1387 [0/27652]\n",
      "Finished with batches...\n",
      "Finished with one full epoch...\n",
      "Finished all batches in validation...\n",
      "Finished with calculating metrics...\n",
      "Epoch 1778\n",
      "---------------\n",
      "Batch 0\n",
      "train loss: 0.1378 [0/27652]\n",
      "Finished with batches...\n",
      "Finished with one full epoch...\n",
      "Finished all batches in validation...\n",
      "Finished with calculating metrics...\n",
      "Epoch 1779\n",
      "---------------\n",
      "Batch 0\n",
      "train loss: 0.1375 [0/27652]\n",
      "Finished with batches...\n",
      "Finished with one full epoch...\n",
      "Finished all batches in validation...\n",
      "Finished with calculating metrics...\n",
      "Epoch 1780\n",
      "---------------\n",
      "Batch 0\n",
      "train loss: 0.1373 [0/27652]\n",
      "Finished with batches...\n",
      "Finished with one full epoch...\n",
      "Finished all batches in validation...\n",
      "Finished with calculating metrics...\n",
      "Epoch 1781\n",
      "---------------\n",
      "Batch 0\n",
      "train loss: 0.1377 [0/27652]\n",
      "Finished with batches...\n",
      "Finished with one full epoch...\n",
      "Finished all batches in validation...\n",
      "Finished with calculating metrics...\n",
      "Epoch 1782\n",
      "---------------\n",
      "Batch 0\n",
      "train loss: 0.1375 [0/27652]\n",
      "Finished with batches...\n",
      "Finished with one full epoch...\n",
      "Finished all batches in validation...\n",
      "Finished with calculating metrics...\n",
      "Epoch 1783\n",
      "---------------\n",
      "Batch 0\n",
      "train loss: 0.1384 [0/27652]\n",
      "Finished with batches...\n",
      "Finished with one full epoch...\n",
      "Finished all batches in validation...\n",
      "Finished with calculating metrics...\n",
      "Epoch 1784\n",
      "---------------\n",
      "Batch 0\n",
      "train loss: 0.1377 [0/27652]\n",
      "Finished with batches...\n",
      "Finished with one full epoch...\n",
      "Finished all batches in validation...\n",
      "Finished with calculating metrics...\n",
      "Epoch 1785\n",
      "---------------\n",
      "Batch 0\n",
      "train loss: 0.1378 [0/27652]\n",
      "Finished with batches...\n",
      "Finished with one full epoch...\n",
      "Finished all batches in validation...\n",
      "Finished with calculating metrics...\n",
      "Epoch 1786\n",
      "---------------\n",
      "Batch 0\n",
      "train loss: 0.1374 [0/27652]\n",
      "Finished with batches...\n",
      "Finished with one full epoch...\n",
      "Finished all batches in validation...\n",
      "Finished with calculating metrics...\n",
      "Epoch 1787\n",
      "---------------\n",
      "Batch 0\n",
      "train loss: 0.1381 [0/27652]\n",
      "Finished with batches...\n",
      "Finished with one full epoch...\n",
      "Finished all batches in validation...\n",
      "Finished with calculating metrics...\n",
      "Epoch 1788\n",
      "---------------\n",
      "Batch 0\n",
      "train loss: 0.1373 [0/27652]\n",
      "Finished with batches...\n",
      "Finished with one full epoch...\n",
      "Finished all batches in validation...\n",
      "Finished with calculating metrics...\n",
      "Epoch 1789\n",
      "---------------\n",
      "Batch 0\n",
      "train loss: 0.1385 [0/27652]\n",
      "Finished with batches...\n",
      "Finished with one full epoch...\n",
      "Finished all batches in validation...\n",
      "Finished with calculating metrics...\n",
      "Epoch 1790\n",
      "---------------\n",
      "Batch 0\n",
      "train loss: 0.1364 [0/27652]\n",
      "Finished with batches...\n",
      "Finished with one full epoch...\n",
      "Finished all batches in validation...\n",
      "Finished with calculating metrics...\n",
      "Epoch 1791\n",
      "---------------\n"
     ]
    },
    {
     "name": "stderr",
     "output_type": "stream",
     "text": [
      "/home/yang1641/.local/lib/python3.8/site-packages/sklearn/metrics/_ranking.py:980: UserWarning: No positive class found in y_true, recall is set to one for all thresholds.\n",
      "  warnings.warn(\n"
     ]
    },
    {
     "name": "stdout",
     "output_type": "stream",
     "text": [
      "Batch 0\n",
      "train loss: 0.1381 [0/27652]\n",
      "Finished with batches...\n",
      "Finished with one full epoch...\n",
      "Finished all batches in validation...\n",
      "Finished with calculating metrics...\n",
      "Epoch 1792\n",
      "---------------\n",
      "Batch 0\n",
      "train loss: 0.1378 [0/27652]\n",
      "Finished with batches...\n",
      "Finished with one full epoch...\n",
      "Finished all batches in validation...\n",
      "Finished with calculating metrics...\n",
      "Epoch 1793\n",
      "---------------\n",
      "Batch 0\n",
      "train loss: 0.1379 [0/27652]\n",
      "Finished with batches...\n",
      "Finished with one full epoch...\n",
      "Finished all batches in validation...\n",
      "Finished with calculating metrics...\n",
      "Epoch 1794\n",
      "---------------\n",
      "Batch 0\n",
      "train loss: 0.1387 [0/27652]\n",
      "Finished with batches...\n",
      "Finished with one full epoch...\n",
      "Finished all batches in validation...\n",
      "Finished with calculating metrics...\n",
      "Epoch 1795\n",
      "---------------\n",
      "Batch 0\n",
      "train loss: 0.1390 [0/27652]\n",
      "Finished with batches...\n",
      "Finished with one full epoch...\n",
      "Finished all batches in validation...\n",
      "Finished with calculating metrics...\n",
      "Epoch 1796\n",
      "---------------\n",
      "Batch 0\n",
      "train loss: 0.1380 [0/27652]\n",
      "Finished with batches...\n",
      "Finished with one full epoch...\n",
      "Finished all batches in validation...\n",
      "Finished with calculating metrics...\n",
      "Epoch 1797\n",
      "---------------\n",
      "Batch 0\n",
      "train loss: 0.1375 [0/27652]\n",
      "Finished with batches...\n",
      "Finished with one full epoch...\n",
      "Finished all batches in validation...\n",
      "Finished with calculating metrics...\n",
      "Epoch 1798\n",
      "---------------\n"
     ]
    },
    {
     "name": "stderr",
     "output_type": "stream",
     "text": [
      "/home/yang1641/.local/lib/python3.8/site-packages/sklearn/metrics/_ranking.py:980: UserWarning: No positive class found in y_true, recall is set to one for all thresholds.\n",
      "  warnings.warn(\n"
     ]
    },
    {
     "name": "stdout",
     "output_type": "stream",
     "text": [
      "Batch 0\n",
      "train loss: 0.1388 [0/27652]\n",
      "Finished with batches...\n",
      "Finished with one full epoch...\n",
      "Finished all batches in validation...\n",
      "Finished with calculating metrics...\n",
      "Epoch 1799\n",
      "---------------\n"
     ]
    },
    {
     "name": "stderr",
     "output_type": "stream",
     "text": [
      "/home/yang1641/.local/lib/python3.8/site-packages/sklearn/metrics/_ranking.py:980: UserWarning: No positive class found in y_true, recall is set to one for all thresholds.\n",
      "  warnings.warn(\n"
     ]
    },
    {
     "name": "stdout",
     "output_type": "stream",
     "text": [
      "Batch 0\n",
      "train loss: 0.1387 [0/27652]\n",
      "Finished with batches...\n",
      "Finished with one full epoch...\n",
      "Finished all batches in validation...\n",
      "Finished with calculating metrics...\n",
      "Epoch 1800\n",
      "---------------\n",
      "Batch 0\n",
      "train loss: 0.1372 [0/27652]\n",
      "Finished with batches...\n",
      "Finished with one full epoch...\n",
      "Finished all batches in validation...\n",
      "Finished with calculating metrics...\n",
      "Epoch 1801\n",
      "---------------\n",
      "Batch 0\n",
      "train loss: 0.1374 [0/27652]\n",
      "Finished with batches...\n",
      "Finished with one full epoch...\n",
      "Finished all batches in validation...\n",
      "Finished with calculating metrics...\n",
      "Epoch 1802\n",
      "---------------\n",
      "Batch 0\n",
      "train loss: 0.1379 [0/27652]\n",
      "Finished with batches...\n",
      "Finished with one full epoch...\n",
      "Finished all batches in validation...\n",
      "Finished with calculating metrics...\n",
      "Epoch 1803\n",
      "---------------\n",
      "Batch 0\n",
      "train loss: 0.1388 [0/27652]\n",
      "Finished with batches...\n",
      "Finished with one full epoch...\n",
      "Finished all batches in validation...\n",
      "Finished with calculating metrics...\n",
      "Epoch 1804\n",
      "---------------\n",
      "Batch 0\n",
      "train loss: 0.1369 [0/27652]\n",
      "Finished with batches...\n",
      "Finished with one full epoch...\n",
      "Finished all batches in validation...\n",
      "Finished with calculating metrics...\n",
      "Epoch 1805\n",
      "---------------\n",
      "Batch 0\n",
      "train loss: 0.1379 [0/27652]\n",
      "Finished with batches...\n",
      "Finished with one full epoch...\n",
      "Finished all batches in validation...\n",
      "Finished with calculating metrics...\n",
      "Epoch 1806\n",
      "---------------\n",
      "Batch 0\n",
      "train loss: 0.1378 [0/27652]\n",
      "Finished with batches...\n",
      "Finished with one full epoch...\n",
      "Finished all batches in validation...\n",
      "Finished with calculating metrics...\n",
      "Epoch 1807\n",
      "---------------\n",
      "Batch 0\n",
      "train loss: 0.1387 [0/27652]\n",
      "Finished with batches...\n",
      "Finished with one full epoch...\n",
      "Finished all batches in validation...\n",
      "Finished with calculating metrics...\n",
      "Epoch 1808\n",
      "---------------\n",
      "Batch 0\n",
      "train loss: 0.1374 [0/27652]\n",
      "Finished with batches...\n",
      "Finished with one full epoch...\n",
      "Finished all batches in validation...\n",
      "Finished with calculating metrics...\n",
      "Epoch 1809\n",
      "---------------\n",
      "Batch 0\n",
      "train loss: 0.1379 [0/27652]\n",
      "Finished with batches...\n",
      "Finished with one full epoch...\n",
      "Finished all batches in validation...\n",
      "Finished with calculating metrics...\n",
      "Epoch 1810\n",
      "---------------\n",
      "Batch 0\n",
      "train loss: 0.1388 [0/27652]\n",
      "Finished with batches...\n",
      "Finished with one full epoch...\n",
      "Finished all batches in validation...\n",
      "Finished with calculating metrics...\n",
      "Epoch 1811\n",
      "---------------\n",
      "Batch 0\n",
      "train loss: 0.1399 [0/27652]\n",
      "Finished with batches...\n",
      "Finished with one full epoch...\n",
      "Finished all batches in validation...\n",
      "Finished with calculating metrics...\n",
      "Epoch 1812\n",
      "---------------\n",
      "Batch 0\n",
      "train loss: 0.1393 [0/27652]\n",
      "Finished with batches...\n",
      "Finished with one full epoch...\n",
      "Finished all batches in validation...\n",
      "Finished with calculating metrics...\n",
      "Epoch 1813\n",
      "---------------\n",
      "Batch 0\n",
      "train loss: 0.1388 [0/27652]\n",
      "Finished with batches...\n",
      "Finished with one full epoch...\n",
      "Finished all batches in validation...\n",
      "Finished with calculating metrics...\n",
      "Epoch 1814\n",
      "---------------\n",
      "Batch 0\n",
      "train loss: 0.1382 [0/27652]\n",
      "Finished with batches...\n",
      "Finished with one full epoch...\n",
      "Finished all batches in validation...\n",
      "Finished with calculating metrics...\n",
      "Epoch 1815\n",
      "---------------\n",
      "Batch 0\n",
      "train loss: 0.1381 [0/27652]\n",
      "Finished with batches...\n",
      "Finished with one full epoch...\n",
      "Finished all batches in validation...\n",
      "Finished with calculating metrics...\n",
      "Epoch 1816\n",
      "---------------\n",
      "Batch 0\n",
      "train loss: 0.1386 [0/27652]\n",
      "Finished with batches...\n",
      "Finished with one full epoch...\n",
      "Finished all batches in validation...\n",
      "Finished with calculating metrics...\n",
      "Epoch 1817\n",
      "---------------\n",
      "Batch 0\n",
      "train loss: 0.1386 [0/27652]\n",
      "Finished with batches...\n",
      "Finished with one full epoch...\n",
      "Finished all batches in validation...\n",
      "Finished with calculating metrics...\n",
      "Epoch 1818\n",
      "---------------\n",
      "Batch 0\n",
      "train loss: 0.1384 [0/27652]\n",
      "Finished with batches...\n",
      "Finished with one full epoch...\n",
      "Finished all batches in validation...\n",
      "Finished with calculating metrics...\n",
      "Epoch 1819\n",
      "---------------\n",
      "Batch 0\n",
      "train loss: 0.1378 [0/27652]\n",
      "Finished with batches...\n",
      "Finished with one full epoch...\n",
      "Finished all batches in validation...\n",
      "Finished with calculating metrics...\n",
      "Epoch 1820\n",
      "---------------\n",
      "Batch 0\n",
      "train loss: 0.1396 [0/27652]\n",
      "Finished with batches...\n",
      "Finished with one full epoch...\n",
      "Finished all batches in validation...\n",
      "Finished with calculating metrics...\n",
      "Epoch 1821\n",
      "---------------\n"
     ]
    },
    {
     "name": "stderr",
     "output_type": "stream",
     "text": [
      "/home/yang1641/.local/lib/python3.8/site-packages/sklearn/metrics/_ranking.py:980: UserWarning: No positive class found in y_true, recall is set to one for all thresholds.\n",
      "  warnings.warn(\n"
     ]
    },
    {
     "name": "stdout",
     "output_type": "stream",
     "text": [
      "Batch 0\n",
      "train loss: 0.1399 [0/27652]\n",
      "Finished with batches...\n",
      "Finished with one full epoch...\n",
      "Finished all batches in validation...\n",
      "Finished with calculating metrics...\n",
      "Epoch 1822\n",
      "---------------\n",
      "Batch 0\n",
      "train loss: 0.1396 [0/27652]\n",
      "Finished with batches...\n",
      "Finished with one full epoch...\n",
      "Finished all batches in validation...\n",
      "Finished with calculating metrics...\n",
      "Epoch 1823\n",
      "---------------\n",
      "Batch 0\n",
      "train loss: 0.1391 [0/27652]\n",
      "Finished with batches...\n",
      "Finished with one full epoch...\n",
      "Finished all batches in validation...\n",
      "Finished with calculating metrics...\n",
      "Epoch 1824\n",
      "---------------\n",
      "Batch 0\n",
      "train loss: 0.1389 [0/27652]\n",
      "Finished with batches...\n",
      "Finished with one full epoch...\n",
      "Finished all batches in validation...\n",
      "Finished with calculating metrics...\n",
      "Epoch 1825\n",
      "---------------\n",
      "Batch 0\n",
      "train loss: 0.1382 [0/27652]\n",
      "Finished with batches...\n",
      "Finished with one full epoch...\n",
      "Finished all batches in validation...\n",
      "Finished with calculating metrics...\n",
      "Epoch 1826\n",
      "---------------\n",
      "Batch 0\n",
      "train loss: 0.1393 [0/27652]\n",
      "Finished with batches...\n",
      "Finished with one full epoch...\n",
      "Finished all batches in validation...\n",
      "Finished with calculating metrics...\n",
      "Epoch 1827\n",
      "---------------\n",
      "Batch 0\n",
      "train loss: 0.1393 [0/27652]\n",
      "Finished with batches...\n",
      "Finished with one full epoch...\n",
      "Finished all batches in validation...\n",
      "Finished with calculating metrics...\n",
      "Epoch 1828\n",
      "---------------\n",
      "Batch 0\n",
      "train loss: 0.1386 [0/27652]\n",
      "Finished with batches...\n",
      "Finished with one full epoch...\n",
      "Finished all batches in validation...\n",
      "Finished with calculating metrics...\n",
      "Epoch 1829\n",
      "---------------\n",
      "Batch 0\n",
      "train loss: 0.1390 [0/27652]\n",
      "Finished with batches...\n",
      "Finished with one full epoch...\n",
      "Finished all batches in validation...\n",
      "Finished with calculating metrics...\n",
      "Epoch 1830\n",
      "---------------\n",
      "Batch 0\n",
      "train loss: 0.1387 [0/27652]\n",
      "Finished with batches...\n",
      "Finished with one full epoch...\n",
      "Finished all batches in validation...\n",
      "Finished with calculating metrics...\n",
      "Epoch 1831\n",
      "---------------\n",
      "Batch 0\n",
      "train loss: 0.1380 [0/27652]\n",
      "Finished with batches...\n",
      "Finished with one full epoch...\n",
      "Finished all batches in validation...\n",
      "Finished with calculating metrics...\n",
      "Epoch 1832\n",
      "---------------\n",
      "Batch 0\n",
      "train loss: 0.1385 [0/27652]\n",
      "Finished with batches...\n",
      "Finished with one full epoch...\n",
      "Finished all batches in validation...\n",
      "Finished with calculating metrics...\n",
      "Epoch 1833\n",
      "---------------\n",
      "Batch 0\n",
      "train loss: 0.1378 [0/27652]\n",
      "Finished with batches...\n",
      "Finished with one full epoch...\n",
      "Finished all batches in validation...\n",
      "Finished with calculating metrics...\n",
      "Epoch 1834\n",
      "---------------\n"
     ]
    },
    {
     "name": "stderr",
     "output_type": "stream",
     "text": [
      "/home/yang1641/.local/lib/python3.8/site-packages/sklearn/metrics/_ranking.py:980: UserWarning: No positive class found in y_true, recall is set to one for all thresholds.\n",
      "  warnings.warn(\n"
     ]
    },
    {
     "name": "stdout",
     "output_type": "stream",
     "text": [
      "Batch 0\n",
      "train loss: 0.1379 [0/27652]\n",
      "Finished with batches...\n",
      "Finished with one full epoch...\n",
      "Finished all batches in validation...\n",
      "Finished with calculating metrics...\n",
      "Epoch 1835\n",
      "---------------\n",
      "Batch 0\n",
      "train loss: 0.1384 [0/27652]\n",
      "Finished with batches...\n",
      "Finished with one full epoch...\n",
      "Finished all batches in validation...\n",
      "Finished with calculating metrics...\n",
      "Epoch 1836\n",
      "---------------\n"
     ]
    },
    {
     "name": "stderr",
     "output_type": "stream",
     "text": [
      "/home/yang1641/.local/lib/python3.8/site-packages/sklearn/metrics/_ranking.py:980: UserWarning: No positive class found in y_true, recall is set to one for all thresholds.\n",
      "  warnings.warn(\n"
     ]
    },
    {
     "name": "stdout",
     "output_type": "stream",
     "text": [
      "Batch 0\n",
      "train loss: 0.1374 [0/27652]\n",
      "Finished with batches...\n",
      "Finished with one full epoch...\n",
      "Finished all batches in validation...\n",
      "Finished with calculating metrics...\n",
      "Epoch 1837\n",
      "---------------\n"
     ]
    },
    {
     "name": "stderr",
     "output_type": "stream",
     "text": [
      "/home/yang1641/.local/lib/python3.8/site-packages/sklearn/metrics/_ranking.py:980: UserWarning: No positive class found in y_true, recall is set to one for all thresholds.\n",
      "  warnings.warn(\n"
     ]
    },
    {
     "name": "stdout",
     "output_type": "stream",
     "text": [
      "Batch 0\n",
      "train loss: 0.1389 [0/27652]\n",
      "Finished with batches...\n",
      "Finished with one full epoch...\n",
      "Finished all batches in validation...\n",
      "Finished with calculating metrics...\n",
      "Epoch 1838\n",
      "---------------\n"
     ]
    },
    {
     "name": "stderr",
     "output_type": "stream",
     "text": [
      "/home/yang1641/.local/lib/python3.8/site-packages/sklearn/metrics/_ranking.py:980: UserWarning: No positive class found in y_true, recall is set to one for all thresholds.\n",
      "  warnings.warn(\n"
     ]
    },
    {
     "name": "stdout",
     "output_type": "stream",
     "text": [
      "Batch 0\n",
      "train loss: 0.1389 [0/27652]\n",
      "Finished with batches...\n",
      "Finished with one full epoch...\n",
      "Finished all batches in validation...\n",
      "Finished with calculating metrics...\n",
      "Epoch 1839\n",
      "---------------\n"
     ]
    },
    {
     "name": "stderr",
     "output_type": "stream",
     "text": [
      "/home/yang1641/.local/lib/python3.8/site-packages/sklearn/metrics/_ranking.py:980: UserWarning: No positive class found in y_true, recall is set to one for all thresholds.\n",
      "  warnings.warn(\n"
     ]
    },
    {
     "name": "stdout",
     "output_type": "stream",
     "text": [
      "Batch 0\n",
      "train loss: 0.1381 [0/27652]\n",
      "Finished with batches...\n",
      "Finished with one full epoch...\n",
      "Finished all batches in validation...\n",
      "Finished with calculating metrics...\n",
      "Epoch 1840\n",
      "---------------\n",
      "Batch 0\n",
      "train loss: 0.1383 [0/27652]\n",
      "Finished with batches...\n",
      "Finished with one full epoch...\n",
      "Finished all batches in validation...\n",
      "Finished with calculating metrics...\n",
      "Epoch 1841\n",
      "---------------\n",
      "Batch 0\n",
      "train loss: 0.1389 [0/27652]\n",
      "Finished with batches...\n",
      "Finished with one full epoch...\n",
      "Finished all batches in validation...\n",
      "Finished with calculating metrics...\n",
      "Epoch 1842\n",
      "---------------\n",
      "Batch 0\n",
      "train loss: 0.1385 [0/27652]\n",
      "Finished with batches...\n",
      "Finished with one full epoch...\n",
      "Finished all batches in validation...\n",
      "Finished with calculating metrics...\n",
      "Epoch 1843\n",
      "---------------\n",
      "Batch 0\n",
      "train loss: 0.1377 [0/27652]\n",
      "Finished with batches...\n",
      "Finished with one full epoch...\n",
      "Finished all batches in validation...\n",
      "Finished with calculating metrics...\n",
      "Epoch 1844\n",
      "---------------\n",
      "Batch 0\n",
      "train loss: 0.1375 [0/27652]\n",
      "Finished with batches...\n",
      "Finished with one full epoch...\n",
      "Finished all batches in validation...\n",
      "Finished with calculating metrics...\n",
      "Epoch 1845\n",
      "---------------\n",
      "Batch 0\n",
      "train loss: 0.1375 [0/27652]\n",
      "Finished with batches...\n",
      "Finished with one full epoch...\n",
      "Finished all batches in validation...\n",
      "Finished with calculating metrics...\n",
      "Epoch 1846\n",
      "---------------\n",
      "Batch 0\n",
      "train loss: 0.1377 [0/27652]\n",
      "Finished with batches...\n",
      "Finished with one full epoch...\n",
      "Finished all batches in validation...\n",
      "Finished with calculating metrics...\n",
      "Epoch 1847\n",
      "---------------\n",
      "Batch 0\n",
      "train loss: 0.1392 [0/27652]\n",
      "Finished with batches...\n",
      "Finished with one full epoch...\n",
      "Finished all batches in validation...\n",
      "Finished with calculating metrics...\n",
      "Epoch 1848\n",
      "---------------\n"
     ]
    },
    {
     "name": "stderr",
     "output_type": "stream",
     "text": [
      "/home/yang1641/.local/lib/python3.8/site-packages/sklearn/metrics/_ranking.py:980: UserWarning: No positive class found in y_true, recall is set to one for all thresholds.\n",
      "  warnings.warn(\n"
     ]
    },
    {
     "name": "stdout",
     "output_type": "stream",
     "text": [
      "Batch 0\n",
      "train loss: 0.1391 [0/27652]\n",
      "Finished with batches...\n",
      "Finished with one full epoch...\n",
      "Finished all batches in validation...\n",
      "Finished with calculating metrics...\n",
      "Epoch 1849\n",
      "---------------\n",
      "Batch 0\n",
      "train loss: 0.1380 [0/27652]\n",
      "Finished with batches...\n",
      "Finished with one full epoch...\n",
      "Finished all batches in validation...\n",
      "Finished with calculating metrics...\n",
      "Epoch 1850\n",
      "---------------\n",
      "Batch 0\n",
      "train loss: 0.1379 [0/27652]\n",
      "Finished with batches...\n",
      "Finished with one full epoch...\n",
      "Finished all batches in validation...\n",
      "Finished with calculating metrics...\n",
      "Epoch 1851\n",
      "---------------\n",
      "Batch 0\n",
      "train loss: 0.1400 [0/27652]\n",
      "Finished with batches...\n",
      "Finished with one full epoch...\n",
      "Finished all batches in validation...\n",
      "Finished with calculating metrics...\n",
      "Epoch 1852\n",
      "---------------\n",
      "Batch 0\n",
      "train loss: 0.1386 [0/27652]\n",
      "Finished with batches...\n",
      "Finished with one full epoch...\n",
      "Finished all batches in validation...\n",
      "Finished with calculating metrics...\n",
      "Epoch 1853\n",
      "---------------\n",
      "Batch 0\n",
      "train loss: 0.1374 [0/27652]\n",
      "Finished with batches...\n",
      "Finished with one full epoch...\n",
      "Finished all batches in validation...\n",
      "Finished with calculating metrics...\n",
      "Epoch 1854\n",
      "---------------\n",
      "Batch 0\n",
      "train loss: 0.1378 [0/27652]\n",
      "Finished with batches...\n",
      "Finished with one full epoch...\n",
      "Finished all batches in validation...\n",
      "Finished with calculating metrics...\n",
      "Epoch 1855\n",
      "---------------\n",
      "Batch 0\n",
      "train loss: 0.1390 [0/27652]\n",
      "Finished with batches...\n",
      "Finished with one full epoch...\n",
      "Finished all batches in validation...\n",
      "Finished with calculating metrics...\n",
      "Epoch 1856\n",
      "---------------\n",
      "Batch 0\n",
      "train loss: 0.1388 [0/27652]\n",
      "Finished with batches...\n",
      "Finished with one full epoch...\n",
      "Finished all batches in validation...\n",
      "Finished with calculating metrics...\n",
      "Epoch 1857\n",
      "---------------\n",
      "Batch 0\n",
      "train loss: 0.1374 [0/27652]\n",
      "Finished with batches...\n",
      "Finished with one full epoch...\n",
      "Finished all batches in validation...\n",
      "Finished with calculating metrics...\n",
      "Epoch 1858\n",
      "---------------\n"
     ]
    },
    {
     "name": "stderr",
     "output_type": "stream",
     "text": [
      "/home/yang1641/.local/lib/python3.8/site-packages/sklearn/metrics/_ranking.py:980: UserWarning: No positive class found in y_true, recall is set to one for all thresholds.\n",
      "  warnings.warn(\n"
     ]
    },
    {
     "name": "stdout",
     "output_type": "stream",
     "text": [
      "Batch 0\n",
      "train loss: 0.1379 [0/27652]\n",
      "Finished with batches...\n",
      "Finished with one full epoch...\n",
      "Finished all batches in validation...\n",
      "Finished with calculating metrics...\n",
      "Epoch 1859\n",
      "---------------\n"
     ]
    },
    {
     "name": "stderr",
     "output_type": "stream",
     "text": [
      "/home/yang1641/.local/lib/python3.8/site-packages/sklearn/metrics/_ranking.py:980: UserWarning: No positive class found in y_true, recall is set to one for all thresholds.\n",
      "  warnings.warn(\n"
     ]
    },
    {
     "name": "stdout",
     "output_type": "stream",
     "text": [
      "Batch 0\n",
      "train loss: 0.1392 [0/27652]\n",
      "Finished with batches...\n",
      "Finished with one full epoch...\n",
      "Finished all batches in validation...\n",
      "Finished with calculating metrics...\n",
      "Epoch 1860\n",
      "---------------\n"
     ]
    },
    {
     "name": "stderr",
     "output_type": "stream",
     "text": [
      "/home/yang1641/.local/lib/python3.8/site-packages/sklearn/metrics/_ranking.py:980: UserWarning: No positive class found in y_true, recall is set to one for all thresholds.\n",
      "  warnings.warn(\n",
      "/home/yang1641/.local/lib/python3.8/site-packages/sklearn/metrics/_ranking.py:980: UserWarning: No positive class found in y_true, recall is set to one for all thresholds.\n",
      "  warnings.warn(\n"
     ]
    },
    {
     "name": "stdout",
     "output_type": "stream",
     "text": [
      "Batch 0\n",
      "train loss: 0.1377 [0/27652]\n",
      "Finished with batches...\n",
      "Finished with one full epoch...\n",
      "Finished all batches in validation...\n",
      "Finished with calculating metrics...\n",
      "Epoch 1861\n",
      "---------------\n"
     ]
    },
    {
     "name": "stderr",
     "output_type": "stream",
     "text": [
      "/home/yang1641/.local/lib/python3.8/site-packages/sklearn/metrics/_ranking.py:980: UserWarning: No positive class found in y_true, recall is set to one for all thresholds.\n",
      "  warnings.warn(\n",
      "/home/yang1641/.local/lib/python3.8/site-packages/sklearn/metrics/_ranking.py:980: UserWarning: No positive class found in y_true, recall is set to one for all thresholds.\n",
      "  warnings.warn(\n"
     ]
    },
    {
     "name": "stdout",
     "output_type": "stream",
     "text": [
      "Batch 0\n",
      "train loss: 0.1383 [0/27652]\n",
      "Finished with batches...\n",
      "Finished with one full epoch...\n",
      "Finished all batches in validation...\n",
      "Finished with calculating metrics...\n",
      "Epoch 1862\n",
      "---------------\n"
     ]
    },
    {
     "name": "stderr",
     "output_type": "stream",
     "text": [
      "/home/yang1641/.local/lib/python3.8/site-packages/sklearn/metrics/_ranking.py:980: UserWarning: No positive class found in y_true, recall is set to one for all thresholds.\n",
      "  warnings.warn(\n",
      "/home/yang1641/.local/lib/python3.8/site-packages/sklearn/metrics/_ranking.py:980: UserWarning: No positive class found in y_true, recall is set to one for all thresholds.\n",
      "  warnings.warn(\n"
     ]
    },
    {
     "name": "stdout",
     "output_type": "stream",
     "text": [
      "Batch 0\n",
      "train loss: 0.1371 [0/27652]\n",
      "Finished with batches...\n",
      "Finished with one full epoch...\n",
      "Finished all batches in validation...\n",
      "Finished with calculating metrics...\n",
      "Epoch 1863\n",
      "---------------\n"
     ]
    },
    {
     "name": "stderr",
     "output_type": "stream",
     "text": [
      "/home/yang1641/.local/lib/python3.8/site-packages/sklearn/metrics/_ranking.py:980: UserWarning: No positive class found in y_true, recall is set to one for all thresholds.\n",
      "  warnings.warn(\n",
      "/home/yang1641/.local/lib/python3.8/site-packages/sklearn/metrics/_ranking.py:980: UserWarning: No positive class found in y_true, recall is set to one for all thresholds.\n",
      "  warnings.warn(\n"
     ]
    },
    {
     "name": "stdout",
     "output_type": "stream",
     "text": [
      "Batch 0\n",
      "train loss: 0.1389 [0/27652]\n",
      "Finished with batches...\n",
      "Finished with one full epoch...\n",
      "Finished all batches in validation...\n",
      "Finished with calculating metrics...\n",
      "Epoch 1864\n",
      "---------------\n"
     ]
    },
    {
     "name": "stderr",
     "output_type": "stream",
     "text": [
      "/home/yang1641/.local/lib/python3.8/site-packages/sklearn/metrics/_ranking.py:980: UserWarning: No positive class found in y_true, recall is set to one for all thresholds.\n",
      "  warnings.warn(\n",
      "/home/yang1641/.local/lib/python3.8/site-packages/sklearn/metrics/_ranking.py:980: UserWarning: No positive class found in y_true, recall is set to one for all thresholds.\n",
      "  warnings.warn(\n"
     ]
    },
    {
     "name": "stdout",
     "output_type": "stream",
     "text": [
      "Batch 0\n",
      "train loss: 0.1381 [0/27652]\n",
      "Finished with batches...\n",
      "Finished with one full epoch...\n",
      "Finished all batches in validation...\n",
      "Finished with calculating metrics...\n",
      "Epoch 1865\n",
      "---------------\n"
     ]
    },
    {
     "name": "stderr",
     "output_type": "stream",
     "text": [
      "/home/yang1641/.local/lib/python3.8/site-packages/sklearn/metrics/_ranking.py:980: UserWarning: No positive class found in y_true, recall is set to one for all thresholds.\n",
      "  warnings.warn(\n",
      "/home/yang1641/.local/lib/python3.8/site-packages/sklearn/metrics/_ranking.py:980: UserWarning: No positive class found in y_true, recall is set to one for all thresholds.\n",
      "  warnings.warn(\n"
     ]
    },
    {
     "name": "stdout",
     "output_type": "stream",
     "text": [
      "Batch 0\n",
      "train loss: 0.1366 [0/27652]\n",
      "Finished with batches...\n",
      "Finished with one full epoch...\n",
      "Finished all batches in validation...\n",
      "Finished with calculating metrics...\n",
      "Epoch 1866\n",
      "---------------\n"
     ]
    },
    {
     "name": "stderr",
     "output_type": "stream",
     "text": [
      "/home/yang1641/.local/lib/python3.8/site-packages/sklearn/metrics/_ranking.py:980: UserWarning: No positive class found in y_true, recall is set to one for all thresholds.\n",
      "  warnings.warn(\n"
     ]
    },
    {
     "name": "stdout",
     "output_type": "stream",
     "text": [
      "Batch 0\n",
      "train loss: 0.1376 [0/27652]\n",
      "Finished with batches...\n",
      "Finished with one full epoch...\n",
      "Finished all batches in validation...\n",
      "Finished with calculating metrics...\n",
      "Epoch 1867\n",
      "---------------\n"
     ]
    },
    {
     "name": "stderr",
     "output_type": "stream",
     "text": [
      "/home/yang1641/.local/lib/python3.8/site-packages/sklearn/metrics/_ranking.py:980: UserWarning: No positive class found in y_true, recall is set to one for all thresholds.\n",
      "  warnings.warn(\n"
     ]
    },
    {
     "name": "stdout",
     "output_type": "stream",
     "text": [
      "Batch 0\n",
      "train loss: 0.1376 [0/27652]\n",
      "Finished with batches...\n",
      "Finished with one full epoch...\n",
      "Finished all batches in validation...\n",
      "Finished with calculating metrics...\n",
      "Epoch 1868\n",
      "---------------\n"
     ]
    },
    {
     "name": "stderr",
     "output_type": "stream",
     "text": [
      "/home/yang1641/.local/lib/python3.8/site-packages/sklearn/metrics/_ranking.py:980: UserWarning: No positive class found in y_true, recall is set to one for all thresholds.\n",
      "  warnings.warn(\n"
     ]
    },
    {
     "name": "stdout",
     "output_type": "stream",
     "text": [
      "Batch 0\n",
      "train loss: 0.1379 [0/27652]\n",
      "Finished with batches...\n",
      "Finished with one full epoch...\n",
      "Finished all batches in validation...\n",
      "Finished with calculating metrics...\n",
      "Epoch 1869\n",
      "---------------\n"
     ]
    },
    {
     "name": "stderr",
     "output_type": "stream",
     "text": [
      "/home/yang1641/.local/lib/python3.8/site-packages/sklearn/metrics/_ranking.py:980: UserWarning: No positive class found in y_true, recall is set to one for all thresholds.\n",
      "  warnings.warn(\n"
     ]
    },
    {
     "name": "stdout",
     "output_type": "stream",
     "text": [
      "Batch 0\n",
      "train loss: 0.1383 [0/27652]\n",
      "Finished with batches...\n",
      "Finished with one full epoch...\n",
      "Finished all batches in validation...\n",
      "Finished with calculating metrics...\n",
      "Epoch 1870\n",
      "---------------\n"
     ]
    },
    {
     "name": "stderr",
     "output_type": "stream",
     "text": [
      "/home/yang1641/.local/lib/python3.8/site-packages/sklearn/metrics/_ranking.py:980: UserWarning: No positive class found in y_true, recall is set to one for all thresholds.\n",
      "  warnings.warn(\n"
     ]
    },
    {
     "name": "stdout",
     "output_type": "stream",
     "text": [
      "Batch 0\n",
      "train loss: 0.1363 [0/27652]\n",
      "Finished with batches...\n",
      "Finished with one full epoch...\n",
      "Finished all batches in validation...\n",
      "Finished with calculating metrics...\n",
      "Epoch 1871\n",
      "---------------\n"
     ]
    },
    {
     "name": "stderr",
     "output_type": "stream",
     "text": [
      "/home/yang1641/.local/lib/python3.8/site-packages/sklearn/metrics/_ranking.py:980: UserWarning: No positive class found in y_true, recall is set to one for all thresholds.\n",
      "  warnings.warn(\n"
     ]
    },
    {
     "name": "stdout",
     "output_type": "stream",
     "text": [
      "Batch 0\n",
      "train loss: 0.1373 [0/27652]\n",
      "Finished with batches...\n",
      "Finished with one full epoch...\n",
      "Finished all batches in validation...\n",
      "Finished with calculating metrics...\n",
      "Epoch 1872\n",
      "---------------\n"
     ]
    },
    {
     "name": "stderr",
     "output_type": "stream",
     "text": [
      "/home/yang1641/.local/lib/python3.8/site-packages/sklearn/metrics/_ranking.py:980: UserWarning: No positive class found in y_true, recall is set to one for all thresholds.\n",
      "  warnings.warn(\n"
     ]
    },
    {
     "name": "stdout",
     "output_type": "stream",
     "text": [
      "Batch 0\n",
      "train loss: 0.1380 [0/27652]\n",
      "Finished with batches...\n",
      "Finished with one full epoch...\n",
      "Finished all batches in validation...\n",
      "Finished with calculating metrics...\n",
      "Epoch 1873\n",
      "---------------\n"
     ]
    },
    {
     "name": "stderr",
     "output_type": "stream",
     "text": [
      "/home/yang1641/.local/lib/python3.8/site-packages/sklearn/metrics/_ranking.py:980: UserWarning: No positive class found in y_true, recall is set to one for all thresholds.\n",
      "  warnings.warn(\n"
     ]
    },
    {
     "name": "stdout",
     "output_type": "stream",
     "text": [
      "Batch 0\n",
      "train loss: 0.1380 [0/27652]\n",
      "Finished with batches...\n",
      "Finished with one full epoch...\n",
      "Finished all batches in validation...\n",
      "Finished with calculating metrics...\n",
      "Epoch 1874\n",
      "---------------\n"
     ]
    },
    {
     "name": "stderr",
     "output_type": "stream",
     "text": [
      "/home/yang1641/.local/lib/python3.8/site-packages/sklearn/metrics/_ranking.py:980: UserWarning: No positive class found in y_true, recall is set to one for all thresholds.\n",
      "  warnings.warn(\n"
     ]
    },
    {
     "name": "stdout",
     "output_type": "stream",
     "text": [
      "Batch 0\n",
      "train loss: 0.1374 [0/27652]\n",
      "Finished with batches...\n",
      "Finished with one full epoch...\n",
      "Finished all batches in validation...\n",
      "Finished with calculating metrics...\n",
      "Epoch 1875\n",
      "---------------\n"
     ]
    },
    {
     "name": "stderr",
     "output_type": "stream",
     "text": [
      "/home/yang1641/.local/lib/python3.8/site-packages/sklearn/metrics/_ranking.py:980: UserWarning: No positive class found in y_true, recall is set to one for all thresholds.\n",
      "  warnings.warn(\n"
     ]
    },
    {
     "name": "stdout",
     "output_type": "stream",
     "text": [
      "Batch 0\n",
      "train loss: 0.1376 [0/27652]\n",
      "Finished with batches...\n",
      "Finished with one full epoch...\n",
      "Finished all batches in validation...\n",
      "Finished with calculating metrics...\n",
      "Epoch 1876\n",
      "---------------\n"
     ]
    },
    {
     "name": "stderr",
     "output_type": "stream",
     "text": [
      "/home/yang1641/.local/lib/python3.8/site-packages/sklearn/metrics/_ranking.py:980: UserWarning: No positive class found in y_true, recall is set to one for all thresholds.\n",
      "  warnings.warn(\n"
     ]
    },
    {
     "name": "stdout",
     "output_type": "stream",
     "text": [
      "Batch 0\n",
      "train loss: 0.1387 [0/27652]\n",
      "Finished with batches...\n",
      "Finished with one full epoch...\n",
      "Finished all batches in validation...\n",
      "Finished with calculating metrics...\n",
      "Epoch 1877\n",
      "---------------\n",
      "Batch 0\n",
      "train loss: 0.1378 [0/27652]\n",
      "Finished with batches...\n",
      "Finished with one full epoch...\n",
      "Finished all batches in validation...\n",
      "Finished with calculating metrics...\n",
      "Epoch 1878\n",
      "---------------\n",
      "Batch 0\n",
      "train loss: 0.1373 [0/27652]\n",
      "Finished with batches...\n",
      "Finished with one full epoch...\n",
      "Finished all batches in validation...\n",
      "Finished with calculating metrics...\n",
      "Epoch 1879\n",
      "---------------\n",
      "Batch 0\n",
      "train loss: 0.1374 [0/27652]\n",
      "Finished with batches...\n",
      "Finished with one full epoch...\n",
      "Finished all batches in validation...\n",
      "Finished with calculating metrics...\n",
      "Epoch 1880\n",
      "---------------\n",
      "Batch 0\n",
      "train loss: 0.1387 [0/27652]\n",
      "Finished with batches...\n",
      "Finished with one full epoch...\n",
      "Finished all batches in validation...\n",
      "Finished with calculating metrics...\n",
      "Epoch 1881\n",
      "---------------\n",
      "Batch 0\n",
      "train loss: 0.1377 [0/27652]\n",
      "Finished with batches...\n",
      "Finished with one full epoch...\n",
      "Finished all batches in validation...\n",
      "Finished with calculating metrics...\n",
      "Epoch 1882\n",
      "---------------\n",
      "Batch 0\n",
      "train loss: 0.1385 [0/27652]\n",
      "Finished with batches...\n",
      "Finished with one full epoch...\n",
      "Finished all batches in validation...\n",
      "Finished with calculating metrics...\n",
      "Epoch 1883\n",
      "---------------\n"
     ]
    },
    {
     "name": "stderr",
     "output_type": "stream",
     "text": [
      "/home/yang1641/.local/lib/python3.8/site-packages/sklearn/metrics/_ranking.py:980: UserWarning: No positive class found in y_true, recall is set to one for all thresholds.\n",
      "  warnings.warn(\n"
     ]
    },
    {
     "name": "stdout",
     "output_type": "stream",
     "text": [
      "Batch 0\n",
      "train loss: 0.1384 [0/27652]\n",
      "Finished with batches...\n",
      "Finished with one full epoch...\n",
      "Finished all batches in validation...\n",
      "Finished with calculating metrics...\n",
      "Epoch 1884\n",
      "---------------\n"
     ]
    },
    {
     "name": "stderr",
     "output_type": "stream",
     "text": [
      "/home/yang1641/.local/lib/python3.8/site-packages/sklearn/metrics/_ranking.py:980: UserWarning: No positive class found in y_true, recall is set to one for all thresholds.\n",
      "  warnings.warn(\n"
     ]
    },
    {
     "name": "stdout",
     "output_type": "stream",
     "text": [
      "Batch 0\n",
      "train loss: 0.1390 [0/27652]\n",
      "Finished with batches...\n",
      "Finished with one full epoch...\n",
      "Finished all batches in validation...\n",
      "Finished with calculating metrics...\n",
      "Epoch 1885\n",
      "---------------\n"
     ]
    },
    {
     "name": "stderr",
     "output_type": "stream",
     "text": [
      "/home/yang1641/.local/lib/python3.8/site-packages/sklearn/metrics/_ranking.py:980: UserWarning: No positive class found in y_true, recall is set to one for all thresholds.\n",
      "  warnings.warn(\n"
     ]
    },
    {
     "name": "stdout",
     "output_type": "stream",
     "text": [
      "Batch 0\n",
      "train loss: 0.1381 [0/27652]\n",
      "Finished with batches...\n",
      "Finished with one full epoch...\n",
      "Finished all batches in validation...\n",
      "Finished with calculating metrics...\n",
      "Epoch 1886\n",
      "---------------\n",
      "Batch 0\n",
      "train loss: 0.1392 [0/27652]\n",
      "Finished with batches...\n",
      "Finished with one full epoch...\n",
      "Finished all batches in validation...\n",
      "Finished with calculating metrics...\n",
      "Epoch 1887\n",
      "---------------\n"
     ]
    },
    {
     "name": "stderr",
     "output_type": "stream",
     "text": [
      "/home/yang1641/.local/lib/python3.8/site-packages/sklearn/metrics/_ranking.py:980: UserWarning: No positive class found in y_true, recall is set to one for all thresholds.\n",
      "  warnings.warn(\n"
     ]
    },
    {
     "name": "stdout",
     "output_type": "stream",
     "text": [
      "Batch 0\n",
      "train loss: 0.1380 [0/27652]\n",
      "Finished with batches...\n",
      "Finished with one full epoch...\n",
      "Finished all batches in validation...\n",
      "Finished with calculating metrics...\n",
      "Epoch 1888\n",
      "---------------\n"
     ]
    },
    {
     "name": "stderr",
     "output_type": "stream",
     "text": [
      "/home/yang1641/.local/lib/python3.8/site-packages/sklearn/metrics/_ranking.py:980: UserWarning: No positive class found in y_true, recall is set to one for all thresholds.\n",
      "  warnings.warn(\n"
     ]
    },
    {
     "name": "stdout",
     "output_type": "stream",
     "text": [
      "Batch 0\n",
      "train loss: 0.1373 [0/27652]\n",
      "Finished with batches...\n",
      "Finished with one full epoch...\n",
      "Finished all batches in validation...\n",
      "Finished with calculating metrics...\n",
      "Epoch 1889\n",
      "---------------\n"
     ]
    },
    {
     "name": "stderr",
     "output_type": "stream",
     "text": [
      "/home/yang1641/.local/lib/python3.8/site-packages/sklearn/metrics/_ranking.py:980: UserWarning: No positive class found in y_true, recall is set to one for all thresholds.\n",
      "  warnings.warn(\n"
     ]
    },
    {
     "name": "stdout",
     "output_type": "stream",
     "text": [
      "Batch 0\n",
      "train loss: 0.1378 [0/27652]\n",
      "Finished with batches...\n",
      "Finished with one full epoch...\n",
      "Finished all batches in validation...\n",
      "Finished with calculating metrics...\n",
      "Epoch 1890\n",
      "---------------\n"
     ]
    },
    {
     "name": "stderr",
     "output_type": "stream",
     "text": [
      "/home/yang1641/.local/lib/python3.8/site-packages/sklearn/metrics/_ranking.py:980: UserWarning: No positive class found in y_true, recall is set to one for all thresholds.\n",
      "  warnings.warn(\n",
      "/home/yang1641/.local/lib/python3.8/site-packages/sklearn/metrics/_ranking.py:980: UserWarning: No positive class found in y_true, recall is set to one for all thresholds.\n",
      "  warnings.warn(\n"
     ]
    },
    {
     "name": "stdout",
     "output_type": "stream",
     "text": [
      "Batch 0\n",
      "train loss: 0.1387 [0/27652]\n",
      "Finished with batches...\n",
      "Finished with one full epoch...\n",
      "Finished all batches in validation...\n",
      "Finished with calculating metrics...\n",
      "Epoch 1891\n",
      "---------------\n"
     ]
    },
    {
     "name": "stderr",
     "output_type": "stream",
     "text": [
      "/home/yang1641/.local/lib/python3.8/site-packages/sklearn/metrics/_ranking.py:980: UserWarning: No positive class found in y_true, recall is set to one for all thresholds.\n",
      "  warnings.warn(\n",
      "/home/yang1641/.local/lib/python3.8/site-packages/sklearn/metrics/_ranking.py:980: UserWarning: No positive class found in y_true, recall is set to one for all thresholds.\n",
      "  warnings.warn(\n"
     ]
    },
    {
     "name": "stdout",
     "output_type": "stream",
     "text": [
      "Batch 0\n",
      "train loss: 0.1389 [0/27652]\n",
      "Finished with batches...\n",
      "Finished with one full epoch...\n",
      "Finished all batches in validation...\n",
      "Finished with calculating metrics...\n",
      "Epoch 1892\n",
      "---------------\n"
     ]
    },
    {
     "name": "stderr",
     "output_type": "stream",
     "text": [
      "/home/yang1641/.local/lib/python3.8/site-packages/sklearn/metrics/_ranking.py:980: UserWarning: No positive class found in y_true, recall is set to one for all thresholds.\n",
      "  warnings.warn(\n"
     ]
    },
    {
     "name": "stdout",
     "output_type": "stream",
     "text": [
      "Batch 0\n",
      "train loss: 0.1386 [0/27652]\n",
      "Finished with batches...\n",
      "Finished with one full epoch...\n",
      "Finished all batches in validation...\n",
      "Finished with calculating metrics...\n",
      "Epoch 1893\n",
      "---------------\n"
     ]
    },
    {
     "name": "stderr",
     "output_type": "stream",
     "text": [
      "/home/yang1641/.local/lib/python3.8/site-packages/sklearn/metrics/_ranking.py:980: UserWarning: No positive class found in y_true, recall is set to one for all thresholds.\n",
      "  warnings.warn(\n"
     ]
    },
    {
     "name": "stdout",
     "output_type": "stream",
     "text": [
      "Batch 0\n",
      "train loss: 0.1374 [0/27652]\n",
      "Finished with batches...\n",
      "Finished with one full epoch...\n",
      "Finished all batches in validation...\n",
      "Finished with calculating metrics...\n",
      "Epoch 1894\n",
      "---------------\n",
      "Batch 0\n",
      "train loss: 0.1386 [0/27652]\n",
      "Finished with batches...\n",
      "Finished with one full epoch...\n",
      "Finished all batches in validation...\n",
      "Finished with calculating metrics...\n",
      "Epoch 1895\n",
      "---------------\n",
      "Batch 0\n",
      "train loss: 0.1393 [0/27652]\n",
      "Finished with batches...\n",
      "Finished with one full epoch...\n",
      "Finished all batches in validation...\n",
      "Finished with calculating metrics...\n",
      "Epoch 1896\n",
      "---------------\n",
      "Batch 0\n",
      "train loss: 0.1387 [0/27652]\n",
      "Finished with batches...\n",
      "Finished with one full epoch...\n",
      "Finished all batches in validation...\n",
      "Finished with calculating metrics...\n",
      "Epoch 1897\n",
      "---------------\n",
      "Batch 0\n",
      "train loss: 0.1396 [0/27652]\n",
      "Finished with batches...\n",
      "Finished with one full epoch...\n",
      "Finished all batches in validation...\n",
      "Finished with calculating metrics...\n",
      "Epoch 1898\n",
      "---------------\n",
      "Batch 0\n",
      "train loss: 0.1389 [0/27652]\n",
      "Finished with batches...\n",
      "Finished with one full epoch...\n",
      "Finished all batches in validation...\n",
      "Finished with calculating metrics...\n",
      "Epoch 1899\n",
      "---------------\n",
      "Batch 0\n",
      "train loss: 0.1395 [0/27652]\n",
      "Finished with batches...\n",
      "Finished with one full epoch...\n",
      "Finished all batches in validation...\n",
      "Finished with calculating metrics...\n",
      "Epoch 1900\n",
      "---------------\n",
      "Batch 0\n",
      "train loss: 0.1383 [0/27652]\n",
      "Finished with batches...\n",
      "Finished with one full epoch...\n",
      "Finished all batches in validation...\n",
      "Finished with calculating metrics...\n",
      "Epoch 1901\n",
      "---------------\n",
      "Batch 0\n",
      "train loss: 0.1393 [0/27652]\n",
      "Finished with batches...\n",
      "Finished with one full epoch...\n",
      "Finished all batches in validation...\n",
      "Finished with calculating metrics...\n",
      "Epoch 1902\n",
      "---------------\n",
      "Batch 0\n",
      "train loss: 0.1379 [0/27652]\n",
      "Finished with batches...\n",
      "Finished with one full epoch...\n",
      "Finished all batches in validation...\n",
      "Finished with calculating metrics...\n",
      "Epoch 1903\n",
      "---------------\n",
      "Batch 0\n",
      "train loss: 0.1395 [0/27652]\n",
      "Finished with batches...\n",
      "Finished with one full epoch...\n",
      "Finished all batches in validation...\n",
      "Finished with calculating metrics...\n",
      "Epoch 1904\n",
      "---------------\n",
      "Batch 0\n",
      "train loss: 0.1388 [0/27652]\n",
      "Finished with batches...\n",
      "Finished with one full epoch...\n",
      "Finished all batches in validation...\n",
      "Finished with calculating metrics...\n",
      "Epoch 1905\n",
      "---------------\n",
      "Batch 0\n",
      "train loss: 0.1395 [0/27652]\n",
      "Finished with batches...\n",
      "Finished with one full epoch...\n",
      "Finished all batches in validation...\n",
      "Finished with calculating metrics...\n",
      "Epoch 1906\n",
      "---------------\n",
      "Batch 0\n",
      "train loss: 0.1385 [0/27652]\n",
      "Finished with batches...\n",
      "Finished with one full epoch...\n",
      "Finished all batches in validation...\n",
      "Finished with calculating metrics...\n",
      "Epoch 1907\n",
      "---------------\n",
      "Batch 0\n",
      "train loss: 0.1384 [0/27652]\n",
      "Finished with batches...\n",
      "Finished with one full epoch...\n",
      "Finished all batches in validation...\n",
      "Finished with calculating metrics...\n",
      "Epoch 1908\n",
      "---------------\n",
      "Batch 0\n",
      "train loss: 0.1379 [0/27652]\n",
      "Finished with batches...\n",
      "Finished with one full epoch...\n",
      "Finished all batches in validation...\n",
      "Finished with calculating metrics...\n",
      "Epoch 1909\n",
      "---------------\n",
      "Batch 0\n",
      "train loss: 0.1388 [0/27652]\n",
      "Finished with batches...\n",
      "Finished with one full epoch...\n",
      "Finished all batches in validation...\n",
      "Finished with calculating metrics...\n",
      "Epoch 1910\n",
      "---------------\n",
      "Batch 0\n",
      "train loss: 0.1393 [0/27652]\n",
      "Finished with batches...\n",
      "Finished with one full epoch...\n",
      "Finished all batches in validation...\n",
      "Finished with calculating metrics...\n",
      "Epoch 1911\n",
      "---------------\n",
      "Batch 0\n",
      "train loss: 0.1372 [0/27652]\n",
      "Finished with batches...\n",
      "Finished with one full epoch...\n",
      "Finished all batches in validation...\n",
      "Finished with calculating metrics...\n",
      "Epoch 1912\n",
      "---------------\n"
     ]
    },
    {
     "name": "stderr",
     "output_type": "stream",
     "text": [
      "/home/yang1641/.local/lib/python3.8/site-packages/sklearn/metrics/_ranking.py:980: UserWarning: No positive class found in y_true, recall is set to one for all thresholds.\n",
      "  warnings.warn(\n"
     ]
    },
    {
     "name": "stdout",
     "output_type": "stream",
     "text": [
      "Batch 0\n",
      "train loss: 0.1391 [0/27652]\n",
      "Finished with batches...\n",
      "Finished with one full epoch...\n",
      "Finished all batches in validation...\n",
      "Finished with calculating metrics...\n",
      "Epoch 1913\n",
      "---------------\n"
     ]
    },
    {
     "name": "stderr",
     "output_type": "stream",
     "text": [
      "/home/yang1641/.local/lib/python3.8/site-packages/sklearn/metrics/_ranking.py:980: UserWarning: No positive class found in y_true, recall is set to one for all thresholds.\n",
      "  warnings.warn(\n"
     ]
    },
    {
     "name": "stdout",
     "output_type": "stream",
     "text": [
      "Batch 0\n",
      "train loss: 0.1395 [0/27652]\n",
      "Finished with batches...\n",
      "Finished with one full epoch...\n"
     ]
    }
   ],
   "source": [
    "# Run model\n",
    "data_split_path = args.data_split_path + \".json\"\n",
    "positive_proportion_train, positive_proportion_test, auroc_scores, ap_scores = run_finetune(embed, celltype_dict, celltype_protein_dict, positive_proteins, negative_proteins, data_split_path, random_state, models_output_dir, args.embed, hparams, args.batch_size, args.num_epoch, args.train_size, args.val_size, args.weigh_sample, args.weigh_loss)"
   ]
  },
  {
   "cell_type": "code",
   "execution_count": 35,
   "id": "83eceb53",
   "metadata": {},
   "outputs": [
    {
     "name": "stdout",
     "output_type": "stream",
     "text": [
      "Finished evaluation, generating plots...\n",
      "\n"
     ]
    }
   ],
   "source": [
    "# Generate outputs and plots\n",
    "print(\"Finished evaluation, generating plots...\\n\")\n",
    "output_results_path = os.path.join(metrics_output_dir, f\"{args.embed}_{args.task_name}_results.csv\")"
   ]
  },
  {
   "cell_type": "code",
   "execution_count": 36,
   "id": "5e12805b",
   "metadata": {},
   "outputs": [
    {
     "data": {
      "text/plain": [
       "'/scratch/gilbreth/yang1641/exome/results/pinnacle/reproduce/epoch250/tmp_evaluation_resultstry1_seed=1/try1_EFO_0000685_results.csv'"
      ]
     },
     "execution_count": 36,
     "metadata": {},
     "output_type": "execute_result"
    }
   ],
   "source": [
    "output_results_path"
   ]
  },
  {
   "cell_type": "code",
   "execution_count": 37,
   "id": "93e4e019",
   "metadata": {},
   "outputs": [],
   "source": [
    "output_figs_path = os.path.join(metrics_output_dir, f\"{args.embed}_{args.task_name}_\")"
   ]
  },
  {
   "cell_type": "code",
   "execution_count": 38,
   "id": "2b46daf2",
   "metadata": {},
   "outputs": [
    {
     "name": "stdout",
     "output_type": "stream",
     "text": [
      "\n",
      "Results output to -> /scratch/gilbreth/yang1641/exome/results/pinnacle/reproduce/epoch250/tmp_evaluation_resultstry1_seed=1/try1_EFO_0000685_results.csv\n"
     ]
    }
   ],
   "source": [
    "save_results(output_results_path, ap_scores, auroc_scores)"
   ]
  },
  {
   "cell_type": "code",
   "execution_count": 43,
   "id": "6a849210",
   "metadata": {},
   "outputs": [
    {
     "data": {
      "text/plain": [
       "dict"
      ]
     },
     "execution_count": 43,
     "metadata": {},
     "output_type": "execute_result"
    }
   ],
   "source": [
    "type(auroc_scores)"
   ]
  },
  {
   "cell_type": "code",
   "execution_count": 44,
   "id": "5edb4a75",
   "metadata": {},
   "outputs": [
    {
     "data": {
      "text/plain": [
       "'/scratch/gilbreth/yang1641/exome/results/pinnacle/reproduce/epoch250/tmp_evaluation_resultstry1_seed=1/try1_EFO_0000685_results.csv'"
      ]
     },
     "execution_count": 44,
     "metadata": {},
     "output_type": "execute_result"
    }
   ],
   "source": [
    "output_results_path"
   ]
  },
  {
   "cell_type": "code",
   "execution_count": 55,
   "id": "777d7ccd",
   "metadata": {},
   "outputs": [
    {
     "data": {
      "text/html": [
       "<div>\n",
       "<style scoped>\n",
       "    .dataframe tbody tr th:only-of-type {\n",
       "        vertical-align: middle;\n",
       "    }\n",
       "\n",
       "    .dataframe tbody tr th {\n",
       "        vertical-align: top;\n",
       "    }\n",
       "\n",
       "    .dataframe thead th {\n",
       "        text-align: right;\n",
       "    }\n",
       "</style>\n",
       "<table border=\"1\" class=\"dataframe\">\n",
       "  <thead>\n",
       "    <tr style=\"text-align: right;\">\n",
       "      <th></th>\n",
       "      <th>cell</th>\n",
       "      <th>ap</th>\n",
       "    </tr>\n",
       "  </thead>\n",
       "  <tbody>\n",
       "    <tr>\n",
       "      <th>0</th>\n",
       "      <td>acinar cell of salivary gland</td>\n",
       "      <td>0.101429</td>\n",
       "    </tr>\n",
       "    <tr>\n",
       "      <th>1</th>\n",
       "      <td>adipocyte</td>\n",
       "      <td>0.141450</td>\n",
       "    </tr>\n",
       "    <tr>\n",
       "      <th>2</th>\n",
       "      <td>adventitial cell</td>\n",
       "      <td>0.061330</td>\n",
       "    </tr>\n",
       "    <tr>\n",
       "      <th>3</th>\n",
       "      <td>alveolar fibroblast</td>\n",
       "      <td>0.080517</td>\n",
       "    </tr>\n",
       "    <tr>\n",
       "      <th>4</th>\n",
       "      <td>artery endothelial cell</td>\n",
       "      <td>0.098963</td>\n",
       "    </tr>\n",
       "    <tr>\n",
       "      <th>...</th>\n",
       "      <td>...</td>\n",
       "      <td>...</td>\n",
       "    </tr>\n",
       "    <tr>\n",
       "      <th>151</th>\n",
       "      <td>type i nk t cell</td>\n",
       "      <td>0.345280</td>\n",
       "    </tr>\n",
       "    <tr>\n",
       "      <th>152</th>\n",
       "      <td>type i pneumocyte</td>\n",
       "      <td>0.078954</td>\n",
       "    </tr>\n",
       "    <tr>\n",
       "      <th>153</th>\n",
       "      <td>type ii pneumocyte</td>\n",
       "      <td>0.073679</td>\n",
       "    </tr>\n",
       "    <tr>\n",
       "      <th>154</th>\n",
       "      <td>vascular associated smooth muscle cell</td>\n",
       "      <td>0.097725</td>\n",
       "    </tr>\n",
       "    <tr>\n",
       "      <th>155</th>\n",
       "      <td>vein endothelial cell</td>\n",
       "      <td>0.120341</td>\n",
       "    </tr>\n",
       "  </tbody>\n",
       "</table>\n",
       "<p>156 rows × 2 columns</p>\n",
       "</div>"
      ],
      "text/plain": [
       "                                       cell        ap\n",
       "0             acinar cell of salivary gland  0.101429\n",
       "1                                 adipocyte  0.141450\n",
       "2                          adventitial cell  0.061330\n",
       "3                       alveolar fibroblast  0.080517\n",
       "4                   artery endothelial cell  0.098963\n",
       "..                                      ...       ...\n",
       "151                        type i nk t cell  0.345280\n",
       "152                       type i pneumocyte  0.078954\n",
       "153                      type ii pneumocyte  0.073679\n",
       "154  vascular associated smooth muscle cell  0.097725\n",
       "155                   vein endothelial cell  0.120341\n",
       "\n",
       "[156 rows x 2 columns]"
      ]
     },
     "execution_count": 55,
     "metadata": {},
     "output_type": "execute_result"
    }
   ],
   "source": [
    "ap_scores_df = pd.DataFrame(list(ap_scores.items()), columns=['cell', 'ap'])\n",
    "ap_scores_df"
   ]
  },
  {
   "cell_type": "code",
   "execution_count": 56,
   "id": "88d89701",
   "metadata": {},
   "outputs": [
    {
     "data": {
      "text/html": [
       "<div>\n",
       "<style scoped>\n",
       "    .dataframe tbody tr th:only-of-type {\n",
       "        vertical-align: middle;\n",
       "    }\n",
       "\n",
       "    .dataframe tbody tr th {\n",
       "        vertical-align: top;\n",
       "    }\n",
       "\n",
       "    .dataframe thead th {\n",
       "        text-align: right;\n",
       "    }\n",
       "</style>\n",
       "<table border=\"1\" class=\"dataframe\">\n",
       "  <thead>\n",
       "    <tr style=\"text-align: right;\">\n",
       "      <th></th>\n",
       "      <th>cell</th>\n",
       "      <th>auroc</th>\n",
       "    </tr>\n",
       "  </thead>\n",
       "  <tbody>\n",
       "    <tr>\n",
       "      <th>0</th>\n",
       "      <td>acinar cell of salivary gland</td>\n",
       "      <td>0.644681</td>\n",
       "    </tr>\n",
       "    <tr>\n",
       "      <th>1</th>\n",
       "      <td>adipocyte</td>\n",
       "      <td>0.458564</td>\n",
       "    </tr>\n",
       "    <tr>\n",
       "      <th>2</th>\n",
       "      <td>adventitial cell</td>\n",
       "      <td>0.452073</td>\n",
       "    </tr>\n",
       "    <tr>\n",
       "      <th>3</th>\n",
       "      <td>alveolar fibroblast</td>\n",
       "      <td>0.428571</td>\n",
       "    </tr>\n",
       "    <tr>\n",
       "      <th>4</th>\n",
       "      <td>artery endothelial cell</td>\n",
       "      <td>0.563008</td>\n",
       "    </tr>\n",
       "    <tr>\n",
       "      <th>...</th>\n",
       "      <td>...</td>\n",
       "      <td>...</td>\n",
       "    </tr>\n",
       "    <tr>\n",
       "      <th>151</th>\n",
       "      <td>type i nk t cell</td>\n",
       "      <td>0.523452</td>\n",
       "    </tr>\n",
       "    <tr>\n",
       "      <th>152</th>\n",
       "      <td>type i pneumocyte</td>\n",
       "      <td>0.490977</td>\n",
       "    </tr>\n",
       "    <tr>\n",
       "      <th>153</th>\n",
       "      <td>type ii pneumocyte</td>\n",
       "      <td>0.580452</td>\n",
       "    </tr>\n",
       "    <tr>\n",
       "      <th>154</th>\n",
       "      <td>vascular associated smooth muscle cell</td>\n",
       "      <td>0.431563</td>\n",
       "    </tr>\n",
       "    <tr>\n",
       "      <th>155</th>\n",
       "      <td>vein endothelial cell</td>\n",
       "      <td>0.513468</td>\n",
       "    </tr>\n",
       "  </tbody>\n",
       "</table>\n",
       "<p>156 rows × 2 columns</p>\n",
       "</div>"
      ],
      "text/plain": [
       "                                       cell     auroc\n",
       "0             acinar cell of salivary gland  0.644681\n",
       "1                                 adipocyte  0.458564\n",
       "2                          adventitial cell  0.452073\n",
       "3                       alveolar fibroblast  0.428571\n",
       "4                   artery endothelial cell  0.563008\n",
       "..                                      ...       ...\n",
       "151                        type i nk t cell  0.523452\n",
       "152                       type i pneumocyte  0.490977\n",
       "153                      type ii pneumocyte  0.580452\n",
       "154  vascular associated smooth muscle cell  0.431563\n",
       "155                   vein endothelial cell  0.513468\n",
       "\n",
       "[156 rows x 2 columns]"
      ]
     },
     "execution_count": 56,
     "metadata": {},
     "output_type": "execute_result"
    }
   ],
   "source": [
    "auroc_scores_df = pd.DataFrame(list(auroc_scores.items()), columns=['cell', 'auroc'])\n",
    "auroc_scores_df"
   ]
  },
  {
   "cell_type": "code",
   "execution_count": 62,
   "id": "e35d28f2",
   "metadata": {},
   "outputs": [
    {
     "data": {
      "text/html": [
       "<div>\n",
       "<style scoped>\n",
       "    .dataframe tbody tr th:only-of-type {\n",
       "        vertical-align: middle;\n",
       "    }\n",
       "\n",
       "    .dataframe tbody tr th {\n",
       "        vertical-align: top;\n",
       "    }\n",
       "\n",
       "    .dataframe thead th {\n",
       "        text-align: right;\n",
       "    }\n",
       "</style>\n",
       "<table border=\"1\" class=\"dataframe\">\n",
       "  <thead>\n",
       "    <tr style=\"text-align: right;\">\n",
       "      <th></th>\n",
       "      <th>cell</th>\n",
       "      <th>ap</th>\n",
       "      <th>auroc</th>\n",
       "    </tr>\n",
       "  </thead>\n",
       "  <tbody>\n",
       "    <tr>\n",
       "      <th>0</th>\n",
       "      <td>acinar cell of salivary gland</td>\n",
       "      <td>0.101429</td>\n",
       "      <td>0.644681</td>\n",
       "    </tr>\n",
       "    <tr>\n",
       "      <th>1</th>\n",
       "      <td>adipocyte</td>\n",
       "      <td>0.141450</td>\n",
       "      <td>0.458564</td>\n",
       "    </tr>\n",
       "    <tr>\n",
       "      <th>2</th>\n",
       "      <td>adventitial cell</td>\n",
       "      <td>0.061330</td>\n",
       "      <td>0.452073</td>\n",
       "    </tr>\n",
       "    <tr>\n",
       "      <th>3</th>\n",
       "      <td>alveolar fibroblast</td>\n",
       "      <td>0.080517</td>\n",
       "      <td>0.428571</td>\n",
       "    </tr>\n",
       "    <tr>\n",
       "      <th>4</th>\n",
       "      <td>artery endothelial cell</td>\n",
       "      <td>0.098963</td>\n",
       "      <td>0.563008</td>\n",
       "    </tr>\n",
       "    <tr>\n",
       "      <th>...</th>\n",
       "      <td>...</td>\n",
       "      <td>...</td>\n",
       "      <td>...</td>\n",
       "    </tr>\n",
       "    <tr>\n",
       "      <th>151</th>\n",
       "      <td>type i nk t cell</td>\n",
       "      <td>0.345280</td>\n",
       "      <td>0.523452</td>\n",
       "    </tr>\n",
       "    <tr>\n",
       "      <th>152</th>\n",
       "      <td>type i pneumocyte</td>\n",
       "      <td>0.078954</td>\n",
       "      <td>0.490977</td>\n",
       "    </tr>\n",
       "    <tr>\n",
       "      <th>153</th>\n",
       "      <td>type ii pneumocyte</td>\n",
       "      <td>0.073679</td>\n",
       "      <td>0.580452</td>\n",
       "    </tr>\n",
       "    <tr>\n",
       "      <th>154</th>\n",
       "      <td>vascular associated smooth muscle cell</td>\n",
       "      <td>0.097725</td>\n",
       "      <td>0.431563</td>\n",
       "    </tr>\n",
       "    <tr>\n",
       "      <th>155</th>\n",
       "      <td>vein endothelial cell</td>\n",
       "      <td>0.120341</td>\n",
       "      <td>0.513468</td>\n",
       "    </tr>\n",
       "  </tbody>\n",
       "</table>\n",
       "<p>156 rows × 3 columns</p>\n",
       "</div>"
      ],
      "text/plain": [
       "                                       cell        ap     auroc\n",
       "0             acinar cell of salivary gland  0.101429  0.644681\n",
       "1                                 adipocyte  0.141450  0.458564\n",
       "2                          adventitial cell  0.061330  0.452073\n",
       "3                       alveolar fibroblast  0.080517  0.428571\n",
       "4                   artery endothelial cell  0.098963  0.563008\n",
       "..                                      ...       ...       ...\n",
       "151                        type i nk t cell  0.345280  0.523452\n",
       "152                       type i pneumocyte  0.078954  0.490977\n",
       "153                      type ii pneumocyte  0.073679  0.580452\n",
       "154  vascular associated smooth muscle cell  0.097725  0.431563\n",
       "155                   vein endothelial cell  0.120341  0.513468\n",
       "\n",
       "[156 rows x 3 columns]"
      ]
     },
     "execution_count": 62,
     "metadata": {},
     "output_type": "execute_result"
    }
   ],
   "source": [
    "ap_auroc_df = pd.merge(ap_scores_df, auroc_scores_df)\n",
    "ap_auroc_df"
   ]
  },
  {
   "cell_type": "code",
   "execution_count": 63,
   "id": "4fcdd53d",
   "metadata": {},
   "outputs": [],
   "source": [
    "ap_auroc_df.to_csv(output_results_path, index=False)"
   ]
  },
  {
   "cell_type": "markdown",
   "id": "4867746f",
   "metadata": {},
   "source": [
    "# compare with results with author's results"
   ]
  },
  {
   "cell_type": "markdown",
   "id": "613a6983",
   "metadata": {},
   "source": [
    "### Using my embeds (trained with context ai code)\n",
    "\n",
    "/scratch/gilbreth/yang1641/exome/results/pinnacle/reproduce/epoch250/tmp_evaluation_resultstry1_seed=1/try1_EFO_0000685_results.csv"
   ]
  },
  {
   "cell_type": "markdown",
   "id": "6d4e58f0",
   "metadata": {},
   "source": [
    "### using downloaded embeds (trained by author)\n",
    "\n",
    "/home/yang1641/PINNACLE/finetune_pinnacle/tmp_evaluation_results/pinnacle_seed=1/pinnacle_EFO_0000685_results.csv"
   ]
  },
  {
   "cell_type": "code",
   "execution_count": 7,
   "id": "847dc254",
   "metadata": {},
   "outputs": [
    {
     "data": {
      "text/html": [
       "<div>\n",
       "<style scoped>\n",
       "    .dataframe tbody tr th:only-of-type {\n",
       "        vertical-align: middle;\n",
       "    }\n",
       "\n",
       "    .dataframe tbody tr th {\n",
       "        vertical-align: top;\n",
       "    }\n",
       "\n",
       "    .dataframe thead th {\n",
       "        text-align: right;\n",
       "    }\n",
       "</style>\n",
       "<table border=\"1\" class=\"dataframe\">\n",
       "  <thead>\n",
       "    <tr style=\"text-align: right;\">\n",
       "      <th></th>\n",
       "      <th>cell</th>\n",
       "      <th>ap</th>\n",
       "      <th>auroc</th>\n",
       "    </tr>\n",
       "  </thead>\n",
       "  <tbody>\n",
       "    <tr>\n",
       "      <th>0</th>\n",
       "      <td>acinar cell of salivary gland</td>\n",
       "      <td>0.101429</td>\n",
       "      <td>0.644681</td>\n",
       "    </tr>\n",
       "    <tr>\n",
       "      <th>1</th>\n",
       "      <td>adipocyte</td>\n",
       "      <td>0.141450</td>\n",
       "      <td>0.458564</td>\n",
       "    </tr>\n",
       "    <tr>\n",
       "      <th>2</th>\n",
       "      <td>adventitial cell</td>\n",
       "      <td>0.061330</td>\n",
       "      <td>0.452073</td>\n",
       "    </tr>\n",
       "    <tr>\n",
       "      <th>3</th>\n",
       "      <td>alveolar fibroblast</td>\n",
       "      <td>0.080517</td>\n",
       "      <td>0.428571</td>\n",
       "    </tr>\n",
       "    <tr>\n",
       "      <th>4</th>\n",
       "      <td>artery endothelial cell</td>\n",
       "      <td>0.098963</td>\n",
       "      <td>0.563008</td>\n",
       "    </tr>\n",
       "    <tr>\n",
       "      <th>...</th>\n",
       "      <td>...</td>\n",
       "      <td>...</td>\n",
       "      <td>...</td>\n",
       "    </tr>\n",
       "    <tr>\n",
       "      <th>151</th>\n",
       "      <td>type i nk t cell</td>\n",
       "      <td>0.345280</td>\n",
       "      <td>0.523452</td>\n",
       "    </tr>\n",
       "    <tr>\n",
       "      <th>152</th>\n",
       "      <td>type i pneumocyte</td>\n",
       "      <td>0.078954</td>\n",
       "      <td>0.490977</td>\n",
       "    </tr>\n",
       "    <tr>\n",
       "      <th>153</th>\n",
       "      <td>type ii pneumocyte</td>\n",
       "      <td>0.073679</td>\n",
       "      <td>0.580452</td>\n",
       "    </tr>\n",
       "    <tr>\n",
       "      <th>154</th>\n",
       "      <td>vascular associated smooth muscle cell</td>\n",
       "      <td>0.097725</td>\n",
       "      <td>0.431563</td>\n",
       "    </tr>\n",
       "    <tr>\n",
       "      <th>155</th>\n",
       "      <td>vein endothelial cell</td>\n",
       "      <td>0.120341</td>\n",
       "      <td>0.513468</td>\n",
       "    </tr>\n",
       "  </tbody>\n",
       "</table>\n",
       "<p>156 rows × 3 columns</p>\n",
       "</div>"
      ],
      "text/plain": [
       "                                       cell        ap     auroc\n",
       "0             acinar cell of salivary gland  0.101429  0.644681\n",
       "1                                 adipocyte  0.141450  0.458564\n",
       "2                          adventitial cell  0.061330  0.452073\n",
       "3                       alveolar fibroblast  0.080517  0.428571\n",
       "4                   artery endothelial cell  0.098963  0.563008\n",
       "..                                      ...       ...       ...\n",
       "151                        type i nk t cell  0.345280  0.523452\n",
       "152                       type i pneumocyte  0.078954  0.490977\n",
       "153                      type ii pneumocyte  0.073679  0.580452\n",
       "154  vascular associated smooth muscle cell  0.097725  0.431563\n",
       "155                   vein endothelial cell  0.120341  0.513468\n",
       "\n",
       "[156 rows x 3 columns]"
      ]
     },
     "execution_count": 7,
     "metadata": {},
     "output_type": "execute_result"
    }
   ],
   "source": [
    "# my results\n",
    "output_results_path = '/scratch/gilbreth/yang1641/exome/results/pinnacle/reproduce/epoch250/tmp_evaluation_resultstry1_seed=1/try1_EFO_0000685_results.csv'\n",
    "ap_auroc_df = pd.read_csv(output_results_path)\n",
    "ap_auroc_df"
   ]
  },
  {
   "cell_type": "code",
   "execution_count": 8,
   "id": "fe76cf46",
   "metadata": {},
   "outputs": [
    {
     "name": "stdout",
     "output_type": "stream",
     "text": [
      "{'ap': {'acinar cell of salivary gland': 0.07922978501249531, 'adipocyte': 0.09569944787246926, 'adventitial cell': 0.09110165962135397, 'alveolar fibroblast': 0.09462643517126071, 'artery endothelial cell': 0.11948262216862576, 'b cell': 0.2724760082844939, 'basal cell': 0.050695432363747295, 'basal cell of prostate epithelium': 0.027768981392562692, 'bladder urothelial cell': 0.06515405037331909, 'bronchial smooth muscle cell': 0.1094375763125763, 'bronchial vessel endothelial cell': 0.0978795682105872, 'capillary endothelial cell': 0.255802879060283, 'cardiac endothelial cell': 0.24193097998324498, 'cardiac muscle cell': 0.0894023691370672, 'cd141-positive myeloid dendritic cell': 0.13680189246222826, 'cd1c-positive myeloid dendritic cell': 0.1834783426975137, 'cd24 neutrophil': 0.11761122368352624, 'cd4-positive helper t cell': 0.3166272105484108, 'cd4-positive, alpha-beta memory t cell': 0.19858140713625272, 'cd8-positive, alpha-beta cytokine secreting effector t cell': 0.3327259594427984, 'cd8-positive, alpha-beta cytotoxic t cell': 0.22697050772818664, 'cell of skeletal muscle': 0.09866638168759809, 'ciliary body': 0.05729399395709359, 'ciliated cell': 0.06382335953880372, 'ciliated epithelial cell': 0.09443843550411236, 'classical monocyte': 0.13331116800584641, 'club cell': 0.10865634618754944, 'club cell of prostate epithelium': 0.038662846437921186, 'conjunctival epithelial cell': 0.05037120695291567, 'connective tissue cell': 0.13092413706047082, 'corneal epithelial cell': 0.09278099824129826, 'corneal keratocyte': 0.043786495678192164, 'dendritic cell': 0.1515220036185876, 'dn1 thymic pro-t cell': 0.2032190048401382, 'dn3 thymocyte': 0.1522831292888233, 'dn4 thymocyte': 0.169533955653344, 'double-positive, alpha-beta thymocyte': 0.13688862252180578, 'duct epithelial cell': 0.049836720932908904, 'duodenum glandular cell': 0.057947861054304814, 'endothelial cell': 0.0966374776598044, 'endothelial cell of artery': 0.20102146087391695, 'endothelial cell of hepatic sinusoid': 0.11346327584018953, 'endothelial cell of lymphatic vessel': 0.0823470445477778, 'endothelial cell of vascular tree': 0.0861781230107104, 'enterocyte of epithelium of large intestine': 0.14372261287834026, 'enterocyte of epithelium of small intestine': 0.11046725053727846, 'epithelial cell': 0.06240847320469464, 'epithelial cell of lacrimal sac': 0.10593620262244399, 'epithelial cell of uterus': 0.10874620021182485, 'erythroid progenitor': 0.13150705819924272, 'eye photoreceptor cell': 0.14110292851318754, 'fast muscle cell': 0.04676291191629306, 'fibroblast': 0.0810756718488824, 'fibroblast of breast': 0.1113315019702739, 'fibroblast of cardiac tissue': 0.20235495087847621, 'goblet cell': 0.04554413350943083, 'granulocyte': 0.14471763267956805, 'gut endothelial cell': 0.13327852065087897, 'hematopoietic stem cell': 0.14344984468928557, 'hepatocyte': 0.060172249246562115, 'hillock cell of prostate epithelium': 0.09309018421793566, 'hillock-club cell of prostate epithelium': 0.08318762007346346, 'immature enterocyte': 0.07055128395089455, 'immature natural killer cell': 0.12825779076514926, 'immune cell': 0.19924106767469169, 'intermediate monocyte': 0.14672210014652265, 'intestinal crypt stem cell': 0.0864857307004036, 'intestinal crypt stem cell of large intestine': 0.17022237208258206, 'intestinal crypt stem cell of small intestine': 0.05087273443531096, 'intestinal enteroendocrine cell': 0.1510710826855213, 'intestinal tuft cell': 0.09529241010485681, 'intrahepatic cholangiocyte': 0.05842836270592435, 'ionocyte': 0.08450346066956857, 'keratinocyte': 0.08706979896411926, 'kidney epithelial cell': 0.09655551832271374, 'lacrimal gland functional unit cell': 0.19828112445291524, 'langerhans cell': 0.13965908951467731, 'large intestine goblet cell': 0.08512527067022696, 'limbal stem cell': 0.0843819604528469, 'limbal stromal cell': 0.06655442475999465, 'liver dendritic cell': 0.15548363034841628, 'luminal cell of prostate epithelium': 0.06803856017515517, 'luminal epithelial cell of mammary gland': 0.053156189315607685, 'lung ciliated cell': 0.13480732068935314, 'lung microvascular endothelial cell': 0.10053912867939825, 'lymphatic endothelial cell': 0.0854102092378005, 'macrophage': 0.17783432027362, 'mature conventional dendritic cell': 0.17297277774122063, 'mature enterocyte': 0.09025538525553436, 'mature nk t cell': 0.296761898559302, 'medullary thymic epithelial cell': 0.13432931646443955, 'melanocyte': 0.08347912537394225, 'memory b cell': 0.13614597270428402, 'mesenchymal stem cell': 0.1288372971076828, 'mesothelial cell': 0.06334553093923506, 'microglial cell': 0.22256712582056995, 'monocyte': 0.12560984688352922, 'mucus secreting cell': 0.05816525247611723, 'muller cell': 0.1779805106865989, 'muscle cell': 0.1214616723686783, 'myeloid cell': 0.1289755060665423, 'myeloid dendritic cell': 0.15412681503260836, 'myeloid progenitor': 0.1343953952864438, 'myoepithelial cell': 0.07633182027795538, 'myofibroblast cell': 0.08149209565997587, 'myometrial cell': 0.13112630633080263, 'naive regulatory t cell': 0.18519805041739199, 'naive thymus-derived cd4-positive, alpha-beta t cell': 0.19517630646629822, 'nampt neutrophil': 0.18886307082042442, 'nk cell': 0.17956292451840858, 'non-classical monocyte': 0.20946195790871106, 'ocular surface cell': 0.1793989783395924, 'pancreatic acinar cell': 0.04893332333309563, 'pancreatic alpha cell': 0.08260737092481987, 'pancreatic beta cell': 0.049336655718159796, 'pancreatic delta cell': 0.08441998464850972, 'pancreatic ductal cell': 0.04836517880854536, 'pancreatic pp cell': 0.08081581305965405, 'pancreatic stellate cell': 0.0856517382464714, 'paneth cell of epithelium of large intestine': 0.21615765897560127, 'paneth cell of epithelium of small intestine': 0.04944790959951197, 'pericyte cell': 0.09987192387658783, 'plasma cell': 0.12820711178165245, 'plasmablast': 0.12168351228690755, 'plasmacytoid dendritic cell': 0.24721844535221504, 'pulmonary ionocyte': 0.12463544095592313, 'radial glial cell': 0.07512271931384516, 'regulatory t cell': 0.24671305601396248, 'respiratory goblet cell': 0.04231938951033869, 'respiratory mucous cell': 0.10971182367364672, 'retina horizontal cell': 0.08883038058295036, 'retinal bipolar neuron': 0.11823873329953058, 'retinal blood vessel endothelial cell': 0.09256659142684434, 'retinal ganglion cell': 0.15634105613808863, 'retinal pigment epithelial cell': 0.026476685232739678, 'salivary gland cell': 0.10783629665000163, 'schwann cell': 0.08461384370806664, 'secretory cell': 0.08008393922224438, 'serous cell of epithelium of bronchus': 0.06555236455113403, 'serous cell of epithelium of trachea': 0.11845217655145845, 'skeletal muscle satellite stem cell': 0.11295166535583191, 'small intestine goblet cell': 0.27529577944549355, 'smooth muscle cell': 0.07630545482873663, 'sperm': 0.1466665366891494, 'stromal cell': 0.09691704009244598, 't follicular helper cell': 0.18846824243702182, 'tendon cell': 0.06421273937196396, 'tongue muscle cell': 0.10837337392209953, 'tracheal goblet cell': 0.09911379897974729, 'transit amplifying cell of large intestine': 0.11749445589117152, 'transit amplifying cell of small intestine': 0.11210119326569935, 'type i nk t cell': 0.28712263443902203, 'type i pneumocyte': 0.09927064810652782, 'type ii pneumocyte': 0.10354385194373397, 'vascular associated smooth muscle cell': 0.23580787162980196, 'vein endothelial cell': 0.09643740827314677}, 'auroc': {'acinar cell of salivary gland': 0.450354609929078, 'adipocyte': 0.5901557006529382, 'adventitial cell': 0.5604490500863558, 'alveolar fibroblast': 0.5170807453416149, 'artery endothelial cell': 0.5777439024390243, 'b cell': 0.5208333333333333, 'basal cell': 0.3865194211728865, 'basal cell of prostate epithelium': 0.24876847290640391, 'bladder urothelial cell': 0.5105893186003683, 'bronchial smooth muscle cell': 0.6182065217391304, 'bronchial vessel endothelial cell': 0.5141093474426808, 'capillary endothelial cell': 0.5380952380952381, 'cardiac endothelial cell': 0.6778280542986426, 'cardiac muscle cell': 0.5688512518409425, 'cd141-positive myeloid dendritic cell': 0.5039932744850778, 'cd1c-positive myeloid dendritic cell': 0.575268817204301, 'cd24 neutrophil': 0.4639423076923077, 'cd4-positive helper t cell': 0.5529661016949153, 'cd4-positive, alpha-beta memory t cell': 0.43, 'cd8-positive, alpha-beta cytokine secreting effector t cell': 0.497431506849315, 'cd8-positive, alpha-beta cytotoxic t cell': 0.4604166666666667, 'cell of skeletal muscle': 0.42234219269102996, 'ciliary body': 0.41986947063089197, 'ciliated cell': 0.5266524520255863, 'ciliated epithelial cell': 0.4392191659272404, 'classical monocyte': 0.4689189189189189, 'club cell': 0.5728848114169215, 'club cell of prostate epithelium': 0.3172268907563025, 'conjunctival epithelial cell': 0.45549242424242425, 'connective tissue cell': 0.6523972602739726, 'corneal epithelial cell': 0.5045986622073578, 'corneal keratocyte': 0.3558282208588957, 'dendritic cell': 0.43489583333333337, 'dn1 thymic pro-t cell': 0.4884615384615384, 'dn3 thymocyte': 0.419457735247209, 'dn4 thymocyte': 0.5833333333333334, 'double-positive, alpha-beta thymocyte': 0.5024325519681556, 'duct epithelial cell': 0.41975308641975306, 'duodenum glandular cell': 0.5628571428571428, 'endothelial cell': 0.46684151367553395, 'endothelial cell of artery': 0.6516129032258065, 'endothelial cell of hepatic sinusoid': 0.6226666666666667, 'endothelial cell of lymphatic vessel': 0.4262096774193548, 'endothelial cell of vascular tree': 0.42020089285714285, 'enterocyte of epithelium of large intestine': 0.586764705882353, 'enterocyte of epithelium of small intestine': 0.465080971659919, 'epithelial cell': 0.5347892331132555, 'epithelial cell of lacrimal sac': 0.5022321428571428, 'epithelial cell of uterus': 0.5964285714285714, 'erythroid progenitor': 0.488944099378882, 'eye photoreceptor cell': 0.629, 'fast muscle cell': 0.2753623188405797, 'fibroblast': 0.5487972508591065, 'fibroblast of breast': 0.5206237424547284, 'fibroblast of cardiac tissue': 0.48411016949152547, 'goblet cell': 0.3435185185185185, 'granulocyte': 0.5334353146853147, 'gut endothelial cell': 0.42186571598336303, 'hematopoietic stem cell': 0.45473684210526316, 'hepatocyte': 0.4322089947089947, 'hillock cell of prostate epithelium': 0.6190476190476191, 'hillock-club cell of prostate epithelium': 0.4980891719745223, 'immature enterocyte': 0.5247252747252747, 'immature natural killer cell': 0.40909090909090906, 'immune cell': 0.5222222222222223, 'intermediate monocyte': 0.5228892543859649, 'intestinal crypt stem cell': 0.5357264957264958, 'intestinal crypt stem cell of large intestine': 0.4628571428571429, 'intestinal crypt stem cell of small intestine': 0.4553756745537567, 'intestinal enteroendocrine cell': 0.6812957157784745, 'intestinal tuft cell': 0.35238987816307404, 'intrahepatic cholangiocyte': 0.5, 'ionocyte': 0.5437212360289283, 'keratinocyte': 0.5721464465183058, 'kidney epithelial cell': 0.5070104025327906, 'lacrimal gland functional unit cell': 0.6817204301075268, 'langerhans cell': 0.4802197802197802, 'large intestine goblet cell': 0.32007575757575757, 'limbal stem cell': 0.5955274671852212, 'limbal stromal cell': 0.5742894056847545, 'liver dendritic cell': 0.5193899782135076, 'luminal cell of prostate epithelium': 0.5336257309941521, 'luminal epithelial cell of mammary gland': 0.45681818181818185, 'lung ciliated cell': 0.7057569296375266, 'lung microvascular endothelial cell': 0.3685185185185185, 'lymphatic endothelial cell': 0.46565315315315314, 'macrophage': 0.5904999999999999, 'mature conventional dendritic cell': 0.5197101449275362, 'mature enterocyte': 0.4010989010989011, 'mature nk t cell': 0.6010416666666667, 'medullary thymic epithelial cell': 0.6503289473684211, 'melanocyte': 0.507890365448505, 'memory b cell': 0.39961389961389965, 'mesenchymal stem cell': 0.5575129533678757, 'mesothelial cell': 0.44562334217506633, 'microglial cell': 0.5754761904761904, 'monocyte': 0.5335195530726257, 'mucus secreting cell': 0.5017253278122844, 'muller cell': 0.560665362035225, 'muscle cell': 0.45090439276485783, 'myeloid cell': 0.5491803278688525, 'myeloid dendritic cell': 0.5648547598504459, 'myeloid progenitor': 0.4722777222777223, 'myoepithelial cell': 0.4969262295081967, 'myofibroblast cell': 0.4183823529411764, 'myometrial cell': 0.5524647887323944, 'naive regulatory t cell': 0.4206689536878216, 'naive thymus-derived cd4-positive, alpha-beta t cell': 0.496, 'nampt neutrophil': 0.5165945165945166, 'nk cell': 0.4301470588235294, 'non-classical monocyte': 0.503968253968254, 'ocular surface cell': 0.5348154362416107, 'pancreatic acinar cell': 0.36451612903225805, 'pancreatic alpha cell': 0.47794117647058826, 'pancreatic beta cell': 0.3648542159180457, 'pancreatic delta cell': 0.6374321880650995, 'pancreatic ductal cell': 0.33333333333333337, 'pancreatic pp cell': 0.41818181818181815, 'pancreatic stellate cell': 0.42920054200542007, 'paneth cell of epithelium of large intestine': 0.668141592920354, 'paneth cell of epithelium of small intestine': 0.493, 'pericyte cell': 0.502020202020202, 'plasma cell': 0.5171477079796265, 'plasmablast': 0.5551710880430604, 'plasmacytoid dendritic cell': 0.5182724252491695, 'pulmonary ionocyte': 0.5399122807017543, 'radial glial cell': 0.4778085991678225, 'regulatory t cell': 0.5868983957219251, 'respiratory goblet cell': 0.36793478260869567, 'respiratory mucous cell': 0.573879142300195, 'retina horizontal cell': 0.3897018970189702, 'retinal bipolar neuron': 0.47777777777777775, 'retinal blood vessel endothelial cell': 0.43282498184458973, 'retinal ganglion cell': 0.7689393939393939, 'retinal pigment epithelial cell': 0.221505376344086, 'salivary gland cell': 0.49783549783549785, 'schwann cell': 0.5620354488279017, 'secretory cell': 0.4768041237113402, 'serous cell of epithelium of bronchus': 0.5316091954022988, 'serous cell of epithelium of trachea': 0.46357285429141715, 'skeletal muscle satellite stem cell': 0.5157967032967034, 'small intestine goblet cell': 0.6552083333333334, 'smooth muscle cell': 0.5689655172413793, 'sperm': 0.5186708860759494, 'stromal cell': 0.44993894993894995, 't follicular helper cell': 0.5775910364145659, 'tendon cell': 0.41298076923076926, 'tongue muscle cell': 0.5103785103785103, 'tracheal goblet cell': 0.6408730158730158, 'transit amplifying cell of large intestine': 0.5532514080901177, 'transit amplifying cell of small intestine': 0.7007447528774543, 'type i nk t cell': 0.5666041275797373, 'type i pneumocyte': 0.6486199575371551, 'type ii pneumocyte': 0.5494001411432604, 'vascular associated smooth muscle cell': 0.5890624999999999, 'vein endothelial cell': 0.3678451178451178}}\n"
     ]
    }
   ],
   "source": [
    "# author's results (using downloaded embeds)\n",
    "import json\n",
    "\n",
    "with open('/home/yang1641/PINNACLE/finetune_pinnacle/tmp_evaluation_results/pinnacle_seed=1/pinnacle_EFO_0000685_results.csv') as f:\n",
    "    d_author = json.load(f)\n",
    "    print(d_author)"
   ]
  },
  {
   "cell_type": "code",
   "execution_count": 9,
   "id": "79da0ebb",
   "metadata": {
    "scrolled": true
   },
   "outputs": [
    {
     "data": {
      "text/plain": [
       "dict"
      ]
     },
     "execution_count": 9,
     "metadata": {},
     "output_type": "execute_result"
    }
   ],
   "source": [
    "type(d_author)"
   ]
  },
  {
   "cell_type": "code",
   "execution_count": 10,
   "id": "df7367d8",
   "metadata": {},
   "outputs": [
    {
     "data": {
      "text/plain": [
       "2"
      ]
     },
     "execution_count": 10,
     "metadata": {},
     "output_type": "execute_result"
    }
   ],
   "source": [
    "len(d_author)"
   ]
  },
  {
   "cell_type": "code",
   "execution_count": 11,
   "id": "03865fc8",
   "metadata": {},
   "outputs": [
    {
     "data": {
      "text/plain": [
       "dict_keys(['ap', 'auroc'])"
      ]
     },
     "execution_count": 11,
     "metadata": {},
     "output_type": "execute_result"
    }
   ],
   "source": [
    "d_author.keys()"
   ]
  },
  {
   "cell_type": "code",
   "execution_count": 12,
   "id": "52ee766b",
   "metadata": {},
   "outputs": [],
   "source": [
    "ap_auroc_df_author = pd.merge(\n",
    "    pd.DataFrame(list(d_author['ap'].items()), columns=['cell', 'ap']), \n",
    "    pd.DataFrame(list(d_author['auroc'].items()), columns=['cell', 'auroc'])\n",
    ")"
   ]
  },
  {
   "cell_type": "code",
   "execution_count": 13,
   "id": "b13ae48b",
   "metadata": {},
   "outputs": [
    {
     "data": {
      "text/html": [
       "<div>\n",
       "<style scoped>\n",
       "    .dataframe tbody tr th:only-of-type {\n",
       "        vertical-align: middle;\n",
       "    }\n",
       "\n",
       "    .dataframe tbody tr th {\n",
       "        vertical-align: top;\n",
       "    }\n",
       "\n",
       "    .dataframe thead th {\n",
       "        text-align: right;\n",
       "    }\n",
       "</style>\n",
       "<table border=\"1\" class=\"dataframe\">\n",
       "  <thead>\n",
       "    <tr style=\"text-align: right;\">\n",
       "      <th></th>\n",
       "      <th>cell</th>\n",
       "      <th>ap</th>\n",
       "      <th>auroc</th>\n",
       "    </tr>\n",
       "  </thead>\n",
       "  <tbody>\n",
       "    <tr>\n",
       "      <th>0</th>\n",
       "      <td>acinar cell of salivary gland</td>\n",
       "      <td>0.079230</td>\n",
       "      <td>0.450355</td>\n",
       "    </tr>\n",
       "    <tr>\n",
       "      <th>1</th>\n",
       "      <td>adipocyte</td>\n",
       "      <td>0.095699</td>\n",
       "      <td>0.590156</td>\n",
       "    </tr>\n",
       "    <tr>\n",
       "      <th>2</th>\n",
       "      <td>adventitial cell</td>\n",
       "      <td>0.091102</td>\n",
       "      <td>0.560449</td>\n",
       "    </tr>\n",
       "    <tr>\n",
       "      <th>3</th>\n",
       "      <td>alveolar fibroblast</td>\n",
       "      <td>0.094626</td>\n",
       "      <td>0.517081</td>\n",
       "    </tr>\n",
       "    <tr>\n",
       "      <th>4</th>\n",
       "      <td>artery endothelial cell</td>\n",
       "      <td>0.119483</td>\n",
       "      <td>0.577744</td>\n",
       "    </tr>\n",
       "    <tr>\n",
       "      <th>...</th>\n",
       "      <td>...</td>\n",
       "      <td>...</td>\n",
       "      <td>...</td>\n",
       "    </tr>\n",
       "    <tr>\n",
       "      <th>151</th>\n",
       "      <td>type i nk t cell</td>\n",
       "      <td>0.287123</td>\n",
       "      <td>0.566604</td>\n",
       "    </tr>\n",
       "    <tr>\n",
       "      <th>152</th>\n",
       "      <td>type i pneumocyte</td>\n",
       "      <td>0.099271</td>\n",
       "      <td>0.648620</td>\n",
       "    </tr>\n",
       "    <tr>\n",
       "      <th>153</th>\n",
       "      <td>type ii pneumocyte</td>\n",
       "      <td>0.103544</td>\n",
       "      <td>0.549400</td>\n",
       "    </tr>\n",
       "    <tr>\n",
       "      <th>154</th>\n",
       "      <td>vascular associated smooth muscle cell</td>\n",
       "      <td>0.235808</td>\n",
       "      <td>0.589062</td>\n",
       "    </tr>\n",
       "    <tr>\n",
       "      <th>155</th>\n",
       "      <td>vein endothelial cell</td>\n",
       "      <td>0.096437</td>\n",
       "      <td>0.367845</td>\n",
       "    </tr>\n",
       "  </tbody>\n",
       "</table>\n",
       "<p>156 rows × 3 columns</p>\n",
       "</div>"
      ],
      "text/plain": [
       "                                       cell        ap     auroc\n",
       "0             acinar cell of salivary gland  0.079230  0.450355\n",
       "1                                 adipocyte  0.095699  0.590156\n",
       "2                          adventitial cell  0.091102  0.560449\n",
       "3                       alveolar fibroblast  0.094626  0.517081\n",
       "4                   artery endothelial cell  0.119483  0.577744\n",
       "..                                      ...       ...       ...\n",
       "151                        type i nk t cell  0.287123  0.566604\n",
       "152                       type i pneumocyte  0.099271  0.648620\n",
       "153                      type ii pneumocyte  0.103544  0.549400\n",
       "154  vascular associated smooth muscle cell  0.235808  0.589062\n",
       "155                   vein endothelial cell  0.096437  0.367845\n",
       "\n",
       "[156 rows x 3 columns]"
      ]
     },
     "execution_count": 13,
     "metadata": {},
     "output_type": "execute_result"
    }
   ],
   "source": [
    "ap_auroc_df_author"
   ]
  },
  {
   "cell_type": "markdown",
   "id": "d494371b",
   "metadata": {},
   "source": [
    "## compare"
   ]
  },
  {
   "cell_type": "code",
   "execution_count": 18,
   "id": "a680f028",
   "metadata": {},
   "outputs": [],
   "source": [
    "import pandas as pd\n",
    "%matplotlib inline\n",
    "import matplotlib.pyplot as plt"
   ]
  },
  {
   "cell_type": "code",
   "execution_count": 15,
   "id": "03333a31",
   "metadata": {},
   "outputs": [
    {
     "data": {
      "text/plain": [
       "0      0.101429\n",
       "1      0.141450\n",
       "2      0.061330\n",
       "3      0.080517\n",
       "4      0.098963\n",
       "         ...   \n",
       "151    0.345280\n",
       "152    0.078954\n",
       "153    0.073679\n",
       "154    0.097725\n",
       "155    0.120341\n",
       "Name: ap, Length: 156, dtype: float64"
      ]
     },
     "execution_count": 15,
     "metadata": {},
     "output_type": "execute_result"
    }
   ],
   "source": [
    "ap_auroc_df['ap']"
   ]
  },
  {
   "cell_type": "code",
   "execution_count": 42,
   "id": "78e4308d",
   "metadata": {},
   "outputs": [
    {
     "data": {
      "image/png": "[encoded data removed]",
      "text/plain": [
       "<Figure size 600x600 with 1 Axes>"
      ]
     },
     "metadata": {},
     "output_type": "display_data"
    }
   ],
   "source": [
    "# Create the scatter plot\n",
    "plt.figure(figsize=(6, 6))  # Adjust figure size if needed\n",
    "\n",
    "x = ap_auroc_df_author['ap']\n",
    "y = ap_auroc_df['ap']\n",
    "\n",
    "# Plot df1\n",
    "plt.scatter(x, y, label='AP', color='blue', marker='o')\n",
    "\n",
    "# Add labels and title\n",
    "plt.xlabel('Downloaded embeds')\n",
    "plt.ylabel('Reproduced embeds (200 epochs)')\n",
    "plt.title('AP, correlation = ' + (str(round(x.corr(y), 4 ))))\n",
    "\n",
    "plt.plot([0, max(x.max(), y.max())*1.1], [0, max(x.max(), y.max())*1.1], color='red', linestyle='--', label='45-degree line')\n",
    "\n",
    "plt.xlim([0, max(x.max(), y.max())*1.1])\n",
    "plt.ylim([0, max(x.max(), y.max())*1.1])\n",
    "\n",
    "# Add legend\n",
    "plt.legend()\n",
    "\n",
    "# Show the plot\n",
    "plt.grid(True)\n",
    "plt.show()"
   ]
  },
  {
   "cell_type": "code",
   "execution_count": null,
   "id": "e33a6f7f",
   "metadata": {},
   "outputs": [],
   "source": [
    "# Create the scatter plot\n",
    "plt.figure(figsize=(6, 6))  # Adjust figure size if needed\n",
    "\n",
    "x = ap_auroc_df_author['auroc']\n",
    "y = ap_auroc_df['auroc']\n",
    "\n",
    "# Plot df1\n",
    "plt.scatter(x, y, label='AUROC', color='blue', marker='o')\n",
    "\n",
    "# Add labels and title\n",
    "plt.xlabel('Downloaded embeds')\n",
    "plt.ylabel('Reproduced embeds (200 epochs)')\n",
    "plt.title('AUROC, correlation = ' + (str(round(x.corr(y), 4 ))))\n",
    "\n",
    "plt.plot([0, max(x.max(), y.max())*1.1], [0, max(x.max(), y.max())*1.1], color='red', linestyle='--', label='45-degree line')\n",
    "\n",
    "plt.xlim([0, max(x.max(), y.max())*1.1])\n",
    "plt.ylim([0, max(x.max(), y.max())*1.1])\n",
    "\n",
    "# Add legend\n",
    "plt.legend()\n",
    "\n",
    "# Show the plot\n",
    "plt.grid(True)\n",
    "plt.show()"
   ]
  },
  {
   "cell_type": "code",
   "execution_count": null,
   "id": "8cf78ba7",
   "metadata": {},
   "outputs": [],
   "source": []
  },
  {
   "cell_type": "code",
   "execution_count": null,
   "id": "000fed56",
   "metadata": {},
   "outputs": [],
   "source": []
  },
  {
   "cell_type": "code",
   "execution_count": null,
   "id": "672e8c99",
   "metadata": {},
   "outputs": [],
   "source": []
  },
  {
   "cell_type": "code",
   "execution_count": null,
   "id": "683a7208",
   "metadata": {},
   "outputs": [],
   "source": []
  }
 ],
 "metadata": {
  "kernelspec": {
   "display_name": "Python (pinnacle)",
   "language": "python",
   "name": "pinnacle"
  },
  "language_info": {
   "codemirror_mode": {
    "name": "ipython",
    "version": 3
   },
   "file_extension": ".py",
   "mimetype": "text/x-python",
   "name": "python",
   "nbconvert_exporter": "python",
   "pygments_lexer": "ipython3",
   "version": "3.8.13"
  }
 },
 "nbformat": 4,
 "nbformat_minor": 5
}
