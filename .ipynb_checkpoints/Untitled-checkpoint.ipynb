{
 "cells": [
  {
   "cell_type": "code",
   "execution_count": 1,
   "id": "0325fcce",
   "metadata": {},
   "outputs": [
    {
     "data": {
      "text/plain": [
       "'/home/yang1641/PINNACLE'"
      ]
     },
     "execution_count": 1,
     "metadata": {},
     "output_type": "execute_result"
    }
   ],
   "source": [
    "pwd"
   ]
  },
  {
   "cell_type": "code",
   "execution_count": 4,
   "id": "52f3658e",
   "metadata": {},
   "outputs": [
    {
     "name": "stdout",
     "output_type": "stream",
     "text": [
      "/home/yang1641/PINNACLE/pinnacle\n"
     ]
    }
   ],
   "source": [
    "cd pinnacle"
   ]
  },
  {
   "cell_type": "code",
   "execution_count": 5,
   "id": "fd5b38d0",
   "metadata": {},
   "outputs": [
    {
     "data": {
      "text/plain": [
       "'/home/yang1641/PINNACLE/pinnacle'"
      ]
     },
     "execution_count": 5,
     "metadata": {},
     "output_type": "execute_result"
    }
   ],
   "source": [
    "pwd"
   ]
  },
  {
   "cell_type": "code",
   "execution_count": 7,
   "id": "65efd576",
   "metadata": {},
   "outputs": [],
   "source": [
    "# General\n",
    "import numpy as np\n",
    "import random\n",
    "import argparse\n",
    "import os\n",
    "import copy\n",
    "\n",
    "# Pytorch\n",
    "import torch\n",
    "import torch.nn as nn\n",
    "from torch_geometric.utils.convert import to_networkx, to_scipy_sparse_matrix\n",
    "from torch_geometric.data import Data\n",
    "from torch_geometric.utils import negative_sampling\n",
    "\n",
    "# Center loss\n",
    "from center_loss import CenterLoss\n",
    "\n",
    "# W&B\n",
    "import wandb\n",
    "\n",
    "# Own code\n",
    "from generate_input import read_data, get_metapaths, get_centerloss_labels\n",
    "import model as mdl\n",
    "import utils\n",
    "import minibatch_utils as mb_utils\n",
    "from parse_args import get_args, get_hparams"
   ]
  },
  {
   "cell_type": "code",
   "execution_count": 8,
   "id": "ca079e24",
   "metadata": {},
   "outputs": [
    {
     "name": "stdout",
     "output_type": "stream",
     "text": [
      "SEED: 3\n"
     ]
    }
   ],
   "source": [
    "# Seed\n",
    "seed = 3\n",
    "print(\"SEED:\", seed)\n",
    "torch.manual_seed(seed)\n",
    "torch.cuda.manual_seed(seed)\n",
    "torch.cuda.manual_seed_all(seed) \n",
    "np.random.seed(seed)\n",
    "random.seed(seed)\n",
    "# torch.manual_seed(seed)\n",
    "torch.backends.cudnn.deterministic = True"
   ]
  },
  {
   "cell_type": "code",
   "execution_count": 9,
   "id": "3c69399f",
   "metadata": {},
   "outputs": [
    {
     "data": {
      "text/plain": [
       "True"
      ]
     },
     "execution_count": 9,
     "metadata": {},
     "output_type": "execute_result"
    }
   ],
   "source": [
    "torch.cuda.is_available()"
   ]
  },
  {
   "cell_type": "code",
   "execution_count": 20,
   "id": "bc640f34",
   "metadata": {},
   "outputs": [],
   "source": [
    "# see https://github.com/mims-harvard/PINNACLE/blob/main/pinnacle/run_pinnacle.sh\n",
    "# and https://github.com/mims-harvard/PINNACLE/blob/main/pinnacle/parse_args.py\n",
    "\n",
    "args_manual = {\n",
    "    'pc_att_channels': 16,\n",
    "    'feat_mat': 1024, \n",
    "    'output': 16,\n",
    "    'hidden': 64,\n",
    "    'lr': 0.01,\n",
    "    'wd': 5e-4,\n",
    "    'dropout': 0.6,\n",
    "    'gradclip': 1.0,\n",
    "    'n_heads': 8,\n",
    "    'lmbda': 0.1,\n",
    "    'theta': 0.3,\n",
    "    'lr_cent': 0.1,\n",
    "    'loss_type': \"BCE\",\n",
    "    'plot': False,\n",
    "    'G_f': '/scratch/gilbreth/yang1641/exome/data/PINNACLE/networks/global_ppi_edgelist.txt', \n",
    "    'ppi_dir': '/scratch/gilbreth/yang1641/exome/data/PINNACLE/networks/ppi_edgelists/', \n",
    "    'mg_f': '/scratch/gilbreth/yang1641/exome/data/PINNACLE/networks/mg_edgelist.txt', \n",
    "    'epochs': 10, \n",
    "    'resume_run': '', \n",
    "    'loader': 'graphsaint', \n",
    "    'batch_size': 8, \n",
    "    'norm': None,\n",
    "    'save_prefix': '/scratch/gilbreth/yang1641/exome/results/pinnacle/reproduce/epoch10/try1'\n",
    "              }"
   ]
  },
  {
   "cell_type": "code",
   "execution_count": 21,
   "id": "a1b23372",
   "metadata": {},
   "outputs": [
    {
     "name": "stdout",
     "output_type": "stream",
     "text": [
      "Namespace(G_f='/scratch/gilbreth/yang1641/exome/data/PINNACLE/networks/global_ppi_edgelist.txt', batch_size=8, dropout=0.6, epochs=10, feat_mat=1024, gradclip=1.0, hidden=64, lmbda=0.1, loader='graphsaint', loss_type='BCE', lr=0.01, lr_cent=0.1, mg_f='/scratch/gilbreth/yang1641/exome/data/PINNACLE/networks/mg_edgelist.txt', n_heads=8, norm=None, output=16, pc_att_channels=16, plot=False, ppi_dir='/scratch/gilbreth/yang1641/exome/data/PINNACLE/networks/ppi_edgelists/', resume_run='', save_prefix='/scratch/gilbreth/yang1641/exome/results/pinnacle/reproduce/epoch10/try1', theta=0.3, wd=0.0005)\n",
      "Hyperparameters: {'pc_att_channels': 16, 'feat_mat': 1024, 'output': 16, 'hidden': 64, 'lr': 0.01, 'wd': 0.0005, 'dropout': 0.6, 'gradclip': 1.0, 'n_heads': 8, 'lambda': 0.1, 'theta': 0.3, 'lr_cent': 0.1, 'loss_type': 'BCE', 'plot': False}\n"
     ]
    }
   ],
   "source": [
    "import argparse\n",
    "\n",
    "# Convert dictionary to argparse Namespace\n",
    "args = argparse.Namespace(**args_manual)\n",
    "\n",
    "type(args)\n",
    "print(args)\n",
    "\n",
    "# Generate hyperparameters\n",
    "hparams_raw = get_hparams(args)"
   ]
  },
  {
   "cell_type": "code",
   "execution_count": 22,
   "id": "06ca0501",
   "metadata": {},
   "outputs": [],
   "source": [
    "!mkdir -p /scratch/gilbreth/yang1641/exome/results/pinnacle/reproduce/epoch10"
   ]
  },
  {
   "cell_type": "code",
   "execution_count": 23,
   "id": "74649de5",
   "metadata": {},
   "outputs": [
    {
     "name": "stdout",
     "output_type": "stream",
     "text": [
      "Saving log file to: /scratch/gilbreth/yang1641/exome/results/pinnacle/reproduce/epoch10/try1_gnn_train.log\n",
      "Using device: cuda\n",
      "NVIDIA A30\n"
     ]
    },
    {
     "name": "stderr",
     "output_type": "stream",
     "text": [
      "/home/yang1641/.conda/envs/pinnacle/lib/python3.8/site-packages/torch/cuda/__init__.py:146: UserWarning: \n",
      "NVIDIA A30 with CUDA capability sm_80 is not compatible with the current PyTorch installation.\n",
      "The current PyTorch install supports CUDA capabilities sm_37 sm_50 sm_60 sm_61 sm_70 sm_75 compute_37.\n",
      "If you want to use the NVIDIA A30 GPU with PyTorch, please check the instructions at https://pytorch.org/get-started/locally/\n",
      "\n",
      "  warnings.warn(incompatible_device_warn.format(device_name, capability, \" \".join(arch_list), device_name))\n"
     ]
    }
   ],
   "source": [
    "# Define paths using args.save_prefix\n",
    "save_log = args.save_prefix + \"_gnn_train.log\"\n",
    "save_graph = args.save_prefix + \"_graph.pkl\"\n",
    "save_model = args.save_prefix + \"_model_save.pth\"\n",
    "save_plots = args.save_prefix + \"_train_embed_plots.pdf\"\n",
    "save_ppi_embed = args.save_prefix + \"_protein_embed.pth\"\n",
    "save_mg_embed = args.save_prefix + \"_mg_embed.pth\"\n",
    "save_labels_dict = args.save_prefix + \"_labels_dict.txt\"\n",
    "\n",
    "print(f\"Saving log file to: {save_log}\")\n",
    "\n",
    "\n",
    "log_f = open(save_log, \"w\")\n",
    "log_f.write(\"Number of epochs: %s \\n\" % args.epochs)\n",
    "log_f.write(\"Save model directory: %s \\n\" % save_model)\n",
    "log_f.write(\"Save embeddings directory: %s, %s \\n\" % (save_ppi_embed, save_mg_embed))\n",
    "log_f.write(\"Save graph: %s \\n\" % save_graph)\n",
    "\n",
    "device = torch.device('cuda' if torch.cuda.is_available() else 'cpu')\n",
    "print('Using device:', device)\n",
    "if device.type == 'cuda': print(torch.cuda.get_device_name(0))\n",
    "best_val_acc = -1\n",
    "best_model = None\n",
    "eps = 10e-4"
   ]
  },
  {
   "cell_type": "code",
   "execution_count": 24,
   "id": "f02e0ed9",
   "metadata": {},
   "outputs": [
    {
     "name": "stderr",
     "output_type": "stream",
     "text": [
      "Failed to detect the name of this notebook, you can set it manually with the WANDB_NOTEBOOK_NAME environment variable to enable code saving.\n",
      "\u001b[34m\u001b[1mwandb\u001b[0m: Logging into wandb.ai. (Learn how to deploy a W&B server locally: https://wandb.me/wandb-server)\n",
      "\u001b[34m\u001b[1mwandb\u001b[0m: You can find your API key in your browser here: https://wandb.ai/authorize\n",
      "\u001b[34m\u001b[1mwandb\u001b[0m: Paste an API key from your profile and hit enter, or press ctrl+c to quit:"
     ]
    },
    {
     "name": "stdout",
     "output_type": "stream",
     "text": [
      " ········\n"
     ]
    },
    {
     "name": "stderr",
     "output_type": "stream",
     "text": [
      "\u001b[34m\u001b[1mwandb\u001b[0m: Appending key for api.wandb.ai to your netrc file: /home/yang1641/.netrc\n"
     ]
    },
    {
     "data": {
      "text/html": [
       "wandb version 0.19.7 is available!  To upgrade, please run:\n",
       " $ pip install wandb --upgrade"
      ],
      "text/plain": [
       "<IPython.core.display.HTML object>"
      ]
     },
     "metadata": {},
     "output_type": "display_data"
    },
    {
     "data": {
      "text/html": [
       "Tracking run with wandb version 0.13.4"
      ],
      "text/plain": [
       "<IPython.core.display.HTML object>"
      ]
     },
     "metadata": {},
     "output_type": "display_data"
    },
    {
     "data": {
      "text/html": [
       "Run data is saved locally in <code>/home/yang1641/PINNACLE/pinnacle/wandb/run-20250228_152500-3e5nwqu9</code>"
      ],
      "text/plain": [
       "<IPython.core.display.HTML object>"
      ]
     },
     "metadata": {},
     "output_type": "display_data"
    },
    {
     "data": {
      "text/html": [
       "Syncing run <strong><a href=\"https://wandb.ai/yang1641-purdue-university/pinnacle/runs/3e5nwqu9\" target=\"_blank\">prime-grass-1</a></strong> to <a href=\"https://wandb.ai/yang1641-purdue-university/pinnacle\" target=\"_blank\">Weights & Biases</a> (<a href=\"https://wandb.me/run\" target=\"_blank\">docs</a>)<br/>"
      ],
      "text/plain": [
       "<IPython.core.display.HTML object>"
      ]
     },
     "metadata": {},
     "output_type": "display_data"
    },
    {
     "data": {
      "text/html": [
       "<button onClick=\"this.nextSibling.style.display='block';this.style.display='none';\">Display W&B run</button><iframe src=\"https://wandb.ai/yang1641-purdue-university/pinnacle/runs/3e5nwqu9?jupyter=true\" style=\"border:none;width:100%;height:420px;display:none;\"></iframe>"
      ],
      "text/plain": [
       "<wandb.sdk.wandb_run.Run at 0x1480d77260d0>"
      ]
     },
     "execution_count": 24,
     "metadata": {},
     "output_type": "execute_result"
    }
   ],
   "source": [
    "wandb.init(config = hparams_raw, project = \"pinnacle\", entity = \"yang1641-purdue-university\")"
   ]
  },
  {
   "cell_type": "code",
   "execution_count": 25,
   "id": "c2e9959a",
   "metadata": {},
   "outputs": [],
   "source": [
    "hparams = wandb.config"
   ]
  },
  {
   "cell_type": "code",
   "execution_count": 27,
   "id": "a8f929c3",
   "metadata": {},
   "outputs": [
    {
     "data": {
      "text/plain": [
       "1024"
      ]
     },
     "execution_count": 27,
     "metadata": {},
     "output_type": "execute_result"
    }
   ],
   "source": [
    "hparams['feat_mat']"
   ]
  },
  {
   "cell_type": "code",
   "execution_count": 29,
   "id": "0707970f",
   "metadata": {},
   "outputs": [
    {
     "data": {
      "text/plain": [
       "'/scratch/gilbreth/yang1641/exome/data/PINNACLE/networks/global_ppi_edgelist.txt'"
      ]
     },
     "execution_count": 29,
     "metadata": {},
     "output_type": "execute_result"
    }
   ],
   "source": [
    "args.G_f"
   ]
  },
  {
   "cell_type": "code",
   "execution_count": 30,
   "id": "6a033dd5",
   "metadata": {},
   "outputs": [
    {
     "data": {
      "text/plain": [
       "'/scratch/gilbreth/yang1641/exome/data/PINNACLE/networks/ppi_edgelists/'"
      ]
     },
     "execution_count": 30,
     "metadata": {},
     "output_type": "execute_result"
    }
   ],
   "source": [
    "args.ppi_dir"
   ]
  },
  {
   "cell_type": "code",
   "execution_count": 31,
   "id": "22649871",
   "metadata": {},
   "outputs": [
    {
     "data": {
      "text/plain": [
       "'/scratch/gilbreth/yang1641/exome/data/PINNACLE/networks/mg_edgelist.txt'"
      ]
     },
     "execution_count": 31,
     "metadata": {},
     "output_type": "execute_result"
    }
   ],
   "source": [
    "args.mg_f"
   ]
  },
  {
   "cell_type": "code",
   "execution_count": 36,
   "id": "3881f6b7",
   "metadata": {},
   "outputs": [],
   "source": [
    "G_f = args.G_f\n",
    "ppi_dir = args.ppi_dir\n",
    "mg_f = args.mg_f\n",
    "feat_mat_dim = hparams['feat_mat']"
   ]
  },
  {
   "cell_type": "code",
   "execution_count": 34,
   "id": "043b779f",
   "metadata": {},
   "outputs": [],
   "source": [
    "import glob\n",
    "from collections import Counter\n",
    "import pandas as pd\n",
    "import numpy as np\n",
    "import random\n",
    "import networkx as nx\n",
    "import torch\n",
    "from torch_geometric.data import Data"
   ]
  },
  {
   "cell_type": "code",
   "execution_count": 38,
   "id": "c4958666",
   "metadata": {},
   "outputs": [],
   "source": [
    "from generate_input import split_data, read_ppi, create_data, read_global_ppi, read_data"
   ]
  },
  {
   "cell_type": "code",
   "execution_count": 39,
   "id": "932a001e",
   "metadata": {},
   "outputs": [
    {
     "name": "stdout",
     "output_type": "stream",
     "text": [
      "Number of PPI layers: 0 0 0 0\n"
     ]
    }
   ],
   "source": [
    "G = nx.read_edgelist(G_f)\n",
    "#G = read_global_ppi(G_f)\n",
    "\n",
    "feat_mat = torch.normal(torch.zeros(len(G.nodes), feat_mat_dim), std=1)\n",
    "\n",
    "# Read PPI layers\n",
    "orig_ppi_layers, ppi_layers, ppi_train, ppi_val, ppi_test = read_ppi(ppi_dir)\n",
    "print(\"Number of PPI layers:\", len(ppi_layers), len(ppi_train), len(ppi_val), len(ppi_test))\n",
    "\n",
    "# Read metagraph\n",
    "metagraph = nx.read_edgelist(mg_f, data=False, delimiter = \"\\t\", create_using=nx.DiGraph)\n",
    "assert nx.is_connected(metagraph.to_undirected())\n",
    "mg_feat_mat = torch.zeros(len(metagraph.nodes), feat_mat_dim)"
   ]
  },
  {
   "cell_type": "code",
   "execution_count": 42,
   "id": "d381a35c",
   "metadata": {},
   "outputs": [
    {
     "data": {
      "text/plain": [
       "'/scratch/gilbreth/yang1641/exome/data/PINNACLE/networks/ppi_edgelists/'"
      ]
     },
     "execution_count": 42,
     "metadata": {},
     "output_type": "execute_result"
    }
   ],
   "source": [
    "ppi_dir"
   ]
  },
  {
   "cell_type": "code",
   "execution_count": 43,
   "id": "cb74c7ec",
   "metadata": {},
   "outputs": [],
   "source": [
    "# inside read_ppi\n",
    "\n",
    "orig_ppi_layers = dict()\n",
    "ppi_layers = dict()\n",
    "ppi_train = dict()\n",
    "ppi_val = dict()\n",
    "ppi_test = dict()"
   ]
  },
  {
   "cell_type": "code",
   "execution_count": 44,
   "id": "761700da",
   "metadata": {},
   "outputs": [
    {
     "data": {
      "text/plain": [
       "[]"
      ]
     },
     "execution_count": 44,
     "metadata": {},
     "output_type": "execute_result"
    }
   ],
   "source": [
    "glob.glob(ppi_dir + \"*edgelist.txt\")"
   ]
  },
  {
   "cell_type": "code",
   "execution_count": null,
   "id": "17ded1ff",
   "metadata": {},
   "outputs": [],
   "source": [
    "for f in glob.glob(ppi_dir + \"*edgelist.txt\"): # Expected format of filename: <PPI_DIR>/<CONTEXT>.<suffix>\n",
    "\n",
    "        # Parse name of context\n",
    "        context = f.split(ppi_dir)[1].split(\".\")[0].replace(\"_edgelist\", \"\")\n",
    "        context = \"cluster:\" + context.replace(\"_\", \" \")\n",
    "\n",
    "        # Read edgelist\n",
    "        ppi = nx.read_edgelist(f)\n",
    "\n",
    "        # Relabel PPI nodes\n",
    "        mapping = {n: idx for idx, n in enumerate(ppi.nodes())}\n",
    "        ppi_layers[context] = nx.relabel_nodes(ppi, mapping)\n",
    "        orig_ppi_layers[context] = ppi\n",
    "        assert nx.is_connected(ppi_layers[context])\n",
    "\n",
    "        # Split into train/val/test\n",
    "        ppi_train[context], ppi_val[context], ppi_test[context] = split_data(len(ppi_layers[context].edges))"
   ]
  },
  {
   "cell_type": "code",
   "execution_count": null,
   "id": "e2b5bdf2",
   "metadata": {},
   "outputs": [],
   "source": []
  },
  {
   "cell_type": "code",
   "execution_count": null,
   "id": "febaa422",
   "metadata": {},
   "outputs": [],
   "source": []
  },
  {
   "cell_type": "code",
   "execution_count": null,
   "id": "a55ac5e9",
   "metadata": {},
   "outputs": [],
   "source": []
  },
  {
   "cell_type": "code",
   "execution_count": null,
   "id": "70cc89e7",
   "metadata": {},
   "outputs": [],
   "source": []
  },
  {
   "cell_type": "code",
   "execution_count": null,
   "id": "7fb33ee0",
   "metadata": {},
   "outputs": [],
   "source": []
  },
  {
   "cell_type": "code",
   "execution_count": 28,
   "id": "5d3756ca",
   "metadata": {},
   "outputs": [
    {
     "name": "stdout",
     "output_type": "stream",
     "text": [
      "Number of PPI layers: 0 0 0 0\n",
      "Number of nodes: 218 Number of edges: 4018\n",
      "{}\n"
     ]
    },
    {
     "ename": "AssertionError",
     "evalue": "{'endothelial cell', 'endothelial cell of vascular tree', 'corneal keratocyte', 'hillock cell of prostate epithelium', 'conjunctival epithelial cell', 'transit amplifying cell of large intestine', 'intrahepatic cholangiocyte', 'keratinocyte', 'lacrimal gland functional unit cell', 'melanocyte', 'goblet cell', 'artery endothelial cell', 'ciliated cell', 'pericyte cell', 'naive regulatory t cell', 'schwann cell', 'adipocyte', 'langerhans cell', 'ciliated epithelial cell', 'lymphatic endothelial cell', 'smooth muscle cell', 'respiratory mucous cell', 'vascular associated smooth muscle cell', 'salivary gland cell', 'retinal bipolar neuron', 'cd8-positive, alpha-beta cytotoxic t cell', 'hepatocyte', 'sperm', 'retina horizontal cell', 'liver dendritic cell', 'duodenum glandular cell', 'plasmacytoid dendritic cell', 'cardiac endothelial cell', 'fibroblast of cardiac tissue', 'pulmonary ionocyte', 'limbal stromal cell', 'dn1 thymic pro-t cell', 'fast muscle cell', 'dn4 thymocyte', 'duct epithelial cell', 'erythroid progenitor', 'club cell of prostate epithelium', 'tongue muscle cell', 'type i pneumocyte', 'hillock-club cell of prostate epithelium', 'retinal blood vessel endothelial cell', 'pancreatic beta cell', 'bronchial smooth muscle cell', 'granulocyte', 'cell of skeletal muscle', 'pancreatic alpha cell', 't follicular helper cell', 'muscle cell', 'paneth cell of epithelium of large intestine', 'pancreatic stellate cell', 'connective tissue cell', 'endothelial cell of lymphatic vessel', 'regulatory t cell', 'cd24 neutrophil', 'intestinal crypt stem cell of small intestine', 'small intestine goblet cell', 'radial glial cell', 'mesothelial cell', 'retinal ganglion cell', 'myeloid progenitor', 'epithelial cell of lacrimal sac', 'immune cell', 'pancreatic delta cell', 'skeletal muscle satellite stem cell', 'mucus secreting cell', 'endothelial cell of artery', 'cd141-positive myeloid dendritic cell', 'non-classical monocyte', 'classical monocyte', 'myofibroblast cell', 'fibroblast', 'respiratory goblet cell', 'type i nk t cell', 'ciliary body', 'acinar cell of salivary gland', 'b cell', 'corneal epithelial cell', 'ionocyte', 'immature natural killer cell', 'pancreatic acinar cell', 'myeloid dendritic cell', 'secretory cell', 'lung microvascular endothelial cell', 'basal cell of prostate epithelium', 'cd4-positive helper t cell', 'myeloid cell', 'macrophage', 'nk cell', 'epithelial cell of uterus', 'pancreatic ductal cell', 'nampt neutrophil', 'muller cell', 'memory b cell', 'plasmablast', 'serous cell of epithelium of trachea', 'hematopoietic stem cell', 'intestinal enteroendocrine cell', 'cd8-positive, alpha-beta cytokine secreting effector t cell', 'intestinal crypt stem cell', 'alveolar fibroblast', 'basal cell', 'enterocyte of epithelium of small intestine', 'epithelial cell', 'cardiac muscle cell', 'intestinal tuft cell', 'luminal cell of prostate epithelium', 'myoepithelial cell', 'adventitial cell', 'serous cell of epithelium of bronchus', 'capillary endothelial cell', 'ocular surface cell', 'gut endothelial cell', 'paneth cell of epithelium of small intestine', 'type ii pneumocyte', 'medullary thymic epithelial cell', 'dn3 thymocyte', 'cd1c-positive myeloid dendritic cell', 'monocyte', 'plasma cell', 'pancreatic pp cell', 'bladder urothelial cell', 'myometrial cell', 'microglial cell', 'vein endothelial cell', 'cd4-positive, alpha-beta memory t cell', 'transit amplifying cell of small intestine', 'intestinal crypt stem cell of large intestine', 'stromal cell', 'immature enterocyte', 'mesenchymal stem cell', 'bronchial vessel endothelial cell', 'limbal stem cell', 'kidney epithelial cell', 'enterocyte of epithelium of large intestine', 'tendon cell', 'mature conventional dendritic cell', 'club cell', 'lung ciliated cell', 'dendritic cell', 'eye photoreceptor cell', 'intermediate monocyte', 'mature nk t cell', 'tracheal goblet cell', 'luminal epithelial cell of mammary gland', 'mature enterocyte', 'retinal pigment epithelial cell', 'endothelial cell of hepatic sinusoid', 'large intestine goblet cell', 'double-positive, alpha-beta thymocyte', 'naive thymus-derived cd4-positive, alpha-beta t cell', 'fibroblast of breast'}",
     "output_type": "error",
     "traceback": [
      "\u001b[0;31m---------------------------------------------------------------------------\u001b[0m",
      "\u001b[0;31mAssertionError\u001b[0m                            Traceback (most recent call last)",
      "Cell \u001b[0;32mIn[28], line 2\u001b[0m\n\u001b[1;32m      1\u001b[0m \u001b[38;5;66;03m# Read data\u001b[39;00m\n\u001b[0;32m----> 2\u001b[0m ppi_data, mg_data, edge_attr_dict, celltype_map, tissue_neighbors, ppi_layers, metagraph \u001b[38;5;241m=\u001b[39m \u001b[43mread_data\u001b[49m\u001b[43m(\u001b[49m\u001b[43margs\u001b[49m\u001b[38;5;241;43m.\u001b[39;49m\u001b[43mG_f\u001b[49m\u001b[43m,\u001b[49m\u001b[43m \u001b[49m\u001b[43margs\u001b[49m\u001b[38;5;241;43m.\u001b[39;49m\u001b[43mppi_dir\u001b[49m\u001b[43m,\u001b[49m\u001b[43m \u001b[49m\u001b[43margs\u001b[49m\u001b[38;5;241;43m.\u001b[39;49m\u001b[43mmg_f\u001b[49m\u001b[43m,\u001b[49m\u001b[43m \u001b[49m\u001b[43mhparams\u001b[49m\u001b[43m[\u001b[49m\u001b[38;5;124;43m'\u001b[39;49m\u001b[38;5;124;43mfeat_mat\u001b[39;49m\u001b[38;5;124;43m'\u001b[39;49m\u001b[43m]\u001b[49m\u001b[43m)\u001b[49m\n",
      "File \u001b[0;32m~/PINNACLE/pinnacle/generate_input.py:101\u001b[0m, in \u001b[0;36mread_data\u001b[0;34m(G_f, ppi_dir, mg_f, feat_mat_dim)\u001b[0m\n\u001b[1;32m     99\u001b[0m mg_mapping \u001b[38;5;241m=\u001b[39m {n: i \u001b[38;5;28;01mfor\u001b[39;00m i, n \u001b[38;5;129;01min\u001b[39;00m \u001b[38;5;28menumerate\u001b[39m(\u001b[38;5;28msorted\u001b[39m(ppi_layers))}\n\u001b[1;32m    100\u001b[0m mg_mapping\u001b[38;5;241m.\u001b[39mupdate({n: i \u001b[38;5;241m+\u001b[39m \u001b[38;5;28mlen\u001b[39m(ppi_layers) \u001b[38;5;28;01mfor\u001b[39;00m i, n \u001b[38;5;129;01min\u001b[39;00m \u001b[38;5;28menumerate\u001b[39m(\u001b[38;5;28msorted\u001b[39m([n \u001b[38;5;28;01mfor\u001b[39;00m n \u001b[38;5;129;01min\u001b[39;00m metagraph\u001b[38;5;241m.\u001b[39mnodes \u001b[38;5;28;01mif\u001b[39;00m \u001b[38;5;124m\"\u001b[39m\u001b[38;5;124mBTO\u001b[39m\u001b[38;5;124m\"\u001b[39m \u001b[38;5;129;01min\u001b[39;00m n]))})\n\u001b[0;32m--> 101\u001b[0m \u001b[38;5;28;01massert\u001b[39;00m \u001b[38;5;28mlen\u001b[39m(mg_mapping) \u001b[38;5;241m==\u001b[39m \u001b[38;5;28mlen\u001b[39m(metagraph\u001b[38;5;241m.\u001b[39mnodes), \u001b[38;5;28mset\u001b[39m(metagraph\u001b[38;5;241m.\u001b[39mnodes)\u001b[38;5;241m.\u001b[39mdifference(\u001b[38;5;28mset\u001b[39m(\u001b[38;5;28mlist\u001b[39m(mg_mapping\u001b[38;5;241m.\u001b[39mkeys())))\n\u001b[1;32m    102\u001b[0m \u001b[38;5;28mprint\u001b[39m(mg_mapping)\n\u001b[1;32m    104\u001b[0m \u001b[38;5;66;03m# Set up Data object\u001b[39;00m\n",
      "\u001b[0;31mAssertionError\u001b[0m: {'endothelial cell', 'endothelial cell of vascular tree', 'corneal keratocyte', 'hillock cell of prostate epithelium', 'conjunctival epithelial cell', 'transit amplifying cell of large intestine', 'intrahepatic cholangiocyte', 'keratinocyte', 'lacrimal gland functional unit cell', 'melanocyte', 'goblet cell', 'artery endothelial cell', 'ciliated cell', 'pericyte cell', 'naive regulatory t cell', 'schwann cell', 'adipocyte', 'langerhans cell', 'ciliated epithelial cell', 'lymphatic endothelial cell', 'smooth muscle cell', 'respiratory mucous cell', 'vascular associated smooth muscle cell', 'salivary gland cell', 'retinal bipolar neuron', 'cd8-positive, alpha-beta cytotoxic t cell', 'hepatocyte', 'sperm', 'retina horizontal cell', 'liver dendritic cell', 'duodenum glandular cell', 'plasmacytoid dendritic cell', 'cardiac endothelial cell', 'fibroblast of cardiac tissue', 'pulmonary ionocyte', 'limbal stromal cell', 'dn1 thymic pro-t cell', 'fast muscle cell', 'dn4 thymocyte', 'duct epithelial cell', 'erythroid progenitor', 'club cell of prostate epithelium', 'tongue muscle cell', 'type i pneumocyte', 'hillock-club cell of prostate epithelium', 'retinal blood vessel endothelial cell', 'pancreatic beta cell', 'bronchial smooth muscle cell', 'granulocyte', 'cell of skeletal muscle', 'pancreatic alpha cell', 't follicular helper cell', 'muscle cell', 'paneth cell of epithelium of large intestine', 'pancreatic stellate cell', 'connective tissue cell', 'endothelial cell of lymphatic vessel', 'regulatory t cell', 'cd24 neutrophil', 'intestinal crypt stem cell of small intestine', 'small intestine goblet cell', 'radial glial cell', 'mesothelial cell', 'retinal ganglion cell', 'myeloid progenitor', 'epithelial cell of lacrimal sac', 'immune cell', 'pancreatic delta cell', 'skeletal muscle satellite stem cell', 'mucus secreting cell', 'endothelial cell of artery', 'cd141-positive myeloid dendritic cell', 'non-classical monocyte', 'classical monocyte', 'myofibroblast cell', 'fibroblast', 'respiratory goblet cell', 'type i nk t cell', 'ciliary body', 'acinar cell of salivary gland', 'b cell', 'corneal epithelial cell', 'ionocyte', 'immature natural killer cell', 'pancreatic acinar cell', 'myeloid dendritic cell', 'secretory cell', 'lung microvascular endothelial cell', 'basal cell of prostate epithelium', 'cd4-positive helper t cell', 'myeloid cell', 'macrophage', 'nk cell', 'epithelial cell of uterus', 'pancreatic ductal cell', 'nampt neutrophil', 'muller cell', 'memory b cell', 'plasmablast', 'serous cell of epithelium of trachea', 'hematopoietic stem cell', 'intestinal enteroendocrine cell', 'cd8-positive, alpha-beta cytokine secreting effector t cell', 'intestinal crypt stem cell', 'alveolar fibroblast', 'basal cell', 'enterocyte of epithelium of small intestine', 'epithelial cell', 'cardiac muscle cell', 'intestinal tuft cell', 'luminal cell of prostate epithelium', 'myoepithelial cell', 'adventitial cell', 'serous cell of epithelium of bronchus', 'capillary endothelial cell', 'ocular surface cell', 'gut endothelial cell', 'paneth cell of epithelium of small intestine', 'type ii pneumocyte', 'medullary thymic epithelial cell', 'dn3 thymocyte', 'cd1c-positive myeloid dendritic cell', 'monocyte', 'plasma cell', 'pancreatic pp cell', 'bladder urothelial cell', 'myometrial cell', 'microglial cell', 'vein endothelial cell', 'cd4-positive, alpha-beta memory t cell', 'transit amplifying cell of small intestine', 'intestinal crypt stem cell of large intestine', 'stromal cell', 'immature enterocyte', 'mesenchymal stem cell', 'bronchial vessel endothelial cell', 'limbal stem cell', 'kidney epithelial cell', 'enterocyte of epithelium of large intestine', 'tendon cell', 'mature conventional dendritic cell', 'club cell', 'lung ciliated cell', 'dendritic cell', 'eye photoreceptor cell', 'intermediate monocyte', 'mature nk t cell', 'tracheal goblet cell', 'luminal epithelial cell of mammary gland', 'mature enterocyte', 'retinal pigment epithelial cell', 'endothelial cell of hepatic sinusoid', 'large intestine goblet cell', 'double-positive, alpha-beta thymocyte', 'naive thymus-derived cd4-positive, alpha-beta t cell', 'fibroblast of breast'}"
     ]
    }
   ],
   "source": [
    "# Read data\n",
    "ppi_data, mg_data, edge_attr_dict, celltype_map, tissue_neighbors, ppi_layers, metagraph = read_data(args.G_f, args.ppi_dir, args.mg_f, hparams['feat_mat'])"
   ]
  },
  {
   "cell_type": "code",
   "execution_count": null,
   "id": "103b92e2",
   "metadata": {},
   "outputs": [],
   "source": []
  },
  {
   "cell_type": "code",
   "execution_count": null,
   "id": "23764f5a",
   "metadata": {},
   "outputs": [],
   "source": []
  },
  {
   "cell_type": "code",
   "execution_count": null,
   "id": "c0705012",
   "metadata": {},
   "outputs": [],
   "source": []
  }
 ],
 "metadata": {
  "kernelspec": {
   "display_name": "Python (pinnacle)",
   "language": "python",
   "name": "pinnacle"
  },
  "language_info": {
   "codemirror_mode": {
    "name": "ipython",
    "version": 3
   },
   "file_extension": ".py",
   "mimetype": "text/x-python",
   "name": "python",
   "nbconvert_exporter": "python",
   "pygments_lexer": "ipython3",
   "version": "3.8.13"
  }
 },
 "nbformat": 4,
 "nbformat_minor": 5
}
